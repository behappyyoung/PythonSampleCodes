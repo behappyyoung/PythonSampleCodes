{
 "cells": [
  {
   "cell_type": "code",
   "execution_count": 14,
   "id": "04b4346f",
   "metadata": {},
   "outputs": [
    {
     "data": {
      "text/plain": [
       "4"
      ]
     },
     "execution_count": 14,
     "metadata": {},
     "output_type": "execute_result"
    }
   ],
   "source": [
    "s = 'fadf/fadsfasd'\n",
    "s.find('/')"
   ]
  },
  {
   "cell_type": "code",
   "execution_count": 15,
   "id": "82f0dd85",
   "metadata": {},
   "outputs": [
    {
     "name": "stdout",
     "output_type": "stream",
     "text": [
      "fadf/fadsfasd\n",
      "fadf/fadsfasd\n",
      "adf/fadsfasdf\n",
      "f/fadsfasdfad\n",
      "adsfasdfadf/f\n",
      "asdfadf/fadsf\n",
      "df/fadsfasdfa\n",
      "sfasdfadf/fad\n",
      "df/fadsfasdfa\n",
      "asdfadf/fadsf\n",
      "adsfasdfadf/f\n",
      "f/fadsfasdfad\n",
      "adf/fadsfasdf\n"
     ]
    }
   ],
   "source": [
    "for i in range(len(s)):\n",
    "    print(s)\n",
    "    s = s[i:] + s[:i]"
   ]
  },
  {
   "cell_type": "code",
   "execution_count": 5,
   "id": "f6e00bda",
   "metadata": {},
   "outputs": [
    {
     "name": "stdout",
     "output_type": "stream",
     "text": [
      "M m\n"
     ]
    }
   ],
   "source": [
    "s = 'M'\n",
    "s.upper()\n",
    "sl = s.lower()\n",
    "print(s, sl)"
   ]
  },
  {
   "cell_type": "code",
   "execution_count": 5,
   "id": "84e8f164",
   "metadata": {},
   "outputs": [
    {
     "data": {
      "text/plain": [
       "'65432'"
      ]
     },
     "execution_count": 5,
     "metadata": {},
     "output_type": "execute_result"
    }
   ],
   "source": [
    "s = \"23456\"\n",
    "\n",
    "l = list(s)\n",
    "''.join(sorted(l, reverse=True))"
   ]
  },
  {
   "cell_type": "code",
   "execution_count": 4,
   "id": "44f1210e",
   "metadata": {},
   "outputs": [
    {
     "name": "stdout",
     "output_type": "stream",
     "text": [
      "[[1, [2, [4]], [3]], []]\n",
      "[1, [2, [4]], [3]]\n",
      "[]\n"
     ]
    }
   ],
   "source": [
    "ll = [[1, [2, [4]], [3]]]\n",
    "ll.append([])\n",
    "print(ll)\n",
    "for l in ll:\n",
    "    print(l)"
   ]
  }
 ],
 "metadata": {
  "kernelspec": {
   "display_name": "Python 3",
   "language": "python",
   "name": "python3"
  },
  "language_info": {
   "codemirror_mode": {
    "name": "ipython",
    "version": 3
   },
   "file_extension": ".py",
   "mimetype": "text/x-python",
   "name": "python",
   "nbconvert_exporter": "python",
   "pygments_lexer": "ipython3",
   "version": "3.6.9"
  }
 },
 "nbformat": 4,
 "nbformat_minor": 5
}
