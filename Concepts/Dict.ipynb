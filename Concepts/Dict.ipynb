{
 "cells": [
  {
   "cell_type": "code",
   "execution_count": 9,
   "id": "79ade8d3",
   "metadata": {},
   "outputs": [
    {
     "name": "stdout",
     "output_type": "stream",
     "text": [
      "{6: 6, 22: 2, 3: 3}\n",
      "[3, 6, 22] [(3, 3), (6, 6), (22, 2)]\n",
      "[(22, 2), (3, 3), (6, 6)]\n",
      "[2, 3, 6]\n"
     ]
    }
   ],
   "source": [
    "d = dict()\n",
    "d[6] = 5\n",
    "d[6] += 1\n",
    "\n",
    "d[22] = 2\n",
    "d[3] = 3\n",
    "print(d)\n",
    "\n",
    "# sort by key\n",
    "ds = sorted(d)\n",
    "sk = sorted(d.items(), key=lambda x: x)\n",
    "print(ds, sk)\n",
    "\n",
    "\n",
    "# sort by value\n",
    "sd = sorted(d.items(), key=lambda x: x[1])\n",
    "print(sd)\n",
    "# only values\n",
    "sv = sorted(d.values())\n",
    "print(sv)"
   ]
  }
 ],
 "metadata": {
  "kernelspec": {
   "display_name": "Python 3",
   "language": "python",
   "name": "python3"
  },
  "language_info": {
   "codemirror_mode": {
    "name": "ipython",
    "version": 3
   },
   "file_extension": ".py",
   "mimetype": "text/x-python",
   "name": "python",
   "nbconvert_exporter": "python",
   "pygments_lexer": "ipython3",
   "version": "3.6.9"
  }
 },
 "nbformat": 4,
 "nbformat_minor": 5
}
