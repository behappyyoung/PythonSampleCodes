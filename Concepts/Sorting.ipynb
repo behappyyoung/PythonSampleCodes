{
 "cells": [
  {
   "cell_type": "code",
   "execution_count": null,
   "id": "9f458418",
   "metadata": {},
   "outputs": [],
   "source": [
    "\"\"\"\n",
    "    sorted\n",
    "    \n",
    "\"\"\""
   ]
  },
  {
   "cell_type": "code",
   "execution_count": 33,
   "id": "ccb93f2b",
   "metadata": {},
   "outputs": [
    {
     "name": "stdout",
     "output_type": "stream",
     "text": [
      "{'apple': '3apple4', 'peach': '2peach3', 'banana': '1banana2', 'mango': '4mango1'} ['apple', 'banana', 'mango', 'peach']\n",
      "{'apple': '3apple4', 'peach': '2peach3', 'banana': '1banana2', 'mango': '4mango1'} [('apple', '3apple4'), ('banana', '1banana2'), ('mango', '4mango1'), ('peach', '2peach3')] {'apple': '3apple4', 'banana': '1banana2', 'mango': '4mango1', 'peach': '2peach3'}\n",
      "# sorted by value {'apple': '3apple4', 'peach': '2peach3', 'banana': '1banana2', 'mango': '4mango1'} [('banana', '1banana2'), ('peach', '2peach3'), ('apple', '3apple4'), ('mango', '4mango1')] {'banana': '1banana2', 'peach': '2peach3', 'apple': '3apple4', 'mango': '4mango1'} \n",
      "\n",
      "# sorted by value2 {'apple': '3apple4', 'peach': '2peach3', 'banana': '1banana2', 'mango': '4mango1'} [('mango', '4mango1'), ('banana', '1banana2'), ('peach', '2peach3'), ('apple', '3apple4')] {'mango': '4mango1', 'banana': '1banana2', 'peach': '2peach3', 'apple': '3apple4'} \n",
      "\n",
      "{'apple': '3apple4', 'peach': '2peach3', 'banana': '1banana2', 'mango': '4mango1'} [('mango', '4mango1'), ('banana', '1banana2'), ('peach', '2peach3'), ('apple', '3apple4')] {'mango': '4mango1', 'banana': '1banana2', 'peach': '2peach3', 'apple': '3apple4'}\n"
     ]
    }
   ],
   "source": [
    "\"\"\"\n",
    "    sorting dictionary\n",
    "    \n",
    "\"\"\"\n",
    "\n",
    "obj = {'apple':'3apple4', 'peach': '2peach3', 'banana':'1banana2', 'mango': '4mango1'}\n",
    "sorted_obj = sorted(obj)\n",
    "print(obj, sorted_obj)\n",
    "\n",
    "# keep dictionary\n",
    "sorted_obj = sorted(obj.items())\n",
    "print(obj, sorted_obj, dict(sorted_obj))\n",
    "\n",
    "# sorted by value\n",
    "sorted_obj = sorted(obj.items(), key=lambda x: x[1])\n",
    "print('# sorted by value', obj, sorted_obj, dict(sorted_obj), '\\n')\n",
    "\n",
    "# sorte by value2\n",
    "sorted_obj = sorted(obj.items(), key=lambda x: x[1][-1]) \n",
    "print('# sorted by value2', obj, sorted_obj, dict(sorted_obj), '\\n')\n",
    "\n",
    "\n",
    "# sort by custom function - need functools.cmp_to_key\n",
    "def custom_sort(val1, val2):\n",
    "    if val1[1][-1] < val2[1][-1]:\n",
    "        return -1\n",
    "    else:\n",
    "        return 1\n",
    "\n",
    "import functools\n",
    "sorted_obj = sorted(obj.items(), key=functools.cmp_to_key(custom_sort))\n",
    "print(obj, sorted_obj, dict(sorted_obj))\n"
   ]
  },
  {
   "cell_type": "code",
   "execution_count": 15,
   "id": "9dcba445",
   "metadata": {},
   "outputs": [
    {
     "name": "stdout",
     "output_type": "stream",
     "text": [
      "['apple', 'banana', 'peach']\n"
     ]
    }
   ],
   "source": [
    "l = ['apple', 'peach', 'banana']\n",
    "l.sort()\n",
    "print(l)"
   ]
  },
  {
   "cell_type": "code",
   "execution_count": 6,
   "id": "5f1f880f",
   "metadata": {},
   "outputs": [
    {
     "name": "stdout",
     "output_type": "stream",
     "text": [
      "[('e', 3), ('t', 1), ('r', 1)]\n"
     ]
    }
   ],
   "source": [
    "\n",
    "\n",
    "d = {'e': 3, 't': 1, 'r': 1}\n",
    "t = sorted(d.items(), key=lambda x: x[1], reverse=True)\n",
    "print(t)\n"
   ]
  }
 ],
 "metadata": {
  "kernelspec": {
   "display_name": "Django Shell-Plus",
   "language": "python",
   "name": "django_extensions"
  },
  "language_info": {
   "codemirror_mode": {
    "name": "ipython",
    "version": 3
   },
   "file_extension": ".py",
   "mimetype": "text/x-python",
   "name": "python",
   "nbconvert_exporter": "python",
   "pygments_lexer": "ipython3",
   "version": "3.6.9"
  }
 },
 "nbformat": 4,
 "nbformat_minor": 5
}
