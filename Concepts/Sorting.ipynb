{
 "cells": [
  {
   "cell_type": "code",
   "execution_count": null,
   "id": "9f458418",
   "metadata": {},
   "outputs": [],
   "source": [
    "\"\"\"\n",
    "    sorted\n",
    "    \n",
    "\"\"\""
   ]
  },
  {
   "cell_type": "code",
   "execution_count": 33,
   "id": "ccb93f2b",
   "metadata": {},
   "outputs": [
    {
     "name": "stdout",
     "output_type": "stream",
     "text": [
      "{'apple': '3apple4', 'peach': '2peach3', 'banana': '1banana2', 'mango': '4mango1'} ['apple', 'banana', 'mango', 'peach']\n",
      "{'apple': '3apple4', 'peach': '2peach3', 'banana': '1banana2', 'mango': '4mango1'} [('apple', '3apple4'), ('banana', '1banana2'), ('mango', '4mango1'), ('peach', '2peach3')] {'apple': '3apple4', 'banana': '1banana2', 'mango': '4mango1', 'peach': '2peach3'}\n",
      "# sorted by value {'apple': '3apple4', 'peach': '2peach3', 'banana': '1banana2', 'mango': '4mango1'} [('banana', '1banana2'), ('peach', '2peach3'), ('apple', '3apple4'), ('mango', '4mango1')] {'banana': '1banana2', 'peach': '2peach3', 'apple': '3apple4', 'mango': '4mango1'} \n",
      "\n",
      "# sorted by value2 {'apple': '3apple4', 'peach': '2peach3', 'banana': '1banana2', 'mango': '4mango1'} [('mango', '4mango1'), ('banana', '1banana2'), ('peach', '2peach3'), ('apple', '3apple4')] {'mango': '4mango1', 'banana': '1banana2', 'peach': '2peach3', 'apple': '3apple4'} \n",
      "\n",
      "{'apple': '3apple4', 'peach': '2peach3', 'banana': '1banana2', 'mango': '4mango1'} [('mango', '4mango1'), ('banana', '1banana2'), ('peach', '2peach3'), ('apple', '3apple4')] {'mango': '4mango1', 'banana': '1banana2', 'peach': '2peach3', 'apple': '3apple4'}\n"
     ]
    }
   ],
   "source": [
    "\"\"\"\n",
    "    sorting dictionary\n",
    "    \n",
    "\"\"\"\n",
    "\n",
    "obj = {'apple':'3apple4', 'peach': '2peach3', 'banana':'1banana2', 'mango': '4mango1'}\n",
    "sorted_obj = sorted(obj)\n",
    "print(obj, sorted_obj)\n",
    "\n",
    "# keep dictionary\n",
    "sorted_obj = sorted(obj.items())\n",
    "print(obj, sorted_obj, dict(sorted_obj))\n",
    "\n",
    "# sorted by value\n",
    "sorted_obj = sorted(obj.items(), key=lambda x: x[1])\n",
    "print('# sorted by value', obj, sorted_obj, dict(sorted_obj), '\\n')\n",
    "\n",
    "# sorte by value2\n",
    "sorted_obj = sorted(obj.items(), key=lambda x: x[1][-1]) \n",
    "print('# sorted by value2', obj, sorted_obj, dict(sorted_obj), '\\n')\n",
    "\n",
    "\n",
    "# sort by custom function - need functools.cmp_to_key\n",
    "def custom_sort(val1, val2):\n",
    "    if val1[1][-1] < val2[1][-1]:\n",
    "        return -1\n",
    "    else:\n",
    "        return 1\n",
    "\n",
    "import functools\n",
    "sorted_obj = sorted(obj.items(), key=functools.cmp_to_key(custom_sort))\n",
    "print(obj, sorted_obj, dict(sorted_obj))\n"
   ]
  },
  {
   "cell_type": "code",
   "execution_count": 15,
   "id": "9dcba445",
   "metadata": {},
   "outputs": [
    {
     "name": "stdout",
     "output_type": "stream",
     "text": [
      "['apple', 'banana', 'peach']\n"
     ]
    }
   ],
   "source": [
    "l = ['apple', 'peach', 'banana']\n",
    "l.sort()\n",
    "print(l)"
   ]
  },
  {
   "cell_type": "code",
   "execution_count": 38,
   "id": "5f1f880f",
   "metadata": {},
   "outputs": [
    {
     "name": "stdout",
     "output_type": "stream",
     "text": [
      "{1: 2, 2: 2}\n"
     ]
    },
    {
     "ename": "NameError",
     "evalue": "name 'factorial' is not defined",
     "output_type": "error",
     "traceback": [
      "\u001b[0;31m---------------------------------------------------------------------------\u001b[0m",
      "\u001b[0;31mNameError\u001b[0m                                 Traceback (most recent call last)",
      "\u001b[0;32m<ipython-input-38-03252534003a>\u001b[0m in \u001b[0;36m<module>\u001b[0;34m\u001b[0m\n\u001b[1;32m      3\u001b[0m \u001b[0mprint\u001b[0m\u001b[0;34m(\u001b[0m\u001b[0md\u001b[0m\u001b[0;34m)\u001b[0m\u001b[0;34m\u001b[0m\u001b[0;34m\u001b[0m\u001b[0m\n\u001b[1;32m      4\u001b[0m \u001b[0;36m1\u001b[0m \u001b[0;32min\u001b[0m \u001b[0md\u001b[0m\u001b[0;34m\u001b[0m\u001b[0;34m\u001b[0m\u001b[0m\n\u001b[0;32m----> 5\u001b[0;31m \u001b[0mfactorial\u001b[0m\u001b[0;34m(\u001b[0m\u001b[0;36m4\u001b[0m\u001b[0;34m)\u001b[0m\u001b[0;34m\u001b[0m\u001b[0;34m\u001b[0m\u001b[0m\n\u001b[0m",
      "\u001b[0;31mNameError\u001b[0m: name 'factorial' is not defined"
     ]
    }
   ],
   "source": [
    "d = {1:1, 2:2}\n",
    "d[1] += 1\n",
    "print(d)\n",
    "1 in d\n",
    "factorial(4)\n"
   ]
  }
 ],
 "metadata": {
  "kernelspec": {
   "display_name": "Django Shell-Plus",
   "language": "python",
   "name": "django_extensions"
  },
  "language_info": {
   "codemirror_mode": {
    "name": "ipython",
    "version": 3
   },
   "file_extension": ".py",
   "mimetype": "text/x-python",
   "name": "python",
   "nbconvert_exporter": "python",
   "pygments_lexer": "ipython3",
   "version": "3.6.9"
  }
 },
 "nbformat": 4,
 "nbformat_minor": 5
}
