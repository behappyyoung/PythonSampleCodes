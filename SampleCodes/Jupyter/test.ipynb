{
 "cells": [
  {
   "cell_type": "code",
   "execution_count": null,
   "metadata": {},
   "outputs": [
    {
     "name": "stdout",
     "output_type": "stream",
     "text": [
      "test notebook\n"
     ]
    }
   ],
   "source": [
    "s = 'test notebook'\n",
    "print(s)"
   ]
  },
  {
   "cell_type": "code",
   "execution_count": 3,
   "metadata": {},
   "outputs": [],
   "source": [
    "    class Node(object):\n",
    "\n",
    "        def __init__(self, suffix_node, start_index, end_index):\n",
    "            self.suffix_node = suffix_node\n",
    "            self.start_index = start_index\n",
    "            self.end_index = end_index\n",
    "\n",
    "        def __repr__(self):\n",
    "            return \"Node String: %s, start index: %d, end index: %d\" \\\n",
    "                   % (self.suffix_node, self.start_index, self.end_index)\n",
    "\n",
    "        def add_ch(self, ch):\n",
    "            self.suffix_node = self.suffix_node + ch\n",
    "\n",
    "        def remove_substr(self, substr):\n",
    "            self.suffix_node = self.suffix_node.split(substr)[1]\n"
   ]
  },
  {
   "cell_type": "code",
   "execution_count": 4,
   "metadata": {},
   "outputs": [],
   "source": [
    "n = Node('testa', 0, 1)"
   ]
  },
  {
   "cell_type": "code",
   "execution_count": 5,
   "metadata": {},
   "outputs": [
    {
     "name": "stdout",
     "output_type": "stream",
     "text": [
      "Node String: testa, start index: 0, end index: 1\n"
     ]
    }
   ],
   "source": [
    "print(n)"
   ]
  },
  {
   "cell_type": "code",
   "execution_count": null,
   "metadata": {},
   "outputs": [],
   "source": []
  }
 ],
 "metadata": {
  "kernelspec": {
   "display_name": "Python 2",
   "language": "python",
   "name": "python2"
  },
  "language_info": {
   "codemirror_mode": {
    "name": "ipython",
    "version": 2
   },
   "file_extension": ".py",
   "mimetype": "text/x-python",
   "name": "python",
   "nbconvert_exporter": "python",
   "pygments_lexer": "ipython2",
   "version": "2.7.10"
  }
 },
 "nbformat": 4,
 "nbformat_minor": 2
}
