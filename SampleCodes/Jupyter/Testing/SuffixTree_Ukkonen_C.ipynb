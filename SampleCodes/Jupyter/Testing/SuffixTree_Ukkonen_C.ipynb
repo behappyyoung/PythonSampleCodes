{
 "cells": [
  {
   "cell_type": "code",
   "execution_count": 10,
   "metadata": {},
   "outputs": [],
   "source": [
    "class SuffixTree(object):\n",
    "\n",
    "    def __init__(self, in_str):\n",
    "        global g_end\n",
    "        g_end = 1\n",
    "        self.suffix_tree = []\n",
    "        self.active_node = 0\n",
    "        self.active_edge = None\n",
    "        self.active_length = 0\n",
    "        self.remainder = 0\n",
    "        self.current_leaf = 1\n",
    "        self.current_edge = 0\n",
    "        self.in_str = in_str\n",
    "\n",
    "    def __repr__(self):\n",
    "        # global g_end\n",
    "        return \"in string:%s, tree:%s, end: %s, node:%s, edge:%s, length:%s, remainder%s\" \\\n",
    "               % (self.in_str, self.suffix_tree,g_end,  self.active_node, self.active_edge, self.active_length, self.remainder)\n",
    "\n",
    "    class Node(object):\n",
    "        def __init__(self, suffix_node, start_index, end_index, node_start, node_end=None):\n",
    "            self.suffix_node = suffix_node\n",
    "            self.start_index = start_index\n",
    "            self.end_index = end_index\n",
    "            self.node_start = node_start\n",
    "            self.node_end = node_end\n",
    "\n",
    "        def __repr__(self):\n",
    "            global g_end\n",
    "            return \"Node String: %s, start index: %d, end index: %s, node start: %s, node end: %s\" \\\n",
    "                   % (self.suffix_node, self.start_index, self.end_index if self.end_index else g_end, self.node_start, self.end_index if self.end_index else g_end)\n",
    "\n",
    "    def char_in_str(ch, s_list):\n",
    "        for s in s_list:\n",
    "            if ch == s[0]:\n",
    "                return s\n",
    "        return False\n",
    "\n",
    "    def add_char(ch, s_list):\n",
    "        new_list = {}\n",
    "        for s in s_list:\n",
    "            new_str = s + ch\n",
    "            print(s, ch, new_str)\n",
    "            new_list[new_str] = s_list.get(s)\n",
    "        return new_list\n",
    "\n",
    "    def update_suffix_tree(self, cur_index):\n",
    "\n",
    "        new_input = True\n",
    "        cur_char = self.in_str[cur_index]\n",
    "\n",
    "        for i in self.suffix_tree:\n",
    "\n",
    "            i.suffix_node = i.suffix_node + cur_char\n",
    "\n",
    "            if self.in_str[i.node_start] == self.in_str[cur_index]:\n",
    "                new_input = False\n",
    "                if i.suffix_node[:self.active_length+1]:\n",
    "                    self.active_edge = cur_char\n",
    "                    self.active_length = self.active_length + 1\n",
    "                    self.remainder = self.remainder + 1\n",
    "\n",
    "        print('add', cur_char, new_input)\n",
    "        if new_input:\n",
    "            global g_end\n",
    "            new_node = self.Node(cur_char, self.active_node, None, cur_index, None)\n",
    "            self.suffix_tree.append(new_node)\n",
    "            g_end = g_end + 1\n",
    "        else:\n",
    "            if self.suffix_tree[self.active_node]:\n",
    "                pass\n",
    "\n",
    "    def build_suffix(self):\n",
    "        new_node = self.Node(self.in_str[0], 0, None, 0, None)\n",
    "        self.suffix_tree.append(new_node)\n",
    "        for i in range(1, len(self.in_str)):\n",
    "            self.update_suffix_tree(i)\n",
    "\n",
    "    def find_substring(self, substring):\n",
    "        for i in self.suffix_tree:\n",
    "            print(i)"
   ]
  },
  {
   "cell_type": "code",
   "execution_count": 11,
   "metadata": {},
   "outputs": [],
   "source": [
    "sf = SuffixTree('test')"
   ]
  },
  {
   "cell_type": "code",
   "execution_count": 12,
   "metadata": {},
   "outputs": [
    {
     "data": {
      "text/plain": [
       "in string:test, tree:[], end: 1, node:0, edge:None, length:0, remainder0"
      ]
     },
     "execution_count": 12,
     "metadata": {},
     "output_type": "execute_result"
    }
   ],
   "source": [
    "sf"
   ]
  },
  {
   "cell_type": "code",
   "execution_count": 13,
   "metadata": {},
   "outputs": [
    {
     "name": "stdout",
     "output_type": "stream",
     "text": [
      "('add', 'e', True)\n",
      "('add', 's', True)\n",
      "('add', 't', False)\n"
     ]
    }
   ],
   "source": [
    "sf.build_suffix()"
   ]
  },
  {
   "cell_type": "code",
   "execution_count": 14,
   "metadata": {},
   "outputs": [
    {
     "data": {
      "text/plain": [
       "[Node String: test, start index: 0, end index: 3, node start: 0, node end: 3,\n",
       " Node String: est, start index: 0, end index: 3, node start: 1, node end: 3,\n",
       " Node String: st, start index: 0, end index: 3, node start: 2, node end: 3]"
      ]
     },
     "execution_count": 14,
     "metadata": {},
     "output_type": "execute_result"
    }
   ],
   "source": [
    "sf.suffix_tree"
   ]
  },
  {
   "cell_type": "code",
   "execution_count": 15,
   "metadata": {},
   "outputs": [
    {
     "data": {
      "text/plain": [
       "in string:test, tree:[Node String: test, start index: 0, end index: 3, node start: 0, node end: 3, Node String: est, start index: 0, end index: 3, node start: 1, node end: 3, Node String: st, start index: 0, end index: 3, node start: 2, node end: 3], end: 3, node:0, edge:t, length:1, remainder1"
      ]
     },
     "execution_count": 15,
     "metadata": {},
     "output_type": "execute_result"
    }
   ],
   "source": [
    "sf"
   ]
  },
  {
   "cell_type": "code",
   "execution_count": 16,
   "metadata": {},
   "outputs": [
    {
     "name": "stdout",
     "output_type": "stream",
     "text": [
      "Node String: test, start index: 0, end index: 3, node start: 0, node end: 3\n",
      "Node String: est, start index: 0, end index: 3, node start: 1, node end: 3\n",
      "Node String: st, start index: 0, end index: 3, node start: 2, node end: 3\n"
     ]
    }
   ],
   "source": [
    "sf.find_substring('test')"
   ]
  },
  {
   "cell_type": "code",
   "execution_count": null,
   "metadata": {},
   "outputs": [],
   "source": []
  },
  {
   "cell_type": "code",
   "execution_count": null,
   "metadata": {},
   "outputs": [],
   "source": []
  },
  {
   "cell_type": "code",
   "execution_count": null,
   "metadata": {},
   "outputs": [],
   "source": []
  }
 ],
 "metadata": {
  "kernelspec": {
   "display_name": "Python 2",
   "language": "python",
   "name": "python2"
  },
  "language_info": {
   "codemirror_mode": {
    "name": "ipython",
    "version": 2
   },
   "file_extension": ".py",
   "mimetype": "text/x-python",
   "name": "python",
   "nbconvert_exporter": "python",
   "pygments_lexer": "ipython2",
   "version": "2.7.10"
  }
 },
 "nbformat": 4,
 "nbformat_minor": 2
}
