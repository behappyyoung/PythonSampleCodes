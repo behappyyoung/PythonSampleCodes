{
 "cells": [
  {
   "cell_type": "code",
   "execution_count": 109,
   "metadata": {},
   "outputs": [],
   "source": [
    "class SuffixTree(object):\n",
    "\n",
    "    def __init__(self, in_str):\n",
    "        self.suffix_tree = []\n",
    "        self.active_node = 0\n",
    "        self.active_edge = None\n",
    "        self.active_length = 0\n",
    "        self.remainder = 0\n",
    "        self.current_leaf = 1\n",
    "        self.current_edge = 0\n",
    "        self.in_str = in_str\n",
    "        self.end = 1\n",
    "\n",
    "    def __repr__(self):\n",
    "        return \"in string:%s, tree:%s, node:%s, edge:%s, length:%s, remainder%s\" \\\n",
    "               % (self.in_str, self.suffix_tree, self.active_node, self.active_edge, self.active_length, self.remainder)\n",
    "\n",
    "    class Node(object):\n",
    "\n",
    "        def __init__(self, suffix_node, start_index, end_index):\n",
    "            self.suffix_node = suffix_node\n",
    "            self.start_index = start_index\n",
    "            self.end_index = end_index\n",
    "\n",
    "        def __repr__(self):\n",
    "            return \"Node String: %s, start index: %d, end index: %s\" \\\n",
    "                   % (self.suffix_node, self.start_index, self.end_index)\n",
    "\n",
    "    def char_in_str(ch, s_list):\n",
    "        for s in s_list:\n",
    "            if ch == s[0]:\n",
    "                return s\n",
    "        return False\n",
    "\n",
    "    def add_char(ch, s_list):\n",
    "        new_list = {}\n",
    "        for s in s_list:\n",
    "            new_str = s + ch\n",
    "            print(s, ch, new_str)\n",
    "            new_list[new_str] = s_list.get(s)\n",
    "        return new_list\n",
    "\n",
    "    def split_str(self, sub_list_str):\n",
    "        ## split\n",
    "        self.suffix_tree[self.active_edge] = self.current_leaf + 1\n",
    "\n",
    "        # current_leaf = current_leaf + 1\n",
    "        # suffix_tree[s] = current_leaf\n",
    "\n",
    "    def update_suffix_tree(self, cur_ch):\n",
    "        print(self.suffix_tree)\n",
    "        new_input = True\n",
    "        for i in self.suffix_tree:\n",
    "            i.suffix_node = i.suffix_node + cur_ch\n",
    "            if i.suffix_node[0] == cur_ch:\n",
    "                new_input = False\n",
    "                self.active_edge = cur_ch\n",
    "                self.active_length = self.active_length + 1\n",
    "                self.remainder = self.remainder + 1\n",
    "\n",
    "\n",
    "        if new_input:\n",
    "            new_node = self.Node(cur_ch, self.active_node, None)\n",
    "            self.suffix_tree.append(new_node)\n",
    "            self.end = self.end + 1\n",
    "        else:\n",
    "            if self.suffix_tree[self.active_node]:\n",
    "                pass\n",
    "\n",
    "    def build_suffix(self):\n",
    "        new_node = self.Node(self.in_str[0], 0, None)\n",
    "        self.suffix_tree.append(new_node)\n",
    "        self.current_leaf = 2\n",
    "        for s in self.in_str[1:]:\n",
    "            self.update_suffix_tree(s)\n",
    "\n",
    "    def find_substring(self, substring):\n",
    "        for i in self.suffix_tree:\n",
    "            print(i)"
   ]
  },
  {
   "cell_type": "code",
   "execution_count": 110,
   "metadata": {},
   "outputs": [],
   "source": [
    "sf = SuffixTree('testt')"
   ]
  },
  {
   "cell_type": "code",
   "execution_count": 111,
   "metadata": {},
   "outputs": [
    {
     "data": {
      "text/plain": [
       "in string:testt, tree:[], node:0, edge:None, length:0, remainder0"
      ]
     },
     "execution_count": 111,
     "metadata": {},
     "output_type": "execute_result"
    }
   ],
   "source": [
    "sf"
   ]
  },
  {
   "cell_type": "code",
   "execution_count": 112,
   "metadata": {},
   "outputs": [
    {
     "ename": "TypeError",
     "evalue": "%d format: a number is required, not NoneType",
     "output_type": "error",
     "traceback": [
      "\u001b[0;31m---------------------------------------------------------------------------\u001b[0m",
      "\u001b[0;31mTypeError\u001b[0m                                 Traceback (most recent call last)",
      "\u001b[0;32m<ipython-input-112-2331954f8b4d>\u001b[0m in \u001b[0;36m<module>\u001b[0;34m()\u001b[0m\n\u001b[0;32m----> 1\u001b[0;31m \u001b[0msf\u001b[0m\u001b[0;34m.\u001b[0m\u001b[0mbuild_suffix\u001b[0m\u001b[0;34m(\u001b[0m\u001b[0;34m)\u001b[0m\u001b[0;34m\u001b[0m\u001b[0m\n\u001b[0m",
      "\u001b[0;32m<ipython-input-109-cf68a395c4d5>\u001b[0m in \u001b[0;36mbuild_suffix\u001b[0;34m(self)\u001b[0m\n\u001b[1;32m     71\u001b[0m         \u001b[0mself\u001b[0m\u001b[0;34m.\u001b[0m\u001b[0mcurrent_leaf\u001b[0m \u001b[0;34m=\u001b[0m \u001b[0;36m2\u001b[0m\u001b[0;34m\u001b[0m\u001b[0m\n\u001b[1;32m     72\u001b[0m         \u001b[0;32mfor\u001b[0m \u001b[0ms\u001b[0m \u001b[0;32min\u001b[0m \u001b[0mself\u001b[0m\u001b[0;34m.\u001b[0m\u001b[0min_str\u001b[0m\u001b[0;34m[\u001b[0m\u001b[0;36m1\u001b[0m\u001b[0;34m:\u001b[0m\u001b[0;34m]\u001b[0m\u001b[0;34m:\u001b[0m\u001b[0;34m\u001b[0m\u001b[0m\n\u001b[0;32m---> 73\u001b[0;31m             \u001b[0mself\u001b[0m\u001b[0;34m.\u001b[0m\u001b[0mupdate_suffix_tree\u001b[0m\u001b[0;34m(\u001b[0m\u001b[0ms\u001b[0m\u001b[0;34m)\u001b[0m\u001b[0;34m\u001b[0m\u001b[0m\n\u001b[0m\u001b[1;32m     74\u001b[0m \u001b[0;34m\u001b[0m\u001b[0m\n\u001b[1;32m     75\u001b[0m     \u001b[0;32mdef\u001b[0m \u001b[0mfind_substring\u001b[0m\u001b[0;34m(\u001b[0m\u001b[0mself\u001b[0m\u001b[0;34m,\u001b[0m \u001b[0msubstring\u001b[0m\u001b[0;34m)\u001b[0m\u001b[0;34m:\u001b[0m\u001b[0;34m\u001b[0m\u001b[0m\n",
      "\u001b[0;32m<ipython-input-109-cf68a395c4d5>\u001b[0m in \u001b[0;36mupdate_suffix_tree\u001b[0;34m(self, cur_ch)\u001b[0m\n\u001b[1;32m     47\u001b[0m \u001b[0;34m\u001b[0m\u001b[0m\n\u001b[1;32m     48\u001b[0m     \u001b[0;32mdef\u001b[0m \u001b[0mupdate_suffix_tree\u001b[0m\u001b[0;34m(\u001b[0m\u001b[0mself\u001b[0m\u001b[0;34m,\u001b[0m \u001b[0mcur_ch\u001b[0m\u001b[0;34m)\u001b[0m\u001b[0;34m:\u001b[0m\u001b[0;34m\u001b[0m\u001b[0m\n\u001b[0;32m---> 49\u001b[0;31m         \u001b[0;32mprint\u001b[0m\u001b[0;34m(\u001b[0m\u001b[0mself\u001b[0m\u001b[0;34m.\u001b[0m\u001b[0msuffix_tree\u001b[0m\u001b[0;34m)\u001b[0m\u001b[0;34m\u001b[0m\u001b[0m\n\u001b[0m\u001b[1;32m     50\u001b[0m         \u001b[0mnew_input\u001b[0m \u001b[0;34m=\u001b[0m \u001b[0mTrue\u001b[0m\u001b[0;34m\u001b[0m\u001b[0m\n\u001b[1;32m     51\u001b[0m         \u001b[0;32mfor\u001b[0m \u001b[0mi\u001b[0m \u001b[0;32min\u001b[0m \u001b[0mself\u001b[0m\u001b[0;34m.\u001b[0m\u001b[0msuffix_tree\u001b[0m\u001b[0;34m:\u001b[0m\u001b[0;34m\u001b[0m\u001b[0m\n",
      "\u001b[0;32m<ipython-input-109-cf68a395c4d5>\u001b[0m in \u001b[0;36m__repr__\u001b[0;34m(self)\u001b[0m\n\u001b[1;32m     23\u001b[0m \u001b[0;34m\u001b[0m\u001b[0m\n\u001b[1;32m     24\u001b[0m         \u001b[0;32mdef\u001b[0m \u001b[0m__repr__\u001b[0m\u001b[0;34m(\u001b[0m\u001b[0mself\u001b[0m\u001b[0;34m)\u001b[0m\u001b[0;34m:\u001b[0m\u001b[0;34m\u001b[0m\u001b[0m\n\u001b[0;32m---> 25\u001b[0;31m             \u001b[0;32mreturn\u001b[0m \u001b[0;34m\"Node String: %s, start index: %d, end index: %d\"\u001b[0m                    \u001b[0;34m%\u001b[0m \u001b[0;34m(\u001b[0m\u001b[0mself\u001b[0m\u001b[0;34m.\u001b[0m\u001b[0msuffix_node\u001b[0m\u001b[0;34m,\u001b[0m \u001b[0mself\u001b[0m\u001b[0;34m.\u001b[0m\u001b[0mstart_index\u001b[0m\u001b[0;34m,\u001b[0m \u001b[0mself\u001b[0m\u001b[0;34m.\u001b[0m\u001b[0mend_index\u001b[0m\u001b[0;34m)\u001b[0m\u001b[0;34m\u001b[0m\u001b[0m\n\u001b[0m\u001b[1;32m     26\u001b[0m \u001b[0;34m\u001b[0m\u001b[0m\n\u001b[1;32m     27\u001b[0m     \u001b[0;32mdef\u001b[0m \u001b[0mchar_in_str\u001b[0m\u001b[0;34m(\u001b[0m\u001b[0mch\u001b[0m\u001b[0;34m,\u001b[0m \u001b[0ms_list\u001b[0m\u001b[0;34m)\u001b[0m\u001b[0;34m:\u001b[0m\u001b[0;34m\u001b[0m\u001b[0m\n",
      "\u001b[0;31mTypeError\u001b[0m: %d format: a number is required, not NoneType"
     ]
    }
   ],
   "source": [
    "sf.build_suffix()"
   ]
  },
  {
   "cell_type": "code",
   "execution_count": 106,
   "metadata": {},
   "outputs": [
    {
     "data": {
      "text/plain": [
       "[Node String: testt, start index: 0, end index: 1,\n",
       " Node String: estt, start index: 0, end index: 2,\n",
       " Node String: stt, start index: 0, end index: 3]"
      ]
     },
     "execution_count": 106,
     "metadata": {},
     "output_type": "execute_result"
    }
   ],
   "source": [
    "sf.suffix_tree"
   ]
  },
  {
   "cell_type": "code",
   "execution_count": 107,
   "metadata": {},
   "outputs": [
    {
     "data": {
      "text/plain": [
       "in string:testt, tree:[Node String: testt, start index: 0, end index: 1, Node String: estt, start index: 0, end index: 2, Node String: stt, start index: 0, end index: 3], node:0, edge:t, length:2, remainder2"
      ]
     },
     "execution_count": 107,
     "metadata": {},
     "output_type": "execute_result"
    }
   ],
   "source": [
    "sf"
   ]
  },
  {
   "cell_type": "code",
   "execution_count": 108,
   "metadata": {},
   "outputs": [
    {
     "name": "stdout",
     "output_type": "stream",
     "text": [
      "Node String: testt, start index: 0, end index: 1\n",
      "Node String: estt, start index: 0, end index: 2\n",
      "Node String: stt, start index: 0, end index: 3\n"
     ]
    }
   ],
   "source": [
    "sf.find_substring('test')"
   ]
  },
  {
   "cell_type": "code",
   "execution_count": null,
   "metadata": {},
   "outputs": [],
   "source": []
  }
 ],
 "metadata": {
  "kernelspec": {
   "display_name": "Python 2",
   "language": "python",
   "name": "python2"
  },
  "language_info": {
   "codemirror_mode": {
    "name": "ipython",
    "version": 2
   },
   "file_extension": ".py",
   "mimetype": "text/x-python",
   "name": "python",
   "nbconvert_exporter": "python",
   "pygments_lexer": "ipython2",
   "version": "2.7.10"
  }
 },
 "nbformat": 4,
 "nbformat_minor": 2
}
