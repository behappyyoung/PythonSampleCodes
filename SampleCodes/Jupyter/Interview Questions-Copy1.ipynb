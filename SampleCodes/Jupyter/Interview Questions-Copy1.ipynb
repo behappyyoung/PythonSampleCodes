{
 "cells": [
  {
   "cell_type": "code",
   "execution_count": 8,
   "metadata": {},
   "outputs": [
    {
     "name": "stdout",
     "output_type": "stream",
     "text": [
      "[[0, 0, 0], [1, 1, 0], [2, 2, 1]]\n",
      "1\n",
      "[[0, 0, 0], [1, 1, 0], [1, 1, 1]]\n",
      "1\n"
     ]
    }
   ],
   "source": [
    "\"\"\"\n",
    "Given a matrix of direction with L, R, U, D, at any point you can move to the direction which is written over the cell [i, j]. We have to tell minimum number of modifications to reach from [0, 0] to [N - 1, M - 1] .\n",
    "\n",
    "Example :-\n",
    "R R D\n",
    "L L L\n",
    "U U R\n",
    "Answer is 1, we can modify cell [1, 2] from L To D.\n",
    "\n",
    "\"\"\"\n",
    "\n",
    "def determinWays(arr):\n",
    "    if not arr:\n",
    "        return 0\n",
    "    m = len(arr)\n",
    "    n = len(arr[0])\n",
    "    wayArr = [[0]*n for i in range(m)]\n",
    "    \n",
    "    while m > 0 and n > 0:\n",
    "        \n",
    "    \n",
    "    \n",
    "print(determinWays([['R','R','D'], ['L','L','L'],['U','U','R']]))\n",
    "print(determinWays([['R','R','D'], ['D','L','L'],['R','R','R']]))  # <== ??? ==> graph\n"
   ]
  },
  {
   "cell_type": "code",
   "execution_count": null,
   "metadata": {},
   "outputs": [],
   "source": [
    "def isPower(n):\n",
    "    for i in range(2, n//2):\n",
    "        j = i\n",
    "        s = j\n",
    "        while s < n:\n",
    "            s *= j\n",
    "            if s == n:\n",
    "                return True\n",
    "            print(i, j, s)\n",
    "    return False\n",
    "\n",
    "print(isPower(125))\n",
    "\n",
    "# print(isPower(72))"
   ]
  },
  {
   "cell_type": "code",
   "execution_count": null,
   "metadata": {},
   "outputs": [],
   "source": [
    "\"\"\"\n",
    " divide without division\n",
    " \n",
    "\"\"\"\n",
    "def division(dividend, divisor):\n",
    "    \n",
    "    positive = (dividend < 0) is (divisor < 0)\n",
    "    \n",
    "    dd = abs(dividend)\n",
    "    dr = abs(divisor)\n",
    "    count = 0\n",
    "    while dr <= dd:\n",
    "        \n",
    "        multi = 1\n",
    "        temp = dr\n",
    "        while (temp<<1) <= dd:\n",
    "            temp <<= 1\n",
    "            multi <<= 1\n",
    "        dd -= temp\n",
    "        count += multi\n",
    "        print(count, multi, temp)\n",
    "    if positive:\n",
    "        return count\n",
    "    else:\n",
    "        return -count\n",
    "    \n",
    "print(division(70,-3))"
   ]
  },
  {
   "cell_type": "code",
   "execution_count": 17,
   "metadata": {},
   "outputs": [
    {
     "name": "stdout",
     "output_type": "stream",
     "text": [
      "[]\n",
      "[[5]]\n",
      "[[5]]\n",
      "[[5, 2]]\n",
      "[[5, 2]]\n",
      "[[5, 2], [4]]\n",
      "[[5, 2], [4]]\n",
      "[[5, 2], [4, 3]]\n",
      "[[5, 2], [4, 3]]\n",
      "[[5, 2, 1], [4, 3]]\n",
      "[[5, 2, 1], [4, 3]]\n",
      "[[5, 2, 1], [4, 3], [6]]\n",
      "[[5, 2, 1], [4, 3], [6]]\n"
     ]
    }
   ],
   "source": [
    "\"\"\"\n",
    "min decreasing subsequence subarray\n",
    "\n",
    "[5,2,4,3,1,6]\n",
    "3  == > [5,4,3] [2,1] [6] or [5,2,1] [4,3][6]\n",
    "\n",
    "\"\"\"\n",
    "def decreasing_subarray(arr):\n",
    "    r_list = []\n",
    "    if not arr:\n",
    "        return []\n",
    "    \n",
    "    for i in range(len(arr)):\n",
    "        added = False\n",
    "        print(r_list)\n",
    "        for j in range(len(r_list)):\n",
    "            \n",
    "            if r_list[j][-1] > arr[i]:\n",
    "                r_list[j].append(arr[i])\n",
    "                added = True\n",
    "                break\n",
    "        if not added:\n",
    "            r_list.append([arr[i]])\n",
    "        print(r_list)\n",
    "\n",
    "    print(r_list)\n",
    "\n",
    "decreasing_subarray([5,2,4,3,1,6])\n"
   ]
  },
  {
   "cell_type": "code",
   "execution_count": 5,
   "metadata": {},
   "outputs": [
    {
     "name": "stdout",
     "output_type": "stream",
     "text": [
      "[10, 15, 20, 25, 30, 35, 40, 45, 50, 55, 55, 60, 65, 70, 75, 80, 85, 90, 95, 100, 105, 110, 115, 120, 125, 130, 135, 140, 145, 150, 155, 160, 165, 170, 175, 180, 185, 190, 195, 200, 205, 210, 215, 220, 225, 230, 235, 240, 245, 250, 255, 260, 265, 270, 275, 280, 285, 290, 295, 300, 305, 310, 315, 320, 325, 330, 335, 340, 345, 350, 355, 360, 365, 370, 375, 380, 385, 390, 395, 400, 405, 410, 415, 420, 425, 430, 435, 440, 445, 450, 455, 460, 465, 470, 475, 480, 485, 490, 495, 500, 505, 510, 515, 520, 525, 530, 535, 540, 545, 550, 555, 560, 565, 570, 575, 580, 585, 590, 595, 600, 605, 610, 615, 620, 625, 630, 635, 640, 645, 650, 655, 660, 665, 670, 675, 680, 685, 690, 695, 700, 705, 710, 715, 720, 725, 730, 735, 740, 745, 750, 755, 760, 765, 770, 775, 780, 785, 790, 795, 800, 805, 810, 815, 820, 825, 830, 835, 840, 845, 850, 855, 860, 865, 870, 875, 880, 885, 890, 895, 900, 905, 910, 915, 920, 925, 930, 935, 940, 945, 950, 955, 960, 965, 970, 975, 980, 985, 990, 995, 1000]\n"
     ]
    }
   ],
   "source": [
    "\"\"\"\n",
    "combination of \n",
    "Sum of Coins \n",
    "0 <= sum <= 1000\n",
    "c = [10, 15, 55]\n",
    "\"\"\"\n",
    "\n",
    "def sumofcoins():\n",
    "    sum_list = [10, 15, 55]\n",
    "    for s in range(11, 1001):\n",
    "        if (s-10) in sum_list or (s-15) in sum_list or (s-55) in sum_list:\n",
    "            sum_list.append(s)\n",
    "    sum_list.sort()\n",
    "    print(sum_list)\n",
    "sumofcoins()\n",
    "        \n"
   ]
  },
  {
   "cell_type": "markdown",
   "metadata": {},
   "source": [
    "# s = 'test notebook'\n",
    "print(s)\n",
    "i = 2**31-1\n",
    "print(i)"
   ]
  },
  {
   "cell_type": "code",
   "execution_count": 3,
   "metadata": {},
   "outputs": [],
   "source": [
    "    class Node(object):\n",
    "\n",
    "        def __init__(self, suffix_node, start_index, end_index):\n",
    "            self.suffix_node = suffix_node\n",
    "            self.start_index = start_index\n",
    "            self.end_index = end_index\n",
    "\n",
    "        def __repr__(self):\n",
    "            return \"Node String: %s, start index: %d, end index: %d\" \\\n",
    "                   % (self.suffix_node, self.start_index, self.end_index)\n",
    "\n",
    "        def add_ch(self, ch):\n",
    "            self.suffix_node = self.suffix_node + ch\n",
    "\n",
    "        def remove_substr(self, substr):\n",
    "            self.suffix_node = self.suffix_node.split(substr)[1]\n"
   ]
  },
  {
   "cell_type": "code",
   "execution_count": 4,
   "metadata": {},
   "outputs": [],
   "source": [
    "n = Node('testa', 0, 1)"
   ]
  },
  {
   "cell_type": "code",
   "execution_count": 5,
   "metadata": {},
   "outputs": [
    {
     "name": "stdout",
     "output_type": "stream",
     "text": [
      "Node String: testa, start index: 0, end index: 1\n"
     ]
    }
   ],
   "source": [
    "print(n)"
   ]
  },
  {
   "cell_type": "code",
   "execution_count": 10,
   "metadata": {},
   "outputs": [
    {
     "name": "stdout",
     "output_type": "stream",
     "text": [
      "4\n"
     ]
    }
   ],
   "source": [
    "\n",
    "def test_var():\n",
    "    x = 3\n",
    "    def in_test():\n",
    "        global x\n",
    "        x += 1\n",
    "        print(x)\n",
    "    in_test()\n",
    "test_var()"
   ]
  },
  {
   "cell_type": "code",
   "execution_count": 21,
   "metadata": {},
   "outputs": [
    {
     "name": "stdout",
     "output_type": "stream",
     "text": [
      "4 6 6\n",
      "[2, 2] 2\n",
      "[[2, 2], [2, 2]]\n"
     ]
    }
   ],
   "source": [
    "a = [[0,0,0,1,1,1], [0,0,0,0,1,1], [0,0,1,1,1,1,], [0,0,1,1,1,1,]]\n",
    "m = len(a)\n",
    "n = len(a[0])\n",
    "min_a = []\n",
    "c_min = n\n",
    "print(m, n, c_min)\n",
    "for i in range(m):\n",
    "    for j in range(n):\n",
    "        if a[i][j] == 1:\n",
    "            if j < c_min:\n",
    "                c_min = j\n",
    "                min_a = [i]\n",
    "            elif j == c_min:\n",
    "                min_a.append(j)\n",
    "            else:\n",
    "                break\n",
    "\n",
    "r_result = []\n",
    "print(min_a, c_min)\n",
    "for i in min_a:\n",
    "    r_result.append([i, c_min])\n",
    "print(r_result)"
   ]
  },
  {
   "cell_type": "code",
   "execution_count": null,
   "metadata": {},
   "outputs": [],
   "source": [
    "\"\"\"\n",
    "Convert integer to Word\n",
    "\n",
    "\"\"\"\n",
    "\n",
    "def integer_to_word(i):\n",
    "    if i == 0:\n",
    "        return 'Zero'\n",
    "    word_dict = {1:'One', 2:'Two', 3:'Three'}\n",
    "\n",
    "\n",
    "\n",
    "\n",
    "\n",
    "\n"
   ]
  },
  {
   "cell_type": "code",
   "execution_count": null,
   "metadata": {},
   "outputs": [],
   "source": [
    "\"\"\"\n",
    "task scheduler\n",
    "[2,3,1,1,3,2,2,1] N=2 ( minimum space between same number)\n",
    "=>\n",
    "[2,3,1,0,0,1,3,2,0,0,2,1]\n",
    "\n",
    "\"\"\"\n",
    "\n",
    "def task_s(arr, n):\n",
    "    if not arr or n == 0:\n",
    "        return arr\n",
    "    r_arr = []\n",
    "    num_dict = {}\n",
    "    for i in range(len(arr)):\n",
    "        if arr[i] in num_dict:\n",
    "            pre_l = num_dict[arr[i]]\n",
    "            if i - pre_l < n:\n",
    "                for j in range(n-(i-pre_l)):\n",
    "                    r_arr.append(0)\n",
    "        else:\n",
    "            r_arr.append(arr[i])\n",
    "            num_dict[arr[i]] = i\n",
    "    print(r_arr)\n",
    "    return r_arr\n",
    "\n",
    "s = [2,3,1,1,3,2,2,1]\n",
    "\n",
    "print(task_s(s, 2))\n",
    "    \n"
   ]
  },
  {
   "cell_type": "code",
   "execution_count": null,
   "metadata": {},
   "outputs": [],
   "source": []
  }
 ],
 "metadata": {
  "kernelspec": {
   "display_name": "Python 3",
   "language": "python",
   "name": "python3"
  },
  "language_info": {
   "codemirror_mode": {
    "name": "ipython",
    "version": 3
   },
   "file_extension": ".py",
   "mimetype": "text/x-python",
   "name": "python",
   "nbconvert_exporter": "python",
   "pygments_lexer": "ipython3",
   "version": "3.7.5"
  }
 },
 "nbformat": 4,
 "nbformat_minor": 2
}
