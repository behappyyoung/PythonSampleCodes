{
 "cells": [
  {
   "cell_type": "code",
   "execution_count": 11,
   "metadata": {},
   "outputs": [
    {
     "data": {
      "text/plain": [
       "True"
      ]
     },
     "execution_count": 11,
     "metadata": {},
     "output_type": "execute_result"
    }
   ],
   "source": [
    "ll = [[1,2], [2,3], [3,4]]\n",
    "\n",
    "[1,2] in ll"
   ]
  },
  {
   "cell_type": "code",
   "execution_count": 18,
   "metadata": {},
   "outputs": [
    {
     "name": "stdout",
     "output_type": "stream",
     "text": [
      "[[1], [2], [3], [4]]\n"
     ]
    }
   ],
   "source": [
    "l = [1,2,3,4]\n",
    "ll = [[i] for i in l]\n",
    "print(ll)"
   ]
  },
  {
   "cell_type": "code",
   "execution_count": 23,
   "metadata": {},
   "outputs": [
    {
     "name": "stdout",
     "output_type": "stream",
     "text": [
      "{1, 2, 3, 4, 5}\n"
     ]
    }
   ],
   "source": [
    "s = set(l)\n",
    "s.add(5)\n",
    "s.add(3)\n",
    "print(s)"
   ]
  },
  {
   "cell_type": "code",
   "execution_count": 2,
   "metadata": {},
   "outputs": [
    {
     "data": {
      "text/plain": [
       "set"
      ]
     },
     "execution_count": 2,
     "metadata": {},
     "output_type": "execute_result"
    }
   ],
   "source": [
    "t = set()\n",
    "type(t)"
   ]
  },
  {
   "cell_type": "code",
   "execution_count": 3,
   "metadata": {},
   "outputs": [
    {
     "data": {
      "text/plain": [
       "[[3], [4]]"
      ]
     },
     "execution_count": 3,
     "metadata": {},
     "output_type": "execute_result"
    }
   ],
   "source": [
    "[[i] for i in range(3,5)]"
   ]
  },
  {
   "cell_type": "code",
   "execution_count": 58,
   "metadata": {},
   "outputs": [
    {
     "name": "stdout",
     "output_type": "stream",
     "text": [
      "2 [1, 1]\n",
      "1\n",
      "2 1 61 1\n",
      "3 2 12 2\n",
      "4 [1, 1, 1, 2]\n",
      "2\n",
      "2 1 61 2\n",
      "3 1 11 4\n",
      "4 0 10 4\n",
      "5 5 05 8\n",
      "6 5 55 8\n",
      "7 9 59 8\n",
      "8 7 97 8\n",
      "9 1 71 8\n",
      "10 7 17 16\n",
      "11 5 75 16\n",
      "12 6 56 16\n",
      "13 5 65 16\n",
      "14 6 56 16\n",
      "15 2 62 16\n",
      "16 [1, 2, 2, 4, 4, 8, 8, 8, 8, 8, 16, 16, 16, 16, 16, 16]\n",
      "16\n",
      "2 6 16 2\n",
      "3 3 63 2\n",
      "4 4 34 2\n",
      "5 9 49 2\n",
      "0\n"
     ]
    }
   ],
   "source": [
    "def numDecodings(s):\n",
    "        \n",
    "        l = len(s)\n",
    "        if s[0] == '0':\n",
    "            return 0\n",
    "        dp = [0]*l\n",
    "        dp[0] = dp[1] = 1\n",
    "        for i in range(1, n):\n",
    "            v1 = int(s[i:i+1])\n",
    "            v2 = int(s[i-1:i+1])\n",
    "            if 0 < v1 <= 9:\n",
    "                # If we get a valid single number decoding, the number of decodings will\n",
    "                # same as previous. Because a single valid decoding won't add to your count.\n",
    "                dp[i+1] = dp[i]\n",
    "            \n",
    "            if 10 <= v2 <= 26:\n",
    "                # Check if a double number decoding is valid. \n",
    "                # If it is valid, we need to add everything before this two digit number to the current number.\n",
    "                dp[i+1] = dp[i+1] + dp[i-1]\n",
    "            # At any state, if we are not able to modify something, it is invalid.\n",
    "            if result[i+1] == 0:\n",
    "                return 0\n",
    "        print(dp)\n",
    "        return dp[l]\n",
    "\n",
    "print(numDecodings('10'))\n",
    "print(numDecodings('4612'))\n",
    "print(numDecodings('2611055971756562')) #4\n",
    "print(numDecodings('5163490394499093221199401898020270545859326357520618953580237168826696965537789565062429676962877038781708385575876312877941367557410101383684194057405018861234394660905712238428675120866930196204792703765204322329401298924190'))"
   ]
  },
  {
   "cell_type": "code",
   "execution_count": 19,
   "metadata": {},
   "outputs": [
    {
     "data": {
      "text/plain": [
       "True"
      ]
     },
     "execution_count": 19,
     "metadata": {},
     "output_type": "execute_result"
    }
   ],
   "source": [
    "s = {0, 1}\n",
    "0 in s\n"
   ]
  },
  {
   "cell_type": "code",
   "execution_count": null,
   "metadata": {},
   "outputs": [],
   "source": []
  }
 ],
 "metadata": {
  "kernelspec": {
   "display_name": "Python 3",
   "language": "python",
   "name": "python3"
  },
  "language_info": {
   "codemirror_mode": {
    "name": "ipython",
    "version": 3
   },
   "file_extension": ".py",
   "mimetype": "text/x-python",
   "name": "python",
   "nbconvert_exporter": "python",
   "pygments_lexer": "ipython3",
   "version": "3.7.5"
  }
 },
 "nbformat": 4,
 "nbformat_minor": 2
}
