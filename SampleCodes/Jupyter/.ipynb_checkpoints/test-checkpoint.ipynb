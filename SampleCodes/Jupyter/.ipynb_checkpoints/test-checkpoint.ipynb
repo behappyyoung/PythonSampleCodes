{
 "cells": [
  {
   "cell_type": "code",
   "execution_count": 36,
   "metadata": {},
   "outputs": [
    {
     "name": "stdout",
     "output_type": "stream",
     "text": [
      "deque([1, 2, 3, 4, 5])\n",
      "[1, 2, 3, 4, 5]\n"
     ]
    }
   ],
   "source": [
    "from collections import deque\n",
    "d=deque([1,2,3,4,5])\n",
    "\n",
    "\n",
    "print(d)\n",
    "print(list(d))"
   ]
  },
  {
   "cell_type": "code",
   "execution_count": 38,
   "metadata": {},
   "outputs": [
    {
     "name": "stdout",
     "output_type": "stream",
     "text": [
      "[deque([1, 2, 3, 4, 5]), deque([2, 3, 4, 5, 1]), deque([3, 4, 5, 1, 2]), deque([4, 5, 1, 2, 3]), deque([5, 1, 2, 3, 4])]\n"
     ]
    },
    {
     "data": {
      "text/plain": [
       "[[1, 2, 3, 4, 5],\n",
       " [2, 3, 4, 5, 1],\n",
       " [3, 4, 5, 1, 2],\n",
       " [4, 5, 1, 2, 3],\n",
       " [5, 1, 2, 3, 4]]"
      ]
     },
     "execution_count": 38,
     "metadata": {},
     "output_type": "execute_result"
    }
   ],
   "source": [
    "from collections import deque\n",
    "\n",
    "def doodledPassword(digits):\n",
    "    n = len(digits)\n",
    "    res = [deque(digits) for _ in range(n)]\n",
    "    \n",
    "    deque(map(lambda d: res[d].rotate(-d), range(n)), 0)\n",
    "    print(res)\n",
    "    return [list(d) for d in res]\n",
    "\n",
    "doodledPassword([1,2,3,4,5])\n"
   ]
  },
  {
   "cell_type": "code",
   "execution_count": 30,
   "metadata": {},
   "outputs": [
    {
     "name": "stdout",
     "output_type": "stream",
     "text": [
      "1232 1\n",
      "123 12\n",
      "12 123\n",
      "True\n"
     ]
    }
   ],
   "source": [
    "def isPalindrome(x):\n",
    "        \"\"\"\n",
    "        :type x: int\n",
    "        :rtype: bool\n",
    "        \"\"\"\n",
    "        if x<0:\n",
    "            return False\n",
    "        revx = 0\n",
    "        while x > revx:\n",
    "            revx = revx*10 + x % 10\n",
    "            x = x//10\n",
    "            \n",
    "            print(x, revx)\n",
    "        \n",
    "        return x == revx or x == revx//10\n",
    "    \n",
    "print(isPalindrome(12321))"
   ]
  },
  {
   "cell_type": "code",
   "execution_count": null,
   "metadata": {},
   "outputs": [],
   "source": [
    "def isPalindrome(x):\n",
    "        \"\"\"\n",
    "        :type x: int\n",
    "        :rtype: bool\n",
    "        \"\"\"\n",
    "        ilist = []\n",
    "        while x != 0:\n",
    "            ci = x % 10\n",
    "            ilist.append(ci)\n",
    "            x = int(x/10)\n",
    "            \n",
    "        print(ilist)\n",
    "        for i in range(len(ilist)//2):\n",
    "            print(i, -i, ilist[i], ilist[-i])\n",
    "            if ilist[i] != ilist[-(i+1)]:\n",
    "                return False\n",
    "        \n",
    "        return True\n",
    "\n",
    "print(isPalindrome(-121))"
   ]
  },
  {
   "cell_type": "code",
   "execution_count": 6,
   "metadata": {},
   "outputs": [
    {
     "name": "stdout",
     "output_type": "stream",
     "text": [
      "1 120.0\n",
      "2 144.0\n",
      "3 172.8\n",
      "3\n"
     ]
    }
   ],
   "source": [
    "def depositProfit(deposit, rate, threshold):\n",
    "    dsum = deposit\n",
    "    year = 0\n",
    "    while  threshold > dsum:\n",
    "        year +=1\n",
    "        dsum += dsum*(rate/100)\n",
    "        print(year, dsum)\n",
    "    return year\n",
    "\n",
    "print(depositProfit(100, 20, 170))"
   ]
  },
  {
   "cell_type": "code",
   "execution_count": 17,
   "metadata": {},
   "outputs": [
    {
     "name": "stdout",
     "output_type": "stream",
     "text": [
      "1 -1 72 None None False\n",
      "1 -1 72 None None False\n",
      "2 72 -12 None None False\n",
      "False\n"
     ]
    }
   ],
   "source": [
    "def reverseToSort(inputArray):\n",
    "    n_reversed = False\n",
    "    start_n = None\n",
    "    pre_n = None\n",
    "    for i in range(1, len(inputArray)):\n",
    "        print(i, inputArray[i-1], inputArray[i], start_n, pre_n, n_reversed)\n",
    "        if inputArray[i-1] == inputArray[i] or inputArray[i] == pre_n:\n",
    "            return False\n",
    "        if start_n:\n",
    "            if inputArray[i-1] < inputArray[i]:\n",
    "                n_reversed = True       \n",
    "                if inputArray[i] <= start_n:\n",
    "                    return False\n",
    "                if pre_n:\n",
    "                    if inputArray[i-1] <= pre_n:\n",
    "                        return False\n",
    "                start_n = None\n",
    "        else:\n",
    "            if inputArray[i-1] > inputArray[i]:\n",
    "                if n_reversed:\n",
    "                    return False\n",
    "                start_n = inputArray[i-1]\n",
    "                \n",
    "                if i>=2:\n",
    "                    pre_n = inputArray[i-2]\n",
    "                    if inputArray[i] <= pre_n:\n",
    "                        return False\n",
    "                else:\n",
    "                    None\n",
    "                \n",
    "        print(i, inputArray[i-1], inputArray[i], start_n, pre_n, n_reversed)\n",
    "    return True\n",
    "\n",
    "# print(reverseToSort([-1, 5, 4, 3, 2, 8]))\n",
    "\n",
    "# print(reverseToSort([-100, 4, 10, 4, 2]))\n",
    "print(reverseToSort([-1, 72, -12]))"
   ]
  },
  {
   "cell_type": "code",
   "execution_count": 22,
   "metadata": {},
   "outputs": [
    {
     "name": "stdout",
     "output_type": "stream",
     "text": [
      "test notebook\n",
      "2147483647\n"
     ]
    }
   ],
   "source": [
    "s = 'test notebook'\n",
    "print(s)\n",
    "i = 2**31-1\n",
    "print(i)"
   ]
  },
  {
   "cell_type": "code",
   "execution_count": 3,
   "metadata": {},
   "outputs": [],
   "source": [
    "    class Node(object):\n",
    "\n",
    "        def __init__(self, suffix_node, start_index, end_index):\n",
    "            self.suffix_node = suffix_node\n",
    "            self.start_index = start_index\n",
    "            self.end_index = end_index\n",
    "\n",
    "        def __repr__(self):\n",
    "            return \"Node String: %s, start index: %d, end index: %d\" \\\n",
    "                   % (self.suffix_node, self.start_index, self.end_index)\n",
    "\n",
    "        def add_ch(self, ch):\n",
    "            self.suffix_node = self.suffix_node + ch\n",
    "\n",
    "        def remove_substr(self, substr):\n",
    "            self.suffix_node = self.suffix_node.split(substr)[1]\n"
   ]
  },
  {
   "cell_type": "code",
   "execution_count": 4,
   "metadata": {},
   "outputs": [],
   "source": [
    "n = Node('testa', 0, 1)"
   ]
  },
  {
   "cell_type": "code",
   "execution_count": 5,
   "metadata": {},
   "outputs": [
    {
     "name": "stdout",
     "output_type": "stream",
     "text": [
      "Node String: testa, start index: 0, end index: 1\n"
     ]
    }
   ],
   "source": [
    "print(n)"
   ]
  },
  {
   "cell_type": "code",
   "execution_count": 10,
   "metadata": {},
   "outputs": [
    {
     "name": "stdout",
     "output_type": "stream",
     "text": [
      "4\n"
     ]
    }
   ],
   "source": [
    "\n",
    "def test_var():\n",
    "    x = 3\n",
    "    def in_test():\n",
    "        global x\n",
    "        x += 1\n",
    "        print(x)\n",
    "    in_test()\n",
    "test_var()"
   ]
  },
  {
   "cell_type": "code",
   "execution_count": 21,
   "metadata": {},
   "outputs": [
    {
     "name": "stdout",
     "output_type": "stream",
     "text": [
      "4 6 6\n",
      "[2, 2] 2\n",
      "[[2, 2], [2, 2]]\n"
     ]
    }
   ],
   "source": [
    "a = [[0,0,0,1,1,1], [0,0,0,0,1,1], [0,0,1,1,1,1,], [0,0,1,1,1,1,]]\n",
    "m = len(a)\n",
    "n = len(a[0])\n",
    "min_a = []\n",
    "c_min = n\n",
    "print(m, n, c_min)\n",
    "for i in range(m):\n",
    "    for j in range(n):\n",
    "        if a[i][j] == 1:\n",
    "            if j < c_min:\n",
    "                c_min = j\n",
    "                min_a = [i]\n",
    "            elif j == c_min:\n",
    "                min_a.append(j)\n",
    "            else:\n",
    "                break\n",
    "\n",
    "r_result = []\n",
    "print(min_a, c_min)\n",
    "for i in min_a:\n",
    "    r_result.append([i, c_min])\n",
    "print(r_result)"
   ]
  },
  {
   "cell_type": "code",
   "execution_count": 4,
   "metadata": {},
   "outputs": [
    {
     "name": "stdout",
     "output_type": "stream",
     "text": [
      "1 5\n",
      "4 6\n",
      "7 8\n",
      "3\n"
     ]
    }
   ],
   "source": [
    "def isSumOfConsecutive2(n):\n",
    "    scount = 0\n",
    "    for i in range(1, n):\n",
    "        s = 0\n",
    "        for j in range(i, n):\n",
    "            s += j\n",
    "            if s == n:\n",
    "                print(i, j)\n",
    "                scount +=1\n",
    "                break\n",
    "            elif s > n:\n",
    "                break\n",
    "    return scount  \n",
    "\n",
    "print(isSumOfConsecutive2(15))"
   ]
  },
  {
   "cell_type": "code",
   "execution_count": 34,
   "metadata": {},
   "outputs": [
    {
     "name": "stdout",
     "output_type": "stream",
     "text": [
      "[]\n",
      "[]\n",
      "[1]\n",
      "[]\n",
      "[1]\n",
      "[1, 2]\n",
      "[2]\n",
      "[[], [1], [1, 2], [1, 2, 2], [2], [2, 2]]\n",
      "[]\n",
      "[]\n",
      "[3]\n",
      "[]\n",
      "[3]\n",
      "[3, 3]\n",
      "[]\n",
      "[3]\n",
      "[3, 3]\n",
      "[3, 3, 5]\n",
      "[3, 5]\n",
      "[5]\n",
      "[]\n",
      "[3]\n",
      "[3, 3]\n",
      "[3, 3, 5]\n",
      "[3, 3, 5, 6]\n",
      "[3, 3, 6]\n",
      "[3, 5]\n",
      "[3, 5, 6]\n",
      "[3, 6]\n",
      "[5]\n",
      "[5, 6]\n",
      "[6]\n",
      "[]\n",
      "[3]\n",
      "[3, 3]\n",
      "[3, 3, 5]\n",
      "[3, 3, 5, 6]\n",
      "[3, 3, 5, 6, 6]\n",
      "[3, 3, 6]\n",
      "[3, 3, 6, 6]\n",
      "[3, 5]\n",
      "[3, 5, 6]\n",
      "[3, 5, 6, 6]\n",
      "[3, 6]\n",
      "[3, 6, 6]\n",
      "[5]\n",
      "[5, 6]\n",
      "[5, 6, 6]\n",
      "[6]\n",
      "[6, 6]\n",
      "[[], [3], [3, 3], [3, 3, 5], [3, 3, 5, 6], [3, 3, 5, 6, 6], [3, 3, 5, 6, 6, 6], [3, 3, 6], [3, 3, 6, 6], [3, 3, 6, 6, 6], [3, 5], [3, 5, 6], [3, 5, 6, 6], [3, 5, 6, 6, 6], [3, 6], [3, 6, 6], [3, 6, 6, 6], [5], [5, 6], [5, 6, 6], [5, 6, 6, 6], [6], [6, 6], [6, 6, 6]]\n"
     ]
    }
   ],
   "source": [
    "def subsets(arr):\n",
    "        if len(arr) == 0:\n",
    "            return [[]]\n",
    "        arr.sort()\n",
    "        subset_r = arr[-1]\n",
    "        subset_sub = subsets(arr[:-1])\n",
    "#         new_subsets = [(ss+[subset_r]) for ss in subset_sub]\n",
    "        new_subsets = []\n",
    "        for ss in subset_sub:\n",
    "            print(ss)\n",
    "            new_subsets.append(ss + [subset_r])\n",
    "    \n",
    "\n",
    "        for ns in new_subsets:\n",
    "            if ns not in subset_sub:\n",
    "                subset_sub.append(ns)\n",
    "        return  sorted(subset_sub)\n",
    "    \n",
    "print(subsets([1,2,2]))\n",
    "print(subsets([ 6, 6, 3, 3, 6, 5 ]))\n"
   ]
  },
  {
   "cell_type": "code",
   "execution_count": 34,
   "metadata": {},
   "outputs": [
    {
     "name": "stdout",
     "output_type": "stream",
     "text": [
      "c c c\n",
      "cb bc c\n",
      "cbb bbc c\n",
      "cbbd dbbc c\n",
      "cbbd  c\n",
      "cbbd  c\n",
      "cbb  c\n",
      "cb  c\n",
      "bbd dbb c\n",
      "bbd dbb c\n",
      "bb bb c\n",
      "bd db bb\n",
      "bb\n"
     ]
    }
   ],
   "source": [
    "def longestPalindrome(s):\n",
    "        \n",
    "#     if s == s[::-1]:\n",
    "#             return s\n",
    "    max_s = s[0]\n",
    "    for i in range(len(s)):\n",
    "        print(s[:i+1],s[i::-1], max_s)\n",
    "        if s[:i+1] == s[i::-1]:\n",
    "                max_s = s[:i+1]\n",
    "\n",
    "                \n",
    "    for i in range(len(s)):\n",
    "            for j in range(len(s), 0, -1):\n",
    "                if len(max_s) > (j - i):\n",
    "                    break\n",
    "                print(s[i:j+1],s[j:i-1:-1], max_s)\n",
    "                if s[i:j+1] == s[j:i-1:-1]:\n",
    "                        max_s = s[i:j+1]\n",
    "    return max_s\n",
    "                \n",
    "print(longestPalindrome('cbbd'))"
   ]
  },
  {
   "cell_type": "code",
   "execution_count": 49,
   "metadata": {},
   "outputs": [
    {
     "name": "stdout",
     "output_type": "stream",
     "text": [
      "[1, 5, 6, 8, 10, 12, 7, 41, 9, 21, 11, 31, 13, 14, 15]\n",
      "1 [5, 8, 6, 9, 10, 12, 7, 41, 15, 21, 11, 31, 13, 14]\n",
      "[5, 8, 6, 9, 10, 12, 7, 41, 15, 21, 11, 31, 13, 14, 33]\n",
      "[41, 21, 33, 15, 11, 31, 14, 9, 8, 10, 5, 12, 13, 6, 7]\n",
      "41 [33, 21, 31, 15, 11, 13, 14, 9, 8, 10, 5, 12, 7, 6]\n",
      "[33, 21, 31, 15, 11, 13, 14, 9, 8, 10, 5, 12, 7, 6, 22]\n",
      "33 [31, 21, 22, 15, 11, 13, 14, 9, 8, 10, 5, 12, 7, 6]\n"
     ]
    }
   ],
   "source": [
    "import heapq\n",
    "listForTree = [1,21,31,41,5,6,7,8,9,10,11,12,13,14,15]    \n",
    "heapq.heapify(listForTree)             # for a min heap\n",
    "print(listForTree)\n",
    "m = heapq.heappop(listForTree)\n",
    "print(m, listForTree)\n",
    "heapq.heappush(listForTree, 33)\n",
    "print(listForTree)\n",
    "heapq._heapify_max(listForTree)         # for max heap\n",
    "print(listForTree)\n",
    "m = heapq._heappop_max(listForTree)\n",
    "print(m, listForTree)\n",
    "heapq.heappush(listForTree, 22)\n",
    "print(listForTree)\n",
    "m = heapq._heappop_max(listForTree)\n",
    "print(m, listForTree)"
   ]
  },
  {
   "cell_type": "code",
   "execution_count": 137,
   "metadata": {},
   "outputs": [
    {
     "name": "stdout",
     "output_type": "stream",
     "text": [
      "[0, 2, 0, 4, 0, 0, 2, 0, 0, 2, 6]\n",
      "6\n",
      "[0, 2]\n",
      "2\n"
     ]
    }
   ],
   "source": [
    "def longestValidParentheses(s):\n",
    "        l = len(s)\n",
    "        if l == 0:\n",
    "            return 0\n",
    "        dp = [0]*l\n",
    "        t_max = 0\n",
    "        for i in range(l):\n",
    "            if s[i] == '(':\n",
    "                dp[i] = 0\n",
    "            elif s[i] == ')':\n",
    "                if i == 0:\n",
    "                    dp[i] = 0\n",
    "                elif 0 <= (i-dp[i-1]-1):\n",
    "                    if s[i-1-dp[i-1]] == '(':\n",
    "                        dp[i] = dp[i-1] + dp[i-2-dp[i-1]] + 2\n",
    "                    else:\n",
    "                        dp[i] = 0\n",
    "                    t_max = max(t_max, dp[i])\n",
    "                else:\n",
    "                    dp[i] = 0\n",
    "        print(dp)\n",
    "        return t_max\n",
    "print(longestValidParentheses('()())()(())'))\n",
    "# print(longestValidParentheses(')(((((()())()()))()(()))('))\n",
    "# s = \")()())\" #4\n",
    "# s = \"()(()\"#2\n",
    "s = \"()\"\n",
    "print(longestValidParentheses(s))"
   ]
  },
  {
   "cell_type": "code",
   "execution_count": 145,
   "metadata": {},
   "outputs": [
    {
     "data": {
      "text/plain": [
       "2"
      ]
     },
     "execution_count": 145,
     "metadata": {},
     "output_type": "execute_result"
    }
   ],
   "source": [
    "def countBits(num):\n",
    "        if num == 0:\n",
    "            return 0\n",
    "        dp = [0]*(num+1)\n",
    "        for i in range(1, num+1):\n",
    "            dp[i] = dp[i & (i-1)] + 1\n",
    "\n",
    "        return dp[num]\n",
    "    \n",
    "countBits(12)"
   ]
  },
  {
   "cell_type": "code",
   "execution_count": 194,
   "metadata": {},
   "outputs": [
    {
     "name": "stdout",
     "output_type": "stream",
     "text": [
      "[-1, 0, 1, 2, 4, 6, 9, 12, 18, 27, 36, 54]\n"
     ]
    }
   ],
   "source": [
    "def integerBreak(n):\n",
    "        if n<=1:\n",
    "            return 0\n",
    "        dp = [i-1 for i in range(n+1)]\n",
    "        for i in range(2, n+1):\n",
    "            for j in range(2, i):\n",
    "                dp[i] = max(dp[i], max(dp[j], j)*max((i-j), dp[i-j]))\n",
    "#             dp[n] = max(dp[n], max(i, dp[i])*max((n-i), dp[n-i]))\n",
    "        \n",
    "        print(dp)\n",
    "        \n",
    "integerBreak(11)\n",
    "                "
   ]
  },
  {
   "cell_type": "code",
   "execution_count": 219,
   "metadata": {},
   "outputs": [
    {
     "data": {
      "text/plain": [
       "0"
      ]
     },
     "execution_count": 219,
     "metadata": {},
     "output_type": "execute_result"
    }
   ],
   "source": [
    "def rob(nums):\n",
    "    if not nums:\n",
    "        return 0\n",
    "    l = len(nums)\n",
    "    if l == 1:\n",
    "        return nums[0]\n",
    "    if l == 2:\n",
    "        return max(nums[0], nums[1])\n",
    "    def get_max(s, e):\n",
    "        dp = [0]*e\n",
    "        pre_max = nums[s]\n",
    "        c_max = max(nums[s], nums[s+1])\n",
    "        for i in range(s+2, e):\n",
    "            print(i, pre_max, c_max, pre_max + nums[i])\n",
    "            if  c_max >= pre_max + nums[i]:\n",
    "                pre_max = c_max\n",
    "            else:\n",
    "                c_max, pre_max = (pre_max + nums[i]), c_max\n",
    "            print(i, pre_max, c_max)\n",
    "        return c_max\n",
    "    \n",
    "    print(get_max(0, l-1))\n",
    "    print(get_max(1, l))\n",
    "# rob([1,2,1,1])\n",
    "# rob([1,2,2,1])\n",
    "rob([0,0])"
   ]
  },
  {
   "cell_type": "code",
   "execution_count": 286,
   "metadata": {},
   "outputs": [
    {
     "name": "stdout",
     "output_type": "stream",
     "text": [
      "True\n",
      "True\n"
     ]
    }
   ],
   "source": [
    "def wordbreak(s, words):\n",
    "    l = len(s)\n",
    "    if l<=0:\n",
    "        return False\n",
    "    index_stack = [-1,0]\n",
    "    failed = []\n",
    "    start = 0\n",
    "    end = 1\n",
    "    while start != -1 and end <= l:\n",
    "        if s[start:end] in words:\n",
    "            if end not in failed:\n",
    "                index_stack.append(end)\n",
    "                start = end\n",
    "                end = start + 1\n",
    "            else:\n",
    "                end += 1\n",
    "        else:\n",
    "            end += 1\n",
    "        \n",
    "        if start == l or end > l:\n",
    "            if index_stack[-1] == l:\n",
    "                return True\n",
    "            else:\n",
    "                failed.append(index_stack.pop())\n",
    "                start = index_stack[-1]\n",
    "                end = start + 1\n",
    "\n",
    "    return False\n",
    "               \n",
    "def wb(s, wd):\n",
    "    \n",
    "        for w in wd:\n",
    "            if s == w:\n",
    "                return True\n",
    "            l = len(w)\n",
    "            if s[:l] == w:\n",
    "                if wb(s[l:], wd):\n",
    "                    return True\n",
    "        return False\n",
    "    \n",
    "\n",
    "\n",
    "s = \"applepenapple\"\n",
    "wordDict = [\"apple\", \"pen\"]\n",
    "\n",
    "s = \"catsandog\"\n",
    "wordDict = [\"cats\", \"dog\", \"sand\", \"and\", \"cat\"]\n",
    "s = \"ab\"\n",
    "wordDict=['a', 'b']\n",
    "s = \"aaaaaaa\"\n",
    "wordDict = [\"aaaa\",\"aaa\"]\n",
    "print(wordbreak(s, wordDict))\n",
    "print(wb(s, wordDict))"
   ]
  },
  {
   "cell_type": "code",
   "execution_count": 414,
   "metadata": {},
   "outputs": [
    {
     "name": "stdout",
     "output_type": "stream",
     "text": [
      "7 dog 3 [0, 0, 0, 0, 0, 0, 0, 0, 0, 0, []]\n",
      "3 sand 4 [0, 0, 0, 0, 0, 0, 0, [], 0, 0, []]\n",
      "0 cat 3 [0, 0, 0, [], 0, 0, 0, [], 0, 0, []]\n",
      "4 and 3 [0, 0, 0, [], 0, 0, 0, [], 0, 0, []]\n",
      "0 cats 4 [0, 0, 0, [], [], 0, 0, [], 0, 0, []]\n",
      "[0, 0, 0, [], [], 0, 0, [], 0, 0, []]\n"
     ]
    },
    {
     "data": {
      "text/plain": [
       "[]"
      ]
     },
     "execution_count": 414,
     "metadata": {},
     "output_type": "execute_result"
    }
   ],
   "source": [
    "\"\"\"\n",
    "Input:\n",
    "s = \"catsanddog\"\n",
    "wordDict = [\"cat\", \"cats\", \"and\", \"sand\", \"dog\"]\n",
    "Output:\n",
    "[\n",
    "  \"cats and dog\",\n",
    "  \"cat sand dog\"\n",
    "]\n",
    "\n",
    "\"\"\"\n",
    "\n",
    "def warr(st, wd):\n",
    "        w_arr = []\n",
    "        slist = [0]*(len(st)+1)\n",
    "        def subs(start_pos):\n",
    "            t_arr =[]\n",
    "            for w in wordDict:\n",
    "                c_arr = []\n",
    "                if s == w:\n",
    "                    t_arr.append([s])\n",
    "                else:\n",
    "                    l = len(w)\n",
    "                    if s[start_pos:start_pos+l] == w:\n",
    "                        c_arr = [w]\n",
    "#                         sublist = subs(s[l:])\n",
    "                        \n",
    "                        if slist[start_pos+l] != 0:\n",
    "                            sublist = slist[start_pos+l]\n",
    "                        else:\n",
    "                            sublist = subs((start_pos+l))\n",
    "                            slist[start_pos+l] = sublist\n",
    "                        print(start_pos, l, w, slist)\n",
    "                        if sublist:\n",
    "                            for sl in sublist:\n",
    "                                c_arr.extend(sl)\n",
    "                                t_arr.append(c_arr)\n",
    "                                c_arr = [w]\n",
    "\n",
    "\n",
    "\n",
    "            return t_arr\n",
    "        w_arr = []\n",
    "        for a in subs(0):\n",
    "            w_arr.append(' '.join(a))\n",
    "        print(slist)\n",
    "        return w_arr\n",
    "                    \n",
    "\n",
    "# s = \"applepenapple\"\n",
    "# wordDict = [\"apple\", \"pen\", \"penapple\"]\n",
    "s = \"catsanddog\"\n",
    "wordDict = [\"cat\", \"cats\", \"and\", \"sand\", \"dog\"]\n",
    "# s = \"aaaaaaaaaaaaaaaaaaaaaaaaaaaaaaaaaaaaaaaaaaaaaaaaaaaaaaaaaaaaaaaaaaaaaaaaaaabaaaaaaaaaaaaaaaaaaaaaaaaaaaaaaaaaaaaaaaaaaaaaaaaaaaaaaaaaaaaaaaaaaaaaaaaaaa\"\n",
    "# s = \"aaaaaaaaaaaaaaaaaaaaaaaaaaaaaaaaaa\"\n",
    "# wordDict = [\"a\",\"aa\",\"aaa\",\"aaaa\",\"aaaaa\",\"aaaaaa\",\"aaaaaaa\",\"aaaaaaaa\",\"aaaaaaaaa\",\"aaaaaaaaaa\"]\n",
    "warr(s, wordDict)\n",
    "# wordbreak2(s, wordDict)"
   ]
  },
  {
   "cell_type": "code",
   "execution_count": null,
   "metadata": {},
   "outputs": [],
   "source": []
  }
 ],
 "metadata": {
  "kernelspec": {
   "display_name": "Python 3",
   "language": "python",
   "name": "python3"
  },
  "language_info": {
   "codemirror_mode": {
    "name": "ipython",
    "version": 3
   },
   "file_extension": ".py",
   "mimetype": "text/x-python",
   "name": "python",
   "nbconvert_exporter": "python",
   "pygments_lexer": "ipython3",
   "version": "3.7.5"
  }
 },
 "nbformat": 4,
 "nbformat_minor": 2
}
