{
 "cells": [
  {
   "cell_type": "code",
   "execution_count": 121,
   "metadata": {},
   "outputs": [
    {
     "data": {
      "text/plain": [
       "True"
      ]
     },
     "execution_count": 121,
     "metadata": {},
     "output_type": "execute_result"
    }
   ],
   "source": [
    "ll = [[1,2], [2,3], [3,4]]\n",
    "\n",
    "[1,2] in ll\n"
   ]
  },
  {
   "cell_type": "code",
   "execution_count": 36,
   "metadata": {},
   "outputs": [
    {
     "name": "stdout",
     "output_type": "stream",
     "text": [
      "[15, 11, 14, 9, 10, 13, 7, 8, 4, 2, 5, 12, 6, 3, 1]\n",
      "[1, 2, 3, 4, 5, 6, 7, 8, 9, 10, 11, 12, 13, 14, 15]\n",
      "[1, 2, 3, 4, 5, 6, 7, 8, 9, 10, 11, 12, 13, 14, 15, 30]\n"
     ]
    }
   ],
   "source": [
    "import heapq\n",
    "listForTree = [1,2,3,4,5,6,7,8,9,10,11,12,13,14,15]    \n",
    "\n",
    "heapq._heapify_max(listForTree)         # for max heap\n",
    "print(listForTree)\n",
    "heapq.heapify(listForTree)             # for a min heap\n",
    "print(listForTree)\n",
    "heapq.heappush(listForTree, 30)\n",
    "print(listForTree)"
   ]
  },
  {
   "cell_type": "code",
   "execution_count": 28,
   "metadata": {},
   "outputs": [
    {
     "name": "stdout",
     "output_type": "stream",
     "text": [
      "[-5, 1, 3, 4, 2]\n"
     ]
    }
   ],
   "source": [
    "import heapq\n",
    "hq = [1, 2, 3, 4]\n",
    "heapq.heappush(hq, -5)\n",
    "print(hq)"
   ]
  },
  {
   "cell_type": "code",
   "execution_count": 26,
   "metadata": {},
   "outputs": [
    {
     "name": "stdout",
     "output_type": "stream",
     "text": [
      "[[1], [2], [3], [4]]\n"
     ]
    }
   ],
   "source": [
    "l = [1,2,3,4]\n",
    "ll = [[i] for i in l]\n",
    "print(ll)"
   ]
  },
  {
   "cell_type": "code",
   "execution_count": 27,
   "metadata": {},
   "outputs": [
    {
     "name": "stdout",
     "output_type": "stream",
     "text": [
      "{1, 2, 3, 4, 5}\n"
     ]
    }
   ],
   "source": [
    "s = set(l)\n",
    "s.add(5)\n",
    "s.add(3)\n",
    "print(s)"
   ]
  },
  {
   "cell_type": "code",
   "execution_count": 24,
   "metadata": {},
   "outputs": [
    {
     "ename": "TypeError",
     "evalue": "heap argument must be a list",
     "output_type": "error",
     "traceback": [
      "\u001b[0;31m---------------------------------------------------------------------------\u001b[0m",
      "\u001b[0;31mTypeError\u001b[0m                                 Traceback (most recent call last)",
      "\u001b[0;32m<ipython-input-24-a2e21212279a>\u001b[0m in \u001b[0;36m<module>\u001b[0;34m\u001b[0m\n\u001b[1;32m      1\u001b[0m \u001b[0mt\u001b[0m \u001b[0;34m=\u001b[0m \u001b[0mset\u001b[0m\u001b[0;34m(\u001b[0m\u001b[0;34m)\u001b[0m\u001b[0;34m\u001b[0m\u001b[0;34m\u001b[0m\u001b[0m\n\u001b[0;32m----> 2\u001b[0;31m \u001b[0mheapq\u001b[0m\u001b[0;34m.\u001b[0m\u001b[0mheappush\u001b[0m\u001b[0;34m(\u001b[0m\u001b[0mt\u001b[0m\u001b[0;34m,\u001b[0m \u001b[0;36m5\u001b[0m\u001b[0;34m)\u001b[0m\u001b[0;34m\u001b[0m\u001b[0;34m\u001b[0m\u001b[0m\n\u001b[0m\u001b[1;32m      3\u001b[0m \u001b[0mtype\u001b[0m\u001b[0;34m(\u001b[0m\u001b[0mt\u001b[0m\u001b[0;34m)\u001b[0m\u001b[0;34m\u001b[0m\u001b[0;34m\u001b[0m\u001b[0m\n",
      "\u001b[0;31mTypeError\u001b[0m: heap argument must be a list"
     ]
    }
   ],
   "source": [
    "t = set()\n",
    "heapq.heappush(t, 5)\n",
    "type(t)"
   ]
  },
  {
   "cell_type": "code",
   "execution_count": 3,
   "metadata": {},
   "outputs": [
    {
     "data": {
      "text/plain": [
       "[[3], [4]]"
      ]
     },
     "execution_count": 3,
     "metadata": {},
     "output_type": "execute_result"
    }
   ],
   "source": [
    "[[i] for i in range(3,5)]"
   ]
  },
  {
   "cell_type": "code",
   "execution_count": 63,
   "metadata": {},
   "outputs": [
    {
     "name": "stdout",
     "output_type": "stream",
     "text": [
      "[1, 1, 1]\n",
      "1\n",
      "[1, 1, 1, 1, 2]\n",
      "2\n",
      "[1, 1, 2, 2, 4, 2, 2, 2, 2, 2, 2, 4, 4, 4, 4, 4, 4]\n",
      "4\n",
      "[1, 1, 1, 2, 2, 2, 2, 0, 0, 0, 0, 0, 0, 0, 0, 0, 0, 0, 0, 0, 0, 0, 0, 0, 0, 0, 0, 0, 0, 0, 0, 0, 0, 0, 0, 0, 0, 0, 0, 0, 0, 0, 0, 0, 0, 0, 0, 0, 0, 0, 0, 0, 0, 0, 0, 0, 0, 0, 0, 0, 0, 0, 0, 0, 0, 0, 0, 0, 0, 0, 0, 0, 0, 0, 0, 0, 0, 0, 0, 0, 0, 0, 0, 0, 0, 0, 0, 0, 0, 0, 0, 0, 0, 0, 0, 0, 0, 0, 0, 0, 0, 0, 0, 0, 0, 0, 0, 0, 0, 0, 0, 0, 0, 0, 0, 0, 0, 0, 0, 0, 0, 0, 0, 0, 0, 0, 0, 0, 0, 0, 0, 0, 0, 0, 0, 0, 0, 0, 0, 0, 0, 0, 0, 0, 0, 0, 0, 0, 0, 0, 0, 0, 0, 0, 0, 0, 0, 0, 0, 0, 0, 0, 0, 0, 0, 0, 0, 0, 0, 0, 0, 0, 0, 0, 0, 0, 0, 0, 0, 0, 0, 0, 0, 0, 0, 0, 0, 0, 0, 0, 0, 0, 0, 0, 0, 0, 0, 0, 0, 0, 0, 0, 0, 0, 0, 0, 0, 0, 0, 0, 0, 0, 0, 0, 0, 0, 0, 0, 0, 0, 0, 0, 0, 0, 0, 0, 0]\n",
      "0\n"
     ]
    }
   ],
   "source": [
    "def numDecodings(s):\n",
    "        \n",
    "        l = len(s)\n",
    "        if s[0] == '0':\n",
    "            return 0\n",
    "        dp = [0]*(l+1)\n",
    "        dp[0] = dp[1] = 1\n",
    "        for i in range(1, l):\n",
    "            v1 = int(s[i:i+1])\n",
    "            v2 = int(s[i-1:i+1])\n",
    "            if 0 < v1 <= 9:\n",
    "                # If we get a valid single number decoding, the number of decodings will\n",
    "                # same as previous. Because a single valid decoding won't add to your count.\n",
    "                dp[i+1] = dp[i]\n",
    "            \n",
    "            if 10 <= v2 <= 26:\n",
    "                # Check if a double number decoding is valid. \n",
    "                # If it is valid, we need to add everything before this two digit number to the current number.\n",
    "                dp[i+1] = dp[i+1] + dp[i-1]\n",
    "            # At any state, if we are not able to modify something, it is invalid.\n",
    "            if dp[i+1] == 0:\n",
    "                print(dp)\n",
    "                return 0\n",
    "        print(dp)\n",
    "        return dp[l]\n",
    "\n",
    "print(numDecodings('10'))\n",
    "print(numDecodings('4612'))\n",
    "print(numDecodings('2611055971756562')) #4\n",
    "print(numDecodings('5163490394499093221199401898020270545859326357520618953580237168826696965537789565062429676962877038781708385575876312877941367557410101383684194057405018861234394660905712238428675120866930196204792703765204322329401298924190'))"
   ]
  },
  {
   "cell_type": "code",
   "execution_count": 101,
   "metadata": {},
   "outputs": [
    {
     "name": "stdout",
     "output_type": "stream",
     "text": [
      "9\n",
      "0\n"
     ]
    }
   ],
   "source": [
    "\n",
    "def seats(A):\n",
    "        n = A.count('x')\n",
    "        totalmove = 0\n",
    "        lx = 0\n",
    "        space = 0\n",
    "        for i in A:\n",
    "            if i == 'x':\n",
    "                if space != 0:\n",
    "                    totalmove += min(lx, n-lx)*space\n",
    "                    space = 0\n",
    "                lx += 1\n",
    "            else:\n",
    "                space +=1\n",
    "        return totalmove % 10000003\n",
    "    \n",
    "print(seats('...x...x..x..x'))\n",
    "print(seats('xx...'))\n"
   ]
  },
  {
   "cell_type": "code",
   "execution_count": 106,
   "metadata": {},
   "outputs": [
    {
     "name": "stdout",
     "output_type": "stream",
     "text": [
      "1\n"
     ]
    }
   ],
   "source": [
    "def canCompleteCircuit(A, B):\n",
    "    \n",
    "        spent_gas = {}\n",
    "        \n",
    "        for i in range(len(A)):\n",
    "            if spent_gas.get(str(i)):\n",
    "                gas = spent_gas.get(str(i))\n",
    "            else:\n",
    "                gas = A[i] - B[i]\n",
    "                spent_gas[str(i)] = gas\n",
    "              \n",
    "            j = i \n",
    "            while gas >= 0:\n",
    "                if j < len(A)-1:\n",
    "                    j +=1\n",
    "                else:\n",
    "                    j = 0\n",
    "                if spent_gas.get(str(j)):\n",
    "                    gas += spent_gas.get(str(j))\n",
    "                else:\n",
    "                    s_gas = A[j] - B[j]\n",
    "                    spent_gas[str(j)] = s_gas\n",
    "                    gas += s_gas\n",
    "                \n",
    "                if i == j:\n",
    "                    return i\n",
    "        print(spent_gas)\n",
    "        return -1\n",
    "\n",
    "print(canCompleteCircuit([1,3,3,5], [2,3,3,4]))"
   ]
  },
  {
   "cell_type": "code",
   "execution_count": 115,
   "metadata": {},
   "outputs": [
    {
     "name": "stdout",
     "output_type": "stream",
     "text": [
      "3 0 3\n",
      "3\n"
     ]
    }
   ],
   "source": [
    "def canCompleteCircuit(A, B):\n",
    "    \n",
    "        offset = 0\n",
    "        total_o = 0\n",
    "        start = 0\n",
    "        tank = 0\n",
    "        for i in range(len(A)):\n",
    "            \n",
    "            offset = A[i] - B[i]\n",
    "            total_o += offset\n",
    "            tank += offset\n",
    "            \n",
    "            if tank < 0:\n",
    "                start = i +1\n",
    "                tank = 0\n",
    "        print(tank, total_o, start)\n",
    "        return start if total_o >=0 else -1\n",
    "\n",
    "\n",
    "print(canCompleteCircuit([1,2,3,5], [2,3,4,2]))"
   ]
  },
  {
   "cell_type": "code",
   "execution_count": 135,
   "metadata": {},
   "outputs": [
    {
     "name": "stdout",
     "output_type": "stream",
     "text": [
      "1\n",
      "0\n",
      "1\n"
     ]
    }
   ],
   "source": [
    "def canJump(A):\n",
    "        l = len(A)\n",
    "        max_reach = 0\n",
    "        for i in range(l):\n",
    "            if max_reach < i:\n",
    "                return 0\n",
    "            max_reach = max(max_reach, A[i] + i)\n",
    "            \n",
    "            if max_reach >= l-1: \n",
    "                return 1\n",
    "#             print(max_reach, l)\n",
    "        return 0\n",
    "a = [ 0, 10, 0, 0, 25, 0, 18, 0, 26, 7, 0, 0, 0, 19, 16, 0, 0, 0, 18, 7, 15, 2, 0, 23, 0, 1, 0, 19, 0, 0, 0, 0, 0, 6, 0, 0, 0, 0, 0, 20, 25, 0, 26, 0, 0, 0, 0, 25, 0, 0, 15, 16, 29, 0, 0, 24, 0, 0, 17, 0, 0, 22, 30, 6, 0, 0, 0, 21, 24, 0, 12, 0, 0, 0, 0, 0, 1, 0, 0, 0, 18, 16, 0, 0, 20, 0, 0, 0, 0, 14, 7, 0, 0, 8, 0, 19, 0, 0, 22, 20, 18, 0, 26, 0, 0, 0, 0, 0, 28, 0, 0, 8, 0, 9, 28, 30, 0, 10, 0, 0, 0, 0, 23, 0, 0, 0, 0, 0, 4, 0, 0, 13, 29, 0, 9, 0, 3, 6, 22, 0, 0, 0, 29, 0, 0, 0, 0, 0, 0, 0, 0, 0, 26, 0, 0, 17, 0, 0, 0, 0, 29, 0, 0, 27, 0, 0, 0, 0, 29, 22, 0, 8, 0, 0, 2, 0, 13, 8, 0, 2, 0, 0, 0, 0, 1, 13, 3, 0, 0, 18, 0, 5, 23, 0, 0, 3, 24, 0, 0, 10, 0, 0, 0, 0, 0, 0, 0, 0, 6, 0, 2, 2, 0, 0, 0, 14, 24, 0, 17, 0, 0, 0, 0, 0, 0, 17, 2, 0, 10, 6, 5, 0, 0, 20, 21, 26, 16, 0, 0, 0, 21, 9, 0, 0, 0, 0, 0, 11, 0, 25, 0, 0, 0, 9, 0, 6, 20, 0, 0, 0, 0, 0, 0, 0, 26, 25, 0, 14, 0, 0, 0, 7, 0, 0, 1, 0, 0, 5, 0, 0, 0, 1, 0, 29, 0, 0, 0, 9, 9, 0, 0, 0, 0, 0, 24, 0, 0, 0, 0, 25, 16, 0, 0, 0, 0, 16, 23, 0, 0, 11, 0, 26, 0, 0, 0, 0, 11, 0, 0, 0, 0, 0, 0, 0, 0, 0, 27, 0, 0, 0, 17, 0, 0, 0, 0, 0, 22, 0, 0, 23, 0, 0, 0, 0, 0, 0, 13, 0, 8, 0, 0, 5, 0, 17, 0, 14, 0, 0, 14, 0, 0, 0, 0, 0, 0, 0, 15, 25, 26, 17, 0, 11, 6, 0, 0, 9, 3, 0, 0, 0, 0, 7, 0, 26, 0, 0, 0, 28, 0, 0, 0, 0, 0, 28, 0, 0, 14, 0, 0, 0, 0, 18, 25, 0, 0, 0, 0, 0, 0, 6, 14, 12, 27, 12, 21, 11, 15, 0, 6, 9, 25, 0, 0, 0, 0, 18, 0, 3, 0, 5, 0, 0, 8, 9, 17, 6, 28, 26, 0, 12, 0, 0, 0, 0, 22, 0, 0, 0, 0, 9, 0, 0, 0, 0, 14, 16, 8, 19, 0, 0, 0, 0, 6, 0, 0, 0, 0, 0, 0, 0, 0, 0, 0, 0, 30, 0, 9, 0, 0, 23, 0, 0, 0, 0, 9, 0, 0, 13, 7, 0, 22, 0, 0, 0, 14, 26, 0, 27, 0, 0, 4, 0, 0, 0, 0, 0, 17, 0, 0, 9, 0, 2, 0, 12, 0, 0, 0, 0, 0, 0, 0, 0, 0, 0, 27, 10, 0, 0, 0, 0, 0, 0, 0, 0, 2, 0, 0, 8, 0, 0, 0, 4, 0, 0, 0, 0, 21, 0, 0, 0, 0, 0, 0, 0, 5, 0, 0, 19, 0, 0, 0, 21, 0, 14, 0, 23, 0, 18, 0, 0, 0, 0, 0, 0, 0, 10, 0, 7, 0, 0, 0, 0, 0, 0, 0, 10, 16, 0, 16, 0, 0, 30, 0, 0, 4, 0, 0, 0, 0, 0, 0, 3, 0, 25, 0, 0, 0, 0, 20, 0, 0, 0, 5, 0, 0, 7, 0, 0, 0, 0, 0, 0, 0, 0, 0, 0, 18, 27, 18, 7, 0, 4, 0, 30, 18, 26, 17, 0, 0, 0, 8, 16, 0, 0, 0, 0, 0, 0, 27, 0, 0, 0, 0, 0, 9, 0, 0, 28, 0, 17, 0, 2, 0, 27, 0, 21, 0, 0, 0, 0, 0, 0, 0, 0, 0, 0, 17, 0, 6, 0, 19, 23, 0, 0, 0, 20, 0, 0, 16, 0, 0, 0, 0, 0, 16, 0, 0, 0, 4, 0, 0, 0, 0, 24, 8, 0, 0, 25, 12, 0, 3, 0, 5, 21, 0, 0, 3, 0, 18, 25, 10, 30, 24, 0, 14, 0, 0, 18, 0, 0, 0, 0, 0, 0, 18, 0, 15, 0, 27, 0, 0, 22, 0, 0, 0, 0, 14, 0, 17, 0, 18, 29, 0, 0, 23, 0, 2, 0, 0, 0, 0, 23, 0, 25, 0, 0, 0, 2, 0, 2, 0, 0, 5, 28, 0, 0, 18, 0, 0, 0, 0, 0, 0, 17, 19, 0, 0, 0, 26, 0, 0, 0, 0, 3, 0, 0, 29, 11, 0, 0, 4, 0, 27, 11, 0, 3, 0, 0, 18, 0, 0, 0, 0, 0, 1, 0, 0, 0, 0, 0, 0, 20, 0, 18, 0, 0, 0, 0, 16, 0, 0, 0, 0, 0, 0, 0, 0, 13, 0, 0, 0, 0, 0, 30, 0, 0, 1, 0, 0, 0, 0, 27, 0, 0, 0, 1, 0, 10, 0, 0 ]\n",
    "print(canJump([0]))\n",
    "print(canJump(a))\n",
    "b = [ 16, 0, 0, 0, 12, 1, 13, 1, 30, 0, 14, 0, 0, 3, 0, 0, 2, 0, 0, 0, 7, 0, 0, 0, 0, 16, 0, 14, 0, 22, 0, 0, 0, 5, 0, 0, 0, 0, 7, 0, 26, 0, 0, 13, 22, 0, 0, 0, 0, 22, 0, 0, 0, 16, 0, 0, 29, 0, 0, 0, 3, 0, 0, 0, 28, 0, 0, 0, 29, 0, 0, 0, 0, 0, 0, 3, 0, 0, 0, 0, 22, 0, 0, 0, 0, 0, 3, 0, 0, 0, 19, 0, 0, 15, 0, 0, 30, 0, 0, 0, 0, 0, 0, 12, 0, 19, 6, 30, 0, 0, 0, 0, 0, 0, 0, 0, 0, 17, 12, 0, 24, 16, 21, 0, 8, 0, 14, 6, 0, 0, 5, 23, 0, 22, 0, 15, 15, 0, 26, 0, 14, 0, 0, 3, 0, 0, 0, 0, 0, 0, 0, 0, 0, 0, 16, 13, 0, 24, 0, 0, 16, 24, 0, 9, 0, 0, 0, 0, 0, 21, 0, 0, 25, 0, 0, 0, 0, 0, 27, 0, 0, 0, 0, 0, 0, 0, 24, 0, 0, 0, 0, 0, 30, 10, 0, 18, 30, 0, 0, 0, 0, 0, 0, 19, 0, 0, 0, 0, 29, 0, 0, 0, 8, 7, 29, 16, 30, 0, 0, 3, 0, 0, 0, 17, 0, 0, 22, 0, 0, 0, 0, 0, 18, 0, 0, 11, 11, 0, 0, 0, 0, 11, 19, 2, 0, 0, 0, 2, 0, 16, 11, 21, 0, 10, 0, 29, 0, 0, 0, 0, 0, 1, 15, 0, 0, 0, 0, 0, 0, 12, 0, 0, 0, 0, 0, 29, 0, 9, 0, 6, 0, 0, 0, 8, 0, 0, 0, 0, 0, 0, 0, 0, 22, 0, 0, 0, 0, 0, 0, 0, 0, 0, 13, 0, 0, 0, 0, 0, 0, 11, 0, 0, 21, 0, 0, 0, 0, 4, 0, 0, 0, 0, 14, 21, 0, 0, 0, 0, 0, 0, 0, 5, 0, 0, 0, 0, 21, 0, 0, 0, 0, 0, 0, 0, 0, 21, 0, 0, 14, 0, 0, 0, 0, 29, 24, 0, 4, 0, 0, 0, 0, 0, 5, 0, 0, 0, 0, 0, 0, 30, 0, 0, 0, 0, 0, 0, 0, 25, 0, 9, 0, 0, 0, 0, 24, 21, 12, 0, 0, 0, 3, 0, 0, 0, 0, 0, 0, 0, 29, 2, 0, 0, 0, 22, 9, 0, 0, 0, 5, 0, 0, 0, 0, 0, 0, 0, 8, 29, 19, 0, 0, 0, 14, 24, 0, 22, 0, 24, 0, 0, 5, 0, 0, 0, 28, 0, 0, 29, 0, 0, 27, 13, 0, 18, 0, 0, 0, 0, 11, 11, 0, 0, 28, 0, 0, 0, 0, 0, 0, 0, 0, 15, 0, 0, 0, 0, 0, 12, 0, 0, 12, 19, 23, 0, 20, 0, 8, 6, 23, 17, 14, 0, 0, 24, 3, 0, 0, 0, 6, 11, 24, 0, 0, 0, 0, 0, 0, 18, 0, 0, 1, 27, 0, 1, 0, 0, 0, 0, 0, 19, 0, 0, 0, 0, 11, 16, 0, 0, 24, 25, 0, 0, 17, 0, 0, 0, 0, 21, 0, 0, 0, 0, 0, 9, 19, 0, 0, 0, 0, 0, 0, 6, 0, 0, 5, 0, 15, 17, 14, 1, 27, 0, 0, 24, 16, 28, 0, 18, 0, 20, 20, 0, 29, 0, 2, 29, 0, 0, 17, 0, 30, 0, 0, 0, 0, 0, 29, 15, 0, 0, 0, 0, 0, 0, 0, 14, 0, 0, 16, 0, 0, 0, 0, 0, 0, 18, 20, 0, 0, 0, 0, 0, 0, 0, 9, 0, 0, 21, 0, 6, 0, 0, 0, 0, 0, 0, 0, 0, 28, 11, 19, 0, 0, 25, 0, 0, 20, 0, 0, 0, 0, 0, 15, 0, 0, 6, 3, 4, 0, 0, 0, 0, 22, 0, 2, 0, 0, 0, 14, 0, 0, 5, 0, 18, 27, 0, 0, 0, 0, 0, 28, 0, 0, 0, 9, 0, 20, 4, 28, 0, 0, 4, 0, 0, 3, 0, 3, 9, 3, 0, 6, 0, 0, 0, 0, 0, 0, 13, 0, 23, 0, 0, 16, 5, 0, 27, 4, 0, 28, 0, 0, 0, 0, 0, 0, 0, 5, 0, 24, 0, 0, 0, 0, 5, 0, 0, 0, 0, 0, 4, 10, 28, 0, 0, 0, 22, 14, 8, 0, 0, 0, 0, 0, 0, 0, 0, 0, 0, 0, 19, 0, 21, 0, 30, 0, 0, 19, 0, 0, 0, 0, 7, 0, 22, 0, 0, 0, 0, 0, 0, 14, 0, 0, 0, 0, 0, 13, 29, 18, 0, 0, 0, 0, 0, 0, 0, 0, 29, 30, 0, 0, 0, 28, 0, 0, 18, 26, 0, 0, 22, 0, 0, 0, 0, 0, 0, 0, 0, 0, 0, 0, 0, 0, 0, 0, 0, 5, 0, 27, 0, 0, 0, 0, 0, 0, 19, 0, 0, 0, 29, 16, 13, 0, 3, 0, 0, 11, 12, 7, 3, 0, 2, 0, 0, 16, 0, 0, 26, 0, 15, 0, 20, 0, 0, 0, 0, 0, 0, 0, 4, 0, 0, 25, 3, 27, 0, 0, 0, 13, 0, 0, 0, 0, 22, 25, 0, 22, 25, 0, 17, 29, 1, 0, 0, 0, 0, 0, 0, 0, 0, 0, 0, 9, 28, 8, 1, 0, 0, 0, 0, 0, 29, 15, 16, 0, 0, 0, 0, 0, 0, 23, 28, 0, 0, 0, 2, 0, 12, 27, 0, 22, 0, 0 ]\n",
    "print(canJump(b)) #1"
   ]
  },
  {
   "cell_type": "code",
   "execution_count": 158,
   "metadata": {},
   "outputs": [
    {
     "name": "stdout",
     "output_type": "stream",
     "text": [
      "[90, 44, 1]\n",
      "-1\n"
     ]
    }
   ],
   "source": [
    "def jump(A):\n",
    "\n",
    "    min_stack = []\n",
    "    l = len(A)\n",
    "    if l <= 1:\n",
    "        return 0\n",
    "    for i in range(l-2, -1, -1):\n",
    "        c_max = (A[i] + i)\n",
    "        if c_max >= (l-1):\n",
    "            min_stack = [i]\n",
    "        elif min_stack:\n",
    "            if c_max>=min_stack[-1]:\n",
    "                while len(min_stack) >= 2 and c_max >= min_stack[-2]:\n",
    "                    min_stack.pop()\n",
    "                min_stack.append(i)\n",
    "#         print(i, min_stack, A[i])\n",
    "    print(min_stack)\n",
    "    if min_stack:\n",
    "        if min_stack[-1] == 0:\n",
    "            return len(min_stack)\n",
    "        else:\n",
    "            return -1\n",
    "    else:\n",
    "        return -1\n",
    "# print(jump([12,2,3,0,6,2,0,3]))\n",
    "a = [ 33, 21, 50, 0, 0, 46, 34, 3, 0, 12, 33, 0, 31, 37, 15, 17, 34, 18, 0, 4, \n",
    "     12, 41, 18, 35, 37, 34, 0, 47, 0, 39, 32, 49, 5, 41, 46, 26, 0, 2, 49, 35, \n",
    "     4, 19, 2, 27, 23, 49, 19, 38, 0, 33, 47, 1, 21, 36, 18, 33, 0, 1, 0, 39, 0, \n",
    "     22, 0, 9, 36, 45, 31, 4, 14, 48, 2, 33, 0, 39, 0, 37, 48, 44, 0, 11, 24, \n",
    "     16, 10, 23, 22, 41, 32, 14, 22, 16, 23, 38, 42, 16, 15, 0, 39, 23, 0, 42, 15, 25, 0, 41, 2, 48, 28 ]\n",
    "a = [ 0, 46, 46, 0, 2, 47, 1, 24, 45, 0, 0, 24, 18, 29, 27, 11, 0, 0, 40, 12, 4, 0, 0, 0, 49, 42, 13, 5, 12, 45, 10, 0, 29, 11, 22, 15, 17, 41, 34, 23, 11, 35, 0, 18, 47, 0, 38, 37, 3, 37, 0, 43, 50, 0, 25, 12, 0, 38, 28, 37, 5, 4, 12, 23, 31, 9, 26, 19, 11, 21, 0, 0, 40, 18, 44, 0, 0, 0, 0, 30, 26, 37, 0, 26, 39, 10, 1, 0, 0, 3, 50, 46, 1, 38, 38, 7, 6, 38, 27, 7, 25, 30, 0, 0, 36, 37, 6, 39, 40, 32, 41, 12, 3, 44, 44, 39, 2, 26, 40, 36, 35, 21, 14, 41, 48, 50, 21, 0, 0, 23, 49, 21, 11, 27, 40, 47, 49 ]\n",
    "\n",
    "print(jump(a)) #-1\n"
   ]
  },
  {
   "cell_type": "code",
   "execution_count": 174,
   "metadata": {},
   "outputs": [
    {
     "name": "stdout",
     "output_type": "stream",
     "text": [
      "[[1, 1, 1], [0, 0, 0], [0, 0, 0]]\n",
      "[[1, 1, 1], [1, 0, 1], [1, 1, 2]]\n",
      "2\n"
     ]
    }
   ],
   "source": [
    "def uniquePathsWithObstacles(A):\n",
    "        n = len(A)\n",
    "        m = len(A[0])\n",
    "        if A[0][0] == 1:\n",
    "            return 0\n",
    "            \n",
    "        ways = [[0]*m for i in range(n)]\n",
    "        ways[0][0] = 1\n",
    "        \n",
    "        for i in range(1, m):\n",
    "            ways[0][i] = ways[0][i-1] if A[0][i] != 1 else 0\n",
    "        print(ways)\n",
    "        for i in range(1, n):\n",
    "            for j in range(m):\n",
    "                if j == 0:\n",
    "                    ways[i][j] = ways[i-1][j] if A[i][j] != 1 else 0\n",
    "                else:    \n",
    "                    ways[i][j] = ways[i-1][j] + ways[i][j-1] if A[i][j] != 1 else 0\n",
    "        print(ways)\n",
    "        return ways[n-1][m-1]\n",
    "                \n",
    "a = [\n",
    "  [0,0,0],\n",
    "  [0,1,0],\n",
    "  [0,0,0]\n",
    "]\n",
    "# a = [[1, 0]]\n",
    "print(uniquePathsWithObstacles(a))"
   ]
  },
  {
   "cell_type": "code",
   "execution_count": 12,
   "metadata": {},
   "outputs": [
    {
     "name": "stdout",
     "output_type": "stream",
     "text": [
      "1 0 [[2], [5], [], [], []]\n",
      "1 1 [[2], [5, 6], [], [], []]\n",
      "2 0 [[2], [5, 6], [11], [], []]\n",
      "2 1 [[2], [5, 6], [11, 10], [], []]\n",
      "2 2 [[2], [5, 6], [11, 10, 13], [], []]\n",
      "3 0 [[2], [5, 6], [11, 10, 13], [15], []]\n",
      "3 1 [[2], [5, 6], [11, 10, 13], [15, 11], []]\n",
      "3 2 [[2], [5, 6], [11, 10, 13], [15, 11, 18], []]\n",
      "3 3 [[2], [5, 6], [11, 10, 13], [15, 11, 18, 16], []]\n",
      "4 0 [[2], [5, 6], [11, 10, 13], [15, 11, 18, 16], [19]]\n",
      "4 1 [[2], [5, 6], [11, 10, 13], [15, 11, 18, 16], [19, 12]]\n",
      "4 2 [[2], [5, 6], [11, 10, 13], [15, 11, 18, 16], [19, 12, 19]]\n",
      "4 3 [[2], [5, 6], [11, 10, 13], [15, 11, 18, 16], [19, 12, 19, 19]]\n",
      "4 4 [[2], [5, 6], [11, 10, 13], [15, 11, 18, 16], [19, 12, 19, 19, 25]]\n",
      "12\n"
     ]
    }
   ],
   "source": [
    "def minimumTotal(A):\n",
    "    c_min_arr = [[] for i in range(len(A))]\n",
    "    c_min_arr[0] = [A[0][0]]\n",
    "    for i in range(1, len(A)):\n",
    "        for j in range(len(A[i])):\n",
    "            if j == 0:\n",
    "                c_min_arr[i].append(A[i][j]+c_min_arr[i-1][j])\n",
    "            elif j == (len(A[i]) - 1):\n",
    "                c_min_arr[i].append(A[i][j]+c_min_arr[i-1][j-1])\n",
    "            else:\n",
    "                c_min_arr[i].append(min(A[i][j]+c_min_arr[i-1][j-1],A[i][j]+c_min_arr[i-1][j]))\n",
    "                       \n",
    "            print(i, j, c_min_arr)\n",
    "    return min(c_min_arr[-1])\n",
    "    \n",
    "a = [\n",
    "     [2],\n",
    "    [3,4],\n",
    "   [6,5,7],\n",
    "  [4,1,8,3],\n",
    "    [4,1,8,3, 9]\n",
    "]\n",
    "print(minimumTotal(a))"
   ]
  },
  {
   "cell_type": "code",
   "execution_count": 14,
   "metadata": {},
   "outputs": [
    {
     "name": "stdout",
     "output_type": "stream",
     "text": [
      "12\n"
     ]
    }
   ],
   "source": [
    "def minimumTotal_dp(A):\n",
    "    dp = [[0]*len(A[-1]) for i in range(len(A))]\n",
    "\n",
    "    dp[0][0] = A[0][0]\n",
    "    for i in range(1, len(A)):\n",
    "        for j in range(len(A[i])):\n",
    "            if j==0:\n",
    "                dp[i][0] = dp[i-1][0] + A[i][0]\n",
    "            elif j == (len(A[i]) - 1):\n",
    "                dp[i][j] = A[i][j]+dp[i-1][j-1]\n",
    "            else:\n",
    "                dp[i][j] = min(A[i][j]+dp[i-1][j-1],A[i][j]+dp[i-1][j])\n",
    "\n",
    "    return min(dp[len(A)-1])\n",
    "    \n",
    "a = [\n",
    "     [2],\n",
    "    [3,4],\n",
    "   [6,5,7],\n",
    "  [4,1,8,3],\n",
    "[4,1,8,3, 9]\n",
    "]\n",
    "print(minimumTotal_dp(a))"
   ]
  },
  {
   "cell_type": "code",
   "execution_count": 8,
   "metadata": {},
   "outputs": [
    {
     "name": "stdout",
     "output_type": "stream",
     "text": [
      "6\n",
      "4\n",
      "0\n",
      "3\n"
     ]
    }
   ],
   "source": [
    "def hammingWeight(n):\n",
    "    sum = 0\n",
    "    while n != 0:\n",
    "        sum += 1\n",
    "        n &= (n - 1)\n",
    "        print(n)\n",
    "    return sum\n",
    "\n",
    "print(hammingWeight(7))\n",
    "\n",
    "    \n",
    "    "
   ]
  },
  {
   "cell_type": "code",
   "execution_count": 2,
   "metadata": {},
   "outputs": [
    {
     "name": "stdout",
     "output_type": "stream",
     "text": [
      "dict_keys(['a', 'b', 'c'])\n",
      "dict_values(['aa', 'bb', 'cc'])\n",
      "aa\n",
      "bb\n",
      "cc\n",
      "a aa\n",
      "b bb\n",
      "c cc\n"
     ]
    }
   ],
   "source": [
    "d = {'a': 'aa', 'b':'bb', 'c':'cc'}\n",
    "k = d.keys()\n",
    "print(k)\n",
    "v = d.values()\n",
    "print(v)\n",
    "for i in d.values():\n",
    "    print(i)\n",
    "for k, v in d.items():\n",
    "    print(k, v)"
   ]
  },
  {
   "cell_type": "code",
   "execution_count": 6,
   "metadata": {},
   "outputs": [
    {
     "data": {
      "text/plain": [
       "0"
      ]
     },
     "execution_count": 6,
     "metadata": {},
     "output_type": "execute_result"
    }
   ],
   "source": [
    "4&3"
   ]
  },
  {
   "cell_type": "code",
   "execution_count": 62,
   "metadata": {},
   "outputs": [
    {
     "name": "stdout",
     "output_type": "stream",
     "text": [
      "['S', '5', '13', 'S', '9', '6', 'S', '4', '1', 'G', '4', 'S', '6', '1', 'S', '8', '11', 'G', '13', 'G', '1', 'S', '12', '12', 'G', '10', 'S', '15', '13', 'S', '2', '13', 'S', '7', '5', 'S', '10', '3', 'G', '6', 'G', '10', 'S', '15', '14', 'S', '5', '12', 'G', '5', 'G', '7', 'G', '15', 'G', '5', 'G', '6', 'G', '10', 'S', '7', '13', 'G', '14', 'S', '8', '9', 'G', '4', 'S', '6', '11', 'G', '9', 'S', '6', '12', 'G', '3']\n",
      "{'5': '13'} ['5']\n",
      "{'5': '13', '9': '6'} ['5', '9']\n",
      "{'5': '13', '9': '6', '4': '1'} ['5', '9', '4']\n",
      "{'5': '13', '9': '6', '4': '1'} ['5', '9', '4']\n",
      "1\n",
      "{'5': '13', '9': '6', '4': '1', '6': '1'} ['4', '9', '5', '6']\n",
      "{'5': '13', '9': '6', '4': '1', '8': '11'} ['4', '8', '9', '5']\n",
      "{'5': '13', '9': '6', '4': '1', '8': '11'} ['4', '8', '9', '5']\n",
      "-1\n",
      "{'5': '13', '9': '6', '4': '1', '8': '11'} ['4', '8', '9', '5']\n",
      "-1\n",
      "{'9': '6', '4': '1', '8': '11', '12': '12'} ['4', '12', '8', '9']\n",
      "{'9': '6', '4': '1', '8': '11', '12': '12'} ['4', '12', '8', '9']\n",
      "-1\n",
      "{'4': '1', '8': '11', '12': '12', '15': '13'} ['4', '15', '12', '8']\n",
      "{'4': '1', '12': '12', '15': '13', '2': '13'} ['4', '2', '15', '12']\n",
      "{'4': '1', '15': '13', '2': '13', '7': '5'} ['4', '7', '2', '15']\n",
      "{'4': '1', '2': '13', '7': '5', '10': '3'} ['4', '10', '7', '2']\n",
      "{'4': '1', '2': '13', '7': '5', '10': '3'} ['4', '10', '7', '2']\n",
      "-1\n",
      "{'4': '1', '2': '13', '7': '5', '10': '3'} ['4', '10', '7', '2']\n",
      "3\n",
      "{'4': '1', '7': '5', '10': '3', '15': '14'} ['10', '15', '4', '7']\n",
      "{'4': '1', '10': '3', '15': '14', '5': '12'} ['10', '5', '15', '4']\n",
      "{'4': '1', '10': '3', '15': '14', '5': '12'} ['10', '5', '15', '4']\n",
      "12\n",
      "{'4': '1', '10': '3', '15': '14', '5': '12'} ['5', '10', '15', '4']\n",
      "-1\n",
      "{'4': '1', '10': '3', '15': '14', '5': '12'} ['5', '10', '15', '4']\n",
      "14\n",
      "{'4': '1', '10': '3', '15': '14', '5': '12'} ['15', '10', '5', '4']\n",
      "12\n",
      "{'4': '1', '10': '3', '15': '14', '5': '12'} ['5', '10', '15', '4']\n",
      "-1\n",
      "{'4': '1', '10': '3', '15': '14', '5': '12'} ['5', '10', '15', '4']\n",
      "3\n",
      "{'10': '3', '15': '14', '5': '12', '7': '13'} ['10', '7', '5', '15']\n",
      "{'10': '3', '15': '14', '5': '12', '7': '13'} ['10', '7', '5', '15']\n",
      "-1\n",
      "{'10': '3', '5': '12', '7': '13', '8': '9'} ['10', '8', '7', '5']\n",
      "{'10': '3', '5': '12', '7': '13', '8': '9'} ['10', '8', '7', '5']\n",
      "-1\n",
      "{'10': '3', '7': '13', '8': '9', '6': '11'} ['10', '6', '8', '7']\n",
      "{'10': '3', '7': '13', '8': '9', '6': '11'} ['10', '6', '8', '7']\n",
      "-1\n",
      "{'10': '3', '7': '13', '8': '9', '6': '12'} ['10', '6', '8', '7']\n",
      "{'10': '3', '7': '13', '8': '9', '6': '12'} ['10', '6', '8', '7']\n",
      "-1\n"
     ]
    }
   ],
   "source": [
    "class LRUCache:\n",
    "\n",
    "    # @param capacity, an integer\n",
    "    def __init__(self, capacity):\n",
    "        self.capacity = capacity\n",
    "        self.cache = {}\n",
    "        self.lru = []\n",
    "\n",
    "    # @return an integer\n",
    "    def get(self, key):\n",
    "        print(self.cache, self.lru)\n",
    "        if key in self.cache:\n",
    "            c_index = self.lru.index(key)\n",
    "            self.lru[0], self.lru[c_index] = self.lru[c_index], self.lru[0]\n",
    "            return self.cache[key]\n",
    "        else:\n",
    "            return -1\n",
    "        \n",
    "    # @param key, an integer\n",
    "    # @param value, an integer\n",
    "    # @return nothing\n",
    "    def set(self, key, value):\n",
    "        if self.capacity > len(self.cache):\n",
    "            self.cache[key] = value\n",
    "            if not key in self.lru:\n",
    "                self.lru.append(key)\n",
    "        else:\n",
    "            if key in self.cache:\n",
    "                self.cache[key] = value\n",
    "#                 c_index = self.lru.index(key)\n",
    "#                 self.lru[0], self.lru[c_index] = self.lru[c_index], self.lru[0]\n",
    "            else:\n",
    "                old_key = self.lru.pop()\n",
    "                self.cache.pop(old_key)\n",
    "                self.cache[key] = value\n",
    "                self.lru.insert(1,key)\n",
    "        print(self.cache, self.lru)\n",
    "lru = LRUCache(4)\n",
    "\n",
    "s = \"S 5 13 S 9 6 S 4 1 G 4 S 6 1 S 8 11 G 13 G 1 S 12 12 G 10 S 15 13 S 2 13 S 7 5 S 10 3 G 6 G 10 S 15 14 S 5 12 G 5 G 7 G 15 G 5 G 6 G 10 S 7 13 G 14 S 8 9 G 4 S 6 11 G 9 S 6 12 G 3\"\n",
    "a = s.split(' ')\n",
    "print(a)\n",
    "i =0\n",
    "while i < len(a):\n",
    "    \n",
    "    if a[i] == 'S':\n",
    "        lru.set(a[i+1], a[i+2])\n",
    "        i += 3\n",
    "    elif a[i] == 'G':\n",
    "        print(lru.get(a[i+1]))\n",
    "        i += 2\n",
    "    "
   ]
  },
  {
   "cell_type": "code",
   "execution_count": null,
   "metadata": {},
   "outputs": [],
   "source": []
  }
 ],
 "metadata": {
  "kernelspec": {
   "display_name": "Python 3",
   "language": "python",
   "name": "python3"
  },
  "language_info": {
   "codemirror_mode": {
    "name": "ipython",
    "version": 3
   },
   "file_extension": ".py",
   "mimetype": "text/x-python",
   "name": "python",
   "nbconvert_exporter": "python",
   "pygments_lexer": "ipython3",
   "version": "3.7.5"
  }
 },
 "nbformat": 4,
 "nbformat_minor": 2
}
