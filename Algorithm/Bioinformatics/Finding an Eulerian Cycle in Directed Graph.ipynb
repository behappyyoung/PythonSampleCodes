{
 "cells": [
  {
   "cell_type": "code",
   "execution_count": 19,
   "id": "9cc5a5e2",
   "metadata": {},
   "outputs": [
    {
     "name": "stdout",
     "output_type": "stream",
     "text": [
      "defaultdict(None, {2: [3, 2], 1: 2, 3: 1})\n",
      "2\n",
      "1\n",
      "3\n"
     ]
    }
   ],
   "source": [
    "\"\"\"\n",
    "Input:\n",
    "3 4\n",
    "2 3\n",
    "2 2\n",
    "1 2\n",
    "3 1\n",
    "Output:\n",
    "1\n",
    "1 2 2 3\n",
    "Explanation:\n",
    "1\n",
    "2\n",
    "3\n",
    "There is an Eulerian cycle in this graph: 1 → 2 → 2 → 3 → 1.\n",
    "\n",
    "Input:\n",
    "3 4\n",
    "1 3\n",
    "2 3\n",
    "1 2\n",
    "3 1\n",
    "Output:\n",
    "0\n",
    "Explanation:\n",
    "1\n",
    "2\n",
    "3\n",
    "There is no Eulerian cycle in this graph since, for example, the vertex 1 is imbalanced: its out-degree\n",
    "is higher that its in-degree.\n",
    "\n",
    "\n",
    "Input:\n",
    "4 7\n",
    "1 2\n",
    "2 1\n",
    "1 4\n",
    "4 1\n",
    "2 4\n",
    "3 2\n",
    "4 3\n",
    "Output:\n",
    "1\n",
    "4 3 2 4 1 2 1\n",
    "Explanation:\n",
    "1\n",
    "2 3\n",
    "4\n",
    "There is an Eulerian cycle in this graph: 4 → 3 → 2 → 4 → 1 → 2 → 1 → 4.\n",
    "\n",
    "\n",
    "\"\"\"\n",
    "from collections import defaultdict\n",
    "\n",
    "class ListNode:\n",
    "    def __init__(self, i, x):\n",
    "        self.val = x\n",
    "        self.index = i\n",
    "        self.next = None\n",
    "\n",
    "    def val_exist(self, head_node, val):\n",
    "        c_node = head_node\n",
    "        while c_node is not None:\n",
    "            if c_node.val == val:\n",
    "                return True\n",
    "            c_node = c_node.next\n",
    "        return False\n",
    "    \n",
    "def print_node(head_node):\n",
    "    c_node = head_node\n",
    "    print_str = ''\n",
    "    while c_node is not None:\n",
    "        print_str += '->' + str(c_node.val)\n",
    "        c_node = c_node.next\n",
    "    print(print_str)\n",
    "    \n",
    "def create_path(dd):\n",
    "    print(dd)\n",
    "    done = True\n",
    "    start_path = 0\n",
    "    path = [start_path]\n",
    "    while done:\n",
    "        for d in dd:\n",
    "            print(d)\n",
    "        done = False\n",
    "    \n",
    "def make_dict(arr):\n",
    "    d = defaultdict()\n",
    "    for ar in arr:\n",
    "        if ar[0] in d:\n",
    "            d[ar[0]] = d[ar[0]].append(ar[1]) if isinstance(d[ar[0]], list) else [d[ar[0]], ar[1]]\n",
    "        else:\n",
    "            d[ar[0]] = ar[1]\n",
    "    \n",
    "    create_path(d)\n",
    "    \n",
    "\n",
    "input_arr = [[2,3], [2,2], [1,2], [3,1]]\n",
    "make_dict(input_arr)\n",
    "\n"
   ]
  },
  {
   "cell_type": "code",
   "execution_count": 39,
   "id": "fe56eb46",
   "metadata": {},
   "outputs": [
    {
     "data": {
      "text/plain": [
       "False"
      ]
     },
     "execution_count": 39,
     "metadata": {},
     "output_type": "execute_result"
    }
   ],
   "source": [
    "l = ['ACC', 'BCC']\n",
    "ll = ['BCC', 'ACC']\n",
    "l == ll"
   ]
  }
 ],
 "metadata": {
  "kernelspec": {
   "display_name": "Python 3",
   "language": "python",
   "name": "python3"
  },
  "language_info": {
   "codemirror_mode": {
    "name": "ipython",
    "version": 3
   },
   "file_extension": ".py",
   "mimetype": "text/x-python",
   "name": "python",
   "nbconvert_exporter": "python",
   "pygments_lexer": "ipython3",
   "version": "3.6.9"
  }
 },
 "nbformat": 4,
 "nbformat_minor": 5
}
