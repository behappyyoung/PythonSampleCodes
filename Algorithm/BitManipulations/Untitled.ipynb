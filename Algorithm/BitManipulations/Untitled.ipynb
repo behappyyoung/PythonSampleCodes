{
 "cells": [
  {
   "cell_type": "code",
   "execution_count": 11,
   "id": "1b04a25d",
   "metadata": {},
   "outputs": [
    {
     "name": "stdout",
     "output_type": "stream",
     "text": [
      "4\n",
      "4\n",
      "4\n",
      "247\n",
      "247\n",
      "162\n"
     ]
    }
   ],
   "source": [
    "\"\"\"\n",
    "Given an array of integers, every element appears thrice except for one. Find that single one.\n",
    "\n",
    "\n",
    "Input : [1, 2, 4, 3, 3, 2, 2, 3, 1, 1]\n",
    "Output : 4\n",
    "\n",
    "\n",
    "single_number = > n ==> extra space\n",
    "Could you implement it without using extra memory?\n",
    "\n",
    "\"\"\"\n",
    "\n",
    "def single_number(arr):\n",
    "    check_dict = {}\n",
    "    for i in arr:\n",
    "        str_i = str(i)\n",
    "        if str_i in check_dict:\n",
    "            check_dict[str_i] = False\n",
    "        else:\n",
    "            check_dict[str_i] = True\n",
    "\n",
    "    for check in check_dict:\n",
    "        if check_dict[check]:\n",
    "            return check\n",
    "\n",
    "def single_number_s(arr):\n",
    "    first = 0\n",
    "    second = 0\n",
    "    for i in arr:\n",
    "        first = (first ^ i) & ~second\n",
    "        second = (second ^ i) & ~first\n",
    "    return first\n",
    "\n",
    "\n",
    "def single_number_d(nums):\n",
    "        s = nums[0]\n",
    "        for i in range(1, len(nums)):\n",
    "            s ^= nums[i]\n",
    "        return s\n",
    "\n",
    "input_arr = [1, 2, 4, 3, 3, 2, 2, 3, 1, 1]\n",
    "\n",
    "print(single_number(input_arr))\n",
    "print(single_number_s(input_arr))\n",
    "print(single_number_d(input_arr))\n",
    "\n",
    "input_arr = [ 890, 992, 172, 479, 973, 901, 417, 215, 901, 283, 788, 102, 726, 609, 379, 587, 630, 283, 10, 707, 203, 417, 382, 601, 713, 290, 489, 374, 203, 680, 108, 463, 290, 290, 382, 886, 584, 406, 809, 601, 176, 11, 554, 801, 166, 303, 308, 319, 172, 619, 400, 885, 203, 463, 303, 303, 885, 308, 460, 283, 406, 64, 584, 973, 572, 194, 383, 630, 395, 901, 992, 973, 938, 609, 938, 382, 169, 707, 680, 965, 726, 726, 890, 383, 172, 102, 10, 308, 10, 102, 587, 809, 460, 379, 713, 890, 463, 108, 108, 811, 176, 169, 313, 886, 400, 319, 22, 885, 572, 64, 120, 619, 313, 3, 460, 713, 811, 965, 479, 3, 247, 886, 120, 707, 120, 176, 374, 609, 395, 811, 406, 809, 801, 554, 3, 194, 11, 587, 169, 215, 313, 319, 554, 379, 788, 194, 630, 601, 965, 417, 788, 479, 64, 22, 22, 489, 166, 938, 66, 801, 374, 66, 619, 489, 215, 584, 383, 66, 680, 395, 400, 166, 572, 11, 992 ]\n",
    "\n",
    "print(single_number(input_arr))\n",
    "print(single_number_s(input_arr))\n",
    "print(single_number_d(input_arr))"
   ]
  },
  {
   "cell_type": "code",
   "execution_count": null,
   "id": "1e5759db",
   "metadata": {},
   "outputs": [],
   "source": []
  }
 ],
 "metadata": {
  "kernelspec": {
   "display_name": "Python 3",
   "language": "python",
   "name": "python3"
  },
  "language_info": {
   "codemirror_mode": {
    "name": "ipython",
    "version": 3
   },
   "file_extension": ".py",
   "mimetype": "text/x-python",
   "name": "python",
   "nbconvert_exporter": "python",
   "pygments_lexer": "ipython3",
   "version": "3.6.9"
  }
 },
 "nbformat": 4,
 "nbformat_minor": 5
}
