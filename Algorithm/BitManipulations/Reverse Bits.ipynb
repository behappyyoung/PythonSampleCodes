{
 "cells": [
  {
   "cell_type": "code",
   "execution_count": 5,
   "id": "1a0a3761",
   "metadata": {},
   "outputs": [
    {
     "name": "stdout",
     "output_type": "stream",
     "text": [
      "0b100100000 00000000000000000000000100100000 00000100100000000000000000000000\n",
      "75497472\n",
      "0b10 00000000000000000000000000000010 01000000000000000000000000000000\n",
      "1073741824\n",
      "0b11 00000000000000000000000000000011 11000000000000000000000000000000\n",
      "3221225472\n"
     ]
    }
   ],
   "source": [
    "\"\"\"\n",
    "Reverse bits of an 32 bit unsigned integer\n",
    "\n",
    "3\n",
    "        00000000000000000000000000000011\n",
    "=>        11000000000000000000000000000000\n",
    "3221225472\n",
    "\n",
    "\"\"\"\n",
    "\n",
    "def reverse_bits(input_int):\n",
    "    bit_str = bin(input_int)[2:].zfill(32)\n",
    "   \n",
    "    print(bin(input_int), bit_str, bit_str[::-1])\n",
    "    return int(bit_str[::-1], 2)\n",
    "    \n",
    "    \n",
    "    \n",
    "    # int_str = ''\n",
    "    # for s in bit_str:\n",
    "    #     int_str = s + int_str\n",
    "    # return int(int_str, 2)\n",
    "\n",
    "\n",
    "print(reverse_bits(288))\n",
    "print(reverse_bits(2))\n",
    "print(reverse_bits(3))\n"
   ]
  },
  {
   "cell_type": "code",
   "execution_count": 10,
   "id": "9e2564a9",
   "metadata": {},
   "outputs": [
    {
     "name": "stdout",
     "output_type": "stream",
     "text": [
      "0b100100000 00000000000000000000000100100000 00000100100000000000000000000000\n",
      "75497472\n",
      "0b10 00000000000000000000000000000010 01000000000000000000000000000000\n",
      "1073741824\n",
      "0b11 00000000000000000000000000000011 11000000000000000000000000000000\n",
      "3221225472\n"
     ]
    }
   ],
   "source": [
    "def reverse_bits_a(input_int):\n",
    "    bit_str = bin(input_int)[2:].zfill(32)\n",
    "    int_str = ''\n",
    "    for i in range(len(bit_str)-1, -1, -1):\n",
    "        int_str += bit_str[i] \n",
    "        \n",
    "    print(bin(input_int), bit_str, int_str)\n",
    "    return int(int_str, 2)\n",
    "\n",
    "\n",
    "print(reverse_bits_a(288))\n",
    "print(reverse_bits_a(2))\n",
    "print(reverse_bits_a(3))\n"
   ]
  }
 ],
 "metadata": {
  "kernelspec": {
   "display_name": "Python 3",
   "language": "python",
   "name": "python3"
  },
  "language_info": {
   "codemirror_mode": {
    "name": "ipython",
    "version": 3
   },
   "file_extension": ".py",
   "mimetype": "text/x-python",
   "name": "python",
   "nbconvert_exporter": "python",
   "pygments_lexer": "ipython3",
   "version": "3.6.9"
  }
 },
 "nbformat": 4,
 "nbformat_minor": 5
}
