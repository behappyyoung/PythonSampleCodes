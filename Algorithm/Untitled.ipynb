{
 "cells": [
  {
   "cell_type": "code",
   "execution_count": 123,
   "metadata": {},
   "outputs": [
    {
     "name": "stdout",
     "output_type": "stream",
     "text": [
      "[['Q....', '..Q..', '....Q', '.Q...', '...Q.'], ['Q....', '...Q.', '.Q...', '....Q', '..Q..'], ['.Q...', '...Q.', 'Q....', '..Q..', '....Q'], ['.Q...', '....Q', '..Q..', 'Q....', '...Q.'], ['..Q..', 'Q....', '...Q.', '.Q...', '....Q'], ['..Q..', '....Q', '.Q...', '...Q.', 'Q....'], ['...Q.', 'Q....', '..Q..', '....Q', '.Q...'], ['...Q.', '.Q...', '....Q', '..Q..', 'Q....'], ['....Q', '.Q...', '...Q.', 'Q....', '..Q..'], ['....Q', '..Q..', 'Q....', '...Q.', '.Q...']]\n"
     ]
    },
    {
     "data": {
      "text/plain": [
       "'\\n#5\\n\\n[[\"Q....\",\"..Q..\",\"....Q\",\".Q...\",\"...Q.\"],\\n[\"Q....\",\"...Q.\",\".Q...\",\"....Q\",\"..Q..\"],\\n[\".Q...\",\"...Q.\",\"Q....\",\"..Q..\",\"....Q\"],\\n[\".Q...\",\"....Q\",\"..Q..\",\"Q....\",\"...Q.\"],\\n[\"..Q..\",\"Q....\",\"...Q.\",\".Q...\",\"....Q\"],\\n[\"..Q..\",\"....Q\",\".Q...\",\"...Q.\",\"Q....\"],\\n[\"...Q.\",\"Q....\",\"..Q..\",\"....Q\",\".Q...\"],\\n[\"...Q.\",\".Q...\",\"....Q\",\"..Q..\",\"Q....\"],\\n[\"....Q\",\".Q...\",\"...Q.\",\"Q....\",\"..Q..\"],\\n[\"....Q\",\"..Q..\",\"Q....\",\"...Q.\",\".Q...\"]]\\n \\n'"
      ]
     },
     "execution_count": 123,
     "metadata": {},
     "output_type": "execute_result"
    }
   ],
   "source": [
    "def solveNQueens(n):\n",
    "    \n",
    "    \n",
    "    def find_q(qs, xy_neg, xy_pos):\n",
    "        \n",
    "        rows = len(qs)\n",
    "\n",
    "        if rows == n:\n",
    "            qlocations.append(qs)\n",
    "            return None\n",
    "        \n",
    "        for cols in range(n):\n",
    "            if cols not in qs and (rows+cols) not in xy_neg and (rows-cols) not in xy_pos:\n",
    "                next_qs = qs + [cols]\n",
    "                next_neg = xy_neg + [rows+cols]\n",
    "                next_pos =xy_pos + [rows-cols]\n",
    "                find_q(next_qs, next_neg, next_pos)\n",
    "\n",
    "    qlocations = []                \n",
    "    find_q([], [], [])\n",
    "    print_arr = []\n",
    "    for ql in qlocations:\n",
    "        a =''\n",
    "        for i in range(len(ql)):\n",
    "            ql[i] = \".\" * ql[i] + 'Q' + \".\"*(n-ql[i]-1)\n",
    "\n",
    "    return qlocations\n",
    "print(solveNQueens(5))\n",
    "\"\"\"\n",
    "#5\n",
    "\n",
    "[[\"Q....\",\"..Q..\",\"....Q\",\".Q...\",\"...Q.\"],\n",
    "[\"Q....\",\"...Q.\",\".Q...\",\"....Q\",\"..Q..\"],\n",
    "[\".Q...\",\"...Q.\",\"Q....\",\"..Q..\",\"....Q\"],\n",
    "[\".Q...\",\"....Q\",\"..Q..\",\"Q....\",\"...Q.\"],\n",
    "[\"..Q..\",\"Q....\",\"...Q.\",\".Q...\",\"....Q\"],\n",
    "[\"..Q..\",\"....Q\",\".Q...\",\"...Q.\",\"Q....\"],\n",
    "[\"...Q.\",\"Q....\",\"..Q..\",\"....Q\",\".Q...\"],\n",
    "[\"...Q.\",\".Q...\",\"....Q\",\"..Q..\",\"Q....\"],\n",
    "[\"....Q\",\".Q...\",\"...Q.\",\"Q....\",\"..Q..\"],\n",
    "[\"....Q\",\"..Q..\",\"Q....\",\"...Q.\",\".Q...\"]]\n",
    " \n",
    "\"\"\"\n"
   ]
  },
  {
   "cell_type": "code",
   "execution_count": 56,
   "metadata": {},
   "outputs": [
    {
     "name": "stdout",
     "output_type": "stream",
     "text": [
      "[['.Q..', '...Q', 'Q...', '..Q.'], ['..Q.', 'Q...', '...Q', '.Q..']]\n"
     ]
    }
   ],
   "source": [
    "def solveNQueens(n):\n",
    "        def DFS(queens, xy_dif, xy_sum):\n",
    "            \"\"\"\n",
    "            temp = [[\".\" * i + \"Q\" + \".\" * (n - i - 1) for i in queens]]\n",
    "            for t in temp:\n",
    "                for tt in t:\n",
    "                    print(tt)\n",
    "                print(\"\\n\")\n",
    "            print(\"\\n\")\n",
    "            \"\"\"\n",
    "\n",
    "            p = len(queens) # p is the index of row\n",
    "            if p == n:\n",
    "                result.append(queens)\n",
    "                return None\n",
    "            for q in range(n): # q is the index of col \n",
    "                # queens stores those used cols, for example, [0,2,4,1] means these cols have been used\n",
    "                # xy_dif is the diagonal 1\n",
    "                # xy_sum is the diagonal 2\n",
    "                if q not in queens and p - q not in xy_dif and p + q not in xy_sum:\n",
    "                    DFS(queens + [q], xy_dif + [p - q], xy_sum + [p + q])\n",
    "\n",
    "        result = []\n",
    "        DFS([], [], [])\n",
    "        return [[\".\" * i + \"Q\" + \".\" * (n - i - 1) for i in sol] for sol in result]\n",
    "    \n",
    "print(solveNQueens(4))"
   ]
  },
  {
   "cell_type": "code",
   "execution_count": 49,
   "metadata": {},
   "outputs": [
    {
     "name": "stdout",
     "output_type": "stream",
     "text": [
      ".Q..\n",
      "...Q\n",
      "Q...\n",
      "..Q.\n",
      "[['.', 'Q', '.', '.'], ['.', '.', '.', 'Q'], ['Q', '.', '.', '.'], ['.', '.', 'Q', '.']]\n"
     ]
    }
   ],
   "source": [
    "aa = [['.', 'Q', '.', '.'], ['.', '.', '.', 'Q'], ['Q', '.', '.', '.'], ['.', '.', 'Q', '.']]\n",
    "for a in aa:\n",
    "    a = ''.join(a)\n",
    "    print(a)\n",
    "print(aa)"
   ]
  },
  {
   "cell_type": "code",
   "execution_count": 101,
   "metadata": {},
   "outputs": [
    {
     "name": "stdout",
     "output_type": "stream",
     "text": [
      "[0, -1, 3]\n"
     ]
    }
   ],
   "source": [
    "a = [0, -1]\n",
    "a = a +[3]\n",
    "print(a)"
   ]
  },
  {
   "cell_type": "code",
   "execution_count": 125,
   "metadata": {},
   "outputs": [
    {
     "name": "stdout",
     "output_type": "stream",
     "text": [
      "3\n"
     ]
    }
   ],
   "source": [
    "l = [4,2,3]\n",
    "l.pop(1)\n",
    "print(l[1])"
   ]
  },
  {
   "cell_type": "code",
   "execution_count": 151,
   "metadata": {},
   "outputs": [
    {
     "name": "stdout",
     "output_type": "stream",
     "text": [
      "1\n",
      "- 2\n",
      "- 3\n",
      "- -\n",
      "1\n",
      "- 3\n",
      "2 -\n",
      "- -\n",
      "2\n",
      "1 3\n",
      "- - - -\n",
      "3\n",
      "1 -\n",
      "- 2\n",
      "- -\n",
      "3\n",
      "2 -\n",
      "1 -\n",
      "- -\n"
     ]
    }
   ],
   "source": [
    "# Definition for a binary tree node.\n",
    "class TreeNode:\n",
    "    def __init__(self, x):\n",
    "        self.val = x\n",
    "        self.left = None\n",
    "        self.right = None\n",
    "        \n",
    "def generateTrees(n):\n",
    "        \n",
    "    def gTree(s, e):\n",
    "        if s > e:\n",
    "            return [None]\n",
    "        if s==e:\n",
    "            return [TreeNode(s)]\n",
    "        Ta = []\n",
    "        for i in range(s, e+1):\n",
    "            \n",
    "            leftTrees = gTree(s, i-1)\n",
    "            rightTrees = gTree(i+1, e)\n",
    "            for l in leftTrees:\n",
    "                for r in rightTrees:\n",
    "                    root = TreeNode(i)\n",
    "                    root.left = l\n",
    "                    root.right = r\n",
    "                    Ta.append(root)\n",
    "    \n",
    "        return Ta\n",
    "\n",
    "    return gTree(1, n)\n",
    "\n",
    "\n",
    "gt = generateTrees(3)\n",
    "for t in gt:\n",
    "    print_btree(t)\n",
    "        "
   ]
  },
  {
   "cell_type": "code",
   "execution_count": 180,
   "metadata": {},
   "outputs": [
    {
     "name": "stdout",
     "output_type": "stream",
     "text": [
      "[0, 1, 2, 3, 4, 5]\n"
     ]
    },
    {
     "data": {
      "text/plain": [
       "'ct'"
      ]
     },
     "execution_count": 180,
     "metadata": {},
     "output_type": "execute_result"
    }
   ],
   "source": [
    "a = [i for i in range(6)]\n",
    "s = 'cathat'\n",
    "print(a)\n",
    "missing = [s[x] for x in range(len(s)) if x not in [3,1,2,4]]\n",
    "''.join(missing)"
   ]
  },
  {
   "cell_type": "code",
   "execution_count": 219,
   "metadata": {},
   "outputs": [
    {
     "name": "stdout",
     "output_type": "stream",
     "text": [
      "['control', 'heart', 'interest', 'stream', 'sentence', 'soil', 'wonder', 'them', 'month', 'slip', 'table', 'miss', 'boat', 'speak', 'figure', 'no', 'perhaps', 'twenty', 'throw', 'rich', 'capital', 'save', 'method', 'store', 'meant', 'life', 'oil', 'string', 'song', 'food', 'am', 'who', 'fat', 'if', 'put', 'path', 'come', 'grow', 'box', 'great', 'word', 'object', 'stead', 'common', 'fresh', 'the', 'operate', 'where', 'road', 'mean'] stoodcrease [[2, 7, 6, 8, 1, 10]]\n",
      "['control', 'heart', 'interest', 'stream', 'sentence', 'soil', 'wonder', 'them', 'month', 'slip', 'table', 'miss', 'boat', 'speak', 'figure', 'no', 'perhaps', 'twenty', 'throw', 'rich', 'capital', 'save', 'method', 'store', 'meant', 'life', 'oil', 'string', 'song', 'food', 'am', 'who', 'fat', 'if', 'put', 'path', 'come', 'grow', 'box', 'great', 'word', 'object', 'stead', 'common', 'fresh', 'the', 'operate', 'where', 'road', 'mean'] sodcs [[3, 1], [0, 3], [0, 1], [1, 2], [0, 4], [1, 2], [0, 1], [0, 1], [1, 2], [3, 1], [1, 2], [1, 3], [0, 2], [3, 1], [1, 2]]\n",
      "['control', 'heart', 'interest', 'stream', 'sentence', 'soil', 'wonder', 'them', 'month', 'slip', 'table', 'miss', 'boat', 'speak', 'figure', 'no', 'perhaps', 'twenty', 'throw', 'rich', 'capital', 'save', 'method', 'store', 'meant', 'life', 'oil', 'string', 'song', 'food', 'am', 'who', 'fat', 'if', 'put', 'path', 'come', 'grow', 'box', 'great', 'word', 'object', 'stead', 'common', 'fresh', 'the', 'operate', 'where', 'road', 'mean'] sds [[0, 2], [0, 1]]\n",
      "['control', 'heart', 'interest', 'stream', 'sentence', 'soil', 'wonder', 'them', 'month', 'slip', 'table', 'miss', 'boat', 'speak', 'figure', 'no', 'perhaps', 'twenty', 'throw', 'rich', 'capital', 'save', 'method', 'store', 'meant', 'life', 'oil', 'string', 'song', 'food', 'am', 'who', 'fat', 'if', 'put', 'path', 'come', 'grow', 'box', 'great', 'word', 'object', 'stead', 'common', 'fresh', 'the', 'operate', 'where', 'road', 'mean'] d [[0], [0], [0], [0], [0], [0]]\n",
      "['control', 'heart', 'interest', 'stream', 'sentence', 'soil', 'wonder', 'them', 'month', 'slip', 'table', 'miss', 'boat', 'speak', 'figure', 'no', 'perhaps', 'twenty', 'throw', 'rich', 'capital', 'save', 'method', 'store', 'meant', 'life', 'oil', 'string', 'song', 'food', 'am', 'who', 'fat', 'if', 'put', 'path', 'come', 'grow', 'box', 'great', 'word', 'object', 'stead', 'common', 'fresh', 'the', 'operate', 'where', 'road', 'mean'] s [[0], [0], [0], [0], [0], [0], [0], [0], [0], [0], [0], [0], [0], [0]]\n",
      "['control', 'heart', 'interest', 'stream', 'sentence', 'soil', 'wonder', 'them', 'month', 'slip', 'table', 'miss', 'boat', 'speak', 'figure', 'no', 'perhaps', 'twenty', 'throw', 'rich', 'capital', 'save', 'method', 'store', 'meant', 'life', 'oil', 'string', 'song', 'food', 'am', 'who', 'fat', 'if', 'put', 'path', 'come', 'grow', 'box', 'great', 'word', 'object', 'stead', 'common', 'fresh', 'the', 'operate', 'where', 'road', 'mean'] ods [[2, 0], [0, 1], [0, 1], [2, 0], [2, 0], [0, 1], [0, 1], [2, 1], [0, 1]]\n",
      "['control', 'heart', 'interest', 'stream', 'sentence', 'soil', 'wonder', 'them', 'month', 'slip', 'table', 'miss', 'boat', 'speak', 'figure', 'no', 'perhaps', 'twenty', 'throw', 'rich', 'capital', 'save', 'method', 'store', 'meant', 'life', 'oil', 'string', 'song', 'food', 'am', 'who', 'fat', 'if', 'put', 'path', 'come', 'grow', 'box', 'great', 'word', 'object', 'stead', 'common', 'fresh', 'the', 'operate', 'where', 'road', 'mean'] d [[0], [0], [0], [0], [0], [0]]\n",
      "['control', 'heart', 'interest', 'stream', 'sentence', 'soil', 'wonder', 'them', 'month', 'slip', 'table', 'miss', 'boat', 'speak', 'figure', 'no', 'perhaps', 'twenty', 'throw', 'rich', 'capital', 'save', 'method', 'store', 'meant', 'life', 'oil', 'string', 'song', 'food', 'am', 'who', 'fat', 'if', 'put', 'path', 'come', 'grow', 'box', 'great', 'word', 'object', 'stead', 'common', 'fresh', 'the', 'operate', 'where', 'road', 'mean'] s [[0], [0], [0], [0], [0], [0], [0], [0], [0], [0], [0], [0], [0], [0]]\n",
      "['control', 'heart', 'interest', 'stream', 'sentence', 'soil', 'wonder', 'them', 'month', 'slip', 'table', 'miss', 'boat', 'speak', 'figure', 'no', 'perhaps', 'twenty', 'throw', 'rich', 'capital', 'save', 'method', 'store', 'meant', 'life', 'oil', 'string', 'song', 'food', 'am', 'who', 'fat', 'if', 'put', 'path', 'come', 'grow', 'box', 'great', 'word', 'object', 'stead', 'common', 'fresh', 'the', 'operate', 'where', 'road', 'mean'] s [[0], [0], [0], [0], [0], [0], [0], [0], [0], [0], [0], [0], [0], [0]]\n",
      "['control', 'heart', 'interest', 'stream', 'sentence', 'soil', 'wonder', 'them', 'month', 'slip', 'table', 'miss', 'boat', 'speak', 'figure', 'no', 'perhaps', 'twenty', 'throw', 'rich', 'capital', 'save', 'method', 'store', 'meant', 'life', 'oil', 'string', 'song', 'food', 'am', 'who', 'fat', 'if', 'put', 'path', 'come', 'grow', 'box', 'great', 'word', 'object', 'stead', 'common', 'fresh', 'the', 'operate', 'where', 'road', 'mean'] d [[0], [0], [0], [0], [0], [0]]\n",
      "['control', 'heart', 'interest', 'stream', 'sentence', 'soil', 'wonder', 'them', 'month', 'slip', 'table', 'miss', 'boat', 'speak', 'figure', 'no', 'perhaps', 'twenty', 'throw', 'rich', 'capital', 'save', 'method', 'store', 'meant', 'life', 'oil', 'string', 'song', 'food', 'am', 'who', 'fat', 'if', 'put', 'path', 'come', 'grow', 'box', 'great', 'word', 'object', 'stead', 'common', 'fresh', 'the', 'operate', 'where', 'road', 'mean'] d [[0], [0], [0], [0], [0], [0]]\n",
      "['control', 'heart', 'interest', 'stream', 'sentence', 'soil', 'wonder', 'them', 'month', 'slip', 'table', 'miss', 'boat', 'speak', 'figure', 'no', 'perhaps', 'twenty', 'throw', 'rich', 'capital', 'save', 'method', 'store', 'meant', 'life', 'oil', 'string', 'song', 'food', 'am', 'who', 'fat', 'if', 'put', 'path', 'come', 'grow', 'box', 'great', 'word', 'object', 'stead', 'common', 'fresh', 'the', 'operate', 'where', 'road', 'mean'] s [[0], [0], [0], [0], [0], [0], [0], [0], [0], [0], [0], [0], [0], [0]]\n",
      "['control', 'heart', 'interest', 'stream', 'sentence', 'soil', 'wonder', 'them', 'month', 'slip', 'table', 'miss', 'boat', 'speak', 'figure', 'no', 'perhaps', 'twenty', 'throw', 'rich', 'capital', 'save', 'method', 'store', 'meant', 'life', 'oil', 'string', 'song', 'food', 'am', 'who', 'fat', 'if', 'put', 'path', 'come', 'grow', 'box', 'great', 'word', 'object', 'stead', 'common', 'fresh', 'the', 'operate', 'where', 'road', 'mean'] s [[0], [0], [0], [0], [0], [0], [0], [0], [0], [0], [0], [0], [0], [0]]\n",
      "['control', 'heart', 'interest', 'stream', 'sentence', 'soil', 'wonder', 'them', 'month', 'slip', 'table', 'miss', 'boat', 'speak', 'figure', 'no', 'perhaps', 'twenty', 'throw', 'rich', 'capital', 'save', 'method', 'store', 'meant', 'life', 'oil', 'string', 'song', 'food', 'am', 'who', 'fat', 'if', 'put', 'path', 'come', 'grow', 'box', 'great', 'word', 'object', 'stead', 'common', 'fresh', 'the', 'operate', 'where', 'road', 'mean'] o [[0], [0], [0], [0], [0], [0], [0], [0], [0], [0], [0], [0], [0], [0], [0], [0], [0], [0], [0], [0], [0]]\n",
      "['control', 'heart', 'interest', 'stream', 'sentence', 'soil', 'wonder', 'them', 'month', 'slip', 'table', 'miss', 'boat', 'speak', 'figure', 'no', 'perhaps', 'twenty', 'throw', 'rich', 'capital', 'save', 'method', 'store', 'meant', 'life', 'oil', 'string', 'song', 'food', 'am', 'who', 'fat', 'if', 'put', 'path', 'come', 'grow', 'box', 'great', 'word', 'object', 'stead', 'common', 'fresh', 'the', 'operate', 'where', 'road', 'mean'] s [[0], [0], [0], [0], [0], [0], [0], [0], [0], [0], [0], [0], [0], [0]]\n",
      "['control', 'heart', 'interest', 'stream', 'sentence', 'soil', 'wonder', 'them', 'month', 'slip', 'table', 'miss', 'boat', 'speak', 'figure', 'no', 'perhaps', 'twenty', 'throw', 'rich', 'capital', 'save', 'method', 'store', 'meant', 'life', 'oil', 'string', 'song', 'food', 'am', 'who', 'fat', 'if', 'put', 'path', 'come', 'grow', 'box', 'great', 'word', 'object', 'stead', 'common', 'fresh', 'the', 'operate', 'where', 'road', 'mean'] dcs [[2, 1], [2, 0]]\n",
      "['control', 'heart', 'interest', 'stream', 'sentence', 'soil', 'wonder', 'them', 'month', 'slip', 'table', 'miss', 'boat', 'speak', 'figure', 'no', 'perhaps', 'twenty', 'throw', 'rich', 'capital', 'save', 'method', 'store', 'meant', 'life', 'oil', 'string', 'song', 'food', 'am', 'who', 'fat', 'if', 'put', 'path', 'come', 'grow', 'box', 'great', 'word', 'object', 'stead', 'common', 'fresh', 'the', 'operate', 'where', 'road', 'mean'] d [[0], [0], [0], [0], [0], [0]]\n",
      "['control', 'heart', 'interest', 'stream', 'sentence', 'soil', 'wonder', 'them', 'month', 'slip', 'table', 'miss', 'boat', 'speak', 'figure', 'no', 'perhaps', 'twenty', 'throw', 'rich', 'capital', 'save', 'method', 'store', 'meant', 'life', 'oil', 'string', 'song', 'food', 'am', 'who', 'fat', 'if', 'put', 'path', 'come', 'grow', 'box', 'great', 'word', 'object', 'stead', 'common', 'fresh', 'the', 'operate', 'where', 'road', 'mean'] c [[0], [0], [0], [0], [0], [0], [0]]\n",
      "['control', 'heart', 'interest', 'stream', 'sentence', 'soil', 'wonder', 'them', 'month', 'slip', 'table', 'miss', 'boat', 'speak', 'figure', 'no', 'perhaps', 'twenty', 'throw', 'rich', 'capital', 'save', 'method', 'store', 'meant', 'life', 'oil', 'string', 'song', 'food', 'am', 'who', 'fat', 'if', 'put', 'path', 'come', 'grow', 'box', 'great', 'word', 'object', 'stead', 'common', 'fresh', 'the', 'operate', 'where', 'road', 'mean'] scs [[0, 1], [0, 2]]\n",
      "['control', 'heart', 'interest', 'stream', 'sentence', 'soil', 'wonder', 'them', 'month', 'slip', 'table', 'miss', 'boat', 'speak', 'figure', 'no', 'perhaps', 'twenty', 'throw', 'rich', 'capital', 'save', 'method', 'store', 'meant', 'life', 'oil', 'string', 'song', 'food', 'am', 'who', 'fat', 'if', 'put', 'path', 'come', 'grow', 'box', 'great', 'word', 'object', 'stead', 'common', 'fresh', 'the', 'operate', 'where', 'road', 'mean'] s [[0], [0], [0], [0], [0], [0], [0], [0], [0], [0], [0], [0], [0], [0]]\n",
      "['control', 'heart', 'interest', 'stream', 'sentence', 'soil', 'wonder', 'them', 'month', 'slip', 'table', 'miss', 'boat', 'speak', 'figure', 'no', 'perhaps', 'twenty', 'throw', 'rich', 'capital', 'save', 'method', 'store', 'meant', 'life', 'oil', 'string', 'song', 'food', 'am', 'who', 'fat', 'if', 'put', 'path', 'come', 'grow', 'box', 'great', 'word', 'object', 'stead', 'common', 'fresh', 'the', 'operate', 'where', 'road', 'mean'] c [[0], [0], [0], [0], [0], [0], [0]]\n",
      "['control', 'heart', 'interest', 'stream', 'sentence', 'soil', 'wonder', 'them', 'month', 'slip', 'table', 'miss', 'boat', 'speak', 'figure', 'no', 'perhaps', 'twenty', 'throw', 'rich', 'capital', 'save', 'method', 'store', 'meant', 'life', 'oil', 'string', 'song', 'food', 'am', 'who', 'fat', 'if', 'put', 'path', 'come', 'grow', 'box', 'great', 'word', 'object', 'stead', 'common', 'fresh', 'the', 'operate', 'where', 'road', 'mean'] odc [[2, 0], [0, 1], [0, 1], [0, 1], [2, 0], [0, 1], [0, 2], [2, 0], [0, 1]]\n",
      "['control', 'heart', 'interest', 'stream', 'sentence', 'soil', 'wonder', 'them', 'month', 'slip', 'table', 'miss', 'boat', 'speak', 'figure', 'no', 'perhaps', 'twenty', 'throw', 'rich', 'capital', 'save', 'method', 'store', 'meant', 'life', 'oil', 'string', 'song', 'food', 'am', 'who', 'fat', 'if', 'put', 'path', 'come', 'grow', 'box', 'great', 'word', 'object', 'stead', 'common', 'fresh', 'the', 'operate', 'where', 'road', 'mean'] d [[0], [0], [0], [0], [0], [0]]\n",
      "['control', 'heart', 'interest', 'stream', 'sentence', 'soil', 'wonder', 'them', 'month', 'slip', 'table', 'miss', 'boat', 'speak', 'figure', 'no', 'perhaps', 'twenty', 'throw', 'rich', 'capital', 'save', 'method', 'store', 'meant', 'life', 'oil', 'string', 'song', 'food', 'am', 'who', 'fat', 'if', 'put', 'path', 'come', 'grow', 'box', 'great', 'word', 'object', 'stead', 'common', 'fresh', 'the', 'operate', 'where', 'road', 'mean'] c [[0], [0], [0], [0], [0], [0], [0]]\n",
      "['control', 'heart', 'interest', 'stream', 'sentence', 'soil', 'wonder', 'them', 'month', 'slip', 'table', 'miss', 'boat', 'speak', 'figure', 'no', 'perhaps', 'twenty', 'throw', 'rich', 'capital', 'save', 'method', 'store', 'meant', 'life', 'oil', 'string', 'song', 'food', 'am', 'who', 'fat', 'if', 'put', 'path', 'come', 'grow', 'box', 'great', 'word', 'object', 'stead', 'common', 'fresh', 'the', 'operate', 'where', 'road', 'mean'] c [[0], [0], [0], [0], [0], [0], [0]]\n",
      "['control', 'heart', 'interest', 'stream', 'sentence', 'soil', 'wonder', 'them', 'month', 'slip', 'table', 'miss', 'boat', 'speak', 'figure', 'no', 'perhaps', 'twenty', 'throw', 'rich', 'capital', 'save', 'method', 'store', 'meant', 'life', 'oil', 'string', 'song', 'food', 'am', 'who', 'fat', 'if', 'put', 'path', 'come', 'grow', 'box', 'great', 'word', 'object', 'stead', 'common', 'fresh', 'the', 'operate', 'where', 'road', 'mean'] c [[0], [0], [0], [0], [0], [0], [0]]\n",
      "['control', 'heart', 'interest', 'stream', 'sentence', 'soil', 'wonder', 'them', 'month', 'slip', 'table', 'miss', 'boat', 'speak', 'figure', 'no', 'perhaps', 'twenty', 'throw', 'rich', 'capital', 'save', 'method', 'store', 'meant', 'life', 'oil', 'string', 'song', 'food', 'am', 'who', 'fat', 'if', 'put', 'path', 'come', 'grow', 'box', 'great', 'word', 'object', 'stead', 'common', 'fresh', 'the', 'operate', 'where', 'road', 'mean'] d [[0], [0], [0], [0], [0], [0]]\n",
      "['control', 'heart', 'interest', 'stream', 'sentence', 'soil', 'wonder', 'them', 'month', 'slip', 'table', 'miss', 'boat', 'speak', 'figure', 'no', 'perhaps', 'twenty', 'throw', 'rich', 'capital', 'save', 'method', 'store', 'meant', 'life', 'oil', 'string', 'song', 'food', 'am', 'who', 'fat', 'if', 'put', 'path', 'come', 'grow', 'box', 'great', 'word', 'object', 'stead', 'common', 'fresh', 'the', 'operate', 'where', 'road', 'mean'] c [[0], [0], [0], [0], [0], [0], [0]]\n",
      "['control', 'heart', 'interest', 'stream', 'sentence', 'soil', 'wonder', 'them', 'month', 'slip', 'table', 'miss', 'boat', 'speak', 'figure', 'no', 'perhaps', 'twenty', 'throw', 'rich', 'capital', 'save', 'method', 'store', 'meant', 'life', 'oil', 'string', 'song', 'food', 'am', 'who', 'fat', 'if', 'put', 'path', 'come', 'grow', 'box', 'great', 'word', 'object', 'stead', 'common', 'fresh', 'the', 'operate', 'where', 'road', 'mean'] d [[0], [0], [0], [0], [0], [0]]\n",
      "['control', 'heart', 'interest', 'stream', 'sentence', 'soil', 'wonder', 'them', 'month', 'slip', 'table', 'miss', 'boat', 'speak', 'figure', 'no', 'perhaps', 'twenty', 'throw', 'rich', 'capital', 'save', 'method', 'store', 'meant', 'life', 'oil', 'string', 'song', 'food', 'am', 'who', 'fat', 'if', 'put', 'path', 'come', 'grow', 'box', 'great', 'word', 'object', 'stead', 'common', 'fresh', 'the', 'operate', 'where', 'road', 'mean'] d [[0], [0], [0], [0], [0], [0]]\n",
      "['control', 'heart', 'interest', 'stream', 'sentence', 'soil', 'wonder', 'them', 'month', 'slip', 'table', 'miss', 'boat', 'speak', 'figure', 'no', 'perhaps', 'twenty', 'throw', 'rich', 'capital', 'save', 'method', 'store', 'meant', 'life', 'oil', 'string', 'song', 'food', 'am', 'who', 'fat', 'if', 'put', 'path', 'come', 'grow', 'box', 'great', 'word', 'object', 'stead', 'common', 'fresh', 'the', 'operate', 'where', 'road', 'mean'] c [[0], [0], [0], [0], [0], [0], [0]]\n",
      "['control', 'heart', 'interest', 'stream', 'sentence', 'soil', 'wonder', 'them', 'month', 'slip', 'table', 'miss', 'boat', 'speak', 'figure', 'no', 'perhaps', 'twenty', 'throw', 'rich', 'capital', 'save', 'method', 'store', 'meant', 'life', 'oil', 'string', 'song', 'food', 'am', 'who', 'fat', 'if', 'put', 'path', 'come', 'grow', 'box', 'great', 'word', 'object', 'stead', 'common', 'fresh', 'the', 'operate', 'where', 'road', 'mean'] scs [[0, 1], [0, 2]]\n",
      "['control', 'heart', 'interest', 'stream', 'sentence', 'soil', 'wonder', 'them', 'month', 'slip', 'table', 'miss', 'boat', 'speak', 'figure', 'no', 'perhaps', 'twenty', 'throw', 'rich', 'capital', 'save', 'method', 'store', 'meant', 'life', 'oil', 'string', 'song', 'food', 'am', 'who', 'fat', 'if', 'put', 'path', 'come', 'grow', 'box', 'great', 'word', 'object', 'stead', 'common', 'fresh', 'the', 'operate', 'where', 'road', 'mean'] s [[0], [0], [0], [0], [0], [0], [0], [0], [0], [0], [0], [0], [0], [0]]\n",
      "['control', 'heart', 'interest', 'stream', 'sentence', 'soil', 'wonder', 'them', 'month', 'slip', 'table', 'miss', 'boat', 'speak', 'figure', 'no', 'perhaps', 'twenty', 'throw', 'rich', 'capital', 'save', 'method', 'store', 'meant', 'life', 'oil', 'string', 'song', 'food', 'am', 'who', 'fat', 'if', 'put', 'path', 'come', 'grow', 'box', 'great', 'word', 'object', 'stead', 'common', 'fresh', 'the', 'operate', 'where', 'road', 'mean'] c [[0], [0], [0], [0], [0], [0], [0]]\n",
      "['control', 'heart', 'interest', 'stream', 'sentence', 'soil', 'wonder', 'them', 'month', 'slip', 'table', 'miss', 'boat', 'speak', 'figure', 'no', 'perhaps', 'twenty', 'throw', 'rich', 'capital', 'save', 'method', 'store', 'meant', 'life', 'oil', 'string', 'song', 'food', 'am', 'who', 'fat', 'if', 'put', 'path', 'come', 'grow', 'box', 'great', 'word', 'object', 'stead', 'common', 'fresh', 'the', 'operate', 'where', 'road', 'mean'] dcs [[2, 1], [2, 0]]\n",
      "['control', 'heart', 'interest', 'stream', 'sentence', 'soil', 'wonder', 'them', 'month', 'slip', 'table', 'miss', 'boat', 'speak', 'figure', 'no', 'perhaps', 'twenty', 'throw', 'rich', 'capital', 'save', 'method', 'store', 'meant', 'life', 'oil', 'string', 'song', 'food', 'am', 'who', 'fat', 'if', 'put', 'path', 'come', 'grow', 'box', 'great', 'word', 'object', 'stead', 'common', 'fresh', 'the', 'operate', 'where', 'road', 'mean'] d [[0], [0], [0], [0], [0], [0]]\n",
      "['control', 'heart', 'interest', 'stream', 'sentence', 'soil', 'wonder', 'them', 'month', 'slip', 'table', 'miss', 'boat', 'speak', 'figure', 'no', 'perhaps', 'twenty', 'throw', 'rich', 'capital', 'save', 'method', 'store', 'meant', 'life', 'oil', 'string', 'song', 'food', 'am', 'who', 'fat', 'if', 'put', 'path', 'come', 'grow', 'box', 'great', 'word', 'object', 'stead', 'common', 'fresh', 'the', 'operate', 'where', 'road', 'mean'] c [[0], [0], [0], [0], [0], [0], [0]]\n",
      "['control', 'heart', 'interest', 'stream', 'sentence', 'soil', 'wonder', 'them', 'month', 'slip', 'table', 'miss', 'boat', 'speak', 'figure', 'no', 'perhaps', 'twenty', 'throw', 'rich', 'capital', 'save', 'method', 'store', 'meant', 'life', 'oil', 'string', 'song', 'food', 'am', 'who', 'fat', 'if', 'put', 'path', 'come', 'grow', 'box', 'great', 'word', 'object', 'stead', 'common', 'fresh', 'the', 'operate', 'where', 'road', 'mean'] dcs [[2, 1], [2, 0]]\n",
      "['control', 'heart', 'interest', 'stream', 'sentence', 'soil', 'wonder', 'them', 'month', 'slip', 'table', 'miss', 'boat', 'speak', 'figure', 'no', 'perhaps', 'twenty', 'throw', 'rich', 'capital', 'save', 'method', 'store', 'meant', 'life', 'oil', 'string', 'song', 'food', 'am', 'who', 'fat', 'if', 'put', 'path', 'come', 'grow', 'box', 'great', 'word', 'object', 'stead', 'common', 'fresh', 'the', 'operate', 'where', 'road', 'mean'] d [[0], [0], [0], [0], [0], [0]]\n",
      "['control', 'heart', 'interest', 'stream', 'sentence', 'soil', 'wonder', 'them', 'month', 'slip', 'table', 'miss', 'boat', 'speak', 'figure', 'no', 'perhaps', 'twenty', 'throw', 'rich', 'capital', 'save', 'method', 'store', 'meant', 'life', 'oil', 'string', 'song', 'food', 'am', 'who', 'fat', 'if', 'put', 'path', 'come', 'grow', 'box', 'great', 'word', 'object', 'stead', 'common', 'fresh', 'the', 'operate', 'where', 'road', 'mean'] c [[0], [0], [0], [0], [0], [0], [0]]\n",
      "['control', 'heart', 'interest', 'stream', 'sentence', 'soil', 'wonder', 'them', 'month', 'slip', 'table', 'miss', 'boat', 'speak', 'figure', 'no', 'perhaps', 'twenty', 'throw', 'rich', 'capital', 'save', 'method', 'store', 'meant', 'life', 'oil', 'string', 'song', 'food', 'am', 'who', 'fat', 'if', 'put', 'path', 'come', 'grow', 'box', 'great', 'word', 'object', 'stead', 'common', 'fresh', 'the', 'operate', 'where', 'road', 'mean'] scs [[0, 1], [0, 2]]\n",
      "['control', 'heart', 'interest', 'stream', 'sentence', 'soil', 'wonder', 'them', 'month', 'slip', 'table', 'miss', 'boat', 'speak', 'figure', 'no', 'perhaps', 'twenty', 'throw', 'rich', 'capital', 'save', 'method', 'store', 'meant', 'life', 'oil', 'string', 'song', 'food', 'am', 'who', 'fat', 'if', 'put', 'path', 'come', 'grow', 'box', 'great', 'word', 'object', 'stead', 'common', 'fresh', 'the', 'operate', 'where', 'road', 'mean'] s [[0], [0], [0], [0], [0], [0], [0], [0], [0], [0], [0], [0], [0], [0]]\n",
      "['control', 'heart', 'interest', 'stream', 'sentence', 'soil', 'wonder', 'them', 'month', 'slip', 'table', 'miss', 'boat', 'speak', 'figure', 'no', 'perhaps', 'twenty', 'throw', 'rich', 'capital', 'save', 'method', 'store', 'meant', 'life', 'oil', 'string', 'song', 'food', 'am', 'who', 'fat', 'if', 'put', 'path', 'come', 'grow', 'box', 'great', 'word', 'object', 'stead', 'common', 'fresh', 'the', 'operate', 'where', 'road', 'mean'] c [[0], [0], [0], [0], [0], [0], [0]]\n",
      "['control', 'heart', 'interest', 'stream', 'sentence', 'soil', 'wonder', 'them', 'month', 'slip', 'table', 'miss', 'boat', 'speak', 'figure', 'no', 'perhaps', 'twenty', 'throw', 'rich', 'capital', 'save', 'method', 'store', 'meant', 'life', 'oil', 'string', 'song', 'food', 'am', 'who', 'fat', 'if', 'put', 'path', 'come', 'grow', 'box', 'great', 'word', 'object', 'stead', 'common', 'fresh', 'the', 'operate', 'where', 'road', 'mean'] sds [[0, 2], [0, 1]]\n",
      "['control', 'heart', 'interest', 'stream', 'sentence', 'soil', 'wonder', 'them', 'month', 'slip', 'table', 'miss', 'boat', 'speak', 'figure', 'no', 'perhaps', 'twenty', 'throw', 'rich', 'capital', 'save', 'method', 'store', 'meant', 'life', 'oil', 'string', 'song', 'food', 'am', 'who', 'fat', 'if', 'put', 'path', 'come', 'grow', 'box', 'great', 'word', 'object', 'stead', 'common', 'fresh', 'the', 'operate', 'where', 'road', 'mean'] d [[0], [0], [0], [0], [0], [0]]\n",
      "['control', 'heart', 'interest', 'stream', 'sentence', 'soil', 'wonder', 'them', 'month', 'slip', 'table', 'miss', 'boat', 'speak', 'figure', 'no', 'perhaps', 'twenty', 'throw', 'rich', 'capital', 'save', 'method', 'store', 'meant', 'life', 'oil', 'string', 'song', 'food', 'am', 'who', 'fat', 'if', 'put', 'path', 'come', 'grow', 'box', 'great', 'word', 'object', 'stead', 'common', 'fresh', 'the', 'operate', 'where', 'road', 'mean'] s [[0], [0], [0], [0], [0], [0], [0], [0], [0], [0], [0], [0], [0], [0]]\n",
      "['control', 'heart', 'interest', 'stream', 'sentence', 'soil', 'wonder', 'them', 'month', 'slip', 'table', 'miss', 'boat', 'speak', 'figure', 'no', 'perhaps', 'twenty', 'throw', 'rich', 'capital', 'save', 'method', 'store', 'meant', 'life', 'oil', 'string', 'song', 'food', 'am', 'who', 'fat', 'if', 'put', 'path', 'come', 'grow', 'box', 'great', 'word', 'object', 'stead', 'common', 'fresh', 'the', 'operate', 'where', 'road', 'mean'] scs [[0, 1], [0, 2]]\n",
      "['control', 'heart', 'interest', 'stream', 'sentence', 'soil', 'wonder', 'them', 'month', 'slip', 'table', 'miss', 'boat', 'speak', 'figure', 'no', 'perhaps', 'twenty', 'throw', 'rich', 'capital', 'save', 'method', 'store', 'meant', 'life', 'oil', 'string', 'song', 'food', 'am', 'who', 'fat', 'if', 'put', 'path', 'come', 'grow', 'box', 'great', 'word', 'object', 'stead', 'common', 'fresh', 'the', 'operate', 'where', 'road', 'mean'] s [[0], [0], [0], [0], [0], [0], [0], [0], [0], [0], [0], [0], [0], [0]]\n",
      "['control', 'heart', 'interest', 'stream', 'sentence', 'soil', 'wonder', 'them', 'month', 'slip', 'table', 'miss', 'boat', 'speak', 'figure', 'no', 'perhaps', 'twenty', 'throw', 'rich', 'capital', 'save', 'method', 'store', 'meant', 'life', 'oil', 'string', 'song', 'food', 'am', 'who', 'fat', 'if', 'put', 'path', 'come', 'grow', 'box', 'great', 'word', 'object', 'stead', 'common', 'fresh', 'the', 'operate', 'where', 'road', 'mean'] c [[0], [0], [0], [0], [0], [0], [0]]\n",
      "['control', 'heart', 'interest', 'stream', 'sentence', 'soil', 'wonder', 'them', 'month', 'slip', 'table', 'miss', 'boat', 'speak', 'figure', 'no', 'perhaps', 'twenty', 'throw', 'rich', 'capital', 'save', 'method', 'store', 'meant', 'life', 'oil', 'string', 'song', 'food', 'am', 'who', 'fat', 'if', 'put', 'path', 'come', 'grow', 'box', 'great', 'word', 'object', 'stead', 'common', 'fresh', 'the', 'operate', 'where', 'road', 'mean'] sds [[0, 2], [0, 1]]\n",
      "['control', 'heart', 'interest', 'stream', 'sentence', 'soil', 'wonder', 'them', 'month', 'slip', 'table', 'miss', 'boat', 'speak', 'figure', 'no', 'perhaps', 'twenty', 'throw', 'rich', 'capital', 'save', 'method', 'store', 'meant', 'life', 'oil', 'string', 'song', 'food', 'am', 'who', 'fat', 'if', 'put', 'path', 'come', 'grow', 'box', 'great', 'word', 'object', 'stead', 'common', 'fresh', 'the', 'operate', 'where', 'road', 'mean'] d [[0], [0], [0], [0], [0], [0]]\n",
      "['control', 'heart', 'interest', 'stream', 'sentence', 'soil', 'wonder', 'them', 'month', 'slip', 'table', 'miss', 'boat', 'speak', 'figure', 'no', 'perhaps', 'twenty', 'throw', 'rich', 'capital', 'save', 'method', 'store', 'meant', 'life', 'oil', 'string', 'song', 'food', 'am', 'who', 'fat', 'if', 'put', 'path', 'come', 'grow', 'box', 'great', 'word', 'object', 'stead', 'common', 'fresh', 'the', 'operate', 'where', 'road', 'mean'] s [[0], [0], [0], [0], [0], [0], [0], [0], [0], [0], [0], [0], [0], [0]]\n",
      "['control', 'heart', 'interest', 'stream', 'sentence', 'soil', 'wonder', 'them', 'month', 'slip', 'table', 'miss', 'boat', 'speak', 'figure', 'no', 'perhaps', 'twenty', 'throw', 'rich', 'capital', 'save', 'method', 'store', 'meant', 'life', 'oil', 'string', 'song', 'food', 'am', 'who', 'fat', 'if', 'put', 'path', 'come', 'grow', 'box', 'great', 'word', 'object', 'stead', 'common', 'fresh', 'the', 'operate', 'where', 'road', 'mean'] ocs [[1, 0], [2, 1], [2, 0], [2, 0], [2, 0], [1, 0], [0, 1], [1, 0]]\n",
      "['control', 'heart', 'interest', 'stream', 'sentence', 'soil', 'wonder', 'them', 'month', 'slip', 'table', 'miss', 'boat', 'speak', 'figure', 'no', 'perhaps', 'twenty', 'throw', 'rich', 'capital', 'save', 'method', 'store', 'meant', 'life', 'oil', 'string', 'song', 'food', 'am', 'who', 'fat', 'if', 'put', 'path', 'come', 'grow', 'box', 'great', 'word', 'object', 'stead', 'common', 'fresh', 'the', 'operate', 'where', 'road', 'mean'] s [[0], [0], [0], [0], [0], [0], [0], [0], [0], [0], [0], [0], [0], [0]]\n",
      "['control', 'heart', 'interest', 'stream', 'sentence', 'soil', 'wonder', 'them', 'month', 'slip', 'table', 'miss', 'boat', 'speak', 'figure', 'no', 'perhaps', 'twenty', 'throw', 'rich', 'capital', 'save', 'method', 'store', 'meant', 'life', 'oil', 'string', 'song', 'food', 'am', 'who', 'fat', 'if', 'put', 'path', 'come', 'grow', 'box', 'great', 'word', 'object', 'stead', 'common', 'fresh', 'the', 'operate', 'where', 'road', 'mean'] o [[0], [0], [0], [0], [0], [0], [0], [0], [0], [0], [0], [0], [0], [0], [0], [0], [0], [0], [0], [0], [0]]\n",
      "['control', 'heart', 'interest', 'stream', 'sentence', 'soil', 'wonder', 'them', 'month', 'slip', 'table', 'miss', 'boat', 'speak', 'figure', 'no', 'perhaps', 'twenty', 'throw', 'rich', 'capital', 'save', 'method', 'store', 'meant', 'life', 'oil', 'string', 'song', 'food', 'am', 'who', 'fat', 'if', 'put', 'path', 'come', 'grow', 'box', 'great', 'word', 'object', 'stead', 'common', 'fresh', 'the', 'operate', 'where', 'road', 'mean'] c [[0], [0], [0], [0], [0], [0], [0]]\n",
      "['control', 'heart', 'interest', 'stream', 'sentence', 'soil', 'wonder', 'them', 'month', 'slip', 'table', 'miss', 'boat', 'speak', 'figure', 'no', 'perhaps', 'twenty', 'throw', 'rich', 'capital', 'save', 'method', 'store', 'meant', 'life', 'oil', 'string', 'song', 'food', 'am', 'who', 'fat', 'if', 'put', 'path', 'come', 'grow', 'box', 'great', 'word', 'object', 'stead', 'common', 'fresh', 'the', 'operate', 'where', 'road', 'mean'] c [[0], [0], [0], [0], [0], [0], [0]]\n",
      "['control', 'heart', 'interest', 'stream', 'sentence', 'soil', 'wonder', 'them', 'month', 'slip', 'table', 'miss', 'boat', 'speak', 'figure', 'no', 'perhaps', 'twenty', 'throw', 'rich', 'capital', 'save', 'method', 'store', 'meant', 'life', 'oil', 'string', 'song', 'food', 'am', 'who', 'fat', 'if', 'put', 'path', 'come', 'grow', 'box', 'great', 'word', 'object', 'stead', 'common', 'fresh', 'the', 'operate', 'where', 'road', 'mean'] c [[0], [0], [0], [0], [0], [0], [0]]\n",
      "['control', 'heart', 'interest', 'stream', 'sentence', 'soil', 'wonder', 'them', 'month', 'slip', 'table', 'miss', 'boat', 'speak', 'figure', 'no', 'perhaps', 'twenty', 'throw', 'rich', 'capital', 'save', 'method', 'store', 'meant', 'life', 'oil', 'string', 'song', 'food', 'am', 'who', 'fat', 'if', 'put', 'path', 'come', 'grow', 'box', 'great', 'word', 'object', 'stead', 'common', 'fresh', 'the', 'operate', 'where', 'road', 'mean'] s [[0], [0], [0], [0], [0], [0], [0], [0], [0], [0], [0], [0], [0], [0]]\n",
      "['control', 'heart', 'interest', 'stream', 'sentence', 'soil', 'wonder', 'them', 'month', 'slip', 'table', 'miss', 'boat', 'speak', 'figure', 'no', 'perhaps', 'twenty', 'throw', 'rich', 'capital', 'save', 'method', 'store', 'meant', 'life', 'oil', 'string', 'song', 'food', 'am', 'who', 'fat', 'if', 'put', 'path', 'come', 'grow', 'box', 'great', 'word', 'object', 'stead', 'common', 'fresh', 'the', 'operate', 'where', 'road', 'mean'] s [[0], [0], [0], [0], [0], [0], [0], [0], [0], [0], [0], [0], [0], [0]]\n",
      "['control', 'heart', 'interest', 'stream', 'sentence', 'soil', 'wonder', 'them', 'month', 'slip', 'table', 'miss', 'boat', 'speak', 'figure', 'no', 'perhaps', 'twenty', 'throw', 'rich', 'capital', 'save', 'method', 'store', 'meant', 'life', 'oil', 'string', 'song', 'food', 'am', 'who', 'fat', 'if', 'put', 'path', 'come', 'grow', 'box', 'great', 'word', 'object', 'stead', 'common', 'fresh', 'the', 'operate', 'where', 'road', 'mean'] s [[0], [0], [0], [0], [0], [0], [0], [0], [0], [0], [0], [0], [0], [0]]\n",
      "['control', 'heart', 'interest', 'stream', 'sentence', 'soil', 'wonder', 'them', 'month', 'slip', 'table', 'miss', 'boat', 'speak', 'figure', 'no', 'perhaps', 'twenty', 'throw', 'rich', 'capital', 'save', 'method', 'store', 'meant', 'life', 'oil', 'string', 'song', 'food', 'am', 'who', 'fat', 'if', 'put', 'path', 'come', 'grow', 'box', 'great', 'word', 'object', 'stead', 'common', 'fresh', 'the', 'operate', 'where', 'road', 'mean'] sds [[0, 2], [0, 1]]\n",
      "['control', 'heart', 'interest', 'stream', 'sentence', 'soil', 'wonder', 'them', 'month', 'slip', 'table', 'miss', 'boat', 'speak', 'figure', 'no', 'perhaps', 'twenty', 'throw', 'rich', 'capital', 'save', 'method', 'store', 'meant', 'life', 'oil', 'string', 'song', 'food', 'am', 'who', 'fat', 'if', 'put', 'path', 'come', 'grow', 'box', 'great', 'word', 'object', 'stead', 'common', 'fresh', 'the', 'operate', 'where', 'road', 'mean'] d [[0], [0], [0], [0], [0], [0]]\n",
      "['control', 'heart', 'interest', 'stream', 'sentence', 'soil', 'wonder', 'them', 'month', 'slip', 'table', 'miss', 'boat', 'speak', 'figure', 'no', 'perhaps', 'twenty', 'throw', 'rich', 'capital', 'save', 'method', 'store', 'meant', 'life', 'oil', 'string', 'song', 'food', 'am', 'who', 'fat', 'if', 'put', 'path', 'come', 'grow', 'box', 'great', 'word', 'object', 'stead', 'common', 'fresh', 'the', 'operate', 'where', 'road', 'mean'] s [[0], [0], [0], [0], [0], [0], [0], [0], [0], [0], [0], [0], [0], [0]]\n",
      "['control', 'heart', 'interest', 'stream', 'sentence', 'soil', 'wonder', 'them', 'month', 'slip', 'table', 'miss', 'boat', 'speak', 'figure', 'no', 'perhaps', 'twenty', 'throw', 'rich', 'capital', 'save', 'method', 'store', 'meant', 'life', 'oil', 'string', 'song', 'food', 'am', 'who', 'fat', 'if', 'put', 'path', 'come', 'grow', 'box', 'great', 'word', 'object', 'stead', 'common', 'fresh', 'the', 'operate', 'where', 'road', 'mean'] scs [[0, 1], [0, 2]]\n",
      "['control', 'heart', 'interest', 'stream', 'sentence', 'soil', 'wonder', 'them', 'month', 'slip', 'table', 'miss', 'boat', 'speak', 'figure', 'no', 'perhaps', 'twenty', 'throw', 'rich', 'capital', 'save', 'method', 'store', 'meant', 'life', 'oil', 'string', 'song', 'food', 'am', 'who', 'fat', 'if', 'put', 'path', 'come', 'grow', 'box', 'great', 'word', 'object', 'stead', 'common', 'fresh', 'the', 'operate', 'where', 'road', 'mean'] s [[0], [0], [0], [0], [0], [0], [0], [0], [0], [0], [0], [0], [0], [0]]\n",
      "['control', 'heart', 'interest', 'stream', 'sentence', 'soil', 'wonder', 'them', 'month', 'slip', 'table', 'miss', 'boat', 'speak', 'figure', 'no', 'perhaps', 'twenty', 'throw', 'rich', 'capital', 'save', 'method', 'store', 'meant', 'life', 'oil', 'string', 'song', 'food', 'am', 'who', 'fat', 'if', 'put', 'path', 'come', 'grow', 'box', 'great', 'word', 'object', 'stead', 'common', 'fresh', 'the', 'operate', 'where', 'road', 'mean'] c [[0], [0], [0], [0], [0], [0], [0]]\n",
      "4\n"
     ]
    }
   ],
   "source": [
    "\"\"\"\n",
    "Stickers to spell word\n",
    "[\"with\", \"example\", \"science\"], \"thehat\"\n",
    "\n",
    "\"\"\"\n",
    "\n",
    "def findBest(sa, s):\n",
    "    if not s:\n",
    "        return 0\n",
    "    def find_s(arr, subs):\n",
    "        ma = []\n",
    "        for i in range(len(arr)):\n",
    "            st = 0\n",
    "            while st < len(subs):\n",
    "                si = subs.find(arr[i], st)\n",
    "                if si == -1:\n",
    "                    break\n",
    "                elif si not in ma:\n",
    "                    ma.append(si)\n",
    "                    break\n",
    "                else:\n",
    "                    st = si+1\n",
    "            i +=1\n",
    "#         print(arr, s, ma)\n",
    "        return ma\n",
    "    \n",
    "    max_match = 0\n",
    "    mma = []\n",
    "    for a in sa:\n",
    "        match_a = find_s(a, s)\n",
    "        if match_a:\n",
    "            if len(match_a) == max_match:\n",
    "                mma.append(match_a)\n",
    "            if len(match_a) > max_match:\n",
    "                max_match = len(match_a)\n",
    "                mma = [match_a]\n",
    "    print(sa, s, mma)\n",
    "    if not mma:\n",
    "        return -1\n",
    "    elif max_match == len(s):\n",
    "        return 1\n",
    "    else:\n",
    "        sn = [i for i in range(len(s))]\n",
    "        min_find = len(s)+1\n",
    "        for mm in mma:\n",
    "            missing_s = [s[x] for x in range(len(s)) if x not in mm]\n",
    "            next_find = findBest(sa, ''.join(missing_s))\n",
    "            if next_find != -1:\n",
    "                min_find = min(min_find, 1+next_find)\n",
    "        \n",
    "        return min_find if min_find != (len(s)+1) else -1\n",
    "    \n",
    "    \n",
    "SA = [\"with\", \"example\", \"science\"]\n",
    "S= \"thehat\"   \n",
    "SA = [\"cat\", \"hat\", \"tank\"]\n",
    "S= \"cat\"   \n",
    "SA = [\"about\",\"these\",\"garden\",\"guess\",\"him\"]\n",
    "S = \"atomher\" #3\n",
    "# SA=[\"these\",\"guess\",\"about\",\"garden\",\"him\"]\n",
    "# S = \"atomher\"\n",
    "\n",
    "SA=[\"notice\",\"possible\"]\n",
    "S=\"basicbasic\"\n",
    "SA=[\"travel\",\"quotient\",\"nose\",\"wrote\",\"any\"]\n",
    "S=\"lastwest\"\n",
    "SA=[\"control\",\"heart\",\"interest\",\"stream\",\"sentence\",\"soil\",\"wonder\",\"them\",\"month\",\"slip\",\"table\",\"miss\",\"boat\",\"speak\",\"figure\",\"no\",\"perhaps\",\"twenty\",\"throw\",\"rich\",\"capital\",\"save\",\"method\",\"store\",\"meant\",\"life\",\"oil\",\"string\",\"song\",\"food\",\"am\",\"who\",\"fat\",\"if\",\"put\",\"path\",\"come\",\"grow\",\"box\",\"great\",\"word\",\"object\",\"stead\",\"common\",\"fresh\",\"the\",\"operate\",\"where\",\"road\",\"mean\"]\n",
    "S=\"stoodcrease\"\n",
    "print(findBest(SA, S))     "
   ]
  },
  {
   "cell_type": "code",
   "execution_count": 246,
   "metadata": {},
   "outputs": [
    {
     "data": {
      "text/plain": [
       "[2, 3, 4, 5]"
      ]
     },
     "execution_count": 246,
     "metadata": {},
     "output_type": "execute_result"
    }
   ],
   "source": [
    "a = [1,2,3,4,5]\n",
    "a[:0]+a[1:]"
   ]
  },
  {
   "cell_type": "code",
   "execution_count": 249,
   "metadata": {},
   "outputs": [
    {
     "name": "stdout",
     "output_type": "stream",
     "text": [
      "[3, 4] [] [[4]]\n",
      "[3, 4] [[3, 4], [4, 3]] [[3]]\n",
      "[2, 3, 4] [] [[3, 4], [4, 3]]\n",
      "[2, 4] [] [[4]]\n",
      "[2, 4] [[2, 4], [4, 2]] [[2]]\n",
      "[2, 3, 4] [[2, 3, 4], [3, 4, 2], [2, 4, 3], [4, 3, 2]] [[2, 4], [4, 2]]\n",
      "[2, 3] [] [[3]]\n",
      "[2, 3] [[2, 3], [3, 2]] [[2]]\n",
      "[2, 3, 4] [[2, 3, 4], [3, 4, 2], [2, 4, 3], [4, 3, 2], [3, 2, 4], [4, 2, 3]] [[2, 3], [3, 2]]\n",
      "[1, 2, 3, 4] [] [[2, 3, 4], [3, 4, 2], [2, 4, 3], [4, 3, 2], [3, 2, 4], [4, 2, 3]]\n",
      "[3, 4] [] [[4]]\n",
      "[3, 4] [[3, 4], [4, 3]] [[3]]\n",
      "[1, 3, 4] [] [[3, 4], [4, 3]]\n",
      "[1, 4] [] [[4]]\n",
      "[1, 4] [[1, 4], [4, 1]] [[1]]\n",
      "[1, 3, 4] [[1, 3, 4], [3, 4, 1], [1, 4, 3], [4, 3, 1]] [[1, 4], [4, 1]]\n",
      "[1, 3] [] [[3]]\n",
      "[1, 3] [[1, 3], [3, 1]] [[1]]\n",
      "[1, 3, 4] [[1, 3, 4], [3, 4, 1], [1, 4, 3], [4, 3, 1], [3, 1, 4], [4, 1, 3]] [[1, 3], [3, 1]]\n",
      "[1, 2, 3, 4] [[1, 2, 3, 4], [2, 3, 4, 1], [1, 3, 4, 2], [3, 4, 2, 1], [1, 2, 4, 3], [2, 4, 3, 1], [1, 4, 3, 2], [4, 3, 2, 1], [1, 3, 2, 4], [3, 2, 4, 1], [1, 4, 2, 3], [4, 2, 3, 1]] [[1, 3, 4], [3, 4, 1], [1, 4, 3], [4, 3, 1], [3, 1, 4], [4, 1, 3]]\n",
      "[2, 4] [] [[4]]\n",
      "[2, 4] [[2, 4], [4, 2]] [[2]]\n",
      "[1, 2, 4] [] [[2, 4], [4, 2]]\n",
      "[1, 4] [] [[4]]\n",
      "[1, 4] [[1, 4], [4, 1]] [[1]]\n",
      "[1, 2, 4] [[1, 2, 4], [2, 4, 1], [1, 4, 2], [4, 2, 1]] [[1, 4], [4, 1]]\n",
      "[1, 2] [] [[2]]\n",
      "[1, 2] [[1, 2], [2, 1]] [[1]]\n",
      "[1, 2, 4] [[1, 2, 4], [2, 4, 1], [1, 4, 2], [4, 2, 1], [2, 1, 4], [4, 1, 2]] [[1, 2], [2, 1]]\n",
      "[1, 2, 3, 4] [[1, 2, 3, 4], [2, 3, 4, 1], [1, 3, 4, 2], [3, 4, 2, 1], [1, 2, 4, 3], [2, 4, 3, 1], [1, 4, 3, 2], [4, 3, 2, 1], [1, 3, 2, 4], [3, 2, 4, 1], [1, 4, 2, 3], [4, 2, 3, 1], [2, 1, 3, 4], [3, 4, 1, 2], [2, 1, 4, 3], [4, 3, 1, 2], [2, 3, 1, 4], [3, 1, 4, 2], [2, 4, 1, 3], [4, 1, 3, 2]] [[1, 2, 4], [2, 4, 1], [1, 4, 2], [4, 2, 1], [2, 1, 4], [4, 1, 2]]\n",
      "[2, 3] [] [[3]]\n",
      "[2, 3] [[2, 3], [3, 2]] [[2]]\n",
      "[1, 2, 3] [] [[2, 3], [3, 2]]\n",
      "[1, 3] [] [[3]]\n",
      "[1, 3] [[1, 3], [3, 1]] [[1]]\n",
      "[1, 2, 3] [[1, 2, 3], [2, 3, 1], [1, 3, 2], [3, 2, 1]] [[1, 3], [3, 1]]\n",
      "[1, 2] [] [[2]]\n",
      "[1, 2] [[1, 2], [2, 1]] [[1]]\n",
      "[1, 2, 3] [[1, 2, 3], [2, 3, 1], [1, 3, 2], [3, 2, 1], [2, 1, 3], [3, 1, 2]] [[1, 2], [2, 1]]\n",
      "[1, 2, 3, 4] [[1, 2, 3, 4], [2, 3, 4, 1], [1, 3, 4, 2], [3, 4, 2, 1], [1, 2, 4, 3], [2, 4, 3, 1], [1, 4, 3, 2], [4, 3, 2, 1], [1, 3, 2, 4], [3, 2, 4, 1], [1, 4, 2, 3], [4, 2, 3, 1], [2, 1, 3, 4], [3, 4, 1, 2], [2, 1, 4, 3], [4, 3, 1, 2], [2, 3, 1, 4], [3, 1, 4, 2], [2, 4, 1, 3], [4, 1, 3, 2], [3, 1, 2, 4], [4, 2, 1, 3], [3, 2, 1, 4], [4, 1, 2, 3]] [[1, 2, 3], [2, 3, 1], [1, 3, 2], [3, 2, 1], [2, 1, 3], [3, 1, 2]]\n",
      "[[1, 2, 3, 4], [2, 3, 4, 1], [1, 3, 4, 2], [3, 4, 2, 1], [1, 2, 4, 3], [2, 4, 3, 1], [1, 4, 3, 2], [4, 3, 2, 1], [1, 3, 2, 4], [3, 2, 4, 1], [1, 4, 2, 3], [4, 2, 3, 1], [2, 1, 3, 4], [3, 4, 1, 2], [2, 1, 4, 3], [4, 3, 1, 2], [2, 3, 1, 4], [3, 1, 4, 2], [2, 4, 1, 3], [4, 1, 3, 2], [3, 1, 2, 4], [4, 2, 1, 3], [3, 2, 1, 4], [4, 1, 2, 3]]\n"
     ]
    }
   ],
   "source": [
    "def permute(nums):\n",
    "        if not nums:\n",
    "            return []\n",
    "        l = len(nums)\n",
    "        if l == 1:\n",
    "            return [[nums[0]]]\n",
    "        pa = []\n",
    "        for i in range(l):\n",
    "            next_pa = permute(nums[:i]+nums[i+1:])\n",
    "            print(nums, pa, next_pa)\n",
    "            for np in next_pa:\n",
    "                if ([nums[i]] + np) not in pa:\n",
    "                    pa.append([nums[i]] + np)\n",
    "                if (np + [nums[i]]) not in pa:\n",
    "                    pa.append(np + [nums[i]])\n",
    "        return pa\n",
    "print(permute([1,2,3, 4]))"
   ]
  },
  {
   "cell_type": "code",
   "execution_count": 3,
   "metadata": {},
   "outputs": [
    {
     "name": "stdout",
     "output_type": "stream",
     "text": [
      "True\n",
      "True\n",
      "False\n",
      "{'t': {'e': {'s': {'t': {'_end_': '_end_'}}}}, 'a': {'b': {'c': {'_end_': '_end_'}}}, 'b': {'a': {'x': {'_end_': '_end_'}, 'r': {'_end_': '_end_'}}}}\n",
      "{'t': {'e': {'s': {'t': {'_end_': '_end_'}}}}, 'a': {'b': {'c': {'_end_': '_end_'}}}, 'b': {'a': {'x': {'_end_': '_end_'}, 'r': {'_end_': '_end_'}}}}\n",
      "{'a': {'x': {'_end_': '_end_'}, 'r': {'_end_': '_end_'}}} 1 dict_keys(['a'])\n"
     ]
    },
    {
     "ename": "AttributeError",
     "evalue": "'dict' object has no attribute 'iteritems'",
     "output_type": "error",
     "traceback": [
      "\u001b[0;31m---------------------------------------------------------------------------\u001b[0m",
      "\u001b[0;31mAttributeError\u001b[0m                            Traceback (most recent call last)",
      "\u001b[0;32m<ipython-input-3-f5a34919b634>\u001b[0m in \u001b[0;36m<module>\u001b[0;34m\u001b[0m\n\u001b[1;32m     74\u001b[0m \u001b[0mprint\u001b[0m\u001b[0;34m(\u001b[0m\u001b[0mmytrie\u001b[0m\u001b[0;34m[\u001b[0m\u001b[0;34m'b'\u001b[0m\u001b[0;34m]\u001b[0m\u001b[0;34m,\u001b[0m \u001b[0mlen\u001b[0m\u001b[0;34m(\u001b[0m\u001b[0mmytrie\u001b[0m\u001b[0;34m[\u001b[0m\u001b[0;34m'b'\u001b[0m\u001b[0;34m]\u001b[0m\u001b[0;34m)\u001b[0m\u001b[0;34m,\u001b[0m \u001b[0mmytrie\u001b[0m\u001b[0;34m[\u001b[0m\u001b[0;34m'b'\u001b[0m\u001b[0;34m]\u001b[0m\u001b[0;34m.\u001b[0m\u001b[0mkeys\u001b[0m\u001b[0;34m(\u001b[0m\u001b[0;34m)\u001b[0m\u001b[0;34m)\u001b[0m\u001b[0;34m\u001b[0m\u001b[0;34m\u001b[0m\u001b[0m\n\u001b[1;32m     75\u001b[0m \u001b[0mcount\u001b[0m \u001b[0;34m=\u001b[0m \u001b[0;36m0\u001b[0m\u001b[0;34m\u001b[0m\u001b[0;34m\u001b[0m\u001b[0m\n\u001b[0;32m---> 76\u001b[0;31m \u001b[0;32mfor\u001b[0m \u001b[0mkey\u001b[0m\u001b[0;34m,\u001b[0m \u001b[0mvalue\u001b[0m \u001b[0;32min\u001b[0m \u001b[0mmytrie\u001b[0m\u001b[0;34m[\u001b[0m\u001b[0;34m'b'\u001b[0m\u001b[0;34m]\u001b[0m\u001b[0;34m.\u001b[0m\u001b[0miteritems\u001b[0m\u001b[0;34m(\u001b[0m\u001b[0;34m)\u001b[0m\u001b[0;34m:\u001b[0m\u001b[0;34m\u001b[0m\u001b[0;34m\u001b[0m\u001b[0m\n\u001b[0m\u001b[1;32m     77\u001b[0m     \u001b[0mprint\u001b[0m\u001b[0;34m(\u001b[0m\u001b[0mcount\u001b[0m\u001b[0;34m,\u001b[0m \u001b[0;34m'key: '\u001b[0m\u001b[0;34m,\u001b[0m \u001b[0mkey\u001b[0m\u001b[0;34m,\u001b[0m \u001b[0;34m'value: '\u001b[0m\u001b[0;34m,\u001b[0m \u001b[0mvalue\u001b[0m\u001b[0;34m)\u001b[0m\u001b[0;34m\u001b[0m\u001b[0;34m\u001b[0m\u001b[0m\n\u001b[1;32m     78\u001b[0m     \u001b[0mcount\u001b[0m \u001b[0;34m+=\u001b[0m \u001b[0;36m1\u001b[0m\u001b[0;34m\u001b[0m\u001b[0;34m\u001b[0m\u001b[0m\n",
      "\u001b[0;31mAttributeError\u001b[0m: 'dict' object has no attribute 'iteritems'"
     ]
    }
   ],
   "source": [
    "\n",
    "def make_trie(*args):\n",
    "    \"\"\"\n",
    "    Make a trie by given words.\n",
    "    \"\"\"\n",
    "    trie = {}\n",
    "\n",
    "    for word in args:\n",
    "        if type(word) != str:\n",
    "            raise TypeError(\"Trie only works on str!\")\n",
    "        temp_trie = trie\n",
    "        for letter in word:\n",
    "            temp_trie = temp_trie.setdefault(letter, {})\n",
    "        temp_trie = temp_trie.setdefault('_end_', '_end_')\n",
    "\n",
    "    return trie\n",
    "\n",
    "\n",
    "def in_trie(trie, word):\n",
    "    '''\n",
    "    Detect if word in trie.\n",
    "    '''\n",
    "    if type(word) != str:\n",
    "        raise TypeError(\"Trie only works on str!\")\n",
    "\n",
    "    temp_trie = trie\n",
    "    for letter in word:\n",
    "        if letter not in temp_trie:\n",
    "            return False\n",
    "        temp_trie = temp_trie[letter]\n",
    "    return True\n",
    "\n",
    "\n",
    "def remove_from_trie(trie, word, depth):\n",
    "    \"\"\"\n",
    "    Remove certain word from trie.\n",
    "    \"\"\"\n",
    "    if word and word[depth] not in trie:\n",
    "        return False\n",
    "\n",
    "    if len(word) == depth + 1:\n",
    "        del trie[word[depth]]\n",
    "        if not trie:  # Node becomes a leaf, indicate its parent to delete it.\n",
    "            return True\n",
    "        return False\n",
    "    else:\n",
    "        temp_trie = trie\n",
    "\n",
    "        # Recursively climb up to delete.\n",
    "        if remove_from_trie(temp_trie[word[depth]], word, depth + 1):\n",
    "            if temp_trie:\n",
    "                del temp_trie[word[depth]]\n",
    "            return not temp_trie\n",
    "    return False\n",
    "\n",
    "\n",
    "def count_trie(trie):\n",
    "    sub_count = 0\n",
    "    for m, v in trie.items():\n",
    "        print(m , 'sub : ',v)\n",
    "        if v == '_end_':\n",
    "            sub_count = sub_count+1\n",
    "        else:\n",
    "            sub_count += count_trie(v)\n",
    "    return sub_count\n",
    "\n",
    "mytrie = make_trie('test', 'abc', 'bax', 'bar', 'abc')\n",
    "print(in_trie(mytrie, 'test'))\n",
    "print(in_trie(mytrie, 'tes'))\n",
    "print(in_trie(mytrie, 'tet'))\n",
    "print(mytrie)\n",
    "remove_from_trie(mytrie, 'bar', 1)\n",
    "print(mytrie)\n",
    "print(mytrie['b'], len(mytrie['b']), mytrie['b'].keys())\n",
    "count = 0\n",
    "for key, value in mytrie['b'].iteritems():\n",
    "    print(count, 'key: ', key, 'value: ', value)\n",
    "    count += 1\n",
    "print(count)\n"
   ]
  },
  {
   "cell_type": "code",
   "execution_count": null,
   "metadata": {},
   "outputs": [],
   "source": []
  }
 ],
 "metadata": {
  "kernelspec": {
   "display_name": "Python 3",
   "language": "python",
   "name": "python3"
  },
  "language_info": {
   "codemirror_mode": {
    "name": "ipython",
    "version": 3
   },
   "file_extension": ".py",
   "mimetype": "text/x-python",
   "name": "python",
   "nbconvert_exporter": "python",
   "pygments_lexer": "ipython3",
   "version": "3.7.5"
  }
 },
 "nbformat": 4,
 "nbformat_minor": 2
}
