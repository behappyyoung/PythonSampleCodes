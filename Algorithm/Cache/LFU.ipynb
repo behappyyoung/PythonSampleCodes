{
 "cells": [
  {
   "cell_type": "code",
   "execution_count": null,
   "id": "c1cdcfbd",
   "metadata": {},
   "outputs": [],
   "source": [
    "# obj = LFUCache(capacity)\n",
    "# param_1 = obj.get(key)\n",
    "# obj.put(key,value)\n",
    "\n",
    "\"\"\"\n",
    "Input\n",
    "[\"LFUCache\", \"put\", \"put\", \"get\", \"put\", \"get\", \"get\", \"put\", \"get\", \"get\", \"get\"]\n",
    "[[2], [1, 1], [2, 2], [1], [3, 3], [2], [3], [4, 4], [1], [3], [4]]\n",
    "\n",
    "Output\n",
    "[null, null, null, 1, null, -1, 3, null, -1, 3, 4]\n",
    "\n",
    "\"\"\""
   ]
  },
  {
   "cell_type": "code",
   "execution_count": 2,
   "id": "c33ca292",
   "metadata": {},
   "outputs": [],
   "source": [
    "class LFUCache:\n",
    "    \n",
    "    def __init__(self, capacity: int):\n",
    "        self.capacity = capacity\n",
    "        self.cache_list = []\n",
    "        self.cache_dict = {}\n",
    "        \n",
    "    def update_list(self, current_index, count):\n",
    "        done = False\n",
    "        new_index = current_index\n",
    "        while new_index != 0 and not done:\n",
    "            prev_index = new_index -1\n",
    "            prev_key = self.cache_list[prev_index]\n",
    "            if count >= self.cache_dict[prev_key]['count']:\n",
    "                new_index = prev_index\n",
    "            else:\n",
    "                done = True\n",
    "        key = self.cache_list.pop(current_index)\n",
    "        self.cache_list.insert(new_index, key)\n",
    "        \n",
    "    def get(self, key: int) -> int:\n",
    "        return_value = -1\n",
    "        if key in self.cache_dict.keys():\n",
    "            self.cache_dict[key]['count'] += 1\n",
    "            return_value = self.cache_dict[key]['value']\n",
    "            self.update_list(self.cache_list.index(key), self.cache_dict[key]['count'])\n",
    "        return return_value\n",
    "\n",
    "    def put(self, key: int, value: int) -> None:\n",
    "        if key in self.cache_dict.keys():\n",
    "            self.cache_dict[key]['count'] += 1\n",
    "            self.cache_dict[key]['value'] = value\n",
    "        else:\n",
    "            if self.capacity == 0:\n",
    "                return None\n",
    "            if len(self.cache_list) == self.capacity:\n",
    "                del self.cache_dict[self.cache_list[-1]]\n",
    "                self.cache_list.pop()\n",
    "            self.cache_list.append(key)    \n",
    "            self.cache_dict[key] = {'value': value, 'count': 1}\n",
    "        self.update_list(self.cache_list.index(key), self.cache_dict[key]['count'])\n",
    "                \n",
    "        return None\n"
   ]
  },
  {
   "cell_type": "code",
   "execution_count": 37,
   "id": "5c9911b2",
   "metadata": {},
   "outputs": [],
   "source": [
    "class LFUCache2:\n",
    "    \n",
    "    def __init__(self, capacity: int):\n",
    "        self.capacity = capacity\n",
    "        self.count_list = [] # count list\n",
    "        self.count_dict = {}\n",
    "        self.cache_dict = {}\n",
    "        \n",
    "    def update_list(self, key, prev_count):\n",
    "        self.count_dict[prev_count].remove(key)\n",
    "        if len(self.count_dict[prev_count]) == 0:\n",
    "            del self.count_dict[prev_count]\n",
    "            self.count_list.remove(prev_count)\n",
    "        next_count = prev_count + 1\n",
    "        if next_count in self.count_list:\n",
    "            self.count_dict[next_count].append(key)\n",
    "        else:\n",
    "            self.count_list.append(next_count)\n",
    "            self.count_dict[next_count] = [key]\n",
    "            \n",
    "    def get(self, key: int) -> int:\n",
    "        return_value = -1\n",
    "        if key in self.cache_dict.keys():\n",
    "            prev_count = self.cache_dict[key]['count']\n",
    "            self.cache_dict[key]['count'] += 1\n",
    "            return_value = self.cache_dict[key]['value']\n",
    "            self.update_list(key, prev_count)\n",
    "        return return_value\n",
    "\n",
    "    def put(self, key: int, value: int) -> None:\n",
    "        if key in self.cache_dict.keys():\n",
    "            prev_count = self.cache_dict[key]['count']\n",
    "            self.cache_dict[key]['count'] += 1\n",
    "            self.cache_dict[key]['value'] = value\n",
    "            self.update_list(key, prev_count)\n",
    "        else:\n",
    "            if self.capacity == 0:\n",
    "                return None\n",
    "            if len(self.cache_dict) == self.capacity:\n",
    "                min_count = min(self.count_list)\n",
    "                out_key = self.count_dict[min_count].pop(0)\n",
    "                del self.cache_dict[out_key]\n",
    "                if len(self.count_dict[min_count]) == 0:\n",
    "                    del self.count_dict[min_count]\n",
    "                    self.count_list.remove(min_count)\n",
    "                \n",
    "            if 1 in self.count_list:\n",
    "                self.count_dict[1].append(key)\n",
    "            else:\n",
    "                self.count_list.append(1)\n",
    "                self.count_dict[1] = [key]\n",
    "                \n",
    "            self.cache_dict[key] = {'value': value, 'count': 1}\n",
    "                                    \n",
    "                \n",
    "        return None\n"
   ]
  },
  {
   "cell_type": "code",
   "execution_count": 39,
   "id": "a20cc57b",
   "metadata": {},
   "outputs": [
    {
     "data": {
      "text/plain": [
       "{'capacity': 2,\n",
       " 'count_list': [3, 2],\n",
       " 'count_dict': {3: [3], 2: [4]},\n",
       " 'cache_dict': {3: {'value': 3, 'count': 3}, 4: {'value': 4, 'count': 2}}}"
      ]
     },
     "execution_count": 39,
     "metadata": {},
     "output_type": "execute_result"
    }
   ],
   "source": [
    "lfu = LFUCache2(2)\n",
    "lfu.put(1, 1)\n",
    "lfu.put(2, 2)\n",
    "\n",
    "lfu.get(1)\n",
    "lfu.put(3, 3)\n",
    "\n",
    "lfu.get(2)\n",
    "lfu.get(3)\n",
    "\n",
    "lfu.put(4, 4)\n",
    "lfu.get(1)\n",
    "lfu.get(3)\n",
    "lfu.get(4)\n",
    "\n",
    "lfu.__dict__"
   ]
  },
  {
   "cell_type": "code",
   "execution_count": 27,
   "id": "313c9f54",
   "metadata": {},
   "outputs": [
    {
     "data": {
      "text/plain": [
       "{'capacity': 2,\n",
       " 'current_count': 0,\n",
       " 'count_list': [2, 3],\n",
       " 'count_dict': {2: [1], 1: [3]},\n",
       " 'cache_dict': {1: {'value': 1, 'count': 2}, 3: {'value': 3, 'count': 1}}}"
      ]
     },
     "execution_count": 27,
     "metadata": {},
     "output_type": "execute_result"
    }
   ],
   "source": [
    "lfu.__dict__"
   ]
  },
  {
   "cell_type": "code",
   "execution_count": 41,
   "id": "de963f58",
   "metadata": {},
   "outputs": [
    {
     "name": "stdout",
     "output_type": "stream",
     "text": [
      "0.308610055999452\n"
     ]
    }
   ],
   "source": [
    "import json\n",
    "f = open(\"long_long_input.txt\", \"r\")\n",
    "inputs = f.read()\n",
    "input_array = inputs.split('\\n')\n",
    "commands = json.loads(input_array[0])\n",
    "values = json.loads(input_array[1])\n",
    "lfu = LFUCache2(values[0][0])\n",
    "import timeit\n",
    "start = timeit.default_timer()\n",
    "for i in range(1, len(commands)):\n",
    "    if commands[i]=='put':\n",
    "        lfu.put(values[i][0], values[i][1])\n",
    "    elif commands[i] == 'get':\n",
    "        lfu.get(values[i][0])\n",
    "\n",
    "# print(lfu.__dict__)\n",
    "stop = timeit.default_timer()\n",
    "print(stop-start)"
   ]
  },
  {
   "cell_type": "code",
   "execution_count": 23,
   "id": "1e80a677",
   "metadata": {},
   "outputs": [
    {
     "name": "stdout",
     "output_type": "stream",
     "text": [
      "['a', 'd', 'b', 'c']\n",
      "['d', 'b', 'c'] a\n"
     ]
    }
   ],
   "source": [
    "l = ['a', 'b', 'c']\n",
    "l.insert(1, 'd')\n",
    "print(l)\n",
    "p = l.pop(0)\n",
    "print(l, p)"
   ]
  },
  {
   "cell_type": "code",
   "execution_count": 12,
   "id": "01a97dca",
   "metadata": {},
   "outputs": [
    {
     "ename": "IndexError",
     "evalue": "list assignment index out of range",
     "output_type": "error",
     "traceback": [
      "\u001b[0;31m---------------------------------------------------------------------------\u001b[0m",
      "\u001b[0;31mIndexError\u001b[0m                                Traceback (most recent call last)",
      "\u001b[0;32m<ipython-input-12-d551af1d8601>\u001b[0m in \u001b[0;36m<module>\u001b[0;34m\u001b[0m\n\u001b[1;32m      1\u001b[0m \u001b[0ml\u001b[0m \u001b[0;34m=\u001b[0m \u001b[0;34m[\u001b[0m\u001b[0;34m]\u001b[0m\u001b[0;34m\u001b[0m\u001b[0;34m\u001b[0m\u001b[0m\n\u001b[0;32m----> 2\u001b[0;31m \u001b[0ml\u001b[0m\u001b[0;34m[\u001b[0m\u001b[0;36m1\u001b[0m\u001b[0;34m]\u001b[0m \u001b[0;34m=\u001b[0m \u001b[0;34m[\u001b[0m\u001b[0;36m1\u001b[0m\u001b[0;34m]\u001b[0m\u001b[0;34m\u001b[0m\u001b[0;34m\u001b[0m\u001b[0m\n\u001b[0m",
      "\u001b[0;31mIndexError\u001b[0m: list assignment index out of range"
     ]
    }
   ],
   "source": [
    "l = []\n",
    "l[1] = [1]"
   ]
  }
 ],
 "metadata": {
  "kernelspec": {
   "display_name": "Python 3",
   "language": "python",
   "name": "python3"
  },
  "language_info": {
   "codemirror_mode": {
    "name": "ipython",
    "version": 3
   },
   "file_extension": ".py",
   "mimetype": "text/x-python",
   "name": "python",
   "nbconvert_exporter": "python",
   "pygments_lexer": "ipython3",
   "version": "3.6.9"
  }
 },
 "nbformat": 4,
 "nbformat_minor": 5
}
