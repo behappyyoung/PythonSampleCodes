{
 "cells": [
  {
   "cell_type": "code",
   "execution_count": 15,
   "metadata": {},
   "outputs": [
    {
     "name": "stdout",
     "output_type": "stream",
     "text": [
      "0\n"
     ]
    }
   ],
   "source": [
    "\"\"\"\n",
    "Number of Islands\n",
    "Given a 2d grid map of '1's (land) and '0's (water), count the number of islands.\n",
    "An island is surrounded by water and is formed by connecting adjacent lands horizontally or vertically. \n",
    "You may assume all four edges of the grid are all surrounded by water.\n",
    "\n",
    "Input:\n",
    "11000\n",
    "11000\n",
    "00100\n",
    "00011\n",
    "\n",
    "Output: 3\n",
    "\n",
    "\"\"\"\n",
    "\n",
    "def numberofislands(gridmap):\n",
    "    if not gridmap:\n",
    "        return 0\n",
    "    n = len(gridmap)\n",
    "    if not gridmap[0]:\n",
    "        return 0\n",
    "    m = len(gridmap[0])\n",
    "    visited = [[False] * (m) for _ in range(n)]\n",
    "    count = 0\n",
    "\n",
    "    def walk(x, y):\n",
    "#         print(x, y)\n",
    "        if x < 0 or x >= n or y < 0 or y >=m:\n",
    "            return 0\n",
    "        if visited[x][y]:\n",
    "            return 0\n",
    "        if gridmap[x][y] == '0':\n",
    "            return 0\n",
    "#         print(x, y)\n",
    "        visited[x][y] = True\n",
    "        walk(x, y+1)\n",
    "        walk(x, y-1)\n",
    "        walk(x+1, y)\n",
    "        walk(x-1, y)\n",
    "#         if y < m-1:\n",
    "#             if gridmap[x][y+1] == '1' and not visited[x][y+1]:\n",
    "#                 walk(x, y+1)\n",
    "#         if y > 0:\n",
    "#             if gridmap[x][y-1] == '1' and not visited[x][y-1]:\n",
    "#                 walk(x, y-1)\n",
    "#         if x < n-1:\n",
    "#             print(x+1, y)\n",
    "#             if gridmap[x+1][y] == '1' and not visited[x+1][y]:\n",
    "#                 walk(x+1, y)\n",
    "#         if x > 0:\n",
    "#             if gridmap[x-1][y] == '1' and not visited[x-1][y]:\n",
    "#                 walk(x-1, y)\n",
    "        \n",
    "                \n",
    "    for i in range(n):\n",
    "        for j in range(m):\n",
    "\n",
    "            if (gridmap[i][j] == '1') and (not visited[i][j]):\n",
    "                count += 1\n",
    "                walk(i, j)\n",
    "    print(visited)\n",
    "    return count\n",
    "    \n",
    "g = [[\"1\",\"1\",\"1\",\"1\",\"0\"],\n",
    "     [\"1\",\"1\",\"0\",\"1\",\"0\"],\n",
    "     [\"1\",\"1\",\"0\",\"0\",\"0\"],\n",
    "     [\"0\",\"0\",\"0\",\"0\",\"0\"]]\n",
    "\n",
    "# g =[[\"1\",\"1\",\"0\",\"0\",\"0\"],\n",
    "#     [\"1\",\"1\",\"0\",\"0\",\"0\"],\n",
    "#     [\"0\",\"0\",\"1\",\"0\",\"0\"],\n",
    "#     [\"0\",\"0\",\"0\",\"1\",\"1\"]]\n",
    "g = [[]]\n",
    "print(numberofislands(g))\n"
   ]
  },
  {
   "cell_type": "code",
   "execution_count": 30,
   "metadata": {},
   "outputs": [
    {
     "name": "stdout",
     "output_type": "stream",
     "text": [
      "[[False, False, False, False, False, False, False, True], [False, True, True, True, True, False, False, True], [False, True, False, False, False, False, False, True], [False, True, False, True, False, True, True, False], [False, False, False, False, False, False, False, True]]\n",
      "3\n"
     ]
    }
   ],
   "source": [
    "\"\"\"\n",
    "\n",
    "Input: \n",
    "grid = [\n",
    "[1,1,1,1,1,1,1,0],\n",
    "[1,0,0,0,0,1,1,0],\n",
    "[1,0,1,0,1,1,1,0],\n",
    "[1,0,0,0,0,1,0,1],\n",
    "[1,1,1,1,1,1,1,0]]\n",
    "\n",
    "Output: 2\n",
    "Explanation: \n",
    "Islands in gray are closed because they are completely surrounded by water (group of 1s).\n",
    "\n",
    "\"\"\"\n",
    "\n",
    "def numberofislands2(grid):\n",
    "    if not grid:\n",
    "        return 0\n",
    "    n = len(grid)\n",
    "    if not grid[0]:\n",
    "        return 0\n",
    "    m = len(grid[0])\n",
    "    visited = [[False] * (m) for _ in range(n)]\n",
    "    count = 0\n",
    "\n",
    "    def walk(x, y):\n",
    "        add = True\n",
    "        if x < 0 or x >= n or y < 0 or y >=m:\n",
    "            return False\n",
    "        if visited[x][y]:\n",
    "            return True\n",
    "        if grid[x][y] == 1:\n",
    "            return True\n",
    "\n",
    "        visited[x][y] = True\n",
    "        add &= walk(x, y+1)\n",
    "        add &= walk(x, y-1)\n",
    "        add &= walk(x+1, y)\n",
    "        add &= walk(x-1, y)\n",
    "    \n",
    "#         print(x, y, add)\n",
    "        return add\n",
    "        \n",
    "                \n",
    "    for i in range(n):\n",
    "        for j in range(m):\n",
    "\n",
    "            if (grid[i][j] == 0) and (not visited[i][j]):\n",
    "                count += 1 if walk(i, j) else 0\n",
    "                \n",
    "    print(visited)\n",
    "    return count\n",
    "\n",
    "g = [\n",
    "[1,1,1,1,1,1,1,0],\n",
    "[1,0,0,0,0,1,1,0],\n",
    "[1,0,1,1,1,1,1,0],\n",
    "[1,0,1,0,1,0,0,1],\n",
    "[1,1,1,1,1,1,1,0]]\n",
    "# g =[[]]\n",
    "print(numberofislands2(g))"
   ]
  },
  {
   "cell_type": "code",
   "execution_count": 17,
   "metadata": {},
   "outputs": [
    {
     "data": {
      "text/plain": [
       "True"
      ]
     },
     "execution_count": 17,
     "metadata": {},
     "output_type": "execute_result"
    }
   ],
   "source": [
    "True & True"
   ]
  },
  {
   "cell_type": "code",
   "execution_count": null,
   "metadata": {},
   "outputs": [],
   "source": []
  }
 ],
 "metadata": {
  "kernelspec": {
   "display_name": "Python 3",
   "language": "python",
   "name": "python3"
  },
  "language_info": {
   "codemirror_mode": {
    "name": "ipython",
    "version": 3
   },
   "file_extension": ".py",
   "mimetype": "text/x-python",
   "name": "python",
   "nbconvert_exporter": "python",
   "pygments_lexer": "ipython3",
   "version": "3.6.9"
  }
 },
 "nbformat": 4,
 "nbformat_minor": 2
}
