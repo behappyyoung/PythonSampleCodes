{
 "cells": [
  {
   "cell_type": "code",
   "execution_count": 2,
   "id": "d2d85b4c",
   "metadata": {},
   "outputs": [
    {
     "name": "stdout",
     "output_type": "stream",
     "text": [
      "3 []\n",
      "6 [[5, 6]]\n",
      "5 [[4, 5, 6]]\n",
      "4 [[1, 4, 5, 6]]\n",
      "1 [[0, 1, 4, 5, 6]]\n",
      "6 [[5, 6]]\n",
      "5 [[4, 5, 6]]\n",
      "4 [[2, 4, 5, 6]]\n",
      "2 [[0, 1, 4, 5, 6], [0, 2, 4, 5, 6]]\n",
      "[[0, 1, 4, 5, 6], [0, 2, 4, 5, 6]]\n"
     ]
    }
   ],
   "source": [
    "\"\"\"\n",
    "Example:\n",
    "Input: [[1,2], [3], [3], []]\n",
    "Output: [[0,1,3],[0,2,3]]\n",
    "Explanation: The graph looks like this:\n",
    "0--->1\n",
    "|    |\n",
    "v    v\n",
    "2--->3\n",
    "There are two paths: 0 -> 1 -> 3 and 0 -> 2 -> 3.\n",
    "\n",
    "\"\"\"\n",
    "def allPathsSourceTarget(graph):\n",
    "    \"\"\"\n",
    "    :type graph: List[List[int]]\n",
    "    :rtype: List[List[int]]\n",
    "    \"\"\"\n",
    "    N = len(graph)\n",
    "\n",
    "    def walk(node):\n",
    "        if node == N - 1: return [[N - 1]]\n",
    "        ans = []\n",
    "        for np in graph[node]:\n",
    "            for path in walk(np):\n",
    "                ans.append([node] + path)\n",
    "            print(np, ans)\n",
    "        return ans\n",
    "\n",
    "    return walk(0)\n",
    "\n",
    "print(allPathsSourceTarget([[1,2],[3,4],[4],[],[5], [6], []]))\n"
   ]
  },
  {
   "cell_type": "code",
   "execution_count": 3,
   "id": "cfa7d2ac",
   "metadata": {},
   "outputs": [
    {
     "name": "stdout",
     "output_type": "stream",
     "text": [
      "3 [[1, 3]]\n",
      "1 [[0, 1, 3]]\n",
      "3 [[2, 3]]\n",
      "2 [[0, 1, 3], [0, 2, 3]]\n"
     ]
    },
    {
     "data": {
      "text/plain": [
       "[[0, 1, 3], [0, 2, 3]]"
      ]
     },
     "execution_count": 3,
     "metadata": {},
     "output_type": "execute_result"
    }
   ],
   "source": [
    "g = [[1,2], [3], [3], []]\n",
    "allPathsSourceTarget(g)"
   ]
  }
 ],
 "metadata": {
  "kernelspec": {
   "display_name": "Django Shell-Plus",
   "language": "python",
   "name": "django_extensions"
  },
  "language_info": {
   "codemirror_mode": {
    "name": "ipython",
    "version": 3
   },
   "file_extension": ".py",
   "mimetype": "text/x-python",
   "name": "python",
   "nbconvert_exporter": "python",
   "pygments_lexer": "ipython3",
   "version": "3.6.9"
  }
 },
 "nbformat": 4,
 "nbformat_minor": 5
}
