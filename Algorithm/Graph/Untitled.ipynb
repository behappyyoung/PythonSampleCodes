{
 "cells": [
  {
   "cell_type": "code",
   "execution_count": 1,
   "id": "10ed1d71",
   "metadata": {},
   "outputs": [
    {
     "name": "stdout",
     "output_type": "stream",
     "text": [
      "a\n",
      "b\n",
      "d\n",
      "e\n",
      "c\n",
      "0\n",
      "2\n",
      "4\n",
      "3\n",
      "1\n"
     ]
    }
   ],
   "source": [
    "\"\"\"\n",
    "Implementation of DFS in python:\n",
    "\"\"\"\n",
    "\n",
    "\n",
    "def dfs(graph, vertex, visited=None):\n",
    "    if visited is None:\n",
    "        visited = set()\n",
    "    visited.add(vertex)\n",
    "    print(vertex)\n",
    "    for node in graph[vertex] :\n",
    "        if node not in visited:\n",
    "            dfs(graph, node, visited)\n",
    "\n",
    "graph = {\n",
    "          \"a\" : set([\"b\",\"c\"]),\n",
    "          \"b\" : set([\"a\", \"d\"]),\n",
    "          \"c\" : set([\"a\", \"d\"]),\n",
    "          \"d\" : set([\"e\"]),\n",
    "          \"e\" : set([\"a\"])\n",
    "        }\n",
    "\n",
    "dfs(graph, 'a')\n",
    "\n",
    "graph = {'0': set(['1', '2']),\n",
    "         '1': set(['0', '3', '4']),\n",
    "         '2': set(['0', '4']),\n",
    "         '3': set(['1', '4']),\n",
    "         '4': set(['1', '2', '3'])}\n",
    "\n",
    "dfs(graph, '0')\n",
    "\n"
   ]
  }
 ],
 "metadata": {
  "kernelspec": {
   "display_name": "Django Shell-Plus",
   "language": "python",
   "name": "django_extensions"
  },
  "language_info": {
   "codemirror_mode": {
    "name": "ipython",
    "version": 3
   },
   "file_extension": ".py",
   "mimetype": "text/x-python",
   "name": "python",
   "nbconvert_exporter": "python",
   "pygments_lexer": "ipython3",
   "version": "3.6.9"
  }
 },
 "nbformat": 4,
 "nbformat_minor": 5
}
