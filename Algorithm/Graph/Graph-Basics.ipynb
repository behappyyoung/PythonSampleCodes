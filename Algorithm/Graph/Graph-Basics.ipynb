{
 "cells": [
  {
   "cell_type": "code",
   "execution_count": 2,
   "metadata": {},
   "outputs": [
    {
     "name": "stdout",
     "output_type": "stream",
     "text": [
      "3 []\n",
      "6 [[5, 6]]\n",
      "5 [[4, 5, 6]]\n",
      "4 [[1, 4, 5, 6]]\n",
      "1 [[0, 1, 4, 5, 6]]\n",
      "6 [[5, 6]]\n",
      "5 [[4, 5, 6]]\n",
      "4 [[2, 4, 5, 6]]\n",
      "2 [[0, 1, 4, 5, 6], [0, 2, 4, 5, 6]]\n",
      "[[0, 1, 4, 5, 6], [0, 2, 4, 5, 6]]\n"
     ]
    }
   ],
   "source": [
    "def allPathsSourceTarget(graph):\n",
    "    \"\"\"\n",
    "    :type graph: List[List[int]]\n",
    "    :rtype: List[List[int]]\n",
    "    \"\"\"\n",
    "    N = len(graph)\n",
    "\n",
    "    def walk(node):\n",
    "        if node == N - 1: return [[N - 1]]\n",
    "        ans = []\n",
    "        for np in graph[node]:\n",
    "            for path in walk(np):\n",
    "                ans.append([node] + path)\n",
    "            print(np, ans)\n",
    "        return ans\n",
    "\n",
    "    return walk(0)\n",
    "\n",
    "print(allPathsSourceTarget([[1,2],[3,4],[4],[],[5], [6], []]))\n"
   ]
  },
  {
   "cell_type": "code",
   "execution_count": 71,
   "metadata": {},
   "outputs": [
    {
     "name": "stdout",
     "output_type": "stream",
     "text": [
      "0\n"
     ]
    }
   ],
   "source": [
    "\"\"\"\n",
    "Number of Islands\n",
    "Given a 2d grid map of '1's (land) and '0's (water), count the number of islands.\n",
    "An island is surrounded by water and is formed by connecting adjacent lands horizontally or vertically. \n",
    "You may assume all four edges of the grid are all surrounded by water.\n",
    "\n",
    "Input:\n",
    "11000\n",
    "11000\n",
    "00100\n",
    "00011\n",
    "\n",
    "Output: 3\n",
    "\n",
    "\"\"\"\n",
    "\n",
    "def numberofislands(gridmap):\n",
    "    if not gridmap:\n",
    "        return 0\n",
    "    n = len(gridmap)\n",
    "    if not gridmap[0]:\n",
    "        return 0\n",
    "    m = len(gridmap[0])\n",
    "    visited = [[False] * (m) for _ in range(n)]\n",
    "    count = 0\n",
    "\n",
    "    def walk(x, y):\n",
    "        visited[x][y] = True\n",
    "\n",
    "        if y < m-1:\n",
    "            if gridmap[x][y+1] == '1' and not visited[x][y+1]:\n",
    "                walk(x, y+1)\n",
    "        if y > 0:\n",
    "            if gridmap[x][y-1] == '1' and not visited[x][y-1]:\n",
    "                walk(x, y-1)\n",
    "        if x < n-1:\n",
    "            print(x+1, y)\n",
    "            if gridmap[x+1][y] == '1' and not visited[x+1][y]:\n",
    "                walk(x+1, y)\n",
    "        if x > 0:\n",
    "            if gridmap[x-1][y] == '1' and not visited[x-1][y]:\n",
    "                walk(x-1, y)\n",
    "        \n",
    "                \n",
    "    for i in range(n):\n",
    "        for j in range(m):\n",
    "\n",
    "            if (gridmap[i][j] == '1') and (not visited[i][j]):\n",
    "                count += 1\n",
    "                walk(i, j)\n",
    "    \n",
    "    return count\n",
    "    \n",
    "g = [[\"1\",\"1\",\"1\",\"1\",\"0\"],\n",
    "     [\"1\",\"1\",\"0\",\"1\",\"0\"],\n",
    "     [\"1\",\"1\",\"0\",\"0\",\"0\"],\n",
    "     [\"0\",\"0\",\"0\",\"0\",\"0\"]]\n",
    "\n",
    "g =[[\"1\",\"1\",\"0\",\"0\",\"0\"],\n",
    "    [\"1\",\"1\",\"0\",\"0\",\"0\"],\n",
    "    [\"0\",\"0\",\"1\",\"0\",\"0\"],\n",
    "    [\"0\",\"0\",\"0\",\"1\",\"1\"]]\n",
    "g = [[]]\n",
    "print(numberofislands(g))\n"
   ]
  },
  {
   "cell_type": "code",
   "execution_count": 10,
   "metadata": {},
   "outputs": [
    {
     "data": {
      "text/plain": [
       "[[False, False, False],\n",
       " [False, False, False],\n",
       " [False, False, False],\n",
       " [False, False, False]]"
      ]
     },
     "execution_count": 10,
     "metadata": {},
     "output_type": "execute_result"
    }
   ],
   "source": [
    "[[False]*3 for _ in range(4)]"
   ]
  },
  {
   "cell_type": "code",
   "execution_count": null,
   "metadata": {},
   "outputs": [],
   "source": []
  }
 ],
 "metadata": {
  "kernelspec": {
   "display_name": "Python 3",
   "language": "python",
   "name": "python3"
  },
  "language_info": {
   "codemirror_mode": {
    "name": "ipython",
    "version": 3
   },
   "file_extension": ".py",
   "mimetype": "text/x-python",
   "name": "python",
   "nbconvert_exporter": "python",
   "pygments_lexer": "ipython3",
   "version": "3.7.5"
  }
 },
 "nbformat": 4,
 "nbformat_minor": 2
}
