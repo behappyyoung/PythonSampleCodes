{
 "cells": [
  {
   "cell_type": "code",
   "execution_count": 30,
   "id": "adbb85c0",
   "metadata": {},
   "outputs": [
    {
     "name": "stdout",
     "output_type": "stream",
     "text": [
      "Counter({1: 3, 2: 3, 3: 3, 4: 1, 5: 1, 6: 1}) defaultdict(<class 'set'>, {1: {2, 3, 4}, 2: {3, 5}, 3: {6}})\n",
      "Counter({1: 3, 2: 3, 3: 3, 4: 1, 5: 1, 6: 1}) defaultdict(<class 'set'>, {1: {2, 3, 4}, 2: {3, 5}, 3: {6}, 4: set(), 5: set(), 6: set()}) 3\n",
      "Counter({2: 2, 3: 1, 1: 1}) defaultdict(<class 'set'>, {2: {3}, 1: {2}})\n",
      "Counter({2: 2, 3: 1, 1: 1}) defaultdict(<class 'set'>, {2: {3}, 1: {2}, 3: set()}) inf\n"
     ]
    },
    {
     "data": {
      "text/plain": [
       "-1"
      ]
     },
     "execution_count": 30,
     "metadata": {},
     "output_type": "execute_result"
    }
   ],
   "source": [
    "\"\"\"\n",
    "https://leetcode.com/problems/minimum-degree-of-a-connected-trio-in-a-graph/\n",
    "\n",
    "    Min Trio\n",
    "    n = 6\n",
    "    edges = [[1,2], [1,3], [3,2], [4,1], [5,2], [3,6]]\n",
    "    \n",
    "    output = 3\n",
    "\"\"\"\n",
    "from collections import defaultdict, Counter\n",
    "\n",
    "def minTrioDegree(edges, n):\n",
    "    deg = Counter()\n",
    "    adj = defaultdict(set)\n",
    "    for (a,b) in edges:\n",
    "        deg[a] += 1\n",
    "        deg[b] += 1\n",
    "        if a<b:\n",
    "            adj[a].add(b)\n",
    "        else:\n",
    "            adj[b].add(a)\n",
    "    ans = float('inf')    \n",
    "    print(deg, adj)\n",
    "    for a in range(1, n+1):\n",
    "        for b in adj[a]:\n",
    "            intersect = [x for x in adj[a].intersection(adj[b]) if x > b]\n",
    "            for c in intersect:\n",
    "                ans = min(ans, deg[a] + deg[b]+deg[c]-6)\n",
    "    print(deg, adj, ans)\n",
    "    return ans if ans < float('inf') else -1\n",
    "edges = [[1,2], [1,3], [3,2], [4,1], [5,2], [3,6]]\n",
    "minTrioDegree(edges, 6)\n",
    "\n",
    "n = 3\n",
    "edges = [[3,2],[2,1]]\n",
    "minTrioDegree(edges, n)"
   ]
  },
  {
   "cell_type": "code",
   "execution_count": 15,
   "id": "d3b07f95",
   "metadata": {},
   "outputs": [
    {
     "name": "stdout",
     "output_type": "stream",
     "text": [
      "defaultdict(<class 'set'>, {1: {2, 3, 4}})\n",
      "{1: {2}}\n"
     ]
    }
   ],
   "source": [
    "\n",
    "\n",
    "adj = defaultdict(set)\n",
    "adj[1].add(2)\n",
    "adj[1].add(3)\n",
    "adj[1].add(4)\n",
    "\n",
    "print(adj)\n",
    "\n",
    "a = {}\n",
    "a[1] = set()\n",
    "a[1].add(2)\n",
    "print(a)"
   ]
  }
 ],
 "metadata": {
  "kernelspec": {
   "display_name": "Django Shell-Plus",
   "language": "python",
   "name": "django_extensions"
  },
  "language_info": {
   "codemirror_mode": {
    "name": "ipython",
    "version": 3
   },
   "file_extension": ".py",
   "mimetype": "text/x-python",
   "name": "python",
   "nbconvert_exporter": "python",
   "pygments_lexer": "ipython3",
   "version": "3.6.9"
  }
 },
 "nbformat": 4,
 "nbformat_minor": 5
}
