{
 "cells": [
  {
   "cell_type": "code",
   "execution_count": null,
   "id": "c2098e2d",
   "metadata": {},
   "outputs": [],
   "source": [
    "\"\"\"\n",
    "https://leetcode.com/explore/challenge/card/september-leetcoding-challenge-2021/637/week-2-september-8th-september-14th/3972/\n",
    "\n",
    "Input: edges = [[0,1,10],[0,2,1],[1,2,2]], maxMoves = 6, n = 3\n",
    "Output: 13\n",
    "\n",
    "\"\"\""
   ]
  },
  {
   "cell_type": "code",
   "execution_count": 51,
   "id": "2eb85de4",
   "metadata": {},
   "outputs": [],
   "source": [
    "def reachableNodes(edges, max_moves, nodes):\n",
    "    \n",
    "    visited = set()\n",
    "    \n",
    "    def walk_through(c_key, n_key, moves, mm):\n",
    "        print(c_key, n_key, moves, mm)\n",
    "        if c_key < n_key:  # run_dict[c_key][key] => next dest \n",
    "            for i in range(1, moves+1):\n",
    "                    mm -= 1\n",
    "                    if i == 1:\n",
    "                        visited.add((c_key, c_key))\n",
    "                        visited.add((c_key, n_key, i))\n",
    "                    elif i == moves:\n",
    "                        visited.add((c_key, n_key, i))\n",
    "                        visited.add((n_key, n_key))\n",
    "                        mm -= 1\n",
    "                    else:\n",
    "                        visited.add((c_key, n_key, i))\n",
    "                    if mm < 0:\n",
    "                        return 0\n",
    "        else:\n",
    "            print('should be here', c_key, n_key, moves, mm)\n",
    "            for i in range(moves, -1, -1):\n",
    "                    mm -= 1\n",
    "                    if i == 1:\n",
    "                        visited.add((n_key, n_key))\n",
    "                        visited.add((n_key, c_key, i))\n",
    "                        mm -= 1\n",
    "                    elif i == moves:\n",
    "#                         visited.add((c_key, c_key))\n",
    "                        visited.add((n_key, c_key, i))\n",
    "                    else:\n",
    "                        visited.add((n_key, c_key, i))\n",
    "                    \n",
    "                    if mm < 0:\n",
    "                        return 0\n",
    "        # if mm >0 , there are more to walk_through\n",
    "        if mm > 0:\n",
    "                if n_key in run_dict:\n",
    "                    for n_dict in run_dict[n_key]:\n",
    "                        for next_key in n_dict:\n",
    "                            walk_through(n_key, next_key, n_dict[next_key], mm)\n",
    "    \n",
    "    run_dict = {}\n",
    "    for ed in edges:\n",
    "        print(ed)\n",
    "        if ed[0] in run_dict:\n",
    "\n",
    "                run_dict[ed[0]].append({ed[1]: ed[2]})  # from ed[0] to ed[1] takes ed[2]\n",
    "                if ed[1] in run_dict:\n",
    "                        run_dict[ed[1]].append({ed[0]: ed[2]})  # add backward\n",
    "                else:\n",
    "                        run_dict[ed[1]] = [{ed[0]: ed[2]}]\n",
    "        else:\n",
    "\n",
    "                run_dict[ed[0]] = [{ed[1]: ed[2]}]  # from ed[0] to ed[1] takes ed[2]\n",
    "                if ed[1] in run_dict:\n",
    "                        run_dict[ed[1]].append({ed[0]: ed[2]})  # add backward\n",
    "                else:\n",
    "                        run_dict[ed[1]] = [{ed[0]: ed[2]}]\n",
    "    \n",
    "    if 0 not in run_dict:\n",
    "        return 0\n",
    "    \n",
    "    for z_dict in run_dict[0]:\n",
    "        for z_key in z_dict:\n",
    "            walk_through(0, z_key, z_dict[z_key], max_moves)\n",
    "            \n",
    "#     print(run_dict)\n",
    "    print(sorted(visited))\n",
    "    \n",
    "    return len(visited)\n",
    "\n"
   ]
  },
  {
   "cell_type": "code",
   "execution_count": 52,
   "id": "7936dcc9",
   "metadata": {},
   "outputs": [
    {
     "name": "stdout",
     "output_type": "stream",
     "text": [
      "[0, 1, 10]\n",
      "[0, 2, 1]\n",
      "[1, 2, 2]\n",
      "0 1 10 6\n",
      "0 2 1 6\n",
      "2 0 1 3\n",
      "should be here 2 0 1 3\n",
      "2 1 2 3\n",
      "should be here 2 1 2 3\n",
      "[(0, 0), (0, 1, 1), (0, 1, 2), (0, 1, 3), (0, 1, 4), (0, 1, 5), (0, 1, 6), (0, 2, 0), (0, 2, 1), (1, 1), (1, 2, 0), (1, 2, 1), (1, 2, 2), (2, 2)]\n",
      "14\n",
      "[0, 1, 4]\n",
      "[1, 2, 6]\n",
      "[0, 2, 8]\n",
      "[1, 3, 1]\n",
      "0 1 4 10\n",
      "1 0 4 4\n",
      "should be here 1 0 4 4\n",
      "1 2 6 4\n",
      "1 3 1 4\n",
      "3 1 1 1\n",
      "should be here 3 1 1 1\n",
      "0 2 8 10\n",
      "[(0, 0), (0, 1, 1), (0, 1, 2), (0, 1, 3), (0, 1, 4), (0, 2, 1), (0, 2, 2), (0, 2, 3), (0, 2, 4), (0, 2, 5), (0, 2, 6), (0, 2, 7), (0, 2, 8), (1, 1), (1, 2, 1), (1, 2, 2), (1, 2, 3), (1, 2, 4), (1, 3, 1), (2, 2), (3, 3)]\n",
      "21\n"
     ]
    }
   ],
   "source": [
    "edges =  [[0,1,10],[0,2,1],[1,2,2]]\n",
    "mm = 6\n",
    "nodes = 3\n",
    "print(reachableNodes(edges, mm, nodes))\n",
    "edges = [[0,1,4],[1,2,6],[0,2,8],[1,3,1]]\n",
    "mm = 10\n",
    "nodes = 4\n",
    "print(reachableNodes(edges, mm, nodes))\n"
   ]
  },
  {
   "cell_type": "code",
   "execution_count": 9,
   "id": "4da8cc14",
   "metadata": {},
   "outputs": [
    {
     "name": "stdout",
     "output_type": "stream",
     "text": [
      "[(0, 2, 3), (1, 1, 2), (1, 1, 3), (1, 2, 3), (2, 1, 3)]\n"
     ]
    }
   ],
   "source": [
    "s = set()\n",
    "s.add((1,1,2))\n",
    "s.add((2,1,3))\n",
    "s.add((1,2,3))\n",
    "s.add((0,2,3))\n",
    "s.add((1,1,3))\n",
    "\n",
    "print(sorted(s))"
   ]
  },
  {
   "cell_type": "code",
   "execution_count": 121,
   "id": "7bfb9364",
   "metadata": {},
   "outputs": [
    {
     "name": "stdout",
     "output_type": "stream",
     "text": [
      "{(0, 2, 3), (1, 2, 3)}\n"
     ]
    }
   ],
   "source": [
    "# s.remove((1,2,3))\n",
    "print(s)"
   ]
  }
 ],
 "metadata": {
  "kernelspec": {
   "display_name": "Python 3",
   "language": "python",
   "name": "python3"
  },
  "language_info": {
   "codemirror_mode": {
    "name": "ipython",
    "version": 3
   },
   "file_extension": ".py",
   "mimetype": "text/x-python",
   "name": "python",
   "nbconvert_exporter": "python",
   "pygments_lexer": "ipython3",
   "version": "3.6.9"
  }
 },
 "nbformat": 4,
 "nbformat_minor": 5
}
