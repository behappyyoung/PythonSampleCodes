{
 "cells": [
  {
   "cell_type": "code",
   "execution_count": 11,
   "id": "32e28168",
   "metadata": {},
   "outputs": [
    {
     "name": "stdout",
     "output_type": "stream",
     "text": [
      "defaultdict(<class 'list'>, {1: [2], 0: [1]}) {2: 1, 1: 1} deque([0])\n",
      "defaultdict(<class 'list'>, {1: [2], 0: [1]}) {2: 1, 1: 1} deque([0])\n",
      "defaultdict(<class 'list'>, {1: [2], 0: [1]}) {2: 1, 1: 0} deque([1])\n",
      "defaultdict(<class 'list'>, {1: [2], 0: [1]}) {2: 0, 1: 0} deque([2])\n",
      "defaultdict(<class 'list'>, {1: [2], 0: [1]}) {2: 0, 1: 0} deque([])\n"
     ]
    },
    {
     "data": {
      "text/plain": [
       "[0, 1, 2]"
      ]
     },
     "execution_count": 11,
     "metadata": {},
     "output_type": "execute_result"
    }
   ],
   "source": [
    "\"\"\"\n",
    "Course Scheduler\n",
    "Input: numCourses = 2, prerequisites = [[1,0]]\n",
    "Output: [0,1]\n",
    "0->[1]\n",
    "\n",
    "Explanation: There are a total of 2 courses to take. To take course 1 you should have finished course 0. So the correct course order is [0,1].\n",
    "Example 2:\n",
    "\n",
    "Input: numCourses= 4, prerequisites = [[1,0],[2,0],[3,1],[3,2]]\n",
    "Output: [0,2,1,3]\n",
    "\n",
    "0 -> [1, 2]\n",
    "1 -> [3]\n",
    "2 -> [3]\n",
    "\n",
    "\n",
    "indegree \n",
    "[1, 2] = 1\n",
    "[3] = 2\n",
    "[0] = 0\n",
    "\n",
    "\n",
    "\n",
    "Explanation: There are a total of 4 courses to take. To take course 3 you should have finished both courses 1 and 2. Both courses 1 and 2 should be taken after you finished course 0.\n",
    "So one correct course order is [0,1,2,3]. Another correct ordering is [0,2,1,3].\n",
    "\n",
    "\"\"\"\n",
    "from collections import defaultdict, deque\n",
    "def findOrder(numCourses, prerequisites):\n",
    "\n",
    "        # Prepare the graph\n",
    "        adj_list = defaultdict(list)\n",
    "        indegree = {}\n",
    "        for dest, src in prerequisites:\n",
    "            adj_list[src].append(dest)\n",
    "\n",
    "            # Record each node's in-degree\n",
    "            indegree[dest] = indegree.get(dest, 0) + 1\n",
    "\n",
    "        # Queue for maintainig list of nodes that have 0 in-degree\n",
    "        zero_indegree_queue = deque([k for k in range(numCourses) if k not in indegree])\n",
    "        \n",
    "        print(adj_list, indegree, zero_indegree_queue)\n",
    "        \n",
    "        orders = []\n",
    "        \n",
    "        while zero_indegree_queue:\n",
    "            print(adj_list, indegree, zero_indegree_queue)\n",
    "            # Pop one node with 0 in-degree\n",
    "            vertex = zero_indegree_queue.popleft()\n",
    "            orders.append(vertex)\n",
    "\n",
    "            # Reduce in-degree for all the neighbors\n",
    "            if vertex in adj_list:\n",
    "                for neighbor in adj_list[vertex]:\n",
    "                    indegree[neighbor] -= 1\n",
    "\n",
    "                    # Add neighbor to Q if in-degree becomes 0\n",
    "                    if indegree[neighbor] == 0:\n",
    "                        zero_indegree_queue.append(neighbor)\n",
    "\n",
    "                        \n",
    "        \n",
    "    \n",
    "        print(adj_list, indegree, zero_indegree_queue)\n",
    "        return orders if len(orders) == numCourses else []\n",
    "    \n",
    "numCourses = 4 \n",
    "prerequisites = [[1,0],[2,0],[3,1],[3,2]]\n",
    "\n",
    "numCourses = 1 \n",
    "prerequisites = []\n",
    "# numCourses = 2\n",
    "# prerequisites = [[1,0]]\n",
    "# # numCourses = 2\n",
    "# prerequisites = [[0,1],[1,0]]\n",
    "# numCourses = 3\n",
    "# prerequisites = [[1,0]]\n",
    "numCourses = 3\n",
    "prerequisites = [[2,1],[1,0]]\n",
    "findOrder(numCourses, prerequisites)\n",
    "    "
   ]
  },
  {
   "cell_type": "code",
   "execution_count": 69,
   "id": "ef97282a",
   "metadata": {},
   "outputs": [
    {
     "name": "stdout",
     "output_type": "stream",
     "text": [
      "{0: [1], 2: [1], 1: [0]} {0: 1, 1: 2, 2: 0} deque([[2, 0]])\n"
     ]
    },
    {
     "data": {
      "text/plain": [
       "[]"
      ]
     },
     "execution_count": 69,
     "metadata": {},
     "output_type": "execute_result"
    }
   ],
   "source": [
    "\n",
    "\n",
    "def findOrder_s(numCourses, prerequisites):\n",
    "    orders = []\n",
    "    pre_dict = dict()\n",
    "    indegree = dict()\n",
    "    \n",
    "    if not prerequisites:\n",
    "        return [i for i in range(numCourses-1, -1, -1)]\n",
    "    for p in prerequisites:\n",
    "        indegree[p[1]] = indegree.get(p[1], 0)\n",
    "        indegree[p[0]] = indegree.get(p[0], 0) + 1\n",
    "        \n",
    "        pre_dict[p[1]] = pre_dict.get(p[1], [])\n",
    "        pre_dict[p[1]].append(p[0]) \n",
    "        \n",
    "    from collections import deque\n",
    "    \n",
    "    # sort by indegree\n",
    "    sorted_indegree = sorted(indegree.items(), key=lambda p: p[1])\n",
    "    zero_q = deque()\n",
    "    for d in indegree:\n",
    "        if indegree[d] == 0:\n",
    "            zero_q.append([d, indegree[d]])\n",
    "    \n",
    "    print(pre_dict, indegree, zero_q)\n",
    "    if not zero_q:\n",
    "        return []\n",
    "  \n",
    "    while zero_q:\n",
    "        current_zero = zero_q.pop()\n",
    "        orders.append(current_zero[0])\n",
    "        if current_zero[0] in pre_dict:\n",
    "            for i in pre_dict[current_zero[0]]:\n",
    "                \n",
    "                indegree[i] -= 1\n",
    "                if indegree[i] == 0:\n",
    "                    zero_q.append([i, indegree[i]])\n",
    "\n",
    "    for d in indegree:\n",
    "        if indegree[d] != 0:\n",
    "            return []\n",
    "    if numCourses != len(orders):\n",
    "        for i in range(numCourses):\n",
    "            if i not in orders:\n",
    "                orders.insert(0, i)\n",
    "    return orders\n",
    "\n",
    "n = 4 \n",
    "p = [[1,0],[2,0],[3,1],[3,2],[4,0]]\n",
    "\n",
    "# numCourses = 2 \n",
    "# prerequisites = []\n",
    "# numCourses = 2\n",
    "# prerequisites = [[1,0]]\n",
    "# # numCourses = 2\n",
    "# prerequisites = [[0,1],[1,0]]\n",
    "n = 3\n",
    "p = [[1,0]]\n",
    "# n = 3\n",
    "# p = [[2,1],[1,0]]\n",
    "\n",
    "n = 3\n",
    "p =[[1,0],[1,2],[0,1]]\n",
    "\n",
    "# n = 4\n",
    "# p = [[3,0],[0,1]]\n",
    "findOrder_s(n, p)\n"
   ]
  },
  {
   "cell_type": "code",
   "execution_count": null,
   "id": "03d886d7",
   "metadata": {},
   "outputs": [],
   "source": []
  },
  {
   "cell_type": "code",
   "execution_count": null,
   "id": "cace58b7",
   "metadata": {},
   "outputs": [],
   "source": []
  },
  {
   "cell_type": "code",
   "execution_count": 81,
   "id": "45aaa706",
   "metadata": {},
   "outputs": [
    {
     "name": "stdout",
     "output_type": "stream",
     "text": [
      "None\n",
      "{1: [2, 3]} Counter({1: 2})\n",
      "2\n",
      "[2, 1, 0]\n"
     ]
    }
   ],
   "source": [
    "d = dict({1:[2]})\n",
    "\n",
    "d[1].append(3)\n",
    "from collections import Counter\n",
    "c = Counter()\n",
    "c[1] = 1\n",
    "c[1] += 1\n",
    "\n",
    "dd = d.get(2, [])\n",
    "print(dd.append(2))\n",
    "\n",
    "\n",
    "print(d, c)\n",
    "for cc in c:\n",
    "    print(c[cc])\n",
    "\n",
    "print([i for i in range(2, -1, -1)])"
   ]
  }
 ],
 "metadata": {
  "kernelspec": {
   "display_name": "Python 3",
   "language": "python",
   "name": "python3"
  },
  "language_info": {
   "codemirror_mode": {
    "name": "ipython",
    "version": 3
   },
   "file_extension": ".py",
   "mimetype": "text/x-python",
   "name": "python",
   "nbconvert_exporter": "python",
   "pygments_lexer": "ipython3",
   "version": "3.6.9"
  }
 },
 "nbformat": 4,
 "nbformat_minor": 5
}
