{
 "cells": [
  {
   "cell_type": "code",
   "execution_count": 14,
   "id": "e9c17899",
   "metadata": {},
   "outputs": [
    {
     "name": "stdout",
     "output_type": "stream",
     "text": [
      "[1, 3, 4, 6]\n"
     ]
    },
    {
     "data": {
      "text/plain": [
       "[1, 3, 4, 6]"
      ]
     },
     "execution_count": 14,
     "metadata": {},
     "output_type": "execute_result"
    }
   ],
   "source": [
    "\"\"\"\n",
    "https://leetcode.com/problems/binary-tree-right-side-view/\n",
    "\n",
    "Input: root = [1,2,3,null,5,null,4]\n",
    "Output: [1,3,4]\n",
    "    1 \n",
    "    \n",
    "2.      3\n",
    "\n",
    "   5.      4\n",
    "   \n",
    "\"\"\"\n",
    "class TreeNode:\n",
    "    def __init__(self, val=0, left=None, right=None):\n",
    "        self.val = val\n",
    "        self.left = left\n",
    "        self.right = right\n",
    "\n",
    "\n",
    "def rightSideView(root):\n",
    "    right_side = []\n",
    "    \n",
    "    def get_right(node, level):\n",
    "        if len(right_side) <= level:\n",
    "            right_side.append(node.val)\n",
    "        \n",
    "        if node.right:\n",
    "            get_right(node.right, level+1)\n",
    "            \n",
    "        if node.left:\n",
    "            get_right(node.left, level+1)\n",
    "\n",
    "    get_right(root, 0)\n",
    "    \n",
    "    print(right_side)\n",
    "    return right_side\n",
    "\n",
    "t = TreeNode(1)\n",
    "t2 = TreeNode(2)\n",
    "t3 = TreeNode(3)\n",
    "t4 = TreeNode(4)\n",
    "t5 = TreeNode(5)\n",
    "t6 = TreeNode(6)\n",
    "t.left = t2\n",
    "t2.right = t5\n",
    "t.right = t3\n",
    "t3.right = t4\n",
    "t5.right = t6\n",
    "rightSideView(t)"
   ]
  },
  {
   "cell_type": "code",
   "execution_count": 8,
   "id": "5843e27b",
   "metadata": {},
   "outputs": [
    {
     "data": {
      "text/plain": [
       "3"
      ]
     },
     "execution_count": 8,
     "metadata": {},
     "output_type": "execute_result"
    }
   ],
   "source": [
    "l = [1, 2, 3]\n",
    "len(l)"
   ]
  }
 ],
 "metadata": {
  "kernelspec": {
   "display_name": "Django Shell-Plus",
   "language": "python",
   "name": "django_extensions"
  },
  "language_info": {
   "codemirror_mode": {
    "name": "ipython",
    "version": 3
   },
   "file_extension": ".py",
   "mimetype": "text/x-python",
   "name": "python",
   "nbconvert_exporter": "python",
   "pygments_lexer": "ipython3",
   "version": "3.6.9"
  }
 },
 "nbformat": 4,
 "nbformat_minor": 5
}
