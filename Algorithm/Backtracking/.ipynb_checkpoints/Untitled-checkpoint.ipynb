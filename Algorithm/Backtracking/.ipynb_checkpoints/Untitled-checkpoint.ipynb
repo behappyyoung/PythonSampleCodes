{
 "cells": [
  {
   "cell_type": "code",
   "execution_count": 22,
   "metadata": {},
   "outputs": [
    {
     "name": "stdout",
     "output_type": "stream",
     "text": [
      "['(((())))', '()((()))', '((()))()', '(()(()))', '()()(())', '()(())()', '((())())', '()(())()', '(())()()', '((()()))', '()(()())', '(()())()', '(()()())', '()()()()']\n"
     ]
    }
   ],
   "source": [
    "def generateParenthesis(n):\n",
    "    \n",
    "    if n == 1:\n",
    "        return ['()']\n",
    "\n",
    "    for i in range(2, n+1):\n",
    "        ans = []\n",
    "        prev = generateParenthesis(i-1)\n",
    "        for p in prev:\n",
    "            ans.append('('+p+')')\n",
    "            ans.append('()'+p)\n",
    "            if p+'()' not in ans:\n",
    "                ans.append(p+'()')\n",
    "    return ans\n",
    "\n",
    "print(generateParenthesis(4))\n",
    "# 4\n",
    "#[\"(((())))\",\"((()()))\",\"((())())\",\"((()))()\",\"(()(()))\",\"(()()())\",\"(()())()\",\"(())(())\",\"(())()()\",\"()((()))\",\"()(()())\",\"()(())()\",\"()()(())\",\"()()()()\"]\n"
   ]
  },
  {
   "cell_type": "code",
   "execution_count": 10,
   "metadata": {},
   "outputs": [
    {
     "data": {
      "text/plain": [
       "'()()'"
      ]
     },
     "execution_count": 10,
     "metadata": {},
     "output_type": "execute_result"
    }
   ],
   "source": [
    "l = [['()()'], ['(())']]\n",
    "str(l[0][0])\n",
    "\n"
   ]
  },
  {
   "cell_type": "code",
   "execution_count": 50,
   "metadata": {},
   "outputs": [
    {
     "name": "stdout",
     "output_type": "stream",
     "text": [
      "True\n"
     ]
    }
   ],
   "source": [
    "\"\"\"\n",
    "\n",
    "\"\"\"\n",
    "def exist(board, word):\n",
    "        if not board:\n",
    "            return False\n",
    "        \n",
    "        n = len(board)\n",
    "        m = len(board[0])\n",
    "        \n",
    "        \n",
    "        \n",
    "        def walk(x, y, i):\n",
    "            \n",
    "            if wc[x][y]:\n",
    "                return False\n",
    "            wc[x][y] = True\n",
    "            \n",
    "            if i == len(word)-1:\n",
    "                return True\n",
    "            a = b = c = d = False\n",
    "            if x > 0 and board[x-1][y] == word[i+1]:\n",
    "                a = walk(x-1, y, i+1)\n",
    "            if y>0 and board[x][y-1] == word[i+1]:\n",
    "                b = walk(x, y-1, i+1)\n",
    "            if y<m-1 and board[x][y+1] == word[i+1]:\n",
    "                c = walk(x, y+1, i+1)\n",
    "            if x<n-1 and board[x+1][y] == word[i+1]:\n",
    "                d = walk(x+1, y, i+1)\n",
    "            \n",
    "            wc[x][y] = a or b or c or d\n",
    "            return wc[x][y]\n",
    "        \n",
    "        \n",
    "        for i in range(n):\n",
    "            for j in range(m):\n",
    "                if board[i][j] == word[0]:\n",
    "                    wc = [[False]*m for _ in range(n)]\n",
    "                    if walk(i, j, 0):\n",
    "                        return True\n",
    "        return False\n",
    "\n",
    "b = [[\"A\",\"B\",\"C\",\"E\"],[\"S\",\"F\",\"C\",\"S\"],[\"A\",\"D\",\"E\",\"E\"]]\n",
    "w = \"ABCCED\"\n",
    "# b = [[\"a\",\"a\"]]\n",
    "# w = \"aaa\"\n",
    "# b = [[\"C\",\"A\",\"A\"],\n",
    "#      [\"A\",\"A\",\"A\"],\n",
    "#      [\"B\",\"C\",\"D\"]]\n",
    "# w = \"AAB\"\n",
    "# b =[[\"A\",\"B\",\"C\",\"E\"],\n",
    "#     [\"S\",\"F\",\"E\",\"S\"],\n",
    "#     [\"A\",\"D\",\"E\",\"E\"]]\n",
    "# w = \"ABCESEEEFS\"\n",
    "print(exist(b, w))"
   ]
  },
  {
   "cell_type": "code",
   "execution_count": 76,
   "metadata": {},
   "outputs": [
    {
     "name": "stdout",
     "output_type": "stream",
     "text": [
      "['oath', 'eat']\n"
     ]
    }
   ],
   "source": [
    "\"\"\"\n",
    "\n",
    "\"\"\"\n",
    "def word_search(board, words):\n",
    "    if not board:\n",
    "        return False\n",
    "    n = len(board)\n",
    "    m = len(board[0])    \n",
    "    \n",
    "    def exist(word):\n",
    "            \n",
    "        def walk(x, y, i):\n",
    "            \n",
    "            if wc[x][y]:\n",
    "                return False\n",
    "            wc[x][y] = True\n",
    "            \n",
    "            if i == len(word)-1:\n",
    "                return True\n",
    "            a = b = c = d = False\n",
    "            if x<0 or x>=n-1 or y<0 or y>=m-1:\n",
    "                return False\n",
    "            a = walk(x-1, y, i+1)\n",
    "            b = walk(x, y-1, i+1)\n",
    "            c = walk(x, y+1, i+1)\n",
    "            d = walk(x+1, y, i+1)\n",
    "            \n",
    "            wc[x][y] = a or b or c or d\n",
    "            return wc[x][y]\n",
    "        \n",
    "        \n",
    "        for i in range(n):\n",
    "            for j in range(m):\n",
    "                if board[i][j] == word[0]:\n",
    "                    wc = [[False]*(m) for _ in range(n)]\n",
    "                    if walk(i, j, 0):\n",
    "                        return True\n",
    "        return False\n",
    "    finds= []\n",
    "    for w in words:\n",
    "        if exist(w):\n",
    "            finds.append(w)\n",
    "    return finds\n",
    "\n",
    "b = [\n",
    "  ['o','a','a','n'],\n",
    "  ['e','t','a','e'],\n",
    "  ['i','h','k','r'],\n",
    "  ['i','f','l','v']\n",
    "]\n",
    "w = [\"oath\",\"pea\",\"eat\",\"rain\"]\n",
    "print(word_search(b, w))"
   ]
  },
  {
   "cell_type": "code",
   "execution_count": 68,
   "metadata": {},
   "outputs": [],
   "source": [
    "class Node:\n",
    "    def __init__(self):\n",
    "        self.chars = {}\n",
    "        self.word = False\n",
    "\n",
    "class Trie:\n",
    "    def __init__(self):\n",
    "        self.node = Node()\n",
    "\n",
    "    def add_word(self, word):\n",
    "        node = self.node\n",
    "        for c in word:\n",
    "            if c not in node.chars:\n",
    "                node.chars[c] = Node()\n",
    "            node = node.chars[c]\n",
    "        node.word = True\n",
    "\n",
    "trie = Trie()\n",
    "trie.add_word('test')\n",
    "trie.add_word('tests')"
   ]
  },
  {
   "cell_type": "code",
   "execution_count": 65,
   "metadata": {},
   "outputs": [
    {
     "name": "stdout",
     "output_type": "stream",
     "text": [
      "<__main__.Trie object at 0x104154a10>\n",
      "<__main__.Node object at 0x104154a50>\n",
      "{'e': <__main__.Node object at 0x104132e50>}\n",
      "False\n"
     ]
    }
   ],
   "source": [
    "print(trie)\n",
    "print(trie.node)\n",
    "\n",
    "print(trie.node.chars['t'].chars)\n",
    "print(trie.node.word)\n"
   ]
  },
  {
   "cell_type": "code",
   "execution_count": 67,
   "metadata": {},
   "outputs": [
    {
     "name": "stdout",
     "output_type": "stream",
     "text": [
      "{'o': {'a': {'t': {'h': {'#': '#'}}}}, 'p': {'e': {'a': {'#': '#'}}}, 'e': {'a': {'t': {'#': '#'}}}, 'r': {'a': {'i': {'n': {'#': '#'}}}}}\n"
     ]
    }
   ],
   "source": [
    "trie, res = dict(), set()\n",
    "words = [\"oath\",\"pea\",\"eat\",\"rain\"]\n",
    "for word in words:\n",
    "            t = trie\n",
    "            for c in word:\n",
    "                if c not in t:\n",
    "                    t[c] = dict()\n",
    "                t = t[c]\n",
    "            t['#'] = '#'\n",
    "print(trie)"
   ]
  },
  {
   "cell_type": "code",
   "execution_count": 108,
   "metadata": {},
   "outputs": [
    {
     "ename": "KeyboardInterrupt",
     "evalue": "",
     "output_type": "error",
     "traceback": [
      "\u001b[0;31m---------------------------------------------------------------------------\u001b[0m",
      "\u001b[0;31mKeyboardInterrupt\u001b[0m                         Traceback (most recent call last)",
      "\u001b[0;32m<ipython-input-108-3887d4554784>\u001b[0m in \u001b[0;36m<module>\u001b[0;34m\u001b[0m\n\u001b[1;32m     63\u001b[0m \u001b[0;31m# w = [\"oath\",\"pea\",\"eat\",\"rain\",\"oathf\", \"ate\"]\u001b[0m\u001b[0;34m\u001b[0m\u001b[0;34m\u001b[0m\u001b[0;34m\u001b[0m\u001b[0m\n\u001b[1;32m     64\u001b[0m \u001b[0;34m\u001b[0m\u001b[0m\n\u001b[0;32m---> 65\u001b[0;31m \u001b[0mprint\u001b[0m\u001b[0;34m(\u001b[0m\u001b[0mword_search_trie\u001b[0m\u001b[0;34m(\u001b[0m\u001b[0mb\u001b[0m\u001b[0;34m,\u001b[0m \u001b[0mw\u001b[0m\u001b[0;34m)\u001b[0m\u001b[0;34m)\u001b[0m\u001b[0;34m\u001b[0m\u001b[0;34m\u001b[0m\u001b[0m\n\u001b[0m",
      "\u001b[0;32m<ipython-input-108-3887d4554784>\u001b[0m in \u001b[0;36mword_search_trie\u001b[0;34m(board, words)\u001b[0m\n\u001b[1;32m     43\u001b[0m         \u001b[0;32mfor\u001b[0m \u001b[0mj\u001b[0m \u001b[0;32min\u001b[0m \u001b[0mrange\u001b[0m\u001b[0;34m(\u001b[0m\u001b[0mm\u001b[0m\u001b[0;34m)\u001b[0m\u001b[0;34m:\u001b[0m\u001b[0;34m\u001b[0m\u001b[0;34m\u001b[0m\u001b[0m\n\u001b[1;32m     44\u001b[0m             \u001b[0mwalked\u001b[0m \u001b[0;34m=\u001b[0m \u001b[0;34m[\u001b[0m\u001b[0;34m[\u001b[0m\u001b[0;32mFalse\u001b[0m\u001b[0;34m]\u001b[0m\u001b[0;34m*\u001b[0m\u001b[0;34m(\u001b[0m\u001b[0mm\u001b[0m\u001b[0;34m)\u001b[0m \u001b[0;32mfor\u001b[0m \u001b[0m_\u001b[0m \u001b[0;32min\u001b[0m \u001b[0mrange\u001b[0m\u001b[0;34m(\u001b[0m\u001b[0mn\u001b[0m\u001b[0;34m)\u001b[0m\u001b[0;34m]\u001b[0m\u001b[0;34m\u001b[0m\u001b[0;34m\u001b[0m\u001b[0m\n\u001b[0;32m---> 45\u001b[0;31m             \u001b[0mwalk\u001b[0m\u001b[0;34m(\u001b[0m\u001b[0mi\u001b[0m\u001b[0;34m,\u001b[0m \u001b[0mj\u001b[0m\u001b[0;34m,\u001b[0m\u001b[0;34m''\u001b[0m\u001b[0;34m,\u001b[0m \u001b[0mtrie\u001b[0m\u001b[0;34m)\u001b[0m\u001b[0;34m\u001b[0m\u001b[0;34m\u001b[0m\u001b[0m\n\u001b[0m\u001b[1;32m     46\u001b[0m \u001b[0;34m\u001b[0m\u001b[0m\n\u001b[1;32m     47\u001b[0m     \u001b[0;32mreturn\u001b[0m \u001b[0mfinds\u001b[0m\u001b[0;34m\u001b[0m\u001b[0;34m\u001b[0m\u001b[0m\n",
      "\u001b[0;32m<ipython-input-108-3887d4554784>\u001b[0m in \u001b[0;36mwalk\u001b[0;34m(x, y, path, ct)\u001b[0m\n\u001b[1;32m     37\u001b[0m         \u001b[0mwalk\u001b[0m\u001b[0;34m(\u001b[0m\u001b[0mx\u001b[0m\u001b[0;34m-\u001b[0m\u001b[0;36m1\u001b[0m\u001b[0;34m,\u001b[0m \u001b[0my\u001b[0m\u001b[0;34m,\u001b[0m \u001b[0mnew_path\u001b[0m\u001b[0;34m,\u001b[0m \u001b[0mcc\u001b[0m\u001b[0;34m)\u001b[0m\u001b[0;34m\u001b[0m\u001b[0;34m\u001b[0m\u001b[0m\n\u001b[1;32m     38\u001b[0m         \u001b[0mwalk\u001b[0m\u001b[0;34m(\u001b[0m\u001b[0mx\u001b[0m\u001b[0;34m,\u001b[0m \u001b[0my\u001b[0m\u001b[0;34m-\u001b[0m\u001b[0;36m1\u001b[0m\u001b[0;34m,\u001b[0m \u001b[0mnew_path\u001b[0m\u001b[0;34m,\u001b[0m \u001b[0mcc\u001b[0m\u001b[0;34m)\u001b[0m\u001b[0;34m\u001b[0m\u001b[0;34m\u001b[0m\u001b[0m\n\u001b[0;32m---> 39\u001b[0;31m         \u001b[0mwalk\u001b[0m\u001b[0;34m(\u001b[0m\u001b[0mx\u001b[0m\u001b[0;34m,\u001b[0m \u001b[0my\u001b[0m\u001b[0;34m+\u001b[0m\u001b[0;36m1\u001b[0m\u001b[0;34m,\u001b[0m \u001b[0mnew_path\u001b[0m\u001b[0;34m,\u001b[0m \u001b[0mcc\u001b[0m\u001b[0;34m)\u001b[0m\u001b[0;34m\u001b[0m\u001b[0;34m\u001b[0m\u001b[0m\n\u001b[0m\u001b[1;32m     40\u001b[0m         \u001b[0mwalk\u001b[0m\u001b[0;34m(\u001b[0m\u001b[0mx\u001b[0m\u001b[0;34m+\u001b[0m\u001b[0;36m1\u001b[0m\u001b[0;34m,\u001b[0m \u001b[0my\u001b[0m\u001b[0;34m,\u001b[0m \u001b[0mnew_path\u001b[0m\u001b[0;34m,\u001b[0m \u001b[0mcc\u001b[0m\u001b[0;34m)\u001b[0m\u001b[0;34m\u001b[0m\u001b[0;34m\u001b[0m\u001b[0m\n\u001b[1;32m     41\u001b[0m \u001b[0;34m\u001b[0m\u001b[0m\n",
      "\u001b[0;32m<ipython-input-108-3887d4554784>\u001b[0m in \u001b[0;36mwalk\u001b[0;34m(x, y, path, ct)\u001b[0m\n\u001b[1;32m     37\u001b[0m         \u001b[0mwalk\u001b[0m\u001b[0;34m(\u001b[0m\u001b[0mx\u001b[0m\u001b[0;34m-\u001b[0m\u001b[0;36m1\u001b[0m\u001b[0;34m,\u001b[0m \u001b[0my\u001b[0m\u001b[0;34m,\u001b[0m \u001b[0mnew_path\u001b[0m\u001b[0;34m,\u001b[0m \u001b[0mcc\u001b[0m\u001b[0;34m)\u001b[0m\u001b[0;34m\u001b[0m\u001b[0;34m\u001b[0m\u001b[0m\n\u001b[1;32m     38\u001b[0m         \u001b[0mwalk\u001b[0m\u001b[0;34m(\u001b[0m\u001b[0mx\u001b[0m\u001b[0;34m,\u001b[0m \u001b[0my\u001b[0m\u001b[0;34m-\u001b[0m\u001b[0;36m1\u001b[0m\u001b[0;34m,\u001b[0m \u001b[0mnew_path\u001b[0m\u001b[0;34m,\u001b[0m \u001b[0mcc\u001b[0m\u001b[0;34m)\u001b[0m\u001b[0;34m\u001b[0m\u001b[0;34m\u001b[0m\u001b[0m\n\u001b[0;32m---> 39\u001b[0;31m         \u001b[0mwalk\u001b[0m\u001b[0;34m(\u001b[0m\u001b[0mx\u001b[0m\u001b[0;34m,\u001b[0m \u001b[0my\u001b[0m\u001b[0;34m+\u001b[0m\u001b[0;36m1\u001b[0m\u001b[0;34m,\u001b[0m \u001b[0mnew_path\u001b[0m\u001b[0;34m,\u001b[0m \u001b[0mcc\u001b[0m\u001b[0;34m)\u001b[0m\u001b[0;34m\u001b[0m\u001b[0;34m\u001b[0m\u001b[0m\n\u001b[0m\u001b[1;32m     40\u001b[0m         \u001b[0mwalk\u001b[0m\u001b[0;34m(\u001b[0m\u001b[0mx\u001b[0m\u001b[0;34m+\u001b[0m\u001b[0;36m1\u001b[0m\u001b[0;34m,\u001b[0m \u001b[0my\u001b[0m\u001b[0;34m,\u001b[0m \u001b[0mnew_path\u001b[0m\u001b[0;34m,\u001b[0m \u001b[0mcc\u001b[0m\u001b[0;34m)\u001b[0m\u001b[0;34m\u001b[0m\u001b[0;34m\u001b[0m\u001b[0m\n\u001b[1;32m     41\u001b[0m \u001b[0;34m\u001b[0m\u001b[0m\n",
      "\u001b[0;32m<ipython-input-108-3887d4554784>\u001b[0m in \u001b[0;36mwalk\u001b[0;34m(x, y, path, ct)\u001b[0m\n\u001b[1;32m     38\u001b[0m         \u001b[0mwalk\u001b[0m\u001b[0;34m(\u001b[0m\u001b[0mx\u001b[0m\u001b[0;34m,\u001b[0m \u001b[0my\u001b[0m\u001b[0;34m-\u001b[0m\u001b[0;36m1\u001b[0m\u001b[0;34m,\u001b[0m \u001b[0mnew_path\u001b[0m\u001b[0;34m,\u001b[0m \u001b[0mcc\u001b[0m\u001b[0;34m)\u001b[0m\u001b[0;34m\u001b[0m\u001b[0;34m\u001b[0m\u001b[0m\n\u001b[1;32m     39\u001b[0m         \u001b[0mwalk\u001b[0m\u001b[0;34m(\u001b[0m\u001b[0mx\u001b[0m\u001b[0;34m,\u001b[0m \u001b[0my\u001b[0m\u001b[0;34m+\u001b[0m\u001b[0;36m1\u001b[0m\u001b[0;34m,\u001b[0m \u001b[0mnew_path\u001b[0m\u001b[0;34m,\u001b[0m \u001b[0mcc\u001b[0m\u001b[0;34m)\u001b[0m\u001b[0;34m\u001b[0m\u001b[0;34m\u001b[0m\u001b[0m\n\u001b[0;32m---> 40\u001b[0;31m         \u001b[0mwalk\u001b[0m\u001b[0;34m(\u001b[0m\u001b[0mx\u001b[0m\u001b[0;34m+\u001b[0m\u001b[0;36m1\u001b[0m\u001b[0;34m,\u001b[0m \u001b[0my\u001b[0m\u001b[0;34m,\u001b[0m \u001b[0mnew_path\u001b[0m\u001b[0;34m,\u001b[0m \u001b[0mcc\u001b[0m\u001b[0;34m)\u001b[0m\u001b[0;34m\u001b[0m\u001b[0;34m\u001b[0m\u001b[0m\n\u001b[0m\u001b[1;32m     41\u001b[0m \u001b[0;34m\u001b[0m\u001b[0m\n\u001b[1;32m     42\u001b[0m     \u001b[0;32mfor\u001b[0m \u001b[0mi\u001b[0m \u001b[0;32min\u001b[0m \u001b[0mrange\u001b[0m\u001b[0;34m(\u001b[0m\u001b[0mn\u001b[0m\u001b[0;34m)\u001b[0m\u001b[0;34m:\u001b[0m\u001b[0;34m\u001b[0m\u001b[0;34m\u001b[0m\u001b[0m\n",
      "\u001b[0;32m<ipython-input-108-3887d4554784>\u001b[0m in \u001b[0;36mwalk\u001b[0;34m(x, y, path, ct)\u001b[0m\n\u001b[1;32m     38\u001b[0m         \u001b[0mwalk\u001b[0m\u001b[0;34m(\u001b[0m\u001b[0mx\u001b[0m\u001b[0;34m,\u001b[0m \u001b[0my\u001b[0m\u001b[0;34m-\u001b[0m\u001b[0;36m1\u001b[0m\u001b[0;34m,\u001b[0m \u001b[0mnew_path\u001b[0m\u001b[0;34m,\u001b[0m \u001b[0mcc\u001b[0m\u001b[0;34m)\u001b[0m\u001b[0;34m\u001b[0m\u001b[0;34m\u001b[0m\u001b[0m\n\u001b[1;32m     39\u001b[0m         \u001b[0mwalk\u001b[0m\u001b[0;34m(\u001b[0m\u001b[0mx\u001b[0m\u001b[0;34m,\u001b[0m \u001b[0my\u001b[0m\u001b[0;34m+\u001b[0m\u001b[0;36m1\u001b[0m\u001b[0;34m,\u001b[0m \u001b[0mnew_path\u001b[0m\u001b[0;34m,\u001b[0m \u001b[0mcc\u001b[0m\u001b[0;34m)\u001b[0m\u001b[0;34m\u001b[0m\u001b[0;34m\u001b[0m\u001b[0m\n\u001b[0;32m---> 40\u001b[0;31m         \u001b[0mwalk\u001b[0m\u001b[0;34m(\u001b[0m\u001b[0mx\u001b[0m\u001b[0;34m+\u001b[0m\u001b[0;36m1\u001b[0m\u001b[0;34m,\u001b[0m \u001b[0my\u001b[0m\u001b[0;34m,\u001b[0m \u001b[0mnew_path\u001b[0m\u001b[0;34m,\u001b[0m \u001b[0mcc\u001b[0m\u001b[0;34m)\u001b[0m\u001b[0;34m\u001b[0m\u001b[0;34m\u001b[0m\u001b[0m\n\u001b[0m\u001b[1;32m     41\u001b[0m \u001b[0;34m\u001b[0m\u001b[0m\n\u001b[1;32m     42\u001b[0m     \u001b[0;32mfor\u001b[0m \u001b[0mi\u001b[0m \u001b[0;32min\u001b[0m \u001b[0mrange\u001b[0m\u001b[0;34m(\u001b[0m\u001b[0mn\u001b[0m\u001b[0;34m)\u001b[0m\u001b[0;34m:\u001b[0m\u001b[0;34m\u001b[0m\u001b[0;34m\u001b[0m\u001b[0m\n",
      "\u001b[0;32m<ipython-input-108-3887d4554784>\u001b[0m in \u001b[0;36mwalk\u001b[0;34m(x, y, path, ct)\u001b[0m\n\u001b[1;32m     36\u001b[0m                 \u001b[0;32mreturn\u001b[0m \u001b[0;32mFalse\u001b[0m\u001b[0;34m\u001b[0m\u001b[0;34m\u001b[0m\u001b[0m\n\u001b[1;32m     37\u001b[0m         \u001b[0mwalk\u001b[0m\u001b[0;34m(\u001b[0m\u001b[0mx\u001b[0m\u001b[0;34m-\u001b[0m\u001b[0;36m1\u001b[0m\u001b[0;34m,\u001b[0m \u001b[0my\u001b[0m\u001b[0;34m,\u001b[0m \u001b[0mnew_path\u001b[0m\u001b[0;34m,\u001b[0m \u001b[0mcc\u001b[0m\u001b[0;34m)\u001b[0m\u001b[0;34m\u001b[0m\u001b[0;34m\u001b[0m\u001b[0m\n\u001b[0;32m---> 38\u001b[0;31m         \u001b[0mwalk\u001b[0m\u001b[0;34m(\u001b[0m\u001b[0mx\u001b[0m\u001b[0;34m,\u001b[0m \u001b[0my\u001b[0m\u001b[0;34m-\u001b[0m\u001b[0;36m1\u001b[0m\u001b[0;34m,\u001b[0m \u001b[0mnew_path\u001b[0m\u001b[0;34m,\u001b[0m \u001b[0mcc\u001b[0m\u001b[0;34m)\u001b[0m\u001b[0;34m\u001b[0m\u001b[0;34m\u001b[0m\u001b[0m\n\u001b[0m\u001b[1;32m     39\u001b[0m         \u001b[0mwalk\u001b[0m\u001b[0;34m(\u001b[0m\u001b[0mx\u001b[0m\u001b[0;34m,\u001b[0m \u001b[0my\u001b[0m\u001b[0;34m+\u001b[0m\u001b[0;36m1\u001b[0m\u001b[0;34m,\u001b[0m \u001b[0mnew_path\u001b[0m\u001b[0;34m,\u001b[0m \u001b[0mcc\u001b[0m\u001b[0;34m)\u001b[0m\u001b[0;34m\u001b[0m\u001b[0;34m\u001b[0m\u001b[0m\n\u001b[1;32m     40\u001b[0m         \u001b[0mwalk\u001b[0m\u001b[0;34m(\u001b[0m\u001b[0mx\u001b[0m\u001b[0;34m+\u001b[0m\u001b[0;36m1\u001b[0m\u001b[0;34m,\u001b[0m \u001b[0my\u001b[0m\u001b[0;34m,\u001b[0m \u001b[0mnew_path\u001b[0m\u001b[0;34m,\u001b[0m \u001b[0mcc\u001b[0m\u001b[0;34m)\u001b[0m\u001b[0;34m\u001b[0m\u001b[0;34m\u001b[0m\u001b[0m\n",
      "\u001b[0;32m<ipython-input-108-3887d4554784>\u001b[0m in \u001b[0;36mwalk\u001b[0;34m(x, y, path, ct)\u001b[0m\n\u001b[1;32m     37\u001b[0m         \u001b[0mwalk\u001b[0m\u001b[0;34m(\u001b[0m\u001b[0mx\u001b[0m\u001b[0;34m-\u001b[0m\u001b[0;36m1\u001b[0m\u001b[0;34m,\u001b[0m \u001b[0my\u001b[0m\u001b[0;34m,\u001b[0m \u001b[0mnew_path\u001b[0m\u001b[0;34m,\u001b[0m \u001b[0mcc\u001b[0m\u001b[0;34m)\u001b[0m\u001b[0;34m\u001b[0m\u001b[0;34m\u001b[0m\u001b[0m\n\u001b[1;32m     38\u001b[0m         \u001b[0mwalk\u001b[0m\u001b[0;34m(\u001b[0m\u001b[0mx\u001b[0m\u001b[0;34m,\u001b[0m \u001b[0my\u001b[0m\u001b[0;34m-\u001b[0m\u001b[0;36m1\u001b[0m\u001b[0;34m,\u001b[0m \u001b[0mnew_path\u001b[0m\u001b[0;34m,\u001b[0m \u001b[0mcc\u001b[0m\u001b[0;34m)\u001b[0m\u001b[0;34m\u001b[0m\u001b[0;34m\u001b[0m\u001b[0m\n\u001b[0;32m---> 39\u001b[0;31m         \u001b[0mwalk\u001b[0m\u001b[0;34m(\u001b[0m\u001b[0mx\u001b[0m\u001b[0;34m,\u001b[0m \u001b[0my\u001b[0m\u001b[0;34m+\u001b[0m\u001b[0;36m1\u001b[0m\u001b[0;34m,\u001b[0m \u001b[0mnew_path\u001b[0m\u001b[0;34m,\u001b[0m \u001b[0mcc\u001b[0m\u001b[0;34m)\u001b[0m\u001b[0;34m\u001b[0m\u001b[0;34m\u001b[0m\u001b[0m\n\u001b[0m\u001b[1;32m     40\u001b[0m         \u001b[0mwalk\u001b[0m\u001b[0;34m(\u001b[0m\u001b[0mx\u001b[0m\u001b[0;34m+\u001b[0m\u001b[0;36m1\u001b[0m\u001b[0;34m,\u001b[0m \u001b[0my\u001b[0m\u001b[0;34m,\u001b[0m \u001b[0mnew_path\u001b[0m\u001b[0;34m,\u001b[0m \u001b[0mcc\u001b[0m\u001b[0;34m)\u001b[0m\u001b[0;34m\u001b[0m\u001b[0;34m\u001b[0m\u001b[0m\n\u001b[1;32m     41\u001b[0m \u001b[0;34m\u001b[0m\u001b[0m\n",
      "\u001b[0;32m<ipython-input-108-3887d4554784>\u001b[0m in \u001b[0;36mwalk\u001b[0;34m(x, y, path, ct)\u001b[0m\n\u001b[1;32m     36\u001b[0m                 \u001b[0;32mreturn\u001b[0m \u001b[0;32mFalse\u001b[0m\u001b[0;34m\u001b[0m\u001b[0;34m\u001b[0m\u001b[0m\n\u001b[1;32m     37\u001b[0m         \u001b[0mwalk\u001b[0m\u001b[0;34m(\u001b[0m\u001b[0mx\u001b[0m\u001b[0;34m-\u001b[0m\u001b[0;36m1\u001b[0m\u001b[0;34m,\u001b[0m \u001b[0my\u001b[0m\u001b[0;34m,\u001b[0m \u001b[0mnew_path\u001b[0m\u001b[0;34m,\u001b[0m \u001b[0mcc\u001b[0m\u001b[0;34m)\u001b[0m\u001b[0;34m\u001b[0m\u001b[0;34m\u001b[0m\u001b[0m\n\u001b[0;32m---> 38\u001b[0;31m         \u001b[0mwalk\u001b[0m\u001b[0;34m(\u001b[0m\u001b[0mx\u001b[0m\u001b[0;34m,\u001b[0m \u001b[0my\u001b[0m\u001b[0;34m-\u001b[0m\u001b[0;36m1\u001b[0m\u001b[0;34m,\u001b[0m \u001b[0mnew_path\u001b[0m\u001b[0;34m,\u001b[0m \u001b[0mcc\u001b[0m\u001b[0;34m)\u001b[0m\u001b[0;34m\u001b[0m\u001b[0;34m\u001b[0m\u001b[0m\n\u001b[0m\u001b[1;32m     39\u001b[0m         \u001b[0mwalk\u001b[0m\u001b[0;34m(\u001b[0m\u001b[0mx\u001b[0m\u001b[0;34m,\u001b[0m \u001b[0my\u001b[0m\u001b[0;34m+\u001b[0m\u001b[0;36m1\u001b[0m\u001b[0;34m,\u001b[0m \u001b[0mnew_path\u001b[0m\u001b[0;34m,\u001b[0m \u001b[0mcc\u001b[0m\u001b[0;34m)\u001b[0m\u001b[0;34m\u001b[0m\u001b[0;34m\u001b[0m\u001b[0m\n\u001b[1;32m     40\u001b[0m         \u001b[0mwalk\u001b[0m\u001b[0;34m(\u001b[0m\u001b[0mx\u001b[0m\u001b[0;34m+\u001b[0m\u001b[0;36m1\u001b[0m\u001b[0;34m,\u001b[0m \u001b[0my\u001b[0m\u001b[0;34m,\u001b[0m \u001b[0mnew_path\u001b[0m\u001b[0;34m,\u001b[0m \u001b[0mcc\u001b[0m\u001b[0;34m)\u001b[0m\u001b[0;34m\u001b[0m\u001b[0;34m\u001b[0m\u001b[0m\n",
      "\u001b[0;32m<ipython-input-108-3887d4554784>\u001b[0m in \u001b[0;36mwalk\u001b[0;34m(x, y, path, ct)\u001b[0m\n\u001b[1;32m     37\u001b[0m         \u001b[0mwalk\u001b[0m\u001b[0;34m(\u001b[0m\u001b[0mx\u001b[0m\u001b[0;34m-\u001b[0m\u001b[0;36m1\u001b[0m\u001b[0;34m,\u001b[0m \u001b[0my\u001b[0m\u001b[0;34m,\u001b[0m \u001b[0mnew_path\u001b[0m\u001b[0;34m,\u001b[0m \u001b[0mcc\u001b[0m\u001b[0;34m)\u001b[0m\u001b[0;34m\u001b[0m\u001b[0;34m\u001b[0m\u001b[0m\n\u001b[1;32m     38\u001b[0m         \u001b[0mwalk\u001b[0m\u001b[0;34m(\u001b[0m\u001b[0mx\u001b[0m\u001b[0;34m,\u001b[0m \u001b[0my\u001b[0m\u001b[0;34m-\u001b[0m\u001b[0;36m1\u001b[0m\u001b[0;34m,\u001b[0m \u001b[0mnew_path\u001b[0m\u001b[0;34m,\u001b[0m \u001b[0mcc\u001b[0m\u001b[0;34m)\u001b[0m\u001b[0;34m\u001b[0m\u001b[0;34m\u001b[0m\u001b[0m\n\u001b[0;32m---> 39\u001b[0;31m         \u001b[0mwalk\u001b[0m\u001b[0;34m(\u001b[0m\u001b[0mx\u001b[0m\u001b[0;34m,\u001b[0m \u001b[0my\u001b[0m\u001b[0;34m+\u001b[0m\u001b[0;36m1\u001b[0m\u001b[0;34m,\u001b[0m \u001b[0mnew_path\u001b[0m\u001b[0;34m,\u001b[0m \u001b[0mcc\u001b[0m\u001b[0;34m)\u001b[0m\u001b[0;34m\u001b[0m\u001b[0;34m\u001b[0m\u001b[0m\n\u001b[0m\u001b[1;32m     40\u001b[0m         \u001b[0mwalk\u001b[0m\u001b[0;34m(\u001b[0m\u001b[0mx\u001b[0m\u001b[0;34m+\u001b[0m\u001b[0;36m1\u001b[0m\u001b[0;34m,\u001b[0m \u001b[0my\u001b[0m\u001b[0;34m,\u001b[0m \u001b[0mnew_path\u001b[0m\u001b[0;34m,\u001b[0m \u001b[0mcc\u001b[0m\u001b[0;34m)\u001b[0m\u001b[0;34m\u001b[0m\u001b[0;34m\u001b[0m\u001b[0m\n\u001b[1;32m     41\u001b[0m \u001b[0;34m\u001b[0m\u001b[0m\n",
      "\u001b[0;32m<ipython-input-108-3887d4554784>\u001b[0m in \u001b[0;36mwalk\u001b[0;34m(x, y, path, ct)\u001b[0m\n\u001b[1;32m     38\u001b[0m         \u001b[0mwalk\u001b[0m\u001b[0;34m(\u001b[0m\u001b[0mx\u001b[0m\u001b[0;34m,\u001b[0m \u001b[0my\u001b[0m\u001b[0;34m-\u001b[0m\u001b[0;36m1\u001b[0m\u001b[0;34m,\u001b[0m \u001b[0mnew_path\u001b[0m\u001b[0;34m,\u001b[0m \u001b[0mcc\u001b[0m\u001b[0;34m)\u001b[0m\u001b[0;34m\u001b[0m\u001b[0;34m\u001b[0m\u001b[0m\n\u001b[1;32m     39\u001b[0m         \u001b[0mwalk\u001b[0m\u001b[0;34m(\u001b[0m\u001b[0mx\u001b[0m\u001b[0;34m,\u001b[0m \u001b[0my\u001b[0m\u001b[0;34m+\u001b[0m\u001b[0;36m1\u001b[0m\u001b[0;34m,\u001b[0m \u001b[0mnew_path\u001b[0m\u001b[0;34m,\u001b[0m \u001b[0mcc\u001b[0m\u001b[0;34m)\u001b[0m\u001b[0;34m\u001b[0m\u001b[0;34m\u001b[0m\u001b[0m\n\u001b[0;32m---> 40\u001b[0;31m         \u001b[0mwalk\u001b[0m\u001b[0;34m(\u001b[0m\u001b[0mx\u001b[0m\u001b[0;34m+\u001b[0m\u001b[0;36m1\u001b[0m\u001b[0;34m,\u001b[0m \u001b[0my\u001b[0m\u001b[0;34m,\u001b[0m \u001b[0mnew_path\u001b[0m\u001b[0;34m,\u001b[0m \u001b[0mcc\u001b[0m\u001b[0;34m)\u001b[0m\u001b[0;34m\u001b[0m\u001b[0;34m\u001b[0m\u001b[0m\n\u001b[0m\u001b[1;32m     41\u001b[0m \u001b[0;34m\u001b[0m\u001b[0m\n\u001b[1;32m     42\u001b[0m     \u001b[0;32mfor\u001b[0m \u001b[0mi\u001b[0m \u001b[0;32min\u001b[0m \u001b[0mrange\u001b[0m\u001b[0;34m(\u001b[0m\u001b[0mn\u001b[0m\u001b[0;34m)\u001b[0m\u001b[0;34m:\u001b[0m\u001b[0;34m\u001b[0m\u001b[0;34m\u001b[0m\u001b[0m\n",
      "\u001b[0;32m<ipython-input-108-3887d4554784>\u001b[0m in \u001b[0;36mwalk\u001b[0;34m(x, y, path, ct)\u001b[0m\n\u001b[1;32m     35\u001b[0m         \u001b[0;32mif\u001b[0m \u001b[0mx\u001b[0m\u001b[0;34m<\u001b[0m\u001b[0;36m0\u001b[0m \u001b[0;32mor\u001b[0m \u001b[0mx\u001b[0m\u001b[0;34m>=\u001b[0m\u001b[0mn\u001b[0m\u001b[0;34m-\u001b[0m\u001b[0;36m1\u001b[0m \u001b[0;32mor\u001b[0m \u001b[0my\u001b[0m\u001b[0;34m<\u001b[0m\u001b[0;36m0\u001b[0m \u001b[0;32mor\u001b[0m \u001b[0my\u001b[0m\u001b[0;34m>=\u001b[0m\u001b[0mm\u001b[0m\u001b[0;34m-\u001b[0m\u001b[0;36m1\u001b[0m\u001b[0;34m:\u001b[0m\u001b[0;34m\u001b[0m\u001b[0;34m\u001b[0m\u001b[0m\n\u001b[1;32m     36\u001b[0m                 \u001b[0;32mreturn\u001b[0m \u001b[0;32mFalse\u001b[0m\u001b[0;34m\u001b[0m\u001b[0;34m\u001b[0m\u001b[0m\n\u001b[0;32m---> 37\u001b[0;31m         \u001b[0mwalk\u001b[0m\u001b[0;34m(\u001b[0m\u001b[0mx\u001b[0m\u001b[0;34m-\u001b[0m\u001b[0;36m1\u001b[0m\u001b[0;34m,\u001b[0m \u001b[0my\u001b[0m\u001b[0;34m,\u001b[0m \u001b[0mnew_path\u001b[0m\u001b[0;34m,\u001b[0m \u001b[0mcc\u001b[0m\u001b[0;34m)\u001b[0m\u001b[0;34m\u001b[0m\u001b[0;34m\u001b[0m\u001b[0m\n\u001b[0m\u001b[1;32m     38\u001b[0m         \u001b[0mwalk\u001b[0m\u001b[0;34m(\u001b[0m\u001b[0mx\u001b[0m\u001b[0;34m,\u001b[0m \u001b[0my\u001b[0m\u001b[0;34m-\u001b[0m\u001b[0;36m1\u001b[0m\u001b[0;34m,\u001b[0m \u001b[0mnew_path\u001b[0m\u001b[0;34m,\u001b[0m \u001b[0mcc\u001b[0m\u001b[0;34m)\u001b[0m\u001b[0;34m\u001b[0m\u001b[0;34m\u001b[0m\u001b[0m\n\u001b[1;32m     39\u001b[0m         \u001b[0mwalk\u001b[0m\u001b[0;34m(\u001b[0m\u001b[0mx\u001b[0m\u001b[0;34m,\u001b[0m \u001b[0my\u001b[0m\u001b[0;34m+\u001b[0m\u001b[0;36m1\u001b[0m\u001b[0;34m,\u001b[0m \u001b[0mnew_path\u001b[0m\u001b[0;34m,\u001b[0m \u001b[0mcc\u001b[0m\u001b[0;34m)\u001b[0m\u001b[0;34m\u001b[0m\u001b[0;34m\u001b[0m\u001b[0m\n",
      "\u001b[0;32m<ipython-input-108-3887d4554784>\u001b[0m in \u001b[0;36mwalk\u001b[0;34m(x, y, path, ct)\u001b[0m\n\u001b[1;32m     38\u001b[0m         \u001b[0mwalk\u001b[0m\u001b[0;34m(\u001b[0m\u001b[0mx\u001b[0m\u001b[0;34m,\u001b[0m \u001b[0my\u001b[0m\u001b[0;34m-\u001b[0m\u001b[0;36m1\u001b[0m\u001b[0;34m,\u001b[0m \u001b[0mnew_path\u001b[0m\u001b[0;34m,\u001b[0m \u001b[0mcc\u001b[0m\u001b[0;34m)\u001b[0m\u001b[0;34m\u001b[0m\u001b[0;34m\u001b[0m\u001b[0m\n\u001b[1;32m     39\u001b[0m         \u001b[0mwalk\u001b[0m\u001b[0;34m(\u001b[0m\u001b[0mx\u001b[0m\u001b[0;34m,\u001b[0m \u001b[0my\u001b[0m\u001b[0;34m+\u001b[0m\u001b[0;36m1\u001b[0m\u001b[0;34m,\u001b[0m \u001b[0mnew_path\u001b[0m\u001b[0;34m,\u001b[0m \u001b[0mcc\u001b[0m\u001b[0;34m)\u001b[0m\u001b[0;34m\u001b[0m\u001b[0;34m\u001b[0m\u001b[0m\n\u001b[0;32m---> 40\u001b[0;31m         \u001b[0mwalk\u001b[0m\u001b[0;34m(\u001b[0m\u001b[0mx\u001b[0m\u001b[0;34m+\u001b[0m\u001b[0;36m1\u001b[0m\u001b[0;34m,\u001b[0m \u001b[0my\u001b[0m\u001b[0;34m,\u001b[0m \u001b[0mnew_path\u001b[0m\u001b[0;34m,\u001b[0m \u001b[0mcc\u001b[0m\u001b[0;34m)\u001b[0m\u001b[0;34m\u001b[0m\u001b[0;34m\u001b[0m\u001b[0m\n\u001b[0m\u001b[1;32m     41\u001b[0m \u001b[0;34m\u001b[0m\u001b[0m\n\u001b[1;32m     42\u001b[0m     \u001b[0;32mfor\u001b[0m \u001b[0mi\u001b[0m \u001b[0;32min\u001b[0m \u001b[0mrange\u001b[0m\u001b[0;34m(\u001b[0m\u001b[0mn\u001b[0m\u001b[0;34m)\u001b[0m\u001b[0;34m:\u001b[0m\u001b[0;34m\u001b[0m\u001b[0;34m\u001b[0m\u001b[0m\n",
      "\u001b[0;32m<ipython-input-108-3887d4554784>\u001b[0m in \u001b[0;36mwalk\u001b[0;34m(x, y, path, ct)\u001b[0m\n\u001b[1;32m     35\u001b[0m         \u001b[0;32mif\u001b[0m \u001b[0mx\u001b[0m\u001b[0;34m<\u001b[0m\u001b[0;36m0\u001b[0m \u001b[0;32mor\u001b[0m \u001b[0mx\u001b[0m\u001b[0;34m>=\u001b[0m\u001b[0mn\u001b[0m\u001b[0;34m-\u001b[0m\u001b[0;36m1\u001b[0m \u001b[0;32mor\u001b[0m \u001b[0my\u001b[0m\u001b[0;34m<\u001b[0m\u001b[0;36m0\u001b[0m \u001b[0;32mor\u001b[0m \u001b[0my\u001b[0m\u001b[0;34m>=\u001b[0m\u001b[0mm\u001b[0m\u001b[0;34m-\u001b[0m\u001b[0;36m1\u001b[0m\u001b[0;34m:\u001b[0m\u001b[0;34m\u001b[0m\u001b[0;34m\u001b[0m\u001b[0m\n\u001b[1;32m     36\u001b[0m                 \u001b[0;32mreturn\u001b[0m \u001b[0;32mFalse\u001b[0m\u001b[0;34m\u001b[0m\u001b[0;34m\u001b[0m\u001b[0m\n\u001b[0;32m---> 37\u001b[0;31m         \u001b[0mwalk\u001b[0m\u001b[0;34m(\u001b[0m\u001b[0mx\u001b[0m\u001b[0;34m-\u001b[0m\u001b[0;36m1\u001b[0m\u001b[0;34m,\u001b[0m \u001b[0my\u001b[0m\u001b[0;34m,\u001b[0m \u001b[0mnew_path\u001b[0m\u001b[0;34m,\u001b[0m \u001b[0mcc\u001b[0m\u001b[0;34m)\u001b[0m\u001b[0;34m\u001b[0m\u001b[0;34m\u001b[0m\u001b[0m\n\u001b[0m\u001b[1;32m     38\u001b[0m         \u001b[0mwalk\u001b[0m\u001b[0;34m(\u001b[0m\u001b[0mx\u001b[0m\u001b[0;34m,\u001b[0m \u001b[0my\u001b[0m\u001b[0;34m-\u001b[0m\u001b[0;36m1\u001b[0m\u001b[0;34m,\u001b[0m \u001b[0mnew_path\u001b[0m\u001b[0;34m,\u001b[0m \u001b[0mcc\u001b[0m\u001b[0;34m)\u001b[0m\u001b[0;34m\u001b[0m\u001b[0;34m\u001b[0m\u001b[0m\n\u001b[1;32m     39\u001b[0m         \u001b[0mwalk\u001b[0m\u001b[0;34m(\u001b[0m\u001b[0mx\u001b[0m\u001b[0;34m,\u001b[0m \u001b[0my\u001b[0m\u001b[0;34m+\u001b[0m\u001b[0;36m1\u001b[0m\u001b[0;34m,\u001b[0m \u001b[0mnew_path\u001b[0m\u001b[0;34m,\u001b[0m \u001b[0mcc\u001b[0m\u001b[0;34m)\u001b[0m\u001b[0;34m\u001b[0m\u001b[0;34m\u001b[0m\u001b[0m\n",
      "\u001b[0;32m<ipython-input-108-3887d4554784>\u001b[0m in \u001b[0;36mwalk\u001b[0;34m(x, y, path, ct)\u001b[0m\n\u001b[1;32m     35\u001b[0m         \u001b[0;32mif\u001b[0m \u001b[0mx\u001b[0m\u001b[0;34m<\u001b[0m\u001b[0;36m0\u001b[0m \u001b[0;32mor\u001b[0m \u001b[0mx\u001b[0m\u001b[0;34m>=\u001b[0m\u001b[0mn\u001b[0m\u001b[0;34m-\u001b[0m\u001b[0;36m1\u001b[0m \u001b[0;32mor\u001b[0m \u001b[0my\u001b[0m\u001b[0;34m<\u001b[0m\u001b[0;36m0\u001b[0m \u001b[0;32mor\u001b[0m \u001b[0my\u001b[0m\u001b[0;34m>=\u001b[0m\u001b[0mm\u001b[0m\u001b[0;34m-\u001b[0m\u001b[0;36m1\u001b[0m\u001b[0;34m:\u001b[0m\u001b[0;34m\u001b[0m\u001b[0;34m\u001b[0m\u001b[0m\n\u001b[1;32m     36\u001b[0m                 \u001b[0;32mreturn\u001b[0m \u001b[0;32mFalse\u001b[0m\u001b[0;34m\u001b[0m\u001b[0;34m\u001b[0m\u001b[0m\n\u001b[0;32m---> 37\u001b[0;31m         \u001b[0mwalk\u001b[0m\u001b[0;34m(\u001b[0m\u001b[0mx\u001b[0m\u001b[0;34m-\u001b[0m\u001b[0;36m1\u001b[0m\u001b[0;34m,\u001b[0m \u001b[0my\u001b[0m\u001b[0;34m,\u001b[0m \u001b[0mnew_path\u001b[0m\u001b[0;34m,\u001b[0m \u001b[0mcc\u001b[0m\u001b[0;34m)\u001b[0m\u001b[0;34m\u001b[0m\u001b[0;34m\u001b[0m\u001b[0m\n\u001b[0m\u001b[1;32m     38\u001b[0m         \u001b[0mwalk\u001b[0m\u001b[0;34m(\u001b[0m\u001b[0mx\u001b[0m\u001b[0;34m,\u001b[0m \u001b[0my\u001b[0m\u001b[0;34m-\u001b[0m\u001b[0;36m1\u001b[0m\u001b[0;34m,\u001b[0m \u001b[0mnew_path\u001b[0m\u001b[0;34m,\u001b[0m \u001b[0mcc\u001b[0m\u001b[0;34m)\u001b[0m\u001b[0;34m\u001b[0m\u001b[0;34m\u001b[0m\u001b[0m\n\u001b[1;32m     39\u001b[0m         \u001b[0mwalk\u001b[0m\u001b[0;34m(\u001b[0m\u001b[0mx\u001b[0m\u001b[0;34m,\u001b[0m \u001b[0my\u001b[0m\u001b[0;34m+\u001b[0m\u001b[0;36m1\u001b[0m\u001b[0;34m,\u001b[0m \u001b[0mnew_path\u001b[0m\u001b[0;34m,\u001b[0m \u001b[0mcc\u001b[0m\u001b[0;34m)\u001b[0m\u001b[0;34m\u001b[0m\u001b[0;34m\u001b[0m\u001b[0m\n",
      "\u001b[0;32m<ipython-input-108-3887d4554784>\u001b[0m in \u001b[0;36mwalk\u001b[0;34m(x, y, path, ct)\u001b[0m\n\u001b[1;32m     35\u001b[0m         \u001b[0;32mif\u001b[0m \u001b[0mx\u001b[0m\u001b[0;34m<\u001b[0m\u001b[0;36m0\u001b[0m \u001b[0;32mor\u001b[0m \u001b[0mx\u001b[0m\u001b[0;34m>=\u001b[0m\u001b[0mn\u001b[0m\u001b[0;34m-\u001b[0m\u001b[0;36m1\u001b[0m \u001b[0;32mor\u001b[0m \u001b[0my\u001b[0m\u001b[0;34m<\u001b[0m\u001b[0;36m0\u001b[0m \u001b[0;32mor\u001b[0m \u001b[0my\u001b[0m\u001b[0;34m>=\u001b[0m\u001b[0mm\u001b[0m\u001b[0;34m-\u001b[0m\u001b[0;36m1\u001b[0m\u001b[0;34m:\u001b[0m\u001b[0;34m\u001b[0m\u001b[0;34m\u001b[0m\u001b[0m\n\u001b[1;32m     36\u001b[0m                 \u001b[0;32mreturn\u001b[0m \u001b[0;32mFalse\u001b[0m\u001b[0;34m\u001b[0m\u001b[0;34m\u001b[0m\u001b[0m\n\u001b[0;32m---> 37\u001b[0;31m         \u001b[0mwalk\u001b[0m\u001b[0;34m(\u001b[0m\u001b[0mx\u001b[0m\u001b[0;34m-\u001b[0m\u001b[0;36m1\u001b[0m\u001b[0;34m,\u001b[0m \u001b[0my\u001b[0m\u001b[0;34m,\u001b[0m \u001b[0mnew_path\u001b[0m\u001b[0;34m,\u001b[0m \u001b[0mcc\u001b[0m\u001b[0;34m)\u001b[0m\u001b[0;34m\u001b[0m\u001b[0;34m\u001b[0m\u001b[0m\n\u001b[0m\u001b[1;32m     38\u001b[0m         \u001b[0mwalk\u001b[0m\u001b[0;34m(\u001b[0m\u001b[0mx\u001b[0m\u001b[0;34m,\u001b[0m \u001b[0my\u001b[0m\u001b[0;34m-\u001b[0m\u001b[0;36m1\u001b[0m\u001b[0;34m,\u001b[0m \u001b[0mnew_path\u001b[0m\u001b[0;34m,\u001b[0m \u001b[0mcc\u001b[0m\u001b[0;34m)\u001b[0m\u001b[0;34m\u001b[0m\u001b[0;34m\u001b[0m\u001b[0m\n\u001b[1;32m     39\u001b[0m         \u001b[0mwalk\u001b[0m\u001b[0;34m(\u001b[0m\u001b[0mx\u001b[0m\u001b[0;34m,\u001b[0m \u001b[0my\u001b[0m\u001b[0;34m+\u001b[0m\u001b[0;36m1\u001b[0m\u001b[0;34m,\u001b[0m \u001b[0mnew_path\u001b[0m\u001b[0;34m,\u001b[0m \u001b[0mcc\u001b[0m\u001b[0;34m)\u001b[0m\u001b[0;34m\u001b[0m\u001b[0;34m\u001b[0m\u001b[0m\n",
      "\u001b[0;32m<ipython-input-108-3887d4554784>\u001b[0m in \u001b[0;36mwalk\u001b[0;34m(x, y, path, ct)\u001b[0m\n\u001b[1;32m     38\u001b[0m         \u001b[0mwalk\u001b[0m\u001b[0;34m(\u001b[0m\u001b[0mx\u001b[0m\u001b[0;34m,\u001b[0m \u001b[0my\u001b[0m\u001b[0;34m-\u001b[0m\u001b[0;36m1\u001b[0m\u001b[0;34m,\u001b[0m \u001b[0mnew_path\u001b[0m\u001b[0;34m,\u001b[0m \u001b[0mcc\u001b[0m\u001b[0;34m)\u001b[0m\u001b[0;34m\u001b[0m\u001b[0;34m\u001b[0m\u001b[0m\n\u001b[1;32m     39\u001b[0m         \u001b[0mwalk\u001b[0m\u001b[0;34m(\u001b[0m\u001b[0mx\u001b[0m\u001b[0;34m,\u001b[0m \u001b[0my\u001b[0m\u001b[0;34m+\u001b[0m\u001b[0;36m1\u001b[0m\u001b[0;34m,\u001b[0m \u001b[0mnew_path\u001b[0m\u001b[0;34m,\u001b[0m \u001b[0mcc\u001b[0m\u001b[0;34m)\u001b[0m\u001b[0;34m\u001b[0m\u001b[0;34m\u001b[0m\u001b[0m\n\u001b[0;32m---> 40\u001b[0;31m         \u001b[0mwalk\u001b[0m\u001b[0;34m(\u001b[0m\u001b[0mx\u001b[0m\u001b[0;34m+\u001b[0m\u001b[0;36m1\u001b[0m\u001b[0;34m,\u001b[0m \u001b[0my\u001b[0m\u001b[0;34m,\u001b[0m \u001b[0mnew_path\u001b[0m\u001b[0;34m,\u001b[0m \u001b[0mcc\u001b[0m\u001b[0;34m)\u001b[0m\u001b[0;34m\u001b[0m\u001b[0;34m\u001b[0m\u001b[0m\n\u001b[0m\u001b[1;32m     41\u001b[0m \u001b[0;34m\u001b[0m\u001b[0m\n\u001b[1;32m     42\u001b[0m     \u001b[0;32mfor\u001b[0m \u001b[0mi\u001b[0m \u001b[0;32min\u001b[0m \u001b[0mrange\u001b[0m\u001b[0;34m(\u001b[0m\u001b[0mn\u001b[0m\u001b[0;34m)\u001b[0m\u001b[0;34m:\u001b[0m\u001b[0;34m\u001b[0m\u001b[0;34m\u001b[0m\u001b[0m\n",
      "\u001b[0;31mKeyboardInterrupt\u001b[0m: "
     ]
    }
   ],
   "source": [
    "\n",
    "def word_search_trie(board, words):\n",
    "    if not board:\n",
    "        return False\n",
    "    n = len(board)\n",
    "    m = len(board[0])    \n",
    "    \n",
    "    trie = {}\n",
    "    finds= []\n",
    "    for word in words:\n",
    "            t = trie\n",
    "            for c in word:\n",
    "                if c not in t:\n",
    "                    t[c] = dict()\n",
    "                t = t[c]\n",
    "            t['#'] = '#'\n",
    "    \n",
    "    def walk(x, y, path, ct):\n",
    "        \n",
    "        cc = ct.get(board[x][y])\n",
    "\n",
    "        if cc:\n",
    "            if walked[x][y]:\n",
    "                return False\n",
    "            new_path = path + board[x][y]\n",
    "            if cc.get('#') == '#':\n",
    "                if new_path not in finds:\n",
    "                    finds.append(new_path)\n",
    "            walked[x][y] = True\n",
    "        else:\n",
    "            if ct.get('#') == '#':\n",
    "                if path not in finds:\n",
    "                    finds.append(new_path)\n",
    "            return False\n",
    "        if x<0 or x>=n-1 or y<0 or y>=m-1:\n",
    "                return False\n",
    "        walk(x-1, y, new_path, cc)\n",
    "        walk(x, y-1, new_path, cc)\n",
    "        walk(x, y+1, new_path, cc)\n",
    "        walk(x+1, y, new_path, cc)\n",
    "    \n",
    "    for i in range(n):\n",
    "        for j in range(m):\n",
    "            walked = [[False]*(m) for _ in range(n)]\n",
    "            walk(i, j,'', trie)\n",
    "\n",
    "    return finds\n",
    "\n",
    "b =[[\"a\",\"a\",\"a\",\"a\"],\n",
    "    [\"a\",\"a\",\"a\",\"a\"],\n",
    "    [\"a\",\"a\",\"a\",\"a\"],\n",
    "    [\"a\",\"a\",\"a\",\"a\"],\n",
    "    [\"b\",\"c\",\"d\",\"e\"],\n",
    "    [\"f\",\"g\",\"h\",\"i\"],\n",
    "    [\"j\",\"k\",\"l\",\"m\"],[\"n\",\"o\",\"p\",\"q\"],[\"r\",\"s\",\"t\",\"u\"],[\"v\",\"w\",\"x\",\"y\"],[\"z\",\"z\",\"z\",\"z\"]]\n",
    "w = [\"aaaaaaaaaaaaaaaa\",\"aaaaaaaaaaaaaaab\",\"aaaaaaaaaaaaaaac\",\"aaaaaaaaaaaaaaad\",\"aaaaaaaaaaaaaaae\",\"aaaaaaaaaaaaaaaf\",\"aaaaaaaaaaaaaaag\",\"aaaaaaaaaaaaaaah\",\"aaaaaaaaaaaaaaai\",\"aaaaaaaaaaaaaaaj\",\"aaaaaaaaaaaaaaak\",\"aaaaaaaaaaaaaaal\",\"aaaaaaaaaaaaaaam\",\"aaaaaaaaaaaaaaan\",\"aaaaaaaaaaaaaaao\",\"aaaaaaaaaaaaaaap\",\"aaaaaaaaaaaaaaaq\",\"aaaaaaaaaaaaaaar\",\"aaaaaaaaaaaaaaas\",\"aaaaaaaaaaaaaaat\",\"aaaaaaaaaaaaaaau\",\"aaaaaaaaaaaaaaav\",\"aaaaaaaaaaaaaaaw\",\"aaaaaaaaaaaaaaax\",\"aaaaaaaaaaaaaaay\",\"aaaaaaaaaaaaaaaz\",\"aaaaaaaaaaaaaaba\",\"aaaaaaaaaaaaaabb\",\"aaaaaaaaaaaaaabc\",\"aaaaaaaaaaaaaabd\",\"aaaaaaaaaaaaaabe\",\"aaaaaaaaaaaaaabf\",\"aaaaaaaaaaaaaabg\",\"aaaaaaaaaaaaaabh\",\"aaaaaaaaaaaaaabi\",\"aaaaaaaaaaaaaabj\",\"aaaaaaaaaaaaaabk\",\"aaaaaaaaaaaaaabl\",\"aaaaaaaaaaaaaabm\",\"aaaaaaaaaaaaaabn\",\"aaaaaaaaaaaaaabo\",\"aaaaaaaaaaaaaabp\",\"aaaaaaaaaaaaaabq\",\"aaaaaaaaaaaaaabr\",\"aaaaaaaaaaaaaabs\",\"aaaaaaaaaaaaaabt\",\"aaaaaaaaaaaaaabu\",\"aaaaaaaaaaaaaabv\",\"aaaaaaaaaaaaaabw\",\"aaaaaaaaaaaaaabx\",\"aaaaaaaaaaaaaaby\",\"aaaaaaaaaaaaaabz\",\"aaaaaaaaaaaaaaca\",\"aaaaaaaaaaaaaacb\",\"aaaaaaaaaaaaaacc\",\"aaaaaaaaaaaaaacd\",\"aaaaaaaaaaaaaace\",\"aaaaaaaaaaaaaacf\",\"aaaaaaaaaaaaaacg\",\"aaaaaaaaaaaaaach\",\"aaaaaaaaaaaaaaci\",\"aaaaaaaaaaaaaacj\",\"aaaaaaaaaaaaaack\",\"aaaaaaaaaaaaaacl\",\"aaaaaaaaaaaaaacm\",\"aaaaaaaaaaaaaacn\",\"aaaaaaaaaaaaaaco\",\"aaaaaaaaaaaaaacp\",\"aaaaaaaaaaaaaacq\",\"aaaaaaaaaaaaaacr\",\"aaaaaaaaaaaaaacs\",\"aaaaaaaaaaaaaact\",\"aaaaaaaaaaaaaacu\",\"aaaaaaaaaaaaaacv\",\"aaaaaaaaaaaaaacw\",\"aaaaaaaaaaaaaacx\",\"aaaaaaaaaaaaaacy\",\"aaaaaaaaaaaaaacz\",\"aaaaaaaaaaaaaada\",\"aaaaaaaaaaaaaadb\",\"aaaaaaaaaaaaaadc\",\"aaaaaaaaaaaaaadd\",\"aaaaaaaaaaaaaade\",\"aaaaaaaaaaaaaadf\",\"aaaaaaaaaaaaaadg\",\"aaaaaaaaaaaaaadh\",\"aaaaaaaaaaaaaadi\",\"aaaaaaaaaaaaaadj\",\"aaaaaaaaaaaaaadk\",\"aaaaaaaaaaaaaadl\",\"aaaaaaaaaaaaaadm\",\"aaaaaaaaaaaaaadn\",\"aaaaaaaaaaaaaado\",\"aaaaaaaaaaaaaadp\",\"aaaaaaaaaaaaaadq\",\"aaaaaaaaaaaaaadr\",\"aaaaaaaaaaaaaads\",\"aaaaaaaaaaaaaadt\",\"aaaaaaaaaaaaaadu\",\"aaaaaaaaaaaaaadv\",\"aaaaaaaaaaaaaadw\",\"aaaaaaaaaaaaaadx\",\"aaaaaaaaaaaaaady\",\"aaaaaaaaaaaaaadz\",\"aaaaaaaaaaaaaaea\",\"aaaaaaaaaaaaaaeb\",\"aaaaaaaaaaaaaaec\",\"aaaaaaaaaaaaaaed\",\"aaaaaaaaaaaaaaee\",\"aaaaaaaaaaaaaaef\",\"aaaaaaaaaaaaaaeg\",\"aaaaaaaaaaaaaaeh\",\"aaaaaaaaaaaaaaei\",\"aaaaaaaaaaaaaaej\",\"aaaaaaaaaaaaaaek\",\"aaaaaaaaaaaaaael\",\"aaaaaaaaaaaaaaem\",\"aaaaaaaaaaaaaaen\",\"aaaaaaaaaaaaaaeo\",\"aaaaaaaaaaaaaaep\",\"aaaaaaaaaaaaaaeq\",\"aaaaaaaaaaaaaaer\",\"aaaaaaaaaaaaaaes\",\"aaaaaaaaaaaaaaet\",\"aaaaaaaaaaaaaaeu\",\"aaaaaaaaaaaaaaev\",\"aaaaaaaaaaaaaaew\",\"aaaaaaaaaaaaaaex\",\"aaaaaaaaaaaaaaey\",\"aaaaaaaaaaaaaaez\",\"aaaaaaaaaaaaaafa\",\"aaaaaaaaaaaaaafb\",\"aaaaaaaaaaaaaafc\",\"aaaaaaaaaaaaaafd\",\"aaaaaaaaaaaaaafe\",\"aaaaaaaaaaaaaaff\",\"aaaaaaaaaaaaaafg\",\"aaaaaaaaaaaaaafh\",\"aaaaaaaaaaaaaafi\",\"aaaaaaaaaaaaaafj\",\"aaaaaaaaaaaaaafk\",\"aaaaaaaaaaaaaafl\",\"aaaaaaaaaaaaaafm\",\"aaaaaaaaaaaaaafn\",\"aaaaaaaaaaaaaafo\",\"aaaaaaaaaaaaaafp\",\"aaaaaaaaaaaaaafq\",\"aaaaaaaaaaaaaafr\",\"aaaaaaaaaaaaaafs\",\"aaaaaaaaaaaaaaft\",\"aaaaaaaaaaaaaafu\",\"aaaaaaaaaaaaaafv\",\"aaaaaaaaaaaaaafw\",\"aaaaaaaaaaaaaafx\",\"aaaaaaaaaaaaaafy\",\"aaaaaaaaaaaaaafz\",\"aaaaaaaaaaaaaaga\",\"aaaaaaaaaaaaaagb\",\"aaaaaaaaaaaaaagc\",\"aaaaaaaaaaaaaagd\",\"aaaaaaaaaaaaaage\",\"aaaaaaaaaaaaaagf\",\"aaaaaaaaaaaaaagg\",\"aaaaaaaaaaaaaagh\",\"aaaaaaaaaaaaaagi\",\"aaaaaaaaaaaaaagj\",\"aaaaaaaaaaaaaagk\",\"aaaaaaaaaaaaaagl\",\"aaaaaaaaaaaaaagm\",\"aaaaaaaaaaaaaagn\",\"aaaaaaaaaaaaaago\",\"aaaaaaaaaaaaaagp\",\"aaaaaaaaaaaaaagq\",\"aaaaaaaaaaaaaagr\",\"aaaaaaaaaaaaaags\",\"aaaaaaaaaaaaaagt\",\"aaaaaaaaaaaaaagu\",\"aaaaaaaaaaaaaagv\",\"aaaaaaaaaaaaaagw\",\"aaaaaaaaaaaaaagx\",\"aaaaaaaaaaaaaagy\",\"aaaaaaaaaaaaaagz\",\"aaaaaaaaaaaaaaha\",\"aaaaaaaaaaaaaahb\",\"aaaaaaaaaaaaaahc\",\"aaaaaaaaaaaaaahd\",\"aaaaaaaaaaaaaahe\",\"aaaaaaaaaaaaaahf\",\"aaaaaaaaaaaaaahg\",\"aaaaaaaaaaaaaahh\",\"aaaaaaaaaaaaaahi\",\"aaaaaaaaaaaaaahj\",\"aaaaaaaaaaaaaahk\",\"aaaaaaaaaaaaaahl\",\"aaaaaaaaaaaaaahm\",\"aaaaaaaaaaaaaahn\",\"aaaaaaaaaaaaaaho\",\"aaaaaaaaaaaaaahp\",\"aaaaaaaaaaaaaahq\",\"aaaaaaaaaaaaaahr\",\"aaaaaaaaaaaaaahs\",\"aaaaaaaaaaaaaaht\",\"aaaaaaaaaaaaaahu\",\"aaaaaaaaaaaaaahv\",\"aaaaaaaaaaaaaahw\",\"aaaaaaaaaaaaaahx\",\"aaaaaaaaaaaaaahy\",\"aaaaaaaaaaaaaahz\",\"aaaaaaaaaaaaaaia\",\"aaaaaaaaaaaaaaib\",\"aaaaaaaaaaaaaaic\",\"aaaaaaaaaaaaaaid\",\"aaaaaaaaaaaaaaie\",\"aaaaaaaaaaaaaaif\",\"aaaaaaaaaaaaaaig\",\"aaaaaaaaaaaaaaih\",\"aaaaaaaaaaaaaaii\",\"aaaaaaaaaaaaaaij\",\"aaaaaaaaaaaaaaik\",\"aaaaaaaaaaaaaail\",\"aaaaaaaaaaaaaaim\",\"aaaaaaaaaaaaaain\",\"aaaaaaaaaaaaaaio\",\"aaaaaaaaaaaaaaip\",\"aaaaaaaaaaaaaaiq\",\"aaaaaaaaaaaaaair\",\"aaaaaaaaaaaaaais\",\"aaaaaaaaaaaaaait\",\"aaaaaaaaaaaaaaiu\",\"aaaaaaaaaaaaaaiv\",\"aaaaaaaaaaaaaaiw\",\"aaaaaaaaaaaaaaix\",\"aaaaaaaaaaaaaaiy\",\"aaaaaaaaaaaaaaiz\",\"aaaaaaaaaaaaaaja\",\"aaaaaaaaaaaaaajb\",\"aaaaaaaaaaaaaajc\",\"aaaaaaaaaaaaaajd\",\"aaaaaaaaaaaaaaje\",\"aaaaaaaaaaaaaajf\",\"aaaaaaaaaaaaaajg\",\"aaaaaaaaaaaaaajh\",\"aaaaaaaaaaaaaaji\",\"aaaaaaaaaaaaaajj\",\"aaaaaaaaaaaaaajk\",\"aaaaaaaaaaaaaajl\",\"aaaaaaaaaaaaaajm\",\"aaaaaaaaaaaaaajn\",\"aaaaaaaaaaaaaajo\",\"aaaaaaaaaaaaaajp\",\"aaaaaaaaaaaaaajq\",\"aaaaaaaaaaaaaajr\",\"aaaaaaaaaaaaaajs\",\"aaaaaaaaaaaaaajt\",\"aaaaaaaaaaaaaaju\",\"aaaaaaaaaaaaaajv\",\"aaaaaaaaaaaaaajw\",\"aaaaaaaaaaaaaajx\",\"aaaaaaaaaaaaaajy\",\"aaaaaaaaaaaaaajz\",\"aaaaaaaaaaaaaaka\",\"aaaaaaaaaaaaaakb\",\"aaaaaaaaaaaaaakc\",\"aaaaaaaaaaaaaakd\",\"aaaaaaaaaaaaaake\",\"aaaaaaaaaaaaaakf\",\"aaaaaaaaaaaaaakg\",\"aaaaaaaaaaaaaakh\",\"aaaaaaaaaaaaaaki\",\"aaaaaaaaaaaaaakj\",\"aaaaaaaaaaaaaakk\",\"aaaaaaaaaaaaaakl\",\"aaaaaaaaaaaaaakm\",\"aaaaaaaaaaaaaakn\",\"aaaaaaaaaaaaaako\",\"aaaaaaaaaaaaaakp\",\"aaaaaaaaaaaaaakq\",\"aaaaaaaaaaaaaakr\",\"aaaaaaaaaaaaaaks\",\"aaaaaaaaaaaaaakt\",\"aaaaaaaaaaaaaaku\",\"aaaaaaaaaaaaaakv\",\"aaaaaaaaaaaaaakw\",\"aaaaaaaaaaaaaakx\",\"aaaaaaaaaaaaaaky\",\"aaaaaaaaaaaaaakz\",\"aaaaaaaaaaaaaala\",\"aaaaaaaaaaaaaalb\",\"aaaaaaaaaaaaaalc\",\"aaaaaaaaaaaaaald\",\"aaaaaaaaaaaaaale\",\"aaaaaaaaaaaaaalf\",\"aaaaaaaaaaaaaalg\",\"aaaaaaaaaaaaaalh\",\"aaaaaaaaaaaaaali\",\"aaaaaaaaaaaaaalj\",\"aaaaaaaaaaaaaalk\",\"aaaaaaaaaaaaaall\",\"aaaaaaaaaaaaaalm\",\"aaaaaaaaaaaaaaln\",\"aaaaaaaaaaaaaalo\",\"aaaaaaaaaaaaaalp\",\"aaaaaaaaaaaaaalq\",\"aaaaaaaaaaaaaalr\",\"aaaaaaaaaaaaaals\",\"aaaaaaaaaaaaaalt\",\"aaaaaaaaaaaaaalu\",\"aaaaaaaaaaaaaalv\",\"aaaaaaaaaaaaaalw\",\"aaaaaaaaaaaaaalx\",\"aaaaaaaaaaaaaaly\",\"aaaaaaaaaaaaaalz\",\"aaaaaaaaaaaaaama\",\"aaaaaaaaaaaaaamb\",\"aaaaaaaaaaaaaamc\",\"aaaaaaaaaaaaaamd\",\"aaaaaaaaaaaaaame\",\"aaaaaaaaaaaaaamf\",\"aaaaaaaaaaaaaamg\",\"aaaaaaaaaaaaaamh\",\"aaaaaaaaaaaaaami\",\"aaaaaaaaaaaaaamj\",\"aaaaaaaaaaaaaamk\",\"aaaaaaaaaaaaaaml\",\"aaaaaaaaaaaaaamm\",\"aaaaaaaaaaaaaamn\",\"aaaaaaaaaaaaaamo\",\"aaaaaaaaaaaaaamp\",\"aaaaaaaaaaaaaamq\",\"aaaaaaaaaaaaaamr\",\"aaaaaaaaaaaaaams\",\"aaaaaaaaaaaaaamt\",\"aaaaaaaaaaaaaamu\",\"aaaaaaaaaaaaaamv\",\"aaaaaaaaaaaaaamw\",\"aaaaaaaaaaaaaamx\",\"aaaaaaaaaaaaaamy\",\"aaaaaaaaaaaaaamz\",\"aaaaaaaaaaaaaana\",\"aaaaaaaaaaaaaanb\",\"aaaaaaaaaaaaaanc\",\"aaaaaaaaaaaaaand\",\"aaaaaaaaaaaaaane\",\"aaaaaaaaaaaaaanf\",\"aaaaaaaaaaaaaang\",\"aaaaaaaaaaaaaanh\",\"aaaaaaaaaaaaaani\",\"aaaaaaaaaaaaaanj\",\"aaaaaaaaaaaaaank\",\"aaaaaaaaaaaaaanl\",\"aaaaaaaaaaaaaanm\",\"aaaaaaaaaaaaaann\",\"aaaaaaaaaaaaaano\",\"aaaaaaaaaaaaaanp\",\"aaaaaaaaaaaaaanq\",\"aaaaaaaaaaaaaanr\",\"aaaaaaaaaaaaaans\",\"aaaaaaaaaaaaaant\",\"aaaaaaaaaaaaaanu\",\"aaaaaaaaaaaaaanv\",\"aaaaaaaaaaaaaanw\",\"aaaaaaaaaaaaaanx\",\"aaaaaaaaaaaaaany\",\"aaaaaaaaaaaaaanz\",\"aaaaaaaaaaaaaaoa\",\"aaaaaaaaaaaaaaob\",\"aaaaaaaaaaaaaaoc\",\"aaaaaaaaaaaaaaod\",\"aaaaaaaaaaaaaaoe\",\"aaaaaaaaaaaaaaof\",\"aaaaaaaaaaaaaaog\",\"aaaaaaaaaaaaaaoh\",\"aaaaaaaaaaaaaaoi\",\"aaaaaaaaaaaaaaoj\",\"aaaaaaaaaaaaaaok\",\"aaaaaaaaaaaaaaol\",\"aaaaaaaaaaaaaaom\",\"aaaaaaaaaaaaaaon\",\"aaaaaaaaaaaaaaoo\",\"aaaaaaaaaaaaaaop\",\"aaaaaaaaaaaaaaoq\",\"aaaaaaaaaaaaaaor\",\"aaaaaaaaaaaaaaos\",\"aaaaaaaaaaaaaaot\",\"aaaaaaaaaaaaaaou\",\"aaaaaaaaaaaaaaov\",\"aaaaaaaaaaaaaaow\",\"aaaaaaaaaaaaaaox\",\"aaaaaaaaaaaaaaoy\",\"aaaaaaaaaaaaaaoz\",\"aaaaaaaaaaaaaapa\",\"aaaaaaaaaaaaaapb\",\"aaaaaaaaaaaaaapc\",\"aaaaaaaaaaaaaapd\",\"aaaaaaaaaaaaaape\",\"aaaaaaaaaaaaaapf\",\"aaaaaaaaaaaaaapg\",\"aaaaaaaaaaaaaaph\",\"aaaaaaaaaaaaaapi\",\"aaaaaaaaaaaaaapj\",\"aaaaaaaaaaaaaapk\",\"aaaaaaaaaaaaaapl\",\"aaaaaaaaaaaaaapm\",\"aaaaaaaaaaaaaapn\",\"aaaaaaaaaaaaaapo\",\"aaaaaaaaaaaaaapp\",\"aaaaaaaaaaaaaapq\",\"aaaaaaaaaaaaaapr\",\"aaaaaaaaaaaaaaps\",\"aaaaaaaaaaaaaapt\",\"aaaaaaaaaaaaaapu\",\"aaaaaaaaaaaaaapv\",\"aaaaaaaaaaaaaapw\",\"aaaaaaaaaaaaaapx\",\"aaaaaaaaaaaaaapy\",\"aaaaaaaaaaaaaapz\",\"aaaaaaaaaaaaaaqa\",\"aaaaaaaaaaaaaaqb\",\"aaaaaaaaaaaaaaqc\",\"aaaaaaaaaaaaaaqd\",\"aaaaaaaaaaaaaaqe\",\"aaaaaaaaaaaaaaqf\",\"aaaaaaaaaaaaaaqg\",\"aaaaaaaaaaaaaaqh\",\"aaaaaaaaaaaaaaqi\",\"aaaaaaaaaaaaaaqj\",\"aaaaaaaaaaaaaaqk\",\"aaaaaaaaaaaaaaql\",\"aaaaaaaaaaaaaaqm\",\"aaaaaaaaaaaaaaqn\",\"aaaaaaaaaaaaaaqo\",\"aaaaaaaaaaaaaaqp\",\"aaaaaaaaaaaaaaqq\",\"aaaaaaaaaaaaaaqr\",\"aaaaaaaaaaaaaaqs\",\"aaaaaaaaaaaaaaqt\",\"aaaaaaaaaaaaaaqu\",\"aaaaaaaaaaaaaaqv\",\"aaaaaaaaaaaaaaqw\",\"aaaaaaaaaaaaaaqx\",\"aaaaaaaaaaaaaaqy\",\"aaaaaaaaaaaaaaqz\",\"aaaaaaaaaaaaaara\",\"aaaaaaaaaaaaaarb\",\"aaaaaaaaaaaaaarc\",\"aaaaaaaaaaaaaard\",\"aaaaaaaaaaaaaare\",\"aaaaaaaaaaaaaarf\",\"aaaaaaaaaaaaaarg\",\"aaaaaaaaaaaaaarh\",\"aaaaaaaaaaaaaari\",\"aaaaaaaaaaaaaarj\",\"aaaaaaaaaaaaaark\",\"aaaaaaaaaaaaaarl\",\"aaaaaaaaaaaaaarm\",\"aaaaaaaaaaaaaarn\",\"aaaaaaaaaaaaaaro\",\"aaaaaaaaaaaaaarp\",\"aaaaaaaaaaaaaarq\",\"aaaaaaaaaaaaaarr\",\"aaaaaaaaaaaaaars\",\"aaaaaaaaaaaaaart\",\"aaaaaaaaaaaaaaru\",\"aaaaaaaaaaaaaarv\",\"aaaaaaaaaaaaaarw\",\"aaaaaaaaaaaaaarx\",\"aaaaaaaaaaaaaary\",\"aaaaaaaaaaaaaarz\",\"aaaaaaaaaaaaaasa\",\"aaaaaaaaaaaaaasb\",\"aaaaaaaaaaaaaasc\",\"aaaaaaaaaaaaaasd\",\"aaaaaaaaaaaaaase\",\"aaaaaaaaaaaaaasf\",\"aaaaaaaaaaaaaasg\",\"aaaaaaaaaaaaaash\",\"aaaaaaaaaaaaaasi\",\"aaaaaaaaaaaaaasj\",\"aaaaaaaaaaaaaask\",\"aaaaaaaaaaaaaasl\",\"aaaaaaaaaaaaaasm\",\"aaaaaaaaaaaaaasn\",\"aaaaaaaaaaaaaaso\",\"aaaaaaaaaaaaaasp\",\"aaaaaaaaaaaaaasq\",\"aaaaaaaaaaaaaasr\",\"aaaaaaaaaaaaaass\",\"aaaaaaaaaaaaaast\",\"aaaaaaaaaaaaaasu\",\"aaaaaaaaaaaaaasv\",\"aaaaaaaaaaaaaasw\",\"aaaaaaaaaaaaaasx\",\"aaaaaaaaaaaaaasy\",\"aaaaaaaaaaaaaasz\",\"aaaaaaaaaaaaaata\",\"aaaaaaaaaaaaaatb\",\"aaaaaaaaaaaaaatc\",\"aaaaaaaaaaaaaatd\",\"aaaaaaaaaaaaaate\",\"aaaaaaaaaaaaaatf\",\"aaaaaaaaaaaaaatg\",\"aaaaaaaaaaaaaath\",\"aaaaaaaaaaaaaati\",\"aaaaaaaaaaaaaatj\",\"aaaaaaaaaaaaaatk\",\"aaaaaaaaaaaaaatl\",\"aaaaaaaaaaaaaatm\",\"aaaaaaaaaaaaaatn\",\"aaaaaaaaaaaaaato\",\"aaaaaaaaaaaaaatp\",\"aaaaaaaaaaaaaatq\",\"aaaaaaaaaaaaaatr\",\"aaaaaaaaaaaaaats\",\"aaaaaaaaaaaaaatt\",\"aaaaaaaaaaaaaatu\",\"aaaaaaaaaaaaaatv\",\"aaaaaaaaaaaaaatw\",\"aaaaaaaaaaaaaatx\",\"aaaaaaaaaaaaaaty\",\"aaaaaaaaaaaaaatz\",\"aaaaaaaaaaaaaaua\",\"aaaaaaaaaaaaaaub\",\"aaaaaaaaaaaaaauc\",\"aaaaaaaaaaaaaaud\",\"aaaaaaaaaaaaaaue\",\"aaaaaaaaaaaaaauf\",\"aaaaaaaaaaaaaaug\",\"aaaaaaaaaaaaaauh\",\"aaaaaaaaaaaaaaui\",\"aaaaaaaaaaaaaauj\",\"aaaaaaaaaaaaaauk\",\"aaaaaaaaaaaaaaul\",\"aaaaaaaaaaaaaaum\",\"aaaaaaaaaaaaaaun\",\"aaaaaaaaaaaaaauo\",\"aaaaaaaaaaaaaaup\",\"aaaaaaaaaaaaaauq\",\"aaaaaaaaaaaaaaur\",\"aaaaaaaaaaaaaaus\",\"aaaaaaaaaaaaaaut\",\"aaaaaaaaaaaaaauu\",\"aaaaaaaaaaaaaauv\",\"aaaaaaaaaaaaaauw\",\"aaaaaaaaaaaaaaux\",\"aaaaaaaaaaaaaauy\",\"aaaaaaaaaaaaaauz\",\"aaaaaaaaaaaaaava\",\"aaaaaaaaaaaaaavb\",\"aaaaaaaaaaaaaavc\",\"aaaaaaaaaaaaaavd\",\"aaaaaaaaaaaaaave\",\"aaaaaaaaaaaaaavf\",\"aaaaaaaaaaaaaavg\",\"aaaaaaaaaaaaaavh\",\"aaaaaaaaaaaaaavi\",\"aaaaaaaaaaaaaavj\",\"aaaaaaaaaaaaaavk\",\"aaaaaaaaaaaaaavl\",\"aaaaaaaaaaaaaavm\",\"aaaaaaaaaaaaaavn\",\"aaaaaaaaaaaaaavo\",\"aaaaaaaaaaaaaavp\",\"aaaaaaaaaaaaaavq\",\"aaaaaaaaaaaaaavr\",\"aaaaaaaaaaaaaavs\",\"aaaaaaaaaaaaaavt\",\"aaaaaaaaaaaaaavu\",\"aaaaaaaaaaaaaavv\",\"aaaaaaaaaaaaaavw\",\"aaaaaaaaaaaaaavx\",\"aaaaaaaaaaaaaavy\",\"aaaaaaaaaaaaaavz\",\"aaaaaaaaaaaaaawa\",\"aaaaaaaaaaaaaawb\",\"aaaaaaaaaaaaaawc\",\"aaaaaaaaaaaaaawd\",\"aaaaaaaaaaaaaawe\",\"aaaaaaaaaaaaaawf\",\"aaaaaaaaaaaaaawg\",\"aaaaaaaaaaaaaawh\",\"aaaaaaaaaaaaaawi\",\"aaaaaaaaaaaaaawj\",\"aaaaaaaaaaaaaawk\",\"aaaaaaaaaaaaaawl\",\"aaaaaaaaaaaaaawm\",\"aaaaaaaaaaaaaawn\",\"aaaaaaaaaaaaaawo\",\"aaaaaaaaaaaaaawp\",\"aaaaaaaaaaaaaawq\",\"aaaaaaaaaaaaaawr\",\"aaaaaaaaaaaaaaws\",\"aaaaaaaaaaaaaawt\",\"aaaaaaaaaaaaaawu\",\"aaaaaaaaaaaaaawv\",\"aaaaaaaaaaaaaaww\",\"aaaaaaaaaaaaaawx\",\"aaaaaaaaaaaaaawy\",\"aaaaaaaaaaaaaawz\",\"aaaaaaaaaaaaaaxa\",\"aaaaaaaaaaaaaaxb\",\"aaaaaaaaaaaaaaxc\",\"aaaaaaaaaaaaaaxd\",\"aaaaaaaaaaaaaaxe\",\"aaaaaaaaaaaaaaxf\",\"aaaaaaaaaaaaaaxg\",\"aaaaaaaaaaaaaaxh\",\"aaaaaaaaaaaaaaxi\",\"aaaaaaaaaaaaaaxj\",\"aaaaaaaaaaaaaaxk\",\"aaaaaaaaaaaaaaxl\",\"aaaaaaaaaaaaaaxm\",\"aaaaaaaaaaaaaaxn\",\"aaaaaaaaaaaaaaxo\",\"aaaaaaaaaaaaaaxp\",\"aaaaaaaaaaaaaaxq\",\"aaaaaaaaaaaaaaxr\",\"aaaaaaaaaaaaaaxs\",\"aaaaaaaaaaaaaaxt\",\"aaaaaaaaaaaaaaxu\",\"aaaaaaaaaaaaaaxv\",\"aaaaaaaaaaaaaaxw\",\"aaaaaaaaaaaaaaxx\",\"aaaaaaaaaaaaaaxy\",\"aaaaaaaaaaaaaaxz\",\"aaaaaaaaaaaaaaya\",\"aaaaaaaaaaaaaayb\",\"aaaaaaaaaaaaaayc\",\"aaaaaaaaaaaaaayd\",\"aaaaaaaaaaaaaaye\",\"aaaaaaaaaaaaaayf\",\"aaaaaaaaaaaaaayg\",\"aaaaaaaaaaaaaayh\",\"aaaaaaaaaaaaaayi\",\"aaaaaaaaaaaaaayj\",\"aaaaaaaaaaaaaayk\",\"aaaaaaaaaaaaaayl\",\"aaaaaaaaaaaaaaym\",\"aaaaaaaaaaaaaayn\",\"aaaaaaaaaaaaaayo\",\"aaaaaaaaaaaaaayp\",\"aaaaaaaaaaaaaayq\",\"aaaaaaaaaaaaaayr\",\"aaaaaaaaaaaaaays\",\"aaaaaaaaaaaaaayt\",\"aaaaaaaaaaaaaayu\",\"aaaaaaaaaaaaaayv\",\"aaaaaaaaaaaaaayw\",\"aaaaaaaaaaaaaayx\",\"aaaaaaaaaaaaaayy\",\"aaaaaaaaaaaaaayz\",\"aaaaaaaaaaaaaaza\",\"aaaaaaaaaaaaaazb\",\"aaaaaaaaaaaaaazc\",\"aaaaaaaaaaaaaazd\",\"aaaaaaaaaaaaaaze\",\"aaaaaaaaaaaaaazf\",\"aaaaaaaaaaaaaazg\",\"aaaaaaaaaaaaaazh\",\"aaaaaaaaaaaaaazi\",\"aaaaaaaaaaaaaazj\",\"aaaaaaaaaaaaaazk\",\"aaaaaaaaaaaaaazl\",\"aaaaaaaaaaaaaazm\",\"aaaaaaaaaaaaaazn\",\"aaaaaaaaaaaaaazo\",\"aaaaaaaaaaaaaazp\",\"aaaaaaaaaaaaaazq\",\"aaaaaaaaaaaaaazr\",\"aaaaaaaaaaaaaazs\",\"aaaaaaaaaaaaaazt\",\"aaaaaaaaaaaaaazu\",\"aaaaaaaaaaaaaazv\",\"aaaaaaaaaaaaaazw\",\"aaaaaaaaaaaaaazx\",\"aaaaaaaaaaaaaazy\",\"aaaaaaaaaaaaaazz\"]\n",
    "# b = [\n",
    "#   ['o','a','a','n'],\n",
    "#   ['e','t','a','e'],\n",
    "#   ['i','h','k','r'],\n",
    "#   ['i','f','l','v']\n",
    "# ]\n",
    "# w = [\"oath\",\"pea\",\"eat\",\"rain\",\"oathf\", \"ate\"]\n",
    "\n",
    "print(word_search_trie(b, w))"
   ]
  },
  {
   "cell_type": "code",
   "execution_count": null,
   "metadata": {},
   "outputs": [],
   "source": []
  }
 ],
 "metadata": {
  "kernelspec": {
   "display_name": "Python 3",
   "language": "python",
   "name": "python3"
  },
  "language_info": {
   "codemirror_mode": {
    "name": "ipython",
    "version": 3
   },
   "file_extension": ".py",
   "mimetype": "text/x-python",
   "name": "python",
   "nbconvert_exporter": "python",
   "pygments_lexer": "ipython3",
   "version": "3.7.5"
  }
 },
 "nbformat": 4,
 "nbformat_minor": 2
}
