{
 "cells": [
  {
   "cell_type": "code",
   "execution_count": 21,
   "metadata": {},
   "outputs": [
    {
     "name": "stdout",
     "output_type": "stream",
     "text": [
      "1 2 3 [1, 5] [2, 3, 4, 6]\n",
      "3 4\n",
      "3.5\n"
     ]
    }
   ],
   "source": [
    "\"\"\"\n",
    "There are two sorted arrays nums1 and nums2 of size m and n respectively.\n",
    "\n",
    "Find the median of the two sorted arrays. The overall run time complexity should be O(log (m+n)).\n",
    "\n",
    "You may assume nums1 and nums2 cannot be both empty.\n",
    "\n",
    "Example 1:\n",
    "\n",
    "nums1 = [1, 3]\n",
    "nums2 = [2]\n",
    "\n",
    "The median is 2.0\n",
    "Example 2:\n",
    "\n",
    "nums1 = [1, 2]\n",
    "nums2 = [3, 4]\n",
    "\n",
    "The median is (2 + 3)/2 = 2.5\n",
    "\"\"\"\n",
    "def findMedianSortedArrays(nums1, nums2):\n",
    "        m, n = len(nums1), len(nums2)\n",
    "        \n",
    "        if m > n:\n",
    "            nums1, nums2, m, n = nums2, nums1, n, m\n",
    "        \n",
    "        half_l = (m+n+1)//2\n",
    "        if (m+n) % 2 == 0:\n",
    "            even = True \n",
    "            \n",
    "        else :\n",
    "            even =False\n",
    "            \n",
    "        if m == 0:\n",
    "            if even:\n",
    "                return (nums2[half_l-1] + nums2[half_l]) / 2\n",
    "            else:\n",
    "                return nums2[half_l-1]\n",
    "            \n",
    "        imin, imax = 0, m\n",
    "        while imin <=imax:\n",
    "            i = (imin+imax) //2\n",
    "            j = half_l  - i\n",
    "            print(i, j, half_l, nums1, nums2)\n",
    "            if i < m and nums2[j-1] > nums1[i]:\n",
    "            # i is too small, must increase it\n",
    "                imin = i + 1\n",
    "            elif i > 0 and nums1[i-1] > nums2[j]:\n",
    "                # i is too big, must decrease it\n",
    "                imax = i - 1\n",
    "            else:\n",
    "                # i is perfect\n",
    "                if i == 0: max_of_left = nums2[j-1]\n",
    "                elif j == 0: max_of_left = nums1[i-1]\n",
    "                else: \n",
    "                    max_of_left = max(nums1[i-1], nums2[j-1])\n",
    "\n",
    "                if not even:\n",
    "                    return max_of_left\n",
    "                \n",
    "                if i==m: min_of_right = nums2[j]\n",
    "                elif j==n:min_of_right = nums1[i]\n",
    "                else:\n",
    "                    min_of_right = min(nums1[i], nums2[j])\n",
    "                \n",
    "                print(max_of_left, min_of_right)\n",
    "                return (max_of_left + min_of_right) /2\n",
    "\n",
    "s1 = [1,3]\n",
    "s2 = [2]\n",
    "# s1 = [1,2]\n",
    "# s2 = [3,4]\n",
    "s1 = [100001]\n",
    "s2 = [100000]\n",
    "\n",
    "s1 = [1,5]\n",
    "s2 = [2,3,4,6]\n",
    "print(findMedianSortedArrays(s1, s2))\n"
   ]
  },
  {
   "cell_type": "code",
   "execution_count": null,
   "metadata": {},
   "outputs": [],
   "source": []
  }
 ],
 "metadata": {
  "kernelspec": {
   "display_name": "Python 3",
   "language": "python",
   "name": "python3"
  },
  "language_info": {
   "codemirror_mode": {
    "name": "ipython",
    "version": 3
   },
   "file_extension": ".py",
   "mimetype": "text/x-python",
   "name": "python",
   "nbconvert_exporter": "python",
   "pygments_lexer": "ipython3",
   "version": "3.7.5"
  }
 },
 "nbformat": 4,
 "nbformat_minor": 2
}
