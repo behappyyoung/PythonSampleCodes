{
 "cells": [
  {
   "cell_type": "code",
   "execution_count": 4,
   "id": "31493b93",
   "metadata": {},
   "outputs": [
    {
     "data": {
      "text/plain": [
       "4"
      ]
     },
     "execution_count": 4,
     "metadata": {},
     "output_type": "execute_result"
    }
   ],
   "source": [
    "\"\"\"\n",
    "Count Binary Substrings\n",
    "https://leetcode.com/problems/count-binary-substrings/\n",
    "Example 1:\n",
    "\n",
    "Input: s = \"00110011\"\n",
    "Output: 6\n",
    "Explanation: There are 6 substrings that have equal number of consecutive 1's and 0's: \"0011\", \"01\", \"1100\", \"10\", \"0011\", and \"01\".\n",
    "Notice that some of these substrings repeat and are counted the number of times they occur.\n",
    "Also, \"00110011\" is not a valid substring because all the 0's (and 1's) are not grouped together.\n",
    "Example 2:\n",
    "\n",
    "Input: s = \"10101\"\n",
    "Output: 4\n",
    "Explanation: There are 4 substrings: \"10\", \"01\", \"10\", \"01\" that have equal number of consecutive 1's and 0's.\n",
    "\n",
    "\n",
    "\"\"\"\n",
    "\n",
    "def countBinarySubstrings(s):\n",
    "    ans, prev, cur = 0, 0, 1\n",
    "    for i in range(1, len(s)):\n",
    "        if s[i] != s[i-1]:\n",
    "            ans += min(prev, cur)\n",
    "            prev = cur\n",
    "            cur = 1\n",
    "        else:\n",
    "            cur +=1\n",
    "        \n",
    "    ans += min(prev, cur)\n",
    "    return ans\n",
    "\n",
    "\n",
    "s = \"00110011\"\n",
    "s = \"10101\"\n",
    "countBinarySubstrings(s)"
   ]
  }
 ],
 "metadata": {
  "kernelspec": {
   "display_name": "Django Shell-Plus",
   "language": "python",
   "name": "django_extensions"
  },
  "language_info": {
   "codemirror_mode": {
    "name": "ipython",
    "version": 3
   },
   "file_extension": ".py",
   "mimetype": "text/x-python",
   "name": "python",
   "nbconvert_exporter": "python",
   "pygments_lexer": "ipython3",
   "version": "3.6.9"
  }
 },
 "nbformat": 4,
 "nbformat_minor": 5
}
