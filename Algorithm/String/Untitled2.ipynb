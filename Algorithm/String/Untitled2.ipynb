{
 "cells": [
  {
   "cell_type": "code",
   "execution_count": 38,
   "id": "ac7fc689",
   "metadata": {},
   "outputs": [
    {
     "name": "stdout",
     "output_type": "stream",
     "text": [
      "b2 ['B2', 'b2']\n",
      "1b2 ['1B2', '1b2']\n",
      "a1b2 ['A1B2', 'a1B2', 'A1b2', 'a1b2']\n"
     ]
    },
    {
     "data": {
      "text/plain": [
       "['A1B2', 'a1B2', 'A1b2', 'a1b2']"
      ]
     },
     "execution_count": 38,
     "metadata": {},
     "output_type": "execute_result"
    }
   ],
   "source": [
    "def letterCasePermutation(s):\n",
    "        if not s:\n",
    "            return []\n",
    "        \n",
    "        def makePermutation(subs):\n",
    "            if len(subs) ==1:\n",
    "                if subs.isnumeric():\n",
    "                    return [str(subs)]                    \n",
    "                else:\n",
    "                    return [subs.upper(), subs.lower()]\n",
    "\n",
    "                \n",
    "            subs_perm = makePermutation(subs[1:])\n",
    "            new_arr = []\n",
    "            for i in subs_perm:\n",
    "                if subs[0].isnumeric():\n",
    "                    new_arr.append(str(subs[0]) + i)                    \n",
    "                else:\n",
    "                    new_arr.append(subs[0].upper() + i)\n",
    "                    new_arr.append(subs[0].lower() + i)\n",
    "\n",
    "            print(subs, new_arr)\n",
    "            return new_arr\n",
    "        \n",
    "        output = makePermutation(s)\n",
    "\n",
    "        return output\n",
    "\n",
    "# s = 'ab1c'\n",
    "s = \"a1b2\"\n",
    "letterCasePermutation(s)"
   ]
  },
  {
   "cell_type": "code",
   "execution_count": 50,
   "id": "cbe3ead4",
   "metadata": {},
   "outputs": [
    {
     "name": "stdout",
     "output_type": "stream",
     "text": [
      "['abc'] ['a', 'b', 'c'] False\n",
      "abc 00000000000000000abc cba abc abc ba\n"
     ]
    }
   ],
   "source": [
    "s = 'abc'\n",
    "s[1].upper()\n",
    "a = s.split()\n",
    "\n",
    "print(a,  list(s), \"s\".isnumeric())\n",
    "z = s.zfill(20)\n",
    "r = s[::-1]\n",
    "print(s, z, r, s[:], s[::], s[1::-1] )"
   ]
  }
 ],
 "metadata": {
  "kernelspec": {
   "display_name": "Python 3",
   "language": "python",
   "name": "python3"
  },
  "language_info": {
   "codemirror_mode": {
    "name": "ipython",
    "version": 3
   },
   "file_extension": ".py",
   "mimetype": "text/x-python",
   "name": "python",
   "nbconvert_exporter": "python",
   "pygments_lexer": "ipython3",
   "version": "3.6.9"
  }
 },
 "nbformat": 4,
 "nbformat_minor": 5
}
