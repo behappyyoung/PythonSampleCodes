{
 "cells": [
  {
   "cell_type": "code",
   "execution_count": null,
   "id": "79fe8939",
   "metadata": {},
   "outputs": [],
   "source": [
    "\"\"\"\n",
    "Longest Uncommon Subsequence II\n",
    "\n",
    "Input: strs = [\"aba\",\"cdc\",\"eae\"]\n",
    "Output: 3\n",
    "\n",
    "[\"aaa\",\"aaa\",\"aa\"]\n",
    "-1\n",
    "\n",
    "\"\"\""
   ]
  },
  {
   "cell_type": "code",
   "execution_count": 35,
   "id": "5518dbd0",
   "metadata": {},
   "outputs": [],
   "source": [
    "def findLUSlength(strs) -> int:\n",
    "    def checkSub(c_str):\n",
    "        for s in strs:\n",
    "            if len(s) <= len(c_str):\n",
    "                pass\n",
    "            else:\n",
    "                i = j = 0\n",
    "                while i < len(c_str):\n",
    "                    while j < len(s):\n",
    "                        if c_str[i] == s[j]:\n",
    "                            i += 1\n",
    "                            j += 1\n",
    "                        else:\n",
    "                            j += 1\n",
    "                        if i == len(c_str):\n",
    "                            return True\n",
    "                    break\n",
    "        return False\n",
    "                \n",
    "    max_list = []\n",
    "    max_dict = {}\n",
    "    string_check = {}\n",
    "    for s in strs:\n",
    "        ls = len(s)\n",
    "        if ls not in max_list:\n",
    "            max_list.append(ls)\n",
    "            \n",
    "        if ls in max_dict:\n",
    "            max_dict[ls].append(s)\n",
    "        else:\n",
    "            max_dict[ls] = [s]\n",
    "        \n",
    "        if s in string_check: # get only unique string\n",
    "            string_check[s] = False\n",
    "        else:\n",
    "            string_check[s] = True\n",
    "    \n",
    "    print(max_list, max_dict, string_check)\n",
    "    max_number = max(max_list)\n",
    "    for l_str in max_dict[max_number]:# only for the max strings\n",
    "        if string_check[l_str]:\n",
    "            return max_number\n",
    "    max_list.remove(max_number)\n",
    "    while max_list:\n",
    "        max_number = max(max_list)\n",
    "        for l_str in max_dict[max_number]:\n",
    "            if string_check[l_str]:\n",
    "                if not checkSub(l_str):\n",
    "                    return max_number\n",
    "        max_list.remove(max_number)\n",
    "    return -1\n",
    "\n",
    "\n",
    "    "
   ]
  },
  {
   "cell_type": "code",
   "execution_count": 36,
   "id": "8eea3dd5",
   "metadata": {},
   "outputs": [
    {
     "name": "stdout",
     "output_type": "stream",
     "text": [
      "[3] {3: ['aba', 'cdc', 'eae', 'aba']} {'aba': False, 'cdc': True, 'eae': True}\n",
      "3\n",
      "[3, 2] {3: ['aaa', 'aaa'], 2: ['aa']} {'aaa': False, 'aa': True}\n",
      "-1\n",
      "[6, 2] {6: ['aabbcc', 'aabbcc'], 2: ['cb']} {'aabbcc': False, 'cb': True}\n",
      "2\n"
     ]
    }
   ],
   "source": [
    "strs = [\"aba\",\"cdc\",\"eae\", \"aba\"]\n",
    "re = findLUSlength(strs)\n",
    "print(re)\n",
    "strs = [\"aaa\",\"aaa\",\"aa\"]\n",
    "re = findLUSlength(strs)\n",
    "print(re)\n",
    "strs = [\"aabbcc\", \"aabbcc\",\"cb\"]\n",
    "re = findLUSlength(strs)\n",
    "print(re)"
   ]
  }
 ],
 "metadata": {
  "kernelspec": {
   "display_name": "Python 3",
   "language": "python",
   "name": "python3"
  },
  "language_info": {
   "codemirror_mode": {
    "name": "ipython",
    "version": 3
   },
   "file_extension": ".py",
   "mimetype": "text/x-python",
   "name": "python",
   "nbconvert_exporter": "python",
   "pygments_lexer": "ipython3",
   "version": "3.6.9"
  }
 },
 "nbformat": 4,
 "nbformat_minor": 5
}
