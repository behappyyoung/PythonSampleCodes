{
 "cells": [
  {
   "cell_type": "code",
   "execution_count": 7,
   "id": "09a8fde1",
   "metadata": {},
   "outputs": [
    {
     "name": "stdout",
     "output_type": "stream",
     "text": [
      "115 117 u\n",
      "6 97 122 65\n"
     ]
    }
   ],
   "source": [
    "char = 's'\n",
    "chr(ord(char) + 2)\n",
    "print(ord(char), ord(char)+2, chr(ord(char) + 2))\n",
    "l = [1, 2, 3]\n",
    "print(sum(l), ord('a'), ord('z'), ord('A'))"
   ]
  }
 ],
 "metadata": {
  "kernelspec": {
   "display_name": "Python 3",
   "language": "python",
   "name": "python3"
  },
  "language_info": {
   "codemirror_mode": {
    "name": "ipython",
    "version": 3
   },
   "file_extension": ".py",
   "mimetype": "text/x-python",
   "name": "python",
   "nbconvert_exporter": "python",
   "pygments_lexer": "ipython3",
   "version": "3.6.9"
  }
 },
 "nbformat": 4,
 "nbformat_minor": 5
}
