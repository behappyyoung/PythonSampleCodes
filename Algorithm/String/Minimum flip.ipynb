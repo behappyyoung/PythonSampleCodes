{
 "cells": [
  {
   "cell_type": "code",
   "execution_count": null,
   "id": "8f43e664",
   "metadata": {},
   "outputs": [],
   "source": [
    "\"\"\"\n",
    "Minimum flips to make all 1s in left and 0s in right \n",
    "\n",
    "Input: 1011000  \n",
    "Output: 1\n",
    "1 flip is required to make it 1111000.\n",
    "\n",
    "Input : 00001 \n",
    "Output : 2\n",
    "2 flips required to make it 10000.\n",
    "\n",
    "\"\"\"\n",
    "\n"
   ]
  },
  {
   "cell_type": "code",
   "execution_count": null,
   "id": "4eae861d",
   "metadata": {},
   "outputs": [],
   "source": [
    "\n"
   ]
  },
  {
   "cell_type": "code",
   "execution_count": null,
   "id": "6158cdce",
   "metadata": {},
   "outputs": [],
   "source": [
    "\"\"\"\n",
    "Minimum Number of Flips to Make the Binary String Alternating\n",
    "\n",
    "Example 1:\n",
    "\n",
    "Input: s = \"111000\"\n",
    "Output: 2\n",
    "Explanation: Use the first operation two times to make s = \"100011\".\n",
    "Then, use the second operation on the third and sixth elements to make s = \"101010\".\n",
    "Example 2:\n",
    "\n",
    "Input: s = \"010\"\n",
    "Output: 0\n",
    "Explanation: The string is already alternating.\n",
    "Example 3:\n",
    "\n",
    "Input: s = \"1110\"\n",
    "Output: 1\n",
    "Explanation: Use the second operation on the second element to make s = \"1010\".\n",
    "\n",
    "\"\"\""
   ]
  },
  {
   "cell_type": "code",
   "execution_count": 13,
   "id": "ebccd3a8",
   "metadata": {},
   "outputs": [
    {
     "name": "stdout",
     "output_type": "stream",
     "text": [
      "1 0 1 0\n",
      "1 1 1 1\n",
      "1 0 2 1\n",
      "0 1 3 1\n",
      "0 0 3 2\n",
      "0 1 4 2\n",
      "0 0 0 1\n",
      "1 1 0 2\n",
      "0 0 0 3\n",
      "1 0 1 0\n",
      "1 1 1 1\n",
      "1 0 2 1\n",
      "0 1 3 1\n"
     ]
    },
    {
     "data": {
      "text/plain": [
       "1"
      ]
     },
     "execution_count": 13,
     "metadata": {},
     "output_type": "execute_result"
    }
   ],
   "source": [
    "def minFlips(s):\n",
    "    one_odd = 0\n",
    "    one_even = 0\n",
    "\n",
    "    for i in range(len(s)):\n",
    "        if i % 2 == 1:  # odd\n",
    "            if s[i] == '0':\n",
    "                one_even += 1\n",
    "            else:\n",
    "                one_odd += 1\n",
    "        else:\n",
    "            if s[i] == '1':\n",
    "                one_even += 1\n",
    "            else:\n",
    "                one_odd += 1\n",
    "\n",
    "        print(s[i], i%2, one_even, one_odd)\n",
    "    return min(one_even, one_odd)\n",
    "\n",
    "minFlips(\"111000\")\n",
    "minFlips(\"010\")\n",
    "minFlips(\"1110\")"
   ]
  }
 ],
 "metadata": {
  "kernelspec": {
   "display_name": "Django Shell-Plus",
   "language": "python",
   "name": "django_extensions"
  },
  "language_info": {
   "codemirror_mode": {
    "name": "ipython",
    "version": 3
   },
   "file_extension": ".py",
   "mimetype": "text/x-python",
   "name": "python",
   "nbconvert_exporter": "python",
   "pygments_lexer": "ipython3",
   "version": "3.6.9"
  }
 },
 "nbformat": 4,
 "nbformat_minor": 5
}
