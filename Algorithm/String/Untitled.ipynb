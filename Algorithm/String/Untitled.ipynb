{
 "cells": [
  {
   "cell_type": "code",
   "execution_count": 103,
   "metadata": {},
   "outputs": [
    {
     "name": "stdout",
     "output_type": "stream",
     "text": [
      "{'Z': 0, 'C': -1, 'R': -1, 'V': -1, '9': -1} [0] 0 372  ['C', 'R', 'V', '9']\n",
      "{'Z': 0, 'C': 0, 'R': -1, 'V': -1, '9': -1} [0, 1] 1 372  ['R', 'V', '9']\n",
      "{'Z': 0, 'C': 0, 'R': 0, 'V': -1, '9': -1} [0, 1, 2] 2 372  ['V', '9']\n",
      "{'Z': 0, 'C': 0, 'R': 0, 'V': 0, '9': -1} [0, 1, 2, 3] 3 372  ['9']\n",
      "{'Z': 0, 'C': 0, 'R': 0, 'V': 1, '9': -1} [0, 1, 2, 3, 7] 7 372  ['9']\n",
      "{'Z': 0, 'C': 0, 'R': 0, 'V': 2, '9': -1} [0, 1, 2, 3, 7, 29] 29 372  ['9']\n",
      "{'Z': 0, 'C': 0, 'R': 0, 'V': 2, '9': 0} [0, 1, 2, 3, 7, 29, 31] 31 372  []\n",
      "31 0 Z ZCRVpoDVpWvwexDhBm43OmKcSSq3EV89 0\n",
      "{'Z': 1, 'C': 0, 'R': 0, 'V': 2, '9': 0} [0, 1, 2, 3, 7, 29, 31, 37] 37 31 ZCRVpoDVpWvwexDhBm43OmKcSSq3EV89 []\n",
      "37 0 Z ZCRVpoDVpWvwexDhBm43OmKcSSq3EV89L1iEvZ 1\n",
      "37 [1, 2, 3, 7, 29, 31, 37] C 0\n",
      "{'Z': 0, 'C': 1, 'R': 0, 'V': 2, '9': 0} [1, 2, 3, 7, 29, 31, 37, 42] 42 31 ZCRVpoDVpWvwexDhBm43OmKcSSq3EV89 []\n",
      "42 1 C CRVpoDVpWvwexDhBm43OmKcSSq3EV89L1iEvZkFQ3C 1\n",
      "42 [2, 3, 7, 29, 31, 37, 42] R 0\n",
      "{'Z': 1, 'C': 0, 'R': 0, 'V': 2, '9': 0} [2, 3, 7, 29, 31, 37, 42, 46] 46 31 ZCRVpoDVpWvwexDhBm43OmKcSSq3EV89 []\n",
      "46 2 R RVpoDVpWvwexDhBm43OmKcSSq3EV89L1iEvZkFQ3CuwGZ 0\n",
      "{'Z': 1, 'C': 0, 'R': 1, 'V': 2, '9': 0} [2, 3, 7, 29, 31, 37, 42, 46, 60] 60 31 ZCRVpoDVpWvwexDhBm43OmKcSSq3EV89 []\n",
      "60 2 R RVpoDVpWvwexDhBm43OmKcSSq3EV89L1iEvZkFQ3CuwGZ4bt3uQFAWtnW8R 1\n",
      "60 [3, 7, 29, 31, 37, 42, 46, 60] V 2\n",
      "60 [7, 29, 31, 37, 42, 46, 60] V 1\n",
      "60 [29, 31, 37, 42, 46, 60] V 0\n",
      "{'Z': 1, 'C': 0, 'R': 0, 'V': 0, '9': 1} [29, 31, 37, 42, 46, 60, 71] 71 31 ZCRVpoDVpWvwexDhBm43OmKcSSq3EV89 []\n",
      "71 29 V V89L1iEvZkFQ3CuwGZ4bt3uQFAWtnW8R4zOoFbPuFf9 0\n",
      "{'Z': 2, 'C': 0, 'R': 0, 'V': 0, '9': 1} [29, 31, 37, 42, 46, 60, 71, 75] 75 31 ZCRVpoDVpWvwexDhBm43OmKcSSq3EV89 []\n",
      "75 29 V V89L1iEvZkFQ3CuwGZ4bt3uQFAWtnW8R4zOoFbPuFf9PWbZ 0\n",
      "{'Z': 2, 'C': 1, 'R': 0, 'V': 0, '9': 1} [29, 31, 37, 42, 46, 60, 71, 75, 82] 82 31 ZCRVpoDVpWvwexDhBm43OmKcSSq3EV89 []\n",
      "82 29 V V89L1iEvZkFQ3CuwGZ4bt3uQFAWtnW8R4zOoFbPuFf9PWbZGxUaelC 0\n",
      "{'Z': 3, 'C': 1, 'R': 0, 'V': 0, '9': 1} [29, 31, 37, 42, 46, 60, 71, 75, 82, 88] 88 31 ZCRVpoDVpWvwexDhBm43OmKcSSq3EV89 []\n",
      "88 29 V V89L1iEvZkFQ3CuwGZ4bt3uQFAWtnW8R4zOoFbPuFf9PWbZGxUaelCi88dLZ 0\n",
      "{'Z': 3, 'C': 1, 'R': 0, 'V': 1, '9': 1} [29, 31, 37, 42, 46, 60, 71, 75, 82, 88, 95] 95 31 ZCRVpoDVpWvwexDhBm43OmKcSSq3EV89 []\n",
      "95 29 V V89L1iEvZkFQ3CuwGZ4bt3uQFAWtnW8R4zOoFbPuFf9PWbZGxUaelCi88dLZMw77W2V 1\n",
      "95 [31, 37, 42, 46, 60, 71, 75, 82, 88, 95] 9 1\n",
      "95 [37, 42, 46, 60, 71, 75, 82, 88, 95] Z 3\n",
      "95 [42, 46, 60, 71, 75, 82, 88, 95] C 1\n",
      "95 [46, 60, 71, 75, 82, 88, 95] Z 2\n",
      "95 [60, 71, 75, 82, 88, 95] R 0\n",
      "{'Z': 1, 'C': 0, 'R': 0, 'V': 1, '9': 0} [60, 71, 75, 82, 88, 95, 97] 97 31 ZCRVpoDVpWvwexDhBm43OmKcSSq3EV89 []\n",
      "97 60 R R4zOoFbPuFf9PWbZGxUaelCi88dLZMw77W2VGV 0\n",
      "{'Z': 1, 'C': 0, 'R': 1, 'V': 1, '9': 0} [60, 71, 75, 82, 88, 95, 97, 110] 110 31 ZCRVpoDVpWvwexDhBm43OmKcSSq3EV89 []\n",
      "110 60 R R4zOoFbPuFf9PWbZGxUaelCi88dLZMw77W2VGVtKO4rYl361MBR 1\n",
      "110 [71, 75, 82, 88, 95, 97, 110] 9 0\n",
      "{'Z': 1, 'C': 0, 'R': 0, 'V': 2, '9': 0} [71, 75, 82, 88, 95, 97, 110, 126] 126 31 ZCRVpoDVpWvwexDhBm43OmKcSSq3EV89 []\n",
      "126 71 9 9PWbZGxUaelCi88dLZMw77W2VGVtKO4rYl361MBRa51fdxb46zlNNOAV 0\n",
      "{'Z': 1, 'C': 0, 'R': 0, 'V': 3, '9': 0} [71, 75, 82, 88, 95, 97, 110, 126, 144] 144 31 ZCRVpoDVpWvwexDhBm43OmKcSSq3EV89 []\n",
      "144 71 9 9PWbZGxUaelCi88dLZMw77W2VGVtKO4rYl361MBRa51fdxb46zlNNOAViT718vddMQgPU30P3V 0\n",
      "{'Z': 1, 'C': 0, 'R': 0, 'V': 4, '9': 0} [71, 75, 82, 88, 95, 97, 110, 126, 144, 150] 150 31 ZCRVpoDVpWvwexDhBm43OmKcSSq3EV89 []\n",
      "150 71 9 9PWbZGxUaelCi88dLZMw77W2VGVtKO4rYl361MBRa51fdxb46zlNNOAViT718vddMQgPU30P3Vm4u5zV 0\n",
      "{'Z': 1, 'C': 1, 'R': 0, 'V': 4, '9': 0} [71, 75, 82, 88, 95, 97, 110, 126, 144, 150, 166] 166 31 ZCRVpoDVpWvwexDhBm43OmKcSSq3EV89 []\n",
      "166 71 9 9PWbZGxUaelCi88dLZMw77W2VGVtKO4rYl361MBRa51fdxb46zlNNOAViT718vddMQgPU30P3Vm4u5zVAXgOgN8fieoHwBLC 0\n",
      "{'Z': 2, 'C': 1, 'R': 0, 'V': 4, '9': 0} [71, 75, 82, 88, 95, 97, 110, 126, 144, 150, 166, 172] 172 31 ZCRVpoDVpWvwexDhBm43OmKcSSq3EV89 []\n",
      "172 71 9 9PWbZGxUaelCi88dLZMw77W2VGVtKO4rYl361MBRa51fdxb46zlNNOAViT718vddMQgPU30P3Vm4u5zVAXgOgN8fieoHwBLCID7GeZ 0\n",
      "{'Z': 3, 'C': 1, 'R': 0, 'V': 4, '9': 0} [71, 75, 82, 88, 95, 97, 110, 126, 144, 150, 166, 172, 180] 180 31 ZCRVpoDVpWvwexDhBm43OmKcSSq3EV89 []\n",
      "180 71 9 9PWbZGxUaelCi88dLZMw77W2VGVtKO4rYl361MBRa51fdxb46zlNNOAViT718vddMQgPU30P3Vm4u5zVAXgOgN8fieoHwBLCID7GeZIMmxt6YZ 0\n",
      "{'Z': 3, 'C': 1, 'R': 1, 'V': 4, '9': 0} [71, 75, 82, 88, 95, 97, 110, 126, 144, 150, 166, 172, 180, 186] 186 31 ZCRVpoDVpWvwexDhBm43OmKcSSq3EV89 []\n",
      "186 71 9 9PWbZGxUaelCi88dLZMw77W2VGVtKO4rYl361MBRa51fdxb46zlNNOAViT718vddMQgPU30P3Vm4u5zVAXgOgN8fieoHwBLCID7GeZIMmxt6YZpvKKqR 0\n",
      "{'Z': 3, 'C': 1, 'R': 1, 'V': 4, '9': 1} [71, 75, 82, 88, 95, 97, 110, 126, 144, 150, 166, 172, 180, 186, 202] 202 31 ZCRVpoDVpWvwexDhBm43OmKcSSq3EV89 []\n",
      "202 71 9 9PWbZGxUaelCi88dLZMw77W2VGVtKO4rYl361MBRa51fdxb46zlNNOAViT718vddMQgPU30P3Vm4u5zVAXgOgN8fieoHwBLCID7GeZIMmxt6YZpvKKqRsfay1E0cgKjWvak9 1\n",
      "202 [75, 82, 88, 95, 97, 110, 126, 144, 150, 166, 172, 180, 186, 202] Z 3\n",
      "202 [82, 88, 95, 97, 110, 126, 144, 150, 166, 172, 180, 186, 202] C 1\n",
      "202 [88, 95, 97, 110, 126, 144, 150, 166, 172, 180, 186, 202] Z 2\n",
      "202 [95, 97, 110, 126, 144, 150, 166, 172, 180, 186, 202] V 4\n",
      "202 [97, 110, 126, 144, 150, 166, 172, 180, 186, 202] V 3\n",
      "202 [110, 126, 144, 150, 166, 172, 180, 186, 202] R 1\n",
      "202 [126, 144, 150, 166, 172, 180, 186, 202] V 2\n",
      "202 [144, 150, 166, 172, 180, 186, 202] V 1\n",
      "202 [150, 166, 172, 180, 186, 202] V 0\n",
      "{'Z': 1, 'C': 0, 'R': 1, 'V': 0, '9': 0} [150, 166, 172, 180, 186, 202, 214] 214 31 ZCRVpoDVpWvwexDhBm43OmKcSSq3EV89 []\n",
      "214 150 V VAXgOgN8fieoHwBLCID7GeZIMmxt6YZpvKKqRsfay1E0cgKjWvak9JHdwHSsoN8eR 0\n",
      "{'Z': 2, 'C': 0, 'R': 1, 'V': 0, '9': 0} [150, 166, 172, 180, 186, 202, 214, 217] 217 31 ZCRVpoDVpWvwexDhBm43OmKcSSq3EV89 []\n",
      "217 150 V VAXgOgN8fieoHwBLCID7GeZIMmxt6YZpvKKqRsfay1E0cgKjWvak9JHdwHSsoN8eRB0Z 0\n",
      "{'Z': 2, 'C': 0, 'R': 2, 'V': 0, '9': 0} [150, 166, 172, 180, 186, 202, 214, 217, 221] 221 31 ZCRVpoDVpWvwexDhBm43OmKcSSq3EV89 []\n",
      "221 150 V VAXgOgN8fieoHwBLCID7GeZIMmxt6YZpvKKqRsfay1E0cgKjWvak9JHdwHSsoN8eRB0ZP6xR 0\n",
      "{'Z': 2, 'C': 0, 'R': 3, 'V': 0, '9': 0} [150, 166, 172, 180, 186, 202, 214, 217, 221, 252] 252 31 ZCRVpoDVpWvwexDhBm43OmKcSSq3EV89 []\n",
      "252 150 V VAXgOgN8fieoHwBLCID7GeZIMmxt6YZpvKKqRsfay1E0cgKjWvak9JHdwHSsoN8eRB0ZP6xRQojkIl8dqH6i5mQf21X7JhgJ5xd6smR 0\n",
      "{'Z': 2, 'C': 0, 'R': 3, 'V': 0, '9': 1} [150, 166, 172, 180, 186, 202, 214, 217, 221, 252, 269] 269 31 ZCRVpoDVpWvwexDhBm43OmKcSSq3EV89 []\n",
      "269 150 V VAXgOgN8fieoHwBLCID7GeZIMmxt6YZpvKKqRsfay1E0cgKjWvak9JHdwHSsoN8eRB0ZP6xRQojkIl8dqH6i5mQf21X7JhgJ5xd6smRbv0KPmyns3YHeNHc9 0\n",
      "{'Z': 2, 'C': 0, 'R': 3, 'V': 1, '9': 1} [150, 166, 172, 180, 186, 202, 214, 217, 221, 252, 269, 311] 311 31 ZCRVpoDVpWvwexDhBm43OmKcSSq3EV89 []\n",
      "311 150 V VAXgOgN8fieoHwBLCID7GeZIMmxt6YZpvKKqRsfay1E0cgKjWvak9JHdwHSsoN8eRB0ZP6xRQojkIl8dqH6i5mQf21X7JhgJ5xd6smRbv0KPmyns3YHeNHc9oGNi4KGIhjiiaPYl4f8YQ6U7PEYIwv6guxv3QGpUcV 1\n",
      "311 [166, 172, 180, 186, 202, 214, 217, 221, 252, 269, 311] C 0\n",
      "{'Z': 2, 'C': 0, 'R': 3, 'V': 0, '9': 2} [166, 172, 180, 186, 202, 214, 217, 221, 252, 269, 311, 346] 346 31 ZCRVpoDVpWvwexDhBm43OmKcSSq3EV89 []\n",
      "346 166 C CID7GeZIMmxt6YZpvKKqRsfay1E0cgKjWvak9JHdwHSsoN8eRB0ZP6xRQojkIl8dqH6i5mQf21X7JhgJ5xd6smRbv0KPmyns3YHeNHc9oGNi4KGIhjiiaPYl4f8YQ6U7PEYIwv6guxv3QGpUcVEtwsydy53vTKppaXdQfrd4PSqnz8I4716g9 0\n",
      "{'Z': 2, 'C': 1, 'R': 3, 'V': 0, '9': 2} [166, 172, 180, 186, 202, 214, 217, 221, 252, 269, 311, 346, 348] 348 31 ZCRVpoDVpWvwexDhBm43OmKcSSq3EV89 []\n",
      "348 166 C CID7GeZIMmxt6YZpvKKqRsfay1E0cgKjWvak9JHdwHSsoN8eRB0ZP6xRQojkIl8dqH6i5mQf21X7JhgJ5xd6smRbv0KPmyns3YHeNHc9oGNi4KGIhjiiaPYl4f8YQ6U7PEYIwv6guxv3QGpUcVEtwsydy53vTKppaXdQfrd4PSqnz8I4716g9fC 1\n",
      "348 [172, 180, 186, 202, 214, 217, 221, 252, 269, 311, 346, 348] Z 2\n",
      "348 [180, 186, 202, 214, 217, 221, 252, 269, 311, 346, 348] Z 1\n",
      "348 [186, 202, 214, 217, 221, 252, 269, 311, 346, 348] R 3\n",
      "348 [202, 214, 217, 221, 252, 269, 311, 346, 348] 9 2\n",
      "348 [214, 217, 221, 252, 269, 311, 346, 348] R 2\n",
      "348 [217, 221, 252, 269, 311, 346, 348] Z 0\n",
      "{'Z': 0, 'C': 0, 'R': 2, 'V': 0, '9': 1} [217, 221, 252, 269, 311, 346, 348, 367] 367 31 ZCRVpoDVpWvwexDhBm43OmKcSSq3EV89 []\n",
      "367 217 Z ZP6xRQojkIl8dqH6i5mQf21X7JhgJ5xd6smRbv0KPmyns3YHeNHc9oGNi4KGIhjiiaPYl4f8YQ6U7PEYIwv6guxv3QGpUcVEtwsydy53vTKppaXdQfrd4PSqnz8I4716g9fCSWzq8oMSsrir0u3k1IR 0\n",
      "ZCRVpoDVpWvwexDhBm43OmKcSSq3EV89\n"
     ]
    }
   ],
   "source": [
    "\"\"\"\n",
    "Given a string S and a string T, find the minimum window in S which will contain all the characters in T in linear time complexity.\n",
    "Note that when the count of a character C in T is N, then the count of C in minimum window in S should be at least N.\n",
    "\n",
    "Example :\n",
    "\n",
    "S = \"ADOBECODEBANC\"\n",
    "T = \"ABC\"\n",
    "\n",
    "\"\"\"\n",
    "\n",
    "def windowString(S, T):\n",
    "    if len(S)<len(T):\n",
    "        return ''\n",
    "    required = {}\n",
    "\n",
    "    for i in T:\n",
    "            if required.get(i):\n",
    "                required[i] -= 1\n",
    "            else:\n",
    "                required[i] = -1\n",
    "\n",
    "    R = list(T)\n",
    "    \n",
    "    ans = ''\n",
    "    Q = []\n",
    "    t_min = len(S)\n",
    "    for i in range(len(S)):\n",
    "        if S[i] in required.keys():\n",
    "            required[S[i]] += 1\n",
    "            Q.append(i)\n",
    "            if R and S[i] in R:\n",
    "                R.remove(S[i])\n",
    "            print(required, Q, i, t_min, ans, R)\n",
    "            if required[S[i]] >= 0 and len(R) ==0 :\n",
    "                if (i-Q[0]) < t_min: \n",
    "                        t_min = i-Q[0]\n",
    "                        ans = S[Q[0]:i+1]\n",
    "                print(i, Q[0],S[Q[0]], S[Q[0]:i+1] , required[S[Q[0]]])\n",
    "                while required[S[Q[0]]] > 0:\n",
    "                    q = Q.pop(0)\n",
    "                    required[S[q]] -= 1\n",
    "                    if (i-Q[0]) < t_min: \n",
    "                        t_min = i-Q[0]\n",
    "                        print(i, q, S[Q[0]:i+1])\n",
    "                        ans = S[Q[0]:i+1]\n",
    "                    print(i, Q,S[Q[0]],  required[S[Q[0]]])\n",
    "    \n",
    "    return ans\n",
    "\n",
    "    \n",
    "    \n",
    "S = \"ADOBECODEBANC\"\n",
    "T = \"ABC\"\n",
    "# S = \"AAAA\"\n",
    "# T =\"AA\"\n",
    "S = \"ZCRVpoDVpWvwexDhBm43OmKcSSq3EV89L1iEvZkFQ3CuwGZ4bt3uQFAWtnW8R4zOoFbPuFf9PWbZGxUaelCi88dLZMw77W2VGVtKO4rYl361MBRa51fdxb46zlNNOAViT718vddMQgPU30P3Vm4u5zVAXgOgN8fieoHwBLCID7GeZIMmxt6YZpvKKqRsfay1E0cgKjWvak9JHdwHSsoN8eRB0ZP6xRQojkIl8dqH6i5mQf21X7JhgJ5xd6smRbv0KPmyns3YHeNHc9oGNi4KGIhjiiaPYl4f8YQ6U7PEYIwv6guxv3QGpUcVEtwsydy53vTKppaXdQfrd4PSqnz8I4716g9fCSWzq8oMSsrir0u3k1IRIB75\"\n",
    "T = \"ZCRV9\"\n",
    "print(windowString(S, T))"
   ]
  },
  {
   "cell_type": "code",
   "execution_count": 22,
   "metadata": {},
   "outputs": [
    {
     "name": "stdout",
     "output_type": "stream",
     "text": [
      "AAAA\n"
     ]
    }
   ],
   "source": [
    "print(S)"
   ]
  },
  {
   "cell_type": "code",
   "execution_count": 23,
   "metadata": {},
   "outputs": [],
   "source": [
    "ls = list(S)"
   ]
  },
  {
   "cell_type": "code",
   "execution_count": 91,
   "metadata": {},
   "outputs": [
    {
     "name": "stdout",
     "output_type": "stream",
     "text": [
      "['A', 'A', 'A']\n"
     ]
    },
    {
     "ename": "ValueError",
     "evalue": "list.remove(x): x not in list",
     "output_type": "error",
     "traceback": [
      "\u001b[0;31m---------------------------------------------------------------------------\u001b[0m",
      "\u001b[0;31mValueError\u001b[0m                                Traceback (most recent call last)",
      "\u001b[0;32m<ipython-input-91-df44835c9b4e>\u001b[0m in \u001b[0;36m<module>\u001b[0;34m\u001b[0m\n\u001b[1;32m      1\u001b[0m \u001b[0mls\u001b[0m\u001b[0;34m.\u001b[0m\u001b[0mremove\u001b[0m\u001b[0;34m(\u001b[0m\u001b[0;34m'A'\u001b[0m\u001b[0;34m)\u001b[0m\u001b[0;34m\u001b[0m\u001b[0;34m\u001b[0m\u001b[0m\n\u001b[1;32m      2\u001b[0m \u001b[0mprint\u001b[0m\u001b[0;34m(\u001b[0m\u001b[0mls\u001b[0m\u001b[0;34m)\u001b[0m\u001b[0;34m\u001b[0m\u001b[0;34m\u001b[0m\u001b[0m\n\u001b[0;32m----> 3\u001b[0;31m \u001b[0mls\u001b[0m\u001b[0;34m.\u001b[0m\u001b[0mremove\u001b[0m\u001b[0;34m(\u001b[0m\u001b[0;34m'B'\u001b[0m\u001b[0;34m)\u001b[0m\u001b[0;34m\u001b[0m\u001b[0;34m\u001b[0m\u001b[0m\n\u001b[0m",
      "\u001b[0;31mValueError\u001b[0m: list.remove(x): x not in list"
     ]
    }
   ],
   "source": [
    "ls.remove('A')\n",
    "print(ls)\n",
    "ls.remove('B')"
   ]
  },
  {
   "cell_type": "code",
   "execution_count": 26,
   "metadata": {},
   "outputs": [
    {
     "name": "stdout",
     "output_type": "stream",
     "text": [
      "['A', 'A', 'A', 'A']\n"
     ]
    }
   ],
   "source": [
    "ls.append('A')\n",
    "print(ls)"
   ]
  },
  {
   "cell_type": "code",
   "execution_count": 55,
   "metadata": {},
   "outputs": [],
   "source": [
    "r = {}\n",
    "r['Z'] = -1\n"
   ]
  },
  {
   "cell_type": "code",
   "execution_count": 58,
   "metadata": {},
   "outputs": [
    {
     "name": "stdout",
     "output_type": "stream",
     "text": [
      "{'Z': -1, 'N': -1, '9': -1}\n"
     ]
    }
   ],
   "source": [
    "r[''] = -1\n",
    "print(r)"
   ]
  },
  {
   "cell_type": "code",
   "execution_count": null,
   "metadata": {},
   "outputs": [],
   "source": [
    "\"\"\"\n",
    "s1 = \"abc   \"defea\"\n",
    "s2 = \"bcd  \"efeac\"\n",
    "\n",
    "\n",
    "\"\"\"\n",
    "\n"
   ]
  },
  {
   "cell_type": "code",
   "execution_count": null,
   "metadata": {},
   "outputs": [],
   "source": [
    "\"\"\"\n",
    "N= 2\n",
    "00\n",
    "01\n",
    "10\n",
    "11\n",
    "\n",
    "00110\n",
    "\n",
    "N  = 3\n",
    "000\n",
    "001\n",
    "010\n",
    "011\n",
    "100\n",
    "101\n",
    "110\n",
    "111\n",
    "\n",
    "\"\"\"\n",
    "\n",
    "01\n",
    "000,1,0,11,00,111\n",
    "\n",
    "\"0001110100\"\n",
    "\n",
    "\"0001110100\"\n",
    "\n",
    "\n",
    "\"0001110100\"\n",
    "\n",
    "\n",
    "N = 4\n",
    "0000\n",
    "\n",
    "1011\n",
    "1101\n",
    "\"101101\"\n",
    "\n",
    "1001\n",
    "0010\n",
    "0100\n",
    "\"0010100\"\n",
    "\n",
    "\"1011010010100\"\n",
    "\n",
    "\n",
    "\"00001111 01011001 000\"\n",
    "\n",
    "\n",
    "\"0000011111 0000\""
   ]
  },
  {
   "cell_type": "code",
   "execution_count": null,
   "metadata": {},
   "outputs": [],
   "source": [
    "\"\"\"\n",
    "decoding\n",
    "\n",
    "97, 98, 99, 100, 101, 102, tag, 4, 4, 102, tag, 3, 4\"\n",
    "\n",
    "97,98,99,100,101,102,     100,101\n",
    "\n",
    "\"\"\"\n",
    "\n",
    "\n"
   ]
  },
  {
   "cell_type": "code",
   "execution_count": null,
   "metadata": {},
   "outputs": [],
   "source": [
    "\"\"\"\n",
    "1234112112322\n",
    "\n",
    "7\n",
    "\n",
    "\"\"\"\n",
    "\n"
   ]
  }
 ],
 "metadata": {
  "kernelspec": {
   "display_name": "Python 3",
   "language": "python",
   "name": "python3"
  },
  "language_info": {
   "codemirror_mode": {
    "name": "ipython",
    "version": 3
   },
   "file_extension": ".py",
   "mimetype": "text/x-python",
   "name": "python",
   "nbconvert_exporter": "python",
   "pygments_lexer": "ipython3",
   "version": "3.6.9"
  }
 },
 "nbformat": 4,
 "nbformat_minor": 2
}
