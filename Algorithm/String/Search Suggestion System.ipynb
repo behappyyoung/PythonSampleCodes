{
 "cells": [
  {
   "cell_type": "code",
   "execution_count": 16,
   "id": "fd56359d",
   "metadata": {},
   "outputs": [
    {
     "name": "stdout",
     "output_type": "stream",
     "text": [
      "['ABC', 'AZZZ', 'BC', 'ZZZ'] ['abc', 'azzz', 'bc', 'zzz']\n"
     ]
    }
   ],
   "source": [
    "\"\"\"\n",
    "    https://leetcode.com/problems/search-suggestions-system/\n",
    "\n",
    "Input: products = [\"mobile\",\"mouse\",\"moneypot\",\"monitor\",\"mousepad\"], searchWord = \"mouse\"\n",
    "Output: [\n",
    "[\"mobile\",\"moneypot\",\"monitor\"],\n",
    "[\"mobile\",\"moneypot\",\"monitor\"],\n",
    "[\"mouse\",\"mousepad\"],\n",
    "[\"mouse\",\"mousepad\"],\n",
    "[\"mouse\",\"mousepad\"]\n",
    "]\n",
    "Explanation: products sorted lexicographically = [\"mobile\",\"moneypot\",\"monitor\",\"mouse\",\"mousepad\"]\n",
    "After typing m and mo all products match and we show user [\"mobile\",\"moneypot\",\"monitor\"]\n",
    "After typing mou, mous and mouse the system suggests [\"mouse\",\"mousepad\"]\n",
    "Example 2:\n",
    "\n",
    "Input: products = [\"havana\"], searchWord = \"havana\"\n",
    "Output: [[\"havana\"],[\"havana\"],[\"havana\"],[\"havana\"],[\"havana\"],[\"havana\"]]\n",
    "Example 3:\n",
    "\n",
    "Input: products = [\"bags\",\"baggage\",\"banner\",\"box\",\"cloths\"], searchWord = \"bags\"\n",
    "Output: [[\"baggage\",\"bags\",\"banner\"],[\"baggage\",\"bags\",\"banner\"],[\"baggage\",\"bags\"],[\"bags\"]]\n",
    "\n",
    "\"\"\""
   ]
  },
  {
   "cell_type": "code",
   "execution_count": 19,
   "id": "bf3e4d95",
   "metadata": {},
   "outputs": [
    {
     "name": "stdout",
     "output_type": "stream",
     "text": [
      "1 ['havana']\n",
      "2 ['havana']\n",
      "3 ['havana']\n",
      "4 ['havana']\n",
      "5 ['havana']\n",
      "6 ['havana']\n"
     ]
    },
    {
     "data": {
      "text/plain": [
       "[['havana'], ['havana'], ['havana'], ['havana'], ['havana'], ['havana']]"
      ]
     },
     "execution_count": 19,
     "metadata": {},
     "output_type": "execute_result"
    }
   ],
   "source": [
    "def searchSuggestions(repository, customerQuery):\n",
    "    # Write your code here\n",
    "    output = []\n",
    "    current_res = []\n",
    "    def get_result(s):\n",
    "        result = []\n",
    "        size = len(s)\n",
    "        for res in repository:\n",
    "            if res[:size] == s:\n",
    "                result.append(res)\n",
    "\n",
    "        result.sort()\n",
    "        if len(result) > 3:\n",
    "            result = result[:3]\n",
    "        \n",
    "        return result\n",
    "    \n",
    "    for i in range(1, len(customerQuery)+1):\n",
    "        c_result = get_result(customerQuery[:i])\n",
    "        print(i, c_result)\n",
    "        if c_result:\n",
    "            output.append(c_result)    \n",
    "\n",
    "    return output\n",
    "\n",
    "products = [\"havana\"] \n",
    "searchWord = \"havana\"\n",
    "searchSuggestions(products, searchWord)"
   ]
  }
 ],
 "metadata": {
  "kernelspec": {
   "display_name": "Django Shell-Plus",
   "language": "python",
   "name": "django_extensions"
  },
  "language_info": {
   "codemirror_mode": {
    "name": "ipython",
    "version": 3
   },
   "file_extension": ".py",
   "mimetype": "text/x-python",
   "name": "python",
   "nbconvert_exporter": "python",
   "pygments_lexer": "ipython3",
   "version": "3.6.9"
  }
 },
 "nbformat": 4,
 "nbformat_minor": 5
}
