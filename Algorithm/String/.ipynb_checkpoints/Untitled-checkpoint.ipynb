{
 "cells": [
  {
   "cell_type": "code",
   "execution_count": 42,
   "metadata": {},
   "outputs": [
    {
     "name": "stdout",
     "output_type": "stream",
     "text": [
      "\n"
     ]
    }
   ],
   "source": [
    "\"\"\"\n",
    "Given a string S and a string T, find the minimum window in S which will contain all the characters in T in linear time complexity.\n",
    "Note that when the count of a character C in T is N, then the count of C in minimum window in S should be at least N.\n",
    "\n",
    "Example :\n",
    "\n",
    "S = \"ADOBECODEBANC\"\n",
    "T = \"ABC\"\n",
    "\n",
    "\"\"\"\n",
    "\n",
    "def windowString(S, T):\n",
    "    if S<T:\n",
    "        return ''\n",
    "    required = {}\n",
    "    for i in T:\n",
    "        if required.get(str(i)):\n",
    "            required[str(i)] -= 1\n",
    "        else:\n",
    "            required[str(i)] = -1\n",
    "    N = len(T)\n",
    "    print(N, required, required.keys())\n",
    "    def check_all(r):\n",
    "        re = False\n",
    "        for i in r.values():\n",
    "            if i >= 0:\n",
    "                re = True\n",
    "            else:\n",
    "                return False\n",
    "        return re\n",
    "    \n",
    "    count = 0\n",
    "    ans = ''\n",
    "    Q = []\n",
    "    t_min = len(S)\n",
    "    for i in range(len(S)):\n",
    "        if S[i] in required.keys():\n",
    "            required[str(S[i])] += 1\n",
    "            Q.append(i)\n",
    "            print(required, Q, count, i, t_min, ans)\n",
    "            while check_all(required):\n",
    "                    q = Q.pop(0)\n",
    "                    if (i-q) < t_min: \n",
    "                        t_min = i-q\n",
    "                        print(i, q, S[i:q+1])\n",
    "                        ans = S[q:i+1]\n",
    "                    required[str(S[q])] -= 1\n",
    "            \n",
    "    return ans\n",
    "\n",
    "    \n",
    "    \n",
    "S = \"ADOBECODEBANC\"\n",
    "# T = \"ABC\"\n",
    "# S = \"AAAA\"\n",
    "# T =\"AA\"\n",
    "# S = \"ZCRVpoDVpWvwexDhBm43OmKcSSq3EV89L1iEvZkFQ3CuwGZ4bt3uQFAWtnW8R4zOoFbPuFf9PWbZGxUaelCi88dLZMw77W2VGVtKO4rYl361MBRa51fdxb46zlNNOAViT718vddMQgPU30P3Vm4u5zVAXgOgN8fieoHwBLCID7GeZIMmxt6YZpvKKqRsfay1E0cgKjWvak9JHdwHSsoN8eRB0ZP6xRQojkIl8dqH6i5mQf21X7JhgJ5xd6smRbv0KPmyns3YHeNHc9oGNi4KGIhjiiaPYl4f8YQ6U7PEYIwv6guxv3QGpUcVEtwsydy53vTKppaXdQfrd4PSqnz8I4716g9fCSWzq8oMSsrir0u3k1IRIB75\"\n",
    "T = \"dN\"\n",
    "print(windowString(S, T))"
   ]
  },
  {
   "cell_type": "code",
   "execution_count": 22,
   "metadata": {},
   "outputs": [
    {
     "name": "stdout",
     "output_type": "stream",
     "text": [
      "AAAA\n"
     ]
    }
   ],
   "source": [
    "print(S)"
   ]
  },
  {
   "cell_type": "code",
   "execution_count": 23,
   "metadata": {},
   "outputs": [],
   "source": [
    "ls = list(S)"
   ]
  },
  {
   "cell_type": "code",
   "execution_count": 25,
   "metadata": {},
   "outputs": [
    {
     "name": "stdout",
     "output_type": "stream",
     "text": [
      "['A', 'A', 'A']\n"
     ]
    }
   ],
   "source": [
    "ls.remove('A')\n",
    "print(ls)"
   ]
  },
  {
   "cell_type": "code",
   "execution_count": 26,
   "metadata": {},
   "outputs": [
    {
     "name": "stdout",
     "output_type": "stream",
     "text": [
      "['A', 'A', 'A', 'A']\n"
     ]
    }
   ],
   "source": [
    "ls.append('A')\n",
    "print(ls)"
   ]
  },
  {
   "cell_type": "code",
   "execution_count": null,
   "metadata": {},
   "outputs": [],
   "source": []
  }
 ],
 "metadata": {
  "kernelspec": {
   "display_name": "Python 3",
   "language": "python",
   "name": "python3"
  },
  "language_info": {
   "codemirror_mode": {
    "name": "ipython",
    "version": 3
   },
   "file_extension": ".py",
   "mimetype": "text/x-python",
   "name": "python",
   "nbconvert_exporter": "python",
   "pygments_lexer": "ipython3",
   "version": "3.7.5"
  }
 },
 "nbformat": 4,
 "nbformat_minor": 2
}
