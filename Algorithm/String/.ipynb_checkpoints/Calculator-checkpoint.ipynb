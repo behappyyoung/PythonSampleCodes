{
 "cells": [
  {
   "cell_type": "code",
   "execution_count": 141,
   "id": "0784a475",
   "metadata": {},
   "outputs": [],
   "source": [
    "\"\"\"\n",
    "Input: s = \"(1+(4+5+2)-3)+(6+8)\"\n",
    "Output: 23\n",
    "\n",
    "Input: s = \" 2-1 + 2 \"\n",
    "Output: 3\n",
    "\n",
    "\"\"\"\n",
    "def calculator(s):\n",
    "    \n",
    "    op_stack = []\n",
    "    total = 0\n",
    "    def calc(subs):\n",
    "        f_num = None\n",
    "        s_num = None\n",
    "        op = None\n",
    "        print(subs)\n",
    "        s_sign = False\n",
    "        f_sign = False\n",
    "        for s in subs:\n",
    "            print(subs, s, f_num, op, s_num, f_sign, s_sign)\n",
    "            if f_num:\n",
    "                    if op:# if there is an operation\n",
    "                        if s_num:\n",
    "                            if s in '+-':  \n",
    "                                f_num = -(int(f_num)) if f_sign else int(f_num)\n",
    "                                s_num = -(int(s_num)) if s_sign else int(s_num)\n",
    "                                s_sign = False\n",
    "                                f_sign = False\n",
    "                                if op =='+':\n",
    "                                    f_num = f_num + s_num\n",
    "                                elif op =='-':\n",
    "                                    f_num = f_num - s_num\n",
    "                                \n",
    "                                \n",
    "                                s_num = None\n",
    "                                op = s\n",
    "                                \n",
    "                            else:\n",
    "                                s_num += s\n",
    "                        else:\n",
    "                            if s == '-':\n",
    "                                s_sign = True\n",
    "                            else:\n",
    "                                s_num = s\n",
    "                    \n",
    "                    else:\n",
    "                        if s == '+':\n",
    "                            op = '+'\n",
    "                        elif s =='-':\n",
    "                            op = '-'\n",
    "                        else:\n",
    "                            f_num += s\n",
    "            else:\n",
    "                if s =='-':\n",
    "                    f_sign = True\n",
    "                else:\n",
    "                    f_num = s\n",
    "                \n",
    "        if s_num:\n",
    "            if op =='+':\n",
    "                                    f_num = int(f_num) + int(s_num)\n",
    "            elif op =='-':\n",
    "                                    f_num = int(f_num) - int(s_num)\n",
    "                    \n",
    "        return int(f_num)\n",
    "    \n",
    "    start_p = False\n",
    "    c_str = ''\n",
    "    \n",
    "    for i in range(len(s)):\n",
    "        if s[i] == '(':\n",
    "            if c_str:\n",
    "                op_stack.append(c_str.strip())\n",
    "                c_str =''\n",
    "        elif s[i] == ')':\n",
    "            total = calc(c_str)\n",
    "            if op_stack:\n",
    "                subs = op_stack.pop() + str(total)\n",
    "                total = calc(subs)\n",
    "            c_str = str(total)\n",
    "        elif s[i] == '':\n",
    "            c_str.strip()\n",
    "            pass\n",
    "        else:\n",
    "            c_str += s[i].strip()\n",
    "    \n",
    "    if c_str:\n",
    "        total = calc(c_str.strip())\n",
    "\n",
    "    print(op_stack, total)\n",
    "    while op_stack:\n",
    "        subs = op_stack.pop() \n",
    "        if subs == '-':\n",
    "            total = str(-total)\n",
    "        else:\n",
    "            subs += str(total)\n",
    "            total = calc(subs)\n",
    "        \n",
    "    \n",
    "    return total"
   ]
  },
  {
   "cell_type": "code",
   "execution_count": 142,
   "id": "5b20f26b",
   "metadata": {},
   "outputs": [
    {
     "name": "stdout",
     "output_type": "stream",
     "text": [
      "0+0+7\n",
      "0+0+7 0 None None None False False\n",
      "0+0+7 + 0 None None False False\n",
      "0+0+7 0 0 + None False False\n",
      "0+0+7 + 0 + 0 False False\n",
      "0+0+7 7 0 None None False False\n",
      "6-10-8-7+7\n",
      "6-10-8-7+7 6 None None None False False\n",
      "6-10-8-7+7 - 6 None None False False\n",
      "6-10-8-7+7 1 6 - None False False\n",
      "6-10-8-7+7 0 6 - 1 False False\n",
      "6-10-8-7+7 - 6 - 10 False False\n",
      "6-10-8-7+7 8 -4 None None False False\n"
     ]
    },
    {
     "ename": "TypeError",
     "evalue": "unsupported operand type(s) for +=: 'int' and 'str'",
     "output_type": "error",
     "traceback": [
      "\u001b[0;31m---------------------------------------------------------------------------\u001b[0m",
      "\u001b[0;31mTypeError\u001b[0m                                 Traceback (most recent call last)",
      "\u001b[0;32m<ipython-input-142-5748a34de43f>\u001b[0m in \u001b[0;36m<module>\u001b[0;34m\u001b[0m\n\u001b[1;32m      9\u001b[0m \u001b[0;31m# print(calculator(s))\u001b[0m\u001b[0;34m\u001b[0m\u001b[0;34m\u001b[0m\u001b[0;34m\u001b[0m\u001b[0m\n\u001b[1;32m     10\u001b[0m \u001b[0ms\u001b[0m \u001b[0;34m=\u001b[0m \u001b[0;34m\"5+3-4-(1+2-7+(10-1+3+5+(3-0+(8-(3+(8-(10-(6-10-8-7+(0+0+7)-10+5-3-2+(9+0+(7+(2-(2-(9)-2+5+4+2+(2+9+1+5+5-8-9-2-9+1+0)-(5-(9)-(0-(7+9)+(10+(6-4+6))+0-2+(10+7+(8+(7-(8-(3)+(2)+(10-6+10-(2)-7-(2)+(3+(8))+(1-3-8)+6-(4+1)+(6))+6-(1)-(10+(4)+(8)+(5+(0))+(3-(6))-(9)-(4)+(2))))))-1)))+(9+6)+(0))))+3-(1))+(7))))))))\"\u001b[0m\u001b[0;34m\u001b[0m\u001b[0;34m\u001b[0m\u001b[0m\n\u001b[0;32m---> 11\u001b[0;31m \u001b[0mprint\u001b[0m\u001b[0;34m(\u001b[0m\u001b[0mcalculator\u001b[0m\u001b[0;34m(\u001b[0m\u001b[0ms\u001b[0m\u001b[0;34m)\u001b[0m\u001b[0;34m)\u001b[0m\u001b[0;34m\u001b[0m\u001b[0;34m\u001b[0m\u001b[0m\n\u001b[0m",
      "\u001b[0;32m<ipython-input-141-f2a0a115c8bb>\u001b[0m in \u001b[0;36mcalculator\u001b[0;34m(s)\u001b[0m\n\u001b[1;32m     78\u001b[0m             \u001b[0;32mif\u001b[0m \u001b[0mop_stack\u001b[0m\u001b[0;34m:\u001b[0m\u001b[0;34m\u001b[0m\u001b[0;34m\u001b[0m\u001b[0m\n\u001b[1;32m     79\u001b[0m                 \u001b[0msubs\u001b[0m \u001b[0;34m=\u001b[0m \u001b[0mop_stack\u001b[0m\u001b[0;34m.\u001b[0m\u001b[0mpop\u001b[0m\u001b[0;34m(\u001b[0m\u001b[0;34m)\u001b[0m \u001b[0;34m+\u001b[0m \u001b[0mstr\u001b[0m\u001b[0;34m(\u001b[0m\u001b[0mtotal\u001b[0m\u001b[0;34m)\u001b[0m\u001b[0;34m\u001b[0m\u001b[0;34m\u001b[0m\u001b[0m\n\u001b[0;32m---> 80\u001b[0;31m                 \u001b[0mtotal\u001b[0m \u001b[0;34m=\u001b[0m \u001b[0mcalc\u001b[0m\u001b[0;34m(\u001b[0m\u001b[0msubs\u001b[0m\u001b[0;34m)\u001b[0m\u001b[0;34m\u001b[0m\u001b[0;34m\u001b[0m\u001b[0m\n\u001b[0m\u001b[1;32m     81\u001b[0m             \u001b[0mc_str\u001b[0m \u001b[0;34m=\u001b[0m \u001b[0mstr\u001b[0m\u001b[0;34m(\u001b[0m\u001b[0mtotal\u001b[0m\u001b[0;34m)\u001b[0m\u001b[0;34m\u001b[0m\u001b[0;34m\u001b[0m\u001b[0m\n\u001b[1;32m     82\u001b[0m         \u001b[0;32melif\u001b[0m \u001b[0ms\u001b[0m\u001b[0;34m[\u001b[0m\u001b[0mi\u001b[0m\u001b[0;34m]\u001b[0m \u001b[0;34m==\u001b[0m \u001b[0;34m''\u001b[0m\u001b[0;34m:\u001b[0m\u001b[0;34m\u001b[0m\u001b[0;34m\u001b[0m\u001b[0m\n",
      "\u001b[0;32m<ipython-input-141-f2a0a115c8bb>\u001b[0m in \u001b[0;36mcalc\u001b[0;34m(subs)\u001b[0m\n\u001b[1;32m     51\u001b[0m                             \u001b[0mop\u001b[0m \u001b[0;34m=\u001b[0m \u001b[0;34m'-'\u001b[0m\u001b[0;34m\u001b[0m\u001b[0;34m\u001b[0m\u001b[0m\n\u001b[1;32m     52\u001b[0m                         \u001b[0;32melse\u001b[0m\u001b[0;34m:\u001b[0m\u001b[0;34m\u001b[0m\u001b[0;34m\u001b[0m\u001b[0m\n\u001b[0;32m---> 53\u001b[0;31m                             \u001b[0mf_num\u001b[0m \u001b[0;34m+=\u001b[0m \u001b[0ms\u001b[0m\u001b[0;34m\u001b[0m\u001b[0;34m\u001b[0m\u001b[0m\n\u001b[0m\u001b[1;32m     54\u001b[0m             \u001b[0;32melse\u001b[0m\u001b[0;34m:\u001b[0m\u001b[0;34m\u001b[0m\u001b[0;34m\u001b[0m\u001b[0m\n\u001b[1;32m     55\u001b[0m                 \u001b[0;32mif\u001b[0m \u001b[0ms\u001b[0m \u001b[0;34m==\u001b[0m\u001b[0;34m'-'\u001b[0m\u001b[0;34m:\u001b[0m\u001b[0;34m\u001b[0m\u001b[0;34m\u001b[0m\u001b[0m\n",
      "\u001b[0;31mTypeError\u001b[0m: unsupported operand type(s) for +=: 'int' and 'str'"
     ]
    }
   ],
   "source": [
    "s ='2-1+2'\n",
    "# print(calculator(s))\n",
    "s = \"(1+(4+5+2)-3)+(6+8)\"\n",
    "# print(calculator(s))\n",
    "\n",
    "s = \"- (3 + (4 + 5))\"\n",
    "# print(calculator(s))\n",
    "s =\"(7)-(0)+(4)\"\n",
    "# print(calculator(s))\n",
    "s = \"5+3-4-(1+2-7+(10-1+3+5+(3-0+(8-(3+(8-(10-(6-10-8-7+(0+0+7)-10+5-3-2+(9+0+(7+(2-(2-(9)-2+5+4+2+(2+9+1+5+5-8-9-2-9+1+0)-(5-(9)-(0-(7+9)+(10+(6-4+6))+0-2+(10+7+(8+(7-(8-(3)+(2)+(10-6+10-(2)-7-(2)+(3+(8))+(1-3-8)+6-(4+1)+(6))+6-(1)-(10+(4)+(8)+(5+(0))+(3-(6))-(9)-(4)+(2))))))-1)))+(9+6)+(0))))+3-(1))+(7))))))))\"\n",
    "print(calculator(s))"
   ]
  },
  {
   "cell_type": "code",
   "execution_count": 118,
   "id": "a5aad539",
   "metadata": {},
   "outputs": [
    {
     "data": {
      "text/plain": [
       "'f'"
      ]
     },
     "execution_count": 118,
     "metadata": {},
     "output_type": "execute_result"
    }
   ],
   "source": [
    "s = 'fdafadsf'\n",
    "s[-1]\n"
   ]
  }
 ],
 "metadata": {
  "kernelspec": {
   "display_name": "Python 3",
   "language": "python",
   "name": "python3"
  },
  "language_info": {
   "codemirror_mode": {
    "name": "ipython",
    "version": 3
   },
   "file_extension": ".py",
   "mimetype": "text/x-python",
   "name": "python",
   "nbconvert_exporter": "python",
   "pygments_lexer": "ipython3",
   "version": "3.6.9"
  }
 },
 "nbformat": 4,
 "nbformat_minor": 5
}
