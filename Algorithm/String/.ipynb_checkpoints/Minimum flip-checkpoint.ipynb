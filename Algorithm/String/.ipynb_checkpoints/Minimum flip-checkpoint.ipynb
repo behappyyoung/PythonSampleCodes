{
 "cells": [
  {
   "cell_type": "code",
   "execution_count": null,
   "id": "ee845da9",
   "metadata": {},
   "outputs": [],
   "source": [
    "\"\"\"\n",
    "Minimum flips to make all 1s in left and 0s in right \n",
    "\n",
    "Input: 1011000  \n",
    "Output: 1\n",
    "1 flip is required to make it 1111000.\n",
    "\n",
    "Input : 00001 \n",
    "Output : 2\n",
    "2 flips required to make it 10000.\n",
    "\n",
    "\"\"\"\n",
    "\n"
   ]
  },
  {
   "cell_type": "code",
   "execution_count": null,
   "id": "3cc2a763",
   "metadata": {},
   "outputs": [],
   "source": [
    "\n"
   ]
  },
  {
   "cell_type": "code",
   "execution_count": null,
   "id": "d49e1680",
   "metadata": {},
   "outputs": [],
   "source": [
    "\"\"\"\n",
    "Minimum Number of Flips to Make the Binary String Alternating\n",
    "\n",
    "Example 1:\n",
    "\n",
    "Input: s = \"111000\"\n",
    "Output: 2\n",
    "Explanation: Use the first operation two times to make s = \"100011\".\n",
    "Then, use the second operation on the third and sixth elements to make s = \"101010\".\n",
    "Example 2:\n",
    "\n",
    "Input: s = \"010\"\n",
    "Output: 0\n",
    "Explanation: The string is already alternating.\n",
    "Example 3:\n",
    "\n",
    "Input: s = \"1110\"\n",
    "Output: 1\n",
    "Explanation: Use the second operation on the second element to make s = \"1010\".\n",
    "\n",
    "\"\"\""
   ]
  },
  {
   "cell_type": "code",
   "execution_count": 1,
   "id": "594eae4a",
   "metadata": {},
   "outputs": [
    {
     "ename": "UnboundLocalError",
     "evalue": "local variable 'even_odd' referenced before assignment",
     "output_type": "error",
     "traceback": [
      "\u001b[0;31m---------------------------------------------------------------------------\u001b[0m",
      "\u001b[0;31mUnboundLocalError\u001b[0m                         Traceback (most recent call last)",
      "\u001b[0;32m<ipython-input-1-3c6a6c6197ee>\u001b[0m in \u001b[0;36m<module>\u001b[0;34m\u001b[0m\n\u001b[1;32m     18\u001b[0m     \u001b[0;32mreturn\u001b[0m \u001b[0mmin\u001b[0m\u001b[0;34m(\u001b[0m\u001b[0meven_odd\u001b[0m\u001b[0;34m,\u001b[0m \u001b[0mone_odd\u001b[0m\u001b[0;34m)\u001b[0m\u001b[0;34m\u001b[0m\u001b[0;34m\u001b[0m\u001b[0m\n\u001b[1;32m     19\u001b[0m \u001b[0;34m\u001b[0m\u001b[0m\n\u001b[0;32m---> 20\u001b[0;31m \u001b[0mminFlips\u001b[0m\u001b[0;34m(\u001b[0m\u001b[0;34m\"111000\"\u001b[0m\u001b[0;34m)\u001b[0m\u001b[0;34m\u001b[0m\u001b[0;34m\u001b[0m\u001b[0m\n\u001b[0m",
      "\u001b[0;32m<ipython-input-1-3c6a6c6197ee>\u001b[0m in \u001b[0;36mminFlips\u001b[0;34m(s)\u001b[0m\n\u001b[1;32m      6\u001b[0m         \u001b[0;32mif\u001b[0m \u001b[0modd\u001b[0m\u001b[0;34m:\u001b[0m\u001b[0;34m\u001b[0m\u001b[0;34m\u001b[0m\u001b[0m\n\u001b[1;32m      7\u001b[0m             \u001b[0;32mif\u001b[0m \u001b[0mc\u001b[0m \u001b[0;34m==\u001b[0m \u001b[0;34m'1'\u001b[0m\u001b[0;34m:\u001b[0m\u001b[0;34m\u001b[0m\u001b[0;34m\u001b[0m\u001b[0m\n\u001b[0;32m----> 8\u001b[0;31m                 \u001b[0meven_odd\u001b[0m \u001b[0;34m+=\u001b[0m \u001b[0;36m1\u001b[0m\u001b[0;34m\u001b[0m\u001b[0;34m\u001b[0m\u001b[0m\n\u001b[0m\u001b[1;32m      9\u001b[0m             \u001b[0;32melse\u001b[0m\u001b[0;34m:\u001b[0m\u001b[0;34m\u001b[0m\u001b[0;34m\u001b[0m\u001b[0m\n\u001b[1;32m     10\u001b[0m                 \u001b[0mone_odd\u001b[0m \u001b[0;34m+=\u001b[0m \u001b[0;36m1\u001b[0m\u001b[0;34m\u001b[0m\u001b[0;34m\u001b[0m\u001b[0m\n",
      "\u001b[0;31mUnboundLocalError\u001b[0m: local variable 'even_odd' referenced before assignment"
     ]
    }
   ],
   "source": [
    "def minFlips(s):\n",
    "    one_odd = 0\n",
    "    one_even = 0\n",
    "    odd = True\n",
    "    for c in s:\n",
    "        if odd:\n",
    "            if c == '1':\n",
    "                one_even += 1\n",
    "            else:\n",
    "                one_odd += 1\n",
    "        else:\n",
    "            if c == '0':\n",
    "                one_even += 1\n",
    "            else:\n",
    "                one_odd += 1\n",
    "        odd = !odd\n",
    "    \n",
    "    return min(even_odd, one_odd)\n",
    "\n",
    "minFlips(\"111000\")"
   ]
  }
 ],
 "metadata": {
  "kernelspec": {
   "display_name": "Django Shell-Plus",
   "language": "python",
   "name": "django_extensions"
  },
  "language_info": {
   "codemirror_mode": {
    "name": "ipython",
    "version": 3
   },
   "file_extension": ".py",
   "mimetype": "text/x-python",
   "name": "python",
   "nbconvert_exporter": "python",
   "pygments_lexer": "ipython3",
   "version": "3.6.9"
  }
 },
 "nbformat": 4,
 "nbformat_minor": 5
}
