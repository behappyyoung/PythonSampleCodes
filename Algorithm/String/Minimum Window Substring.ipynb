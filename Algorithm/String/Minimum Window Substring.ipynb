{
 "cells": [
  {
   "cell_type": "code",
   "execution_count": 28,
   "id": "cc1e9423",
   "metadata": {},
   "outputs": [],
   "source": [
    "\"\"\"\n",
    "    string s, t\n",
    "    find the shortest substring of s that contains all characters of t\n",
    "    s = \"adcfebeceabebadfcdf\"\n",
    "    t = 'abca'\n",
    "    \n",
    "    output: 'ceabeba'\n",
    "\n",
    "\"\"\"\n",
    "from collections import Counter\n",
    "\n",
    "def min_window(s, t):\n",
    "    n, m = len(s), len(t)\n",
    "    if m > n or t=='':\n",
    "        return ''\n",
    "    satisfied = 0\n",
    "    freqt = Counter(t)\n",
    "    all_satisfied = len(freqt)\n",
    "    \n",
    "    freqs = Counter()\n",
    "    left = 0\n",
    "    start, end = 0, n\n",
    "    for right in range(n):\n",
    "        c_ch = s[right]\n",
    "        freqs[c_ch] += 1\n",
    "        if c_ch in freqt and freqs[c_ch] == freqt[c_ch]:\n",
    "            satisfied += 1\n",
    "        if satisfied == all_satisfied:\n",
    "            while s[left] not in freqt or freqs[s[left]] > freqt[s[left]]:\n",
    "                freqs[s[left]] -= 1\n",
    "                left +=1\n",
    "            if right-left + 1 < end - start + 1:\n",
    "                start, end = left, right\n",
    "    \n",
    "    return start, end if end-start+1 <=n else ''\n",
    "\n",
    "          \n",
    "    "
   ]
  },
  {
   "cell_type": "code",
   "execution_count": 29,
   "id": "e2d7c079",
   "metadata": {},
   "outputs": [
    {
     "name": "stdout",
     "output_type": "stream",
     "text": [
      "ceabeba\n"
     ]
    }
   ],
   "source": [
    "s = \"adcfebeceabebadfcdf\"\n",
    "t = 'abca'\n",
    "start, end = min_window(s, t)  \n",
    "print(s[start:end+1])"
   ]
  },
  {
   "cell_type": "code",
   "execution_count": 49,
   "id": "fb89e725",
   "metadata": {},
   "outputs": [
    {
     "name": "stdout",
     "output_type": "stream",
     "text": [
      "ceabeba\n"
     ]
    }
   ],
   "source": [
    "from collections import Counter\n",
    "\n",
    "def min_window_sub(s, t):\n",
    "    ls, lt = len(s), len(t)\n",
    "    if ls < lt or t == '':\n",
    "        return ''\n",
    "    freqt = Counter(t)\n",
    "    freqs = Counter()\n",
    "    # initialize\n",
    "    satisfied = 0\n",
    "    all_satisfied = len(freqt)\n",
    "    start, end = 0, lt-1\n",
    "    for c in s[:lt]:\n",
    "        if c in freqt:\n",
    "            if c in freqs:\n",
    "                freqs[c] += 1\n",
    "            else:\n",
    "                freqs[c] = 1\n",
    "            if freqs[c] == freqt[c]:\n",
    "                satisfied += 1\n",
    "#             print(c, freqs, satisfied)\n",
    "    if all_satisfied == satisfied:\n",
    "        return start, end\n",
    "#     else:\n",
    "#         for i in range(lt):\n",
    "#             if s[i] not in freqt:\n",
    "#                 start +=1\n",
    "    bestl, bestr = start, ls\n",
    "    for i in range(lt, ls):\n",
    "#         print(satisfied, start, i, bestl, bestr)\n",
    "        if s[i] in freqt:\n",
    "            if s[i] in freqs:\n",
    "                freqs[s[i]] += 1\n",
    "            else:\n",
    "                freqs[s[i]] = 1\n",
    "            if freqs[s[i]] == freqt[s[i]]:\n",
    "                satisfied += 1\n",
    "#             print(i, s[i], satisfied, freqs)\n",
    "            if all_satisfied == satisfied:\n",
    "#                 print(start, i, freqs, freqt)\n",
    "                while s[start] not in freqt or freqs[s[start]] > freqt[s[start]]:\n",
    "                    if s[start] in freqs:\n",
    "                        freqs[s[start]] -= 1\n",
    "                    start +=1\n",
    "                if i - start < bestr - bestl:\n",
    "                    bestl, bestr = start, i\n",
    "                \n",
    "    \n",
    "#     print(freqt, freqs, bestl, bestr)\n",
    "    return bestl, bestr\n",
    "\n",
    "s = \"adcfebeceabebadfcdf\"\n",
    "t = 'abca'\n",
    "l, r = min_window_sub(s, t)  \n",
    "print(s[l:r+1])"
   ]
  },
  {
   "cell_type": "code",
   "execution_count": 59,
   "id": "c8733d73",
   "metadata": {},
   "outputs": [
    {
     "name": "stdout",
     "output_type": "stream",
     "text": [
      "(9, 18)\n",
      "0:00:00.000944\n",
      "(9, 18)\n",
      "0:00:00.000597\n"
     ]
    }
   ],
   "source": [
    "s = \"adcfebeceabebadfcdfadcfebeceabebadfcdfadcfebeceabebadfcdfadcfebeceabebadfcdfadcfebeceabebadfcdffadsfasasfdsfdasfdsafasdfsadfdsafasdfdsafdsaflkjoijknifadskfnas;lfnalk;sfjasdlk\"\n",
    "t = 'bebadfcdfa'\n",
    "\n",
    "from datetime import datetime\n",
    "start_time = datetime.now()\n",
    "print(min_window(s, t))\n",
    "end_time = datetime.now()\n",
    "print(end_time - start_time)\n",
    "\n",
    "start_time = datetime.now()\n",
    "print(min_window_sub(s, t))\n",
    "end_time = datetime.now()\n",
    "print(end_time - start_time)\n",
    "\n"
   ]
  }
 ],
 "metadata": {
  "kernelspec": {
   "display_name": "Django Shell-Plus",
   "language": "python",
   "name": "django_extensions"
  },
  "language_info": {
   "codemirror_mode": {
    "name": "ipython",
    "version": 3
   },
   "file_extension": ".py",
   "mimetype": "text/x-python",
   "name": "python",
   "nbconvert_exporter": "python",
   "pygments_lexer": "ipython3",
   "version": "3.6.9"
  }
 },
 "nbformat": 4,
 "nbformat_minor": 5
}
