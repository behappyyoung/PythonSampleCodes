{
 "cells": [
  {
   "cell_type": "code",
   "execution_count": 25,
   "metadata": {},
   "outputs": [],
   "source": [
    "\n",
    "def equals(arr):\n",
    "    l = len(arr)\n",
    "    solutions = []\n",
    "    for i in range(0, l-1):\n",
    "        a = arr[i]\n",
    "        for j in range(i+1, l):\n",
    "            b = arr[j]\n",
    "            for k in range(i+1, l-1):\n",
    "                c = arr[k]\n",
    "                for m in range(k+1, l):\n",
    "                    d = arr[m]\n",
    "                    if (a + b) == (c + d) and j != k and j !=m:\n",
    "                        solutions.append([i, j, k, m])\n",
    "\n",
    "\n",
    "\n",
    "    return solutions"
   ]
  },
  {
   "cell_type": "code",
   "execution_count": 26,
   "metadata": {},
   "outputs": [
    {
     "name": "stdout",
     "output_type": "stream",
     "text": [
      "[[0, 2, 3, 5], [0, 2, 4, 6], [0, 4, 1, 3], [0, 5, 1, 6], [0, 6, 1, 2], [0, 6, 4, 5], [1, 2, 4, 5], [2, 4, 3, 6], [3, 5, 4, 6]]\n",
      "[[0, 6, 1, 2], [0, 4, 1, 3], [0, 5, 1, 6], [0, 2, 3, 5], [2, 4, 3, 6], [0, 6, 4, 5], [1, 2, 4, 5], [0, 2, 4, 6], [3, 5, 4, 6]]\n"
     ]
    }
   ],
   "source": [
    "def equals_hash(arr):\n",
    "    l = len(arr)\n",
    "    solutions = []\n",
    "    sum_dict = {}\n",
    "    for i in range(0, l-1):\n",
    "        a = arr[i]\n",
    "        for j in range(i+1, l):\n",
    "            b = arr[j]\n",
    "            c_sum = a + b\n",
    "            if sum_dict.get(str(c_sum)) is not None:\n",
    "                c_sum_dict = sum_dict.get(str(c_sum))\n",
    "                for cd in c_sum_dict:\n",
    "                    if len(cd) < 3:\n",
    "                        new_list = cd + [i,j]\n",
    "                        # new_list.sort()\n",
    "                        solutions.append(new_list)\n",
    "                c_sum_dict.append([i, j])\n",
    "\n",
    "            if sum_dict.get(str(c_sum)) is None:\n",
    "                sum_dict[str(c_sum)] = [[i, j]]\n",
    "#     print(sum_dict)\n",
    "\n",
    "    return solutions\n",
    "input_arr = [3, 4, 7, 1, 2, 9, 8]\n",
    "print(equals(input_arr))\n",
    "print(equals_hash(input_arr))"
   ]
  },
  {
   "cell_type": "code",
   "execution_count": 32,
   "metadata": {},
   "outputs": [
    {
     "name": "stdout",
     "output_type": "stream",
     "text": [
      "['a', 'b', 'c']\n"
     ]
    }
   ],
   "source": [
    "m = list(\"abc\")\n",
    "m.sort()\n",
    "print(m)"
   ]
  },
  {
   "cell_type": "code",
   "execution_count": 90,
   "metadata": {},
   "outputs": [
    {
     "name": "stdout",
     "output_type": "stream",
     "text": [
      "0\n"
     ]
    }
   ],
   "source": [
    "def maxPoints(A, B):\n",
    "\n",
    "    slopes = {}\n",
    "\n",
    "    for i in range(len(A)-1):\n",
    "        for j in range(1, len(A)):\n",
    "            x1 = A[i]\n",
    "            x2 = A[j]\n",
    "            y1 = B[i]\n",
    "            y2 = B[j]\n",
    "            if x1==x2 and y1 == y2:\n",
    "                continue\n",
    "            elif x1 == x2:\n",
    "                slope = 'x'+str(x1)                \n",
    "            elif y1 == y2:\n",
    "                slope = 'y'+str(y2)\n",
    "            else:\n",
    "                slope = str((y2-y1)/(x2-x1))\n",
    "            print(x1, x2, y1, y2, slope)\n",
    "            if slopes.get(slope):\n",
    "                    slopes[slope] += 1\n",
    "            else:\n",
    "                    slopes[slope] = 1\n",
    "#     print(slopes)\n",
    "    if slopes:\n",
    "        return max(slopes.values())\n",
    "    else:\n",
    "        return 0\n",
    "\n",
    "\n",
    "A=[1,2, 1]\n",
    "B=[1,2, 2]\n",
    "A= [1,1,1,1,1]\n",
    "B= [1,1,1,1,1]\n",
    "A=[-20]\n",
    "B=[-13]\n",
    "print(maxPoints(A, B))\n"
   ]
  },
  {
   "cell_type": "code",
   "execution_count": 101,
   "metadata": {},
   "outputs": [
    {
     "name": "stdout",
     "output_type": "stream",
     "text": [
      "['aaaaaaaaaaaaaaa', 'aaaaaaaaaaaaaaa', 'aaaaaaaaaaaaaaa', 'aaaaaaaaaaaaaaa', 'aaaaaaaaaaaaaaa', 'aaaaaaaaaaaaaaa', 'aaaaaaaaaaaaaaa', 'aaaaaaaaaaaaaaa', 'aaaaaaaaaaaaaaa', 'aaaaaaaaaaaaaaa', 'aaaaaaaaaaaaaaa', 'aaaaaaaaaaaaaaa', 'aaaaaaaaaaaaaaa', 'aaaaaaaaaaaaaaa', 'aaaaaaaaaaaaaaa', 'aaaaaaaaaaaaaaa', 'aaaaaaaaaaaaaaa', 'aaaaaaaaaaaaaaa', 'aaaaaaaaaaaaaaa', 'aaaaaaaaaaaaaaa', 'aaaaaaaaaaaaaaa', 'aaaaaaaaaaaaaaa', 'aaaaaaaaaaaaaaa', 'aaaaaaaaaaaaaaa', 'aaaaaaaaaaaaaaa', 'aaaaaaaaaaaaaaa', 'aaaaaaaaaaaaaaa', 'aaaaaaaaaaaaaaa', 'aaaaaaaaaaaaaaa', 'aaaaaaaaaaaaaaa', 'aaaaaaaaaaaaaaa', 'aaaaaaaaaaaaaaa', 'aaaaaaaaaaaaaaa', 'aaaaaaaaaaaaaaa', 'aaaaaaaaaaaaaaa', 'aaaaaaaaaaaaaaa', 'aaaaaaaaaaaaaaa', 'aaaaaaaaaaaaaaa', 'aaaaaaaaaaaaaaa', 'aaaaaaaaaaaaaaa', 'aaaaaaaaaaaaaaa', 'aaaaaaaaaaaaaaa', 'aaaaaaaaaaaaaaa', 'aaaaaaaaaaaaaaa', 'aaaaaaaaaaaaaaa', 'aaaaaaaaaaaaaaa', 'aaaaaaaaaaaaaaa', 'aaaaaaaaaaaaaaa', 'aaaaaaaaaaaaaaa', 'aaaaaaaaaaaaaaa', 'aaaaaaaaaaaaaaa', 'aaaaaaaaaaaaaaa', 'aaaaaaaaaaaaaaa', 'aaaaaaaaaaaaaaa', 'aaaaaaaaaaaaaaa', 'aaaaaaaaaaaaaaa', 'aaaaaaaaaaaaaaa', 'aaaaaaaaaaaaaaa', 'aaaaaaaaaaaaaaa', 'aaaaaaaaaaaaaaa', 'aaaaaaaaaaaaaaa', 'aaaaaaaaaaaaaaa', 'aaaaaaaaaaaaaaa', 'aaaaaaaaaaaaaaa', 'aaaaaaaaaaaaaaa', 'aaaaaaaaaaaaaaa', 'aaaaaaaaaaaaaaa', 'aaaaaaaaaaaaaaa', 'aaaaaaaaaaaaaaa', 'aaaaaaaaaaaaaaa', 'aaaaaaaaaaaaaaa', 'aaaaaaaaaaaaaaa', 'aaaaaaaaaaaaaaa', 'aaaaaaaaaaaaaaa', 'aaaaaaaaaaaaaaa', 'aaaaaaaaaaaaaaa', 'aaaaaaaaaaaaaaa', 'aaaaaaaaaaaaaaa', 'aaaaaaaaaaaaaaa', 'aaaaaaaaaaaaaaa', 'aaaaaaaaaaaaaaa', 'aaaaaaaaaaaaaaa', 'aaaaaaaaaaaaaaa', 'aaaaaaaaaaaaaaa', 'aaaaaaaaaaaaaaa', 'aaaaaaaaaaaaaaa', 'aaaaaaaaaaaaaaa', 'aaaaaaaaaaaaaaa', 'aaaaaaaaaaaaaaa', 'aaaaaaaaaaaaaaa', 'aaaaaaaaaaaaaaa', 'aaaaaaaaaaaaaaa', 'aaaaaaaaaaaaaaa', 'aaaaaaaaaaaaaaa', 'aaaaaaaaaaaaaaa', 'aaaaaaaaaaaaaaa', 'aaaaaaaaaaaaaaa', 'aaaaaaaaaaaaaaa', 'aaaaaaaaaaaaaaa', 'aaaaaaaaaaaaaaa', 'aaaaaaaaaaaaaaa', 'aaaaaaaaaaaaaaa', 'aaaaaaaaaaaaaaa', 'aaaaaaaaaaaaaaa', 'aaaaaaaaaaaaaaa', 'aaaaaaaaaaaaaaa', 'aaaaaaaaaaaaaaa', 'aaaaaaaaaaaaaaa', 'aaaaaaaaaaaaaaa', 'aaaaaaaaaaaaaaa', 'aaaaaaaaaaaaaaa', 'aaaaaaaaaaaaaaa', 'aaaaaaaaaaaaaaa', 'aaaaaaaaaaaaaaa', 'aaaaaaaaaaaaaaa', 'aaaaaaaaaaaaaaa', 'aaaaaaaaaaaaaaa', 'aaaaaaaaaaaaaaa', 'aaaaaaaaaaaaaaa', 'aaaaaaaaaaaaaaa']\n",
      "[0, 1, 2, 3, 4, 5, 6, 7, 8, 9, 10, 11, 12, 13, 14, 15, 16, 17, 18, 19, 20, 21, 22, 23, 24, 25, 26, 27, 28, 29, 30, 31, 32, 33, 34, 35, 36, 37, 38, 39, 40, 41, 42, 43, 44, 45, 46, 47, 48, 49, 50, 51, 52, 53, 54, 55, 56, 57, 58, 59, 60, 61, 62, 63, 64, 65, 66, 67, 68, 69, 70, 71, 72, 73, 74, 75, 76, 77, 78, 79, 80, 81, 82, 83, 84, 85, 86, 87, 88, 89, 90, 91, 92, 93, 94, 95, 96, 97, 98]\n"
     ]
    }
   ],
   "source": [
    "\"\"\"\n",
    "string concantration\n",
    "S: \"barfoothefoobarman\"\n",
    "L: [\"foo\", \"bar\"]\n",
    "\n",
    "\"\"\"\n",
    "def scon(S, L):\n",
    "    \n",
    "    def makeperm(arr):\n",
    "        perm_list = []\n",
    "        if len(arr) == 1:\n",
    "            return arr\n",
    "        for i in range(len(arr)):\n",
    "            for p in makeperm(arr[:i]+arr[i+1:]):\n",
    "                perm_list.append(arr[i] + p)\n",
    "        return perm_list\n",
    "                             \n",
    "    permlist = makeperm(L)\n",
    "    slength = len(permlist[0])\n",
    "    print(permlist)\n",
    "    index_list = []\n",
    "    i = 0\n",
    "    while i < len(S):\n",
    "        if S[i:i+slength] in permlist:\n",
    "            index_list.append(i)\n",
    "        i +=1\n",
    "                \n",
    "    return index_list\n",
    "\n",
    "S= \"barfoothefoobarman\"\n",
    "L= [\"foo\", \"bar\"]\n",
    "S= \"aaaaaaaaaaaaaaaaaaaaaaaaaaaaaaaaaaaaaaaaaaaaaaaaaaaaaaaaaaaaaaaaaaaaaaaaaaaaaaaaaaaaaaaaaaaaaaaaaaaaaaaaaaaaaaaaa\"\n",
    "L= [ \"aaa\", \"aaa\", \"aaa\", \"aaa\", \"aaa\" ]\n",
    "print(scon(S, L))"
   ]
  },
  {
   "cell_type": "code",
   "execution_count": 51,
   "metadata": {},
   "outputs": [
    {
     "name": "stdout",
     "output_type": "stream",
     "text": [
      "1 1 1 1\n",
      "1 2 1 2\n",
      "2 1 2 1\n",
      "2 2 2 2\n"
     ]
    }
   ],
   "source": [
    "def sconcan(S, L):\n",
    "    \n",
    "    slength = len(L[0])\n",
    "    temp = L.copy()\n",
    "    index_list = []\n",
    "    i = 0\n",
    "    while i < len(S):\n",
    "        if S[i:i+slength] in temp:\n",
    "            temp.remove(S[i:i+slength])\n",
    "            if len(temp) == 0:\n",
    "                index_list.append(i)\n",
    "        i +=1\n",
    "                \n",
    "    return index_list"
   ]
  },
  {
   "cell_type": "code",
   "execution_count": 111,
   "metadata": {},
   "outputs": [
    {
     "data": {
      "text/plain": [
       "[[3, 4], {3: 3, 4: 4}]"
      ]
     },
     "execution_count": 111,
     "metadata": {},
     "output_type": "execute_result"
    }
   ],
   "source": [
    "\"\"\"\n",
    "LRU cache\n",
    "\n",
    "\"\"\"\n",
    "\n",
    "class LRUCache:\n",
    "\n",
    "    def __init__(self, capacity: int):\n",
    "        self.capacity = capacity\n",
    "        self.cache = {}\n",
    "        self.cap = []\n",
    "        \n",
    "    def get(self, key: int) -> int:\n",
    "        if key in self.cache:\n",
    "            self.cap.remove(key)\n",
    "            self.cap.append(key)\n",
    "            return self.cache[key]\n",
    "        else:\n",
    "            return -1\n",
    "\n",
    "    def put(self, key: int, value: int) -> None:\n",
    "        if key in self.cache:\n",
    "            self.cap.remove(key)\n",
    "        else:\n",
    "            if self.capacity == len(self.cap):\n",
    "                t = self.cap.pop(0)\n",
    "                del self.cache[t]\n",
    "        self.cache[key] = value\n",
    "        self.cap.append(key)\n",
    "\n",
    "    def peek(self):\n",
    "        return [self.cap, self.cache]\n",
    "    \n",
    "# Your LRUCache object will be instantiated and called as such:\n",
    "# obj = LRUCache(capacity)\n",
    "# param_1 = obj.get(key)\n",
    "# obj.put(key,value)\n",
    "\"\"\"\n",
    "[\"LRUCache\",\"put\",\"put\",\"get\",\"put\",\"get\",\"put\",\"get\",\"get\",\"get\"]\n",
    "[[2],[1,1],[2,2],[1],[3,3],[2],[4,4],[1],[3],[4]]\n",
    "\n",
    "[null,null,null,1,null,-1,null,-1,3,4]\n",
    "\"\"\"\n",
    "lru = LRUCache(2)\n",
    "lru.put(1,1)\n",
    "lru.put(2,2)\n",
    "lru.get(1)\n",
    "lru.put(3,3)\n",
    "lru.get(2)\n",
    "lru.put(4,4)\n",
    "lru.get(1)\n",
    "lru.peek()"
   ]
  },
  {
   "cell_type": "code",
   "execution_count": null,
   "metadata": {},
   "outputs": [],
   "source": []
  }
 ],
 "metadata": {
  "kernelspec": {
   "display_name": "Python 3",
   "language": "python",
   "name": "python3"
  },
  "language_info": {
   "codemirror_mode": {
    "name": "ipython",
    "version": 3
   },
   "file_extension": ".py",
   "mimetype": "text/x-python",
   "name": "python",
   "nbconvert_exporter": "python",
   "pygments_lexer": "ipython3",
   "version": "3.7.5"
  }
 },
 "nbformat": 4,
 "nbformat_minor": 2
}
