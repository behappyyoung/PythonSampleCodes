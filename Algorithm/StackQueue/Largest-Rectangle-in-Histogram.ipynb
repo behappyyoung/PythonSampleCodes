{
 "cells": [
  {
   "cell_type": "code",
   "execution_count": null,
   "id": "5d3fd8b2",
   "metadata": {},
   "outputs": [],
   "source": [
    "\"\"\"\n",
    "    https://www.geeksforgeeks.org/largest-rectangle-under-histogram/\n",
    "    \n",
    "\"\"\"\n",
    " "
   ]
  }
 ],
 "metadata": {
  "kernelspec": {
   "display_name": "Django Shell-Plus",
   "language": "python",
   "name": "django_extensions"
  },
  "language_info": {
   "codemirror_mode": {
    "name": "ipython",
    "version": 3
   },
   "file_extension": ".py",
   "mimetype": "text/x-python",
   "name": "python",
   "nbconvert_exporter": "python",
   "pygments_lexer": "ipython3",
   "version": "3.6.9"
  }
 },
 "nbformat": 4,
 "nbformat_minor": 5
}
