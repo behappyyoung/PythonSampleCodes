{
 "cells": [
  {
   "cell_type": "code",
   "execution_count": null,
   "id": "0b5d7337",
   "metadata": {},
   "outputs": [],
   "source": [
    "\"\"\"\n",
    "Input: nums = [9,4,1,7], k = 2\n",
    "Output: 2\n",
    "Explanation: There are six ways to pick score(s) of two students:\n",
    "- [9,4,1,7]. The difference between the highest and lowest score is 9 - 4 = 5.\n",
    "- [9,4,1,7]. The difference between the highest and lowest score is 9 - 1 = 8.\n",
    "- [9,4,1,7]. The difference between the highest and lowest score is 9 - 7 = 2.\n",
    "- [9,4,1,7]. The difference between the highest and lowest score is 4 - 1 = 3.\n",
    "- [9,4,1,7]. The difference between the highest and lowest score is 7 - 4 = 3.\n",
    "- [9,4,1,7]. The difference between the highest and lowest score is 7 - 1 = 6.\n",
    "The minimum possible difference is 2.\n",
    "\n",
    "[87063,61094,44530,21297,95857,93551,9918]\n",
    "6\n",
    "74560\n",
    "[20980,13353,51423,11920,41836,51586,54445]\n",
    "k = 5\n",
    "38465\n",
    "[41900,69441,94407,37498,20299,10856,36221,2231,54526,79072,84309,76765,92282,13401,44698,17586,98455,47895,98889,65298,32271,23801,83153,12186,7453,79460,67209,54576,87785,47738,40750,31265,77990,93502,50364,75098,11712,80013,24193,35209,56300,85735,3590,24858,6780,50086,87549,7413,90444,12284,44970,39274,81201,43353,75808,14508,17389,10313,90055,43102,18659,20802,70315,48843,12273,78876,36638,17051,20478]\n",
    "5\n",
    "\"\"\""
   ]
  },
  {
   "cell_type": "code",
   "execution_count": 21,
   "id": "fca9a195",
   "metadata": {},
   "outputs": [],
   "source": []
  },
  {
   "cell_type": "code",
   "execution_count": 67,
   "id": "c4945b34",
   "metadata": {},
   "outputs": [],
   "source": [
    "def minimumDifference(nums, k) -> int:\n",
    "    if k <= 1:\n",
    "        return 0\n",
    "    nums.sort()\n",
    "    l = 0\n",
    "    r = k-1\n",
    "    prev_min = nums[r] - nums[l]\n",
    "    while r < len(nums):\n",
    "        c_min = nums[r] - nums[l]\n",
    "        c_min = min(prev_min, c_min)\n",
    "        l += 1\n",
    "        r += 1\n",
    "        prev_min = c_min\n",
    "    return c_min"
   ]
  },
  {
   "cell_type": "code",
   "execution_count": 68,
   "id": "f4cadb60",
   "metadata": {},
   "outputs": [
    {
     "name": "stdout",
     "output_type": "stream",
     "text": [
      "33465\n",
      "1428\n",
      "0.00020423400565050542\n"
     ]
    }
   ],
   "source": [
    "# nums = [9,4,1,7]\n",
    "# k = 2\n",
    "# answer = minimumDifference(nums, k)\n",
    "# print(answer)\n",
    "# nums = [87063,61094,44530,21297,95857,93551,9918]\n",
    "# k = 6\n",
    "# answer = minimumDifference(nums, k)\n",
    "# print(answer)\n",
    "nums = [20980,13353,51423,11920,41836,51586,54445]\n",
    "k = 5\n",
    "answer = minimumDifference(nums, k)\n",
    "print(answer)\n",
    "import timeit\n",
    "start = timeit.default_timer()\n",
    "nums = [41900,69441,94407,37498,20299,10856,36221,2231,54526,79072,84309,76765,92282,13401,44698,17586,98455,47895,98889,65298,32271,23801,83153,12186,7453,79460,67209,54576,87785,47738,40750,31265,77990,93502,50364,75098,11712,80013,24193,35209,56300,85735,3590,24858,6780,50086,87549,7413,90444,12284,44970,39274,81201,43353,75808,14508,17389,10313,90055,43102,18659,20802,70315,48843,12273,78876,36638,17051,20478]\n",
    "answer = minimumDifference(nums, k)\n",
    "print(answer)\n",
    "stop = timeit.default_timer()\n",
    "print(stop-start)"
   ]
  },
  {
   "cell_type": "code",
   "execution_count": 63,
   "id": "01b5c0dc",
   "metadata": {},
   "outputs": [
    {
     "name": "stdout",
     "output_type": "stream",
     "text": [
      "[12273, 17051, 20478, 36638, 78876]\n"
     ]
    }
   ],
   "source": [
    "nums = [12273,78876,36638,17051,20478]\n",
    "nums.sort()\n",
    "print(nums)"
   ]
  }
 ],
 "metadata": {
  "kernelspec": {
   "display_name": "Python 3",
   "language": "python",
   "name": "python3"
  },
  "language_info": {
   "codemirror_mode": {
    "name": "ipython",
    "version": 3
   },
   "file_extension": ".py",
   "mimetype": "text/x-python",
   "name": "python",
   "nbconvert_exporter": "python",
   "pygments_lexer": "ipython3",
   "version": "3.6.9"
  }
 },
 "nbformat": 4,
 "nbformat_minor": 5
}
