{
 "cells": [
  {
   "cell_type": "code",
   "execution_count": null,
   "id": "0b5d7337",
   "metadata": {},
   "outputs": [],
   "source": [
    "\"\"\"\n",
    "Input: nums = [9,4,1,7], k = 2\n",
    "Output: 2\n",
    "Explanation: There are six ways to pick score(s) of two students:\n",
    "- [9,4,1,7]. The difference between the highest and lowest score is 9 - 4 = 5.\n",
    "- [9,4,1,7]. The difference between the highest and lowest score is 9 - 1 = 8.\n",
    "- [9,4,1,7]. The difference between the highest and lowest score is 9 - 7 = 2.\n",
    "- [9,4,1,7]. The difference between the highest and lowest score is 4 - 1 = 3.\n",
    "- [9,4,1,7]. The difference between the highest and lowest score is 7 - 4 = 3.\n",
    "- [9,4,1,7]. The difference between the highest and lowest score is 7 - 1 = 6.\n",
    "The minimum possible difference is 2.\n",
    "\n",
    "[87063,61094,44530,21297,95857,93551,9918]\n",
    "6\n",
    "74560\n",
    "[20980,13353,51423,11920,41836,51586,54445]\n",
    "k = 5\n",
    "38465\n",
    "[41900,69441,94407,37498,20299,10856,36221,2231,54526,79072,84309,76765,92282,13401,44698,17586,98455,47895,98889,65298,32271,23801,83153,12186,7453,79460,67209,54576,87785,47738,40750,31265,77990,93502,50364,75098,11712,80013,24193,35209,56300,85735,3590,24858,6780,50086,87549,7413,90444,12284,44970,39274,81201,43353,75808,14508,17389,10313,90055,43102,18659,20802,70315,48843,12273,78876,36638,17051,20478]\n",
    "5\n",
    "\"\"\""
   ]
  },
  {
   "cell_type": "code",
   "execution_count": 21,
   "id": "fca9a195",
   "metadata": {},
   "outputs": [],
   "source": [
    "def minimumDifference(nums, k) -> int:\n",
    "    if k <= 1:\n",
    "        return 0\n",
    "    \n",
    "    current_min = max(nums) - min(nums)\n",
    "    if len(nums) == k:\n",
    "            return current_min\n",
    "    else:\n",
    "            max_copy = nums.copy()\n",
    "            max_copy.remove(max(max_copy))\n",
    "            min_copy = nums.copy()\n",
    "            min_copy.remove(min(min_copy))\n",
    "            return min(minimumDifference(max_copy, k), minimumDifference(min_copy, k))"
   ]
  },
  {
   "cell_type": "code",
   "execution_count": 32,
   "id": "4cec4546",
   "metadata": {},
   "outputs": [],
   "source": [
    "def minimumDifference2(nums, k) -> int:\n",
    "    if k <= 1:\n",
    "        return 0\n",
    "    saved = {}\n",
    "    def get_min(c_nums, k):\n",
    "        c_max = max(c_nums)\n",
    "        c_min = min(c_nums)\n",
    "        current_min = c_max - c_min\n",
    "        if (c_max, c_min) in saved:\n",
    "            return saved(c_max, c_min)\n",
    "        if len(nums) == k:\n",
    "            saved(c_max, c_min) = current_min\n",
    "            return current_min\n",
    "        else:\n",
    "                max_copy = nums.copy()\n",
    "                max_copy.remove(max(max_copy))\n",
    "                min_copy = nums.copy()\n",
    "                min_copy.remove(min(min_copy))\n",
    "                c_min = min(get_min(max_copy, k), get_min(min_copy, k))\n",
    "                \n",
    "        \n",
    "    return get_min(nums, k)"
   ]
  },
  {
   "cell_type": "code",
   "execution_count": 33,
   "id": "f4cadb60",
   "metadata": {},
   "outputs": [
    {
     "ename": "RecursionError",
     "evalue": "maximum recursion depth exceeded in comparison",
     "output_type": "error",
     "traceback": [
      "\u001b[0;31m---------------------------------------------------------------------------\u001b[0m",
      "\u001b[0;31mRecursionError\u001b[0m                            Traceback (most recent call last)",
      "\u001b[0;32m<ipython-input-33-1c1e84b191e2>\u001b[0m in \u001b[0;36m<module>\u001b[0;34m\u001b[0m\n\u001b[1;32m     13\u001b[0m \u001b[0mstart\u001b[0m \u001b[0;34m=\u001b[0m \u001b[0mtimeit\u001b[0m\u001b[0;34m.\u001b[0m\u001b[0mdefault_timer\u001b[0m\u001b[0;34m(\u001b[0m\u001b[0;34m)\u001b[0m\u001b[0;34m\u001b[0m\u001b[0;34m\u001b[0m\u001b[0m\n\u001b[1;32m     14\u001b[0m \u001b[0mnums\u001b[0m \u001b[0;34m=\u001b[0m \u001b[0;34m[\u001b[0m\u001b[0;36m41900\u001b[0m\u001b[0;34m,\u001b[0m\u001b[0;36m69441\u001b[0m\u001b[0;34m,\u001b[0m\u001b[0;36m94407\u001b[0m\u001b[0;34m,\u001b[0m\u001b[0;36m37498\u001b[0m\u001b[0;34m,\u001b[0m\u001b[0;36m20299\u001b[0m\u001b[0;34m,\u001b[0m\u001b[0;36m10856\u001b[0m\u001b[0;34m,\u001b[0m\u001b[0;36m36221\u001b[0m\u001b[0;34m,\u001b[0m\u001b[0;36m2231\u001b[0m\u001b[0;34m,\u001b[0m\u001b[0;36m54526\u001b[0m\u001b[0;34m,\u001b[0m\u001b[0;36m79072\u001b[0m\u001b[0;34m,\u001b[0m\u001b[0;36m84309\u001b[0m\u001b[0;34m,\u001b[0m\u001b[0;36m76765\u001b[0m\u001b[0;34m,\u001b[0m\u001b[0;36m92282\u001b[0m\u001b[0;34m,\u001b[0m\u001b[0;36m13401\u001b[0m\u001b[0;34m,\u001b[0m\u001b[0;36m44698\u001b[0m\u001b[0;34m]\u001b[0m\u001b[0;34m\u001b[0m\u001b[0;34m\u001b[0m\u001b[0m\n\u001b[0;32m---> 15\u001b[0;31m \u001b[0manswer\u001b[0m \u001b[0;34m=\u001b[0m \u001b[0mminimumDifference2\u001b[0m\u001b[0;34m(\u001b[0m\u001b[0mnums\u001b[0m\u001b[0;34m,\u001b[0m \u001b[0mk\u001b[0m\u001b[0;34m)\u001b[0m\u001b[0;34m\u001b[0m\u001b[0;34m\u001b[0m\u001b[0m\n\u001b[0m\u001b[1;32m     16\u001b[0m \u001b[0mprint\u001b[0m\u001b[0;34m(\u001b[0m\u001b[0manswer\u001b[0m\u001b[0;34m)\u001b[0m\u001b[0;34m\u001b[0m\u001b[0;34m\u001b[0m\u001b[0m\n\u001b[1;32m     17\u001b[0m \u001b[0mstop\u001b[0m \u001b[0;34m=\u001b[0m \u001b[0mtimeit\u001b[0m\u001b[0;34m.\u001b[0m\u001b[0mdefault_timer\u001b[0m\u001b[0;34m(\u001b[0m\u001b[0;34m)\u001b[0m\u001b[0;34m\u001b[0m\u001b[0;34m\u001b[0m\u001b[0m\n",
      "\u001b[0;32m<ipython-input-32-d99b7b998eca>\u001b[0m in \u001b[0;36mminimumDifference2\u001b[0;34m(nums, k)\u001b[0m\n\u001b[1;32m     14\u001b[0m                 \u001b[0;32mreturn\u001b[0m \u001b[0mmin\u001b[0m\u001b[0;34m(\u001b[0m\u001b[0mget_min\u001b[0m\u001b[0;34m(\u001b[0m\u001b[0mmax_copy\u001b[0m\u001b[0;34m,\u001b[0m \u001b[0mk\u001b[0m\u001b[0;34m)\u001b[0m\u001b[0;34m,\u001b[0m \u001b[0mget_min\u001b[0m\u001b[0;34m(\u001b[0m\u001b[0mmin_copy\u001b[0m\u001b[0;34m,\u001b[0m \u001b[0mk\u001b[0m\u001b[0;34m)\u001b[0m\u001b[0;34m)\u001b[0m\u001b[0;34m\u001b[0m\u001b[0;34m\u001b[0m\u001b[0m\n\u001b[1;32m     15\u001b[0m \u001b[0;34m\u001b[0m\u001b[0m\n\u001b[0;32m---> 16\u001b[0;31m     \u001b[0;32mreturn\u001b[0m \u001b[0mget_min\u001b[0m\u001b[0;34m(\u001b[0m\u001b[0mnums\u001b[0m\u001b[0;34m,\u001b[0m \u001b[0mk\u001b[0m\u001b[0;34m)\u001b[0m\u001b[0;34m\u001b[0m\u001b[0;34m\u001b[0m\u001b[0m\n\u001b[0m",
      "\u001b[0;32m<ipython-input-32-d99b7b998eca>\u001b[0m in \u001b[0;36mget_min\u001b[0;34m(cnums, k)\u001b[0m\n\u001b[1;32m     12\u001b[0m                 \u001b[0mmin_copy\u001b[0m \u001b[0;34m=\u001b[0m \u001b[0mnums\u001b[0m\u001b[0;34m.\u001b[0m\u001b[0mcopy\u001b[0m\u001b[0;34m(\u001b[0m\u001b[0;34m)\u001b[0m\u001b[0;34m\u001b[0m\u001b[0;34m\u001b[0m\u001b[0m\n\u001b[1;32m     13\u001b[0m                 \u001b[0mmin_copy\u001b[0m\u001b[0;34m.\u001b[0m\u001b[0mremove\u001b[0m\u001b[0;34m(\u001b[0m\u001b[0mmin\u001b[0m\u001b[0;34m(\u001b[0m\u001b[0mmin_copy\u001b[0m\u001b[0;34m)\u001b[0m\u001b[0;34m)\u001b[0m\u001b[0;34m\u001b[0m\u001b[0;34m\u001b[0m\u001b[0m\n\u001b[0;32m---> 14\u001b[0;31m                 \u001b[0;32mreturn\u001b[0m \u001b[0mmin\u001b[0m\u001b[0;34m(\u001b[0m\u001b[0mget_min\u001b[0m\u001b[0;34m(\u001b[0m\u001b[0mmax_copy\u001b[0m\u001b[0;34m,\u001b[0m \u001b[0mk\u001b[0m\u001b[0;34m)\u001b[0m\u001b[0;34m,\u001b[0m \u001b[0mget_min\u001b[0m\u001b[0;34m(\u001b[0m\u001b[0mmin_copy\u001b[0m\u001b[0;34m,\u001b[0m \u001b[0mk\u001b[0m\u001b[0;34m)\u001b[0m\u001b[0;34m)\u001b[0m\u001b[0;34m\u001b[0m\u001b[0;34m\u001b[0m\u001b[0m\n\u001b[0m\u001b[1;32m     15\u001b[0m \u001b[0;34m\u001b[0m\u001b[0m\n\u001b[1;32m     16\u001b[0m     \u001b[0;32mreturn\u001b[0m \u001b[0mget_min\u001b[0m\u001b[0;34m(\u001b[0m\u001b[0mnums\u001b[0m\u001b[0;34m,\u001b[0m \u001b[0mk\u001b[0m\u001b[0;34m)\u001b[0m\u001b[0;34m\u001b[0m\u001b[0;34m\u001b[0m\u001b[0m\n",
      "... last 1 frames repeated, from the frame below ...\n",
      "\u001b[0;32m<ipython-input-32-d99b7b998eca>\u001b[0m in \u001b[0;36mget_min\u001b[0;34m(cnums, k)\u001b[0m\n\u001b[1;32m     12\u001b[0m                 \u001b[0mmin_copy\u001b[0m \u001b[0;34m=\u001b[0m \u001b[0mnums\u001b[0m\u001b[0;34m.\u001b[0m\u001b[0mcopy\u001b[0m\u001b[0;34m(\u001b[0m\u001b[0;34m)\u001b[0m\u001b[0;34m\u001b[0m\u001b[0;34m\u001b[0m\u001b[0m\n\u001b[1;32m     13\u001b[0m                 \u001b[0mmin_copy\u001b[0m\u001b[0;34m.\u001b[0m\u001b[0mremove\u001b[0m\u001b[0;34m(\u001b[0m\u001b[0mmin\u001b[0m\u001b[0;34m(\u001b[0m\u001b[0mmin_copy\u001b[0m\u001b[0;34m)\u001b[0m\u001b[0;34m)\u001b[0m\u001b[0;34m\u001b[0m\u001b[0;34m\u001b[0m\u001b[0m\n\u001b[0;32m---> 14\u001b[0;31m                 \u001b[0;32mreturn\u001b[0m \u001b[0mmin\u001b[0m\u001b[0;34m(\u001b[0m\u001b[0mget_min\u001b[0m\u001b[0;34m(\u001b[0m\u001b[0mmax_copy\u001b[0m\u001b[0;34m,\u001b[0m \u001b[0mk\u001b[0m\u001b[0;34m)\u001b[0m\u001b[0;34m,\u001b[0m \u001b[0mget_min\u001b[0m\u001b[0;34m(\u001b[0m\u001b[0mmin_copy\u001b[0m\u001b[0;34m,\u001b[0m \u001b[0mk\u001b[0m\u001b[0;34m)\u001b[0m\u001b[0;34m)\u001b[0m\u001b[0;34m\u001b[0m\u001b[0;34m\u001b[0m\u001b[0m\n\u001b[0m\u001b[1;32m     15\u001b[0m \u001b[0;34m\u001b[0m\u001b[0m\n\u001b[1;32m     16\u001b[0m     \u001b[0;32mreturn\u001b[0m \u001b[0mget_min\u001b[0m\u001b[0;34m(\u001b[0m\u001b[0mnums\u001b[0m\u001b[0;34m,\u001b[0m \u001b[0mk\u001b[0m\u001b[0;34m)\u001b[0m\u001b[0;34m\u001b[0m\u001b[0;34m\u001b[0m\u001b[0m\n",
      "\u001b[0;31mRecursionError\u001b[0m: maximum recursion depth exceeded in comparison"
     ]
    }
   ],
   "source": [
    "# nums = [9,4,1,7]\n",
    "# k = 2\n",
    "# answer = minimumDifference(nums, k)\n",
    "# print(answer)\n",
    "# nums = [87063,61094,44530,21297,95857,93551,9918]\n",
    "# k = 6\n",
    "# answer = minimumDifference(nums, k)\n",
    "# print(answer)\n",
    "nums = [20980,13353,51423,11920,41836,51586,54445]\n",
    "k = 5\n",
    "# answer = minimumDifference(nums, k)\n",
    "import timeit\n",
    "start = timeit.default_timer()\n",
    "nums = [41900,69441,94407,37498,20299,10856,36221,2231,54526,79072,84309,76765,92282,13401,44698]\n",
    "answer = minimumDifference2(nums, k)\n",
    "print(answer)\n",
    "stop = timeit.default_timer()\n",
    "print(stop-start)"
   ]
  },
  {
   "cell_type": "code",
   "execution_count": 34,
   "id": "01b5c0dc",
   "metadata": {},
   "outputs": [
    {
     "name": "stdout",
     "output_type": "stream",
     "text": [
      "{(5, 4): '54'}\n"
     ]
    }
   ],
   "source": [
    "nums = [41900,69441,94407,37498,20299,10856,36221,2231,54526,79072,84309,76765,92282,13401,44698,17586,98455,47895,98889,65298,32271,23801,83153,12186,7453,79460,67209,54576,87785,47738,40750,31265,77990,93502,50364,75098,11712,80013,24193,35209,56300,85735,3590,24858,6780,50086,87549,7413,90444,12284,44970,39274,81201,43353,75808,14508,17389,10313,90055,43102,18659,20802,70315,48843,12273,78876,36638,17051,20478]\n",
    "# n = sorted(nums)\n",
    "# print(n, len(n), min(n), max(n)) \n",
    "d = {}\n",
    "d[5,4] = '54'\n",
    "print(d)"
   ]
  }
 ],
 "metadata": {
  "kernelspec": {
   "display_name": "Python 3",
   "language": "python",
   "name": "python3"
  },
  "language_info": {
   "codemirror_mode": {
    "name": "ipython",
    "version": 3
   },
   "file_extension": ".py",
   "mimetype": "text/x-python",
   "name": "python",
   "nbconvert_exporter": "python",
   "pygments_lexer": "ipython3",
   "version": "3.6.9"
  }
 },
 "nbformat": 4,
 "nbformat_minor": 5
}
