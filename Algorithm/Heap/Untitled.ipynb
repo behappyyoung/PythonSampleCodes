{
 "cells": [
  {
   "cell_type": "code",
   "execution_count": 16,
   "id": "22c99ff2",
   "metadata": {},
   "outputs": [
    {
     "name": "stdout",
     "output_type": "stream",
     "text": [
      "None [] Counter({'love': 3, 'i': 2, 'coding': 1})\n",
      "None ['coding', 'love', 'i']\n"
     ]
    }
   ],
   "source": [
    "heap=[]\n",
    "import heapq\n",
    "from collections import Counter\n",
    "h = heapq.heapify(heap)\n",
    "\n",
    "l = ['i', 'love', 'i', 'coding', 'love', 'love']\n",
    "\n",
    "wordsDict = Counter(l)\n",
    "\n",
    "print(h, heap, wordsDict)\n",
    "\n",
    "for ll in wordsDict:\n",
    "    heapq.heappush(heap, ll)\n",
    "\n",
    "print(h, heap)"
   ]
  }
 ],
 "metadata": {
  "kernelspec": {
   "display_name": "Django Shell-Plus",
   "language": "python",
   "name": "django_extensions"
  },
  "language_info": {
   "codemirror_mode": {
    "name": "ipython",
    "version": 3
   },
   "file_extension": ".py",
   "mimetype": "text/x-python",
   "name": "python",
   "nbconvert_exporter": "python",
   "pygments_lexer": "ipython3",
   "version": "3.6.9"
  }
 },
 "nbformat": 4,
 "nbformat_minor": 5
}
