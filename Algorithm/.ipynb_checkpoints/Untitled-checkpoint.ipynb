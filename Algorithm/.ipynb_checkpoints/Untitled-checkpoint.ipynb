{
 "cells": [
  {
   "cell_type": "code",
   "execution_count": 123,
   "metadata": {},
   "outputs": [
    {
     "name": "stdout",
     "output_type": "stream",
     "text": [
      "[['Q....', '..Q..', '....Q', '.Q...', '...Q.'], ['Q....', '...Q.', '.Q...', '....Q', '..Q..'], ['.Q...', '...Q.', 'Q....', '..Q..', '....Q'], ['.Q...', '....Q', '..Q..', 'Q....', '...Q.'], ['..Q..', 'Q....', '...Q.', '.Q...', '....Q'], ['..Q..', '....Q', '.Q...', '...Q.', 'Q....'], ['...Q.', 'Q....', '..Q..', '....Q', '.Q...'], ['...Q.', '.Q...', '....Q', '..Q..', 'Q....'], ['....Q', '.Q...', '...Q.', 'Q....', '..Q..'], ['....Q', '..Q..', 'Q....', '...Q.', '.Q...']]\n"
     ]
    },
    {
     "data": {
      "text/plain": [
       "'\\n#5\\n\\n[[\"Q....\",\"..Q..\",\"....Q\",\".Q...\",\"...Q.\"],\\n[\"Q....\",\"...Q.\",\".Q...\",\"....Q\",\"..Q..\"],\\n[\".Q...\",\"...Q.\",\"Q....\",\"..Q..\",\"....Q\"],\\n[\".Q...\",\"....Q\",\"..Q..\",\"Q....\",\"...Q.\"],\\n[\"..Q..\",\"Q....\",\"...Q.\",\".Q...\",\"....Q\"],\\n[\"..Q..\",\"....Q\",\".Q...\",\"...Q.\",\"Q....\"],\\n[\"...Q.\",\"Q....\",\"..Q..\",\"....Q\",\".Q...\"],\\n[\"...Q.\",\".Q...\",\"....Q\",\"..Q..\",\"Q....\"],\\n[\"....Q\",\".Q...\",\"...Q.\",\"Q....\",\"..Q..\"],\\n[\"....Q\",\"..Q..\",\"Q....\",\"...Q.\",\".Q...\"]]\\n \\n'"
      ]
     },
     "execution_count": 123,
     "metadata": {},
     "output_type": "execute_result"
    }
   ],
   "source": [
    "def solveNQueens(n):\n",
    "    \n",
    "    \n",
    "    def find_q(qs, xy_neg, xy_pos):\n",
    "        \n",
    "        rows = len(qs)\n",
    "\n",
    "        if rows == n:\n",
    "            qlocations.append(qs)\n",
    "            return None\n",
    "        \n",
    "        for cols in range(n):\n",
    "            if cols not in qs and (rows+cols) not in xy_neg and (rows-cols) not in xy_pos:\n",
    "                next_qs = qs + [cols]\n",
    "                next_neg = xy_neg + [rows+cols]\n",
    "                next_pos =xy_pos + [rows-cols]\n",
    "                find_q(next_qs, next_neg, next_pos)\n",
    "\n",
    "    qlocations = []                \n",
    "    find_q([], [], [])\n",
    "    print_arr = []\n",
    "    for ql in qlocations:\n",
    "        a =''\n",
    "        for i in range(len(ql)):\n",
    "            ql[i] = \".\" * ql[i] + 'Q' + \".\"*(n-ql[i]-1)\n",
    "\n",
    "    return qlocations\n",
    "print(solveNQueens(5))\n",
    "\"\"\"\n",
    "#5\n",
    "\n",
    "[[\"Q....\",\"..Q..\",\"....Q\",\".Q...\",\"...Q.\"],\n",
    "[\"Q....\",\"...Q.\",\".Q...\",\"....Q\",\"..Q..\"],\n",
    "[\".Q...\",\"...Q.\",\"Q....\",\"..Q..\",\"....Q\"],\n",
    "[\".Q...\",\"....Q\",\"..Q..\",\"Q....\",\"...Q.\"],\n",
    "[\"..Q..\",\"Q....\",\"...Q.\",\".Q...\",\"....Q\"],\n",
    "[\"..Q..\",\"....Q\",\".Q...\",\"...Q.\",\"Q....\"],\n",
    "[\"...Q.\",\"Q....\",\"..Q..\",\"....Q\",\".Q...\"],\n",
    "[\"...Q.\",\".Q...\",\"....Q\",\"..Q..\",\"Q....\"],\n",
    "[\"....Q\",\".Q...\",\"...Q.\",\"Q....\",\"..Q..\"],\n",
    "[\"....Q\",\"..Q..\",\"Q....\",\"...Q.\",\".Q...\"]]\n",
    " \n",
    "\"\"\"\n"
   ]
  },
  {
   "cell_type": "code",
   "execution_count": 56,
   "metadata": {},
   "outputs": [
    {
     "name": "stdout",
     "output_type": "stream",
     "text": [
      "[['.Q..', '...Q', 'Q...', '..Q.'], ['..Q.', 'Q...', '...Q', '.Q..']]\n"
     ]
    }
   ],
   "source": [
    "def solveNQueens(n):\n",
    "        def DFS(queens, xy_dif, xy_sum):\n",
    "            \"\"\"\n",
    "            temp = [[\".\" * i + \"Q\" + \".\" * (n - i - 1) for i in queens]]\n",
    "            for t in temp:\n",
    "                for tt in t:\n",
    "                    print(tt)\n",
    "                print(\"\\n\")\n",
    "            print(\"\\n\")\n",
    "            \"\"\"\n",
    "\n",
    "            p = len(queens) # p is the index of row\n",
    "            if p == n:\n",
    "                result.append(queens)\n",
    "                return None\n",
    "            for q in range(n): # q is the index of col \n",
    "                # queens stores those used cols, for example, [0,2,4,1] means these cols have been used\n",
    "                # xy_dif is the diagonal 1\n",
    "                # xy_sum is the diagonal 2\n",
    "                if q not in queens and p - q not in xy_dif and p + q not in xy_sum:\n",
    "                    DFS(queens + [q], xy_dif + [p - q], xy_sum + [p + q])\n",
    "\n",
    "        result = []\n",
    "        DFS([], [], [])\n",
    "        return [[\".\" * i + \"Q\" + \".\" * (n - i - 1) for i in sol] for sol in result]\n",
    "    \n",
    "print(solveNQueens(4))"
   ]
  },
  {
   "cell_type": "code",
   "execution_count": 49,
   "metadata": {},
   "outputs": [
    {
     "name": "stdout",
     "output_type": "stream",
     "text": [
      ".Q..\n",
      "...Q\n",
      "Q...\n",
      "..Q.\n",
      "[['.', 'Q', '.', '.'], ['.', '.', '.', 'Q'], ['Q', '.', '.', '.'], ['.', '.', 'Q', '.']]\n"
     ]
    }
   ],
   "source": [
    "aa = [['.', 'Q', '.', '.'], ['.', '.', '.', 'Q'], ['Q', '.', '.', '.'], ['.', '.', 'Q', '.']]\n",
    "for a in aa:\n",
    "    a = ''.join(a)\n",
    "    print(a)\n",
    "print(aa)"
   ]
  },
  {
   "cell_type": "code",
   "execution_count": 101,
   "metadata": {},
   "outputs": [
    {
     "name": "stdout",
     "output_type": "stream",
     "text": [
      "[0, -1, 3]\n"
     ]
    }
   ],
   "source": [
    "a = [0, -1]\n",
    "a = a +[3]\n",
    "print(a)"
   ]
  },
  {
   "cell_type": "code",
   "execution_count": 125,
   "metadata": {},
   "outputs": [
    {
     "name": "stdout",
     "output_type": "stream",
     "text": [
      "3\n"
     ]
    }
   ],
   "source": [
    "l = [4,2,3]\n",
    "l.pop(1)\n",
    "print(l[1])"
   ]
  },
  {
   "cell_type": "code",
   "execution_count": 140,
   "metadata": {},
   "outputs": [
    {
     "name": "stdout",
     "output_type": "stream",
     "text": [
      "[None] [<__main__.TreeNode object at 0x107d1c750>]\n"
     ]
    },
    {
     "ename": "AttributeError",
     "evalue": "'list' object has no attribute 'val'",
     "output_type": "error",
     "traceback": [
      "\u001b[0;31m---------------------------------------------------------------------------\u001b[0m",
      "\u001b[0;31mAttributeError\u001b[0m                            Traceback (most recent call last)",
      "\u001b[0;32m<ipython-input-140-33c6378915ef>\u001b[0m in \u001b[0;36m<module>\u001b[0;34m\u001b[0m\n\u001b[1;32m     32\u001b[0m \u001b[0;34m\u001b[0m\u001b[0m\n\u001b[1;32m     33\u001b[0m \u001b[0;34m\u001b[0m\u001b[0m\n\u001b[0;32m---> 34\u001b[0;31m \u001b[0mgt\u001b[0m \u001b[0;34m=\u001b[0m \u001b[0mgenerateTrees\u001b[0m\u001b[0;34m(\u001b[0m\u001b[0;36m3\u001b[0m\u001b[0;34m)\u001b[0m\u001b[0;34m\u001b[0m\u001b[0;34m\u001b[0m\u001b[0m\n\u001b[0m\u001b[1;32m     35\u001b[0m \u001b[0;32mfor\u001b[0m \u001b[0mt\u001b[0m \u001b[0;32min\u001b[0m \u001b[0mgt\u001b[0m\u001b[0;34m:\u001b[0m\u001b[0;34m\u001b[0m\u001b[0;34m\u001b[0m\u001b[0m\n\u001b[1;32m     36\u001b[0m     \u001b[0mprint_btree\u001b[0m\u001b[0;34m(\u001b[0m\u001b[0mt\u001b[0m\u001b[0;34m)\u001b[0m\u001b[0;34m\u001b[0m\u001b[0;34m\u001b[0m\u001b[0m\n",
      "\u001b[0;32m<ipython-input-140-33c6378915ef>\u001b[0m in \u001b[0;36mgenerateTrees\u001b[0;34m(n)\u001b[0m\n\u001b[1;32m     29\u001b[0m         \u001b[0;32mreturn\u001b[0m \u001b[0mTa\u001b[0m\u001b[0;34m\u001b[0m\u001b[0;34m\u001b[0m\u001b[0m\n\u001b[1;32m     30\u001b[0m \u001b[0;34m\u001b[0m\u001b[0m\n\u001b[0;32m---> 31\u001b[0;31m     \u001b[0;32mreturn\u001b[0m \u001b[0mgTree\u001b[0m\u001b[0;34m(\u001b[0m\u001b[0;36m1\u001b[0m\u001b[0;34m,\u001b[0m \u001b[0mn\u001b[0m\u001b[0;34m)\u001b[0m\u001b[0;34m\u001b[0m\u001b[0;34m\u001b[0m\u001b[0m\n\u001b[0m\u001b[1;32m     32\u001b[0m \u001b[0;34m\u001b[0m\u001b[0m\n\u001b[1;32m     33\u001b[0m \u001b[0;34m\u001b[0m\u001b[0m\n",
      "\u001b[0;32m<ipython-input-140-33c6378915ef>\u001b[0m in \u001b[0;36mgTree\u001b[0;34m(s, e)\u001b[0m\n\u001b[1;32m     17\u001b[0m             \u001b[0mroot\u001b[0m \u001b[0;34m=\u001b[0m \u001b[0mTreeNode\u001b[0m\u001b[0;34m(\u001b[0m\u001b[0mi\u001b[0m\u001b[0;34m)\u001b[0m\u001b[0;34m\u001b[0m\u001b[0;34m\u001b[0m\u001b[0m\n\u001b[1;32m     18\u001b[0m             \u001b[0mleftTrees\u001b[0m \u001b[0;34m=\u001b[0m \u001b[0mgTree\u001b[0m\u001b[0;34m(\u001b[0m\u001b[0ms\u001b[0m\u001b[0;34m,\u001b[0m \u001b[0mi\u001b[0m\u001b[0;34m-\u001b[0m\u001b[0;36m1\u001b[0m\u001b[0;34m)\u001b[0m\u001b[0;34m\u001b[0m\u001b[0;34m\u001b[0m\u001b[0m\n\u001b[0;32m---> 19\u001b[0;31m             \u001b[0mrightTrees\u001b[0m \u001b[0;34m=\u001b[0m \u001b[0mgTree\u001b[0m\u001b[0;34m(\u001b[0m\u001b[0mi\u001b[0m\u001b[0;34m+\u001b[0m\u001b[0;36m1\u001b[0m\u001b[0;34m,\u001b[0m \u001b[0me\u001b[0m\u001b[0;34m)\u001b[0m\u001b[0;34m\u001b[0m\u001b[0;34m\u001b[0m\u001b[0m\n\u001b[0m\u001b[1;32m     20\u001b[0m \u001b[0;34m\u001b[0m\u001b[0m\n\u001b[1;32m     21\u001b[0m             \u001b[0mprint\u001b[0m\u001b[0;34m(\u001b[0m\u001b[0mleftTrees\u001b[0m\u001b[0;34m,\u001b[0m \u001b[0mrightTrees\u001b[0m\u001b[0;34m)\u001b[0m\u001b[0;34m\u001b[0m\u001b[0;34m\u001b[0m\u001b[0m\n",
      "\u001b[0;32m<ipython-input-140-33c6378915ef>\u001b[0m in \u001b[0;36mgTree\u001b[0;34m(s, e)\u001b[0m\n\u001b[1;32m     24\u001b[0m                 \u001b[0;32mfor\u001b[0m \u001b[0mr\u001b[0m \u001b[0;32min\u001b[0m \u001b[0mrightTrees\u001b[0m\u001b[0;34m:\u001b[0m\u001b[0;34m\u001b[0m\u001b[0;34m\u001b[0m\u001b[0m\n\u001b[1;32m     25\u001b[0m                     \u001b[0mroot\u001b[0m\u001b[0;34m.\u001b[0m\u001b[0mright\u001b[0m \u001b[0;34m=\u001b[0m \u001b[0mr\u001b[0m\u001b[0;34m\u001b[0m\u001b[0;34m\u001b[0m\u001b[0m\n\u001b[0;32m---> 26\u001b[0;31m             \u001b[0mprint_btree\u001b[0m\u001b[0;34m(\u001b[0m\u001b[0mroot\u001b[0m\u001b[0;34m,\u001b[0m \u001b[0mleftTrees\u001b[0m\u001b[0;34m.\u001b[0m\u001b[0mval\u001b[0m\u001b[0;34m,\u001b[0m \u001b[0mrightTrees\u001b[0m\u001b[0;34m.\u001b[0m\u001b[0mval\u001b[0m\u001b[0;34m)\u001b[0m\u001b[0;34m\u001b[0m\u001b[0;34m\u001b[0m\u001b[0m\n\u001b[0m\u001b[1;32m     27\u001b[0m             \u001b[0mTa\u001b[0m\u001b[0;34m.\u001b[0m\u001b[0mappend\u001b[0m\u001b[0;34m(\u001b[0m\u001b[0mroot\u001b[0m\u001b[0;34m)\u001b[0m\u001b[0;34m\u001b[0m\u001b[0;34m\u001b[0m\u001b[0m\n\u001b[1;32m     28\u001b[0m \u001b[0;34m\u001b[0m\u001b[0m\n",
      "\u001b[0;31mAttributeError\u001b[0m: 'list' object has no attribute 'val'"
     ]
    }
   ],
   "source": [
    "# Definition for a binary tree node.\n",
    "class TreeNode:\n",
    "    def __init__(self, x):\n",
    "        self.val = x\n",
    "        self.left = None\n",
    "        self.right = None\n",
    "        \n",
    "def generateTrees(n):\n",
    "        \n",
    "    def gTree(s, e):\n",
    "        if s > e:\n",
    "            return [None]\n",
    "        if s==e:\n",
    "            return [TreeNode(s)]\n",
    "        Ta = []\n",
    "        for i in range(s, e+1):\n",
    "            root = TreeNode(i)\n",
    "            leftTrees = gTree(s, i-1)\n",
    "            rightTrees = gTree(i+1, e)\n",
    "            \n",
    "            print(leftTrees, rightTrees)\n",
    "            for l in leftTrees:\n",
    "                root.left = l\n",
    "                for r in rightTrees:\n",
    "                    root.right = r\n",
    "            print_btree(root)\n",
    "            Ta.append(root)\n",
    "    \n",
    "        return Ta\n",
    "\n",
    "    return gTree(1, n)\n",
    "\n",
    "\n",
    "gt = generateTrees(3)\n",
    "for t in gt:\n",
    "    print_btree(t)\n",
    "        "
   ]
  },
  {
   "cell_type": "code",
   "execution_count": null,
   "metadata": {},
   "outputs": [],
   "source": []
  }
 ],
 "metadata": {
  "kernelspec": {
   "display_name": "Python 3",
   "language": "python",
   "name": "python3"
  },
  "language_info": {
   "codemirror_mode": {
    "name": "ipython",
    "version": 3
   },
   "file_extension": ".py",
   "mimetype": "text/x-python",
   "name": "python",
   "nbconvert_exporter": "python",
   "pygments_lexer": "ipython3",
   "version": "3.7.5"
  }
 },
 "nbformat": 4,
 "nbformat_minor": 2
}
