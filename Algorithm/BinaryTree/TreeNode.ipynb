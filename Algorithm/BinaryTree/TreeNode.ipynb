{
 "cells": [
  {
   "cell_type": "code",
   "execution_count": 8,
   "id": "3ca99888",
   "metadata": {},
   "outputs": [],
   "source": [
    "# Definition for a binary tree node.\n",
    "class TreeNode:\n",
    "    def __init__(self, x):\n",
    "        self.val = x\n",
    "        self.left = None\n",
    "        self.right = None\n",
    "\n",
    "    def __str__(self):\n",
    "        return str(self.val)\n",
    "\n",
    "    def print_tree(root):\n",
    "        current_level = [root]\n",
    "        while current_level:\n",
    "            print(' '.join('-' if node == '-' else str(node.val) for node in current_level))\n",
    "            next_level = list()\n",
    "            for n in current_level:\n",
    "                if n == '-':\n",
    "                    continue\n",
    "                if n.left:\n",
    "                    next_level.append(n.left)\n",
    "                else:\n",
    "                    next_level.append('-')\n",
    "                if n.right:\n",
    "                    next_level.append(n.right)\n",
    "                else:\n",
    "                    next_level.append('-')\n",
    "            current_level = next_level"
   ]
  },
  {
   "cell_type": "code",
   "execution_count": 16,
   "id": "d142c0d6",
   "metadata": {},
   "outputs": [
    {
     "name": "stdout",
     "output_type": "stream",
     "text": [
      "3\n",
      "2 5\n",
      "- - 4 7\n",
      "- - - 9\n",
      "- -\n",
      "5\n",
      "4 7\n",
      "- - - 9\n",
      "- -\n",
      "1\n",
      "3 2\n",
      "- - - -\n"
     ]
    }
   ],
   "source": [
    "t1 = TreeNode(3)\n",
    "t1.left = TreeNode(2)\n",
    "t5 = TreeNode(5)\n",
    "t1.right = t5\n",
    "t7 = TreeNode(7)\n",
    "t5.right = t7\n",
    "t5.left = TreeNode(4)\n",
    "t7.right = TreeNode(9)\n",
    "\n",
    "t2 = TreeNode(1)\n",
    "t2.left = TreeNode(3)\n",
    "t5 = TreeNode(2)\n",
    "t2.right = t5\n",
    "\n",
    "TreeNode.print_tree(t1, t1)\n",
    "TreeNode.print_tree(t1, t1.right)\n",
    "TreeNode.print_tree(t2, t2)"
   ]
  }
 ],
 "metadata": {
  "kernelspec": {
   "display_name": "Python 3",
   "language": "python",
   "name": "python3"
  },
  "language_info": {
   "codemirror_mode": {
    "name": "ipython",
    "version": 3
   },
   "file_extension": ".py",
   "mimetype": "text/x-python",
   "name": "python",
   "nbconvert_exporter": "python",
   "pygments_lexer": "ipython3",
   "version": "3.6.9"
  }
 },
 "nbformat": 4,
 "nbformat_minor": 5
}
