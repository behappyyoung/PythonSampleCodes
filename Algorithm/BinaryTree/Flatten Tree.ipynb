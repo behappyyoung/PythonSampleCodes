{
 "cells": [
  {
   "cell_type": "code",
   "execution_count": 1,
   "id": "ddd99d98",
   "metadata": {},
   "outputs": [
    {
     "name": "stdout",
     "output_type": "stream",
     "text": [
      "3\n",
      "9 20\n",
      "- - 15 7\n",
      "- - - -\n",
      "3\n",
      "- 9\n",
      "- 20\n",
      "- 15\n",
      "- 7\n",
      "- -\n"
     ]
    }
   ],
   "source": [
    "\"\"\"\n",
    "\n",
    "\"\"\"\n",
    "\n",
    "from _BinaryTree import TreeNode, print_btree\n",
    "\n",
    "def flatten(root):\n",
    "        \"\"\"\n",
    "        Do not return anything, modify root in-place instead.\n",
    "        \"\"\"\n",
    "        if not root:\n",
    "            return root\n",
    "        \n",
    "        def get_left(c_root):\n",
    "            \n",
    "            if not c_root:\n",
    "                return None\n",
    "\n",
    "            if c_root.right:\n",
    "                right_root = get_left(c_root.right)  \n",
    "            else:\n",
    "                right_root = None\n",
    "                \n",
    "            if c_root.left:\n",
    "                left_root = get_left(c_root.left)\n",
    "                temp = left_root\n",
    "                while temp.right:\n",
    "                    temp = temp.right\n",
    "             \n",
    "                temp.right = right_root\n",
    "                c_root.right = left_root\n",
    "                c_root.left = None\n",
    "            else:\n",
    "                c_root.right = right_root\n",
    "                \n",
    "                \n",
    "            return c_root\n",
    "        \n",
    "        return get_left(root)\n",
    "\n",
    "\n",
    "\n",
    "\n",
    "# t = TreeNode(1)\n",
    "# t.left = TreeNode(2)\n",
    "# t3 = TreeNode(3)\n",
    "# t.right = t3\n",
    "# t7 = TreeNode(7)\n",
    "# t3.right = t7\n",
    "# t3.left = TreeNode(6)\n",
    "# t7.right = TreeNode(9)\n",
    "\n",
    "# print_btree(t)\n",
    "# r = flatten(t)\n",
    "# print_btree(r)\n",
    "\n"
   ]
  }
 ],
 "metadata": {
  "kernelspec": {
   "display_name": "Python 3",
   "language": "python",
   "name": "python3"
  },
  "language_info": {
   "codemirror_mode": {
    "name": "ipython",
    "version": 3
   },
   "file_extension": ".py",
   "mimetype": "text/x-python",
   "name": "python",
   "nbconvert_exporter": "python",
   "pygments_lexer": "ipython3",
   "version": "3.6.9"
  }
 },
 "nbformat": 4,
 "nbformat_minor": 5
}
