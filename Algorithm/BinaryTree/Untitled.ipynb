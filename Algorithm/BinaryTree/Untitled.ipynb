{
 "cells": [
  {
   "cell_type": "code",
   "execution_count": 1,
   "metadata": {},
   "outputs": [
    {
     "name": "stdout",
     "output_type": "stream",
     "text": [
      "1\n",
      "2 3\n",
      "- - 6 7\n",
      "- - - 9\n",
      "- -\n"
     ]
    }
   ],
   "source": [
    "from _BinaryTree import TreeNode, print_btree\n",
    "\n",
    "t = TreeNode(1)\n",
    "t.left = TreeNode(2)\n",
    "t3 = TreeNode(3)\n",
    "t.right = t3\n",
    "t7 = TreeNode(7)\n",
    "t3.right = t7\n",
    "t3.left = TreeNode(6)\n",
    "t7.right = TreeNode(9)\n",
    "\n",
    "print_btree(t)"
   ]
  },
  {
   "cell_type": "code",
   "execution_count": 44,
   "metadata": {},
   "outputs": [
    {
     "name": "stdout",
     "output_type": "stream",
     "text": [
      "3\n",
      "3 3\n",
      "- - 3 2\n",
      "- - - 3\n",
      "- -\n",
      "3 0\n",
      "3 0\n",
      "-1 0\n",
      "-1 0\n",
      "-1 1\n",
      "-1 2\n",
      "2\n"
     ]
    }
   ],
   "source": [
    "\"\"\"\n",
    "longest univalue path\n",
    "\n",
    "\"\"\"\n",
    "\n",
    "def longestValuePath(root):\n",
    "    \n",
    "    def count_path(node, prev_val):\n",
    "        if node is None:\n",
    "            return 0\n",
    "        max_path = 0\n",
    "        right_max = 0\n",
    "        left_max =0\n",
    "        \n",
    "        if node.left is not None:\n",
    "            left_max = count_path(node.left, node.val)\n",
    "\n",
    "            if node.left.val == node.val:\n",
    "                max_path = 1 + left_max\n",
    "            else:\n",
    "                max_path = left_max\n",
    "\n",
    "\n",
    "        if node.right is not None:\n",
    "            right_max = count_path(node.right, prev_val)\n",
    "\n",
    "            if node.right.val == node.val:\n",
    "                if left_max != 0:\n",
    "                    if node.left.val == node.right.val and node.val != prev_val:\n",
    "                        max_path = 2 + right_max + left_max \n",
    "                    if node.left.val == node.right.val and node.val == prev_val:\n",
    "                        max_path = 1+(right_max, left_max)\n",
    "                else:\n",
    "                    max_path = 1 + right_max\n",
    "            else:\n",
    "                    max_path = max(max_path, right_max)\n",
    "        print(prev_val, max_path)\n",
    "        return max_path\n",
    "    return count_path(root, -1)\n",
    "\n",
    "t = TreeNode(3)\n",
    "t.left = TreeNode(3)\n",
    "t3 = TreeNode(3)\n",
    "t.right = t3\n",
    "t7 = TreeNode(2)\n",
    "t3.right = t7\n",
    "t3.left = TreeNode(3)\n",
    "t7.right = TreeNode(3)\n",
    "\n",
    "print_btree(t)\n",
    "\n",
    "print(longestValuePath(t))"
   ]
  },
  {
   "cell_type": "code",
   "execution_count": null,
   "metadata": {},
   "outputs": [],
   "source": []
  }
 ],
 "metadata": {
  "kernelspec": {
   "display_name": "Python 3",
   "language": "python",
   "name": "python3"
  },
  "language_info": {
   "codemirror_mode": {
    "name": "ipython",
    "version": 3
   },
   "file_extension": ".py",
   "mimetype": "text/x-python",
   "name": "python",
   "nbconvert_exporter": "python",
   "pygments_lexer": "ipython3",
   "version": "3.6.9"
  }
 },
 "nbformat": 4,
 "nbformat_minor": 2
}
