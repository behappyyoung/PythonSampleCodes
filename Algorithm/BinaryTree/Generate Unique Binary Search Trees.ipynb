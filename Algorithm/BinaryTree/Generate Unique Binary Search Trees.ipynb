{
 "cells": [
  {
   "cell_type": "code",
   "execution_count": null,
   "id": "2174c82c",
   "metadata": {},
   "outputs": [],
   "source": [
    "\"\"\"\n",
    "\n",
    "Unique Binary Search Trees\n",
    "Input: n = 3\n",
    "Output: [[1,null,2,null,3],[1,null,3,2],[2,1,3],[3,1,null,null,2],[3,2,null,1]]\n",
    "\n",
    "\n",
    "\"\"\""
   ]
  },
  {
   "cell_type": "code",
   "execution_count": 232,
   "id": "92b7d6b9",
   "metadata": {},
   "outputs": [],
   "source": [
    "class TreeNode:\n",
    "    def __init__(self, val=0, left=None, right=None):\n",
    "        self.val = val\n",
    "        self.left = left\n",
    "        self.right = right\n",
    "\n",
    "    def __str__(self):\n",
    "            return str(self.val)\n",
    "    \n",
    "    \n",
    "def make_array(root):\n",
    "    if not root:\n",
    "        return None\n",
    "    tree_array = [root.val]\n",
    "    next_stack = []\n",
    "    if root.left:\n",
    "        tree_array.append(root.left.val)\n",
    "        next_stack.append(root.left)\n",
    "    else:\n",
    "        tree_array.append(None)\n",
    "        \n",
    "    if root.right:\n",
    "        tree_array.append(root.right.val)\n",
    "        next_stack.append(root.right)\n",
    "    else:\n",
    "        tree_array.append(None)\n",
    "    \n",
    "    while next_stack:\n",
    "        new_stack = []\n",
    "        for ns in next_stack:\n",
    "            if ns.left:\n",
    "                tree_array.append(ns.left.val)\n",
    "                new_stack.append(ns.left)\n",
    "            else:\n",
    "                tree_array.append(None)\n",
    "\n",
    "            if ns.right:\n",
    "                tree_array.append(ns.right.val)\n",
    "                new_stack.append(ns.right)\n",
    "            else:\n",
    "                tree_array.append(None)\n",
    "        next_stack = new_stack\n",
    "        \n",
    "    while not tree_array[-1]:\n",
    "        tree_array.pop()\n",
    "    return tree_array\n",
    "\n",
    "def generateTrees(n):\n",
    "    if n ==1:\n",
    "        return [[n]]\n",
    "        \n",
    "    def gen_tree(start, n):\n",
    "        if n < start:\n",
    "            return [None]\n",
    "        elif start == n:\n",
    "            return [TreeNode(n)]\n",
    "        \n",
    "        tree_arr = []\n",
    "        for i in range(start, n+1):\n",
    "            left_tree = gen_tree(start, i-1)\n",
    "            right_tree = gen_tree(i+1, n)\n",
    "            # make tree and join\n",
    "            for j in range(len(left_tree)) :\n",
    "                left = left_tree[j]\n",
    "                for k in range(len(right_tree)):\n",
    "                    right = right_tree[k]\n",
    "                    c_tree = TreeNode(i)\n",
    "                    c_tree.left = left\n",
    "                    c_tree.right = right\n",
    "                    tree_arr.append(c_tree)\n",
    "        return tree_arr\n",
    "    \n",
    "    return gen_tree(1, n)\n",
    "\n"
   ]
  },
  {
   "cell_type": "code",
   "execution_count": 234,
   "id": "e98f7403",
   "metadata": {},
   "outputs": [
    {
     "name": "stdout",
     "output_type": "stream",
     "text": [
      "[[1, None, 2, None, 3, None, 4], [1, None, 2, None, 4, 3], [1, None, 3, 2, 4], [1, None, 4, 2, None, None, 3], [1, None, 4, 3, None, 2], [2, 1, 3, None, None, None, 4], [2, 1, 4, None, None, 3], [3, 1, 4, None, 2], [3, 2, 4, 1], [4, 1, None, None, 2, None, 3], [4, 1, None, None, 3, 2], [4, 2, None, 1, 3], [4, 3, None, 1, None, None, 2], [4, 3, None, 2, None, 1]]\n"
     ]
    }
   ],
   "source": [
    "out = generateTrees(4)\n",
    "# print(out)\n",
    "result_array = []\n",
    "for o in out:\n",
    "    ma = make_array(o)\n",
    "    result_array.append(ma)\n",
    "print(result_array)"
   ]
  },
  {
   "cell_type": "code",
   "execution_count": 219,
   "id": "64de8820",
   "metadata": {},
   "outputs": [
    {
     "name": "stdout",
     "output_type": "stream",
     "text": [
      "[1, 2, None, 3, None, None]\n",
      "[1, 2, None, 3]\n"
     ]
    }
   ],
   "source": [
    "l = [1, 2, None, 3, None, None]\n",
    "print(l)\n",
    "while not l[-1]:\n",
    "    l.pop()\n",
    "print(l)"
   ]
  },
  {
   "cell_type": "code",
   "execution_count": 165,
   "id": "c73a38f9",
   "metadata": {},
   "outputs": [],
   "source": [
    "m = None\n",
    "l = None\n",
    "x = None\n",
    "while m or l or x:\n",
    "    print('ll')\n"
   ]
  }
 ],
 "metadata": {
  "kernelspec": {
   "display_name": "Python 3",
   "language": "python",
   "name": "python3"
  },
  "language_info": {
   "codemirror_mode": {
    "name": "ipython",
    "version": 3
   },
   "file_extension": ".py",
   "mimetype": "text/x-python",
   "name": "python",
   "nbconvert_exporter": "python",
   "pygments_lexer": "ipython3",
   "version": "3.6.9"
  }
 },
 "nbformat": 4,
 "nbformat_minor": 5
}
