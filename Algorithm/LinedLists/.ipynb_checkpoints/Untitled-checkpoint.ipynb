{
 "cells": [
  {
   "cell_type": "code",
   "execution_count": 40,
   "metadata": {},
   "outputs": [
    {
     "name": "stdout",
     "output_type": "stream",
     "text": [
      "->3->8->9->12->20\n",
      "->1->4->10->30\n",
      "->13->80\n",
      "->1->4->10->30\n",
      "->2->4->11->30\n",
      "->33->40\n",
      "->1->3->4->8->9->10->12->20->30\n",
      "->1->3->4->8->9->10->12->13->20->30->80\n",
      "->1->1->3->4->4->8->9->10->10->12->13->20->30->30->80\n",
      "->1->1->2->3->4->4->4->8->9->10->10->11->12->13->20->30->30->30->80\n",
      "->1->1->2->3->4->4->4->8->9->10->10->11->12->13->20->30->30->30->33->40->80\n",
      "->1->1->2->3->4->4->4->8->9->10->10->11->12->13->20->30->30->30->33->40->80\n"
     ]
    }
   ],
   "source": [
    "def merge_k_sorted_lists(A):\n",
    "    if not A:\n",
    "        return A\n",
    "\n",
    "    def merge_two(sub1, sub2):\n",
    "        \n",
    "        head = point = ListNode(0)\n",
    "        \n",
    "        while sub1 and sub2:\n",
    "            if sub1.val < sub2.val:\n",
    "                point.next = sub1\n",
    "                sub1 = sub1.next\n",
    "            else:\n",
    "                point.next = sub2\n",
    "                sub2 = sub2.next\n",
    "            point = point.next\n",
    "        if sub1:\n",
    "            point.next = sub1\n",
    "        elif sub2:\n",
    "            point.next = sub2\n",
    "        \n",
    "        return head.next\n",
    "\n",
    "    return_node = A[0]\n",
    "    \n",
    "    for i in range(1, len(A)):\n",
    "            return_node = merge_two(A[i], return_node)\n",
    "    return return_node\n",
    "\n",
    "from _LinkedLists import ListNode, print_node\n",
    "\n",
    "lnode = ListNode(3)\n",
    "lnode.next = ListNode(8)\n",
    "lnode.next.next = ListNode(9)\n",
    "lnode.next.next.next = ListNode(12)\n",
    "lnode.next.next.next.next = ListNode(20)\n",
    "\n",
    "lnode2 = ListNode(1)\n",
    "lnode2.next = ListNode(4)\n",
    "lnode2.next.next = ListNode(10)\n",
    "lnode2.next.next.next = ListNode(30)\n",
    "\n",
    "lnode3 = ListNode(13)\n",
    "lnode3.next = ListNode(80)\n",
    "\n",
    "lnode4 = ListNode(1)\n",
    "lnode4.next = ListNode(4)\n",
    "lnode4.next.next = ListNode(10)\n",
    "lnode4.next.next.next = ListNode(30)\n",
    "\n",
    "lnode5 = ListNode(2)\n",
    "lnode5.next = ListNode(4)\n",
    "lnode5.next.next = ListNode(11)\n",
    "lnode5.next.next.next = ListNode(30)\n",
    "\n",
    "lnode6 = ListNode(33)\n",
    "lnode6.next = ListNode(40)\n",
    "\n",
    "print_node(lnode)\n",
    "print_node(lnode2)\n",
    "print_node(lnode3)\n",
    "print_node(lnode4)\n",
    "print_node(lnode5)\n",
    "print_node(lnode6)\n",
    "\n",
    "a = [lnode, lnode2, lnode3, lnode4, lnode5, lnode6]\n",
    "\n",
    "print_node(merge_k_sorted_lists(a))"
   ]
  },
  {
   "cell_type": "code",
   "execution_count": 10,
   "metadata": {},
   "outputs": [
    {
     "name": "stdout",
     "output_type": "stream",
     "text": [
      "->1->2\n",
      "->1->3->2\n"
     ]
    }
   ],
   "source": [
    "\"\"\"\n",
    "Input: head = [1,2,null,3]\n",
    "Output: [1,3,2]\n",
    "Explanation:\n",
    "\n",
    "The input multilevel linked list is as follows:\n",
    "\n",
    "  1---2---NULL\n",
    "  |\n",
    "  3---NULL\n",
    "  \n",
    "\"\"\"\n",
    "def flatten(head):\n",
    "    if not head:\n",
    "        return head\n",
    "    \n",
    "    c_head = head\n",
    "    while c_head:\n",
    "        if c_head.child:\n",
    "            c_head.child.next = c_head.next\n",
    "            c_head.next = c_head.child\n",
    "        c_head = c_head.next\n",
    "    return head\n",
    "\n",
    "    \n",
    "from _LinkedLists import DoubleNode, print_node\n",
    "dnode1 = DoubleNode(1)\n",
    "dnode2 = DoubleNode(2)\n",
    "dnode3 = DoubleNode(3)\n",
    "dnode1.next = dnode2\n",
    "dnode1.child = dnode3\n",
    "\n",
    "print_node(dnode1)\n",
    "print_node(flatten(dnode1))"
   ]
  },
  {
   "cell_type": "code",
   "execution_count": null,
   "metadata": {},
   "outputs": [],
   "source": []
  }
 ],
 "metadata": {
  "kernelspec": {
   "display_name": "Python 3",
   "language": "python",
   "name": "python3"
  },
  "language_info": {
   "codemirror_mode": {
    "name": "ipython",
    "version": 3
   },
   "file_extension": ".py",
   "mimetype": "text/x-python",
   "name": "python",
   "nbconvert_exporter": "python",
   "pygments_lexer": "ipython3",
   "version": "3.7.5"
  }
 },
 "nbformat": 4,
 "nbformat_minor": 2
}
