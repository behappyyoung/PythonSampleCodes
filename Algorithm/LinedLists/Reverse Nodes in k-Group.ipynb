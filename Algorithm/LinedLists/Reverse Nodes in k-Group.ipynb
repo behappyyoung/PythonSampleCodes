{
 "cells": [
  {
   "cell_type": "code",
   "execution_count": 31,
   "metadata": {},
   "outputs": [
    {
     "name": "stdout",
     "output_type": "stream",
     "text": [
      "->1->2->3->4->5->6\n"
     ]
    }
   ],
   "source": [
    "\n",
    "# Definition for singly-linked list.\n",
    "from _LinkedLists import ListNode, print_node\n",
    "\n",
    "lnode = ListNode('1')\n",
    "lnode.next = ListNode('2')\n",
    "lnode.next.next = ListNode('3')\n",
    "lnode.next.next.next = ListNode('4')\n",
    "lnode.next.next.next.next = ListNode('5')\n",
    "lnode.next.next.next.next.next = ListNode('6')\n",
    "# print_node(lnode)"
   ]
  },
  {
   "cell_type": "code",
   "execution_count": 84,
   "metadata": {},
   "outputs": [],
   "source": [
    "# Definition for singly-linked list.\n",
    "# class ListNode:\n",
    "#     def __init__(self, x):\n",
    "#         self.val = x\n",
    "#         self.next = None\n",
    "\"\"\"\n",
    "Given this linked list: 1->2->3->4->5\n",
    "\n",
    "For k = 2, you should return: 2->1->4->3->5\n",
    "\n",
    "For k = 3, you should return: 3->2->1->4->5\n",
    "\n",
    "\"\"\"\n",
    "\n",
    "def reverseKGroup(head, k):\n",
    "    if k <= 0:\n",
    "        return head\n",
    "    def reverse(node, k):\n",
    "        r_head = node\n",
    "        count = 1\n",
    "        while count < k:\n",
    "            next_node = node.next\n",
    "            node.next = next_node.next\n",
    "            next_node.next = r_head\n",
    "            r_head = next_node\n",
    "            count += 1\n",
    "        return r_head, node\n",
    "                \n",
    "    c_node = head\n",
    "    pre_node = head\n",
    "    count = 0\n",
    "    next_node = pre_node\n",
    "    \n",
    "    while c_node is not None:\n",
    "            c_node = c_node.next\n",
    "            count += 1\n",
    "            if count == k:\n",
    "                if pre_node == head:\n",
    "                    head, pre_node = reverse(next_node, k)\n",
    "                else:\n",
    "                    pre_node.next, pre_node = reverse(next_node, k)\n",
    "                next_node = pre_node.next\n",
    "                count = 0\n",
    "            \n",
    "    return head\n",
    "\n",
    "\n",
    "        "
   ]
  },
  {
   "cell_type": "code",
   "execution_count": 90,
   "metadata": {},
   "outputs": [
    {
     "name": "stdout",
     "output_type": "stream",
     "text": [
      "->6\n"
     ]
    }
   ],
   "source": [
    "lnode = ListNode('1')\n",
    "lnode.next = ListNode('2')\n",
    "lnode.next.next = ListNode('3')\n",
    "lnode.next.next.next = ListNode('4')\n",
    "lnode.next.next.next.next = ListNode('5')\n",
    "lnode.next.next.next.next.next = ListNode('6')\n",
    "\n",
    "h = reverseKGroup(lnode, 1)\n",
    "# print_node(lnode)\n",
    "print_node(h)"
   ]
  },
  {
   "cell_type": "code",
   "execution_count": null,
   "metadata": {},
   "outputs": [],
   "source": []
  },
  {
   "cell_type": "code",
   "execution_count": null,
   "metadata": {},
   "outputs": [],
   "source": []
  }
 ],
 "metadata": {
  "kernelspec": {
   "display_name": "Python 3",
   "language": "python",
   "name": "python3"
  },
  "language_info": {
   "codemirror_mode": {
    "name": "ipython",
    "version": 3
   },
   "file_extension": ".py",
   "mimetype": "text/x-python",
   "name": "python",
   "nbconvert_exporter": "python",
   "pygments_lexer": "ipython3",
   "version": "3.7.5"
  }
 },
 "nbformat": 4,
 "nbformat_minor": 2
}
