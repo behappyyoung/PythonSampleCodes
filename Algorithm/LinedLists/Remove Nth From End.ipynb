{
 "cells": [
  {
   "cell_type": "code",
   "execution_count": 6,
   "id": "e257a689",
   "metadata": {},
   "outputs": [
    {
     "name": "stdout",
     "output_type": "stream",
     "text": [
      "->1->2->4\n",
      "<_LinkedLists.ListNode object at 0x11197b400>\n",
      "->1->4\n"
     ]
    }
   ],
   "source": [
    "def removeNthFromEnd(head, n):\n",
    "        c_node = head\n",
    "        node_length = 0\n",
    "        while c_node is not None:\n",
    "            node_length += 1\n",
    "            c_node = c_node.next\n",
    "        if node_length <=1:\n",
    "            return None\n",
    "        elif node_length <= n:\n",
    "            head = head.next\n",
    "            return head\n",
    "\n",
    "        c_node = head\n",
    "        for i in range(node_length-n-1):\n",
    "            c_node = c_node.next\n",
    "        c_node.next = c_node.next.next\n",
    "        return head\n",
    "    \n",
    "from _LinkedLists import ListNode, print_node\n",
    "\n",
    "lnode = ListNode(1)\n",
    "lnode.next = ListNode(2)\n",
    "lnode.next.next = ListNode(4)\n",
    "print_node(lnode)\n",
    "print(removeNthFromEnd(lnode, 2))\n",
    "print_node(lnode)"
   ]
  },
  {
   "cell_type": "code",
   "execution_count": 11,
   "id": "e7760284",
   "metadata": {},
   "outputs": [
    {
     "name": "stdout",
     "output_type": "stream",
     "text": [
      "->1->2->3->4->5\n",
      "->1->2->3->5\n"
     ]
    }
   ],
   "source": [
    "def remove_nth_node_from_last(head_node, n):\n",
    "\n",
    "    c_node = head_node\n",
    "    node_length = 0\n",
    "    while c_node is not None:\n",
    "        node_length += 1\n",
    "        c_node = c_node.next\n",
    "    if node_length <=1:\n",
    "        return None\n",
    "    elif node_length <= n:\n",
    "        head_node = head_node.next\n",
    "        return head_node\n",
    "\n",
    "    c_node = head_node\n",
    "    for i in range(node_length-n-1):\n",
    "        c_node = c_node.next\n",
    "    c_node.next = c_node.next.next\n",
    "    return head_node\n",
    "\n",
    "#test\n",
    "\n",
    "from _LinkedLists import ListNode, print_node\n",
    "\n",
    "lnode = ListNode('1')\n",
    "lnode.next = ListNode('2')\n",
    "lnode.next.next = ListNode('3')\n",
    "lnode.next.next.next = ListNode('4')\n",
    "lnode.next.next.next.next = ListNode('5')\n",
    "print_node(lnode)\n",
    "print_node(remove_nth_node_from_last(lnode, 2))"
   ]
  }
 ],
 "metadata": {
  "kernelspec": {
   "display_name": "Python 3",
   "language": "python",
   "name": "python3"
  },
  "language_info": {
   "codemirror_mode": {
    "name": "ipython",
    "version": 3
   },
   "file_extension": ".py",
   "mimetype": "text/x-python",
   "name": "python",
   "nbconvert_exporter": "python",
   "pygments_lexer": "ipython3",
   "version": "3.6.9"
  }
 },
 "nbformat": 4,
 "nbformat_minor": 5
}
