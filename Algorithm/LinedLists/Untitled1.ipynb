{
 "cells": [
  {
   "cell_type": "code",
   "execution_count": 53,
   "id": "0b5b8715",
   "metadata": {},
   "outputs": [
    {
     "name": "stdout",
     "output_type": "stream",
     "text": [
      "->1->1->1->5->3\n",
      "------------\n",
      "->0->1->1->1->5->3\n",
      "//\n",
      "->0->5->3\n",
      "->5->3\n",
      "->0->5->3\n",
      "->0->5->3\n",
      "->3\n",
      "->5->3\n",
      "->0->5->3\n",
      "\n",
      "->3\n",
      "->5->3\n"
     ]
    }
   ],
   "source": [
    "\"\"\"\n",
    "\n",
    "\n",
    "\n",
    "\"\"\"\n",
    "\n",
    "from _LinkedLists import ListNode, print_node\n",
    "\n",
    "def deleteDuplicates(head):\n",
    "        \n",
    "        \n",
    "        if not head:\n",
    "            return head\n",
    "        \n",
    "        sentinel = ListNode(0)\n",
    "        sentinel.next = head\n",
    "\n",
    "        print_node(sentinel)\n",
    "            \n",
    "        print('//')\n",
    "        \n",
    "        pred = sentinel\n",
    "        \n",
    "        while head:\n",
    "            \n",
    "            if head.next and head.val == head.next.val:\n",
    "                \n",
    "                while head.next and head.val == head.next.val:\n",
    "                    head = head.next\n",
    "                    \n",
    "                pred.next = head.next\n",
    "            \n",
    "            else:\n",
    "                pred = pred.next\n",
    "            \n",
    "            head = head.next\n",
    "                \n",
    "            print_node(sentinel)\n",
    "            print_node(head)\n",
    "            print_node(pred)\n",
    "            \n",
    "        return sentinel.next\n",
    "            \n",
    "\"\"\"\n",
    "   \n",
    "\"\"\"\n",
    "\n",
    "lnode = ListNode(1)\n",
    "lnode.next = ListNode(1)\n",
    "lnode.next.next = ListNode(1)\n",
    "lnode.next.next.next = ListNode(5)\n",
    "lnode.next.next.next.next = ListNode(3)\n",
    "# lnode.next.next.next.next.next = ListNode(3)\n",
    "# lnode.next.next.next.next.next.next = ListNode(4)\n",
    "print_node(lnode)\n",
    "print('------------')\n",
    "\n",
    "print_node(deleteDuplicates(lnode))\n"
   ]
  }
 ],
 "metadata": {
  "kernelspec": {
   "display_name": "Python 3",
   "language": "python",
   "name": "python3"
  },
  "language_info": {
   "codemirror_mode": {
    "name": "ipython",
    "version": 3
   },
   "file_extension": ".py",
   "mimetype": "text/x-python",
   "name": "python",
   "nbconvert_exporter": "python",
   "pygments_lexer": "ipython3",
   "version": "3.6.9"
  }
 },
 "nbformat": 4,
 "nbformat_minor": 5
}
