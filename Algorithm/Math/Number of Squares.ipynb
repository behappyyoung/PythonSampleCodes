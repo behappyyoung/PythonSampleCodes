{
 "cells": [
  {
   "cell_type": "code",
   "execution_count": 80,
   "id": "00563c1a",
   "metadata": {},
   "outputs": [
    {
     "data": {
      "text/plain": [
       "3"
      ]
     },
     "execution_count": 80,
     "metadata": {},
     "output_type": "execute_result"
    }
   ],
   "source": [
    "\"\"\"\n",
    " Input: n = 12\n",
    "Output: 3\n",
    "Explanation: 12 = 4 + 4 + 4.\n",
    "\n",
    "\n",
    "Input: n = 13\n",
    "Output: 2\n",
    "Explanation: 13 = 4 + 9.\n",
    "\n",
    " 1, 2, 3, 4,      5, dp[5]     6,      7      8, dp[8]     9,    10,   11, 12,   13,   14,   15,   16    17  18  \n",
    "  \n",
    " 1  2  3. 1.      2.           3      4      2            1     2     3   3     2     3     4     1     2    2\n",
    "                           \n",
    "                              2*2    2*2   2*2   dp[4]  3*3   3*3   3*3   2*2   3*3   3*3   3*3   4*4   4*4  3*3\n",
    " 1  1  1  2*2    2*2 dp[4]     1      1     2*2  dp[4]         1      1   2*2   2*2   2*2   2*2         1    3*3\n",
    "    1  1          1  dp[1]     1      1                               1   2*2         1     1           \n",
    "       1                              1                                         1     \n",
    "    \n",
    "    28\n",
    "    \n",
    "    16 16 16\n",
    "    \n",
    "    \n",
    "\"\"\"\n",
    "from math import sqrt\n",
    "def numSquares(n):\n",
    "    if n <=3:\n",
    "        return n\n",
    "    dp = [ i for i in range(n+1)]\n",
    "    \n",
    "    squares = []\n",
    "    for i in range(2, n+1):\n",
    "        if i*i <= n:\n",
    "            dp[i*i] = 1\n",
    "            squares.append(i*i)\n",
    "#     print(dp)\n",
    "    for i in range(4, n+1):\n",
    "        for s in range(len(squares)-1, 0, -1):\n",
    "            if squares[s] < i //2:\n",
    "                break\n",
    "            if i-squares[s] >0:\n",
    "                dp[i] = min(dp[i], dp[squares[s]] + dp[i-squares[s]])\n",
    "     \n",
    "       \n",
    "    return dp[n]\n",
    "# 10, 12, 16\n",
    "# 21 =>3\n",
    "#48=>3\n",
    "# 28 =>4\n",
    "# numSquares(28)\n",
    "numSquares(8441)"
   ]
  },
  {
   "cell_type": "code",
   "execution_count": 83,
   "id": "24732a1b",
   "metadata": {},
   "outputs": [
    {
     "name": "stdout",
     "output_type": "stream",
     "text": [
      "3\n",
      "0:01:39.478095\n"
     ]
    }
   ],
   "source": [
    "from datetime import datetime\n",
    "start_time = datetime.now()\n",
    "print(numSquares(844100))\n",
    "end_time = datetime.now()\n",
    "print(end_time - start_time)"
   ]
  }
 ],
 "metadata": {
  "kernelspec": {
   "display_name": "Python 3",
   "language": "python",
   "name": "python3"
  },
  "language_info": {
   "codemirror_mode": {
    "name": "ipython",
    "version": 3
   },
   "file_extension": ".py",
   "mimetype": "text/x-python",
   "name": "python",
   "nbconvert_exporter": "python",
   "pygments_lexer": "ipython3",
   "version": "3.6.9"
  }
 },
 "nbformat": 4,
 "nbformat_minor": 5
}
