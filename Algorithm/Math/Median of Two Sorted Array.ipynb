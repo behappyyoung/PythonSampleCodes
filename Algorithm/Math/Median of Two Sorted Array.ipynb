{
 "cells": [
  {
   "cell_type": "code",
   "execution_count": null,
   "id": "c2fe8476",
   "metadata": {},
   "outputs": [],
   "source": [
    "\"\"\"\n",
    "    Median of Two Sorted Array\n",
    "    https://leetcode.com/problems/median-of-two-sorted-arrays/\n",
    "    \n",
    "    Input: nums1 = [1,2], nums2 = [3,4]\n",
    "    Output: 2.50000\n",
    "Explanation: merged array = [1,2,3,4] and median is (2 + 3) / 2 = 2.5.\n",
    "\n",
    "\"\"\"\n"
   ]
  },
  {
   "cell_type": "code",
   "execution_count": 25,
   "id": "090a3143",
   "metadata": {},
   "outputs": [
    {
     "data": {
      "text/plain": [
       "0"
      ]
     },
     "execution_count": 25,
     "metadata": {},
     "output_type": "execute_result"
    }
   ],
   "source": [
    "def findMedianSortedArrays(nums1, nums2):\n",
    "\n",
    "    len1 = len(nums1)\n",
    "    len2 = len(nums2)\n",
    "    f = s = total = 0\n",
    "    t_nums = []\n",
    "    if len1 == 0 and len2 ==0:\n",
    "        return 0\n",
    "    while f<len1 or s <len2:\n",
    "        if f<len1:\n",
    "            if s<len2:\n",
    "                if nums1[f]<nums2[s]:\n",
    "                    t_nums.append(nums1[f])\n",
    "                    f += 1\n",
    "                    \n",
    "                else:\n",
    "                    t_nums.append(nums2[s])\n",
    "                    s += 1\n",
    "                \n",
    "            else:\n",
    "                t_nums.append(nums1[f])\n",
    "                f += 1\n",
    "            total += 1\n",
    "        elif s<len2:\n",
    "            t_nums.append(nums2[s])\n",
    "            s += 1\n",
    "            total += 1\n",
    "        \n",
    "    center = False if(total % 2==0) else True\n",
    "    middle = total // 2\n",
    "\n",
    "    if center:\n",
    "        return t_nums[middle]\n",
    "    else:\n",
    "        return (t_nums[middle-1] + t_nums[middle]) / 2\n",
    "\n",
    "\n",
    "nums1 = []\n",
    "nums2 = []\n",
    "findMedianSortedArrays(nums1, nums2)"
   ]
  },
  {
   "cell_type": "code",
   "execution_count": 27,
   "id": "b2aeb65b",
   "metadata": {},
   "outputs": [
    {
     "ename": "SyntaxError",
     "evalue": "invalid syntax (<ipython-input-27-284449d4984d>, line 1)",
     "output_type": "error",
     "traceback": [
      "\u001b[0;36m  File \u001b[0;32m\"<ipython-input-27-284449d4984d>\"\u001b[0;36m, line \u001b[0;32m1\u001b[0m\n\u001b[0;31m    1 === 1\u001b[0m\n\u001b[0m        ^\u001b[0m\n\u001b[0;31mSyntaxError\u001b[0m\u001b[0;31m:\u001b[0m invalid syntax\n"
     ]
    }
   ],
   "source": [
    "\n"
   ]
  }
 ],
 "metadata": {
  "kernelspec": {
   "display_name": "Django Shell-Plus",
   "language": "python",
   "name": "django_extensions"
  },
  "language_info": {
   "codemirror_mode": {
    "name": "ipython",
    "version": 3
   },
   "file_extension": ".py",
   "mimetype": "text/x-python",
   "name": "python",
   "nbconvert_exporter": "python",
   "pygments_lexer": "ipython3",
   "version": "3.6.9"
  }
 },
 "nbformat": 4,
 "nbformat_minor": 5
}
