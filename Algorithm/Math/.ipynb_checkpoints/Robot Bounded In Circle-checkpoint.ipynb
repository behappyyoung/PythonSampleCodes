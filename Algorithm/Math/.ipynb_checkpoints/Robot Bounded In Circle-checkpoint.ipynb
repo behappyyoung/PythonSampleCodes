{
 "cells": [
  {
   "cell_type": "code",
   "execution_count": 14,
   "id": "e43747e5",
   "metadata": {},
   "outputs": [
    {
     "name": "stdout",
     "output_type": "stream",
     "text": [
      "(0, 0)\n",
      "(0, 1)\n"
     ]
    },
    {
     "data": {
      "text/plain": [
       "True"
      ]
     },
     "execution_count": 14,
     "metadata": {},
     "output_type": "execute_result"
    }
   ],
   "source": [
    "\"\"\"\n",
    "https://leetcode.com/problems/robot-bounded-in-circle/\n",
    "\n",
    "**robot comes back if last direction is not north \n",
    "\n",
    "\"\"\"\n",
    "\n",
    "def isRobotBounded(instructions):\n",
    "    direction_choise = ['N', 'W', 'S', 'E']\n",
    "    direction = 'N'\n",
    "    c_d_index = 0\n",
    "    position_x = 0\n",
    "    position_y = 0\n",
    "    position =  (position_x, position_y)\n",
    "    c_position = (0,0)\n",
    "    for c in instructions:\n",
    "        if c == 'R':\n",
    "            if c_d_index == 0:\n",
    "                c_d_index = 3\n",
    "            else:\n",
    "                c_d_index -= 1\n",
    "        elif c=='L':\n",
    "            if c_d_index == 3:\n",
    "                c_d_index = 0\n",
    "            else:\n",
    "                c_d_index += 1\n",
    "        else:\n",
    "            if c_d_index == 0:\n",
    "                position_y +=1\n",
    "            elif c_d_index == 1:\n",
    "                position_x -=1\n",
    "            elif c_d_index == 2:\n",
    "                position_y -=1\n",
    "            elif c_d_index == 3:\n",
    "                position_x +=1\n",
    "            \n",
    "            position = (position_x, position_y)\n",
    "\n",
    "    print(position)\n",
    "    return position == c_position or c_d_index !=0\n",
    "\n",
    "\n",
    "instr = 'GGLLGG'\n",
    "isRobotBounded(instr)\n",
    "instr = 'GL'\n",
    "isRobotBounded(instr)"
   ]
  },
  {
   "cell_type": "code",
   "execution_count": 3,
   "id": "eed10b7d",
   "metadata": {},
   "outputs": [
    {
     "data": {
      "text/plain": [
       "True"
      ]
     },
     "execution_count": 3,
     "metadata": {},
     "output_type": "execute_result"
    }
   ],
   "source": [
    "direction_choise = ['N', 'W', 'S', 'E']\n",
    "direction_choise[0]\n",
    "'N' in direction_choise"
   ]
  },
  {
   "cell_type": "code",
   "execution_count": 9,
   "id": "8590faa7",
   "metadata": {},
   "outputs": [
    {
     "name": "stdout",
     "output_type": "stream",
     "text": [
      "(1, 2)\n"
     ]
    }
   ],
   "source": [
    "position = (0,0)\n",
    "position_x = position[0] + 1\n",
    "position_y = position[1] + 2\n",
    "position = (position_x, position_y)\n",
    "print(position)"
   ]
  }
 ],
 "metadata": {
  "kernelspec": {
   "display_name": "Django Shell-Plus",
   "language": "python",
   "name": "django_extensions"
  },
  "language_info": {
   "codemirror_mode": {
    "name": "ipython",
    "version": 3
   },
   "file_extension": ".py",
   "mimetype": "text/x-python",
   "name": "python",
   "nbconvert_exporter": "python",
   "pygments_lexer": "ipython3",
   "version": "3.6.9"
  }
 },
 "nbformat": 4,
 "nbformat_minor": 5
}
