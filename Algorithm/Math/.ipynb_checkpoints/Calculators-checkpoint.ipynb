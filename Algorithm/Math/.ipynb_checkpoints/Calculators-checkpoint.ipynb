{
 "cells": [
  {
   "cell_type": "code",
   "execution_count": 39,
   "metadata": {},
   "outputs": [
    {
     "name": "stdout",
     "output_type": "stream",
     "text": [
      "2147483648 2147483648 1\n",
      "2147483647\n",
      "262144 262144 3\n",
      "393216 131072 3\n",
      "409600 16384 3\n",
      "410624 1024 3\n",
      "411136 512 3\n",
      "411392 256 3\n",
      "411520 128 3\n",
      "411522 2 3\n",
      "411522\n"
     ]
    }
   ],
   "source": [
    "def dividion(dividend, divisor):    \n",
    "    positive = (dividend < 0) is (divisor < 0)\n",
    "\n",
    "    dividend = abs(dividend)\n",
    "    divisor = abs(divisor)\n",
    "    count = 0\n",
    "    \n",
    "    while divisor <= dividend:  \n",
    "        t_divisor = divisor\n",
    "        multi = 1\n",
    "        while (t_divisor <<1) <= dividend:\n",
    "            t_divisor <<= 1\n",
    "            multi <<= 1\n",
    "        count += multi    \n",
    "        dividend -= t_divisor\n",
    "        print(count, multi, divisor)\n",
    "    if positive:\n",
    "        return min(count, 2**31-1)\n",
    "    else:\n",
    "        return max(-count, -2**31)\n",
    "print(dividion(-2147483648, -1))\n",
    "print(dividion(-1234566, -3))"
   ]
  },
  {
   "cell_type": "code",
   "execution_count": 106,
   "metadata": {},
   "outputs": [
    {
     "name": "stdout",
     "output_type": "stream",
     "text": [
      "['6', '+', '8'] 14\n",
      "['4', '+', '5', '+', '2'] 11\n",
      "['1', '+', '11', '-', '3'] 9\n",
      "['9', '+', '14'] 23\n",
      "23\n"
     ]
    }
   ],
   "source": [
    "\"\"\"\n",
    "Example 1:\n",
    "\n",
    "Input: \"1 + 1\"\n",
    "Output: 2\n",
    "Example 2:\n",
    "\n",
    "Input: \" 2-1 + 2 \"\n",
    "Output: 3\n",
    "Example 3:\n",
    "\n",
    "Input: \"(1+(4+5+2)-3)+(6+8)\"\n",
    "Output: 23\n",
    "\n",
    "\"\"\"\n",
    "def calculator(s):\n",
    "    if not s:\n",
    "        return 0\n",
    "    def cal_s(subarr):\n",
    "        i = 0\n",
    "        r = 0\n",
    "        l = len(subarr)\n",
    "        if l == 1:\n",
    "            return subarr[0]\n",
    "        while i < l:\n",
    "            if subarr[i].isdigit():\n",
    "                r += int(subarr[i])\n",
    "            else:\n",
    "                if subarr[i] == '+':\n",
    "                    r += int(subarr[i+1])\n",
    "                    i +=1\n",
    "                elif subarr[i] == '-':\n",
    "                    r -= int(subarr[i+1])\n",
    "                    i +=1\n",
    "            i += 1\n",
    "        print(subarr, r)\n",
    "        return r\n",
    "    r = 0\n",
    "    stack = []\n",
    "    i = len(s)-1\n",
    "    r = 0\n",
    "    subc = ''\n",
    "    while i >= 0:\n",
    "        if s[i] == ' ':\n",
    "            pass\n",
    "        elif s[i] == '(':\n",
    "            if subc != '':\n",
    "                ca = [subc] \n",
    "                subc = ''\n",
    "            else:\n",
    "                ca = []\n",
    "            c = stack.pop()\n",
    "            while c != ')':\n",
    "                ca.append(c)\n",
    "                c = stack.pop()\n",
    "\n",
    "            stack.append(str(cal_s(ca)))\n",
    "        elif s[i].isdigit():\n",
    "            subc = s[i]+subc\n",
    "        else:\n",
    "            if subc !='':\n",
    "                stack.append(subc)\n",
    "                subc  = ''\n",
    "            stack.append(s[i])\n",
    "            \n",
    "        i -= 1\n",
    "\n",
    "    ca = [subc] if subc !='' else []\n",
    "    while stack:\n",
    "        c = stack.pop()\n",
    "        ca.append(c)\n",
    "    r = cal_s(ca)\n",
    "    return r\n",
    "    \n",
    "tests = \"(1+(4+5+2)-3)+(6+8)\" #23\n",
    "# tests = \"1 + 1\"\n",
    "# tests = \"2-(5-6)\"\n",
    "# tests = \"2147483647\"\n",
    "# tests = \"(5-(1+(5)))\" #-1\n",
    "print(calculator(tests))"
   ]
  },
  {
   "cell_type": "code",
   "execution_count": 14,
   "metadata": {},
   "outputs": [
    {
     "name": "stdout",
     "output_type": "stream",
     "text": [
      "12\n"
     ]
    }
   ],
   "source": [
    "def calculator(s):\n",
    "    if not s:\n",
    "        return 0\n",
    "    l = len(s)\n",
    "    stack = []\n",
    "    i = 0\n",
    "    while i<l:\n",
    "        if s[i] == ' ':\n",
    "            pass\n",
    "        elif s[i] not in ['*', '/']:\n",
    "            if s[i].isdigit:\n",
    "                c = ''\n",
    "                while i<l and (s[i].isdigit() or s[i] == ' '):\n",
    "                    if s[i].isdigit():\n",
    "                        c += s[i]\n",
    "                    i += 1\n",
    "                stack.append(int(c))\n",
    "                \n",
    "            else:\n",
    "                stack.append(s[i])\n",
    "                i += 1\n",
    "        else:\n",
    "            op = s[i]\n",
    "            c = ''\n",
    "            while i<l and (s[i].isdigit() or s[i] == ' '):\n",
    "                if s[i].isdigit():\n",
    "                    c += s[i]\n",
    "                i += 1\n",
    "            c = int(c)\n",
    "            if op =='*':\n",
    "                stack[-1] = stack[-1] * c\n",
    "            elif op == '/':\n",
    "                stack[-1] = stack[-1] // c\n",
    "        r = stack[0]\n",
    "        i = 0\n",
    "        while i < len(stack):\n",
    "            if stack[i] == '+':\n",
    "                i += 1\n",
    "                r += stack[i]\n",
    "            elif stack[i] == '-':\n",
    "                i +=1\n",
    "                r -= stack[i]\n",
    "                \n",
    "        return r\n",
    "print(calculator('3+2*2'))"
   ]
  },
  {
   "cell_type": "code",
   "execution_count": 66,
   "metadata": {},
   "outputs": [
    {
     "data": {
      "text/plain": [
       "'-1'"
      ]
     },
     "execution_count": 66,
     "metadata": {},
     "output_type": "execute_result"
    }
   ],
   "source": [
    "str(-1)"
   ]
  }
 ],
 "metadata": {
  "kernelspec": {
   "display_name": "Python 3",
   "language": "python",
   "name": "python3"
  },
  "language_info": {
   "codemirror_mode": {
    "name": "ipython",
    "version": 3
   },
   "file_extension": ".py",
   "mimetype": "text/x-python",
   "name": "python",
   "nbconvert_exporter": "python",
   "pygments_lexer": "ipython3",
   "version": "3.7.5"
  }
 },
 "nbformat": 4,
 "nbformat_minor": 2
}
