{
 "cells": [
  {
   "cell_type": "code",
   "execution_count": null,
   "id": "1f6ea83c",
   "metadata": {},
   "outputs": [],
   "source": [
    "\"\"\"\n",
    "    given integer.. print all possible combination of positive integers that sum up to the target\n",
    "    input 5\n",
    "    \n",
    "    output\n",
    "    1,4\n",
    "    2,3\n",
    "    1,1,3\n",
    "    1,2,2\n",
    "    1,1,1,2\n",
    "    1,1,1,1,1\n",
    "    \n",
    "\"\"\""
   ]
  },
  {
   "cell_type": "code",
   "execution_count": 40,
   "id": "cfc8f36c",
   "metadata": {},
   "outputs": [],
   "source": [
    "def all_sum_list(target):\n",
    "    output_list = []\n",
    "    def target_sum_list(c_target):\n",
    "        print(c_target, output_list)\n",
    "        c_result= []\n",
    "#         if current_sum == c_target:\n",
    "#             return [c_target]\n",
    "    \n",
    "        c_sum = 0\n",
    "        for i in range(1, c_target):\n",
    "            c_sum += i\n",
    "            c_result.append(i)\n",
    "            if c_sum < c_target:\n",
    "                print(i, c_target, c_sum)\n",
    "                pre_result = target_sum_list(c_target-c_sum)\n",
    "                print(i, c_target, c_sum, pre_result)\n",
    "                if pre_result:\n",
    "                    c_result += pre_result\n",
    "                    output_list.append(c_result)\n",
    "            elif c_sum==c_target:\n",
    "                output_list.append(c_result)\n",
    "            else:\n",
    "                return\n",
    "\n",
    "            \n",
    "    target_sum_list(target)\n",
    "    print(output_list)\n",
    "    return output_list\n"
   ]
  },
  {
   "cell_type": "code",
   "execution_count": 41,
   "id": "cce05bb5",
   "metadata": {},
   "outputs": [
    {
     "ename": "NameError",
     "evalue": "name 'current_sum' is not defined",
     "output_type": "error",
     "traceback": [
      "\u001b[0;31m---------------------------------------------------------------------------\u001b[0m",
      "\u001b[0;31mNameError\u001b[0m                                 Traceback (most recent call last)",
      "\u001b[0;32m<ipython-input-41-498e5b05640d>\u001b[0m in \u001b[0;36m<module>\u001b[0;34m\u001b[0m\n\u001b[0;32m----> 1\u001b[0;31m \u001b[0mall_sum_list\u001b[0m\u001b[0;34m(\u001b[0m\u001b[0;36m5\u001b[0m\u001b[0;34m)\u001b[0m\u001b[0;34m\u001b[0m\u001b[0;34m\u001b[0m\u001b[0m\n\u001b[0m",
      "\u001b[0;32m<ipython-input-40-2919389ef1b0>\u001b[0m in \u001b[0;36mall_sum_list\u001b[0;34m(target)\u001b[0m\n\u001b[1;32m     24\u001b[0m \u001b[0;34m\u001b[0m\u001b[0m\n\u001b[1;32m     25\u001b[0m \u001b[0;34m\u001b[0m\u001b[0m\n\u001b[0;32m---> 26\u001b[0;31m     \u001b[0mtarget_sum_list\u001b[0m\u001b[0;34m(\u001b[0m\u001b[0mtarget\u001b[0m\u001b[0;34m)\u001b[0m\u001b[0;34m\u001b[0m\u001b[0;34m\u001b[0m\u001b[0m\n\u001b[0m\u001b[1;32m     27\u001b[0m     \u001b[0mprint\u001b[0m\u001b[0;34m(\u001b[0m\u001b[0moutput_list\u001b[0m\u001b[0;34m)\u001b[0m\u001b[0;34m\u001b[0m\u001b[0;34m\u001b[0m\u001b[0m\n\u001b[1;32m     28\u001b[0m     \u001b[0;32mreturn\u001b[0m \u001b[0moutput_list\u001b[0m\u001b[0;34m\u001b[0m\u001b[0;34m\u001b[0m\u001b[0m\n",
      "\u001b[0;32m<ipython-input-40-2919389ef1b0>\u001b[0m in \u001b[0;36mtarget_sum_list\u001b[0;34m(c_target)\u001b[0m\n\u001b[1;32m      2\u001b[0m     \u001b[0moutput_list\u001b[0m \u001b[0;34m=\u001b[0m \u001b[0;34m[\u001b[0m\u001b[0;34m]\u001b[0m\u001b[0;34m\u001b[0m\u001b[0;34m\u001b[0m\u001b[0m\n\u001b[1;32m      3\u001b[0m     \u001b[0;32mdef\u001b[0m \u001b[0mtarget_sum_list\u001b[0m\u001b[0;34m(\u001b[0m\u001b[0mc_target\u001b[0m\u001b[0;34m)\u001b[0m\u001b[0;34m:\u001b[0m\u001b[0;34m\u001b[0m\u001b[0;34m\u001b[0m\u001b[0m\n\u001b[0;32m----> 4\u001b[0;31m         \u001b[0mprint\u001b[0m\u001b[0;34m(\u001b[0m\u001b[0mc_target\u001b[0m\u001b[0;34m,\u001b[0m \u001b[0mcurrent_sum\u001b[0m\u001b[0;34m,\u001b[0m \u001b[0moutput_list\u001b[0m\u001b[0;34m)\u001b[0m\u001b[0;34m\u001b[0m\u001b[0;34m\u001b[0m\u001b[0m\n\u001b[0m\u001b[1;32m      5\u001b[0m         \u001b[0mc_result\u001b[0m\u001b[0;34m=\u001b[0m \u001b[0;34m[\u001b[0m\u001b[0;34m]\u001b[0m\u001b[0;34m\u001b[0m\u001b[0;34m\u001b[0m\u001b[0m\n\u001b[1;32m      6\u001b[0m \u001b[0;31m#         if current_sum == c_target:\u001b[0m\u001b[0;34m\u001b[0m\u001b[0;34m\u001b[0m\u001b[0;34m\u001b[0m\u001b[0m\n",
      "\u001b[0;31mNameError\u001b[0m: name 'current_sum' is not defined"
     ]
    }
   ],
   "source": [
    "all_sum_list(5)"
   ]
  }
 ],
 "metadata": {
  "kernelspec": {
   "display_name": "Django Shell-Plus",
   "language": "python",
   "name": "django_extensions"
  },
  "language_info": {
   "codemirror_mode": {
    "name": "ipython",
    "version": 3
   },
   "file_extension": ".py",
   "mimetype": "text/x-python",
   "name": "python",
   "nbconvert_exporter": "python",
   "pygments_lexer": "ipython3",
   "version": "3.6.9"
  }
 },
 "nbformat": 4,
 "nbformat_minor": 5
}
