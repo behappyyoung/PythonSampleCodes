{
 "cells": [
  {
   "cell_type": "code",
   "execution_count": 21,
   "id": "bcc4b134",
   "metadata": {},
   "outputs": [
    {
     "name": "stdout",
     "output_type": "stream",
     "text": [
      "3 0.2 [[2, 4], [3, 9], [4, 5], [6, 14]]\n"
     ]
    },
    {
     "data": {
      "text/plain": [
       "0.5154761904761904"
      ]
     },
     "execution_count": 21,
     "metadata": {},
     "output_type": "execute_result"
    }
   ],
   "source": [
    "\"\"\"\n",
    "https://leetcode.com/problems/maximum-average-pass-ratio/\n",
    "Maximum Average Pass Ratio\n",
    "\n",
    "Input: classes = [[1,2],[3,5],[2,2]], extraStudents = 2\n",
    "Output: 0.78333\n",
    "Explanation: You can assign the two extra students to the first class. \n",
    "The average pass ratio will be equal to (3/4 + 3/5 + 2/2) / 3 = 0.78333.\n",
    "\n",
    "\n",
    "\"\"\"\n",
    "\n",
    "\n",
    "\n",
    "\"\"\"\n",
    "==> use extra student in smallest class => wrong\n",
    "\n",
    "\"\"\"\n",
    "def max_average_pass(classes, extraStudents):\n",
    "    \n",
    "    min_class_rate = 1 # max\n",
    "    min_class = 0\n",
    "    for i in range(len(classes)):\n",
    "        if min_class_rate > classes[i][0]/classes[i][1]:\n",
    "            min_class_rate = classes[i][0]/classes[i][1]\n",
    "            min_class = i\n",
    "    \n",
    "    classes[min_class][0] += extraStudents\n",
    "    classes[min_class][1] += extraStudents\n",
    "\n",
    "    print(min_class, min_class_rate, classes)\n",
    "    total = 0\n",
    "    for i in range(len(classes)):\n",
    "        total += classes[i][0]/classes[i][1]\n",
    "    \n",
    "    return total/len(classes)\n",
    "\n",
    "\n",
    "\n",
    "classes = [[2,4],[3,9],[4,5],[2,10]] \n",
    "extraStudents = 4\n",
    "max_average_pass(classes, extraStudents)"
   ]
  },
  {
   "cell_type": "code",
   "execution_count": 24,
   "id": "2ff6e8db",
   "metadata": {},
   "outputs": [
    {
     "name": "stdout",
     "output_type": "stream",
     "text": [
      "0 0.09999999999999998\n",
      "1 0.06666666666666671\n",
      "2 0.033333333333333326\n",
      "3 0.0727272727272727\n",
      "0 0.06666666666666665\n",
      "1 0.06666666666666671\n",
      "2 0.033333333333333326\n",
      "3 0.0727272727272727\n",
      "0 0.06666666666666665\n",
      "1 0.06666666666666671\n",
      "2 0.033333333333333326\n",
      "3 0.06060606060606061\n",
      "0 0.06666666666666665\n",
      "1 0.05454545454545451\n",
      "2 0.033333333333333326\n",
      "3 0.06060606060606061\n",
      "0 0.06666666666666665 [[4, 6], [4, 10], [4, 5], [3, 11]]\n"
     ]
    },
    {
     "data": {
      "text/plain": [
       "0.5348484848484849"
      ]
     },
     "execution_count": 24,
     "metadata": {},
     "output_type": "execute_result"
    }
   ],
   "source": [
    "\"\"\"\n",
    "    find max change for each extra student\n",
    "    \n",
    "\"\"\"\n",
    "def max_average_pass_s(classes, extraStudents):\n",
    "    \n",
    "    while extraStudents:\n",
    "        max_change = 0 # max\n",
    "        max_class = 0\n",
    "        for i in range(len(classes)):\n",
    "            change = (classes[i][0]+1)/(classes[i][1]+1) - classes[i][0]/classes[i][1]\n",
    "            print(i, change)\n",
    "            if change > max_change:\n",
    "                max_change = change\n",
    "                max_class = i\n",
    "\n",
    "        classes[max_class][0] += 1\n",
    "        classes[max_class][1] += 1\n",
    "        extraStudents -= 1\n",
    "\n",
    "    print(max_class, max_change, classes)\n",
    "    total = 0\n",
    "    for i in range(len(classes)):\n",
    "        total += classes[i][0]/classes[i][1]\n",
    "    \n",
    "    return total/len(classes)\n",
    "\n",
    "classes = [[2,4],[3,9],[4,5],[2,10]] \n",
    "extraStudents = 4\n",
    "max_average_pass_s(classes, extraStudents)"
   ]
  },
  {
   "cell_type": "code",
   "execution_count": 15,
   "id": "0eb6ea07",
   "metadata": {},
   "outputs": [
    {
     "data": {
      "text/plain": [
       "0.5154761904761904"
      ]
     },
     "execution_count": 15,
     "metadata": {},
     "output_type": "execute_result"
    }
   ],
   "source": [
    "(2/4+3/9+4/5+6/14)/4"
   ]
  },
  {
   "cell_type": "code",
   "execution_count": 16,
   "id": "c1dd7f2a",
   "metadata": {},
   "outputs": [
    {
     "data": {
      "text/plain": [
       "0.5096153846153846"
      ]
     },
     "execution_count": 16,
     "metadata": {},
     "output_type": "execute_result"
    }
   ],
   "source": [
    "(2/4+7/13+4/5+2/10)/4"
   ]
  },
  {
   "cell_type": "code",
   "execution_count": 23,
   "id": "ec1aae9a",
   "metadata": {},
   "outputs": [
    {
     "data": {
      "text/plain": [
       "0.5208333333333334"
      ]
     },
     "execution_count": 23,
     "metadata": {},
     "output_type": "execute_result"
    }
   ],
   "source": [
    "(6/8+3/9+4/5+2/10)/4"
   ]
  }
 ],
 "metadata": {
  "kernelspec": {
   "display_name": "Django Shell-Plus",
   "language": "python",
   "name": "django_extensions"
  },
  "language_info": {
   "codemirror_mode": {
    "name": "ipython",
    "version": 3
   },
   "file_extension": ".py",
   "mimetype": "text/x-python",
   "name": "python",
   "nbconvert_exporter": "python",
   "pygments_lexer": "ipython3",
   "version": "3.6.9"
  }
 },
 "nbformat": 4,
 "nbformat_minor": 5
}
