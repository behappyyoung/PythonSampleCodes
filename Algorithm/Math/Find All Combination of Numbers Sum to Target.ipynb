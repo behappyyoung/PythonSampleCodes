{
 "cells": [
  {
   "cell_type": "code",
   "execution_count": null,
   "id": "d596d60c",
   "metadata": {},
   "outputs": [],
   "source": [
    "\"\"\"\n",
    "    given integer.. print all possible combination of positive integers that sum up to the target\n",
    "    input 5\n",
    "    \n",
    "    output\n",
    "    1,4\n",
    "    2,3\n",
    "    1,1,3\n",
    "    1,2,2\n",
    "    1,1,1,2\n",
    "    1,1,1,1,1\n",
    "    \n",
    "\"\"\""
   ]
  },
  {
   "cell_type": "code",
   "execution_count": 69,
   "id": "ca914247",
   "metadata": {},
   "outputs": [],
   "source": [
    "def all_sum_list(target):\n",
    "    output_list = []\n",
    "    def target_sum_list(c_target, start):\n",
    "        print(c_target, start)\n",
    "        c_result= []\n",
    "   \n",
    "        c_sum = 0\n",
    "        for i in range(start, c_target):\n",
    "            c_sum += i\n",
    "            c_result.append(i)\n",
    "            if c_sum < c_target:\n",
    "                print(i, c_target, c_sum, c_result)\n",
    "                pre_result = target_sum_list(c_target-c_sum, 1)\n",
    "                print(i, c_target, c_sum, c_result,  pre_result)\n",
    "                if pre_result:\n",
    "                    c_result += pre_result\n",
    "                    output_list.append(c_result)\n",
    "            elif c_sum==c_target:\n",
    "                output_list.append(c_result)\n",
    "            else:\n",
    "                return\n",
    "\n",
    "    for i in range(1, target+1):        \n",
    "        target_sum_list(target, i)\n",
    "    print(output_list)\n",
    "    return output_list\n"
   ]
  },
  {
   "cell_type": "code",
   "execution_count": 70,
   "id": "06038dd5",
   "metadata": {},
   "outputs": [
    {
     "name": "stdout",
     "output_type": "stream",
     "text": [
      "5 1\n",
      "1 5 1 [1]\n",
      "4 1\n",
      "1 4 1 [1]\n",
      "3 1\n",
      "1 3 1 [1]\n",
      "2 1\n",
      "1 2 1 [1]\n",
      "1 1\n",
      "1 2 1 [1] None\n",
      "1 3 1 [1] None\n",
      "1 4 1 [1] None\n",
      "2 4 3 [1, 2]\n",
      "1 1\n",
      "2 4 3 [1, 2] None\n",
      "1 5 1 [1] None\n",
      "2 5 3 [1, 2]\n",
      "2 1\n",
      "1 2 1 [1]\n",
      "1 1\n",
      "1 2 1 [1] None\n",
      "2 5 3 [1, 2] None\n",
      "5 2\n",
      "2 5 2 [2]\n",
      "3 1\n",
      "1 3 1 [1]\n",
      "2 1\n",
      "1 2 1 [1]\n",
      "1 1\n",
      "1 2 1 [1] None\n",
      "1 3 1 [1] None\n",
      "2 5 2 [2] None\n",
      "5 3\n",
      "3 5 3 [3]\n",
      "2 1\n",
      "1 2 1 [1]\n",
      "1 1\n",
      "1 2 1 [1] None\n",
      "3 5 3 [3] None\n",
      "5 4\n",
      "4 5 4 [4]\n",
      "1 1\n",
      "4 5 4 [4] None\n",
      "5 5\n",
      "[[1, 2], [1, 2], [2, 3, 4]]\n"
     ]
    },
    {
     "data": {
      "text/plain": [
       "[[1, 2], [1, 2], [2, 3, 4]]"
      ]
     },
     "execution_count": 70,
     "metadata": {},
     "output_type": "execute_result"
    }
   ],
   "source": [
    "all_sum_list(5)"
   ]
  }
 ],
 "metadata": {
  "kernelspec": {
   "display_name": "Django Shell-Plus",
   "language": "python",
   "name": "django_extensions"
  },
  "language_info": {
   "codemirror_mode": {
    "name": "ipython",
    "version": 3
   },
   "file_extension": ".py",
   "mimetype": "text/x-python",
   "name": "python",
   "nbconvert_exporter": "python",
   "pygments_lexer": "ipython3",
   "version": "3.6.9"
  }
 },
 "nbformat": 4,
 "nbformat_minor": 5
}
