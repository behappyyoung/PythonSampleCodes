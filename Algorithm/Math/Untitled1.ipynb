{
 "cells": [
  {
   "cell_type": "code",
   "execution_count": 15,
   "id": "e3fe5d74",
   "metadata": {},
   "outputs": [],
   "source": [
    "\"\"\"\n",
    "    Count Maximum Teams\n",
    "    skill = [3,4,3,1,6,5]\n",
    "    teamsize = 3\n",
    "    maxDiff = 2\n",
    "    \n",
    "    output : 2  (3,3,1) (4,5,6)\n",
    "    \n",
    "\"\"\"\n",
    "\n",
    "def countMaxTeams(skills, teamSize, maxDiff):\n",
    "        \n",
    "    teams = 0\n",
    "    \n",
    "    def formTeams(c_skills):\n",
    "        print(c_skills)\n",
    "        teams = []\n",
    "        n = len(c_skills)\n",
    "        if n<teamSize:\n",
    "            return False\n",
    "\n",
    "        c_skills.sort()\n",
    "        for i in c_skills:\n",
    "            diff = i - c_skills[0]\n",
    "            if diff <=maxDiff:\n",
    "                teams.append(i)\n",
    "                if len(teams) == teamSize:\n",
    "                    return teams\n",
    "                \n",
    "        return False\n",
    "    \n",
    "    while skills:\n",
    "        new_team = formTeams(skills)\n",
    "        print(skills, new_team)\n",
    "        if not new_team:\n",
    "            skills.pop(0)\n",
    "        else:\n",
    "            for nt in new_team:\n",
    "                skills.remove(nt)\n",
    "            teams += 1\n",
    "            \n",
    "    \n",
    "    return teams\n",
    "\n"
   ]
  },
  {
   "cell_type": "code",
   "execution_count": 16,
   "id": "4a33cec5",
   "metadata": {},
   "outputs": [
    {
     "name": "stdout",
     "output_type": "stream",
     "text": [
      "[3, 4, 3, 1, 6, 5]\n",
      "[1, 3, 3, 4, 5, 6] [1, 3, 3]\n",
      "[4, 5, 6]\n",
      "[4, 5, 6] [4, 5, 6]\n",
      "2\n",
      "[3, 4, 3, 0, 6, 5]\n",
      "[0, 3, 3, 4, 5, 6] False\n",
      "[3, 3, 4, 5, 6]\n",
      "[3, 3, 4, 5, 6] [3, 3, 4]\n",
      "[5, 6]\n",
      "[5, 6] False\n",
      "[6]\n",
      "[6] False\n",
      "1\n"
     ]
    }
   ],
   "source": [
    "skill_list = [3,4,3,1,6,5]\n",
    "team_size = 3\n",
    "max_diff = 2\n",
    "ans = countMaxTeams(skill_list, team_size, max_diff)\n",
    "print(ans)\n",
    "skill_list = [3,4,3,0,6,5]\n",
    "team_size = 3\n",
    "max_diff = 2\n",
    "ans = countMaxTeams(skill_list, team_size, max_diff)\n",
    "print(ans)"
   ]
  }
 ],
 "metadata": {
  "kernelspec": {
   "display_name": "Django Shell-Plus",
   "language": "python",
   "name": "django_extensions"
  },
  "language_info": {
   "codemirror_mode": {
    "name": "ipython",
    "version": 3
   },
   "file_extension": ".py",
   "mimetype": "text/x-python",
   "name": "python",
   "nbconvert_exporter": "python",
   "pygments_lexer": "ipython3",
   "version": "3.6.9"
  }
 },
 "nbformat": 4,
 "nbformat_minor": 5
}
