{
 "cells": [
  {
   "cell_type": "code",
   "execution_count": null,
   "id": "98d68126",
   "metadata": {},
   "outputs": [],
   "source": [
    "\"\"\"\n",
    "Input: num = \"123\", target = 6\n",
    "Output: [\"1*2*3\",\"1+2+3\"]\n",
    "Example 2:\n",
    "\n",
    "Input: num = \"232\", target = 8\n",
    "Output: [\"2*3+2\",\"2+3*2\"]\n",
    "Example 3:\n",
    "\n",
    "Input: num = \"105\", target = 5\n",
    "Output: [\"1*0+5\",\"10-5\"]\n",
    "Example 4:\n",
    "\n",
    "Input: num = \"00\", target = 0\n",
    "Output: [\"0*0\",\"0+0\",\"0-0\"]\n",
    "Example 5:\n",
    "\n",
    "Input: num = \"3456237490\", target = 9191\n",
    "Output: []\n",
    "\n",
    "\"\"\""
   ]
  },
  {
   "cell_type": "code",
   "execution_count": 2,
   "id": "adeae306",
   "metadata": {},
   "outputs": [],
   "source": [
    "def addOperators(num, target):\n",
    "    solutions = []\n",
    "    \n",
    "    if len(num) <= 1:\n",
    "        return num\n",
    "    \n",
    "    for n in range(len(num)):\n",
    "        if addOperators(num[:-1], target):\n",
    "            \n",
    "    return solutions"
   ]
  },
  {
   "cell_type": "code",
   "execution_count": 3,
   "id": "b994c9d5",
   "metadata": {},
   "outputs": [
    {
     "name": "stdout",
     "output_type": "stream",
     "text": [
      "[]\n"
     ]
    }
   ],
   "source": [
    "num = \"123\"\n",
    "target = 6\n",
    "print(addOperators(num, target))"
   ]
  }
 ],
 "metadata": {
  "kernelspec": {
   "display_name": "Python 3",
   "language": "python",
   "name": "python3"
  },
  "language_info": {
   "codemirror_mode": {
    "name": "ipython",
    "version": 3
   },
   "file_extension": ".py",
   "mimetype": "text/x-python",
   "name": "python",
   "nbconvert_exporter": "python",
   "pygments_lexer": "ipython3",
   "version": "3.6.9"
  }
 },
 "nbformat": 4,
 "nbformat_minor": 5
}
