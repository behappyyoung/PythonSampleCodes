{
 "cells": [
  {
   "cell_type": "code",
   "execution_count": 12,
   "metadata": {},
   "outputs": [
    {
     "name": "stdout",
     "output_type": "stream",
     "text": [
      "4.0\n",
      "4.0\n",
      "1.8485239428839063e-05\n",
      "1.8485239428839063e-05\n"
     ]
    }
   ],
   "source": [
    "def myPow(x, n):\n",
    "        m = -n if n < 0 else n\n",
    "        y = 1\n",
    "        while m:\n",
    "            if m & 1:\n",
    "                y *= x\n",
    "            x *= x\n",
    "            m >>= 1\n",
    "        return y if n >= 0 else 1/y\n",
    "\n",
    "print(myPow(2.00000, 2))\n",
    "print(2.0000**(2))\n",
    "\n",
    "print(myPow(8.84372, -5))\n",
    "print(8.84372**(-5))\n"
   ]
  },
  {
   "cell_type": "code",
   "execution_count": 16,
   "metadata": {},
   "outputs": [
    {
     "name": "stdout",
     "output_type": "stream",
     "text": [
      "4.0\n",
      "4.0\n",
      "1.8485239428839063e-05\n",
      "1.8485239428839063e-05\n"
     ]
    }
   ],
   "source": [
    "def myPow_r(x, n):\n",
    "        if not n:\n",
    "            return 1\n",
    "        if n < 0:\n",
    "            return 1 / myPow_r(x, -n)\n",
    "        if n % 2:\n",
    "            return x * myPow_r(x, n-1)\n",
    "        return myPow_r(x*x, n/2)\n",
    "\n",
    "print(myPow_r(2.00000, 2))\n",
    "print(2.0000**(2))\n",
    "\n",
    "print(myPow_r(8.84372, -5))\n",
    "print(8.84372**(-5))"
   ]
  },
  {
   "cell_type": "code",
   "execution_count": 33,
   "metadata": {},
   "outputs": [
    {
     "data": {
      "text/plain": [
       "2"
      ]
     },
     "execution_count": 33,
     "metadata": {},
     "output_type": "execute_result"
    }
   ],
   "source": [
    "((3**1)%5+(3**2)%5)%5\n"
   ]
  },
  {
   "cell_type": "code",
   "execution_count": 25,
   "metadata": {},
   "outputs": [
    {
     "data": {
      "text/plain": [
       "True"
      ]
     },
     "execution_count": 25,
     "metadata": {},
     "output_type": "execute_result"
    }
   ],
   "source": [
    "12346 == (1*10*10*10*10+2*10*10*10 + 3*10*10+4*10+6)"
   ]
  },
  {
   "cell_type": "code",
   "execution_count": 141,
   "metadata": {},
   "outputs": [
    {
     "name": "stdout",
     "output_type": "stream",
     "text": [
      "708\n",
      "2147483647 [2, 2, 2, 2]\n",
      "1198 [2, 2, 2]\n",
      "407 [2, 2]\n",
      "960 [2]\n",
      "750 []\n",
      "708\n"
     ]
    }
   ],
   "source": [
    "\"\"\"\n",
    "Your task is to calculate ab mod 1337 where a is a positive integer \n",
    "and b is an extremely large positive integer given in the form of an array.\n",
    "\"\"\"\n",
    "def superPow(a, b):\n",
    "    print(a, b)\n",
    "    if not b:\n",
    "        return 1\n",
    "    if a == 1 or a == 0:\n",
    "        return a\n",
    "    l = len(b)\n",
    "    s = 0\n",
    "    return pow(a, b.pop(), 1337)*superPow(pow(a, 10, 1337), b)%1337\n",
    "\n",
    "\n",
    "# print(superPow(2, [3]))\n",
    "# print(superPow(2, [1,0]))\n",
    "\n",
    "# n = 1\n",
    "# p = [4,3,3,8,5,2]\n",
    "n = 2147483647  \n",
    "p = [2,2,2,2]\n",
    "print((2147483647**2222)%1337)\n",
    "\n",
    "# n = 78267\n",
    "# p = [1,7,7,4,3,1,7,0,1,4,4,9,2,8,5,0,0,9,3,1,2,5,9,6,0,9,9,0,9,6,0,5,3,7,9,8,8,9,8,2,5,4,1,9,3,8,0,5,9,5,6,1,1,8,9,3,7,8,5,8,5,5,3,0,4,3,1,5,4,1,7,9,6,8,8,9,8,0,6,7,8,3,1,1,1,0,6,8,1,1,6,6,9,1,8,5,6,9,0,0,1,7,1,7,7,2,8,5,4,4,5,2,9,6,5,0,8,1,0,9,5,8,7,6,0,6,1,8,7,2,9,8,1,0,7,9,4,7,6,9,2,3,1,3,9,9,6,8,0,8,9,7,7,7,3,9,5,5,7,4,9,8,3,0,1,2,1,5,0,8,4,4,3,8,9,3,7,5,3,9,4,4,9,3,3,2,4,8,9,3,3,8,2,8,1,3,2,2,8,4,2,5,0,6,3,0,9,0,5,4,1,1,8,0,4,2,5,8,2,4,2,7,5,4,7,6,9,0,8,9,6,1,4,7,7,9,7,8,1,4,4,3,6,4,5,2,6,0,1,1,5,3,8,0,9,8,8,0,0,6,1,6,9,6,5,8,7,4,8,9,9,2,4,7,7,9,9,5,2,2,6,9,7,7,9,8,5,9,8,5,5,0,3,5,8,9,5,7,3,4,6,4,6,2,3,5,2,3,1,4,5,9,3,3,6,4,1,3,3,2,0,0,4,4,7,2,3,3,9,8,7,8,5,5,0,8,3,4,1,4,0,9,5,5,4,4,9,7,7,4,1,8,7,5,2,4,9,7,9,1,7,8,9,2,4,1,1,7,6,4,3,6,5,0,2,1,4,3,9,2,0,0,2,9,8,4,5,7,3,5,8,2,3,9,5,9,1,8,8,9,2,3,7,0,4,1,1,8,7,0,2,7,3,4,6,1,0,3,8,5,8,9,8,4,8,3,5,1,1,4,2,5,9,0,5,3,1,7,4,8,9,6,7,2,3,5,5,3,9,6,9,9,5,7,3,5,2,9,9,5,5,1,0,6,3,8,0,5,5,6,5,6,4,5,1,7,0,6,3,9,4,4,9,1,3,4,7,7,5,8,2,0,9,2,7,3,0,9,0,7,7,7,4,1,2,5,1,3,3,6,4,8,2,5,9,5,0,8,2,5,6,4,8,8,8,7,3,1,8,5,0,5,2,4,8,5,1,1,0,7,9,6,5,1,2,6,6,4,7,0,9,5,6,9,3,7,8,8,8,6,5,8,3,8,5,4,5,8,5,7,5,7,3,2,8,7,1,7,1,8,7,3,3,6,2,9,3,3,9,3,1,5,1,5,5,8,1,2,7,8,9,2,5,4,5,4,2,6,1,3,6,0,6,9,6,1,0,1,4,0,4,5,5,8,2,2,6,3,4,3,4,3,8,9,7,5,5,9,1,8,5,9,9,1,8,7,2,1,1,8,1,5,6,8,5,8,0,2,4,4,7,8,9,5,9,8,0,5,0,3,5,5,2,6,8,3,4,1,4,7,1,7,2,7,5,8,8,7,2,2,3,9,2,2,7,3,2,9,0,2,3,6,9,7,2,8,0,8,1,6,5,2,3,0,2,0,0,0,9,2,2,2,3,6,6,0,9,1,0,0,3,5,8,3,2,0,3,5,1,4,1,6,8,7,6,0,9,8,0,1,0,4,5,6,0,2,8,2,5,0,2,8,5,2,3,0,2,6,7,3,0,0,2,1,9,0,1,9,9,2,0,1,6,7,7,9,9,6,1,4,8,5,5,6,7,0,6,1,7,3,5,9,3,9,0,5,9,2,4,8,6,6,2,2,3,9,3,5,7,4,1,6,9,8,2,6,9,0,0,8,5,7,7,0,6,0,5,7,4,9,6,0,7,8,4,3,9,8,8,7,4,1,5,6,0,9,4,1,9,4,9,4,1,8,6,7,8,2,5,2,3,3,4,3,3,1,6,4,1,6,1,5,7,8,1,9,7,6,0,8,0,1,4,4,0,1,1,8,3,8,3,8,3,9,1,6,0,7,1,3,3,4,9,3,5,2,4,2,0,7,3,3,8,7,7,8,8,0,9,3,1,2,2,4,3,3,3,6,1,6,9,6,2,0,1,7,5,6,2,5,3,5,0,3,2,7,2,3,0,3,6,1,7,8,7,0,4,0,6,7,6,6,3,9,8,5,8,3,3,0,9,6,7,1,9,2,1,3,5,1,6,3,4,3,4,1,6,8,4,2,5]\n",
    "\n",
    "print(superPow(n, p))    ### limited time exceeded"
   ]
  },
  {
   "cell_type": "code",
   "execution_count": 61,
   "metadata": {},
   "outputs": [
    {
     "data": {
      "text/plain": [
       "577"
      ]
     },
     "execution_count": 61,
     "metadata": {},
     "output_type": "execute_result"
    }
   ],
   "source": [
    "(1000 % 1377 *10000 % 1337) % 1337\n"
   ]
  },
  {
   "cell_type": "code",
   "execution_count": 81,
   "metadata": {},
   "outputs": [
    {
     "data": {
      "text/plain": [
       "1253"
      ]
     },
     "execution_count": 81,
     "metadata": {},
     "output_type": "execute_result"
    }
   ],
   "source": [
    "(123456*10*10%1337+7*10%1337+8%1337) % 1337"
   ]
  },
  {
   "cell_type": "code",
   "execution_count": 147,
   "metadata": {},
   "outputs": [
    {
     "data": {
      "text/plain": [
       "1135"
      ]
     },
     "execution_count": 147,
     "metadata": {},
     "output_type": "execute_result"
    }
   ],
   "source": [
    "pow(2, 400, 1337)"
   ]
  },
  {
   "cell_type": "code",
   "execution_count": 155,
   "metadata": {},
   "outputs": [
    {
     "data": {
      "text/plain": [
       "177"
      ]
     },
     "execution_count": 155,
     "metadata": {},
     "output_type": "execute_result"
    }
   ],
   "source": [
    "pow(pow(2,100, 1337),4, 1337) % 1337"
   ]
  },
  {
   "cell_type": "code",
   "execution_count": 152,
   "metadata": {},
   "outputs": [
    {
     "data": {
      "text/plain": [
       "177"
      ]
     },
     "execution_count": 152,
     "metadata": {},
     "output_type": "execute_result"
    }
   ],
   "source": [
    "((pow(pow(pow(2,10, 1337),10, 1337),4, 1337)%1337)) % 1337"
   ]
  },
  {
   "cell_type": "code",
   "execution_count": null,
   "metadata": {},
   "outputs": [],
   "source": [
    "\"\"\"\n",
    "strobogrammatic-number\n",
    "\n",
    "0 after 180° rotation : (0 → 0)\n",
    "1 after 180° rotation : (1 → 1)\n",
    "8 after 180° rotation : (8 → 8)\n",
    "6 after 180° rotation : (6 → 9)\n",
    "9 after 180° rotation : (9 → 6)\n",
    "\n",
    "11\n",
    "88\n",
    "69\n",
    "96\n",
    "\n",
    "101\n",
    "111\n",
    "181\n",
    "\n",
    "609\n",
    "619\n",
    "689\n",
    "\n",
    "808\n",
    "818\n",
    "888\n",
    "\n",
    "906\n",
    "916\n",
    "986\n",
    "\n",
    "\n",
    "10001\n",
    "10101\n",
    "10801\n",
    "\n",
    "11011\n",
    "11111\n",
    "11811\n",
    "\n",
    "18081\n",
    "18181\n",
    "18881\n",
    "\n",
    "\n",
    "\n",
    "\"\"\"\n",
    "def strobogrammatic(n):\n",
    "    dp = [0]*(n+1)\n",
    "    dp[1] = 3\n",
    "    dp[2] = 4\n",
    "    for i in range(n+1):\n",
    "        dp[i] = dp[i-2]*5\n",
    "    \n",
    "    return dp[n]\n",
    "    \n",
    "    "
   ]
  },
  {
   "cell_type": "code",
   "execution_count": 156,
   "metadata": {},
   "outputs": [],
   "source": [
    "i = 10\n"
   ]
  },
  {
   "cell_type": "code",
   "execution_count": 158,
   "metadata": {},
   "outputs": [
    {
     "data": {
      "text/plain": [
       "0"
      ]
     },
     "execution_count": 158,
     "metadata": {},
     "output_type": "execute_result"
    }
   ],
   "source": [
    "i % 1\n"
   ]
  },
  {
   "cell_type": "code",
   "execution_count": 180,
   "metadata": {},
   "outputs": [
    {
     "name": "stdout",
     "output_type": "stream",
     "text": [
      "[True, True, True]\n",
      "1\n"
     ]
    }
   ],
   "source": [
    "def firstMissingPositive(nums):\n",
    "        if not nums:\n",
    "            return 1\n",
    "        d = [True]*(len(nums)+2)\n",
    "        \n",
    "        for i in range(len(nums)):\n",
    "            if 0<nums[i] <= len(nums):\n",
    "                d[nums[i]] = False\n",
    "        print(d)\n",
    "        for i in range(1, len(nums)+2):\n",
    "            if d[i]:\n",
    "                return i\n",
    "           \n",
    "        \n",
    "# print(firstMissingPositive([7,8,9,11,12]))\n",
    "a = [1,2,3, 4, 6]\n",
    "a =[-5]\n",
    "print(firstMissingPositive(a))"
   ]
  },
  {
   "cell_type": "code",
   "execution_count": 8,
   "metadata": {},
   "outputs": [
    {
     "name": "stdout",
     "output_type": "stream",
     "text": [
      "{1, 2, 3, 4, 5, 6, 8, 9, 10, 12, 14, 15, 16, 18, 20, 21, 22, 24, 25, 26, 27, 28, 30, 32, 33, 34, 35, 36, 38, 39, 40, 42, 45, 48, 50, 51, 54, 55, 57, 60, 63, 65, 70, 75, 80, 85, 90, 95, 100, 105} [1, 2, 3, 4, 5, 6, 8, 9, 10, 12, 14, 15, 16, 18, 20, 21, 22, 24, 25, 26, 27, 28, 30, 32, 33, 34, 35, 36, 38, 39, 40, 42, 45, 48, 50, 51, 54, 55, 57, 60, 63, 65, 70, 75, 80, 85, 90, 95, 100, 105] 1\n",
      "14\n"
     ]
    }
   ],
   "source": []
  },
  {
   "cell_type": "code",
   "execution_count": 11,
   "metadata": {},
   "outputs": [
    {
     "name": "stdout",
     "output_type": "stream",
     "text": [
      "2 3 5\n",
      "4 3 5\n",
      "4 6 5\n",
      "6 6 5\n",
      "6 6 10\n",
      "8 9 10\n",
      "10 9 10\n",
      "10 12 10\n",
      "12 12 15\n",
      "16 15 15\n",
      "[1, 2, 3, 4, 5, 6, 8, 9, 10, 12, 15]\n",
      "15\n"
     ]
    }
   ],
   "source": [
    "def nthUglyNumber_t(n):\n",
    "    ugly = [1]\n",
    "    i2, i3, i5 = 0, 0, 0\n",
    "    while n > 1:\n",
    "        u2, u3, u5 = 2 * ugly[i2], 3 * ugly[i3], 5 * ugly[i5]\n",
    "\n",
    "        umin = min((u2, u3, u5))\n",
    "        if umin == u2:\n",
    "            i2 += 1\n",
    "        if umin == u3:\n",
    "            i3 += 1\n",
    "        if umin == u5:\n",
    "            i5 += 1\n",
    "        ugly.append(umin)\n",
    "        n -= 1\n",
    "    return ugly[-1]\n",
    "print(nthUglyNumber_t(11))"
   ]
  },
  {
   "cell_type": "code",
   "execution_count": 37,
   "metadata": {},
   "outputs": [
    {
     "name": "stdout",
     "output_type": "stream",
     "text": [
      "[0, 0, 0, 0] [2, 7, 13, 19] [1]\n",
      "[1, 0, 0, 0] [4, 7, 13, 19] [1, 2]\n",
      "[2, 0, 0, 0] [8, 7, 13, 19] [1, 2, 4]\n",
      "[2, 1, 0, 0] [8, 14, 13, 19] [1, 2, 4, 7]\n",
      "[3, 1, 0, 0] [14, 14, 13, 19] [1, 2, 4, 7, 8]\n",
      "[3, 1, 1, 0] [14, 14, 26, 19] [1, 2, 4, 7, 8, 13]\n",
      "[4, 2, 1, 0] [16, 28, 26, 19] [1, 2, 4, 7, 8, 13, 14]\n",
      "[5, 2, 1, 0] [26, 28, 26, 19] [1, 2, 4, 7, 8, 13, 14, 16]\n",
      "[5, 2, 1, 1] [26, 28, 26, 38] [1, 2, 4, 7, 8, 13, 14, 16, 19]\n",
      "[6, 2, 2, 1] [28, 28, 52, 38] [1, 2, 4, 7, 8, 13, 14, 16, 19, 26]\n",
      "[7, 3, 2, 1] [32, 49, 52, 38] [1, 2, 4, 7, 8, 13, 14, 16, 19, 26, 28]\n",
      "[1, 2, 4, 7, 8, 13, 14, 16, 19, 26, 28, 32]\n",
      "32\n"
     ]
    }
   ],
   "source": [
    "def nthSuperUglyNumber(n,primes):\n",
    "        ugly = [1]\n",
    "        \n",
    "        temp = [0 for i in range(len(primes))]\n",
    "        counts = [0 for i in range(len(primes))]\n",
    "        \n",
    "        while n > 1:\n",
    "            for i in range(len(primes)):\n",
    "                temp[i] = (primes[i] * ugly[counts[i]])\n",
    "            print(counts, temp, ugly)\n",
    "            umin = min(temp)\n",
    "            for i in range(len(primes)):\n",
    "                if temp[i] == umin:\n",
    "                    counts[i] += 1\n",
    "            \n",
    "            ugly.append(umin)\n",
    "            n -= 1\n",
    "        print(ugly)\n",
    "        return ugly[-1]\n",
    "n = 15\n",
    "p = [3,5,7,11,19,23,29,41,43,47]\n",
    "n = 12\n",
    "p = [2,7,13,19]\n",
    "print(nthSuperUglyNumber(n, p))"
   ]
  },
  {
   "cell_type": "code",
   "execution_count": 106,
   "metadata": {},
   "outputs": [
    {
     "name": "stdout",
     "output_type": "stream",
     "text": [
      "5\n"
     ]
    }
   ],
   "source": [
    "# pig = log(bucket/(mt-md))\n",
    "\n",
    "import math\n",
    "\n",
    "def poorPigs(buckets, minutesToDie, minutesToTest):\n",
    "        if minutesToDie>minutesToTest:\n",
    "            return -1\n",
    "        m = minutesToTest//minutesToDie\n",
    "        b = m + 1\n",
    "        pig = 1\n",
    "        p = 2\n",
    "        while b < buckets:\n",
    "            pig += 1\n",
    "#             p = 2**pig\n",
    "#             b = (p-1)*m + 1\n",
    "#             print(pig, b)\n",
    "            b = (m+1)**pig\n",
    "        return pig\n",
    "\n",
    "# print(poorPigs(4, 15, 15))\n",
    "print(poorPigs(1000, 15, 60))\n",
    "# print(poorPigs(4, 15, 30))\n",
    "# math.log(10)\n",
    "# (2**5)*45"
   ]
  },
  {
   "cell_type": "code",
   "execution_count": null,
   "metadata": {},
   "outputs": [],
   "source": []
  }
 ],
 "metadata": {
  "kernelspec": {
   "display_name": "Python 3",
   "language": "python",
   "name": "python3"
  },
  "language_info": {
   "codemirror_mode": {
    "name": "ipython",
    "version": 3
   },
   "file_extension": ".py",
   "mimetype": "text/x-python",
   "name": "python",
   "nbconvert_exporter": "python",
   "pygments_lexer": "ipython3",
   "version": "3.7.5"
  }
 },
 "nbformat": 4,
 "nbformat_minor": 2
}
