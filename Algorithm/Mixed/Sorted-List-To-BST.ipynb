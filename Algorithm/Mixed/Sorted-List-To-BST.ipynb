{
 "cells": [
  {
   "cell_type": "code",
   "execution_count": 85,
   "metadata": {},
   "outputs": [
    {
     "name": "stdout",
     "output_type": "stream",
     "text": [
      "->-10->-3->0->5->9\n",
      "1\n",
      "2 3\n",
      "- - 6 7\n",
      "- - - 9\n",
      "- -\n"
     ]
    }
   ],
   "source": [
    "\n",
    "# print node\n",
    "def print_node(head_node):\n",
    "    c_node = head_node\n",
    "    print_str = ''\n",
    "    while c_node is not None:\n",
    "\n",
    "        print_str += '->' + str(c_node.val)\n",
    "        c_node = c_node.next\n",
    "    print(print_str)\n",
    "    \n",
    "# Definition for singly-linked list.\n",
    "class ListNode:\n",
    "    def __init__(self, x):\n",
    "        self.val = x\n",
    "        self.next = None\n",
    "lnode = ListNode(-10)\n",
    "lnode.next = ListNode(-3)\n",
    "lnode.next.next = ListNode(0)\n",
    "lnode.next.next.next = ListNode(5)\n",
    "lnode.next.next.next.next = ListNode(9)\n",
    "print_node(lnode)\n",
    "\n",
    "# Definition for a binary tree node.\n",
    "class TreeNode:\n",
    "    def __init__(self, x):\n",
    "        self.val = x\n",
    "        self.left = None\n",
    "        self.right = None\n",
    "\n",
    "def print_btree(root):\n",
    "    if root is None:\n",
    "        return '-'\n",
    "    current_level = [root]\n",
    "    while current_level:\n",
    "        print(' '.join('-' if node == '-' else str(node.val) for node in current_level))\n",
    "        next_level = list()\n",
    "        for n in current_level:\n",
    "            if n == '-':\n",
    "                continue\n",
    "            if n.left:\n",
    "                next_level.append(n.left)\n",
    "            else:\n",
    "                next_level.append('-')\n",
    "            if n.right:\n",
    "                next_level.append(n.right)\n",
    "            else:\n",
    "                next_level.append('-')\n",
    "        current_level = next_level\n",
    "\n",
    "t = TreeNode(1)\n",
    "t.left = TreeNode(2)\n",
    "t3 = TreeNode(3)\n",
    "t.right = t3\n",
    "t7 = TreeNode(7)\n",
    "t3.right = t7\n",
    "t3.left = TreeNode(6)\n",
    "t7.right = TreeNode(9)\n",
    "\n",
    "print_btree(t)"
   ]
  },
  {
   "cell_type": "code",
   "execution_count": 137,
   "metadata": {},
   "outputs": [
    {
     "name": "stdout",
     "output_type": "stream",
     "text": [
      "->-10->-3->0->5->9\n"
     ]
    }
   ],
   "source": [
    "\"\"\"\n",
    "Given the sorted linked list: [-10,-3,0,5,9],\n",
    "\n",
    "One possible answer is: [0,-3,9,-10,null,5], which represents the following height balanced BST:\n",
    "\n",
    "      0\n",
    "     / \\\n",
    "   -3   9\n",
    "   /   /\n",
    " -10  5\n",
    " \n",
    "\"\"\"\n",
    "lnode = ListNode(-10)\n",
    "lnode.next = ListNode(-3)\n",
    "lnode.next.next = ListNode(0)\n",
    "lnode.next.next.next = ListNode(5)\n",
    "lnode.next.next.next.next = ListNode(9)\n",
    "print_node(lnode)\n",
    "\n",
    "def sortedListToBST(head):\n",
    "    if not head:\n",
    "        return None\n",
    "    \n",
    "    def get_m(node):\n",
    "        m_node = node\n",
    "        pre_node = node\n",
    "        fast_node = node.next\n",
    "        while fast_node is not None and fast_node.next is not None:\n",
    "            pre_node = m_node\n",
    "            m_node = m_node.next\n",
    "            fast_node = fast_node.next.next\n",
    "        return pre_node\n",
    "        \n",
    "    pre_node = get_m(head)\n",
    "    m_node = pre_node.next\n",
    "    pre_node.next = None\n",
    "\n",
    "    \n",
    "    if m_node is not None:\n",
    "        root = TreeNode(m_node.val)\n",
    "        m_node = m_node.next\n",
    "        \n",
    "        if m_node is not None:\n",
    "            root.right = sortedListToBST(m_node)\n",
    "        else:\n",
    "            root.right = None\n",
    "\n",
    "        if head != pre_node:\n",
    "            root.left = sortedListToBST(head)\n",
    "        else:\n",
    "            root.left = TreeNode(head.val)\n",
    "    else:\n",
    "        root = None\n",
    "\n",
    "    return root"
   ]
  },
  {
   "cell_type": "code",
   "execution_count": 138,
   "metadata": {},
   "outputs": [
    {
     "name": "stdout",
     "output_type": "stream",
     "text": [
      "->-10->-3->0->5->9\n",
      "0\n",
      "-3 9\n",
      "-10 - 5 -\n",
      "- - - -\n"
     ]
    }
   ],
   "source": [
    "print_node(lnode)\n",
    "t = sortedListToBST(lnode)\n",
    "print_btree(t)"
   ]
  },
  {
   "cell_type": "code",
   "execution_count": null,
   "metadata": {},
   "outputs": [],
   "source": []
  }
 ],
 "metadata": {
  "kernelspec": {
   "display_name": "Python 3",
   "language": "python",
   "name": "python3"
  },
  "language_info": {
   "codemirror_mode": {
    "name": "ipython",
    "version": 3
   },
   "file_extension": ".py",
   "mimetype": "text/x-python",
   "name": "python",
   "nbconvert_exporter": "python",
   "pygments_lexer": "ipython3",
   "version": "3.7.5"
  }
 },
 "nbformat": 4,
 "nbformat_minor": 2
}
