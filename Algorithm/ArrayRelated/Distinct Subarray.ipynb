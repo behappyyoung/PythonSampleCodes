{
 "cells": [
  {
   "cell_type": "code",
   "execution_count": null,
   "id": "7841ab8d",
   "metadata": {},
   "outputs": [],
   "source": [
    "\"\"\"\n",
    "Input: s = \"rabbbit\", t = \"rabbit\"\n",
    "Output: 3\n",
    "Explanation:\n",
    "As shown below, there are 3 ways you can generate \"rabbit\" from S.\n",
    "rabbbit\n",
    "rabbbit\n",
    "rabbbit\n",
    "Example 2:\n",
    "\n",
    "Input: s = \"babgbag\", t = \"bag\"\n",
    "Output: 5\n",
    "Explanation:\n",
    "As shown below, there are 5 ways you can generate \"bag\" from S.\n",
    "babgbag\n",
    "babgbag\n",
    "babgbag\n",
    "babgbag\n",
    "babgbag\n",
    "\n",
    "\"\"\""
   ]
  },
  {
   "cell_type": "code",
   "execution_count": 25,
   "id": "fce6514e",
   "metadata": {},
   "outputs": [],
   "source": [
    "def numDistinct(s: str, t: str) -> int:\n",
    "        way_dict = {}\n",
    "        ls = len(s)\n",
    "        lt = len(t)\n",
    "        if not t:\n",
    "            return 1\n",
    "        if ls < lt:\n",
    "            return 0\n",
    "        elif ls == lt:\n",
    "            if s == t:\n",
    "                return 1\n",
    "            else:\n",
    "                return 0\n",
    "        \n",
    "        ways = 0\n",
    "\n",
    "        if s[0] == t[0]: \n",
    "            key = f'{s[1:]},{t[1:]}'\n",
    "            if key in way_dict:\n",
    "                ways += way_dict(key)\n",
    "            else:\n",
    "                ways += numDistinct(s[1:], t[1:])\n",
    "                way_dict[key] = ways\n",
    "        key = f'{s[1:]},{t}'\n",
    "        if key in way_dict:\n",
    "                ways += way_dict[key]\n",
    "        else:\n",
    "                ways += numDistinct(s[1:], t)\n",
    "                way_dict[key] = ways\n",
    "                \n",
    "    \n",
    "        return ways"
   ]
  },
  {
   "cell_type": "code",
   "execution_count": 50,
   "id": "f6d1c378",
   "metadata": {},
   "outputs": [],
   "source": [
    "def numDistinct_dp(s: str, t: str) -> int:\n",
    "    dp = [[1 for i in range(-1, len(s))] for j in range(len(t))]\n",
    "\n",
    "   \n",
    "    for i in range(len(t)):\n",
    "        dp[i][-1] = 0\n",
    "        for j in range(len(s)):\n",
    "            if t[i] == s[j]:\n",
    "                dp[i][j] = dp[i-1][j] + dp[i][j-1]\n",
    "            else:\n",
    "                dp[i][j] = dp[i][j-1]\n",
    "\n",
    "    print(dp)\n",
    "                \n",
    "    return dp[len(t)-1][len(s)-1]\n"
   ]
  },
  {
   "cell_type": "code",
   "execution_count": 53,
   "id": "202b0334",
   "metadata": {},
   "outputs": [
    {
     "name": "stdout",
     "output_type": "stream",
     "text": [
      "[[1, 1, 1, 1, 1, 1, 1, 0], [0, 1, 1, 1, 1, 1, 1, 0], [0, 0, 1, 2, 3, 3, 3, 0], [0, 0, 1, 3, 6, 6, 6, 0], [0, 0, 0, 0, 0, 6, 6, 0], [0, 0, 0, 0, 0, 0, 6, 0]]\n",
      "6 0.00039152600220404565\n",
      "6 3.740101237781346e-05\n"
     ]
    }
   ],
   "source": [
    "a = 'baggbag'\n",
    "b ='bag'\n",
    "a = \"aabdbaabeeadcbbdedacbbeecbabebaeeecaeabaedadcbdbcdaabebdadbbaeabdadeaabbabbecebbebcaddaacccebeaeedababedeacdeaaaeeaecbe\"\n",
    "b = \"bddabdcae\"\n",
    "a = \"rabbbit\"\n",
    "b = \"rabbit\"\n",
    "import timeit\n",
    "\n",
    "start = timeit.default_timer()\n",
    "answer = numDistinct_dp(a, b)\n",
    "end = timeit.default_timer()\n",
    "print(answer, end-start)\n",
    "\n",
    "start = timeit.default_timer()\n",
    "# answer = numDistinct(a, b)\n",
    "end = timeit.default_timer()\n",
    "print(answer, end-start)"
   ]
  }
 ],
 "metadata": {
  "kernelspec": {
   "display_name": "Python 3",
   "language": "python",
   "name": "python3"
  },
  "language_info": {
   "codemirror_mode": {
    "name": "ipython",
    "version": 3
   },
   "file_extension": ".py",
   "mimetype": "text/x-python",
   "name": "python",
   "nbconvert_exporter": "python",
   "pygments_lexer": "ipython3",
   "version": "3.6.9"
  }
 },
 "nbformat": 4,
 "nbformat_minor": 5
}
