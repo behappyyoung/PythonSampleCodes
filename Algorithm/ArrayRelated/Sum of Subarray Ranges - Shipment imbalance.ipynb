{
 "cells": [
  {
   "cell_type": "code",
   "execution_count": 33,
   "id": "6ffb9d0b",
   "metadata": {},
   "outputs": [
    {
     "name": "stdout",
     "output_type": "stream",
     "text": [
      "0 1 [1] 1 1\n",
      "0 2 [1, 3] 3 1\n",
      "1 2 [3] 3 3\n",
      "0 3 [1, 3, 2] 3 1\n",
      "1 3 [3, 2] 3 2\n",
      "2 3 [2] 2 2\n"
     ]
    },
    {
     "data": {
      "text/plain": [
       "5"
      ]
     },
     "execution_count": 33,
     "metadata": {},
     "output_type": "execute_result"
    }
   ],
   "source": [
    "\n",
    "\"\"\"\n",
    " Sum of Subarray Ranges\n",
    " https://leetcode.com/problems/sum-of-subarray-ranges/\n",
    " \n",
    " \n",
    "\"\"\"\n",
    "def subArrayRanges(nums):\n",
    "    \n",
    "    total = 0\n",
    "    for i in range(len(nums)+1):\n",
    "        for j in range(i):\n",
    "            print(j, i, nums[j:i], max(nums[j:i]), min(nums[j:i]))\n",
    "            total += max(nums[j:i])-min(nums[j:i])\n",
    "            \n",
    "    return total\n",
    "\n",
    "nums = [1,3,2]\n",
    "subArrayRanges(nums)"
   ]
  },
  {
   "cell_type": "code",
   "execution_count": null,
   "id": "1eb21cfe",
   "metadata": {},
   "outputs": [],
   "source": []
  },
  {
   "cell_type": "code",
   "execution_count": 34,
   "id": "d295b974",
   "metadata": {},
   "outputs": [
    {
     "name": "stdout",
     "output_type": "stream",
     "text": [
      "[[1], [1, 2], [2], [1, 2, 3], [2, 3], [3]]\n",
      "[[1], [1, 3], [3], [1, 3, 2], [3, 2], [2]]\n"
     ]
    }
   ],
   "source": [
    "\n",
    "\n",
    "    \n",
    "def gen_subarray(nums):\n",
    "    lists = []\n",
    "    for i in range(len(nums)+1):\n",
    "        for j in range(i):\n",
    "            lists.append(nums[j:i])\n",
    "            \n",
    "    return lists\n",
    "    \n",
    "\n",
    "    \n",
    "nums = [1,2,3]\n",
    "sub_array = gen_subarray(nums)\n",
    "\n",
    "print(sub_array)\n",
    "\n",
    "nums = [1,3,2]\n",
    "sub_array = gen_subarray(nums)\n",
    "\n",
    "print(sub_array)"
   ]
  }
 ],
 "metadata": {
  "kernelspec": {
   "display_name": "Django Shell-Plus",
   "language": "python",
   "name": "django_extensions"
  },
  "language_info": {
   "codemirror_mode": {
    "name": "ipython",
    "version": 3
   },
   "file_extension": ".py",
   "mimetype": "text/x-python",
   "name": "python",
   "nbconvert_exporter": "python",
   "pygments_lexer": "ipython3",
   "version": "3.6.9"
  }
 },
 "nbformat": 4,
 "nbformat_minor": 5
}
