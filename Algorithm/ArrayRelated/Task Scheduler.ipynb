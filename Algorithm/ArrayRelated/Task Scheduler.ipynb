{
 "cells": [
  {
   "cell_type": "code",
   "execution_count": 8,
   "id": "7be1a6cd",
   "metadata": {},
   "outputs": [
    {
     "name": "stdout",
     "output_type": "stream",
     "text": [
      "0 2 {}\n",
      "1 3 {2: 0}\n",
      "2 1 {2: 0, 3: 1}\n",
      "3 1 {2: 0, 3: 1, 1: 2}\n",
      "4 3 {2: 0, 3: 1, 1: 3}\n",
      "5 2 {2: 0, 3: 4, 1: 3}\n",
      "6 2 {2: 5, 3: 4, 1: 3}\n",
      "7 1 {2: 6, 3: 4, 1: 3}\n",
      "[2, 3, 1, 0, 1, 3, 2, 0, 2, 1]\n"
     ]
    }
   ],
   "source": [
    "\"\"\"\n",
    "task scheduler\n",
    "[2,3,1,1,3,2,2,1] N=2 ( minimum space between same number)\n",
    "=>\n",
    "[2,3,1,0,0,1,3,2,0,0,2,1]\n",
    "\n",
    "\"\"\"\n",
    "\n",
    "def task_s(arr, n):\n",
    "    if not arr or n == 0:\n",
    "        return arr\n",
    "    r_arr = []\n",
    "    num_dict = {}\n",
    "    for i in range(len(arr)):\n",
    "        print(i, arr[i], num_dict)\n",
    "        if arr[i] in num_dict:\n",
    "            pre_l = num_dict[arr[i]]\n",
    "            if i - pre_l < n:\n",
    "                for j in range(n-(i-pre_l)):\n",
    "                    r_arr.append(0)\n",
    "            r_arr.append(arr[i])\n",
    "            num_dict[arr[i]] = i\n",
    "        else:\n",
    "            r_arr.append(arr[i])\n",
    "            num_dict[arr[i]] = i\n",
    "            \n",
    "        \n",
    "    return r_arr\n",
    "\n",
    "s = [2,3,1,1,3,2,2,1]\n",
    "\n",
    "print(task_s(s, 2))"
   ]
  },
  {
   "cell_type": "code",
   "execution_count": 21,
   "id": "7bee183d",
   "metadata": {},
   "outputs": [
    {
     "name": "stdout",
     "output_type": "stream",
     "text": [
      "Counter({'A': 3, 'B': 3, 'C': 3, 'D': 2, 'E': 1}) 7 3\n"
     ]
    },
    {
     "data": {
      "text/plain": [
       "12"
      ]
     },
     "execution_count": 21,
     "metadata": {},
     "output_type": "execute_result"
    }
   ],
   "source": [
    "\"\"\"\n",
    "https://leetcode.com/problems/task-scheduler/\n",
    "\n",
    " there is a non-negative integer n that represents the cooldown period between two same tasks \n",
    " (the same letter in the array), \n",
    " that is that there must be at least n units of time between any two same tasks.\n",
    " \n",
    "\n",
    "Input: tasks = [\"A\",\"A\",\"A\",\"B\",\"B\",\"B\"], n = 2\n",
    "Output: 8\n",
    "Explanation: \n",
    "A -> B -> idle -> A -> B -> idle -> A -> B\n",
    "There is at least 2 units of time between any two same tasks.\n",
    "\n",
    "Input: tasks = [\"A\",\"A\",\"A\",\"A\",\"A\",\"A\",\"B\",\"C\",\"D\",\"E\",\"F\",\"G\"], n = 2\n",
    "Output: 16\n",
    "Explanation: \n",
    "One possible solution is\n",
    "A -> B -> C -> A -> D -> E -> A -> F -> G -> A -> idle -> idle -> A -> idle -> idle -> A\n",
    "\n",
    "\"\"\"\n",
    "from collections import Counter\n",
    "\n",
    "def leastInterval(tasks, n):\n",
    "    if len(tasks) <=1 or n==0:\n",
    "        return len(tasks)\n",
    "    \n",
    "    \n",
    "    cnts = Counter(tasks)\n",
    "    max_value_count = max(cnts.values())\n",
    "    # count same max_count => +1\n",
    "    same_count = 0\n",
    "    for i in cnts.values():\n",
    "        if i == max_value_count:\n",
    "            same_count += 1\n",
    "            \n",
    "    max_count = max((max_value_count-1) * n + max_value_count + same_count -1 , len(tasks))\n",
    "    \n",
    "    print(cnts, (max_value_count-1) * n + max_value_count,  same_count )\n",
    "    return max_count\n",
    "\n",
    "# tasks = [\"A\",\"A\",\"A\",\"B\",\"B\",\"B\"]\n",
    "# tasks = [\"B\",\"C\",\"D\",\"E\",\"F\",\"G\",\"A\",\"A\",\"A\",\"A\",\"A\",\"A\"]\n",
    "# tasks =[\"A\",\"A\"]\n",
    "# tasks = [\"A\",\"B\"]\n",
    "tasks = [\"A\",\"A\",\"A\",\"B\",\"B\",\"B\", \"C\",\"C\",\"C\", \"D\", \"D\", \"E\"] #12\n",
    "# tasks = [\"A\",\"A\",\"A\",\"A\",\"A\",\"A\",\"B\",\"C\",\"D\",\"E\",\"F\",\"G\"] #16\n",
    "\n",
    "n = 2\n",
    "leastInterval(tasks, n)\n",
    "            \n",
    "        \n",
    "    \n"
   ]
  }
 ],
 "metadata": {
  "kernelspec": {
   "display_name": "Python 3",
   "language": "python",
   "name": "python3"
  },
  "language_info": {
   "codemirror_mode": {
    "name": "ipython",
    "version": 3
   },
   "file_extension": ".py",
   "mimetype": "text/x-python",
   "name": "python",
   "nbconvert_exporter": "python",
   "pygments_lexer": "ipython3",
   "version": "3.6.9"
  }
 },
 "nbformat": 4,
 "nbformat_minor": 5
}
