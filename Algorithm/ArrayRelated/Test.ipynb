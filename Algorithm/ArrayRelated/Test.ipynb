{
 "cells": [
  {
   "cell_type": "code",
   "execution_count": 13,
   "id": "a1893634",
   "metadata": {},
   "outputs": [
    {
     "name": "stdout",
     "output_type": "stream",
     "text": [
      "[1, 2] (1, 2) {1, 2} {(1, 2): 12}\n"
     ]
    }
   ],
   "source": [
    "\n",
    "l = [1, 2]\n",
    "s = set(l)\n",
    "t = tuple(l)\n",
    "d = {t: 12}\n",
    "\n",
    "print(l,t,  s, d)\n"
   ]
  },
  {
   "cell_type": "code",
   "execution_count": 27,
   "id": "04b41aff",
   "metadata": {},
   "outputs": [
    {
     "name": "stdout",
     "output_type": "stream",
     "text": [
      "1 11\n",
      "False\n",
      "2 12\n",
      "False\n",
      "3 13\n",
      "True\n",
      "{2: 12, 3: 13}\n",
      "True\n"
     ]
    }
   ],
   "source": [
    "d = {1:11, 2:12, 3:13}\n",
    "for dd in d:\n",
    "    print(dd, d[dd])\n",
    "    print(d[dd]>12)\n",
    "del d[1]\n",
    "print(d)\n",
    "print(0>-1)"
   ]
  }
 ],
 "metadata": {
  "kernelspec": {
   "display_name": "Django Shell-Plus",
   "language": "python",
   "name": "django_extensions"
  },
  "language_info": {
   "codemirror_mode": {
    "name": "ipython",
    "version": 3
   },
   "file_extension": ".py",
   "mimetype": "text/x-python",
   "name": "python",
   "nbconvert_exporter": "python",
   "pygments_lexer": "ipython3",
   "version": "3.6.9"
  }
 },
 "nbformat": 4,
 "nbformat_minor": 5
}
