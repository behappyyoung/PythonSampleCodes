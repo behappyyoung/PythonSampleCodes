{
 "cells": [
  {
   "cell_type": "code",
   "execution_count": 37,
   "id": "a1893634",
   "metadata": {},
   "outputs": [
    {
     "name": "stdout",
     "output_type": "stream",
     "text": [
      "2 {1}\n"
     ]
    }
   ],
   "source": [
    "\n",
    "l = [1, 2]\n",
    "s = set()\n",
    "t = tuple(l)\n",
    "d = {t: 12}\n",
    "s.add(3)\n",
    "s.add(2)\n",
    "s2 = set()\n",
    "s2.add(1)\n",
    "s = s - s2\n",
    "print(s.pop(), s2)"
   ]
  },
  {
   "cell_type": "code",
   "execution_count": 26,
   "id": "04b41aff",
   "metadata": {},
   "outputs": [
    {
     "name": "stdout",
     "output_type": "stream",
     "text": [
      "4 11\n",
      "2 12\n",
      "3 13\n",
      "4\n"
     ]
    }
   ],
   "source": [
    "d = {4:11, 2:12, 3:13}\n",
    "for dd in d:\n",
    "    print(dd, d[dd])\n",
    "\n",
    "\n",
    "\n",
    "\n",
    "print(list(d.keys())[0])\n"
   ]
  },
  {
   "cell_type": "code",
   "execution_count": 144,
   "id": "555db754",
   "metadata": {},
   "outputs": [
    {
     "data": {
      "text/plain": [
       "[[], [1], [4], [1, 4], [4, 4], [1, 4, 4], [4, 4, 4], [1, 4, 4, 4]]"
      ]
     },
     "execution_count": 144,
     "metadata": {},
     "output_type": "execute_result"
    }
   ],
   "source": [
    "# def get_subset(nums):\n",
    "#     ln = len(nums)\n",
    "#     subset = [[]]\n",
    "#     for i in range(ln):\n",
    "#         ls = len(subset)\n",
    "#         for k in range(ls):\n",
    "#             subset.append(subset[k] + [nums[i]])\n",
    "                \n",
    "#     return subset\n",
    "\n",
    "# n = [0]\n",
    "# n = [1, 2, 2]\n",
    "# get_subset(n)\n",
    "\n",
    "def get_subset_d(nums):\n",
    "    ln = len(nums)\n",
    "    subset = [[]]\n",
    "    nums.sort()\n",
    "    for i in range(ln):\n",
    "        ls = len(subset)\n",
    "        for k in range(ls):\n",
    "            if subset[k] + [nums[i]] not in subset:\n",
    "                subset.append(subset[k] + [nums[i]])\n",
    "                \n",
    "    return subset\n",
    "\n",
    "n = [0]\n",
    "n = [1, 2, 2]\n",
    "n = [1,4,4,4]\n",
    "get_subset_d(n)\n"
   ]
  },
  {
   "cell_type": "code",
   "execution_count": 200,
   "id": "42f9a136",
   "metadata": {},
   "outputs": [
    {
     "name": "stdout",
     "output_type": "stream",
     "text": [
      "['kabd']\n",
      "abdk\n"
     ]
    },
    {
     "data": {
      "text/plain": [
       "'db'"
      ]
     },
     "execution_count": 200,
     "metadata": {},
     "output_type": "execute_result"
    }
   ],
   "source": [
    "s ='kabd'\n",
    "l = s.split()\n",
    "print(l)\n",
    "print(''.join(sorted(s)))\n",
    "s[:1:-1]"
   ]
  },
  {
   "cell_type": "code",
   "execution_count": 264,
   "id": "9f7f510c",
   "metadata": {},
   "outputs": [
    {
     "name": "stdout",
     "output_type": "stream",
     "text": [
      "[1, '', 4, '']\n",
      "[4, -7, -3, None, None, -9, -3, 9, -7, -4, None, 6, None, -6, -6, None, None, 0, 6, 5, None, 9, None, None, -1, -4, None, None, None, -2]\n"
     ]
    }
   ],
   "source": [
    "l = [1, None, 4, None]\n",
    "l = ['' if not x else x for x in l]\n",
    "print(l)\n",
    "null = None\n",
    "tree_arr = [4,-7,-3,null,null,-9,-3,9,-7,-4,null,6,null,-6,-6,null,null,0,6,5,null,9,null,null,-1,-4,null,null,null,-2]\n",
    "\n",
    "print(tree_arr)"
   ]
  },
  {
   "cell_type": "code",
   "execution_count": 17,
   "id": "0f6e7649",
   "metadata": {},
   "outputs": [
    {
     "name": "stdout",
     "output_type": "stream",
     "text": [
      "[1, 2, 3, 4] [2, 3, 4]\n",
      "[1, 2, 3, 4, 5]\n",
      "3\n",
      "[1, 2, 4, 5]\n"
     ]
    },
    {
     "data": {
      "text/plain": [
       "[]"
      ]
     },
     "execution_count": 17,
     "metadata": {},
     "output_type": "execute_result"
    }
   ],
   "source": [
    "l = [1,2,3,4]\n",
    "k = l[:0] + l[1:]\n",
    "print(l, k)\n",
    "new_list = l + [3]\n",
    "new_list = l + [5]\n",
    "print(new_list)\n",
    "print(new_list.pop(2))\n",
    "print(new_list)\n",
    "new_list[4:]"
   ]
  },
  {
   "cell_type": "code",
   "execution_count": 19,
   "id": "8e6b5ca6",
   "metadata": {},
   "outputs": [
    {
     "name": "stdout",
     "output_type": "stream",
     "text": [
      "9 [7, 1, 2, 3, 4, 0, 2]\n"
     ]
    },
    {
     "ename": "ValueError",
     "evalue": "9 is not in list",
     "output_type": "error",
     "traceback": [
      "\u001b[0;31m---------------------------------------------------------------------------\u001b[0m",
      "\u001b[0;31mValueError\u001b[0m                                Traceback (most recent call last)",
      "\u001b[0;32m<ipython-input-19-4a98dad83b3a>\u001b[0m in \u001b[0;36m<module>\u001b[0;34m\u001b[0m\n\u001b[1;32m      5\u001b[0m     \u001b[0mprint\u001b[0m\u001b[0;34m(\u001b[0m\u001b[0ml\u001b[0m\u001b[0;34m)\u001b[0m\u001b[0;34m\u001b[0m\u001b[0;34m\u001b[0m\u001b[0m\n\u001b[1;32m      6\u001b[0m \u001b[0;34m\u001b[0m\u001b[0m\n\u001b[0;32m----> 7\u001b[0;31m \u001b[0ml\u001b[0m\u001b[0;34m.\u001b[0m\u001b[0mindex\u001b[0m\u001b[0;34m(\u001b[0m\u001b[0;36m9\u001b[0m\u001b[0;34m)\u001b[0m\u001b[0;34m\u001b[0m\u001b[0;34m\u001b[0m\u001b[0m\n\u001b[0m",
      "\u001b[0;31mValueError\u001b[0m: 9 is not in list"
     ]
    }
   ],
   "source": [
    "l = [7, 9, 1,2,3,4, 0, 2]\n",
    "\n",
    "print(l.pop(1), l)\n",
    "if 0 not in l:\n",
    "    print(l)\n",
    "    \n",
    "l.index(9)"
   ]
  },
  {
   "cell_type": "code",
   "execution_count": 18,
   "id": "b671744a",
   "metadata": {},
   "outputs": [
    {
     "name": "stdout",
     "output_type": "stream",
     "text": [
      "[1, 2, 3, 4, 5, 6, 7, 8, 9, 10] [1, 2, 3, 4, 5, 6, 7, 8, 9, 10]\n",
      "[1, 2, 3, 4, 5, 6, 7, 8, 9]\n",
      "1\n",
      "[1, 2, 3, 4, 5, 6, 7, 8, 9]\n"
     ]
    }
   ],
   "source": [
    "num_array = [i+1 for i in range(10)]\n",
    "print(num_array[:10], num_array)\n",
    "num_array.pop()\n",
    "print(num_array)\n",
    "print(num_array[1 >> 4])\n",
    "print(num_array)"
   ]
  },
  {
   "cell_type": "code",
   "execution_count": 11,
   "id": "7cd5ac91",
   "metadata": {},
   "outputs": [
    {
     "name": "stdout",
     "output_type": "stream",
     "text": [
      "They heard him say \"Hello world!\".\n",
      "\n",
      "'They heard him say Hello world!.\\n'\n"
     ]
    }
   ],
   "source": [
    "s = 'They heard him say \"Hello world!\".\\n'\n",
    "print(s)\n",
    "\n",
    "s = s.replace('\"', '')\n",
    "print(repr(s))\n"
   ]
  },
  {
   "cell_type": "code",
   "execution_count": 13,
   "id": "d335b67a",
   "metadata": {},
   "outputs": [
    {
     "name": "stdout",
     "output_type": "stream",
     "text": [
      "{1: 0, 2: 0}\n",
      "{2: 0}\n"
     ]
    }
   ],
   "source": [
    "d = {1:1, 2:2}\n",
    "d[1] = 0\n",
    "d[2]=0\n",
    "print(d)\n",
    "del d[1]\n",
    "print(d)"
   ]
  },
  {
   "cell_type": "code",
   "execution_count": 29,
   "id": "e12038cb",
   "metadata": {},
   "outputs": [
    {
     "name": "stdout",
     "output_type": "stream",
     "text": [
      "{'me': {'e': 1}, 'charge': {'c': 1, 'r': 1, 'e': 1}, 'mind': {'n': 1, 'd': 1}, 'bottom': {'o': 2, 't': 2}}\n",
      "['charge', 'mind', 'bottom', 'me'] {'me': {'e': 1}, 'charge': {'c': 1, 'r': 1, 'e': 1}, 'mind': {'n': 1, 'd': 1}, 'bottom': {'o': 2, 't': 2}}\n"
     ]
    }
   ],
   "source": [
    "d = {'me': {'e': 1}, 'charge': {'c': 1, 'r': 1, 'e': 1}, 'mind': {'n': 1, 'd': 1}, 'bottom': {'o': 2, 't': 2}}\n",
    "print(d)\n",
    "sd = sorted(d, key=lambda x: len(d[x]), reverse=True)\n",
    "print(sd, d)"
   ]
  },
  {
   "cell_type": "code",
   "execution_count": 31,
   "id": "441aeb3c",
   "metadata": {},
   "outputs": [
    {
     "name": "stdout",
     "output_type": "stream",
     "text": [
      "1\n",
      "2\n",
      "4\n",
      "8\n",
      "16\n",
      "32\n",
      "64\n",
      "128\n",
      "256\n",
      "512\n",
      "1024\n",
      "2048\n",
      "4096\n",
      "8192\n",
      "16384\n",
      "32768\n",
      "65536\n",
      "131072\n",
      "262144\n",
      "524288\n",
      "1048576\n",
      "2097152\n",
      "4194304\n",
      "8388608\n",
      "16777216\n",
      "33554432\n",
      "67108864\n",
      "134217728\n",
      "268435456\n"
     ]
    }
   ],
   "source": [
    "for i in range(29):\n",
    "    print(2**i)\n"
   ]
  },
  {
   "cell_type": "code",
   "execution_count": 12,
   "id": "3c915297",
   "metadata": {},
   "outputs": [
    {
     "name": "stdout",
     "output_type": "stream",
     "text": [
      "0.20000000000000018 1\n"
     ]
    }
   ],
   "source": [
    "#!/bin/python3\n",
    "\n",
    "import math\n",
    "import os\n",
    "import random\n",
    "import re\n",
    "import sys\n",
    "\n",
    "\n",
    "#\n",
    "# Complete the 'maximumQuality' function below.\n",
    "#\n",
    "# The function is expected to return a LONG_INTEGER.\n",
    "# The function accepts following parameters:\n",
    "#  1. INTEGER_ARRAY packets\n",
    "#  2. INTEGER channels\n",
    "#\n",
    "\n",
    "def maximumQuality(packets, channels):\n",
    "    # Write your code here\n",
    "    \n",
    "    \n",
    "    sorted_pac = sorted(packets)\n",
    "    \n",
    "    channels_sel = []\n",
    "    \n",
    "    while channels > 1:\n",
    "        biggest = sorted_pac.pop()\n",
    "        if not channels_sel:\n",
    "            channels_sel.append(biggest)\n",
    "        elif channels_sel[-1] != biggest:\n",
    "            channels_sel.append(biggest)\n",
    "            \n",
    "        channels -= 1\n",
    "    lp = len(sorted_pac)\n",
    "    m = lp // 2 \n",
    "    if lp % 2 == 0: # even\n",
    "        biggest = (sorted_pac[m] + sorted_pac[m-1]) / 2\n",
    "    else:\n",
    "        biggest = sorted_pac[m]\n",
    "        \n",
    "    channels_sel.append(biggest)\n",
    "    total_sum = sum(channels_sel)\n",
    "    if total_sum % 1:\n",
    "        total_sum = total_sum // 1 + 1\n",
    "    \n",
    "    return int(total_sum)\n",
    "\n",
    "if __name__ == '__main__':\n",
    "    fptr = open(os.environ['OUTPUT_PATH'], 'w')\n",
    "\n",
    "    packets_count = int(input().strip())\n",
    "\n",
    "    packets = []\n",
    "\n",
    "    for _ in range(packets_count):\n",
    "        packets_item = int(input().strip())\n",
    "        packets.append(packets_item)\n",
    "\n",
    "    channels = int(input().strip())\n",
    "\n",
    "    result = maximumQuality(packets, channels)\n",
    "\n",
    "    fptr.write(str(result) + '\\n')\n",
    "\n",
    "    fptr.close()\n"
   ]
  },
  {
   "cell_type": "code",
   "execution_count": 13,
   "id": "c0dbbd4e",
   "metadata": {},
   "outputs": [
    {
     "name": "stdout",
     "output_type": "stream",
     "text": [
      "[2, 3, 5]\n"
     ]
    }
   ],
   "source": [
    "#!/bin/python3\n",
    "\n",
    "import math\n",
    "import os\n",
    "import random\n",
    "import re\n",
    "import sys\n",
    "\n",
    "\n",
    "\n",
    "#\n",
    "# Complete the 'findMaxProducts' function below.\n",
    "#\n",
    "# The function is expected to return a LONG_INTEGER.\n",
    "# The function accepts INTEGER_ARRAY products as parameter.\n",
    "#\n",
    "\n",
    "def findMaxProducts(products):\n",
    "    # Write your code here\n",
    "    \n",
    "    \n",
    "    max_prod = 0\n",
    "    while products:\n",
    "        lp = len(products)\n",
    "        c_max = []\n",
    "        remove_index = []\n",
    "        for i in range(lp):\n",
    "            if not c_max:\n",
    "                if i < lp-1 and products[i] > products[i+1]:\n",
    "                    c_prod = products[i+1] - 1\n",
    "                else:\n",
    "                    c_prod = products[i]\n",
    "            else:\n",
    "                if products[i] < c_max[-1]: \n",
    "                    c_prod = -1\n",
    "                else:\n",
    "                    if i < lp-1 and products[i] > products[i+1]:\n",
    "                        c_prod = products[i+1] - 1\n",
    "                    else:\n",
    "                        c_prod = products[i]\n",
    "                \n",
    "            if c_prod <= 0:\n",
    "                c_max = []\n",
    "            else:\n",
    "                c_max.append(c_prod)\n",
    "                products[i] -= c_prod      \n",
    "                if products[i] == 0 :\n",
    "                    remove_index.append(i)\n",
    "                max_prod = max(max_prod, sum(c_max))\n",
    "                        \n",
    "        for r in range(len(remove_index)-1, -1, -1):\n",
    "            products.pop(r)\n",
    "            \n",
    "    return max_prod\n",
    "            \n",
    "if __name__ == '__main__':\n",
    "    fptr = open(os.environ['OUTPUT_PATH'], 'w')\n",
    "\n",
    "    products_count = int(input().strip())\n",
    "\n",
    "    products = []\n",
    "\n",
    "    for _ in range(products_count):\n",
    "        products_item = int(input().strip())\n",
    "        products.append(products_item)\n",
    "\n",
    "    result = findMaxProducts(products)\n",
    "\n",
    "    fptr.write(str(result) + '\\n')\n",
    "\n",
    "    fptr.close()\n"
   ]
  }
 ],
 "metadata": {
  "kernelspec": {
   "display_name": "Django Shell-Plus",
   "language": "python",
   "name": "django_extensions"
  },
  "language_info": {
   "codemirror_mode": {
    "name": "ipython",
    "version": 3
   },
   "file_extension": ".py",
   "mimetype": "text/x-python",
   "name": "python",
   "nbconvert_exporter": "python",
   "pygments_lexer": "ipython3",
   "version": "3.6.9"
  }
 },
 "nbformat": 4,
 "nbformat_minor": 5
}
