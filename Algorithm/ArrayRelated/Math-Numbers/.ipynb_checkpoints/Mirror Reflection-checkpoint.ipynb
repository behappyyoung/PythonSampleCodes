{
 "cells": [
  {
   "cell_type": "code",
   "execution_count": 1,
   "id": "4794b9bf",
   "metadata": {},
   "outputs": [
    {
     "data": {
      "text/plain": [
       "'\\n\\nInput: p = 2, q = 1\\nOutput: 2\\nExplanation: The ray meets receptor 2 the first time it gets reflected back to the left wall.\\n\\n\\n'"
      ]
     },
     "execution_count": 1,
     "metadata": {},
     "output_type": "execute_result"
    }
   ],
   "source": [
    "\"\"\"\n",
    "\n",
    "Input: p = 2, q = 1\n",
    "Output: 2\n",
    "Explanation: The ray meets receptor 2 the first time it gets reflected back to the left wall.\n",
    "\n",
    "\n",
    "\"\"\""
   ]
  },
  {
   "cell_type": "code",
   "execution_count": null,
   "id": "62b7dc4b",
   "metadata": {},
   "outputs": [],
   "source": [
    "def mirrorReflection(p, q):\n",
    "        \n",
    "        t = p//q\n"
   ]
  }
 ],
 "metadata": {
  "kernelspec": {
   "display_name": "Python 3",
   "language": "python",
   "name": "python3"
  },
  "language_info": {
   "codemirror_mode": {
    "name": "ipython",
    "version": 3
   },
   "file_extension": ".py",
   "mimetype": "text/x-python",
   "name": "python",
   "nbconvert_exporter": "python",
   "pygments_lexer": "ipython3",
   "version": "3.6.9"
  }
 },
 "nbformat": 4,
 "nbformat_minor": 5
}
