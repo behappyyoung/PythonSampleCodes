{
 "cells": [
  {
   "cell_type": "code",
   "execution_count": 23,
   "id": "4794b9bf",
   "metadata": {},
   "outputs": [
    {
     "data": {
      "text/plain": [
       "2"
      ]
     },
     "execution_count": 23,
     "metadata": {},
     "output_type": "execute_result"
    }
   ],
   "source": [
    "\"\"\"\n",
    "\n",
    "Input: p = 2, q = 1\n",
    "Output: 2\n",
    "Explanation: The ray meets receptor 2 the first time it gets reflected back to the left wall.\n",
    "\n",
    "Input: p = 3, q = 1\n",
    "Output: 1\n",
    "\n",
    "\"\"\"\n",
    "def mirrorReflection(p, q):\n",
    "        \n",
    "    import math \n",
    "    lcm = (p*q)//math.gcd(p, q)\n",
    "    h = lcm // p\n",
    "    w = lcm // q\n",
    "    \n",
    "    if w % 2 ==0:\n",
    "        return 2\n",
    "    else:\n",
    "        if h % 2 == 0:\n",
    "            return 0\n",
    "        else:\n",
    "            return 1\n",
    "    \n",
    "\n",
    "mirrorReflection(2, 1)"
   ]
  },
  {
   "cell_type": "code",
   "execution_count": null,
   "id": "b0a03f5a",
   "metadata": {},
   "outputs": [],
   "source": []
  },
  {
   "cell_type": "code",
   "execution_count": 15,
   "id": "7e73192a",
   "metadata": {},
   "outputs": [
    {
     "name": "stdout",
     "output_type": "stream",
     "text": [
      "The HCF is 2 lcm is 12\n",
      "12\n"
     ]
    }
   ],
   "source": [
    "# Function to find HCF the Using Euclidian algorithm\n",
    "def compute_gcd(x, y):\n",
    "   while(y):\n",
    "       x, y = y, x % y\n",
    "   return x\n",
    "\n",
    "x = 6\n",
    "y = 4\n",
    "hcf = compute_hcf(x, y)\n",
    "\n",
    "def compute_lcm(x, y):\n",
    "   lcm = (x*y)//compute_gcd(x,y)\n",
    "   return lcm\n",
    "\n",
    "lcm = compute_lcm(x, y)\n",
    "print(\"The HCF is\", hcf, f\"lcm is {lcm}\")\n",
    "import math\n",
    "lcm = (x*y)//math.gcd(x, y)\n",
    "print(lcm)"
   ]
  }
 ],
 "metadata": {
  "kernelspec": {
   "display_name": "Python 3",
   "language": "python",
   "name": "python3"
  },
  "language_info": {
   "codemirror_mode": {
    "name": "ipython",
    "version": 3
   },
   "file_extension": ".py",
   "mimetype": "text/x-python",
   "name": "python",
   "nbconvert_exporter": "python",
   "pygments_lexer": "ipython3",
   "version": "3.6.9"
  }
 },
 "nbformat": 4,
 "nbformat_minor": 5
}
