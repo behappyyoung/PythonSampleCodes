{
 "cells": [
  {
   "cell_type": "code",
   "execution_count": 25,
   "id": "9174704e",
   "metadata": {},
   "outputs": [
    {
     "name": "stdout",
     "output_type": "stream",
     "text": [
      "[[0, 2], [1, 3], [2, 4], [3, 5], [4, 6]]\n",
      "1 [0, 2] [1, 3] 0 [0, 2]\n",
      "2 [1, 3] [2, 4] 0 [2, 4]\n",
      "3 [2, 4] [3, 5] 0 [2, 4]\n",
      "4 [3, 5] [4, 6] 0 [4, 6]\n"
     ]
    },
    {
     "data": {
      "text/plain": [
       "2"
      ]
     },
     "execution_count": 25,
     "metadata": {},
     "output_type": "execute_result"
    }
   ],
   "source": [
    "\"\"\"\n",
    "\n",
    "\"\"\"\n",
    "\n",
    "\n",
    "def eraseOverlapIntervals(intervals):\n",
    "        intervals.sort()\n",
    "        print(intervals)\n",
    "        same_count = 0\n",
    "        i = 1\n",
    "        total_count = 0\n",
    "        current = intervals[0]\n",
    "        while i < (len(intervals)):\n",
    "            if current[0] == intervals[i][0]:\n",
    "                if same_count == 0:\n",
    "                    current = intervals[i-1]\n",
    "                same_count += 1\n",
    "            else:\n",
    "                if current[1] <= intervals[i][0]:\n",
    "                    total_count += same_count\n",
    "                    current = intervals[i]\n",
    "                elif current[1] <= intervals[i][1]:\n",
    "                    total_count += same_count + 1\n",
    "\n",
    "                elif current[1] > intervals[i][1]:\n",
    "                    total_count += same_count + 1\n",
    "                    current = intervals[i]\n",
    "                same_count = 0\n",
    "            print(i, intervals[i-1], intervals[i], same_count, current)\n",
    "            i += 1\n",
    "        total_count += same_count\n",
    "\n",
    "        return total_count\n",
    "\n",
    "intervals = [[0,2],[1,3],[2,4],[3,5],[4,6]] #2\n",
    "# intervals = [[0,2],[1,3],[1,3],[2,4],[3,5],[3,5],[4,6]] #4\n",
    "eraseOverlapIntervals(intervals)"
   ]
  }
 ],
 "metadata": {
  "language_info": {
   "codemirror_mode": {
    "name": "ipython",
    "version": 3
   },
   "file_extension": ".py",
   "mimetype": "text/x-python",
   "name": "python",
   "nbconvert_exporter": "python",
   "pygments_lexer": "ipython3",
   "version": "3.6.9"
  }
 },
 "nbformat": 4,
 "nbformat_minor": 5
}
