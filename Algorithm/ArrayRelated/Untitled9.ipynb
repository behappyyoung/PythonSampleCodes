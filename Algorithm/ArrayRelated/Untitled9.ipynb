{
 "cells": [
  {
   "cell_type": "code",
   "execution_count": null,
   "id": "ff2f6b8d",
   "metadata": {},
   "outputs": [],
   "source": []
  },
  {
   "cell_type": "code",
   "execution_count": 105,
   "id": "fad9e9aa",
   "metadata": {},
   "outputs": [
    {
     "name": "stdout",
     "output_type": "stream",
     "text": [
      "0 [[0, 0, 0, 1, 2], [1, 2, 3, 3, 4], [1, 2, 3, 4, 4], [0, 0, 0, 1, 1], [0, 0, 0, 1, 2]]\n"
     ]
    },
    {
     "data": {
      "text/plain": [
       "28"
      ]
     },
     "execution_count": 105,
     "metadata": {},
     "output_type": "execute_result"
    }
   ],
   "source": [
    "from collections import defaultdict\n",
    "def numSubmatrixSumTarget_pre(matrix, target):\n",
    "    if not matrix:\n",
    "        return 0\n",
    "    m = len(matrix)\n",
    "    if not matrix[0]:\n",
    "        return 0\n",
    "    n = len(matrix[0])\n",
    "    total_sub = 0\n",
    "    \n",
    "    # pre sum of columns  \n",
    "    for col in matrix:\n",
    "        for i in range(1, n):   \n",
    "            col[i] += col[i-1]\n",
    "\n",
    "    for s in range(n):\n",
    "        for e in range(s, n):\n",
    "            lookup = defaultdict(int)\n",
    "            c_sum = 0\n",
    "            lookup[0] = 1\n",
    "            for r in range(m):\n",
    "                if s == 0:\n",
    "                    pre_sum = 0\n",
    "                else:\n",
    "                    pre_sum = matrix[r][s-1]\n",
    "                  \n",
    "                c_sum += matrix[r][e] - pre_sum\n",
    "                \n",
    "                if c_sum - target in lookup:\n",
    "                    total_sub += lookup[c_sum-target]\n",
    "                lookup[c_sum] += 1    \n",
    "                  \n",
    "\n",
    "    return total_sub\n",
    "\n",
    "matrix = [[0,1,0],[1,1,1],[0,1,0]]\n",
    "matrix = [[1,-1],[-1,1]]\n",
    "matrix = [[0,1,0],[1,1,1],[0,1,0]] #4\n",
    "matrix = [[0,0,0,1,1],[1,1,1,0,1],[1,1,1,1,0],[0,0,0,1,0],[0,0,0,1,1]] # 28\n",
    "# matrix = [[0,0,0,1,1],[1,1,1,0,1]]\n",
    "target = 0\n",
    "numSubmatrixSumTarget_pre(matrix, target)     \n",
    "            \n",
    "            "
   ]
  },
  {
   "cell_type": "code",
   "execution_count": 90,
   "id": "88a66b2f",
   "metadata": {},
   "outputs": [
    {
     "name": "stdout",
     "output_type": "stream",
     "text": [
      "[0, 0, 1, 2, 1, 0, 2, 3] [0, 0, 1, 3, 4, 4, 6, 9] {0: 2, 1: 1, 3: 1, 4: 2, 6: 1, 9: 1} 6\n"
     ]
    }
   ],
   "source": [
    "def subMatrixTarget(arr, total):\n",
    "    if not arr:\n",
    "        return 0\n",
    "    \n",
    "    total_sub = 0\n",
    "    col_sum = [0] * len(arr)\n",
    "    col_sum[0] = arr[0]\n",
    "    for i in range(1, len(arr)):\n",
    "        col_sum[i] = col_sum[i-1] + arr[i]\n",
    "\n",
    "    c_sum = 0\n",
    "    lookup = dict()\n",
    "    for i in range(len(arr)):\n",
    "        \n",
    "        if col_sum[i] in lookup:\n",
    "            lookup[col_sum[i]] += 1\n",
    "        else:\n",
    "            lookup[col_sum[i]] = 1\n",
    "            \n",
    "        if col_sum[i] - total in lookup:\n",
    "            total_sub += lookup[col_sum[i] - total]\n",
    "        \n",
    "            \n",
    "    print(arr, col_sum, lookup, total_sub)\n",
    "\n",
    "a = [0,0,1,2,1, 0, 2, 3]\n",
    "total = 3\n",
    "subMatrixTarget(a, total)\n",
    "\n"
   ]
  }
 ],
 "metadata": {
  "kernelspec": {
   "display_name": "Python 3",
   "language": "python",
   "name": "python3"
  },
  "language_info": {
   "codemirror_mode": {
    "name": "ipython",
    "version": 3
   },
   "file_extension": ".py",
   "mimetype": "text/x-python",
   "name": "python",
   "nbconvert_exporter": "python",
   "pygments_lexer": "ipython3",
   "version": "3.6.9"
  }
 },
 "nbformat": 4,
 "nbformat_minor": 5
}
