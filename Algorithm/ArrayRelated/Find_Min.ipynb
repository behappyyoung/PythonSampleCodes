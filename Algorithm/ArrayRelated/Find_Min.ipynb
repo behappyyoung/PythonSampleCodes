{
 "cells": [
  {
   "cell_type": "code",
   "execution_count": 50,
   "id": "f28e3391",
   "metadata": {},
   "outputs": [],
   "source": [
    "def findMin(nums) -> int:\n",
    "    \n",
    "    def fmin(s, e):\n",
    "        if nums[s] < nums[e]:\n",
    "            return nums[s]\n",
    "        \n",
    "        m = int((s+e)/2)\n",
    "        if s == e:\n",
    "            return nums[s]\n",
    "        elif s + 1 == e:\n",
    "            return min(nums[s], nums[e])\n",
    "        \n",
    "        print(s, e, m)\n",
    "        if nums[s] < nums[m]:\n",
    "            print(s, e, m, 'm:', fmin(m, e))\n",
    "            return fmin(m, e)\n",
    "        else:\n",
    "            print(s, e, m, ':m', fmin(s, m))\n",
    "            return fmin(s, m)\n",
    "        \n",
    "    return fmin(0, len(nums)-1)\n"
   ]
  },
  {
   "cell_type": "code",
   "execution_count": 51,
   "id": "3f12c31c",
   "metadata": {},
   "outputs": [
    {
     "name": "stdout",
     "output_type": "stream",
     "text": [
      "0 4 2\n",
      "2 4 3\n",
      "2 4 3 :m 1\n",
      "0 4 2 m: 1\n",
      "2 4 3\n",
      "2 4 3 :m 1\n"
     ]
    },
    {
     "data": {
      "text/plain": [
       "11"
      ]
     },
     "execution_count": 51,
     "metadata": {},
     "output_type": "execute_result"
    }
   ],
   "source": [
    "findMin([3,4,5,1,2])\n",
    "findMin([11,13,15,17])"
   ]
  }
 ],
 "metadata": {
  "kernelspec": {
   "display_name": "Python 3",
   "language": "python",
   "name": "python3"
  },
  "language_info": {
   "codemirror_mode": {
    "name": "ipython",
    "version": 3
   },
   "file_extension": ".py",
   "mimetype": "text/x-python",
   "name": "python",
   "nbconvert_exporter": "python",
   "pygments_lexer": "ipython3",
   "version": "3.6.9"
  }
 },
 "nbformat": 4,
 "nbformat_minor": 5
}
