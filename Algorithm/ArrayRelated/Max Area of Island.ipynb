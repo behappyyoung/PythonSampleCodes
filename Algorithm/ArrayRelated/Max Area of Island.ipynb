{
 "cells": [
  {
   "cell_type": "code",
   "execution_count": 29,
   "id": "3d131c6b",
   "metadata": {},
   "outputs": [
    {
     "data": {
      "text/plain": [
       "6"
      ]
     },
     "execution_count": 29,
     "metadata": {},
     "output_type": "execute_result"
    }
   ],
   "source": [
    "\"\"\"\n",
    "Input: grid = [[0,0,1,0,0,0,0,1,0,0,0,0,0],[0,0,0,0,0,0,0,1,1,1,0,0,0],[0,1,1,0,1,0,0,0,0,0,0,0,0],[0,1,0,0,1,1,0,0,1,0,1,0,0],[0,1,0,0,1,1,0,0,1,1,1,0,0],[0,0,0,0,0,0,0,0,0,0,1,0,0],[0,0,0,0,0,0,0,1,1,1,0,0,0],[0,0,0,0,0,0,0,1,1,0,0,0,0]]\n",
    "Output: 6\n",
    "\n",
    "\"\"\"\n",
    "def maxAreaOfIsland(grid):\n",
    "\n",
    "    if not grid:\n",
    "        return 0\n",
    "    m = len(grid)\n",
    "    n = len(grid[0])\n",
    "    max_area = 0\n",
    "    \n",
    "    visited = [[False]*n for _ in range(m)]\n",
    "    \n",
    "    def find_area(x, y):\n",
    "        if visited[x][y]:\n",
    "            return 0\n",
    "    \n",
    "        visited[x][y] = True\n",
    "        if grid[x][y] == 1:\n",
    "            area = 1\n",
    "        else:\n",
    "            return 0\n",
    "            \n",
    "        if x > 0 and not visited[x-1][y]:\n",
    "            area += find_area(x-1, y)\n",
    "        if x < m -1 and not visited[x+1][y]:\n",
    "            area += find_area(x+1, y)\n",
    "        if y > 0 and not visited[x][y-1]:\n",
    "            area += find_area(x, y-1)\n",
    "        if y < n-1 and not visited[x][y+1]:\n",
    "            area += find_area(x, y+1)\n",
    "        return area\n",
    "    \n",
    "    max_area = find_area(0,0)\n",
    "    \n",
    "    done = False\n",
    "    while not done:\n",
    "        done = True\n",
    "        for i in range(m):\n",
    "            for j in range(n):\n",
    "                if not visited[i][j]:\n",
    "                    done = False\n",
    "                    c_max = find_area(i, j)\n",
    "                    max_area = max(max_area, c_max)\n",
    "                    break\n",
    "    return max_area\n",
    "\n",
    "\n",
    "grid = [[0,0,1,0,0,0,0,1,0,0,0,0,0],[0,0,0,0,0,0,0,1,1,1,0,0,0],[0,1,1,0,1,0,0,0,0,0,0,0,0],[0,1,0,0,1,1,0,0,1,0,1,0,0],[0,1,0,0,1,1,0,0,1,1,1,0,0],[0,0,0,0,0,0,0,0,0,0,1,0,0],[0,0,0,0,0,0,0,1,1,1,0,0,0],[0,0,0,0,0,0,0,1,1,0,0,0,0]]\n",
    "# grid = [[0,0,0,1,1,0,0,0]]\n",
    "maxAreaOfIsland(grid)\n"
   ]
  },
  {
   "cell_type": "code",
   "execution_count": 18,
   "id": "1beb566d",
   "metadata": {},
   "outputs": [
    {
     "name": "stdout",
     "output_type": "stream",
     "text": [
      "[[2, 2, 2], [2, 2, 0], [2, 0, 1]]\n"
     ]
    },
    {
     "data": {
      "text/plain": [
       "[[2, 2, 2], [2, 2, 0], [2, 0, 1]]"
      ]
     },
     "execution_count": 18,
     "metadata": {},
     "output_type": "execute_result"
    }
   ],
   "source": [
    "def floodFill(image, sr, sc, color):\n",
    "        \n",
    "        if not image:\n",
    "            return image\n",
    "        row = len(image)\n",
    "        col = len(image[0])\n",
    "        \n",
    "        if image[sr][sc] == color:\n",
    "            return image\n",
    "        \n",
    "        visited = [[False] * col for _ in range(row)]\n",
    "        \n",
    "        def changeColor(m, n, val):\n",
    "            if visited[m][n]:\n",
    "                return False\n",
    "            \n",
    "            visited[m][n] = True\n",
    "            if image[m][n] == val:\n",
    "                image[m][n] = color\n",
    "            else:\n",
    "                return\n",
    "            \n",
    "            if m > 0:\n",
    "                changeColor(m-1, n, val)\n",
    "            if m < row-1:\n",
    "                changeColor(m+1, n, val)\n",
    "            if n > 0:\n",
    "                changeColor(m, n-1, val)\n",
    "            if n < col-1:\n",
    "                changeColor(m, n+1, val)\n",
    "            \n",
    "            return\n",
    "            \n",
    "        changeColor(sr, sc, image[sr][sc])\n",
    "        \n",
    "        print(image)\n",
    "        return image\n",
    "\n",
    "image = [[1,1,1],[1,1,0],[1,0,1]]\n",
    "sr = 1 \n",
    "sc = 1\n",
    "color = 2\n",
    "floodFill(image, sr, sc, color)"
   ]
  }
 ],
 "metadata": {
  "kernelspec": {
   "display_name": "Python 3",
   "language": "python",
   "name": "python3"
  },
  "language_info": {
   "codemirror_mode": {
    "name": "ipython",
    "version": 3
   },
   "file_extension": ".py",
   "mimetype": "text/x-python",
   "name": "python",
   "nbconvert_exporter": "python",
   "pygments_lexer": "ipython3",
   "version": "3.6.9"
  }
 },
 "nbformat": 4,
 "nbformat_minor": 5
}
