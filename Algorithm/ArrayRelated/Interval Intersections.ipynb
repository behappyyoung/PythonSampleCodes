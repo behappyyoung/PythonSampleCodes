{
 "cells": [
  {
   "cell_type": "code",
   "execution_count": 12,
   "id": "e789a0e1",
   "metadata": {},
   "outputs": [
    {
     "data": {
      "text/plain": [
       "[[1, 2], [5, 5], [8, 10], [15, 23], [24, 24], [25, 25]]"
      ]
     },
     "execution_count": 12,
     "metadata": {},
     "output_type": "execute_result"
    }
   ],
   "source": [
    "\"\"\"\n",
    " Input: \n",
    " firstList = [[0,2],[5,10],[13,23],[24,25]], \n",
    " secondList = [[1,5],[8,12],[15,24],[25,26]]\n",
    "Output: [[1,2],[5,5],[8,10],[15,23],[24,24],[25,25]]1\n",
    "\n",
    "\"\"\"\n",
    "\n",
    "def intervalIntersection(firstList, secondList):\n",
    "    \n",
    "    i = j = 0\n",
    "    intersection = []\n",
    "    while i < len(firstList) and j < len(secondList):\n",
    "        \n",
    "        lo = max(firstList[i][0], secondList[j][0])\n",
    "        hi = min(firstList[i][1], secondList[j][1])\n",
    "        \n",
    "        if lo <= hi:\n",
    "            intersection.append([lo, hi])\n",
    "\n",
    "        if firstList[i][1]<= secondList[j][1]:\n",
    "                i += 1\n",
    "        else:\n",
    "                j += 1\n",
    "                \n",
    "       \n",
    "    return intersection\n",
    "    \n",
    "    \n",
    "    \n",
    "first = [[0,2],[5,10],[13,23],[24,25]]\n",
    "second = [[1,5],[8,12],[15,24],[25,26]]\n",
    "intervalIntersection(first, second)"
   ]
  }
 ],
 "metadata": {
  "kernelspec": {
   "display_name": "Python 3",
   "language": "python",
   "name": "python3"
  },
  "language_info": {
   "codemirror_mode": {
    "name": "ipython",
    "version": 3
   },
   "file_extension": ".py",
   "mimetype": "text/x-python",
   "name": "python",
   "nbconvert_exporter": "python",
   "pygments_lexer": "ipython3",
   "version": "3.6.9"
  }
 },
 "nbformat": 4,
 "nbformat_minor": 5
}
