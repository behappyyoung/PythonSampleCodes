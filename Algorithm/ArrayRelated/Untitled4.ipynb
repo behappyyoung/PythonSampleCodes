{
 "cells": [
  {
   "cell_type": "code",
   "execution_count": 61,
   "id": "764d05fe",
   "metadata": {},
   "outputs": [
    {
     "name": "stdout",
     "output_type": "stream",
     "text": [
      "m w mo 5 j m mo\n",
      "5 j\n",
      "07 m w g 5 07 m\n",
      "07 mo g j 07 mo\n",
      "2 0 mo o j 2 mo\n",
      "2 0 07 o g 2 07\n",
      "q h 07 t g q 07\n",
      "t g\n",
      "q h mo t j q mo\n",
      "t j\n",
      "['5 m w', 'j mo', 't q h', 'g 07', 'o 2 0']\n"
     ]
    },
    {
     "data": {
      "text/plain": [
       "['5 m w', 'j mo', 't q h', 'g 07', 'o 2 0']"
      ]
     },
     "execution_count": 61,
     "metadata": {},
     "output_type": "execute_result"
    }
   ],
   "source": [
    "\"\"\"\n",
    "    Reorder data in log files\n",
    "    \n",
    "    The letter-logs come before all digit-logs.\n",
    "The letter-logs are sorted lexicographically by their contents. If their contents are the same, then sort them lexicographically by their identifiers.\n",
    "The digit-logs maintain their relative ordering.\n",
    "\n",
    "    Input: logs = [\"dig1 8 1 5 1\",\"let1 art can\",\"dig2 3 6\",\"let2 own kit dig\",\"let3 art zero\"]\n",
    "Output: [\"let1 art can\",\"let3 art zero\",\"let2 own kit dig\",\"dig1 8 1 5 1\",\"dig2 3 6\"]\n",
    "Explanation:\n",
    "The letter-log contents are all different, so their ordering is \"art can\", \"art zero\", \"own kit dig\".\n",
    "The digit-logs have a relative order of \"dig1 8 1 5 1\", \"dig2 3 6\".\n",
    "\n",
    "\n",
    "\"\"\"\n",
    "# from functools import cmp_to_key\n",
    "def reorderLogFiles(logs):\n",
    "    \"\"\"\n",
    "        sort by key function\n",
    "    \"\"\"\n",
    "    \n",
    "    def compare(val1, val2):\n",
    "        \n",
    "        v1, value1 = val1.split(' ', 1)\n",
    "        v2, value2 = val2.split(' ', 1)\n",
    "        first_value = value1.split(' ')[0]\n",
    "        second_value = value2.split(' ')[0]\n",
    "        \n",
    "        print(value1, value2, v1, v2, first_value, second_value)\n",
    "        if first_value.isdigit():\n",
    "            if second_value.isdigit():\n",
    "                return 0\n",
    "            elif second_value.isalpha():\n",
    "                return 1\n",
    "        elif first_value.isalpha():\n",
    "            print(v1, v2)\n",
    "            if second_value.isdigit():\n",
    "                return -1\n",
    "            elif second_value.isalpha():\n",
    "                if value1 == value2:\n",
    "            \n",
    "                    if v1 > v2:\n",
    "                        return 1\n",
    "                    else:\n",
    "                        return -1\n",
    "                elif value1 > value2:\n",
    "                    return 1\n",
    "                else:\n",
    "                    return -1\n",
    "        \n",
    "        return 0\n",
    "        \n",
    "    sorted_logs = sorted(logs, key=cmp_to_key(compare))\n",
    "    print(sorted_logs)\n",
    "    return sorted_logs\n",
    "\n",
    "\n",
    "logs = [\"dig1 8 1 5 1\",\"let1 art can\",\"dig2 3 6\",\"let2 own kit dig\",\"let3 art zero\"]\n",
    "# reorderLogFiles(logs)\n",
    "        \n",
    "logs = [\"j mo\", \"5 m w\", \"g 07\", \"o 2 0\", \"t q h\"]\n",
    "\n",
    "# logs = [\"j je\", \"b fjt\", \"7 zbr\", \"m le\", \"o 33\"]\n",
    "\n",
    "# logs = [\"zoey i love you\",\"lucas i love you\",\"rong i love you\"]\n",
    "\n",
    "reorderLogFiles(logs)\n"
   ]
  },
  {
   "cell_type": "code",
   "execution_count": 65,
   "id": "4aea8d4c",
   "metadata": {},
   "outputs": [
    {
     "name": "stdout",
     "output_type": "stream",
     "text": [
      "b fjt zoy\n"
     ]
    }
   ],
   "source": [
    "\n",
    "\n",
    "i, b, c = 'b fjt zoy'.split(' ', 2)\n",
    "print(i,b, c)"
   ]
  }
 ],
 "metadata": {
  "kernelspec": {
   "display_name": "Django Shell-Plus",
   "language": "python",
   "name": "django_extensions"
  },
  "language_info": {
   "codemirror_mode": {
    "name": "ipython",
    "version": 3
   },
   "file_extension": ".py",
   "mimetype": "text/x-python",
   "name": "python",
   "nbconvert_exporter": "python",
   "pygments_lexer": "ipython3",
   "version": "3.6.9"
  }
 },
 "nbformat": 4,
 "nbformat_minor": 5
}
