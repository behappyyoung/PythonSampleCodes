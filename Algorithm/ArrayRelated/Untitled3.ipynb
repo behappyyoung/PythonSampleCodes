{
 "cells": [
  {
   "cell_type": "code",
   "execution_count": 9,
   "id": "6771517f",
   "metadata": {},
   "outputs": [
    {
     "name": "stdout",
     "output_type": "stream",
     "text": [
      "8 6\n"
     ]
    }
   ],
   "source": [
    "def max_sum(arr):\n",
    "    max_sum = -2**32\n",
    "    max_sofar = max_sum\n",
    "    for i in range(len(arr)):\n",
    "        max_sofar = max(arr[i], max_sofar+arr[i])\n",
    "        if max_sofar > max_sum:\n",
    "            max_sum = max_sofar\n",
    "    return max_sum\n",
    "\n",
    "def maxSub(arr):\n",
    "            c_max = arr[0]\n",
    "            t_max = arr[0]\n",
    "            for i in range(1, len(arr)):\n",
    "                c_max = max(arr[i], c_max+arr[i])\n",
    "                t_max = max(c_max, t_max)\n",
    "            return t_max\n",
    "\n",
    "def maxSubCircle(nums):\n",
    "        lo, lo_cand = nums[0], nums[0]\n",
    "        hi, hi_cand = nums[0], nums[0]\n",
    "        for x in nums[1:]:\n",
    "            lo_cand = min(lo_cand + x, x)\n",
    "            hi_cand = max(hi_cand + x, x)\n",
    "            lo = min(lo, lo_cand)\n",
    "            hi = max(hi, hi_cand)\n",
    "        T = sum(nums)\n",
    "        return max(T - lo, hi) if T != lo else hi\n",
    "    \n",
    "# test\n",
    "test_array = [-2, 3, -3, 4, -1, 2, 1, -5, 4]\n",
    "# test_array=[5,5,-3]\n",
    "print(maxSubCircle(test_array), maxSub(test_array))"
   ]
  }
 ],
 "metadata": {
  "kernelspec": {
   "display_name": "Python 3",
   "language": "python",
   "name": "python3"
  },
  "language_info": {
   "codemirror_mode": {
    "name": "ipython",
    "version": 3
   },
   "file_extension": ".py",
   "mimetype": "text/x-python",
   "name": "python",
   "nbconvert_exporter": "python",
   "pygments_lexer": "ipython3",
   "version": "3.6.9"
  }
 },
 "nbformat": 4,
 "nbformat_minor": 5
}
