{
 "cells": [
  {
   "cell_type": "code",
   "execution_count": 52,
   "id": "508dbd5a",
   "metadata": {},
   "outputs": [
    {
     "name": "stdout",
     "output_type": "stream",
     "text": [
      "[[0, 2], [1, 3]]\n"
     ]
    },
    {
     "data": {
      "text/plain": [
       "['abab', 'dede']"
      ]
     },
     "execution_count": 52,
     "metadata": {},
     "output_type": "execute_result"
    }
   ],
   "source": [
    "\"\"\"\n",
    "Input: words = [\"abc\",\"deq\",\"mee\",\"aqq\",\"dkd\",\"ccc\"], pattern = \"abb\"\n",
    "Output: [\"mee\",\"aqq\"]\n",
    "Explanation: \"mee\" matches the pattern because there is a permutation {a -> m, b -> e, ...}. \n",
    "\"ccc\" does not match the pattern because {a -> c, b -> c, ...} is not a permutation, since a and b map to the same letter.\n",
    "\n",
    "\"\"\"\n",
    "def findAndReplacePattern(words, pattern):\n",
    "    \n",
    "    answers = []\n",
    "\n",
    "    def make_patterns_dict_list(s):\n",
    "        s_dict = {}\n",
    "        \n",
    "        for i in range(len(s)):\n",
    "            if s[i] in s_dict:\n",
    "                s_dict[s[i]].append(i)\n",
    "            else:\n",
    "                s_dict[s[i]] = [i]\n",
    "        \n",
    "        return list(s_dict.values())\n",
    "    \n",
    "        \n",
    "    \n",
    "    pattern_dict_list = make_patterns_dict_list(pattern)\n",
    "    print(pattern_dict_list)\n",
    "    for w in words:\n",
    "        \n",
    "        word_dict_list =  make_patterns_dict_list(w)\n",
    "             \n",
    "        if pattern_dict_list == word_dict_list:\n",
    "                answers.append(w)\n",
    "                \n",
    "    return answers\n",
    "\n",
    "words = [\"abc\",\"deq\",\"mee\",\"aqq\",\"dkd\",\"ccc\"]\n",
    "pattern = \"abb\"\n",
    "# words = [\"a\",\"b\",\"c\"]\n",
    "# pattern = \"a\"\n",
    "words = [\"badc\",\"abab\",\"dddd\",\"dede\",\"yyxx\"]\n",
    "pattern = \"baba\"\n",
    "# words = [\"abc\",\"cba\",\"xyx\",\"yxx\",\"yyx\"]\n",
    "# pattern =\"abc\"\n",
    "findAndReplacePattern(words, pattern)\n",
    "\n"
   ]
  },
  {
   "cell_type": "code",
   "execution_count": 36,
   "id": "ebca0041",
   "metadata": {},
   "outputs": [
    {
     "name": "stdout",
     "output_type": "stream",
     "text": [
      "[3, 2]\n"
     ]
    }
   ],
   "source": [
    "d1 = {'a': 3, 'b': 2}\n",
    "d2 = {'c': 3, 'd': 2}\n",
    "\n",
    "print(list(d1.values()))"
   ]
  }
 ],
 "metadata": {
  "kernelspec": {
   "display_name": "Python 3",
   "language": "python",
   "name": "python3"
  },
  "language_info": {
   "codemirror_mode": {
    "name": "ipython",
    "version": 3
   },
   "file_extension": ".py",
   "mimetype": "text/x-python",
   "name": "python",
   "nbconvert_exporter": "python",
   "pygments_lexer": "ipython3",
   "version": "3.6.9"
  }
 },
 "nbformat": 4,
 "nbformat_minor": 5
}
