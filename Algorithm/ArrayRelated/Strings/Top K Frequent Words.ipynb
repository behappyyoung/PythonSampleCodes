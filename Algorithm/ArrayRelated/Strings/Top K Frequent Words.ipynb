{
 "cells": [
  {
   "cell_type": "code",
   "execution_count": 2,
   "id": "a249ef1f",
   "metadata": {},
   "outputs": [
    {
     "data": {
      "text/plain": [
       "['aa', 'bb']"
      ]
     },
     "execution_count": 2,
     "metadata": {},
     "output_type": "execute_result"
    }
   ],
   "source": [
    "\"\"\"\n",
    "https://leetcode.com/problems/top-k-frequent-words/\n",
    "\n",
    "Top K Frequent Words\n",
    "\n",
    "Input: words = [\"i\",\"love\",\"leetcode\",\"i\",\"love\",\"coding\"], k = 2\n",
    "Output: [\"i\",\"love\"]\n",
    "Explanation: \"i\" and \"love\" are the two most frequent words.\n",
    "Note that \"i\" comes before \"love\" due to a lower alphabetical order.\n",
    "\n",
    "\"\"\"\n",
    "\n"
   ]
  },
  {
   "cell_type": "code",
   "execution_count": 35,
   "id": "4ae89635",
   "metadata": {},
   "outputs": [
    {
     "name": "stdout",
     "output_type": "stream",
     "text": [
      "{'c': 1, 'i': 2, 'love': 2, 'leetcode': 1, 'coding': 2} [('i', 2), ('love', 2), ('coding', 2), ('c', 1), ('leetcode', 1)] [('i', 2), ('love', 2), ('coding', 2), ('c', 1), ('leetcode', 1)]\n"
     ]
    },
    {
     "data": {
      "text/plain": [
       "['i', 'love']"
      ]
     },
     "execution_count": 35,
     "metadata": {},
     "output_type": "execute_result"
    }
   ],
   "source": [
    "def topKFrequent(words, k):\n",
    "    words_dict = dict()\n",
    "    \n",
    "    for w in words:\n",
    "        if w in words_dict:\n",
    "            words_dict[w] += 1 \n",
    "        else:\n",
    "            words_dict[w] = 1\n",
    "    \n",
    "    sorted_tuple = sorted(words_dict.items(), key=lambda x:x[1], reverse=True)\n",
    "    \n",
    "    print(words_dict, sorted_tuple, sorted_tuple)\n",
    "    return_list = []\n",
    "    for i in range(min(k, len(sorted_tuple))):\n",
    "        return_list.append(sorted_tuple[i][0])\n",
    "    return return_list\n",
    "\n",
    "words = [\"c\", \"i\",\"love\",\"leetcode\",\"i\",\"love\",\"coding\", \"coding\"]\n",
    "k = 2\n",
    "topKFrequent(words, k)"
   ]
  },
  {
   "cell_type": "code",
   "execution_count": 43,
   "id": "0edad523",
   "metadata": {},
   "outputs": [
    {
     "name": "stdout",
     "output_type": "stream",
     "text": [
      "[(-3, 'love'), (-2, 'coding'), (-2, 'i'), (-1, 'leetcode'), (-1, 'c')] {'c': 1, 'i': 2, 'love': 3, 'leetcode': 1, 'coding': 2}\n"
     ]
    },
    {
     "data": {
      "text/plain": [
       "['love', 'coding']"
      ]
     },
     "execution_count": 43,
     "metadata": {},
     "output_type": "execute_result"
    }
   ],
   "source": [
    "import heapq\n",
    "def topKFrequent_heap(words, k):\n",
    "        d = {}\n",
    "        for word in words:\n",
    "            d[word] = d.get(word, 0) + 1\n",
    "        \n",
    "        pq = []\n",
    "        \n",
    "        for key in d:\n",
    "            heapq.heappush(pq, (-d[key], key))\n",
    "        print(pq, d)\n",
    "        ans = []\n",
    "        while k > 0:\n",
    "            cnt, word = heapq.heappop(pq)\n",
    "            ans.append(word)\n",
    "            k = k-1\n",
    "            \n",
    "        return ans\n",
    "\n",
    "words = [\"c\", \"i\",\"love\",\"leetcode\",\"i\",\"love\",\"coding\", \"coding\", \"love\"]\n",
    "k = 2\n",
    "topKFrequent_heap(words, k)"
   ]
  },
  {
   "cell_type": "code",
   "execution_count": 51,
   "id": "138968c8",
   "metadata": {},
   "outputs": [
    {
     "name": "stdout",
     "output_type": "stream",
     "text": [
      "[(1, 'c'), (1, 'coding'), (2, 'love'), (2, 'i'), (1, 'leetcode')]\n",
      "['c', 'coding', 'love', 'leetcode', 'i']\n",
      "['love', 'leetcode', 'c', 'coding', 'i']\n"
     ]
    }
   ],
   "source": [
    "d = {'c': 1, 'i': 2, 'love': 2, 'leetcode': 1, 'coding': 1}\n",
    "pq = []\n",
    "for key in d:\n",
    "    \n",
    "    heapq.heappush(pq, (d[key], key))\n",
    "print(pq)\n",
    "\n",
    "l = list(d)\n",
    "heapq.heapify(l)\n",
    "print(l)\n",
    "heapq._heapify_max(l)\n",
    "print(l)\n"
   ]
  }
 ],
 "metadata": {
  "kernelspec": {
   "display_name": "Django Shell-Plus",
   "language": "python",
   "name": "django_extensions"
  },
  "language_info": {
   "codemirror_mode": {
    "name": "ipython",
    "version": 3
   },
   "file_extension": ".py",
   "mimetype": "text/x-python",
   "name": "python",
   "nbconvert_exporter": "python",
   "pygments_lexer": "ipython3",
   "version": "3.6.9"
  }
 },
 "nbformat": 4,
 "nbformat_minor": 5
}
