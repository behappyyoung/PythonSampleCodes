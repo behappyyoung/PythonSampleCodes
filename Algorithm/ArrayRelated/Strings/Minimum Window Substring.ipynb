{
 "cells": [
  {
   "cell_type": "code",
   "execution_count": 1,
   "id": "4061ffbb",
   "metadata": {},
   "outputs": [
    {
     "data": {
      "text/plain": [
       "''"
      ]
     },
     "execution_count": 1,
     "metadata": {},
     "output_type": "execute_result"
    }
   ],
   "source": [
    "\"\"\"\n",
    "Input: s = \"ADOBECODEBANC\", t = \"ABC\"\n",
    "Output: \"BANC\"\n",
    "Explanation: The minimum window substring \"BANC\" includes 'A', 'B', and 'C' from string t.\n",
    "Example 2:\n",
    "\n",
    "A: 1, B: 1, C:1\n",
    "\n",
    "A: 1\n",
    "\n",
    "Input: s = \"a\", t = \"a\"\n",
    "Output: \"a\"\n",
    "Explanation: The entire string s is the minimum window.\n",
    "Example 3:\n",
    "\n",
    "Input: s = \"a\", t = \"aa\"\n",
    "Output: \"\"\n",
    "Explanation: Both 'a's from t must be included in the window.\n",
    "Since the largest window of s only has one 'a', return empty string.\n",
    "\n",
    "\"\"\"\n",
    "\n",
    "def minWindow(s, t):\n",
    "    \n",
    "    if len(t)> len(s):\n",
    "        return ''\n",
    "    output = ''\n",
    "    t_dict = dict()\n",
    "    for i in t:\n",
    "        t_dict[i] = t_dict.get(i, 0) + 1\n",
    "    \n",
    "    find_dict = dict()\n",
    "    find_all = 0\n",
    "    start = end = 0\n",
    "    for i in range(len(s)):\n",
    "        if s[i] in t_dict:\n",
    "            find_dict[s[i]] = find_dict.get(s[i], 0) + 1\n",
    "            \n",
    "            if find_dict[s[i]] == t_dict[s[i]]:\n",
    "                find_all += 1\n",
    "            else:\n",
    "                \n",
    "            if find_all == len(t):\n",
    "                if not output:\n",
    "                    output = s[start:i+1]\n",
    "                else:\n",
    "                    if i-start < len(output):\n",
    "                        output = s[start:i+1] \n",
    "                \n",
    "        else:\n",
    "            if output:\n",
    "                output += s[i]\n",
    "            \n",
    "    \n",
    "    print(t_dict)\n",
    "    return output\n",
    "\n",
    "s = \"ADOBECODEBANC\" \n",
    "t = \"ABC\"\n",
    "\n",
    "minWindow(s, t)\n"
   ]
  },
  {
   "cell_type": "code",
   "execution_count": 3,
   "id": "b15f8c80",
   "metadata": {},
   "outputs": [
    {
     "name": "stdout",
     "output_type": "stream",
     "text": [
      "4\n"
     ]
    }
   ],
   "source": [
    "d = 3\n",
    "d = 4 if 0==0 else 9\n",
    "print(d)"
   ]
  }
 ],
 "metadata": {
  "kernelspec": {
   "display_name": "Python 3",
   "language": "python",
   "name": "python3"
  },
  "language_info": {
   "codemirror_mode": {
    "name": "ipython",
    "version": 3
   },
   "file_extension": ".py",
   "mimetype": "text/x-python",
   "name": "python",
   "nbconvert_exporter": "python",
   "pygments_lexer": "ipython3",
   "version": "3.6.9"
  }
 },
 "nbformat": 4,
 "nbformat_minor": 5
}
