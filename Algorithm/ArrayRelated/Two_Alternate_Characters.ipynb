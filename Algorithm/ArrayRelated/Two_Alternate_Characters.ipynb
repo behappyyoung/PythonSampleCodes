{
 "cells": [
  {
   "cell_type": "code",
   "execution_count": 95,
   "id": "0acf2526",
   "metadata": {},
   "outputs": [],
   "source": [
    "def alternate(s):\n",
    "    l = len(s)\n",
    "    if l <=1:\n",
    "        return l\n",
    "    i = 1\n",
    "    while i < l:\n",
    "        if s[i-1] == s[i]:\n",
    "            s = s.replace(s[i], '')\n",
    "            i = 1\n",
    "            l = len(s)\n",
    "        else:\n",
    "            i += 1\n",
    "      \n",
    "    l = len(s)\n",
    "    print(s)\n",
    "    done_list = set()\n",
    "    failed_list = []\n",
    "    max_len = 0\n",
    "    i = 0\n",
    "    for i in range(l):\n",
    "        s_char = s[i]\n",
    "        if s_char not in done_list:\n",
    "            done_list.add(s_char)\n",
    "            j = i + 1\n",
    "            while j < l:\n",
    "                c_len = 1\n",
    "                n_char = s[j]\n",
    "                n_str = s_char+n_char\n",
    "                if s_char == n_char:\n",
    "                    failed_list.append(s_char)\n",
    "                    j = l\n",
    "                elif n_str in done_list:\n",
    "                    j += 1\n",
    "                elif n_char + s_char in done_list:\n",
    "                    done_list.add(n_char + s_char)\n",
    "                    j += 1\n",
    "                else:\n",
    "                    failed = False\n",
    "                    if n_str not in failed_list:\n",
    "                        done_list.add(n_str)\n",
    "                        c_len = 2\n",
    "                        n_char = s_char\n",
    "                        k = j + 1\n",
    "                        while k < l and not failed:\n",
    "                            if s[k] == n_char:\n",
    "                                n_str += s[k]\n",
    "                                c_len += 1\n",
    "                                n_char = n_str[-2]\n",
    "                                k += 1\n",
    "                            elif s[k] == n_str[-1]:\n",
    "                                failed_list.append(n_str[0]+n_str[1])\n",
    "                                done_list.add(n_str[0]+n_str[1])\n",
    "                                failed = True\n",
    "                            else:\n",
    "                                k +=1\n",
    "                        if not failed:\n",
    "                            max_len = max(c_len, max_len)\n",
    "                    j += 1\n",
    "    return max_len\n",
    "\n"
   ]
  },
  {
   "cell_type": "code",
   "execution_count": 96,
   "id": "685b90cf",
   "metadata": {},
   "outputs": [
    {
     "name": "stdout",
     "output_type": "stream",
     "text": [
      "muzbcjmyknwlmlcfjujabwekovkwsfjrwmswfurpahkdydizbkrsmfpxchbjrbvcunogcvragjxivasdykamkinxpgasmwz\n",
      "6\n"
     ]
    }
   ],
   "source": [
    "s = 'abaafcdabcg'\n",
    "s = 'bccbdcd'\n",
    "s = 'a'\n",
    "s = 'muqqzbcjmyknwlmlcfqjujabwtekovkwsfjrwmswqfurtpahkdyqdttizqbkrsmfpxchbjrbvcunogcvragjxivasdykamtkinxpgasmwz' #6\n",
    "# s ='czoczkotespkfjnkbgpfnmtgqhorrzdppcebyybhlcsplqcqogqaszjgorlsrppinhgpaweydclepyftywafupqsjrbkqakpygolyyfksvqetrfzrcmatlicxtcxulwgvlnslazpfpoqrgssfcrfvwbtxaagjfahcgxbjlltfpprpcjyivxu' #6\n",
    "print(alternate(s))"
   ]
  },
  {
   "cell_type": "code",
   "execution_count": 34,
   "id": "2b9e4c11",
   "metadata": {},
   "outputs": [
    {
     "name": "stdout",
     "output_type": "stream",
     "text": [
      "bbdd\n"
     ]
    }
   ],
   "source": [
    "s = s.replace('c', '')\n",
    "print(s)"
   ]
  }
 ],
 "metadata": {
  "kernelspec": {
   "display_name": "Python 3",
   "language": "python",
   "name": "python3"
  },
  "language_info": {
   "codemirror_mode": {
    "name": "ipython",
    "version": 3
   },
   "file_extension": ".py",
   "mimetype": "text/x-python",
   "name": "python",
   "nbconvert_exporter": "python",
   "pygments_lexer": "ipython3",
   "version": "3.6.9"
  }
 },
 "nbformat": 4,
 "nbformat_minor": 5
}
