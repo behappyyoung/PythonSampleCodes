{
 "cells": [
  {
   "cell_type": "code",
   "execution_count": 57,
   "metadata": {},
   "outputs": [
    {
     "name": "stdout",
     "output_type": "stream",
     "text": [
      "i 2 0 0\n",
      "2 3 [5, 4, 2, 6, 3, 1, 0, 7]\n",
      "0\n",
      "2 4 False 0 [5, 4, 2, 3, 6, 1, 0, 7]\n",
      "1\n",
      "i 4 1 1\n",
      "4 7 [5, 4, 2, 3, 6, 1, 0, 7]\n",
      "0\n",
      "i 8 1 2\n",
      "2\n"
     ]
    }
   ],
   "source": [
    "\n",
    "\n",
    "def minSwapsCouples(row):\n",
    "    total_swap = 0\n",
    "    \n",
    "    def swap_seat(cindex, cnum):\n",
    "        print(cindex, cnum, row)\n",
    "        cswap = 0\n",
    "        print(cswap)\n",
    "        while ((cindex + 2) < len(row)) and \\\n",
    "        ( (row[cindex+1] % 2 == 0 and row[cindex+1] == row[cindex+2] - 1) or \\\n",
    "            (row[cindex+1] % 2 != 0 and row[cindex+1] == row[cindex+2] + 1)):\n",
    "                row[cindex], row[cindex+2] = row[cindex+2], row[cindex]\n",
    "                cswap +=1\n",
    "                cindex +=2\n",
    "        tindex = cindex +1\n",
    "        if row[tindex] == cnum:\n",
    "            return cindex, cswap\n",
    "        swapped = False\n",
    "\n",
    "        while not swapped and tindex<len(row):\n",
    "            if row[tindex] == cnum:\n",
    "                row[cindex+1], row[tindex] = row[tindex], row[cindex+1]\n",
    "                cswap +=1\n",
    "                print(cindex, tindex, swapped, total_swap, row)\n",
    "                swapped = True\n",
    "            tindex +=1\n",
    "        print(cswap)\n",
    "        return cindex, cswap\n",
    "    i = 0\n",
    "    while i + 1 < len(row):\n",
    "        sc = 0\n",
    "        if (row[i] % 2 == 0) and (row[i+1] != row[i] + 1):\n",
    "                i, sc = swap_seat(i, row[i] + 1)\n",
    "                total_swap += sc\n",
    "        elif (row[i] % 2 != 0) and (row[i+1] != row[i] - 1):\n",
    "                i, sc = swap_seat(i, row[i] - 1)\n",
    "                total_swap += sc\n",
    "        i += 2\n",
    "        print('i', i, sc, total_swap)\n",
    "        \n",
    "    return total_swap\n",
    "# r = [0, 2, 1, 3]\n",
    "# r = [3, 2, 0, 1]\n",
    "r = [2,0,5,4,3,1]\n",
    "r = [5,4,2,6,3,1,0,7]\n",
    "print(minSwapsCouples(r))"
   ]
  },
  {
   "cell_type": "code",
   "execution_count": 96,
   "metadata": {},
   "outputs": [
    {
     "name": "stdout",
     "output_type": "stream",
     "text": [
      "[[-4, -2, 6], [-4, 0, 4], [-4, 1, 3], [-4, 2, 2], [-2, -2, 4], [-2, 0, 2]]\n"
     ]
    }
   ],
   "source": [
    "def threeSum(nums):\n",
    "        nums.sort()\n",
    "\n",
    "        l = len(nums)\n",
    "        if l <3:\n",
    "            return 0\n",
    "        sum_list = []\n",
    "        for i in range(l-2):\n",
    "            if nums[i]>0: break\n",
    "            j = i+1\n",
    "            k = l-1\n",
    "            \n",
    "            if i > 0 and nums[i] == nums[i-1]:\n",
    "                continue\n",
    "                \n",
    "            while j < k:\n",
    "                    \n",
    "                    csum = nums[i] + nums[j] + nums[k]\n",
    "\n",
    "                    if csum < 0:\n",
    "                        j += 1\n",
    "                    elif csum > 0:\n",
    "                        k -= 1\n",
    "                    else:\n",
    "                        sum_list.append([nums[i],nums[j],nums[k]])\n",
    "                        while j<k and nums[j] == nums[j+1]:\n",
    "                            j += 1\n",
    "                        while j<k and nums[k] == nums[k-1]:\n",
    "                            k -= 1\n",
    "                        j += 1\n",
    "                        k -= 1\n",
    "                    \n",
    "        return sum_list\n",
    "\n",
    "\n",
    "# print(threeSum([-1,0,1,2,-1,-4]))\n",
    "a = [-4,-2,-2,-2,0,1,2,2,2,3,3,4,4,6,6]\n",
    "print(threeSum(a))"
   ]
  },
  {
   "cell_type": "code",
   "execution_count": 80,
   "metadata": {},
   "outputs": [
    {
     "name": "stdout",
     "output_type": "stream",
     "text": [
      "{('d', 'a')}\n"
     ]
    }
   ],
   "source": [
    "s = set()\n",
    "s.add(('d', 'a'))\n",
    "\n",
    "      \n",
    "print(s)"
   ]
  },
  {
   "cell_type": "code",
   "execution_count": null,
   "metadata": {},
   "outputs": [],
   "source": []
  }
 ],
 "metadata": {
  "kernelspec": {
   "display_name": "Python 3",
   "language": "python",
   "name": "python3"
  },
  "language_info": {
   "codemirror_mode": {
    "name": "ipython",
    "version": 3
   },
   "file_extension": ".py",
   "mimetype": "text/x-python",
   "name": "python",
   "nbconvert_exporter": "python",
   "pygments_lexer": "ipython3",
   "version": "3.7.5"
  }
 },
 "nbformat": 4,
 "nbformat_minor": 2
}
