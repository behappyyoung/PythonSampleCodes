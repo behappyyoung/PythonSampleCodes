{
 "cells": [
  {
   "cell_type": "code",
   "execution_count": 8,
   "id": "d520b61f",
   "metadata": {},
   "outputs": [],
   "source": [
    "def maxLength(arr) -> int:\n",
    "        n = len(arr)\n",
    "        res = ['']\n",
    "        output = 0\n",
    "        for word in arr:\n",
    "            for r in res:\n",
    "                new_r = r + word\n",
    "                if len(new_r) != len(set(new_r)):continue\n",
    "                res.append(new_r)\n",
    "                output=max(output, len(new_r))\n",
    "            print(res)\n",
    "        return output"
   ]
  },
  {
   "cell_type": "code",
   "execution_count": 10,
   "id": "93cedd4f",
   "metadata": {},
   "outputs": [
    {
     "name": "stdout",
     "output_type": "stream",
     "text": [
      "['', 'un']\n",
      "['', 'un', 'is', 'unis']\n",
      "['', 'un', 'is', 'unis', 'ui']\n",
      "['', 'un', 'is', 'unis', 'ui', 'r', 'unr', 'isr', 'unisr', 'uir']\n",
      "['', 'un', 'is', 'unis', 'ui', 'r', 'unr', 'isr', 'unisr', 'uir', 'te', 'unte', 'iste', 'uniste', 'uite', 'rte', 'unrte', 'isrte', 'unisrte', 'uirte']\n",
      "7\n"
     ]
    }
   ],
   "source": [
    "ans = maxLength(['un', 'is', 'ui', 'r', 'te'])\n",
    "print(ans)"
   ]
  }
 ],
 "metadata": {
  "kernelspec": {
   "display_name": "Python 3",
   "language": "python",
   "name": "python3"
  },
  "language_info": {
   "codemirror_mode": {
    "name": "ipython",
    "version": 3
   },
   "file_extension": ".py",
   "mimetype": "text/x-python",
   "name": "python",
   "nbconvert_exporter": "python",
   "pygments_lexer": "ipython3",
   "version": "3.6.9"
  }
 },
 "nbformat": 4,
 "nbformat_minor": 5
}
