{
 "cells": [
  {
   "cell_type": "code",
   "execution_count": 3,
   "id": "72dee48e",
   "metadata": {},
   "outputs": [],
   "source": [
    "\"\"\"\n",
    "https://leetcode.com/explore/challenge/card/august-leetcoding-challenge-2021/617/week-5-august-29th-august-31st/3956/\n",
    "\n",
    "Input: nums = [1,3], n = 6\n",
    "Output: 1\n",
    "Explanation:\n",
    "Combinations of nums are [1], [3], [1,3], which form possible sums of: 1, 3, 4.\n",
    "Now if we add/patch 2 to nums, the combinations are: [1], [2], [3], [1,3], [2,3], [1,2,3].\n",
    "Possible sums are 1, 2, 3, 4, 5, 6, which now covers the range [1, 6].\n",
    "So we only need 1 patch.\n",
    "\n",
    "Input: nums = [1,5,10], n = 20\n",
    "Output: 2\n",
    "Explanation: The two patches can be [2, 4].\n",
    "\n",
    "Input: nums = [1,2,2], n = 5\n",
    "Output: 0\n",
    "\n",
    "nums = [1,2,31,33] n = 2147483647\n",
    "28\n",
    "\n",
    "\"\"\"\n",
    "\n",
    "def minPatches(nums, n) -> int:\n",
    "    i = 0\n",
    "    k = 0\n",
    "#     added_array = []\n",
    "    patch_count = 0\n",
    "    while k < n:\n",
    "        if i < len(nums):\n",
    "            c = nums[i]\n",
    "            if k >= c -1:\n",
    "                k += c\n",
    "                i += 1\n",
    "            elif k < c-1:\n",
    "                a = k + 1\n",
    "#                 added_array.append(a)\n",
    "                patch_count += 1\n",
    "                k += a\n",
    "        else:\n",
    "            a = k + 1\n",
    "#             added_array.append(a)\n",
    "            patch_count += 1\n",
    "            k += a\n",
    "\n",
    "    return patch_count\n"
   ]
  },
  {
   "cell_type": "code",
   "execution_count": 4,
   "id": "b10962c3",
   "metadata": {},
   "outputs": [
    {
     "name": "stdout",
     "output_type": "stream",
     "text": [
      "[4, 8, 16, 96, 192, 384, 768, 1536, 3072, 6144, 12288, 24576, 49152, 98304, 196608, 393216, 786432, 1572864, 3145728, 6291456, 12582912, 25165824, 50331648, 100663296, 201326592, 402653184, 805306368, 1610612736] 3221225471\n",
      "28\n",
      "0.0006426539912354201\n"
     ]
    }
   ],
   "source": [
    "import timeit\n",
    "# start = timeit.default_timer()\n",
    "# nums = [1,5,10]\n",
    "# n = 20\n",
    "# answer = minPatches(nums, n)\n",
    "# print(answer)\n",
    "# stop = timeit.default_timer()\n",
    "# print(stop-start)\n",
    "# nums = [1,2, 2]\n",
    "# n = 5\n",
    "# answer = minPatches(nums, n)\n",
    "# print(answer)\n",
    "\n",
    "nums = [1,2,31,33]\n",
    "n = 2147483647\n",
    "start = timeit.default_timer()\n",
    "answer = minPatches(nums, n)\n",
    "print(answer)\n",
    "stop = timeit.default_timer()\n",
    "print(stop-start)"
   ]
  },
  {
   "cell_type": "code",
   "execution_count": 118,
   "id": "f59700dd",
   "metadata": {},
   "outputs": [
    {
     "name": "stdout",
     "output_type": "stream",
     "text": [
      "1\n",
      "2\n",
      "3\n",
      "4\n",
      "7\n",
      "4\n",
      "[2, 3, 4, 7, 4]\n",
      "{1, 2, 3, 4, 5, 7} [1, 2, 3, 4, 5, 7] {1, 2, 3, 4, 5, 7} {1, 2, 3, 4, 5, 7}\n",
      "1\n",
      "2\n",
      "3\n",
      "4\n",
      "5\n",
      "7\n"
     ]
    }
   ],
   "source": [
    "a = [1, 2, 3, 4, 7, 4]\n",
    "for i in a:\n",
    "    print(i)\n",
    "print(a[1:])\n",
    "aa = set(a)\n",
    "s = set(a)\n",
    "s.add(5)\n",
    "s.add(4)\n",
    "a = list(s)\n",
    "aa.update(s)\n",
    "print(s, a, aa, aa)\n",
    "for i in s:\n",
    "    print(i)"
   ]
  },
  {
   "cell_type": "code",
   "execution_count": null,
   "id": "8126a24b",
   "metadata": {},
   "outputs": [],
   "source": []
  }
 ],
 "metadata": {
  "kernelspec": {
   "display_name": "Python 3",
   "language": "python",
   "name": "python3"
  },
  "language_info": {
   "codemirror_mode": {
    "name": "ipython",
    "version": 3
   },
   "file_extension": ".py",
   "mimetype": "text/x-python",
   "name": "python",
   "nbconvert_exporter": "python",
   "pygments_lexer": "ipython3",
   "version": "3.6.9"
  }
 },
 "nbformat": 4,
 "nbformat_minor": 5
}
