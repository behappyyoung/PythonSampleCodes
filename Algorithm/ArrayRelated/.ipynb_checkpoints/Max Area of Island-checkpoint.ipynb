{
 "cells": [
  {
   "cell_type": "code",
   "execution_count": 15,
   "id": "7397f01e",
   "metadata": {},
   "outputs": [
    {
     "name": "stdout",
     "output_type": "stream",
     "text": [
      "[[False, False, False], [False, False, False], [False, False, False]]\n",
      "[[2, 2, 2], [2, 2, 2], [2, 2, 2]]\n"
     ]
    },
    {
     "data": {
      "text/plain": [
       "[[2, 2, 2], [2, 2, 2], [2, 2, 2]]"
      ]
     },
     "execution_count": 15,
     "metadata": {},
     "output_type": "execute_result"
    }
   ],
   "source": [
    "def floodFill(image, sr, sc, color):\n",
    "        \n",
    "        if not image:\n",
    "            return image\n",
    "        row = len(image)\n",
    "        col = len(image[0])\n",
    "        \n",
    "        if image[sr][sc] == color:\n",
    "            return image\n",
    "        \n",
    "        visited = [[False] * col for _ in range(row)]\n",
    "        print(visited)\n",
    "        \n",
    "        def changeColor(m, n, val):\n",
    "            if visited[m][n]:\n",
    "                return False\n",
    "            \n",
    "            updated = False\n",
    "            if image[m][n] == val:\n",
    "                image[m][n] = color\n",
    "                updated = True\n",
    "                visited[m][n] = True\n",
    "            \n",
    "            if m > 0:\n",
    "                if changeColor(m-1, n, val):\n",
    "                    updated = True\n",
    "            if m < row-1:\n",
    "                if changeColor(m+1, n, val):\n",
    "                    updated = True\n",
    "            if n > 0:\n",
    "                if changeColor(m, n-1, val):\n",
    "                    updated = True\n",
    "            if n < col-1:\n",
    "                if changeColor(m, n+1, val):\n",
    "                    updated = True\n",
    "            \n",
    "            return updated\n",
    "            \n",
    "        changeColor(sr, sc, image[sr][sc])\n",
    "        \n",
    "        print(image)\n",
    "        return image\n",
    "\n",
    "image = [[1,1,1],[1,1,0],[1,0,1]]\n",
    "sr = 1 \n",
    "sc = 1\n",
    "color = 2\n",
    "floodFill(image, sr, sc, color)"
   ]
  }
 ],
 "metadata": {
  "kernelspec": {
   "display_name": "Python 3",
   "language": "python",
   "name": "python3"
  },
  "language_info": {
   "codemirror_mode": {
    "name": "ipython",
    "version": 3
   },
   "file_extension": ".py",
   "mimetype": "text/x-python",
   "name": "python",
   "nbconvert_exporter": "python",
   "pygments_lexer": "ipython3",
   "version": "3.6.9"
  }
 },
 "nbformat": 4,
 "nbformat_minor": 5
}
