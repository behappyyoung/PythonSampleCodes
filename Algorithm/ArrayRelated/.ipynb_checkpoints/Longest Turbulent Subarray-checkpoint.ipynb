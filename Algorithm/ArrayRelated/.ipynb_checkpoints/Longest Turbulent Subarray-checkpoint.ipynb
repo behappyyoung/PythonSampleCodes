{
 "cells": [
  {
   "cell_type": "code",
   "execution_count": null,
   "id": "9253c43e",
   "metadata": {},
   "outputs": [],
   "source": [
    "\"\"\"\n",
    "For i <= k < j:\n",
    "arr[k] > arr[k + 1] when k is odd, and\n",
    "arr[k] < arr[k + 1] when k is even.\n",
    "Or, for i <= k < j:\n",
    "arr[k] > arr[k + 1] when k is even, and\n",
    "arr[k] < arr[k + 1] when k is odd.\n",
    "\n",
    "Input: arr = [9,4,2,10,7,8,8,1,9]\n",
    "Output: 5\n",
    "Explanation: arr[1] > arr[2] < arr[3] > arr[4] < arr[5]\n",
    "\n",
    "\"\"\"\n",
    "\n",
    "def maxTurbulenceSize(arr):\n",
    "    l = len(arr)\n",
    "    if l <= 1:\n",
    "        return 1\n",
    "    \n",
    "    max_length = 1\n",
    "    \n",
    "    return max_length\n"
   ]
  },
  {
   "cell_type": "code",
   "execution_count": null,
   "id": "ab6753b4",
   "metadata": {},
   "outputs": [],
   "source": []
  }
 ],
 "metadata": {
  "kernelspec": {
   "display_name": "Python 3",
   "language": "python",
   "name": "python3"
  },
  "language_info": {
   "codemirror_mode": {
    "name": "ipython",
    "version": 3
   },
   "file_extension": ".py",
   "mimetype": "text/x-python",
   "name": "python",
   "nbconvert_exporter": "python",
   "pygments_lexer": "ipython3",
   "version": "3.6.9"
  }
 },
 "nbformat": 4,
 "nbformat_minor": 5
}
