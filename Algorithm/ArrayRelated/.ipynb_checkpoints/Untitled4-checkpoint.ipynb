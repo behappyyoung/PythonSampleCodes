{
 "cells": [
  {
   "cell_type": "code",
   "execution_count": 35,
   "id": "c1ed273b",
   "metadata": {},
   "outputs": [
    {
     "name": "stdout",
     "output_type": "stream",
     "text": [
      "fjt je\n",
      " fjt  je\n",
      "zbr fjt\n",
      " zbr  fjt\n",
      "zbr je\n",
      " zbr  je\n",
      "le je\n",
      " le  je\n",
      "le zbr\n",
      " le  zbr\n",
      "33 le\n",
      "33 zbr\n",
      "['b fjt', 'j je', 'm le', '7 zbr', 'o 33']\n"
     ]
    },
    {
     "data": {
      "text/plain": [
       "['b fjt', 'j je', 'm le', '7 zbr', 'o 33']"
      ]
     },
     "execution_count": 35,
     "metadata": {},
     "output_type": "execute_result"
    }
   ],
   "source": [
    "\"\"\"\n",
    "    Reorder data in log files\n",
    "    \n",
    "    The letter-logs come before all digit-logs.\n",
    "The letter-logs are sorted lexicographically by their contents. If their contents are the same, then sort them lexicographically by their identifiers.\n",
    "The digit-logs maintain their relative ordering.\n",
    "\n",
    "    Input: logs = [\"dig1 8 1 5 1\",\"let1 art can\",\"dig2 3 6\",\"let2 own kit dig\",\"let3 art zero\"]\n",
    "Output: [\"let1 art can\",\"let3 art zero\",\"let2 own kit dig\",\"dig1 8 1 5 1\",\"dig2 3 6\"]\n",
    "Explanation:\n",
    "The letter-log contents are all different, so their ordering is \"art can\", \"art zero\", \"own kit dig\".\n",
    "The digit-logs have a relative order of \"dig1 8 1 5 1\", \"dig2 3 6\".\n",
    "\n",
    "\n",
    "\"\"\"\n",
    "# from functools import cmp_to_key\n",
    "def reorderLogFiles(logs):\n",
    "    \"\"\"\n",
    "        sort by key function\n",
    "    \"\"\"\n",
    "    \n",
    "    def compare(val1, val2):\n",
    "        \n",
    "        i, value1 = value1.split(' ', 1)\n",
    "        j, value2 = value2.split(' ', 1)\n",
    "    \n",
    "        print(value1, value2)\n",
    "        if value1.isdigit():\n",
    "            if value2.isdigit():\n",
    "                return 0\n",
    "            elif value2.isalpha():\n",
    "                return 1\n",
    "        if value1.isalpha():\n",
    "            if value2.isdigit():\n",
    "                return -1\n",
    "            elif value2.isalpha():\n",
    "                print(val1.replace(val1.split(' ')[0], '', 1), val2.replace(val2.split(' ')[0], '', 1))\n",
    "                if val1.replace(val1.split(' ')[0], '', 1) > val2.replace(val2.split(' ')[0], '', 1):\n",
    "                    return 1\n",
    "                else:\n",
    "                    return -1\n",
    "        \n",
    "        return 0\n",
    "        \n",
    "    sorted_logs = sorted(logs, key=cmp_to_key(compare))\n",
    "    print(sorted_logs)\n",
    "    return sorted_logs\n",
    "\n",
    "\n",
    "logs = [\"dig1 8 1 5 1\",\"let1 art can\",\"dig2 3 6\",\"let2 own kit dig\",\"let3 art zero\"]\n",
    "# reorderLogFiles(logs)\n",
    "        \n",
    "logs = [\"j mo\", \"5 m w\", \"g 07\", \"o 2 0\", \"t q h\"]\n",
    "\n",
    "logs = [\"j je\", \"b fjt\", \"7 zbr\", \"m le\", \"o 33\"]\n",
    "\n",
    "reorderLogFiles(logs)\n"
   ]
  },
  {
   "cell_type": "code",
   "execution_count": 38,
   "id": "61ac87d1",
   "metadata": {},
   "outputs": [
    {
     "name": "stdout",
     "output_type": "stream",
     "text": [
      "b fjt zoy\n"
     ]
    }
   ],
   "source": [
    "'jea' > 'je'\n",
    "\n",
    "i, b = 'b fjt zoy'.split(' ', 1)\n",
    "print(i,b)"
   ]
  }
 ],
 "metadata": {
  "kernelspec": {
   "display_name": "Django Shell-Plus",
   "language": "python",
   "name": "django_extensions"
  },
  "language_info": {
   "codemirror_mode": {
    "name": "ipython",
    "version": 3
   },
   "file_extension": ".py",
   "mimetype": "text/x-python",
   "name": "python",
   "nbconvert_exporter": "python",
   "pygments_lexer": "ipython3",
   "version": "3.6.9"
  }
 },
 "nbformat": 4,
 "nbformat_minor": 5
}
