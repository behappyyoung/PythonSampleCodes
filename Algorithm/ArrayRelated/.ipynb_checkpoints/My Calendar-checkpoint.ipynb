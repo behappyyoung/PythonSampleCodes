{
 "cells": [
  {
   "cell_type": "code",
   "execution_count": 21,
   "id": "2ca5b8aa",
   "metadata": {},
   "outputs": [],
   "source": [
    "class MyCalendar:\n",
    "\n",
    "    def __init__(self):\n",
    "        self.booked = []        \n",
    "\n",
    "    def book(self, start: int, end: int) -> bool:\n",
    "        #check available\n",
    "        for b in self.booked:\n",
    "#             print(b, start, end)\n",
    "            if (start > b[0] and start < b[1]) or \\\n",
    "                (end > b[0] and end < b[1]) or \\\n",
    "                ( start < b[0] and  b[1] < end ) or \\\n",
    "                start==b[0] or end==b[1]:\n",
    "                return False\n",
    "        \n",
    "        # clean booked\n",
    "        for b in self.booked:\n",
    "            if start == b[1] or end == b[0]:\n",
    "                b[0] = min(start, b[0])\n",
    "                b[1] = max(end, b[1])\n",
    "                return True\n",
    "        \n",
    "        self.booked.append([start, end])\n",
    "        return True\n",
    "            \n"
   ]
  },
  {
   "cell_type": "code",
   "execution_count": 20,
   "id": "58155173",
   "metadata": {},
   "outputs": [
    {
     "name": "stdout",
     "output_type": "stream",
     "text": [
      "[[97, 100]] [97, 100] True\n",
      "[[97, 100], [33, 51]] [33, 51] True\n",
      "[[97, 100], [33, 51]] [89, 100] False\n",
      "[[97, 100], [33, 51]] [83, 100] False\n",
      "[[97, 100], [33, 51], [75, 92]] [75, 92] True\n",
      "[[97, 100], [33, 51], [75, 92]] [76, 95] False\n",
      "[[97, 100], [33, 51], [75, 92], [19, 30]] [19, 30] True\n",
      "[[97, 100], [33, 51], [75, 92], [19, 30], [53, 63]] [53, 63] True\n",
      "[[97, 100], [33, 51], [75, 92], [19, 30], [53, 63]] [8, 23] False\n",
      "[[97, 100], [33, 51], [75, 92], [19, 30], [53, 63]] [18, 37] False\n",
      "[[97, 100], [33, 51], [75, 92], [19, 30], [53, 63]] [87, 100] False\n",
      "[[97, 100], [33, 51], [75, 92], [19, 30], [53, 63]] [83, 100] False\n",
      "[[97, 100], [33, 51], [75, 92], [19, 30], [53, 63]] [54, 67] False\n",
      "[[97, 100], [33, 51], [75, 92], [19, 30], [53, 63]] [35, 48] False\n",
      "[[97, 100], [33, 51], [75, 92], [19, 30], [53, 63]] [58, 75] False\n",
      "[[97, 100], [33, 51], [75, 92], [19, 30], [53, 63]] [70, 89] False\n",
      "[[97, 100], [33, 51], [75, 92], [19, 30], [53, 63], [13, 32]] [13, 32] True\n",
      "[[97, 100], [33, 51], [75, 92], [19, 30], [53, 63], [13, 32]] [44, 63] False\n",
      "[[97, 100], [33, 51], [75, 92], [19, 30], [53, 63], [13, 32]] [51, 62] False\n",
      "[[97, 100], [33, 51], [75, 92], [19, 30], [53, 63], [13, 32]] [2, 15] False\n"
     ]
    },
    {
     "data": {
      "text/plain": [
       "[[97, 100], [33, 51], [75, 92], [19, 30], [53, 63], [13, 32]]"
      ]
     },
     "execution_count": 20,
     "metadata": {},
     "output_type": "execute_result"
    }
   ],
   "source": [
    "command = [\"MyCalendar\",\"book\",\"book\",\"book\",\"book\",\"book\",\"book\",\"book\",\"book\",\"book\",\"book\",\"book\",\"book\",\"book\",\"book\",\"book\",\"book\",\"book\",\"book\",\"book\",\"book\",\"book\",\"book\",\"book\",\"book\",\"book\",\"book\",\"book\",\"book\",\"book\",\"book\"]\n",
    "arg = [[],[20,29],[13,22],[44,50],[1,7],[2,10],[14,20],[19,25],[36,42],[45,50],[47,50],[39,45],[44,50],[16,25],[45,50],[45,50],[12,20],[21,29],[11,20],[12,17],[34,40],[10,18],[38,44],[23,32],[38,44],[15,20],[27,33],[34,42],[44,50],[35,40],[24,31]]\n",
    "\n",
    "#[null,true,false,true,true,false,true,false,true,false,false,false,false,false,false,false,false,false,false,false,false,false,false,false,false,false,false,false,false,false,false]\n",
    "\n",
    "command = [\"MyCalendar\",\"book\",\"book\",\"book\",\"book\",\"book\",\"book\",\"book\",\"book\",\"book\",\"book\",\"book\",\"book\",\"book\",\"book\",\"book\",\"book\",\"book\",\"book\",\"book\",\"book\"]\n",
    "arg = [[],[97,100],[33,51],[89,100],[83,100],[75,92],[76,95],[19,30],[53,63],[8,23],[18,37],[87,100],[83,100],[54,67],[35,48],[58,75],[70,89],[13,32],[44,63],[51,62],[2,15]]\n",
    "#[null,true,true,false,false,true,false,true,true,false,false,false,false,false,false,false,false,false,false,false,true]\n",
    "\n",
    "mc = MyCalendar()\n",
    "for i in range(1, len(arg)):\n",
    "    r = mc.book(arg[i][0], arg[i][1])\n",
    "    print(mc.booked, arg[i], r)\n",
    "    \n",
    "mc.booked"
   ]
  }
 ],
 "metadata": {
  "kernelspec": {
   "display_name": "Python 3",
   "language": "python",
   "name": "python3"
  },
  "language_info": {
   "codemirror_mode": {
    "name": "ipython",
    "version": 3
   },
   "file_extension": ".py",
   "mimetype": "text/x-python",
   "name": "python",
   "nbconvert_exporter": "python",
   "pygments_lexer": "ipython3",
   "version": "3.6.9"
  }
 },
 "nbformat": 4,
 "nbformat_minor": 5
}
