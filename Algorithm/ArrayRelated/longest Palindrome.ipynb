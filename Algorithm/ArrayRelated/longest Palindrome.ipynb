{
 "cells": [
  {
   "cell_type": "code",
   "execution_count": null,
   "id": "6eddc9b1",
   "metadata": {},
   "outputs": [],
   "source": [
    "\"\"\"\n",
    "Example 1:\n",
    "\n",
    "Input: words = [\"lc\",\"cl\",\"gg\"]\n",
    "Output: 6\n",
    "Explanation: One longest palindrome is \"lc\" + \"gg\" + \"cl\" = \"lcggcl\", of length 6.\n",
    "Note that \"clgglc\" is another longest palindrome that can be created.\n",
    "Example 2:\n",
    "\n",
    "Input: words = [\"ab\",\"ty\",\"yt\",\"lc\",\"cl\",\"ab\"]\n",
    "Output: 8\n",
    "Explanation: One longest palindrome is \"ty\" + \"lc\" + \"cl\" + \"yt\" = \"tylcclyt\", of length 8.\n",
    "Note that \"lcyttycl\" is another longest palindrome that can be created.\n",
    "Example 3:\n",
    "\n",
    "Input: words = [\"cc\",\"ll\",\"xx\"]\n",
    "Output: 2\n",
    "Explanation: One longest palindrome is \"cc\", of length 2.\n",
    "Note that \"ll\" is another longest palindrome that can be created, and so is \"xx\".\n",
    "\n",
    "\"\"\""
   ]
  },
  {
   "cell_type": "code",
   "execution_count": null,
   "id": "857a1a38",
   "metadata": {},
   "outputs": [],
   "source": [
    "def longestPalindrome(list_str):\n",
    "    if not list_str:\n",
    "        return 0\n",
    "    \n",
    "    def findPalindrome(ls):\n",
    "        if not list_str:\n",
    "            return 0\n",
    "        for i in range(len(ls)-1):\n",
    "            for j in range(i+1, len(ls)):\n",
    "                print(i, j, ls[i], ls[j])\n",
    "                if ls[i][0] == ls[j][1] and ls[i][1] == ls[j][0]:\n",
    "                    return i, j\n",
    "        return -1, -1\n",
    "    max_str = 0\n",
    "    done = False\n",
    "    i = 0\n",
    "    while not done and list_str:\n",
    "            x, y = findPalindrome(list_str)\n",
    "\n",
    "            if x == -1:\n",
    "                done = True\n",
    "            else:\n",
    "                list_str.pop(y)\n",
    "                list_str.pop(x)\n",
    "                max_str += 4\n",
    "\n",
    "    for ls in list_str:\n",
    "        if ls[0] == ls[1]:\n",
    "            max_str += 2\n",
    "            break\n",
    "            \n",
    "        \n",
    "    print(list_str, max_str)\n",
    "  \n",
    "    return max_str\n",
    "\n",
    "words = [\"lc\",\"cl\",\"gg\"]\n",
    "# words = [\"ab\",\"ty\",\"yt\",\"lc\",\"cl\",\"ab\"]\n",
    "# words = [\"cc\",\"ll\",\"xx\"]\n",
    "words = [\"cn\",\"tn\",\"cc\",\"tn\",\"nn\",\"cc\",\"tc\",\"cn\",\"tn\",\"cc\",\"nt\",\"ct\",\"tn\",\"cc\",\"tc\",\"cn\",\"ct\",\"tn\",\"cc\",\"tt\",\"nn\",\"nc\",\"ct\",\"tn\",\"tt\",\"tn\",\"nn\",\"nn\",\"cc\",\"tc\",\"tc\",\"nn\",\"cc\",\"ct\",\"nt\",\"nn\",\"cc\",\"ct\",\"ct\",\"nt\",\"ct\",\"ct\",\"nt\",\"ct\",\"ct\",\"tn\",\"ct\",\"nt\",\"nc\",\"ct\",\"cc\",\"nc\",\"tt\",\"nt\",\"cn\",\"tc\",\"tt\",\"tt\",\"tc\",\"tn\",\"nc\",\"cc\",\"tt\",\"tc\",\"nt\",\"tn\",\"nt\",\"tc\",\"nn\",\"nt\",\"nn\",\"nn\",\"nn\",\"cn\",\"tn\",\"tc\",\"ct\",\"tt\",\"tn\",\"tt\",\"nn\",\"tt\",\"nc\",\"nc\",\"ct\",\"tc\",\"ct\",\"tn\",\"nt\",\"cc\",\"tt\",\"tt\",\"ct\",\"nt\",\"tc\",\"cc\",\"nn\",\"tn\",\"ct\",\"ct\",\"ct\",\"nc\",\"nt\",\"cn\",\"cc\",\"tc\",\"cn\",\"cn\",\"cc\",\"nn\",\"cc\",\"nn\",\"tn\",\"nt\",\"tn\",\"cc\",\"nc\",\"tt\",\"cc\",\"tt\",\"tn\",\"tc\",\"tc\",\"tc\",\"nc\",\"cn\",\"cn\",\"nn\",\"nt\",\"tc\",\"nt\",\"cn\",\"tt\",\"cn\",\"cn\",\"tc\",\"ct\",\"tn\",\"nn\",\"cn\",\"cc\",\"cn\",\"nn\",\"tt\",\"tc\",\"ct\",\"ct\",\"tn\",\"nn\",\"tc\",\"nt\",\"nn\",\"tc\",\"nc\",\"tt\",\"ct\",\"ct\",\"nt\",\"cc\",\"cc\",\"cn\",\"cc\",\"nt\",\"nt\",\"cn\",\"tc\",\"nn\",\"ct\",\"tt\",\"tt\",\"nn\",\"tn\",\"nt\",\"cn\",\"cc\",\"tt\",\"cc\",\"tn\",\"tt\",\"cn\",\"cn\",\"tt\",\"cc\",\"nc\",\"ct\",\"tt\",\"tt\",\"tn\",\"cc\",\"tc\",\"nc\",\"nt\",\"ct\",\"nc\",\"tc\",\"tc\",\"tt\",\"nt\",\"nt\",\"nc\",\"tn\",\"cn\",\"nn\",\"cc\",\"cc\",\"cc\",\"tn\",\"tn\",\"cc\",\"nc\",\"cn\",\"ct\",\"tt\",\"nc\",\"tc\",\"nt\",\"nc\",\"cc\",\"nc\",\"nt\",\"cn\",\"ct\",\"tc\",\"cn\",\"nt\",\"cn\",\"nt\",\"cn\",\"ct\",\"tc\",\"cn\",\"tt\",\"tt\",\"nt\",\"tc\",\"ct\",\"nc\",\"tn\",\"cc\",\"nt\",\"nn\",\"nt\",\"tt\",\"nn\",\"tt\",\"nn\",\"tn\",\"tt\",\"tt\",\"tn\",\"nc\",\"tn\",\"tt\",\"tn\",\"cn\",\"nc\",\"tt\",\"tt\",\"tn\",\"tt\",\"cn\",\"tt\",\"nn\",\"tn\",\"cn\",\"ct\",\"tc\",\"ct\",\"nn\",\"nn\",\"tc\",\"nc\",\"ct\",\"cn\",\"nn\",\"nc\",\"tt\",\"tn\",\"nc\",\"cc\",\"nt\",\"nn\",\"nt\",\"tc\",\"tn\",\"cc\",\"nn\",\"cc\",\"cc\",\"nc\",\"tt\",\"cn\",\"tn\",\"tn\",\"nn\",\"ct\",\"nc\",\"tn\",\"tc\",\"tn\",\"tc\",\"nn\",\"cn\",\"nc\",\"tt\",\"cn\",\"nc\",\"nt\",\"tn\",\"ct\",\"ct\",\"cc\",\"ct\",\"nn\",\"cc\",\"cc\",\"tt\",\"tt\",\"tt\",\"nn\",\"ct\",\"cc\",\"nc\",\"tt\",\"nn\",\"cc\",\"tt\",\"tc\",\"tn\",\"nt\",\"cn\",\"tt\",\"cn\",\"tt\",\"tt\",\"nn\",\"tt\",\"nn\",\"tn\",\"cn\",\"tc\",\"nt\",\"cn\",\"cn\",\"tn\",\"nt\",\"ct\",\"ct\",\"nt\",\"tt\",\"tn\",\"nn\",\"cn\",\"nt\",\"ct\",\"ct\",\"cc\",\"nn\",\"cn\",\"nt\",\"nt\",\"cc\",\"nc\",\"cc\",\"tc\",\"nc\",\"ct\",\"tc\",\"cc\",\"tc\",\"tn\",\"nn\",\"nn\",\"nc\",\"tt\",\"cn\",\"tn\",\"tt\",\"cn\",\"cc\",\"nt\",\"cn\",\"cn\",\"nt\",\"nt\",\"ct\",\"tt\",\"ct\",\"tn\",\"cc\",\"nc\",\"tn\",\"tc\",\"cn\",\"tt\",\"cc\",\"nc\",\"nn\",\"tc\",\"nn\",\"tt\",\"cc\",\"tt\",\"nt\",\"tt\",\"ct\",\"nc\",\"nt\",\"ct\",\"nt\",\"nn\",\"nn\",\"cn\",\"tt\",\"tn\",\"cn\",\"ct\",\"tt\",\"tt\",\"tc\",\"tc\",\"ct\",\"nc\",\"nc\",\"ct\",\"tt\",\"nt\",\"nc\",\"tc\",\"nt\",\"cn\",\"nn\",\"nc\",\"ct\",\"nn\",\"nn\",\"nn\",\"nn\",\"tc\",\"nn\",\"cn\",\"ct\",\"tc\",\"nn\",\"tn\",\"nn\",\"tn\",\"nc\",\"ct\",\"cn\",\"ct\",\"tc\",\"cc\",\"nn\",\"nn\",\"cn\",\"nt\",\"ct\",\"nn\",\"ct\",\"tn\",\"cc\",\"cn\",\"cn\",\"tc\",\"tn\",\"tn\",\"cn\",\"tn\",\"cn\",\"nn\",\"cc\",\"tc\",\"cc\",\"cc\",\"nc\",\"tn\",\"cn\",\"cn\",\"nt\",\"cc\",\"nt\",\"tt\",\"cn\",\"tn\",\"tn\",\"tn\",\"nn\",\"nn\",\"cn\",\"cc\",\"tn\",\"nn\",\"cn\",\"nt\",\"nt\",\"nn\",\"tn\",\"nn\",\"tt\",\"cn\",\"cc\",\"cn\",\"tc\",\"nt\",\"tn\",\"cc\",\"tn\",\"tn\",\"tn\",\"nn\",\"tt\",\"nt\",\"nc\",\"tt\",\"nn\",\"nt\",\"nt\",\"nt\",\"nt\",\"nt\",\"cc\",\"nt\",\"cc\",\"nn\",\"tn\",\"nt\",\"nn\",\"ct\",\"tc\",\"ct\",\"ct\",\"cc\",\"tc\",\"tn\",\"nt\",\"nn\",\"tc\",\"cc\",\"cc\",\"tn\",\"tc\",\"ct\",\"tc\",\"cn\",\"tt\",\"cn\",\"cn\",\"tn\",\"tc\",\"tc\",\"ct\",\"tc\",\"tt\",\"ct\",\"nt\",\"tt\",\"nn\",\"tt\",\"tt\",\"tc\",\"tt\",\"tt\",\"ct\",\"nn\",\"cc\",\"nt\",\"tt\",\"ct\",\"nt\",\"nt\",\"cc\",\"cc\",\"nc\",\"ct\",\"nc\",\"tn\",\"tn\",\"tc\",\"tt\",\"tc\",\"nn\",\"cc\",\"cn\",\"cn\",\"nc\",\"cn\",\"tt\",\"tc\",\"cn\",\"tn\",\"nt\",\"tc\",\"nt\",\"cn\",\"tc\",\"tn\",\"nc\",\"nt\",\"cc\",\"nc\",\"tt\",\"nc\",\"tt\",\"tc\",\"tt\",\"tt\",\"nt\",\"tt\",\"nt\",\"nc\",\"nc\",\"nn\",\"nn\",\"nn\",\"nn\",\"nn\",\"cn\",\"cn\",\"cc\",\"nt\",\"ct\",\"cn\",\"nc\",\"nt\",\"tc\",\"tn\",\"tt\",\"nt\",\"nt\",\"nc\",\"nn\",\"tt\",\"nc\",\"tt\",\"cn\",\"nc\",\"nt\",\"cc\",\"ct\",\"nt\",\"tn\",\"ct\",\"cn\",\"nn\",\"cc\",\"nt\",\"nn\",\"tc\",\"tn\",\"cc\",\"cn\",\"ct\",\"tn\",\"cn\",\"cn\",\"tn\",\"cc\",\"tt\",\"ct\",\"tn\",\"nt\",\"cn\",\"tc\",\"nc\",\"nn\",\"tt\",\"nc\",\"cn\",\"tc\",\"nn\",\"nn\",\"tc\",\"nn\",\"nt\",\"nt\",\"cn\",\"cc\",\"tc\",\"tc\",\"cc\",\"tn\",\"nc\",\"tn\",\"tt\",\"tn\",\"cc\",\"cn\",\"tc\",\"cn\",\"tt\",\"nc\",\"nn\",\"ct\",\"nt\",\"cn\",\"cn\",\"nn\",\"nt\",\"cc\",\"nt\",\"nt\",\"cn\",\"nc\",\"cc\",\"tn\",\"nt\",\"cn\",\"tc\",\"tn\",\"nc\",\"nt\",\"ct\",\"tn\",\"cc\",\"ct\",\"tc\",\"ct\",\"cc\",\"nc\",\"cc\",\"tt\",\"tc\",\"nt\",\"cn\",\"nc\",\"tn\",\"cc\",\"ct\",\"nn\",\"tn\",\"nn\",\"nn\",\"tn\",\"nt\",\"nt\",\"tn\",\"cn\",\"cc\",\"cn\",\"nt\",\"nt\",\"tt\",\"cc\",\"nn\",\"nt\",\"ct\",\"tt\",\"cc\",\"cc\",\"tt\",\"cn\",\"cn\",\"nn\",\"tt\",\"tt\",\"tc\",\"nn\",\"cc\",\"cn\",\"nt\",\"ct\",\"ct\",\"ct\",\"tc\",\"ct\",\"ct\",\"cn\",\"tn\",\"nt\",\"nn\",\"tc\",\"nt\",\"tn\",\"cn\",\"tt\",\"cn\",\"tn\",\"cc\",\"nn\",\"nt\",\"nc\",\"tt\",\"tn\",\"cn\",\"nn\",\"nn\",\"nt\",\"nn\",\"cn\",\"cc\",\"tt\",\"nn\",\"tc\",\"ct\",\"tc\",\"tt\",\"tt\",\"tn\",\"cn\",\"ct\",\"tn\",\"tc\",\"nn\",\"tn\",\"nc\",\"tn\",\"nc\",\"tc\",\"nt\",\"nn\",\"nc\",\"nc\",\"nt\",\"cn\",\"cn\",\"tc\",\"ct\",\"tt\",\"ct\",\"cn\",\"cc\",\"cn\",\"cn\",\"nc\",\"nn\",\"nc\",\"tn\",\"cn\",\"tn\",\"tt\",\"tt\",\"cn\",\"cn\",\"tc\",\"nn\",\"nn\",\"ct\",\"nt\",\"tt\",\"tt\",\"nc\",\"nn\",\"ct\",\"tc\",\"cc\",\"ct\",\"tn\",\"cn\",\"ct\",\"tc\",\"cc\",\"ct\",\"nc\",\"cc\",\"cn\",\"tn\",\"cc\",\"cc\",\"nc\",\"cn\",\"nc\",\"nn\",\"nt\",\"cn\",\"cc\",\"tn\",\"tc\",\"nc\",\"tt\",\"nt\",\"nt\",\"tn\",\"ct\",\"tn\",\"tc\",\"nc\",\"ct\",\"nt\",\"nt\",\"tn\",\"cn\",\"nc\",\"nt\",\"tn\",\"cn\",\"nc\",\"nt\",\"cc\",\"nt\",\"nn\",\"cn\",\"nt\",\"nt\",\"tn\",\"cn\",\"cn\",\"nc\",\"nn\",\"nc\",\"tn\",\"tt\",\"cc\",\"cn\",\"cn\",\"nn\",\"nn\",\"nn\",\"cn\",\"tt\",\"nt\",\"cn\",\"cn\",\"nt\",\"nc\",\"ct\",\"nt\",\"nn\",\"nc\",\"nn\",\"nt\",\"tc\",\"nn\",\"cc\",\"cn\",\"nt\",\"tt\",\"tn\",\"nt\",\"tn\",\"tt\",\"tt\",\"tn\",\"nc\",\"tc\",\"cc\",\"cc\",\"ct\",\"tc\",\"nt\",\"nn\",\"ct\",\"nc\",\"tn\",\"nc\",\"cc\",\"tn\",\"tt\",\"ct\",\"nn\",\"nn\",\"ct\",\"ct\",\"nn\",\"nn\",\"ct\",\"nn\",\"ct\",\"tt\",\"nt\",\"nn\",\"nn\",\"tc\",\"cc\",\"nn\",\"ct\",\"nn\",\"nt\",\"nc\",\"tn\",\"nc\",\"cc\",\"nn\",\"tn\",\"cn\",\"tc\",\"cc\",\"tt\",\"cn\",\"cn\",\"cc\",\"nn\",\"nn\",\"nn\",\"nn\",\"nt\",\"nt\",\"tc\",\"nt\",\"nt\",\"nt\",\"nc\",\"cn\",\"tt\",\"tn\",\"tc\",\"cc\",\"cc\",\"nn\",\"nt\",\"nn\",\"tc\",\"tn\",\"tc\",\"cc\",\"nt\",\"nt\",\"nt\",\"tt\",\"ct\",\"tn\",\"nt\",\"cc\",\"cc\",\"cn\",\"cn\",\"tn\",\"tn\",\"cn\",\"nn\",\"tn\",\"nc\",\"cc\",\"tn\",\"tc\",\"cn\",\"tc\",\"cn\",\"tc\",\"tt\",\"tn\",\"ct\",\"cc\",\"nc\",\"cn\",\"nn\",\"tc\",\"nc\",\"cn\",\"ct\",\"tn\",\"nc\",\"tt\",\"nn\",\"nc\",\"nt\",\"tn\",\"tt\",\"nc\",\"cc\",\"ct\",\"nc\",\"tn\",\"ct\",\"tc\",\"nc\",\"cc\",\"tn\",\"cc\",\"cc\",\"nt\",\"nn\",\"tt\",\"cc\",\"nn\",\"cn\",\"ct\",\"nt\",\"ct\",\"cn\",\"nc\",\"nt\",\"cc\",\"nn\",\"nc\",\"tt\",\"tc\",\"ct\",\"cn\",\"nc\",\"ct\",\"tc\",\"cn\",\"cn\",\"nt\",\"cn\",\"nt\",\"nt\",\"cc\",\"tn\",\"tc\",\"nt\",\"nt\",\"cn\",\"ct\",\"tt\",\"cc\",\"cc\",\"tn\",\"nt\",\"ct\",\"tc\",\"nn\",\"tt\",\"ct\",\"cn\",\"cc\",\"tn\",\"nt\",\"tn\",\"nt\",\"tn\",\"nc\",\"cn\",\"tt\",\"ct\",\"tt\",\"tn\",\"cn\",\"cn\",\"nc\",\"tc\",\"nn\",\"nt\",\"nn\",\"cn\",\"cn\",\"nn\",\"nt\",\"nn\",\"nc\",\"nt\",\"tc\",\"nn\",\"nt\",\"cc\",\"nc\",\"ct\",\"tn\",\"tc\",\"nc\",\"nc\",\"ct\",\"tc\",\"cc\",\"nc\",\"nc\",\"nn\",\"ct\",\"tt\",\"ct\",\"nt\",\"cc\",\"tt\",\"nt\",\"ct\",\"ct\",\"nn\",\"tc\",\"nn\",\"cn\",\"tt\",\"nc\",\"cn\",\"ct\",\"tc\",\"nc\",\"tn\",\"cc\",\"nn\",\"cn\",\"tc\",\"nt\",\"nn\",\"nn\",\"tc\",\"nt\",\"cn\",\"tt\",\"nt\",\"cn\",\"nt\",\"tt\",\"ct\",\"cc\",\"cc\",\"nn\",\"tn\",\"cc\",\"tc\",\"tt\",\"nt\",\"nt\",\"tc\",\"nc\",\"cc\",\"tt\",\"tn\",\"nc\",\"cc\",\"tt\",\"tt\",\"ct\",\"tc\",\"nn\",\"cc\",\"cn\",\"nt\",\"tc\",\"nc\",\"tc\",\"nc\",\"ct\",\"nn\",\"nt\",\"cc\",\"cn\",\"nt\",\"tt\",\"cc\",\"nc\",\"tt\",\"tc\",\"ct\",\"ct\",\"nt\",\"tc\",\"nt\",\"nc\",\"cn\",\"nt\",\"nt\",\"nn\",\"tc\",\"nn\",\"nn\",\"nt\",\"tt\",\"cn\",\"cc\",\"tt\",\"cn\",\"cn\",\"nt\",\"nt\",\"tn\",\"nc\",\"nt\",\"tc\",\"nc\",\"tt\",\"cn\",\"cn\",\"cc\",\"ct\",\"tt\",\"tc\",\"nt\",\"tt\",\"cn\",\"nt\",\"ct\",\"tn\",\"tt\",\"ct\",\"cc\",\"tn\",\"tt\",\"nn\",\"tc\",\"nc\",\"nn\",\"cn\",\"nn\",\"tc\",\"nn\",\"nn\",\"tc\",\"nn\",\"cc\",\"ct\",\"nn\",\"tn\",\"nn\",\"tt\",\"nc\",\"tt\",\"ct\",\"tt\",\"nn\",\"tn\",\"nt\",\"cn\",\"tt\",\"cn\",\"cc\",\"tt\",\"cc\",\"nn\",\"ct\",\"tc\",\"tc\",\"tc\",\"tc\",\"cn\",\"nt\",\"cn\",\"nt\",\"nt\",\"tn\",\"nn\",\"ct\",\"nc\",\"cn\",\"nn\",\"nt\",\"tt\",\"cn\",\"cn\",\"nt\",\"tn\",\"nc\",\"tn\",\"tn\",\"nt\",\"tn\",\"nc\",\"cn\",\"cc\",\"tt\",\"ct\",\"cn\",\"nt\",\"tc\",\"nn\",\"nc\",\"tn\",\"tc\",\"tt\",\"nc\",\"tc\",\"nt\",\"cn\",\"tt\",\"cn\",\"tt\",\"cn\",\"nn\",\"cn\",\"tn\",\"ct\",\"tc\",\"nn\",\"tn\",\"ct\",\"ct\",\"tn\",\"ct\",\"nt\",\"nt\",\"cc\",\"nc\",\"tn\",\"nt\",\"tc\",\"tc\",\"nn\",\"ct\",\"nn\",\"tc\",\"tn\",\"tt\",\"tt\",\"tt\",\"nt\",\"cc\",\"tn\",\"cn\",\"ct\",\"tc\",\"cc\",\"tn\",\"tt\",\"tn\",\"ct\",\"nt\",\"nt\",\"cn\",\"nc\",\"ct\",\"tc\",\"tt\",\"tc\",\"ct\",\"cn\",\"ct\",\"cc\",\"nn\",\"nc\",\"tn\",\"nt\",\"cn\",\"nn\",\"nn\",\"nn\",\"nn\",\"nn\",\"cc\",\"nt\",\"tn\",\"cn\",\"tt\",\"ct\",\"tn\",\"nt\",\"nc\",\"tn\",\"nn\",\"tt\",\"nc\",\"tt\",\"cc\",\"nc\",\"nc\",\"ct\",\"nn\",\"cn\",\"nn\",\"tc\",\"ct\",\"cn\",\"nn\",\"nn\",\"nc\",\"tt\",\"ct\",\"ct\",\"tn\",\"tc\",\"tt\",\"cn\",\"nt\",\"nn\",\"cn\",\"cc\",\"ct\",\"ct\",\"tn\",\"cc\",\"cn\",\"nn\",\"tc\",\"cn\",\"ct\",\"tt\",\"tn\",\"cc\",\"nc\",\"cn\",\"cn\",\"nt\",\"nc\",\"tc\",\"nt\",\"cn\",\"nt\",\"nc\",\"nt\",\"cn\",\"tc\",\"cn\",\"nn\",\"nt\",\"tn\",\"nt\",\"tc\",\"cn\",\"nc\",\"nt\",\"tt\",\"cn\",\"tn\",\"nt\",\"tn\",\"nn\",\"nn\",\"tt\",\"ct\",\"cc\",\"ct\",\"tt\",\"cn\",\"cn\",\"cn\",\"nt\",\"nt\",\"tn\",\"tt\",\"cc\",\"tn\",\"cc\",\"tn\",\"nt\",\"cc\",\"tc\",\"cn\",\"nn\",\"tt\",\"ct\",\"tn\",\"tn\",\"cc\",\"nn\",\"tn\",\"nt\",\"cn\",\"tn\",\"nn\",\"tn\",\"nn\",\"cc\",\"cn\",\"tt\",\"tt\",\"nn\",\"tc\",\"nc\",\"cn\",\"nn\",\"tc\",\"ct\",\"tt\",\"cc\",\"tn\",\"cn\",\"cn\",\"nc\",\"tt\",\"nc\",\"nt\",\"cn\",\"ct\",\"cn\",\"tn\",\"cc\",\"tt\",\"nn\",\"nc\",\"tc\",\"cn\",\"nt\",\"nc\",\"nt\",\"nt\",\"tc\",\"nt\",\"tt\",\"cn\",\"ct\",\"nt\",\"ct\",\"tn\",\"tn\",\"tn\",\"ct\",\"tc\",\"nn\",\"nt\",\"ct\",\"nn\",\"nt\",\"cc\",\"tn\",\"ct\",\"ct\",\"nc\",\"tt\",\"tn\",\"nn\",\"cc\",\"nt\",\"cc\",\"cc\",\"nt\",\"nc\",\"tt\",\"tc\",\"nt\",\"tt\",\"tt\",\"cn\",\"tt\",\"nn\",\"tn\",\"cc\",\"nn\",\"nt\",\"nn\",\"ct\",\"nt\",\"tn\",\"tc\",\"tt\",\"nt\",\"tt\",\"tt\",\"ct\",\"ct\",\"tn\",\"cn\",\"nc\",\"cc\",\"nc\",\"nc\",\"cn\",\"cn\",\"nc\",\"tn\",\"tn\",\"cc\",\"nn\",\"nn\",\"cc\",\"nc\",\"tn\",\"tn\",\"tt\",\"nt\",\"cc\",\"tt\",\"tn\",\"cn\",\"ct\",\"ct\",\"tn\",\"ct\",\"cc\",\"tn\",\"nn\",\"ct\",\"nt\",\"ct\",\"nn\",\"tt\",\"tn\",\"cn\",\"nn\",\"nt\",\"cn\",\"nn\",\"ct\",\"ct\",\"cc\",\"cn\",\"ct\",\"cn\",\"cc\",\"tc\",\"nt\",\"nt\",\"nn\",\"nt\",\"tc\",\"cn\",\"nc\",\"cn\",\"ct\",\"nc\",\"nc\",\"nt\",\"tc\",\"cn\",\"nn\",\"nt\",\"nc\",\"tt\",\"tc\",\"tn\",\"nn\",\"nc\",\"cc\",\"tc\",\"tt\",\"cn\",\"cn\",\"tn\",\"cc\",\"tn\",\"ct\",\"nt\",\"cc\",\"tc\",\"ct\",\"nc\",\"nt\",\"nc\",\"nn\",\"nc\",\"tt\",\"tn\",\"ct\",\"cc\",\"nc\",\"cn\",\"nc\",\"ct\",\"ct\",\"cn\",\"nc\",\"tc\",\"tn\",\"tc\",\"cn\",\"cc\",\"cc\",\"nt\",\"tn\",\"cc\",\"cc\",\"cn\",\"ct\",\"tc\",\"cc\",\"tn\",\"tt\",\"cn\",\"cc\",\"tt\",\"cn\",\"ct\",\"nt\",\"tn\",\"tt\",\"cc\",\"tt\",\"cn\",\"cc\",\"nt\",\"cn\",\"nt\",\"ct\",\"tn\"]\n",
    "words = [\"ar\",\"pz\",\"zp\",\"zr\",\"ai\",\"zs\",\"pa\",\"zi\",\"ri\",\"si\",\"ir\",\"rs\",\"kk\",\"rs\",\"ra\",\"pa\",\"as\",\"pi\",\"sr\",\"ar\",\"ps\",\"zs\",\"sr\",\"ip\",\"zi\",\"za\",\"ar\",\"zs\",\"ap\",\"si\",\"pi\",\"pr\",\"as\",\"ai\",\"sa\",\"pi\",\"pr\",\"rs\",\"ap\",\"ir\",\"rz\",\"as\",\"vv\",\"rs\",\"pi\",\"si\",\"pa\",\"pz\",\"qq\",\"sa\",\"pz\",\"sp\",\"rz\",\"ps\",\"ee\",\"ap\",\"ps\",\"rz\",\"pr\",\"pi\",\"zs\",\"az\",\"zp\",\"zi\",\"zi\",\"ai\",\"ip\",\"iz\",\"sr\",\"ai\",\"pa\",\"zp\",\"rs\",\"rz\",\"sp\",\"sz\",\"pr\",\"sr\",\"ra\",\"ip\",\"si\",\"zi\",\"sr\",\"az\",\"pi\",\"pi\",\"zp\",\"ii\",\"rp\",\"zs\",\"za\",\"pz\",\"za\",\"ra\",\"ri\",\"si\",\"pi\",\"as\",\"ar\",\"is\",\"ri\",\"ap\",\"pa\",\"ir\",\"iz\",\"zp\",\"ra\",\"as\",\"ai\",\"pz\",\"is\",\"is\",\"ri\",\"az\",\"sp\",\"si\",\"ir\",\"si\",\"zs\",\"ip\",\"sp\",\"zs\",\"zp\",\"ap\",\"sz\",\"ap\",\"sa\",\"rs\",\"pz\",\"zs\",\"si\",\"pr\",\"az\",\"zp\",\"zr\",\"sz\",\"ar\",\"ri\",\"zr\",\"sz\",\"rz\",\"rp\",\"az\",\"rp\",\"si\",\"pi\",\"ap\",\"ar\",\"rz\",\"pz\",\"zs\",\"ai\",\"zp\",\"si\",\"is\",\"sa\",\"ri\",\"ai\",\"si\",\"pa\",\"iz\",\"za\",\"sr\",\"zp\",\"rp\",\"ia\",\"ap\",\"rs\",\"ip\",\"sp\",\"as\",\"iz\",\"is\",\"kk\",\"pr\",\"rp\",\"pr\",\"si\",\"zi\",\"ip\",\"ai\",\"za\",\"rp\",\"ia\",\"pz\",\"sz\",\"as\",\"ia\",\"rs\",\"sz\",\"ir\",\"ps\",\"zp\",\"ps\",\"sp\",\"sa\",\"pr\",\"ip\",\"zi\",\"ps\"\n",
    "\n",
    "longestPalindrome(words)"
   ]
  },
  {
   "cell_type": "code",
   "execution_count": 13,
   "id": "befc0c41",
   "metadata": {},
   "outputs": [
    {
     "name": "stdout",
     "output_type": "stream",
     "text": [
      "{'cd': 1, 'xx': 0}\n"
     ]
    },
    {
     "data": {
      "text/plain": [
       "6"
      ]
     },
     "execution_count": 13,
     "metadata": {},
     "output_type": "execute_result"
    }
   ],
   "source": [
    "def longestPalindrome_s(words):\n",
    "    if not words:\n",
    "        return 0\n",
    "    \n",
    "    pal_dict = dict()\n",
    "    max_str = 0\n",
    "    for ls in words:\n",
    "        opposit = f'{ls[1]}{ls[0]}'\n",
    "        if opposit in pal_dict and pal_dict[opposit] > 0:\n",
    "                pal_dict[opposit] -= 1\n",
    "                max_str += 4\n",
    "        else:\n",
    "            if ls in pal_dict:\n",
    "                pal_dict[ls] += 1\n",
    "            else:\n",
    "                pal_dict[ls] = 1\n",
    "        \n",
    "    for ls in words:\n",
    "        if ls[0] == ls[1] and pal_dict[ls] > 0:\n",
    "            max_str += 2\n",
    "            break\n",
    "    print(pal_dict)\n",
    "    return max_str\n",
    "        \n",
    "# words = [\"lc\",\"cl\",\"gg\"]\n",
    "# words = [\"ab\",\"ty\",\"yt\",\"lc\",\"cl\",\"ab\"]\n",
    "words = [\"cc\",\"ll\",\"xx\"]\n",
    "words = [\"cd\",\"xx\",\"xx\"]\n",
    "\n",
    "# words = [\"cn\",\"tn\",\"cc\",\"tn\",\"nn\",\"cc\",\"tc\",\"cn\",\"tn\",\"cc\",\"nt\",\"ct\",\"tn\",\"cc\",\"tc\",\"cn\",\"ct\",\"tn\",\"cc\",\"tt\",\"nn\",\"nc\",\"ct\",\"tn\",\"tt\",\"tn\",\"nn\",\"nn\",\"cc\",\"tc\",\"tc\",\"nn\",\"cc\",\"ct\",\"nt\",\"nn\",\"cc\",\"ct\",\"ct\",\"nt\",\"ct\",\"ct\",\"nt\",\"ct\",\"ct\",\"tn\",\"ct\",\"nt\",\"nc\",\"ct\",\"cc\",\"nc\",\"tt\",\"nt\",\"cn\",\"tc\",\"tt\",\"tt\",\"tc\",\"tn\",\"nc\",\"cc\",\"tt\",\"tc\",\"nt\",\"tn\",\"nt\",\"tc\",\"nn\",\"nt\",\"nn\",\"nn\",\"nn\",\"cn\",\"tn\",\"tc\",\"ct\",\"tt\",\"tn\",\"tt\",\"nn\",\"tt\",\"nc\",\"nc\",\"ct\",\"tc\",\"ct\",\"tn\",\"nt\",\"cc\",\"tt\",\"tt\",\"ct\",\"nt\",\"tc\",\"cc\",\"nn\",\"tn\",\"ct\",\"ct\",\"ct\",\"nc\",\"nt\",\"cn\",\"cc\",\"tc\",\"cn\",\"cn\",\"cc\",\"nn\",\"cc\",\"nn\",\"tn\",\"nt\",\"tn\",\"cc\",\"nc\",\"tt\",\"cc\",\"tt\",\"tn\",\"tc\",\"tc\",\"tc\",\"nc\",\"cn\",\"cn\",\"nn\",\"nt\",\"tc\",\"nt\",\"cn\",\"tt\",\"cn\",\"cn\",\"tc\",\"ct\",\"tn\",\"nn\",\"cn\",\"cc\",\"cn\",\"nn\",\"tt\",\"tc\",\"ct\",\"ct\",\"tn\",\"nn\",\"tc\",\"nt\",\"nn\",\"tc\",\"nc\",\"tt\",\"ct\",\"ct\",\"nt\",\"cc\",\"cc\",\"cn\",\"cc\",\"nt\",\"nt\",\"cn\",\"tc\",\"nn\",\"ct\",\"tt\",\"tt\",\"nn\",\"tn\",\"nt\",\"cn\",\"cc\",\"tt\",\"cc\",\"tn\",\"tt\",\"cn\",\"cn\",\"tt\",\"cc\",\"nc\",\"ct\",\"tt\",\"tt\",\"tn\",\"cc\",\"tc\",\"nc\",\"nt\",\"ct\",\"nc\",\"tc\",\"tc\",\"tt\",\"nt\",\"nt\",\"nc\",\"tn\",\"cn\",\"nn\",\"cc\",\"cc\",\"cc\",\"tn\",\"tn\",\"cc\",\"nc\",\"cn\",\"ct\",\"tt\",\"nc\",\"tc\",\"nt\",\"nc\",\"cc\",\"nc\",\"nt\",\"cn\",\"ct\",\"tc\",\"cn\",\"nt\",\"cn\",\"nt\",\"cn\",\"ct\",\"tc\",\"cn\",\"tt\",\"tt\",\"nt\",\"tc\",\"ct\",\"nc\",\"tn\",\"cc\",\"nt\",\"nn\",\"nt\",\"tt\",\"nn\",\"tt\",\"nn\",\"tn\",\"tt\",\"tt\",\"tn\",\"nc\",\"tn\",\"tt\",\"tn\",\"cn\",\"nc\",\"tt\",\"tt\",\"tn\",\"tt\",\"cn\",\"tt\",\"nn\",\"tn\",\"cn\",\"ct\",\"tc\",\"ct\",\"nn\",\"nn\",\"tc\",\"nc\",\"ct\",\"cn\",\"nn\",\"nc\",\"tt\",\"tn\",\"nc\",\"cc\",\"nt\",\"nn\",\"nt\",\"tc\",\"tn\",\"cc\",\"nn\",\"cc\",\"cc\",\"nc\",\"tt\",\"cn\",\"tn\",\"tn\",\"nn\",\"ct\",\"nc\",\"tn\",\"tc\",\"tn\",\"tc\",\"nn\",\"cn\",\"nc\",\"tt\",\"cn\",\"nc\",\"nt\",\"tn\",\"ct\",\"ct\",\"cc\",\"ct\",\"nn\",\"cc\",\"cc\",\"tt\",\"tt\",\"tt\",\"nn\",\"ct\",\"cc\",\"nc\",\"tt\",\"nn\",\"cc\",\"tt\",\"tc\",\"tn\",\"nt\",\"cn\",\"tt\",\"cn\",\"tt\",\"tt\",\"nn\",\"tt\",\"nn\",\"tn\",\"cn\",\"tc\",\"nt\",\"cn\",\"cn\",\"tn\",\"nt\",\"ct\",\"ct\",\"nt\",\"tt\",\"tn\",\"nn\",\"cn\",\"nt\",\"ct\",\"ct\",\"cc\",\"nn\",\"cn\",\"nt\",\"nt\",\"cc\",\"nc\",\"cc\",\"tc\",\"nc\",\"ct\",\"tc\",\"cc\",\"tc\",\"tn\",\"nn\",\"nn\",\"nc\",\"tt\",\"cn\",\"tn\",\"tt\",\"cn\",\"cc\",\"nt\",\"cn\",\"cn\",\"nt\",\"nt\",\"ct\",\"tt\",\"ct\",\"tn\",\"cc\",\"nc\",\"tn\",\"tc\",\"cn\",\"tt\",\"cc\",\"nc\",\"nn\",\"tc\",\"nn\",\"tt\",\"cc\",\"tt\",\"nt\",\"tt\",\"ct\",\"nc\",\"nt\",\"ct\",\"nt\",\"nn\",\"nn\",\"cn\",\"tt\",\"tn\",\"cn\",\"ct\",\"tt\",\"tt\",\"tc\",\"tc\",\"ct\",\"nc\",\"nc\",\"ct\",\"tt\",\"nt\",\"nc\",\"tc\",\"nt\",\"cn\",\"nn\",\"nc\",\"ct\",\"nn\",\"nn\",\"nn\",\"nn\",\"tc\",\"nn\",\"cn\",\"ct\",\"tc\",\"nn\",\"tn\",\"nn\",\"tn\",\"nc\",\"ct\",\"cn\",\"ct\",\"tc\",\"cc\",\"nn\",\"nn\",\"cn\",\"nt\",\"ct\",\"nn\",\"ct\",\"tn\",\"cc\",\"cn\",\"cn\",\"tc\",\"tn\",\"tn\",\"cn\",\"tn\",\"cn\",\"nn\",\"cc\",\"tc\",\"cc\",\"cc\",\"nc\",\"tn\",\"cn\",\"cn\",\"nt\",\"cc\",\"nt\",\"tt\",\"cn\",\"tn\",\"tn\",\"tn\",\"nn\",\"nn\",\"cn\",\"cc\",\"tn\",\"nn\",\"cn\",\"nt\",\"nt\",\"nn\",\"tn\",\"nn\",\"tt\",\"cn\",\"cc\",\"cn\",\"tc\",\"nt\",\"tn\",\"cc\",\"tn\",\"tn\",\"tn\",\"nn\",\"tt\",\"nt\",\"nc\",\"tt\",\"nn\",\"nt\",\"nt\",\"nt\",\"nt\",\"nt\",\"cc\",\"nt\",\"cc\",\"nn\",\"tn\",\"nt\",\"nn\",\"ct\",\"tc\",\"ct\",\"ct\",\"cc\",\"tc\",\"tn\",\"nt\",\"nn\",\"tc\",\"cc\",\"cc\",\"tn\",\"tc\",\"ct\",\"tc\",\"cn\",\"tt\",\"cn\",\"cn\",\"tn\",\"tc\",\"tc\",\"ct\",\"tc\",\"tt\",\"ct\",\"nt\",\"tt\",\"nn\",\"tt\",\"tt\",\"tc\",\"tt\",\"tt\",\"ct\",\"nn\",\"cc\",\"nt\",\"tt\",\"ct\",\"nt\",\"nt\",\"cc\",\"cc\",\"nc\",\"ct\",\"nc\",\"tn\",\"tn\",\"tc\",\"tt\",\"tc\",\"nn\",\"cc\",\"cn\",\"cn\",\"nc\",\"cn\",\"tt\",\"tc\",\"cn\",\"tn\",\"nt\",\"tc\",\"nt\",\"cn\",\"tc\",\"tn\",\"nc\",\"nt\",\"cc\",\"nc\",\"tt\",\"nc\",\"tt\",\"tc\",\"tt\",\"tt\",\"nt\",\"tt\",\"nt\",\"nc\",\"nc\",\"nn\",\"nn\",\"nn\",\"nn\",\"nn\",\"cn\",\"cn\",\"cc\",\"nt\",\"ct\",\"cn\",\"nc\",\"nt\",\"tc\",\"tn\",\"tt\",\"nt\",\"nt\",\"nc\",\"nn\",\"tt\",\"nc\",\"tt\",\"cn\",\"nc\",\"nt\",\"cc\",\"ct\",\"nt\",\"tn\",\"ct\",\"cn\",\"nn\",\"cc\",\"nt\",\"nn\",\"tc\",\"tn\",\"cc\",\"cn\",\"ct\",\"tn\",\"cn\",\"cn\",\"tn\",\"cc\",\"tt\",\"ct\",\"tn\",\"nt\",\"cn\",\"tc\",\"nc\",\"nn\",\"tt\",\"nc\",\"cn\",\"tc\",\"nn\",\"nn\",\"tc\",\"nn\",\"nt\",\"nt\",\"cn\",\"cc\",\"tc\",\"tc\",\"cc\",\"tn\",\"nc\",\"tn\",\"tt\",\"tn\",\"cc\",\"cn\",\"tc\",\"cn\",\"tt\",\"nc\",\"nn\",\"ct\",\"nt\",\"cn\",\"cn\",\"nn\",\"nt\",\"cc\",\"nt\",\"nt\",\"cn\",\"nc\",\"cc\",\"tn\",\"nt\",\"cn\",\"tc\",\"tn\",\"nc\",\"nt\",\"ct\",\"tn\",\"cc\",\"ct\",\"tc\",\"ct\",\"cc\",\"nc\",\"cc\",\"tt\",\"tc\",\"nt\",\"cn\",\"nc\",\"tn\",\"cc\",\"ct\",\"nn\",\"tn\",\"nn\",\"nn\",\"tn\",\"nt\",\"nt\",\"tn\",\"cn\",\"cc\",\"cn\",\"nt\",\"nt\",\"tt\",\"cc\",\"nn\",\"nt\",\"ct\",\"tt\",\"cc\",\"cc\",\"tt\",\"cn\",\"cn\",\"nn\",\"tt\",\"tt\",\"tc\",\"nn\",\"cc\",\"cn\",\"nt\",\"ct\",\"ct\",\"ct\",\"tc\",\"ct\",\"ct\",\"cn\",\"tn\",\"nt\",\"nn\",\"tc\",\"nt\",\"tn\",\"cn\",\"tt\",\"cn\",\"tn\",\"cc\",\"nn\",\"nt\",\"nc\",\"tt\",\"tn\",\"cn\",\"nn\",\"nn\",\"nt\",\"nn\",\"cn\",\"cc\",\"tt\",\"nn\",\"tc\",\"ct\",\"tc\",\"tt\",\"tt\",\"tn\",\"cn\",\"ct\",\"tn\",\"tc\",\"nn\",\"tn\",\"nc\",\"tn\",\"nc\",\"tc\",\"nt\",\"nn\",\"nc\",\"nc\",\"nt\",\"cn\",\"cn\",\"tc\",\"ct\",\"tt\",\"ct\",\"cn\",\"cc\",\"cn\",\"cn\",\"nc\",\"nn\",\"nc\",\"tn\",\"cn\",\"tn\",\"tt\",\"tt\",\"cn\",\"cn\",\"tc\",\"nn\",\"nn\",\"ct\",\"nt\",\"tt\",\"tt\",\"nc\",\"nn\",\"ct\",\"tc\",\"cc\",\"ct\",\"tn\",\"cn\",\"ct\",\"tc\",\"cc\",\"ct\",\"nc\",\"cc\",\"cn\",\"tn\",\"cc\",\"cc\",\"nc\",\"cn\",\"nc\",\"nn\",\"nt\",\"cn\",\"cc\",\"tn\",\"tc\",\"nc\",\"tt\",\"nt\",\"nt\",\"tn\",\"ct\",\"tn\",\"tc\",\"nc\",\"ct\",\"nt\",\"nt\",\"tn\",\"cn\",\"nc\",\"nt\",\"tn\",\"cn\",\"nc\",\"nt\",\"cc\",\"nt\",\"nn\",\"cn\",\"nt\",\"nt\",\"tn\",\"cn\",\"cn\",\"nc\",\"nn\",\"nc\",\"tn\",\"tt\",\"cc\",\"cn\",\"cn\",\"nn\",\"nn\",\"nn\",\"cn\",\"tt\",\"nt\",\"cn\",\"cn\",\"nt\",\"nc\",\"ct\",\"nt\",\"nn\",\"nc\",\"nn\",\"nt\",\"tc\",\"nn\",\"cc\",\"cn\",\"nt\",\"tt\",\"tn\",\"nt\",\"tn\",\"tt\",\"tt\",\"tn\",\"nc\",\"tc\",\"cc\",\"cc\",\"ct\",\"tc\",\"nt\",\"nn\",\"ct\",\"nc\",\"tn\",\"nc\",\"cc\",\"tn\",\"tt\",\"ct\",\"nn\",\"nn\",\"ct\",\"ct\",\"nn\",\"nn\",\"ct\",\"nn\",\"ct\",\"tt\",\"nt\",\"nn\",\"nn\",\"tc\",\"cc\",\"nn\",\"ct\",\"nn\",\"nt\",\"nc\",\"tn\",\"nc\",\"cc\",\"nn\",\"tn\",\"cn\",\"tc\",\"cc\",\"tt\",\"cn\",\"cn\",\"cc\",\"nn\",\"nn\",\"nn\",\"nn\",\"nt\",\"nt\",\"tc\",\"nt\",\"nt\",\"nt\",\"nc\",\"cn\",\"tt\",\"tn\",\"tc\",\"cc\",\"cc\",\"nn\",\"nt\",\"nn\",\"tc\",\"tn\",\"tc\",\"cc\",\"nt\",\"nt\",\"nt\",\"tt\",\"ct\",\"tn\",\"nt\",\"cc\",\"cc\",\"cn\",\"cn\",\"tn\",\"tn\",\"cn\",\"nn\",\"tn\",\"nc\",\"cc\",\"tn\",\"tc\",\"cn\",\"tc\",\"cn\",\"tc\",\"tt\",\"tn\",\"ct\",\"cc\",\"nc\",\"cn\",\"nn\",\"tc\",\"nc\",\"cn\",\"ct\",\"tn\",\"nc\",\"tt\",\"nn\",\"nc\",\"nt\",\"tn\",\"tt\",\"nc\",\"cc\",\"ct\",\"nc\",\"tn\",\"ct\",\"tc\",\"nc\",\"cc\",\"tn\",\"cc\",\"cc\",\"nt\",\"nn\",\"tt\",\"cc\",\"nn\",\"cn\",\"ct\",\"nt\",\"ct\",\"cn\",\"nc\",\"nt\",\"cc\",\"nn\",\"nc\",\"tt\",\"tc\",\"ct\",\"cn\",\"nc\",\"ct\",\"tc\",\"cn\",\"cn\",\"nt\",\"cn\",\"nt\",\"nt\",\"cc\",\"tn\",\"tc\",\"nt\",\"nt\",\"cn\",\"ct\",\"tt\",\"cc\",\"cc\",\"tn\",\"nt\",\"ct\",\"tc\",\"nn\",\"tt\",\"ct\",\"cn\",\"cc\",\"tn\",\"nt\",\"tn\",\"nt\",\"tn\",\"nc\",\"cn\",\"tt\",\"ct\",\"tt\",\"tn\",\"cn\",\"cn\",\"nc\",\"tc\",\"nn\",\"nt\",\"nn\",\"cn\",\"cn\",\"nn\",\"nt\",\"nn\",\"nc\",\"nt\",\"tc\",\"nn\",\"nt\",\"cc\",\"nc\",\"ct\",\"tn\",\"tc\",\"nc\",\"nc\",\"ct\",\"tc\",\"cc\",\"nc\",\"nc\",\"nn\",\"ct\",\"tt\",\"ct\",\"nt\",\"cc\",\"tt\",\"nt\",\"ct\",\"ct\",\"nn\",\"tc\",\"nn\",\"cn\",\"tt\",\"nc\",\"cn\",\"ct\",\"tc\",\"nc\",\"tn\",\"cc\",\"nn\",\"cn\",\"tc\",\"nt\",\"nn\",\"nn\",\"tc\",\"nt\",\"cn\",\"tt\",\"nt\",\"cn\",\"nt\",\"tt\",\"ct\",\"cc\",\"cc\",\"nn\",\"tn\",\"cc\",\"tc\",\"tt\",\"nt\",\"nt\",\"tc\",\"nc\",\"cc\",\"tt\",\"tn\",\"nc\",\"cc\",\"tt\",\"tt\",\"ct\",\"tc\",\"nn\",\"cc\",\"cn\",\"nt\",\"tc\",\"nc\",\"tc\",\"nc\",\"ct\",\"nn\",\"nt\",\"cc\",\"cn\",\"nt\",\"tt\",\"cc\",\"nc\",\"tt\",\"tc\",\"ct\",\"ct\",\"nt\",\"tc\",\"nt\",\"nc\",\"cn\",\"nt\",\"nt\",\"nn\",\"tc\",\"nn\",\"nn\",\"nt\",\"tt\",\"cn\",\"cc\",\"tt\",\"cn\",\"cn\",\"nt\",\"nt\",\"tn\",\"nc\",\"nt\",\"tc\",\"nc\",\"tt\",\"cn\",\"cn\",\"cc\",\"ct\",\"tt\",\"tc\",\"nt\",\"tt\",\"cn\",\"nt\",\"ct\",\"tn\",\"tt\",\"ct\",\"cc\",\"tn\",\"tt\",\"nn\",\"tc\",\"nc\",\"nn\",\"cn\",\"nn\",\"tc\",\"nn\",\"nn\",\"tc\",\"nn\",\"cc\",\"ct\",\"nn\",\"tn\",\"nn\",\"tt\",\"nc\",\"tt\",\"ct\",\"tt\",\"nn\",\"tn\",\"nt\",\"cn\",\"tt\",\"cn\",\"cc\",\"tt\",\"cc\",\"nn\",\"ct\",\"tc\",\"tc\",\"tc\",\"tc\",\"cn\",\"nt\",\"cn\",\"nt\",\"nt\",\"tn\",\"nn\",\"ct\",\"nc\",\"cn\",\"nn\",\"nt\",\"tt\",\"cn\",\"cn\",\"nt\",\"tn\",\"nc\",\"tn\",\"tn\",\"nt\",\"tn\",\"nc\",\"cn\",\"cc\",\"tt\",\"ct\",\"cn\",\"nt\",\"tc\",\"nn\",\"nc\",\"tn\",\"tc\",\"tt\",\"nc\",\"tc\",\"nt\",\"cn\",\"tt\",\"cn\",\"tt\",\"cn\",\"nn\",\"cn\",\"tn\",\"ct\",\"tc\",\"nn\",\"tn\",\"ct\",\"ct\",\"tn\",\"ct\",\"nt\",\"nt\",\"cc\",\"nc\",\"tn\",\"nt\",\"tc\",\"tc\",\"nn\",\"ct\",\"nn\",\"tc\",\"tn\",\"tt\",\"tt\",\"tt\",\"nt\",\"cc\",\"tn\",\"cn\",\"ct\",\"tc\",\"cc\",\"tn\",\"tt\",\"tn\",\"ct\",\"nt\",\"nt\",\"cn\",\"nc\",\"ct\",\"tc\",\"tt\",\"tc\",\"ct\",\"cn\",\"ct\",\"cc\",\"nn\",\"nc\",\"tn\",\"nt\",\"cn\",\"nn\",\"nn\",\"nn\",\"nn\",\"nn\",\"cc\",\"nt\",\"tn\",\"cn\",\"tt\",\"ct\",\"tn\",\"nt\",\"nc\",\"tn\",\"nn\",\"tt\",\"nc\",\"tt\",\"cc\",\"nc\",\"nc\",\"ct\",\"nn\",\"cn\",\"nn\",\"tc\",\"ct\",\"cn\",\"nn\",\"nn\",\"nc\",\"tt\",\"ct\",\"ct\",\"tn\",\"tc\",\"tt\",\"cn\",\"nt\",\"nn\",\"cn\",\"cc\",\"ct\",\"ct\",\"tn\",\"cc\",\"cn\",\"nn\",\"tc\",\"cn\",\"ct\",\"tt\",\"tn\",\"cc\",\"nc\",\"cn\",\"cn\",\"nt\",\"nc\",\"tc\",\"nt\",\"cn\",\"nt\",\"nc\",\"nt\",\"cn\",\"tc\",\"cn\",\"nn\",\"nt\",\"tn\",\"nt\",\"tc\",\"cn\",\"nc\",\"nt\",\"tt\",\"cn\",\"tn\",\"nt\",\"tn\",\"nn\",\"nn\",\"tt\",\"ct\",\"cc\",\"ct\",\"tt\",\"cn\",\"cn\",\"cn\",\"nt\",\"nt\",\"tn\",\"tt\",\"cc\",\"tn\",\"cc\",\"tn\",\"nt\",\"cc\",\"tc\",\"cn\",\"nn\",\"tt\",\"ct\",\"tn\",\"tn\",\"cc\",\"nn\",\"tn\",\"nt\",\"cn\",\"tn\",\"nn\",\"tn\",\"nn\",\"cc\",\"cn\",\"tt\",\"tt\",\"nn\",\"tc\",\"nc\",\"cn\",\"nn\",\"tc\",\"ct\",\"tt\",\"cc\",\"tn\",\"cn\",\"cn\",\"nc\",\"tt\",\"nc\",\"nt\",\"cn\",\"ct\",\"cn\",\"tn\",\"cc\",\"tt\",\"nn\",\"nc\",\"tc\",\"cn\",\"nt\",\"nc\",\"nt\",\"nt\",\"tc\",\"nt\",\"tt\",\"cn\",\"ct\",\"nt\",\"ct\",\"tn\",\"tn\",\"tn\",\"ct\",\"tc\",\"nn\",\"nt\",\"ct\",\"nn\",\"nt\",\"cc\",\"tn\",\"ct\",\"ct\",\"nc\",\"tt\",\"tn\",\"nn\",\"cc\",\"nt\",\"cc\",\"cc\",\"nt\",\"nc\",\"tt\",\"tc\",\"nt\",\"tt\",\"tt\",\"cn\",\"tt\",\"nn\",\"tn\",\"cc\",\"nn\",\"nt\",\"nn\",\"ct\",\"nt\",\"tn\",\"tc\",\"tt\",\"nt\",\"tt\",\"tt\",\"ct\",\"ct\",\"tn\",\"cn\",\"nc\",\"cc\",\"nc\",\"nc\",\"cn\",\"cn\",\"nc\",\"tn\",\"tn\",\"cc\",\"nn\",\"nn\",\"cc\",\"nc\",\"tn\",\"tn\",\"tt\",\"nt\",\"cc\",\"tt\",\"tn\",\"cn\",\"ct\",\"ct\",\"tn\",\"ct\",\"cc\",\"tn\",\"nn\",\"ct\",\"nt\",\"ct\",\"nn\",\"tt\",\"tn\",\"cn\",\"nn\",\"nt\",\"cn\",\"nn\",\"ct\",\"ct\",\"cc\",\"cn\",\"ct\",\"cn\",\"cc\",\"tc\",\"nt\",\"nt\",\"nn\",\"nt\",\"tc\",\"cn\",\"nc\",\"cn\",\"ct\",\"nc\",\"nc\",\"nt\",\"tc\",\"cn\",\"nn\",\"nt\",\"nc\",\"tt\",\"tc\",\"tn\",\"nn\",\"nc\",\"cc\",\"tc\",\"tt\",\"cn\",\"cn\",\"tn\",\"cc\",\"tn\",\"ct\",\"nt\",\"cc\",\"tc\",\"ct\",\"nc\",\"nt\",\"nc\",\"nn\",\"nc\",\"tt\",\"tn\",\"ct\",\"cc\",\"nc\",\"cn\",\"nc\",\"ct\",\"ct\",\"cn\",\"nc\",\"tc\",\"tn\",\"tc\",\"cn\",\"cc\",\"cc\",\"nt\",\"tn\",\"cc\",\"cc\",\"cn\",\"ct\",\"tc\",\"cc\",\"tn\",\"tt\",\"cn\",\"cc\",\"tt\",\"cn\",\"ct\",\"nt\",\"tn\",\"tt\",\"cc\",\"tt\",\"cn\",\"cc\",\"nt\",\"cn\",\"nt\",\"ct\",\"tn\"]\n",
    "# words = [\"ar\",\"pz\",\"zp\",\"zr\",\"ai\",\"zs\",\"pa\",\"zi\",\"ri\",\"si\",\"ir\",\"rs\",\"kk\",\"rs\",\"ra\",\"pa\",\"as\",\"pi\",\"sr\",\"ar\",\"ps\",\"zs\",\"sr\",\"ip\",\"zi\",\"za\",\"ar\",\"zs\",\"ap\",\"si\",\"pi\",\"pr\",\"as\",\"ai\",\"sa\",\"pi\",\"pr\",\"rs\",\"ap\",\"ir\",\"rz\",\"as\",\"vv\",\"rs\",\"pi\",\"si\",\"pa\",\"pz\",\"qq\",\"sa\",\"pz\",\"sp\",\"rz\",\"ps\",\"ee\",\"ap\",\"ps\",\"rz\",\"pr\",\"pi\",\"zs\",\"az\",\"zp\",\"zi\",\"zi\",\"ai\",\"ip\",\"iz\",\"sr\",\"ai\",\"pa\",\"zp\",\"rs\",\"rz\",\"sp\",\"sz\",\"pr\",\"sr\",\"ra\",\"ip\",\"si\",\"zi\",\"sr\",\"az\",\"pi\",\"pi\",\"zp\",\"ii\",\"rp\",\"zs\",\"za\",\"pz\",\"za\",\"ra\",\"ri\",\"si\",\"pi\",\"as\",\"ar\",\"is\",\"ri\",\"ap\",\"pa\",\"ir\",\"iz\",\"zp\",\"ra\",\"as\",\"ai\",\"pz\",\"is\",\"is\",\"ri\",\"az\",\"sp\",\"si\",\"ir\",\"si\",\"zs\",\"ip\",\"sp\",\"zs\",\"zp\",\"ap\",\"sz\",\"ap\",\"sa\",\"rs\",\"pz\",\"zs\",\"si\",\"pr\",\"az\",\"zp\",\"zr\",\"sz\",\"ar\",\"ri\",\"zr\",\"sz\",\"rz\",\"rp\",\"az\",\"rp\",\"si\",\"pi\",\"ap\",\"ar\",\"rz\",\"pz\",\"zs\",\"ai\",\"zp\",\"si\",\"is\",\"sa\",\"ri\",\"ai\",\"si\",\"pa\",\"iz\",\"za\",\"sr\",\"zp\",\"rp\",\"ia\",\"ap\",\"rs\",\"ip\",\"sp\",\"as\",\"iz\",\"is\",\"kk\",\"pr\",\"rp\",\"pr\",\"si\",\"zi\",\"ip\",\"ai\",\"za\",\"rp\",\"ia\",\"pz\",\"sz\",\"as\",\"ia\",\"rs\",\"sz\",\"ir\",\"ps\",\"zp\",\"ps\",\"sp\",\"sa\",\"pr\",\"ip\",\"zi\",\"ps\"]\n",
    "\n",
    "longestPalindrome_s(words)\n",
    "    "
   ]
  },
  {
   "cell_type": "code",
   "execution_count": null,
   "id": "f6c0c1e8",
   "metadata": {},
   "outputs": [],
   "source": [
    "\n",
    "\n",
    "\n",
    "\n"
   ]
  }
 ],
 "metadata": {
  "kernelspec": {
   "display_name": "Python 3",
   "language": "python",
   "name": "python3"
  },
  "language_info": {
   "codemirror_mode": {
    "name": "ipython",
    "version": 3
   },
   "file_extension": ".py",
   "mimetype": "text/x-python",
   "name": "python",
   "nbconvert_exporter": "python",
   "pygments_lexer": "ipython3",
   "version": "3.6.9"
  }
 },
 "nbformat": 4,
 "nbformat_minor": 5
}
