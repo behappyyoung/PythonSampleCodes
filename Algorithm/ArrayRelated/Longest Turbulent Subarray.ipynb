{
 "cells": [
  {
   "cell_type": "code",
   "execution_count": 18,
   "id": "6350f377",
   "metadata": {},
   "outputs": [],
   "source": [
    "\"\"\"\n",
    "For i <= k < j:\n",
    "arr[k] > arr[k + 1] when k is odd, and\n",
    "arr[k] < arr[k + 1] when k is even.\n",
    "Or, for i <= k < j:\n",
    "arr[k] > arr[k + 1] when k is even, and\n",
    "arr[k] < arr[k + 1] when k is odd.\n",
    "\n",
    "Input: arr = [9,4,2,10,7,8,8,1,9]\n",
    "Output: 5\n",
    "Explanation: arr[1] > arr[2] < arr[3] > arr[4] < arr[5]\n",
    "\n",
    "[9,4,2,10,7,8,8,1,9]\n",
    "5\n",
    "\n",
    "\"\"\"\n",
    "\n",
    "def maxTurbulenceSize(arr):\n",
    "    l = len(arr)\n",
    "    if l <= 1:\n",
    "        return 1\n",
    "    \n",
    "    if arr[0] < arr[1]: # bigger than previous\n",
    "            less = False\n",
    "            more = True\n",
    "            less_count = 1\n",
    "            more_count = 2\n",
    "    elif arr[0] > arr[1]:\n",
    "            less = True\n",
    "            more = False\n",
    "            less_count = 2\n",
    "            more_count = 1\n",
    "    else:# same\n",
    "        less = False\n",
    "        more = False\n",
    "        less_count = 1\n",
    "        more_count = 1\n",
    "    \n",
    "    max_length = max(more_count, less_count)\n",
    "    for i in range(2, l):\n",
    "        if arr[i-1] < arr[i]: # bigger than previous\n",
    "            if less: # previous was smaller than prev-prev\n",
    "                less_count += 1\n",
    "                more_count += 1\n",
    "            else:  # previous was bigger than prev-prev or equal\n",
    "                more_count = 2\n",
    "                less_count = 1\n",
    "            \n",
    "            less = False\n",
    "            more = True\n",
    "            \n",
    "        elif arr[i-1] > arr[i]:  # smaller than previous\n",
    "            \n",
    "            if more: # previous was bigger than prev-perv\n",
    "                more_count += 1\n",
    "                less_count += 1\n",
    "            else: #  previous was smaller than prev-perv or equal\n",
    "                more_count = 1\n",
    "                less_count = 2\n",
    "            \n",
    "            less = True\n",
    "            more = False\n",
    "        else:\n",
    "            less_count = 1\n",
    "            more_count = 1\n",
    "            less = False\n",
    "            more = False\n",
    "        \n",
    "        print(i, more_count, less_count)\n",
    "                \n",
    "        max_length = max(max_length, more_count, less_count)\n",
    "        \n",
    "    return max_length\n"
   ]
  },
  {
   "cell_type": "code",
   "execution_count": 19,
   "id": "0ad48d1e",
   "metadata": {},
   "outputs": [
    {
     "name": "stdout",
     "output_type": "stream",
     "text": [
      "2 1 2\n",
      "3 2 3\n",
      "4 3 4\n",
      "5 4 5\n",
      "6 1 1\n",
      "7 1 2\n",
      "8 2 3\n",
      "5\n"
     ]
    }
   ],
   "source": [
    "a = [9,4,2,10,7,8,8,1,9]\n",
    "# a =[100, 100, 100]\n",
    "m = maxTurbulenceSize(a)\n",
    "print(m)"
   ]
  }
 ],
 "metadata": {
  "kernelspec": {
   "display_name": "Python 3",
   "language": "python",
   "name": "python3"
  },
  "language_info": {
   "codemirror_mode": {
    "name": "ipython",
    "version": 3
   },
   "file_extension": ".py",
   "mimetype": "text/x-python",
   "name": "python",
   "nbconvert_exporter": "python",
   "pygments_lexer": "ipython3",
   "version": "3.6.9"
  }
 },
 "nbformat": 4,
 "nbformat_minor": 5
}
