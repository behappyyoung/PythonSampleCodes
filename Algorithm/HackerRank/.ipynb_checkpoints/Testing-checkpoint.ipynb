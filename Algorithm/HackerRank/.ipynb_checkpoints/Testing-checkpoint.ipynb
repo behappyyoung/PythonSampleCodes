{
 "cells": [
  {
   "cell_type": "code",
   "execution_count": 20,
   "id": "203d941f",
   "metadata": {},
   "outputs": [],
   "source": [
    "primary = 'ATCATC'\n",
    "secondary = 'ATCATCATCATC'"
   ]
  },
  {
   "cell_type": "code",
   "execution_count": 42,
   "id": "1501b3a2",
   "metadata": {},
   "outputs": [
    {
     "name": "stdout",
     "output_type": "stream",
     "text": [
      "A ATCDATC\n",
      "AT ATCDATC\n",
      "ATC ATCDATC\n"
     ]
    },
    {
     "data": {
      "text/plain": [
       "'ATCDATC'"
      ]
     },
     "execution_count": 42,
     "metadata": {},
     "output_type": "execute_result"
    }
   ],
   "source": [
    "\n",
    "def is_repeat(subs, prims):\n",
    "        for i in range(0, len(prims), len(subs)):\n",
    "            if prims[i:i+len(subs)] != subs:\n",
    "                return False\n",
    "        return True    \n",
    "    \n",
    "def myf(primary, secondary):\n",
    "    l_primary = len(primary)\n",
    "    l_secondary = len(secondary)\n",
    "    \n",
    "    if l_secondary % l_primary != 0:\n",
    "        return l_secondary\n",
    "    \n",
    "    init_repeat = ''\n",
    "    for i in range(l_primary):\n",
    "        if primary[i] == secondary[i]:            \n",
    "            init_repeat += primary[i]\n",
    "        else:   # no matching\n",
    "            return l_secondary\n",
    "    \n",
    "    l_repeat = len(init_repeat)\n",
    "    matching_count = 0\n",
    "    for i in range(0, l_secondary, l_repeat):\n",
    "        if init_repeat == secondary[i:i+l_repeat]:\n",
    "            matching_count += 1\n",
    "        else:  # no repeat\n",
    "            return l_secondary\n",
    "\n",
    "    for i in range(1, int(l_primary/2)+1):\n",
    "        if is_repeat(primary[:i], primary):\n",
    "            return i\n",
    "\n",
    "    return primary\n",
    "\n",
    "        \n",
    "  \n",
    "\n",
    "\n",
    "myf('ATCDATC', 'ATCDATCATCDATC')\n"
   ]
  },
  {
   "cell_type": "code",
   "execution_count": 22,
   "id": "7b5ff19d",
   "metadata": {},
   "outputs": [
    {
     "name": "stdout",
     "output_type": "stream",
     "text": [
      "False\n"
     ]
    }
   ],
   "source": [
    "find_inner = (primary == secondary)\n",
    "print(find_inner)"
   ]
  },
  {
   "cell_type": "code",
   "execution_count": 16,
   "id": "55573c34",
   "metadata": {},
   "outputs": [],
   "source": [
    "def myfunction(*input):\n",
    "    print(input)\n",
    "    return input\n",
    "        "
   ]
  },
  {
   "cell_type": "code",
   "execution_count": 17,
   "id": "d307e6be",
   "metadata": {},
   "outputs": [
    {
     "name": "stdout",
     "output_type": "stream",
     "text": [
      "(1, 2, 3)\n"
     ]
    },
    {
     "data": {
      "text/plain": [
       "(1, 2, 3)"
      ]
     },
     "execution_count": 17,
     "metadata": {},
     "output_type": "execute_result"
    }
   ],
   "source": [
    "myfunction(*[1,2,3])"
   ]
  }
 ],
 "metadata": {
  "kernelspec": {
   "display_name": "Python 3",
   "language": "python",
   "name": "python3"
  },
  "language_info": {
   "codemirror_mode": {
    "name": "ipython",
    "version": 3
   },
   "file_extension": ".py",
   "mimetype": "text/x-python",
   "name": "python",
   "nbconvert_exporter": "python",
   "pygments_lexer": "ipython3",
   "version": "3.6.9"
  }
 },
 "nbformat": 4,
 "nbformat_minor": 5
}
