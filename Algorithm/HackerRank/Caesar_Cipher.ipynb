{
 "cells": [
  {
   "cell_type": "code",
   "execution_count": 1,
   "id": "bcdfa7a9",
   "metadata": {},
   "outputs": [],
   "source": [
    "\"\"\"\n",
    "11\n",
    "middle-Outz\n",
    "2\n",
    "==> okffng-Qwvb\n",
    "Original alphabet:      abcdefghijklmnopqrstuvwxyz\n",
    "Alphabet rotated +2:    cdefghijklmnopqrstuvwxyzab\n",
    "\n",
    "\"\"\"\n",
    "n = 11\n",
    "s = \"middle-Outz\"\n",
    "k = 2"
   ]
  },
  {
   "cell_type": "code",
   "execution_count": 10,
   "id": "192cd4a2",
   "metadata": {},
   "outputs": [
    {
     "name": "stdout",
     "output_type": "stream",
     "text": [
      "{'a': 'c', 'b': 'd', 'c': 'e', 'd': 'f', 'e': 'g', 'f': 'h', 'g': 'i', 'h': 'j', 'i': 'k', 'j': 'l', 'k': 'm', 'l': 'n', 'm': 'o', 'n': 'p', 'o': 'q', 'p': 'r', 'q': 's', 'r': 't', 's': 'u', 't': 'v', 'u': 'w', 'v': 'x', 'w': 'y', 'x': 'z', 'y': 'a', 'z': 'b'}\n",
      "m\n",
      "i\n",
      "d\n",
      "d\n",
      "l\n",
      "e\n",
      "-\n",
      "O\n",
      "u\n",
      "t\n",
      "z\n",
      "okffng-Owvb\n"
     ]
    }
   ],
   "source": [
    "def caesarCipher(s, k):\n",
    "    a = \"abcdefghijklmnopqrstuvwxyz\"\n",
    "    cipher_dict = {}\n",
    "    \n",
    "    for i in range(len(a)):\n",
    "        c = i+k if i+k < len(a) else i+k-len(a)\n",
    "        cipher_dict[a[i]] = a[c]\n",
    "    \n",
    "    print(cipher_dict)\n",
    "    r_a = ''\n",
    "    for i in range(len(s)):\n",
    "        print(s[i])\n",
    "        if s[i] in cipher_dict:\n",
    "            r_a += cipher_dict.get(s[i])\n",
    "        else:\n",
    "            r_a += s[i]\n",
    "    return r_a\n",
    "\n",
    "ans = caesarCipher(s, k)\n",
    "print(ans)"
   ]
  }
 ],
 "metadata": {
  "kernelspec": {
   "display_name": "Python 3",
   "language": "python",
   "name": "python3"
  },
  "language_info": {
   "codemirror_mode": {
    "name": "ipython",
    "version": 3
   },
   "file_extension": ".py",
   "mimetype": "text/x-python",
   "name": "python",
   "nbconvert_exporter": "python",
   "pygments_lexer": "ipython3",
   "version": "3.6.9"
  }
 },
 "nbformat": 4,
 "nbformat_minor": 5
}
