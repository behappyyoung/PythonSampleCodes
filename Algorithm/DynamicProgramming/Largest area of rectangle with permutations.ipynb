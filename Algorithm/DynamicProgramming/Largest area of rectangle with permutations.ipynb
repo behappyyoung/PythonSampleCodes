{
 "cells": [
  {
   "cell_type": "code",
   "execution_count": 22,
   "metadata": {},
   "outputs": [
    {
     "name": "stdout",
     "output_type": "stream",
     "text": [
      "[2] [2, 2, 0]\n",
      "4\n"
     ]
    }
   ],
   "source": [
    "\"\"\"\n",
    "Largest area of rectangle with permutations\n",
    "\n",
    "Given a binary grid i.e. a 2D grid only consisting of 0’s and 1’s, \n",
    "find the area of the largest rectangle inside the grid such that all the cells inside the chosen rectangle should have 1 in them. You are allowed to permutate the columns matrix \n",
    "i.e. you can arrange each of the column in any order in the final grid\n",
    "\n",
    "1 0 1\n",
    "\n",
    "0 1 0\n",
    "\n",
    "1 0 0\n",
    "\n",
    "At present we can see that max rectangle satisfying the criteria mentioned in the problem is of 1 * 1 = 1 area \n",
    "\n",
    "1 1 0\n",
    "\n",
    "0 0 1\n",
    "\n",
    "1 0 0\n",
    "\n",
    "we get max area as 1 * 2 = 2 which is bigger than the earlier case. \n",
    "Hence 2 will be the answer in this case.\n",
    "\n",
    "\n",
    "\"\"\"\n",
    "\n",
    "def mrect(A):\n",
    "    if not A or not A[0]:\n",
    "        return 0\n",
    "    \n",
    "    ones = [sum(i) if max(i)==1 else 0 for i in A]\n",
    "    l = len(ones)\n",
    "    stack = [0]\n",
    "    max_l = 0\n",
    "    for i in range(1, l):\n",
    "        if ones[stack[-1]] <= ones[i]:\n",
    "            stack.append(i)\n",
    "        else:\n",
    "            while stack and ones[stack[-1]] >= ones[i]:\n",
    "                last_s = stack.pop()\n",
    "                if stack:\n",
    "                    c_l = (last_s + 1 - stack[-1] )*ones[last_s]\n",
    "                else:\n",
    "                    c_l = (last_s +1 )*ones[last_s]\n",
    "                    \n",
    "                max_l = max(c_l, max_l)\n",
    "            stack.append(i)\n",
    "    print(stack, ones)\n",
    "    while stack:\n",
    "        last_s = stack.pop()\n",
    "        if stack:\n",
    "            c_l = (l - stack[-1] )*ones[last_s]\n",
    "        else:\n",
    "            c_l = l *ones[last_s]\n",
    "        max_l = max(c_l, max_l)\n",
    "    return max_l\n",
    "\n",
    "a = [[0,1,1], [1, 0, 1]]\n",
    "a=[[]]\n",
    "a=[[1, 0, 1,],\n",
    "[1, 0, 1],\n",
    "[1, 0, 1]]\n",
    "\n",
    "a=[[1, 0, 1,],\n",
    "[1, 0, 1],\n",
    "[1, 0, 4]]\n",
    "print(mrect(a))\n"
   ]
  },
  {
   "cell_type": "code",
   "execution_count": 54,
   "metadata": {},
   "outputs": [
    {
     "name": "stdout",
     "output_type": "stream",
     "text": [
      "[(4, 0, 0), (4, 0, 1), (4, 1, 1), (5, 1, 2), (6, 1, 0), (9, 0, 2)] [0, 1] [0, 1] [(0, 0), (1, 1)]\n"
     ]
    }
   ],
   "source": [
    "bike = [[5, 0], [4, 1], [7, 3]]\n",
    "rider = [[1, 0], [3,4]]\n",
    "distance = []\n",
    "for a, (xa,ya) in enumerate(rider):\n",
    "    for b, (xb, yb) in enumerate(bike):\n",
    "        distance.append((abs(xa-xb)+abs(ya-yb), a,b))\n",
    "distance.sort()\n",
    "tb = []\n",
    "tr = []\n",
    "for d,r, b in distance:\n",
    "    if len(tr) < len(rider):\n",
    "        if r not in tr and b not in tb:\n",
    "            tr.append(r)\n",
    "            tb.append(b)\n",
    "    else:\n",
    "        break\n",
    "\n",
    "print(distance, tb, tr, list(zip(tb, tr)))"
   ]
  },
  {
   "cell_type": "code",
   "execution_count": 53,
   "metadata": {},
   "outputs": [
    {
     "name": "stdout",
     "output_type": "stream",
     "text": [
      "4 0 0\n",
      "4 0 1\n",
      "4 1 1\n",
      "5 1 2\n",
      "6 1 0\n",
      "9 0 2\n"
     ]
    }
   ],
   "source": [
    "for d, r, b in distance:\n",
    "    print(d, r, b)"
   ]
  },
  {
   "cell_type": "code",
   "execution_count": null,
   "metadata": {},
   "outputs": [],
   "source": []
  }
 ],
 "metadata": {
  "kernelspec": {
   "display_name": "Python 3",
   "language": "python",
   "name": "python3"
  },
  "language_info": {
   "codemirror_mode": {
    "name": "ipython",
    "version": 3
   },
   "file_extension": ".py",
   "mimetype": "text/x-python",
   "name": "python",
   "nbconvert_exporter": "python",
   "pygments_lexer": "ipython3",
   "version": "3.7.5"
  }
 },
 "nbformat": 4,
 "nbformat_minor": 2
}
