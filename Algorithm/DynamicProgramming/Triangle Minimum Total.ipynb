{
 "cells": [
  {
   "cell_type": "code",
   "execution_count": 53,
   "id": "b7c23eef",
   "metadata": {},
   "outputs": [
    {
     "name": "stdout",
     "output_type": "stream",
     "text": [
      "[[-7], [-9, -6], [-14, -14, 3], [-18, -19, -10, 7], [-24, -25, -17, -11, 2], [-21, -18, -17, -20, -4, -7], [-30, -22, -27, -14, -11, -7, 0], [-37, -30, -33, -35, -7, -10, -11, 9], [-40, -35, -39, -44, -42, -16, -20, -7, 9], [-48, -46, -42, -53, -46, -48, -13, -25, -7, 16], [-57, -49, -48, -49, -55, -44, -44, -26, -23, -12, 21], [-56, -56, -55, -48, -57, -59, -40, -46, -20, -29, -12, 27], [-59, -59, -62, -57, -63, -61, -52, -55, -51, -36, -34, -7, 28]]\n"
     ]
    },
    {
     "data": {
      "text/plain": [
       "-63"
      ]
     },
     "execution_count": 53,
     "metadata": {},
     "output_type": "execute_result"
    }
   ],
   "source": [
    "\"\"\"\n",
    "https://leetcode.com/problems/triangle/\n",
    "\n",
    "Given a triangle array, return the minimum path sum from top to bottom.\n",
    "\n",
    "For each step, you may move to an adjacent number of the row below. \n",
    "More formally, \n",
    "if you are on index i on the current row, you may move to either index i or index i + 1 on the next row.\n",
    "\n",
    "Triangle minimum total\n",
    "\n",
    "nput: triangle = [[2],[3,4],[6,5,7],[4,1,8,3]]\n",
    "Output: 11\n",
    "Explanation: The triangle looks like:\n",
    "   2\n",
    "  3 4\n",
    " 6 5 7\n",
    "4 1 8 3\n",
    "The minimum path sum from top to bottom is 2 + 3 + 5 + 1 = 11 \n",
    "\n",
    "dp \n",
    "             2\n",
    "        (5 6) (5 6)    \n",
    "  (11, 10) (10, 11) (11, 13)\n",
    "\n",
    "\"\"\"\n",
    "def minimumTotal(triangle):\n",
    "    if not triangle:\n",
    "        return triangle\n",
    "    \n",
    "    lr = len(triangle)\n",
    "    \n",
    "    total_min = triangle[0][0]\n",
    "    # setup DP\n",
    "    dp = [[0] * (i+1) for i in range(lr)]\n",
    "    dp[0] = [total_min]\n",
    "    \n",
    "    for r in range(1, lr):\n",
    "        current_row = triangle[r]\n",
    "        for j in range(len(current_row)):\n",
    "            if j == 0:\n",
    "                dp[r][0] = dp[r-1][0] + current_row[j]\n",
    "            elif j == len(current_row)-1:\n",
    "                dp[r][j] = dp[r-1][j-1] + current_row[j]\n",
    "            else:\n",
    "                dp[r][j] = min(dp[r-1][j-1] + current_row[j], dp[r-1][j] + current_row[j])\n",
    "                \n",
    "            \n",
    "    print(dp)\n",
    "    total_min = min(dp[-1])\n",
    "    return total_min\n",
    "\n",
    "triangle = [[2],[3,4],[6,5,7],[4,1,8,3]] #11\n",
    "# triangle = [[2],[3,4],[6,5,9],[4,4,8,0]] #14\n",
    "# triangle = [[-1],[3,2],[-3,1,-1]] #-1\n",
    "triangle = [[-7],\n",
    "            [-2,1],\n",
    "            [-5,-5,9],\n",
    "            [-4,-5,4,4],\n",
    "            [-6,-6,2,-1,-5],\n",
    "            [3,7,8,-3,7,-9],\n",
    "            [-9,-1,-9,6,9,0,7],\n",
    "            [-7,0,-6,-8,7,1,-4,9],\n",
    "            [-3,2,-6,-9,-7,-6,-9,4,0],\n",
    "            [-8,-6,-3,-9,-2,-6,7,-5,0,7],\n",
    "            [-9,-1,-2,4,-2,4,4,-1,2,-5,5],\n",
    "            [1,1,-6,1,-2,-4,4,-2,6,-6,0,6],\n",
    "            [-3,-3,-6,-2,-6,-2,7,-9,-5,-7,-5,5,1]]\n",
    "#-63\n",
    "minimumTotal(triangle)"
   ]
  },
  {
   "cell_type": "code",
   "execution_count": 12,
   "id": "f4d146e8",
   "metadata": {},
   "outputs": [
    {
     "name": "stdout",
     "output_type": "stream",
     "text": [
      "[0, 0]\n"
     ]
    }
   ],
   "source": [
    "dp = [0] * (1 or 1) *2\n",
    "print(dp)"
   ]
  }
 ],
 "metadata": {
  "kernelspec": {
   "display_name": "Python 3",
   "language": "python",
   "name": "python3"
  },
  "language_info": {
   "codemirror_mode": {
    "name": "ipython",
    "version": 3
   },
   "file_extension": ".py",
   "mimetype": "text/x-python",
   "name": "python",
   "nbconvert_exporter": "python",
   "pygments_lexer": "ipython3",
   "version": "3.6.9"
  }
 },
 "nbformat": 4,
 "nbformat_minor": 5
}
