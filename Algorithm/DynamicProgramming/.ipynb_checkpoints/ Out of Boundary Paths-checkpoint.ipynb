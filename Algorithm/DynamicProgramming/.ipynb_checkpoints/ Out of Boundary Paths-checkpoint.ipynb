{
 "cells": [
  {
   "cell_type": "code",
   "execution_count": null,
   "id": "199f5f36",
   "metadata": {},
   "outputs": [],
   "source": [
    "\"\"\"\n",
    "1 <= m, n <= 50\n",
    "0 <= maxMove <= 50\n",
    "0 <= startRow < m\n",
    "0 <= startColumn < n\n",
    "\"\"\"\n",
    "\"\"\"\n",
    "\n",
    "x 0\n",
    "0 0  \n",
    "   \n",
    "\"\"\"\n"
   ]
  },
  {
   "cell_type": "code",
   "execution_count": 47,
   "id": "f760aeff",
   "metadata": {},
   "outputs": [
    {
     "data": {
      "text/plain": [
       "102984580"
      ]
     },
     "execution_count": 47,
     "metadata": {},
     "output_type": "execute_result"
    }
   ],
   "source": [
    "visited = dict()\n",
    "\n",
    "def findPaths(m, n, maxMove, startRow, startColumn):\n",
    "    if (startRow, startColumn, maxMove) in visited:\n",
    "#         print(f'visted ({startRow}, {startColumn}, {maxMove})')\n",
    "        return visited[(startRow, startColumn, maxMove)]\n",
    "#     else:\n",
    "#        \n",
    "        \n",
    "    if maxMove <=0:\n",
    "        return 0\n",
    "    \n",
    "    max_way = 0\n",
    "    move_dict = dict()\n",
    "    moved = 0\n",
    "    currentRow, currentColumn = startRow, startColumn\n",
    "\n",
    "    if currentRow -1 < 0:\n",
    "            max_way += 1\n",
    "    else:\n",
    "            max_way += findPaths(m, n, maxMove-1, currentRow -1, currentColumn)\n",
    "            \n",
    "    if currentRow+1 >= m:\n",
    "            max_way += 1\n",
    "    else:\n",
    "            max_way += findPaths(m, n, maxMove-1, currentRow + 1, currentColumn)\n",
    "            \n",
    "    if currentColumn -1 < 0:\n",
    "            max_way += 1\n",
    "    else:\n",
    "            max_way += findPaths(m, n, maxMove-1, currentRow, currentColumn -1)\n",
    "            \n",
    "        \n",
    "    if currentColumn + 1 >= n:\n",
    "            max_way += 1\n",
    "    else:\n",
    "            max_way += findPaths(m, n, maxMove-1, currentRow, currentColumn +1)\n",
    "            \n",
    "#     print(maxMove, startRow, startColumn, max_way, visited)\n",
    "    visited[(startRow, startColumn, maxMove)] = max_way\n",
    "    return max_way\n",
    "    \n",
    "\n",
    "m = 2 \n",
    "n = 2 \n",
    "maxMove = 2 \n",
    "startRow = 0 \n",
    "startColumn = 0\n",
    "# Output: 6 \n",
    "# m, n, maxMove, startRow, startColumn = 1, 3, 3, 0, 1\n",
    "# Output: 12\n",
    "\n",
    "m, n, maxMove, startRow, startColumn = 8,7,16,1,5\n",
    "findPaths(m, n, maxMove, startRow, startColumn)\n"
   ]
  },
  {
   "cell_type": "code",
   "execution_count": 83,
   "id": "b7700e71",
   "metadata": {},
   "outputs": [
    {
     "name": "stdout",
     "output_type": "stream",
     "text": [
      "[[0, 0, 0, 0, 0], [0, 0, 0, 0, 0], [0, 0, 0, 0, 0]]\n",
      "2 [[0, 0, 0, 0, 0], [0, 3, 2, 3, 0], [0, 0, 0, 0, 0]]\n",
      "2 1 1 0 2 0 0\n"
     ]
    },
    {
     "ename": "IndexError",
     "evalue": "list index out of range",
     "output_type": "error",
     "traceback": [
      "\u001b[0;31m---------------------------------------------------------------------------\u001b[0m",
      "\u001b[0;31mIndexError\u001b[0m                                Traceback (most recent call last)",
      "\u001b[0;32m<ipython-input-83-18683b26311f>\u001b[0m in \u001b[0;36m<module>\u001b[0;34m\u001b[0m\n\u001b[1;32m     40\u001b[0m \u001b[0;34m\u001b[0m\u001b[0m\n\u001b[1;32m     41\u001b[0m \u001b[0;31m# m, n, maxMove, startRow, startColumn = 8,7,16,1,5\u001b[0m\u001b[0;34m\u001b[0m\u001b[0;34m\u001b[0m\u001b[0;34m\u001b[0m\u001b[0m\n\u001b[0;32m---> 42\u001b[0;31m \u001b[0mfindPaths_dp\u001b[0m\u001b[0;34m(\u001b[0m\u001b[0mm\u001b[0m\u001b[0;34m,\u001b[0m \u001b[0mn\u001b[0m\u001b[0;34m,\u001b[0m \u001b[0mmaxMove\u001b[0m\u001b[0;34m,\u001b[0m \u001b[0mstartRow\u001b[0m\u001b[0;34m,\u001b[0m \u001b[0mstartColumn\u001b[0m\u001b[0;34m)\u001b[0m\u001b[0;34m\u001b[0m\u001b[0;34m\u001b[0m\u001b[0m\n\u001b[0m",
      "\u001b[0;32m<ipython-input-83-18683b26311f>\u001b[0m in \u001b[0;36mfindPaths_dp\u001b[0;34m(m, n, maxMove, startRow, startColumn)\u001b[0m\n\u001b[1;32m     26\u001b[0m             \u001b[0;32mfor\u001b[0m \u001b[0mj\u001b[0m \u001b[0;32min\u001b[0m \u001b[0mrange\u001b[0m\u001b[0;34m(\u001b[0m\u001b[0;36m1\u001b[0m\u001b[0;34m,\u001b[0m \u001b[0mn\u001b[0m\u001b[0;34m+\u001b[0m\u001b[0;36m1\u001b[0m\u001b[0;34m)\u001b[0m\u001b[0;34m:\u001b[0m\u001b[0;34m\u001b[0m\u001b[0;34m\u001b[0m\u001b[0m\n\u001b[1;32m     27\u001b[0m                 \u001b[0mprint\u001b[0m\u001b[0;34m(\u001b[0m\u001b[0mmove\u001b[0m\u001b[0;34m,\u001b[0m \u001b[0mi\u001b[0m\u001b[0;34m,\u001b[0m \u001b[0mj\u001b[0m\u001b[0;34m,\u001b[0m \u001b[0mdp\u001b[0m\u001b[0;34m[\u001b[0m\u001b[0mi\u001b[0m\u001b[0;34m]\u001b[0m\u001b[0;34m[\u001b[0m\u001b[0mj\u001b[0m\u001b[0;34m-\u001b[0m\u001b[0;36m1\u001b[0m\u001b[0;34m]\u001b[0m\u001b[0;34m,\u001b[0m \u001b[0mdp\u001b[0m\u001b[0;34m[\u001b[0m\u001b[0mi\u001b[0m\u001b[0;34m]\u001b[0m\u001b[0;34m[\u001b[0m\u001b[0mj\u001b[0m\u001b[0;34m+\u001b[0m\u001b[0;36m1\u001b[0m\u001b[0;34m]\u001b[0m\u001b[0;34m,\u001b[0m \u001b[0mdp\u001b[0m\u001b[0;34m[\u001b[0m\u001b[0mi\u001b[0m\u001b[0;34m-\u001b[0m\u001b[0;36m1\u001b[0m\u001b[0;34m]\u001b[0m\u001b[0;34m[\u001b[0m\u001b[0mj\u001b[0m\u001b[0;34m]\u001b[0m\u001b[0;34m,\u001b[0m \u001b[0mdp\u001b[0m\u001b[0;34m[\u001b[0m\u001b[0mi\u001b[0m\u001b[0;34m+\u001b[0m\u001b[0;36m1\u001b[0m\u001b[0;34m]\u001b[0m\u001b[0;34m[\u001b[0m\u001b[0mj\u001b[0m\u001b[0;34m]\u001b[0m\u001b[0;34m)\u001b[0m\u001b[0;34m\u001b[0m\u001b[0;34m\u001b[0m\u001b[0m\n\u001b[0;32m---> 28\u001b[0;31m                 \u001b[0mdp\u001b[0m\u001b[0;34m[\u001b[0m\u001b[0mi\u001b[0m\u001b[0;34m+\u001b[0m\u001b[0;36m1\u001b[0m\u001b[0;34m]\u001b[0m\u001b[0;34m[\u001b[0m\u001b[0mj\u001b[0m\u001b[0;34m+\u001b[0m\u001b[0;36m1\u001b[0m\u001b[0;34m]\u001b[0m \u001b[0;34m=\u001b[0m \u001b[0mfirst_move\u001b[0m \u001b[0;34m+\u001b[0m \u001b[0mdp\u001b[0m\u001b[0;34m[\u001b[0m\u001b[0mi\u001b[0m\u001b[0;34m+\u001b[0m\u001b[0;36m1\u001b[0m\u001b[0;34m]\u001b[0m\u001b[0;34m[\u001b[0m\u001b[0mj\u001b[0m\u001b[0;34m]\u001b[0m \u001b[0;34m+\u001b[0m \u001b[0mdp\u001b[0m\u001b[0;34m[\u001b[0m\u001b[0mi\u001b[0m\u001b[0;34m+\u001b[0m\u001b[0;36m1\u001b[0m\u001b[0;34m]\u001b[0m\u001b[0;34m[\u001b[0m\u001b[0mj\u001b[0m\u001b[0;34m+\u001b[0m\u001b[0;36m2\u001b[0m\u001b[0;34m]\u001b[0m \u001b[0;34m+\u001b[0m \u001b[0mdp\u001b[0m\u001b[0;34m[\u001b[0m\u001b[0mi\u001b[0m\u001b[0;34m]\u001b[0m\u001b[0;34m[\u001b[0m\u001b[0mj\u001b[0m\u001b[0;34m+\u001b[0m\u001b[0;36m1\u001b[0m\u001b[0;34m]\u001b[0m \u001b[0;34m+\u001b[0m \u001b[0mdp\u001b[0m\u001b[0;34m[\u001b[0m\u001b[0mi\u001b[0m\u001b[0;34m+\u001b[0m\u001b[0;36m2\u001b[0m\u001b[0;34m]\u001b[0m\u001b[0;34m[\u001b[0m\u001b[0mj\u001b[0m\u001b[0;34m+\u001b[0m\u001b[0;36m1\u001b[0m\u001b[0;34m]\u001b[0m\u001b[0;34m\u001b[0m\u001b[0;34m\u001b[0m\u001b[0m\n\u001b[0m\u001b[1;32m     29\u001b[0m \u001b[0;34m\u001b[0m\u001b[0m\n\u001b[1;32m     30\u001b[0m     \u001b[0mprint\u001b[0m\u001b[0;34m(\u001b[0m\u001b[0mdp\u001b[0m\u001b[0;34m)\u001b[0m\u001b[0;34m\u001b[0m\u001b[0;34m\u001b[0m\u001b[0m\n",
      "\u001b[0;31mIndexError\u001b[0m: list index out of range"
     ]
    }
   ],
   "source": [
    "# dp\n",
    "def findPaths_dp(m, n, maxMove, startRow, startColumn):\n",
    "    if maxMove <=0:\n",
    "        return 0\n",
    "\n",
    "    dp = [[0 for j in range(n+2)] for i in range(m+2)]\n",
    "    print(dp)\n",
    "    #create init dp_array\n",
    "    for i in range(1, m+1):\n",
    "        \n",
    "        for j in range(1, n+1):\n",
    "            if i == 1:\n",
    "                dp[i][j] += 1\n",
    "            if i == m:\n",
    "                dp[i][j] += 1\n",
    "            if j == 1:\n",
    "                dp[i][j] += 1\n",
    "            if j == n:\n",
    "                dp[i][j] += 1\n",
    "\n",
    "    first_move = dp[startRow+1][startColumn+1]\n",
    "    print(first_move, dp)\n",
    "    for move in range(2, maxMove+1):\n",
    "        \n",
    "        for i in range(1, m+1):\n",
    "            for j in range(1, n+1):\n",
    "                print(move, i, j, dp[i][j-1], dp[i][j+1], dp[i-1][j], dp[i+1][j])\n",
    "                dp[i][j] = first_move + dp[i][j-1] + dp[i][j+1] + dp[i-1][j] + dp[i+1][j]\n",
    "    \n",
    "    print(dp)\n",
    "    return dp[startRow+1][startColumn+1]\n",
    "\n",
    "m = 2 \n",
    "n = 2 \n",
    "maxMove = 2 \n",
    "startRow = 0 \n",
    "startColumn = 0\n",
    "m, n, maxMove, startRow, startColumn = 1, 3, 2, 0, 1\n",
    "# Output: 12\n",
    "\n",
    "# m, n, maxMove, startRow, startColumn = 8,7,16,1,5\n",
    "findPaths_dp(m, n, maxMove, startRow, startColumn)"
   ]
  }
 ],
 "metadata": {
  "kernelspec": {
   "display_name": "Python 3",
   "language": "python",
   "name": "python3"
  },
  "language_info": {
   "codemirror_mode": {
    "name": "ipython",
    "version": 3
   },
   "file_extension": ".py",
   "mimetype": "text/x-python",
   "name": "python",
   "nbconvert_exporter": "python",
   "pygments_lexer": "ipython3",
   "version": "3.6.9"
  }
 },
 "nbformat": 4,
 "nbformat_minor": 5
}
