{
 "cells": [
  {
   "cell_type": "code",
   "execution_count": 136,
   "metadata": {},
   "outputs": [
    {
     "name": "stdout",
     "output_type": "stream",
     "text": [
      "[[0, 0], [0, 1], [0, 2], [0, 7], [1, 2], [1, 3], [1, 9], [2, 3], [2, 5], [2, 7], [2, 8], [3, 2], [3, 5], [3, 7], [4, 2], [4, 3], [4, 5], [4, 7], [5, 1], [5, 4], [5, 8], [5, 9], [7, 2], [7, 5], [7, 7], [7, 8], [8, 5], [8, 8], [9, 0], [9, 1], [9, 2], [9, 8]]\n",
      "{(5, 9), (4, 7), (1, 3), (9, 1), (2, 8), (9, 8), (7, 7), (0, 7), (5, 1), (3, 7), (2, 5), (8, 5), (5, 8), (7, 2), (1, 2), (9, 0), (3, 2), (0, 0), (5, 4), (4, 5), (7, 5), (2, 3), (1, 9), (4, 2), (3, 5), (0, 1), (2, 7), (9, 2), (8, 8), (4, 3), (7, 8), (0, 2)}\n",
      "[0, 0, 0, 1, 2, 2, 1, 0, 1, 1]\n",
      "[1, 1, 0, 0, 1, 2, 3, 2, 1, 0]\n",
      "[1, 2, 1, 0, 1, 0, 1, 0, 0, 1]\n",
      "[1, 1, 0, 1, 1, 0, 1, 0, 1, 1]\n",
      "[1, 1, 0, 0, 1, 0, 1, 0, 1, 1]\n",
      "[1, 0, 1, 1, 0, 1, 2, 1, 0, 0]\n",
      "[1, 2, 3, 4, 5, 5, 4, 3, 2, 1]\n",
      "[1, 1, 0, 1, 1, 0, 1, 0, 0, 1]\n",
      "[1, 2, 3, 2, 1, 0, 1, 1, 0, 1]\n",
      "[0, 0, 0, 1, 2, 3, 2, 1, 0, 1]\n",
      "\n",
      "\n",
      "[0, 0, 0, 1, 1, 1, 1, 0, 1, 1]\n",
      "[1, 1, 0, 0, 1, 1, 2, 1, 1, 0]\n",
      "[1, 2, 1, 0, 1, 0, 1, 0, 0, 1]\n",
      "[1, 1, 0, 1, 1, 0, 1, 0, 1, 1]\n",
      "[1, 1, 0, 0, 1, 0, 1, 0, 1, 1]\n",
      "[1, 0, 1, 1, 0, 1, 2, 1, 0, 0]\n",
      "[1, 1, 1, 2, 1, 1, 4, 1, 1, 1]\n",
      "[1, 1, 0, 1, 1, 0, 1, 0, 0, 1]\n",
      "[1, 1, 1, 2, 1, 0, 1, 1, 0, 1]\n",
      "[0, 0, 0, 1, 1, 1, 1, 1, 0, 1]\n",
      "4\n"
     ]
    }
   ],
   "source": [
    "def orderOfLargestPlusSign(N, mines):\n",
    "    banned = {tuple(mine) for mine in mines}\n",
    "#     [print(b) for b in banned]\n",
    "    print(mines)\n",
    "    print(banned)\n",
    "    dp = [[0]*N for _ in range(N)]\n",
    "    max_length = 0\n",
    "    for i in range(N):\n",
    "        dp[i][0] = 1 if (i, 0) not in banned else 0\n",
    "        dp[i][N-1] = 1 if (i, N-1) not in banned else 0\n",
    "        for j in range(1, N-1):\n",
    "            dp[i][j] = dp[i][j-1]+1 if (i, j) not in banned else 0\n",
    "        for j in range(N-2, 0, -1):\n",
    "            dp[i][j] = min(dp[i][j], dp[i][j+1]+1)\n",
    "\n",
    "    [print(p) for p in dp]\n",
    "    for i in range(N):\n",
    "        count = 0\n",
    "        for j in range(N):\n",
    "            if (j, i) in banned:\n",
    "                count = 0\n",
    "            else:\n",
    "                count +=1\n",
    "            dp[j][i] = min(count, dp[j][i])\n",
    "           \n",
    "        count = 0\n",
    "        for j in range(N-1, -1, -1):\n",
    "            if (j, i) in banned:\n",
    "                count = 0\n",
    "            else:\n",
    "                count +=1\n",
    "            dp[j][i] = min(count, dp[j][i])\n",
    "            max_length = max(max_length, dp[j][i])\n",
    "    print('\\n')\n",
    "    [print(p) for p in dp]\n",
    "    return max_length\n",
    "\n",
    "mines=[[4,2]] ;n = 5 #2\n",
    "# mines = [[0,0],[0,1],[1,0],[1,1]];n = 2\n",
    "mines=[[0,1],[1,0],[1,1]]; n =2\n",
    "# n = 5; mines = [[3,0],[3,3], [2,2]]\n",
    "n = 5;mines = [[0,1],[0,2],[1,0],[1,2],[1,4],[2,0],[2,2],[3,0],[3,1],[4,0],[4,1],[4,3],[4,4]]\n",
    "n = 10;mines = [[0,0],[0,1],[0,2],[0,7],[1,2],[1,3],[1,9],[2,3],[2,5],[2,7],[2,8],[3,2],[3,5],[3,7],[4,2],[4,3],[4,5],[4,7],[5,1],[5,4],[5,8],[5,9],[7,2],[7,5],[7,7],[7,8],[8,5],[8,8],[9,0],[9,1],[9,2],[9,8]]\n",
    "print(orderOfLargestPlusSign(n, mines))"
   ]
  },
  {
   "cell_type": "code",
   "execution_count": 132,
   "metadata": {},
   "outputs": [
    {
     "name": "stdout",
     "output_type": "stream",
     "text": [
      "[1, 0, 0, 1, 1]\n",
      "[0, 1, 0, 1, 0]\n",
      "[0, 1, 0, 1, 1]\n",
      "[0, 0, 1, 2, 1]\n",
      "[0, 0, 1, 0, 0]\n",
      "\n",
      "\n",
      "[1, 0, 0, 1, 1]\n",
      "[0, 1, 0, 1, 0]\n",
      "[0, 1, 0, 1, 1]\n",
      "[0, 0, 1, 1, 1]\n",
      "[0, 0, 1, 0, 0]\n",
      "1\n"
     ]
    }
   ],
   "source": [
    "\n",
    "def oPlusSign(N, mines):\n",
    "        banned = {tuple(mine) for mine in mines}\n",
    "        dp = [[0] * N for _ in range(N)]\n",
    "        ans = 0\n",
    "        \n",
    "        for r in range(N):\n",
    "            count = 0\n",
    "            for c in range(N):\n",
    "                count = 0 if (r,c) in banned else count+1\n",
    "                dp[r][c] = count\n",
    "            \n",
    "            count = 0\n",
    "            for c in range(N-1, -1, -1):\n",
    "                count = 0 if (r,c) in banned else count+1\n",
    "                if count < dp[r][c]: dp[r][c] = count\n",
    "        [print(p) for p in dp]\n",
    "        for c in range(N):\n",
    "            count = 0\n",
    "            for r in range(N):\n",
    "                count = 0 if (r,c) in banned else count+1\n",
    "                if count < dp[r][c]: dp[r][c] = count\n",
    "            \n",
    "            count = 0\n",
    "            for r in range(N-1, -1, -1):\n",
    "                count = 0 if (r, c) in banned else count+1\n",
    "                if count < dp[r][c]: dp[r][c] = count\n",
    "                if dp[r][c] > ans: ans = dp[r][c]\n",
    "        print('\\n')\n",
    "        [print(p) for p in dp]\n",
    "        return ans\n",
    "mines=[[4,2]] ;n = 5 #2\n",
    "# mines = [[0,0],[0,1],[1,0],[1,1]];n = 2\n",
    "# mines=[[0,1],[1,0],[1,1]]\n",
    "n = 5; mines = [[3,0],[3,3]]\n",
    "n = 5;mines = [[0,1],[0,2],[1,0],[1,2],[1,4],[2,0],[2,2],[3,0],[3,1],[4,0],[4,1],[4,3],[4,4]]\n",
    "print(oPlusSign(n, mines))\n"
   ]
  },
  {
   "cell_type": "code",
   "execution_count": 156,
   "metadata": {},
   "outputs": [
    {
     "name": "stdout",
     "output_type": "stream",
     "text": [
      "[[2, 3], [4, 6], [5, 5], [6, 5], [6, 6], [6, 7], [7, 7]] [[5, 5], [6, 5], [6, 7], [2, 3], [6, 6], [7, 7], [4, 6]]\n"
     ]
    }
   ],
   "source": [
    "envelopes = [[5,5],[6,5],[6,7],[2,3], [6,6],[7,7], [4,6]]\n",
    "# envelopes.sort(key=lambda x:(x[0],-x[1]))\n",
    "en = sorted(envelopes)\n",
    "print(en, envelopes)\n"
   ]
  },
  {
   "cell_type": "code",
   "execution_count": 152,
   "metadata": {},
   "outputs": [
    {
     "name": "stdout",
     "output_type": "stream",
     "text": [
      "{(6, 7), (5, 5), (4, 6), (6, 6), (7, 7), (2, 3), (6, 5)}\n"
     ]
    }
   ],
   "source": [
    "env = { tuple(e) for e in envelopes}\n",
    "print(env)"
   ]
  },
  {
   "cell_type": "code",
   "execution_count": 224,
   "metadata": {},
   "outputs": [
    {
     "name": "stdout",
     "output_type": "stream",
     "text": [
      "[[2, 3], [4, 6], [5, 5], [6, 5], [6, 6], [6, 7], [7, 7]]\n",
      "[[1, 2, 3, 4, 5, 6], [5, 6], [4, 5, 6], [6], [6], [], []]\n"
     ]
    },
    {
     "data": {
      "text/plain": [
       "[1, 2, 3, 4, 5, 6]"
      ]
     },
     "execution_count": 224,
     "metadata": {},
     "output_type": "execute_result"
    }
   ],
   "source": [
    "slist = []\n",
    "print(en)\n",
    "for i in range(len(en)-1):\n",
    "    cs = []\n",
    "    for j in range(i+1, len(en)):\n",
    "        if en[i][0] < en[j][0] and en[i][1] < en[j][1]:\n",
    "            cs.append(j)\n",
    "    slist.append(cs)\n",
    "slist.append([])\n",
    "print(slist)\n",
    "list(slist[0])\n"
   ]
  },
  {
   "cell_type": "code",
   "execution_count": 239,
   "metadata": {},
   "outputs": [
    {
     "name": "stdout",
     "output_type": "stream",
     "text": [
      "3\n",
      "1\n",
      "2\n",
      "1\n",
      "1\n",
      "0\n",
      "0\n",
      "3\n"
     ]
    }
   ],
   "source": [
    "\n",
    "max_cl = 0\n",
    "for sl in slist:\n",
    "    cl = 0\n",
    "    while sl:\n",
    "        cl += 1\n",
    "        next_g = set()\n",
    "        for i in range(len(sl)):\n",
    "\n",
    "            for e in slist[sl[i]]:\n",
    "                next_g.add(e)\n",
    "\n",
    "        sl = list(next_g)\n",
    "    max_cl = max(cl, max_cl)\n",
    "        \n",
    "print(max_cl)\n",
    "\n"
   ]
  },
  {
   "cell_type": "code",
   "execution_count": 1,
   "metadata": {},
   "outputs": [
    {
     "name": "stdout",
     "output_type": "stream",
     "text": [
      "[[1, 2, 3, 4], [2, 3, 4], [4], [4], []]\n",
      "[1, 2, 3, 4] 1 4\n",
      "[1, 2, 3, 4] 2 3\n",
      "[1, 2, 3, 4] 3 3\n",
      "[1, 2, 3, 4] 4 2\n",
      "[2, 3, 4] 2 3\n",
      "[2, 3, 4] 3 3\n",
      "[2, 3, 4] 4 2\n",
      "[4] 4 2\n",
      "[4] 4 2\n",
      "4\n"
     ]
    }
   ],
   "source": [
    "def maxEnvelopes(envelopes):\n",
    "        slist = []\n",
    "        envelopes.sort()\n",
    "        for i in range(len(envelopes)-1):\n",
    "            cs = []\n",
    "            for j in range(i+1, len(envelopes)):\n",
    "                if envelopes[i][0] < envelopes[j][0] and envelopes[i][1] < envelopes[j][1]:\n",
    "                    cs.append(j)\n",
    "            slist.append(cs)\n",
    "        slist.append([])\n",
    "        print(slist)\n",
    "        length = len(slist)\n",
    "        \n",
    "        wc = [-1]* length\n",
    "        \n",
    "        def walk(s):\n",
    "            if wc[s] != -1:\n",
    "                return wc[s]\n",
    "            if s == (length-1) or not slist[s]:\n",
    "                return 1\n",
    "            cl = 1\n",
    "            max_cl = 1\n",
    "            for n in slist[s]:\n",
    "                cl = walk(n) + 1\n",
    "                max_cl = max(cl, max_cl)\n",
    "            wc[s] = max_cl\n",
    "            return max_cl\n",
    "        \n",
    "        max_cl = 1\n",
    "        for sl in slist:\n",
    "            for i in sl:\n",
    "                cl = walk(i) + 1\n",
    "                print(sl, i, cl)\n",
    "                max_cl = max(cl, max_cl)\n",
    "\n",
    "        return max_cl\n",
    "\n",
    "envelopes =[[5,4],[6,4],[6,7],[2,3]]\n",
    "# envelopes = []\n",
    "envelopes =[[4,5],[4,6],[6,7],[2,3],[1,1]] #4\n",
    "\n",
    "print(maxEnvelopes(envelopes))"
   ]
  },
  {
   "cell_type": "code",
   "execution_count": 59,
   "metadata": {},
   "outputs": [
    {
     "name": "stdout",
     "output_type": "stream",
     "text": [
      "[[1, 1], [1, 1], [1, 1]] [1, 1, 1] []\n",
      "1 []\n",
      "after 1 0 [1]\n",
      "1 [1]\n",
      "after 1 0 [1]\n",
      "1 [1]\n",
      "after 1 0 [1]\n",
      "1\n"
     ]
    }
   ],
   "source": [
    "import bisect\n",
    "def maxEnvelopes_s(en):\n",
    "        en.sort(key = lambda x: (x[0], -x[1]))\n",
    "        nums, lis = [j for _, j in en], []\n",
    "        print(en, nums, lis)\n",
    "        for current in nums:\n",
    "            print(current, lis)\n",
    "            idx = bisect.bisect_left(lis, current)\n",
    "            lis[idx:idx+1] = [current]\n",
    "            print('after',current, idx, lis)\n",
    "        return len(lis)\n",
    "envelopes =[[4,5],[4,6],[6,7],[2,3],[1,1], [5,5], [6,6], [2,2]] #4\n",
    "# envelopes =[[5,4],[6,4],[6,7],[2,3]]\n",
    "env = [[1,2],[3,3],[6,4],[6,8],[8,5],[9,5]]\n",
    "env = [[1,3],[3,5],[6,7],[6,8],[8,4],[9,5]]\n",
    "env = [[1,1],[1,1],[1,1]]\n",
    "print(maxEnvelopes_s(env))\n"
   ]
  },
  {
   "cell_type": "code",
   "execution_count": 67,
   "metadata": {},
   "outputs": [
    {
     "name": "stdout",
     "output_type": "stream",
     "text": [
      "[[1, 1], [1, 1], [1, 1]] [1, 1, 1] []\n",
      "1 []\n",
      "after 1 [1]\n",
      "1 [1]\n",
      "after 1 [1]\n",
      "1 [1]\n",
      "after 1 [1]\n",
      "1\n"
     ]
    }
   ],
   "source": [
    "def maxEnvelopes_n(en):\n",
    "        en.sort(key = lambda x: (x[0], -x[1]))\n",
    "        nums, lis = [j for _, j in en], []\n",
    "        print(en, nums, lis)\n",
    "        l = -1\n",
    "        for current in nums:\n",
    "            print(current, lis)\n",
    "            if len(lis) == 0 or current > lis[-1]:\n",
    "                lis.append(current)\n",
    "                l +=1\n",
    "            else:\n",
    "                c = l\n",
    "                while c>=0 and lis[c] >= current:\n",
    "                    c -= 1\n",
    "                lis[c+1] = current\n",
    "\n",
    "            print('after',current,  lis)\n",
    "        return len(lis)\n",
    "\n",
    "print(maxEnvelopes_n(env))"
   ]
  },
  {
   "cell_type": "code",
   "execution_count": 49,
   "metadata": {},
   "outputs": [
    {
     "name": "stdout",
     "output_type": "stream",
     "text": [
      "1 0 0 0 1\n",
      "1 1 0 0 1\n",
      "1 1 0 1 0\n",
      "1 2 0 0 1\n",
      "1 2 0 1 0\n",
      "1 2 0 2 0\n",
      "1 3 0 0 1\n",
      "1 3 0 1 0\n",
      "1 3 0 2 0\n",
      "1 3 0 3 0\n",
      "1 4 0 0 1\n",
      "1 4 0 1 0\n",
      "1 4 0 2 0\n",
      "1 4 0 3 0\n",
      "1 4 0 4 0\n",
      "2 0 1 0 1\n",
      "2 1 1 0 1\n",
      "2 1 1 1 1\n",
      "2 2 1 0 1\n",
      "2 2 1 1 1\n",
      "2 2 1 2 1\n",
      "2 3 1 0 1\n",
      "2 3 1 1 1\n",
      "2 3 1 2 1\n",
      "2 3 1 3 1\n",
      "2 4 1 0 1\n",
      "2 4 1 1 1\n",
      "2 4 1 2 1\n",
      "2 4 1 3 1\n",
      "2 4 1 4 1\n",
      "[[1, 0, 0, 0, 0], [1, 1, 1, 1, 1], [1, 2, 3, 4, 5]]\n",
      "5\n"
     ]
    }
   ],
   "source": [
    "def nwithsum(A, B): # A:n B: Sum\n",
    "    \n",
    "    dp = [[0]*(B+1) for _ in range(A+1)]\n",
    "    if A <= 0:\n",
    "        return -1\n",
    "    if A==1 and B<=9:\n",
    "        return 1\n",
    "    dp[0][0] = 1\n",
    "#     for i in range(B+1):\n",
    "#         dp[1][i] = 1\n",
    "    for i in range(1, A+1):\n",
    "        for j in range(B+1):\n",
    "            for k in range(j):\n",
    "                print(i, j, i-1, k, dp[i-1][k])\n",
    "                dp[i][j] += dp[i-1][k] \n",
    "    print(dp)\n",
    "    return dp[A][B] % 1000000007\n",
    "\n",
    "# print(nwithsum(75, 22))\n",
    "print(nwithsum(2, 4))"
   ]
  },
  {
   "cell_type": "code",
   "execution_count": null,
   "metadata": {},
   "outputs": [],
   "source": [
    "def ns(N, S)\n",
    "    arr = [[0 for j in range(S + 1)] for i in range(N + 1)]\n",
    "    arr[0][0] = 1\n",
    "    for n in range(N):\n",
    "            for s in range(S):\n",
    "                for digit in range(10):\n",
    "                    if s + digit <= S:\n",
    "                        arr[n + 1][s + digit] += arr[n][s]\n",
    "                    else:\n",
    "                        break\n",
    "    return arr[N][S] % 1000000007\n",
    "    "
   ]
  },
  {
   "cell_type": "code",
   "execution_count": null,
   "metadata": {},
   "outputs": [],
   "source": []
  }
 ],
 "metadata": {
  "kernelspec": {
   "display_name": "Python 3",
   "language": "python",
   "name": "python3"
  },
  "language_info": {
   "codemirror_mode": {
    "name": "ipython",
    "version": 3
   },
   "file_extension": ".py",
   "mimetype": "text/x-python",
   "name": "python",
   "nbconvert_exporter": "python",
   "pygments_lexer": "ipython3",
   "version": "3.7.5"
  }
 },
 "nbformat": 4,
 "nbformat_minor": 2
}
