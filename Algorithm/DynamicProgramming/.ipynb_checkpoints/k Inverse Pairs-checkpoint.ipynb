{
 "cells": [
  {
   "cell_type": "code",
   "execution_count": null,
   "id": "ba15a379",
   "metadata": {},
   "outputs": [],
   "source": [
    "    \n",
    "\"\"\"\n",
    "https://leetcode.com/problems/k-inverse-pairs-array/\n",
    "\n",
    "Input: n = 3, k = 0\n",
    "Output: 1\n",
    "Explanation: Only the array [1,2,3] which consists of numbers from 1 to 3 has exactly 0 inverse pairs.\n",
    "\n",
    "Input: n = 3, k = 1\n",
    "Output: 2\n",
    "Explanation: The array [1,3,2] and [2,1,3] have exactly 1 inverse pair.\n",
    "\n",
    "\"\"\""
   ]
  },
  {
   "cell_type": "code",
   "execution_count": null,
   "id": "b1b7aa92",
   "metadata": {},
   "outputs": [],
   "source": [
    "def kInversePairs(n, k):\n",
    "    "
   ]
  }
 ],
 "metadata": {
  "kernelspec": {
   "display_name": "Python 3",
   "language": "python",
   "name": "python3"
  },
  "language_info": {
   "codemirror_mode": {
    "name": "ipython",
    "version": 3
   },
   "file_extension": ".py",
   "mimetype": "text/x-python",
   "name": "python",
   "nbconvert_exporter": "python",
   "pygments_lexer": "ipython3",
   "version": "3.6.9"
  }
 },
 "nbformat": 4,
 "nbformat_minor": 5
}
