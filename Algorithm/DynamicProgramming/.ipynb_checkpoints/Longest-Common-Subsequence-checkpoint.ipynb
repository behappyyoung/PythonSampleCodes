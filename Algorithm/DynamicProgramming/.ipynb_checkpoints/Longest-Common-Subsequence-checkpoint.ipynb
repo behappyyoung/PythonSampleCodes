{
 "cells": [
  {
   "cell_type": "code",
   "execution_count": null,
   "metadata": {},
   "outputs": [],
   "source": [
    "def lengthofLIS(nums):\n",
    "    if not nums:\n",
    "        return 0\n",
    "    dp = [1]*len(nums)\n",
    "    max_l = 1\n",
    "    for i in range(1, len(nums)):\n",
    "        for j in range(i):\n",
    "            if nums[i] > nums[j]:\n",
    "                dp[i] = max(dp[j]+1, dp[i])\n",
    "            \n",
    "            max_l = max(max_l, dp[i])\n",
    "            print(i, j, dp[i], nums[i], nums[j])\n",
    "    return max_l\n",
    "\n",
    "a = [10, 9, 2, 5, 3, 7, 100]\n",
    "print(lengthofLIS(a))"
   ]
  },
  {
   "cell_type": "code",
   "execution_count": null,
   "metadata": {},
   "outputs": [],
   "source": [
    "\"\"\"\n",
    "https://leetcode.com/problems/longest-common-subsequence/\n",
    "\n",
    "Input: text1 = \"abcde\", text2 = \"ace\" \n",
    "Output: 3  \n",
    "Explanation: The longest common subsequence is \"ace\" and its length is 3.\n",
    "\n",
    "\"\"\"\n",
    "def longestCommonSubsequence(text1, text2):\n",
    "    "
   ]
  },
  {
   "cell_type": "code",
   "execution_count": null,
   "metadata": {},
   "outputs": [],
   "source": [
    "\"\"\"\n",
    "https://leetcode.com/problems/minimum-ascii-delete-sum-for-two-strings/\n",
    "\n",
    "Minimum ASCII Delete Sum for Two Strings\n",
    "\n",
    "Input: s1 = \"delete\", s2 = \"leet\"\n",
    "Output: 403\n",
    "Explanation: Deleting \"dee\" from \"delete\" to turn the string into \"let\",\n",
    "adds 100[d]+101[e]+101[e] to the sum.  Deleting \"e\" from \"leet\" adds 101[e] to the sum.\n",
    "At the end, both strings are equal to \"let\", and the answer is 100+101+101+101 = 403.\n",
    "If instead we turned both strings into \"lee\" or \"eet\", we would get answers of 433 or 417, which are higher.\n",
    "\n",
    "\"\"\"\n",
    "def minimumDeleteSum(s1, s2):"
   ]
  }
 ],
 "metadata": {
  "kernelspec": {
   "display_name": "Python 3",
   "language": "python",
   "name": "python3"
  },
  "language_info": {
   "codemirror_mode": {
    "name": "ipython",
    "version": 3
   },
   "file_extension": ".py",
   "mimetype": "text/x-python",
   "name": "python",
   "nbconvert_exporter": "python",
   "pygments_lexer": "ipython3",
   "version": "3.7.5"
  }
 },
 "nbformat": 4,
 "nbformat_minor": 2
}
