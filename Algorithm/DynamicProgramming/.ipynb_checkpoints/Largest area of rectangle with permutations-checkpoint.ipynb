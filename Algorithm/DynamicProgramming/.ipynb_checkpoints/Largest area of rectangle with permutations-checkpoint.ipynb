{
 "cells": [
  {
   "cell_type": "code",
   "execution_count": 9,
   "metadata": {},
   "outputs": [
    {
     "name": "stdout",
     "output_type": "stream",
     "text": [
      "1 0 1 9 10\n",
      "2 0 1 2 10\n",
      "2 1 1 2 9\n",
      "3 0 1 5 10\n",
      "3 1 1 5 9\n",
      "3 2 2 5 2\n",
      "4 0 1 3 10\n",
      "4 1 1 3 9\n",
      "4 2 2 3 2\n",
      "4 3 2 3 5\n",
      "5 0 1 7 10\n",
      "5 1 1 7 9\n",
      "5 2 2 7 2\n",
      "5 3 3 7 5\n",
      "5 4 3 7 3\n",
      "6 0 2 100 10\n",
      "6 1 2 100 9\n",
      "6 2 2 100 2\n",
      "6 3 3 100 5\n",
      "6 4 3 100 3\n",
      "6 5 4 100 7\n",
      "4\n"
     ]
    }
   ],
   "source": [
    "def lengthofLIS(nums):\n",
    "    if not nums:\n",
    "        return 0\n",
    "    dp = [1]*len(nums)\n",
    "    max_l = 1\n",
    "    for i in range(1, len(nums)):\n",
    "        for j in range(i):\n",
    "            if nums[i] > nums[j]:\n",
    "                dp[i] = max(dp[j]+1, dp[i])\n",
    "            \n",
    "            max_l = max(max_l, dp[i])\n",
    "            print(i, j, dp[i], nums[i], nums[j])\n",
    "    return max_l\n",
    "\n",
    "a = [10, 9, 2, 5, 3, 7, 100]\n",
    "print(lengthofLIS(a))"
   ]
  },
  {
   "cell_type": "code",
   "execution_count": 10,
   "metadata": {},
   "outputs": [
    {
     "data": {
      "text/plain": [
       "97"
      ]
     },
     "execution_count": 10,
     "metadata": {},
     "output_type": "execute_result"
    }
   ],
   "source": [
    "\n",
    "    "
   ]
  },
  {
   "cell_type": "code",
   "execution_count": null,
   "metadata": {},
   "outputs": [],
   "source": []
  }
 ],
 "metadata": {
  "kernelspec": {
   "display_name": "Python 3",
   "language": "python",
   "name": "python3"
  },
  "language_info": {
   "codemirror_mode": {
    "name": "ipython",
    "version": 3
   },
   "file_extension": ".py",
   "mimetype": "text/x-python",
   "name": "python",
   "nbconvert_exporter": "python",
   "pygments_lexer": "ipython3",
   "version": "3.7.5"
  }
 },
 "nbformat": 4,
 "nbformat_minor": 2
}
