{
 "cells": [
  {
   "cell_type": "raw",
   "id": "e816cc7c",
   "metadata": {},
   "source": []
  },
  {
   "cell_type": "code",
   "execution_count": 4,
   "id": "23bb3b71",
   "metadata": {},
   "outputs": [
    {
     "name": "stdout",
     "output_type": "stream",
     "text": [
      "14 0 6\n"
     ]
    }
   ],
   "source": [
    "\"\"\"\n",
    "maximum sum subarray\n",
    "\n",
    "\n",
    "\"\"\"\n",
    "\n",
    "def max_sum_subarray(arr):\n",
    "    if len(arr) < 1:\n",
    "        return []\n",
    "    max_sum = arr[0]\n",
    "    c_max = arr[0]\n",
    "    start = 0 \n",
    "    end =  0\n",
    "    for i in range(len(arr)):\n",
    "        if arr[i] > c_max + arr[i]:\n",
    "            c_max = arr[i]\n",
    "            start = i\n",
    "        else:\n",
    "            c_max = c_max + arr[i]\n",
    "            end = i\n",
    "        max_sum = max(c_max, max_sum)\n",
    "\n",
    "    print(max_sum, start, end)\n",
    "\n",
    "\n",
    "# test\n",
    "test_array = [-2, 1, -3, 4, -1, 2, 1, -5, 4]\n",
    "test_array = [-2, 1, -3, 4, -1, 2, 1, -5, 4, 2, 2]\n",
    "test_array = [ 1, 2, 5, 0, -70, 2, 50 ]\n",
    "test_array = [ -1, -1, -1 ]\n",
    "test_array = [ -1, 0, 0, -1, -1, -1 ]\n",
    "\n",
    "test_array = [-2, 1, -3, 4, -1, 2, 1, -5, 4]\n",
    "test_array = [-2, 1, -3, 4, -1, 2, 1, -5, 4, 2, 2]\n",
    "test_array = [2,-1,3,-1, -1, 6, 4]\n",
    "max_sum_subarray(test_array)"
   ]
  },
  {
   "cell_type": "code",
   "execution_count": 93,
   "id": "cfe4a32f",
   "metadata": {},
   "outputs": [
    {
     "name": "stdout",
     "output_type": "stream",
     "text": [
      "1 -1 2 2 2 2 0 0 0 0\n",
      "1 -1 / -1 -2 2 -2 0 0 0 1 0 0\n",
      "2 -3 -1 -2 2 -2 0 0 0 1\n",
      "2 -3 / 6 -3 6 -3 0 2 2 2 2 2\n",
      "3 0 6 -3 6 -3 0 2 2 2\n",
      "3 0 / 0 0 6 -3 0 2 2 2 2 2\n",
      "4 -2 0 0 6 -3 0 2 2 2\n",
      "4 -2 / 0 -2 6 -3 0 2 2 2 2 2\n",
      "5 -1 0 -2 6 -3 0 2 2 2\n",
      "5 -1 / 2 -1 6 -3 0 2 2 2 2 2\n",
      "6 4 2 -1 6 -3 0 2 2 2\n",
      "6 4 / 8 -4 8 -4 0 6 2 6 2 6\n"
     ]
    }
   ],
   "source": [
    "\"\"\"\n",
    "maximum product subarray\n",
    "\n",
    "Input: nums = [2,3,-2,4]\n",
    "Output: 6\n",
    "Explanation: [2,3] has the largest product 6.\n",
    "\n",
    "\n",
    "Input: nums = [-2,0,-1]\n",
    "Output: 0\n",
    "Explanation: The result cannot be 2, because [-2,-1] is not a subarray.\n",
    "\n",
    "\"\"\"\n",
    "\n",
    "\n",
    "\n",
    "def maxProductSubArray(arr):\n",
    "    if len(arr) < 1:\n",
    "        return []\n",
    "    total_max = arr[0]\n",
    "    total_min = arr[0]\n",
    "    pre_max = arr[0]\n",
    "    pre_min = arr[0]\n",
    "    \n",
    "    max_start = min_start = max_end = min_end = total_start = total_end = 0\n",
    "    \n",
    "    for i in range(1, len(arr)):\n",
    "        print(i, arr[i], pre_max, pre_min, total_max, total_min,  max_start, max_end, min_start, min_end)\n",
    "        \n",
    "        # current vs current * pre_max vs current * pre_min\n",
    "        \n",
    "        temp_max = max_start\n",
    "        current_max = max(arr[i], pre_max * arr[i], pre_min * arr[i])\n",
    "        \n",
    "        if current_max == arr[i] :\n",
    "            if current_max >= total_max:\n",
    "                total_max = current_max\n",
    "                max_start = i\n",
    "                max_end = i\n",
    "                total_start = max_start\n",
    "                total_end = max_end\n",
    "            \n",
    "        elif current_max == pre_max * arr[i]:\n",
    "            if current_max > total_max:\n",
    "                total_max = current_max\n",
    "                max_end = i\n",
    "                total_end = i\n",
    "            \n",
    "        elif current_max == pre_min * arr[i]:\n",
    "            if current_max > total_max:\n",
    "                total_max = current_max\n",
    "                max_start = min_start\n",
    "                max_end = i\n",
    "                total_start = max_start\n",
    "                total_end = max_end\n",
    "                \n",
    "        \n",
    "        current_min = min(arr[i], pre_max * arr[i], pre_min * arr[i])\n",
    "        \n",
    "        if current_min == arr[i]:\n",
    "            if current_min <= total_min:\n",
    "                total_min = current_min\n",
    "                min_start = i\n",
    "                min_end = i\n",
    "\n",
    "            \n",
    "        elif current_min == pre_min * arr[i]:\n",
    "            if current_min < total_min:\n",
    "                total_min = current_min\n",
    "                min_end = i\n",
    "\n",
    "            \n",
    "        elif current_min == pre_max * arr[i]:\n",
    "            if current_min < total_min:\n",
    "                total_min = current_min\n",
    "                min_start = temp_max\n",
    "                min_end = i\n",
    "\n",
    "                \n",
    "        pre_max = current_max\n",
    "        pre_min = current_min\n",
    "\n",
    "        print(i, arr[i], '/', current_max,  current_min, total_max, total_min,  max_start, max_end, min_start, min_end, total_start, total_end)\n",
    "\n",
    "test_array = [2, -1, -3,0, -2, -1, 4]\n",
    "\n",
    "maxProductSubArray(test_array)"
   ]
  },
  {
   "cell_type": "code",
   "execution_count": 68,
   "id": "1ebef45a",
   "metadata": {},
   "outputs": [
    {
     "name": "stdout",
     "output_type": "stream",
     "text": [
      "2 2\n",
      "-1 -2\n",
      "-3 6\n",
      "6 36\n",
      "-1 -36\n",
      "4 -144\n"
     ]
    }
   ],
   "source": [
    "\n",
    "    "
   ]
  }
 ],
 "metadata": {
  "kernelspec": {
   "display_name": "Python 3",
   "language": "python",
   "name": "python3"
  },
  "language_info": {
   "codemirror_mode": {
    "name": "ipython",
    "version": 3
   },
   "file_extension": ".py",
   "mimetype": "text/x-python",
   "name": "python",
   "nbconvert_exporter": "python",
   "pygments_lexer": "ipython3",
   "version": "3.6.9"
  }
 },
 "nbformat": 4,
 "nbformat_minor": 5
}
