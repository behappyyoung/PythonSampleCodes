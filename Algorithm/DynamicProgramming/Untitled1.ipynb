{
 "cells": [
  {
   "cell_type": "code",
   "execution_count": 7,
   "id": "aeeea932",
   "metadata": {},
   "outputs": [
    {
     "name": "stdout",
     "output_type": "stream",
     "text": [
      "[['E', 1], ['D', 2], ['A', 3], ['B', 3], ['C', 3]]\n",
      "[['E', 1], ['D', 2], ['B', 3], ['C', 3]] ['A', 3]\n"
     ]
    }
   ],
   "source": [
    "l = [['A', 3], ['B', 3], ['C', 3], ['D', 2], ['E', 1]]\n",
    "\n",
    "l = sorted(l, key=lambda i: i[1])\n",
    "print(l)\n",
    "p = l.pop(2)\n",
    "print(l, p)"
   ]
  },
  {
   "cell_type": "code",
   "execution_count": 2,
   "id": "0f567c1d",
   "metadata": {},
   "outputs": [
    {
     "name": "stdout",
     "output_type": "stream",
     "text": [
      "[[]]\n",
      "yes\n"
     ]
    }
   ],
   "source": [
    "l = [[]]\n",
    "print(l)\n",
    "if l:\n",
    "    print('yes')\n",
    "else:\n",
    "    print('no')"
   ]
  },
  {
   "cell_type": "code",
   "execution_count": 4,
   "id": "988be0ca",
   "metadata": {},
   "outputs": [
    {
     "name": "stdout",
     "output_type": "stream",
     "text": [
      "[[0, 0, 0], [0, 0, 0], [0, 0, 0], [0, 0, 0], [0, 0, 0]]\n"
     ]
    }
   ],
   "source": [
    "column_sums = [[0] * 3 for _ in range(5)]\n",
    "print(column_sums)"
   ]
  },
  {
   "cell_type": "code",
   "execution_count": 16,
   "id": "5794a2bb",
   "metadata": {},
   "outputs": [
    {
     "name": "stdout",
     "output_type": "stream",
     "text": [
      "defaultdict(<class 'int'>, {})\n",
      "{2: 1, 3: 1} defaultdict(<class 'int'>, {4: 1})\n"
     ]
    }
   ],
   "source": [
    "from collections import defaultdict\n",
    "d = defaultdict(int)\n",
    "print(d)\n",
    "dd = dict()\n",
    "dd[2] = 1\n",
    "dd[3] = 1\n",
    "d[4] += 1\n",
    "print(dd, d)"
   ]
  }
 ],
 "metadata": {
  "kernelspec": {
   "display_name": "Python 3",
   "language": "python",
   "name": "python3"
  },
  "language_info": {
   "codemirror_mode": {
    "name": "ipython",
    "version": 3
   },
   "file_extension": ".py",
   "mimetype": "text/x-python",
   "name": "python",
   "nbconvert_exporter": "python",
   "pygments_lexer": "ipython3",
   "version": "3.6.9"
  }
 },
 "nbformat": 4,
 "nbformat_minor": 5
}
