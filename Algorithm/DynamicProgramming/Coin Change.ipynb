{
 "cells": [
  {
   "cell_type": "code",
   "execution_count": 80,
   "id": "6ee6ede7",
   "metadata": {},
   "outputs": [
    {
     "name": "stdout",
     "output_type": "stream",
     "text": [
      "1 [inf, 1, inf, inf, inf, inf, inf, inf, inf, inf, inf, inf]\n",
      "2 [inf, 1, 1, inf, inf, inf, inf, inf, inf, inf, inf, inf]\n",
      "3 [inf, 1, 1, 2, inf, inf, inf, inf, inf, inf, inf, inf]\n",
      "4 [inf, 1, 1, 2, 2, inf, inf, inf, inf, inf, inf, inf]\n",
      "5 [inf, 1, 1, 2, 2, 1, inf, inf, inf, inf, inf, inf]\n",
      "6 [inf, 1, 1, 2, 2, 1, 2, inf, inf, inf, inf, inf]\n",
      "7 [inf, 1, 1, 2, 2, 1, 2, 2, inf, inf, inf, inf]\n",
      "8 [inf, 1, 1, 2, 2, 1, 2, 2, 3, inf, inf, inf]\n",
      "9 [inf, 1, 1, 2, 2, 1, 2, 2, 3, 3, inf, inf]\n",
      "10 [inf, 1, 1, 2, 2, 1, 2, 2, 3, 3, 2, inf]\n",
      "11 [inf, 1, 1, 2, 2, 1, 2, 2, 3, 3, 2, 3]\n",
      "3\n"
     ]
    }
   ],
   "source": [
    "def coinChange_dp(coins, amount):\n",
    "    if amount ==0:\n",
    "        return 0\n",
    "    dp = [float('inf') for _ in range(amount+1)]\n",
    "    for i in range(1, amount+1):\n",
    "        for c in coins:\n",
    "            if i == c:\n",
    "                dp[i] = 1\n",
    "            elif i > c:\n",
    "                dp[i] = min(dp[i-c]+1, dp[i])\n",
    "        print(i, dp)\n",
    "    return dp[amount] if dp[amount] != float('inf') else -1\n",
    "\n",
    "coins = [1,2,5]\n",
    "amount = 11\n",
    "\n",
    "# coins = [2]\n",
    "# amount = 3\n",
    "\n",
    "# coint =[1]\n",
    "# amount =0\n",
    "\n",
    "# coins = [3,7,405,436]               \n",
    "# amount = 8839\n",
    "\n",
    "print(coinChange_dp(coins, amount))"
   ]
  },
  {
   "cell_type": "code",
   "execution_count": 73,
   "id": "454d5df6",
   "metadata": {},
   "outputs": [
    {
     "name": "stdout",
     "output_type": "stream",
     "text": [
      "25\n"
     ]
    }
   ],
   "source": [
    "\"\"\"\n",
    "Return the fewest number of coins that you need to make up that amount. \n",
    "If that amount of money cannot be made up by any combination of the coins, return -1\n",
    "\n",
    "Input: coins = [1,2,5], amount = 11\n",
    "Output: 3\n",
    "Explanation: 11 = 5 + 5 + 1\n",
    "\n",
    "\"\"\"\n",
    "def coinChange(coins, amount):\n",
    "    \n",
    "    def get_change_count(subcoins, subamount):\n",
    "  \n",
    "        if subamount == 0:\n",
    "            return 0\n",
    "\n",
    "        if not subcoins:\n",
    "            return float('inf')\n",
    "        \n",
    "        c_count = float('inf')\n",
    "        \n",
    "        for i in range(len(subcoins)):\n",
    "            current_c = 0\n",
    "            current_amount = subcoins[i]\n",
    "            while (current_c * current_amount) <= subamount: \n",
    "                if subamount-current_amount*current_c == 0:\n",
    "                    c_count = min(c_count, current_c)\n",
    "                else:\n",
    "                    c_count = min(c_count, get_change_count(subcoins[i+1:], subamount-current_amount*current_c) + current_c)\n",
    "                current_c += 1\n",
    "#         print(subcoins, subamount, c_count)\n",
    "        return c_count\n",
    "\n",
    "    sorted_coins = sorted(coins, reverse=True)\n",
    "    total_count = get_change_count(sorted_coins, amount)\n",
    "    return total_count if total_count != float('inf') else -1\n",
    "\n",
    "coins = [1,2,5, 10]\n",
    "amount = 11\n",
    "\n",
    "coins = [2]\n",
    "amount = 3\n",
    "\n",
    "coins = [3,7,405,436]               #time limit exceeded\n",
    "amount = 8839\n",
    "\n",
    "print(coinChange(coins, amount))"
   ]
  },
  {
   "cell_type": "code",
   "execution_count": 35,
   "id": "98c78747",
   "metadata": {},
   "outputs": [
    {
     "data": {
      "text/plain": [
       "inf"
      ]
     },
     "execution_count": 35,
     "metadata": {},
     "output_type": "execute_result"
    }
   ],
   "source": [
    "float('inf')"
   ]
  }
 ],
 "metadata": {
  "kernelspec": {
   "display_name": "Python 3",
   "language": "python",
   "name": "python3"
  },
  "language_info": {
   "codemirror_mode": {
    "name": "ipython",
    "version": 3
   },
   "file_extension": ".py",
   "mimetype": "text/x-python",
   "name": "python",
   "nbconvert_exporter": "python",
   "pygments_lexer": "ipython3",
   "version": "3.6.9"
  }
 },
 "nbformat": 4,
 "nbformat_minor": 5
}
