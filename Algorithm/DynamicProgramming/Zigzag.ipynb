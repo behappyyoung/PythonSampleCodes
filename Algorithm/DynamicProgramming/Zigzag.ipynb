{
 "cells": [
  {
   "cell_type": "code",
   "execution_count": 12,
   "metadata": {},
   "outputs": [
    {
     "name": "stdout",
     "output_type": "stream",
     "text": [
      "['PAHN', 'APLSIIG', 'YIR']\n"
     ]
    },
    {
     "data": {
      "text/plain": [
       "'PAHNAPLSIIGYIR'"
      ]
     },
     "execution_count": 12,
     "metadata": {},
     "output_type": "execute_result"
    }
   ],
   "source": [
    "\"\"\"\n",
    "zigzag Conversion\n",
    "\n",
    "Input: s = \"PAYPALISHIRING\", numRows = 4\n",
    "Output: \"PINALSIGYAHRPI\"\n",
    "Explanation:\n",
    "\n",
    "P     I    N\n",
    "A   L S  I G\n",
    "Y A   H R\n",
    "P     I\n",
    "\n",
    "Input: s = \"PAYPALISHIRING\", numRows = 3\n",
    "Output: \"PAHNAPLSIIGYIR\"\n",
    "\n",
    "\n",
    "\"\"\"\n",
    "def zigzag(s, numRows):\n",
    "    l = len(s)\n",
    "    if l ==0:\n",
    "        return \"\"\n",
    "    output_a = [\"\"]*numRows\n",
    "    i = 0\n",
    "    while i < l:\n",
    "        for c in range(numRows):\n",
    "            if i == l:\n",
    "                break\n",
    "            else:\n",
    "                output_a[c] +=s[i]\n",
    "                i += 1\n",
    "        for u in range(numRows-2, 0, -1):\n",
    "            if i == l:\n",
    "                break\n",
    "            else:\n",
    "                output_a[u] +=s[i]\n",
    "                i += 1\n",
    "    print(output_a)\n",
    "    return ''.join(output_a)\n",
    "s = \"PAYPALISHIRING\"\n",
    "numRows = 4\n",
    "s = \"PAYPALISHIRING\"\n",
    "numRows = 3\n",
    "zigzag(s, numRows)"
   ]
  },
  {
   "cell_type": "code",
   "execution_count": 2,
   "metadata": {},
   "outputs": [
    {
     "data": {
      "text/plain": [
       "['', '', '', '']"
      ]
     },
     "execution_count": 2,
     "metadata": {},
     "output_type": "execute_result"
    }
   ],
   "source": [
    "[\"\"]*4"
   ]
  },
  {
   "cell_type": "code",
   "execution_count": null,
   "metadata": {},
   "outputs": [],
   "source": []
  }
 ],
 "metadata": {
  "kernelspec": {
   "display_name": "Python 3",
   "language": "python",
   "name": "python3"
  },
  "language_info": {
   "codemirror_mode": {
    "name": "ipython",
    "version": 3
   },
   "file_extension": ".py",
   "mimetype": "text/x-python",
   "name": "python",
   "nbconvert_exporter": "python",
   "pygments_lexer": "ipython3",
   "version": "3.7.5"
  }
 },
 "nbformat": 4,
 "nbformat_minor": 2
}
