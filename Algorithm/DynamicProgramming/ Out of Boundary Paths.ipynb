{
 "cells": [
  {
   "cell_type": "code",
   "execution_count": null,
   "id": "5c65e144",
   "metadata": {},
   "outputs": [],
   "source": [
    "\"\"\"\n",
    "1 <= m, n <= 50\n",
    "0 <= maxMove <= 50\n",
    "0 <= startRow < m\n",
    "0 <= startColumn < n\n",
    "\"\"\"\n",
    "\"\"\"\n",
    "\n",
    "x 0\n",
    "0 0  \n",
    "   \n",
    "\"\"\"\n"
   ]
  },
  {
   "cell_type": "code",
   "execution_count": 47,
   "id": "0af3e9e6",
   "metadata": {},
   "outputs": [
    {
     "data": {
      "text/plain": [
       "102984580"
      ]
     },
     "execution_count": 47,
     "metadata": {},
     "output_type": "execute_result"
    }
   ],
   "source": [
    "visited = dict()\n",
    "\n",
    "def findPaths(m, n, maxMove, startRow, startColumn):\n",
    "    if (startRow, startColumn, maxMove) in visited:\n",
    "#         print(f'visted ({startRow}, {startColumn}, {maxMove})')\n",
    "        return visited[(startRow, startColumn, maxMove)]\n",
    "#     else:\n",
    "#        \n",
    "        \n",
    "    if maxMove <=0:\n",
    "        return 0\n",
    "    \n",
    "    max_way = 0\n",
    "    move_dict = dict()\n",
    "    moved = 0\n",
    "    currentRow, currentColumn = startRow, startColumn\n",
    "\n",
    "    if currentRow -1 < 0:\n",
    "            max_way += 1\n",
    "    else:\n",
    "            max_way += findPaths(m, n, maxMove-1, currentRow -1, currentColumn)\n",
    "            \n",
    "    if currentRow+1 >= m:\n",
    "            max_way += 1\n",
    "    else:\n",
    "            max_way += findPaths(m, n, maxMove-1, currentRow + 1, currentColumn)\n",
    "            \n",
    "    if currentColumn -1 < 0:\n",
    "            max_way += 1\n",
    "    else:\n",
    "            max_way += findPaths(m, n, maxMove-1, currentRow, currentColumn -1)\n",
    "            \n",
    "        \n",
    "    if currentColumn + 1 >= n:\n",
    "            max_way += 1\n",
    "    else:\n",
    "            max_way += findPaths(m, n, maxMove-1, currentRow, currentColumn +1)\n",
    "            \n",
    "#     print(maxMove, startRow, startColumn, max_way, visited)\n",
    "    visited[(startRow, startColumn, maxMove)] = max_way\n",
    "    return max_way\n",
    "    \n",
    "\n",
    "m = 2 \n",
    "n = 2 \n",
    "maxMove = 2 \n",
    "startRow = 0 \n",
    "startColumn = 0\n",
    "# Output: 6 \n",
    "# m, n, maxMove, startRow, startColumn = 1, 3, 3, 0, 1\n",
    "# Output: 12\n",
    "\n",
    "m, n, maxMove, startRow, startColumn = 8,7,16,1,5\n",
    "findPaths(m, n, maxMove, startRow, startColumn)\n"
   ]
  },
  {
   "cell_type": "code",
   "execution_count": 131,
   "id": "50c8aa1d",
   "metadata": {},
   "outputs": [
    {
     "data": {
      "text/plain": [
       "914783380"
      ]
     },
     "execution_count": 131,
     "metadata": {},
     "output_type": "execute_result"
    }
   ],
   "source": [
    "# dp\n",
    "import copy\n",
    "def findPaths_dp(m, n, maxMove, startRow, startColumn):\n",
    "    if maxMove <=0:\n",
    "        return 0\n",
    "\n",
    "    dp = [[0 for j in range(n+2)] for i in range(m+2)]\n",
    "#     print(dp)\n",
    "    #create init dp_array\n",
    "    for i in range(1, m+1):\n",
    "        \n",
    "        for j in range(1, n+1):\n",
    "            if i == 1:\n",
    "                dp[i][j] += 1\n",
    "            if i == m:\n",
    "                dp[i][j] += 1\n",
    "            if j == 1:\n",
    "                dp[i][j] += 1\n",
    "            if j == n:\n",
    "                dp[i][j] += 1\n",
    "\n",
    "    first_dp = copy.deepcopy(dp)\n",
    "#     print(first_dp, dp)\n",
    "    for move in range(2, maxMove+1):\n",
    "        prev_dp = copy.deepcopy(dp)\n",
    "        for i in range(1, m+1):\n",
    "            for j in range(1, n+1):\n",
    "                dp[i][j] = first_dp[i][j] + prev_dp[i][j-1] + prev_dp[i][j+1] + prev_dp[i-1][j] + prev_dp[i+1][j]\n",
    "    \n",
    "#     print(dp,'///', prev_dp, '///', first_dp)\n",
    "    return dp[startRow+1][startColumn+1] % (10**9 + 7)\n",
    "\n",
    "m = 2 \n",
    "n = 2 \n",
    "maxMove = 2 \n",
    "startRow = 0 \n",
    "startColumn = 0\n",
    "m, n, maxMove, startRow, startColumn = 1, 3, 3, 0, 1\n",
    "# Output: 12\n",
    "\n",
    "m, n, maxMove, startRow, startColumn = 8,7,16,1,5\n",
    "#102984580\n",
    "\n",
    "m, n, maxMove, startRow, startColumn = 8,50,23,5,26\n",
    "# 914783380\n",
    "findPaths_dp(m, n, maxMove, startRow, startColumn)"
   ]
  }
 ],
 "metadata": {
  "kernelspec": {
   "display_name": "Python 3",
   "language": "python",
   "name": "python3"
  },
  "language_info": {
   "codemirror_mode": {
    "name": "ipython",
    "version": 3
   },
   "file_extension": ".py",
   "mimetype": "text/x-python",
   "name": "python",
   "nbconvert_exporter": "python",
   "pygments_lexer": "ipython3",
   "version": "3.6.9"
  }
 },
 "nbformat": 4,
 "nbformat_minor": 5
}
