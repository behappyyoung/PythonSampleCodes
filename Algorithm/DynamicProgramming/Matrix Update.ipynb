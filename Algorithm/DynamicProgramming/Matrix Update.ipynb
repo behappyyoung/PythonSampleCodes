{
 "cells": [
  {
   "cell_type": "code",
   "execution_count": 38,
   "id": "73983729",
   "metadata": {},
   "outputs": [
    {
     "data": {
      "text/plain": [
       "[[0, 0, 0], [0, 1, 0], [1, 2, 1]]"
      ]
     },
     "execution_count": 38,
     "metadata": {},
     "output_type": "execute_result"
    }
   ],
   "source": [
    "def nearZeroUpdate(mat):\n",
    "               \n",
    "        lm = len(mat)\n",
    "        ln = len(mat[0])\n",
    "        max_d = lm*ln\n",
    "        distance = [[max_d]*(ln) for _ in range(lm)]\n",
    "        \n",
    "        for i in range(lm):\n",
    "            for j in range(ln):\n",
    "                if mat[i][j] == 0:\n",
    "                    distance[i][j] = 0\n",
    "                else:\n",
    "                    if i > 0 and j > 0:\n",
    "                        distance[i][j] = min(distance[i-1][j], distance[i][j-1]) + 1\n",
    "                    if i > 0:\n",
    "                        distance[i][j] = min(distance[i-1][j] + 1, distance[i][j])\n",
    "                    if j > 0:\n",
    "                        distance[i][j] = min(distance[i][j], distance[i][j-1] + 1)\n",
    "        for i in range(lm-1, -1, -1):\n",
    "            for j in range(ln-1, -1, -1):\n",
    "                if mat[i][j] == 0:\n",
    "                    distance[i][j] = 0\n",
    "                else:\n",
    "                    if i < lm -1 and j > ln -1:\n",
    "                        distance[i][j] = min(distance[i+1][j], distance[i][j+1]) + 1\n",
    "                    if i < lm -1:\n",
    "                        distance[i][j] = min(distance[i][j], distance[i+1][j] + 1)\n",
    "                    if j < ln -1:\n",
    "                        distance[i][j] = min(distance[i][j], distance[i][j+1] + 1)\n",
    "                        \n",
    "        \n",
    "        return distance\n",
    "\n",
    "                        \n",
    "mat = [[0,0,0],[0,1,0],[1,1,1]]\n",
    "                    \n",
    "# mat = [[1,1,1],   [1,1,0],       [1,1,1]]\n",
    "                    \n",
    "nearZeroUpdate(mat)\n",
    "                    \n",
    "    "
   ]
  },
  {
   "cell_type": "code",
   "execution_count": null,
   "id": "d9cf0d54",
   "metadata": {},
   "outputs": [],
   "source": []
  },
  {
   "cell_type": "code",
   "execution_count": 55,
   "id": "52bc4023",
   "metadata": {},
   "outputs": [
    {
     "name": "stdout",
     "output_type": "stream",
     "text": [
      "[[2, 2]] 1\n",
      "[[2, 2]] 1\n"
     ]
    },
    {
     "data": {
      "text/plain": [
       "1"
      ]
     },
     "execution_count": 55,
     "metadata": {},
     "output_type": "execute_result"
    }
   ],
   "source": [
    "\"\"\"\n",
    "https://leetcode.com/problems/rotting-oranges/\n",
    "\n",
    "You are given an m x n grid where each cell can have one of three values:\n",
    "\n",
    "0 representing an empty cell,\n",
    "1 representing a fresh orange, or\n",
    "2 representing a rotten orange.\n",
    "Every minute, any fresh orange that is 4-directionally adjacent to a rotten orange becomes rotten.\n",
    "\n",
    "Return the minimum number of minutes that must elapse until no cell has a fresh orange. If this is impossible, return -1.\n",
    "\n",
    "Input: grid = [[2,1,1],[1,1,0],[0,1,1]]\n",
    "Output: 4\n",
    "\n",
    "\"\"\"\n",
    "\n",
    "def orangesRotting(grid):\n",
    "    if not grid:\n",
    "            return 0\n",
    "    \n",
    "    lm = len(grid)\n",
    "    ln = len(grid[0])\n",
    "\n",
    "    changed = set()\n",
    "    done = False\n",
    "    count = 0\n",
    "    while not done:\n",
    "        done = True\n",
    "        changed = set()\n",
    "        for i in range(lm):\n",
    "            for j in range(ln):\n",
    "                if grid[i][j] == 2 and (i, j) not in changed:\n",
    "                    if i > 0 and grid[i-1][j] == 1: \n",
    "                        grid[i-1][j] = 2\n",
    "                        changed.add((i-1, j))\n",
    "                        done = False\n",
    "                    if j > 0 and grid[i][j-1] == 1: \n",
    "                        grid[i][j-1] = 2\n",
    "                        changed.add((i, j-1))\n",
    "                        done = False\n",
    "                    if i < lm -1 and grid[i+1][j] == 1:\n",
    "                        grid[i+1][j] = 2\n",
    "                        changed.add((i+1, j))\n",
    "                        done = False\n",
    "                    if j < ln -1 and grid[i][j+1] == 1:\n",
    "                        grid[i][j+1] = 2\n",
    "                        changed.add((i, j+1))\n",
    "                        done = False\n",
    "        \n",
    "        if len(changed) != 0:\n",
    "            count += 1\n",
    "    \n",
    "        print(grid, count)\n",
    "    for i in range(lm):\n",
    "              for j in range(ln):\n",
    "                    if grid[i][j] == 1:\n",
    "                        return -1\n",
    "                    \n",
    "    \n",
    "    return count\n",
    "\n",
    "\n",
    "\n",
    "    \n",
    "\n",
    "grid = [[2,1,1],[1,1,0],[0,1,1]]  #4\n",
    "grid = [[2,1,1],[0,1,1],[1,0,1]] #-1\n",
    "grid = [[1,2]]\n",
    "\n",
    "orangesRotting(grid)\n",
    "    \n",
    "    "
   ]
  },
  {
   "cell_type": "code",
   "execution_count": 46,
   "id": "a5dc8235",
   "metadata": {},
   "outputs": [
    {
     "name": "stdout",
     "output_type": "stream",
     "text": [
      "set()\n"
     ]
    }
   ],
   "source": [
    "s = set()\n",
    "s.add((1, 2))\n",
    "s.add((2, 3))\n",
    "s = set()\n",
    "print(s)"
   ]
  },
  {
   "cell_type": "code",
   "execution_count": null,
   "id": "7ab1f140",
   "metadata": {},
   "outputs": [],
   "source": []
  }
 ],
 "metadata": {
  "kernelspec": {
   "display_name": "Python 3",
   "language": "python",
   "name": "python3"
  },
  "language_info": {
   "codemirror_mode": {
    "name": "ipython",
    "version": 3
   },
   "file_extension": ".py",
   "mimetype": "text/x-python",
   "name": "python",
   "nbconvert_exporter": "python",
   "pygments_lexer": "ipython3",
   "version": "3.6.9"
  }
 },
 "nbformat": 4,
 "nbformat_minor": 5
}
