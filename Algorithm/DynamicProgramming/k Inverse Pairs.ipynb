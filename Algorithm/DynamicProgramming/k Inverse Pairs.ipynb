{
 "cells": [
  {
   "cell_type": "code",
   "execution_count": null,
   "id": "2cb33391",
   "metadata": {},
   "outputs": [],
   "source": [
    "    \n",
    "\"\"\"\n",
    "https://leetcode.com/problems/k-inverse-pairs-array/\n",
    "\n",
    "Input: n = 3, k = 0\n",
    "Output: 1\n",
    "Explanation: Only the array [1,2,3] which consists of numbers from 1 to 3 has exactly 0 inverse pairs.\n",
    "\n",
    "Input: n = 3, k = 1\n",
    "Output: 2\n",
    "Explanation: The array [1,3,2] and [2,1,3] have exactly 1 inverse pair.\n",
    "\n",
    "\"\"\"\n",
    "    \n",
    "    \n",
    "        k \n",
    "        0           1                 2                 3             4                5                    6\n",
    "  n\n",
    "\n",
    "1      1          0\n",
    "      \n",
    "2      1          1                   0\n",
    "     [1,2]      [2, 1]\n",
    "    \n",
    "3      1          2                    2                1             0\n",
    "               [1,3, 2]  2:0       [3, 1, 2]          [3, 2, 1]\n",
    "               [2,1, 3]  2:1       [2, 3, 1]  \n",
    "        \n",
    "4      1          3                    5                6             5                  3                 1\n",
    "                [1,2,4,3]           [1,3,4,2]         [4,1,2,3]     [4,1,3,2] 3:1+3    [4,3,1,2] 3:2+3   [4,3,2,1]\n",
    "                [1,3,2,4]           [2,1,4,3]         [1,4,3,2]     [4,2,1,3] 3:1+3\n",
    "                [2,1,3,4]           [3,1,2,4]         \n",
    "                                    [2,3,1,4]\n",
    "                                    [1,4,2,3]         [3,2,1,4]"
   ]
  },
  {
   "cell_type": "code",
   "execution_count": 26,
   "id": "293406a4",
   "metadata": {},
   "outputs": [
    {
     "data": {
      "text/plain": [
       "663677020"
      ]
     },
     "execution_count": 26,
     "metadata": {},
     "output_type": "execute_result"
    }
   ],
   "source": [
    "def kInversePairs(n, k):\n",
    "    if k == 0:\n",
    "        return 1\n",
    "    dp = [[0] * (k+1) for _ in range(n)]\n",
    "#     print(dp)\n",
    "    M = 1000000007\n",
    "    dp[0][0] = 0\n",
    "    for i in range(n):\n",
    "        for j in range(k+1):\n",
    "            if j==0:\n",
    "                dp[i][j] = 1\n",
    "            else:\n",
    "                dp[i][j] = sum(dp[i-1][max(0, j-i):j+1]) % M\n",
    "\n",
    "#     print(dp)\n",
    "    return dp[n-1][k]\n",
    "\n",
    "\n",
    "n, k=3, 3\n",
    "n, k = 1000, 1000\n",
    "kInversePairs(n, k)    "
   ]
  },
  {
   "cell_type": "code",
   "execution_count": null,
   "id": "6a781362",
   "metadata": {},
   "outputs": [],
   "source": []
  }
 ],
 "metadata": {
  "kernelspec": {
   "display_name": "Python 3",
   "language": "python",
   "name": "python3"
  },
  "language_info": {
   "codemirror_mode": {
    "name": "ipython",
    "version": 3
   },
   "file_extension": ".py",
   "mimetype": "text/x-python",
   "name": "python",
   "nbconvert_exporter": "python",
   "pygments_lexer": "ipython3",
   "version": "3.6.9"
  }
 },
 "nbformat": 4,
 "nbformat_minor": 5
}
