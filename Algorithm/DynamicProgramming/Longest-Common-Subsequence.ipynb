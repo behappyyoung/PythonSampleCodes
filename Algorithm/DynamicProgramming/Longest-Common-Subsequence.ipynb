{
 "cells": [
  {
   "cell_type": "code",
   "execution_count": null,
   "metadata": {},
   "outputs": [],
   "source": [
    "def lengthofLIS(nums):\n",
    "    if not nums:\n",
    "        return 0\n",
    "    dp = [1]*len(nums)\n",
    "    max_l = 1\n",
    "    for i in range(1, len(nums)):\n",
    "        for j in range(i):\n",
    "            if nums[i] > nums[j]:\n",
    "                dp[i] = max(dp[j]+1, dp[i])\n",
    "            \n",
    "            max_l = max(max_l, dp[i])\n",
    "            print(i, j, dp[i], nums[i], nums[j])\n",
    "    return max_l\n",
    "\n",
    "a = [10, 9, 2, 5, 3, 7, 100]\n",
    "print(lengthofLIS(a))"
   ]
  },
  {
   "cell_type": "code",
   "execution_count": 15,
   "metadata": {},
   "outputs": [
    {
     "name": "stdout",
     "output_type": "stream",
     "text": [
      "[[3, 2, 1, 1], [3, 2, 1, 0], [3, 2, 1, 0], [-1, 2, 1, 0], [1, 1, 1, 0]]\n",
      "3\n"
     ]
    }
   ],
   "source": [
    "\"\"\"\n",
    "https://leetcode.com/problems/longest-common-subsequence/\n",
    "\n",
    "Input: text1 = \"abcde\", text2 = \"ace\" \n",
    "Output: 3  \n",
    "Explanation: The longest common subsequence is \"ace\" and its length is 3.\n",
    "\n",
    "\"\"\"\n",
    "def longestCommonSubsequence(text1, text2):\n",
    "    l1 = len(text1)\n",
    "    l2 = len(text2)\n",
    "    \n",
    "    dp = [[-1]*l2 for _ in range(l1)]\n",
    "    \n",
    "    def lcs(t1_index, t2_index):\n",
    "        \n",
    "        if t1_index > l1-1 or t2_index > l2-1:\n",
    "            return 0\n",
    "        if dp[t1_index][t2_index] != -1:\n",
    "            return dp[t1_index][t2_index]\n",
    "        \n",
    "        max_lcs = 0\n",
    "        clcs = llcs = rlcs = 0\n",
    "        for i in range(t1_index, l1):\n",
    "            for j in range(t2_index, l2):\n",
    "                if text1[i]==text2[j]:\n",
    "                    clcs = 1 + lcs(i+1, j+1)\n",
    "                else:\n",
    "                    llcs = lcs(i+1,j)\n",
    "                    rlcs = lcs(i, j+1)\n",
    "                \n",
    "                max_lcs = max(max_lcs, llcs, rlcs, clcs)\n",
    "\n",
    "        dp[t1_index][t2_index] = max_lcs\n",
    "        return max_lcs\n",
    "    \n",
    "    m = lcs(0, 0)\n",
    "    print(dp)\n",
    "    return m \n",
    "        \n",
    "\n",
    "t1 = 'abcde';t2='ace'\n",
    "t1 = 'abcde';t2='cdea'\n",
    "print(longestCommonSubsequence(t1, t2))\n",
    "                "
   ]
  },
  {
   "cell_type": "code",
   "execution_count": 19,
   "metadata": {},
   "outputs": [
    {
     "name": "stdout",
     "output_type": "stream",
     "text": [
      "[[0, 0, 0, 0, 0], [0, 0, 0, 0, 1], [0, 0, 0, 0, 1], [0, 1, 1, 1, 1], [0, 1, 2, 2, 2], [0, 1, 2, 3, 3]]\n",
      "3\n"
     ]
    }
   ],
   "source": [
    "def lcs(text1, text2):\n",
    "    l1 = len(text1)\n",
    "    l2 = len(text2)\n",
    "    \n",
    "    dp = [[0]*(l2+1) for _ in range(l1+1)]\n",
    "    \n",
    "\n",
    "    for i in range(l1+1):\n",
    "            for j in range(l2+1):\n",
    "                if i==0 or j==0:\n",
    "                    dp[i][j]=0\n",
    "                elif text1[i-1] ==  text2[j-1]:\n",
    "                    dp[i][j] = dp[i-1][j-1]+1\n",
    "                else:\n",
    "                    dp[i][j] = max(dp[i-1][j], dp[i][j-1])\n",
    "            \n",
    "    \n",
    "    print(dp)\n",
    "    return dp[l1][l2]\n",
    "t1 = 'abcde';t2='cdea'\n",
    "print(lcs(t1, t2))"
   ]
  },
  {
   "cell_type": "code",
   "execution_count": 40,
   "metadata": {},
   "outputs": [
    {
     "name": "stdout",
     "output_type": "stream",
     "text": [
      "[[0, 0, 0, 0, 0], [0, 0, 0, 0, 0], [0, 0, 0, 0, 0], [0, 0, 0, 0, 0], [0, 0, 0, 0, 0], [0, 0, 0, 0, 0], [0, 0, 0, 0, 0]] 0\n",
      "[[0, 1, 2, 3, 4], [1, 2, 3, 4, 5], [2, 3, 2, 3, 4], [3, 2, 3, 4, 5], [4, 3, 2, 3, 4], [5, 4, 3, 4, 3], [6, 5, 4, 3, 4]]\n",
      "4\n"
     ]
    }
   ],
   "source": [
    "\"\"\"\n",
    "https://leetcode.com/problems/delete-operation-for-two-strings/\n",
    "\"\"\"\n",
    "def minDistance(word1, word2):\n",
    "    l1 = len(word1)\n",
    "    l2 = len(word2)\n",
    "    if l1 == 0 or l2 ==0:\n",
    "            return max(l1, l2)\n",
    "    dp = [[0]*(l2+1) for j in range(l1+1)]\n",
    "\n",
    "    print(dp, dp[1][0])\n",
    "    for i in range(l1+1):\n",
    "                for j in range(l2+1):\n",
    "                    if i==0:\n",
    "                        dp[0][j]=j\n",
    "                    elif j == 0:\n",
    "                        dp[i][0]=i\n",
    "                    elif word1[i-1] ==  word2[j-1]:\n",
    "                        dp[i][j] = dp[i-1][j-1]\n",
    "                    else:\n",
    "                        \n",
    "                        dp[i][j] = min(dp[i-1][j], dp[i][j-1]) + 1\n",
    "#                     print(i, j,dp[i-1][j], dp[i][j-1], dp[i][j])\n",
    "    \n",
    "    \n",
    "    print(dp)\n",
    "    return dp[l1][l2]\n",
    "t1 = 'abcde';t2='cdea'\n",
    "t1 = 'delete';t2='leet'\n",
    "print(minDistance(t1, t2))"
   ]
  },
  {
   "cell_type": "code",
   "execution_count": 62,
   "metadata": {},
   "outputs": [
    {
     "name": "stdout",
     "output_type": "stream",
     "text": [
      "41731\n"
     ]
    }
   ],
   "source": [
    "\"\"\"\n",
    "https://leetcode.com/problems/minimum-ascii-delete-sum-for-two-strings/\n",
    "\n",
    "Minimum ASCII Delete Sum for Two Strings\n",
    "\n",
    "Input: s1 = \"delete\", s2 = \"leet\"\n",
    "Output: 403\n",
    "Explanation: Deleting \"dee\" from \"delete\" to turn the string into \"let\",\n",
    "adds 100[d]+101[e]+101[e] to the sum.  Deleting \"e\" from \"leet\" adds 101[e] to the sum.\n",
    "At the end, both strings are equal to \"let\", and the answer is 100+101+101+101 = 403.\n",
    "If instead we turned both strings into \"lee\" or \"eet\", we would get answers of 433 or 417, which are higher.\n",
    "\n",
    "\"\"\"\n",
    "def minimumDeleteSum(word1, word2):\n",
    "\n",
    "    l1 = len(word1)\n",
    "    l2 = len(word2)\n",
    "    if l1 == 0 or l2 ==0:\n",
    "            return max(l1, l2)\n",
    "    dp = [[0]*(l2+1) for j in range(l1+1)]\n",
    "    path_l = []\n",
    "    for i in range(l1+1):\n",
    "                for j in range(l2+1):\n",
    "                    if i == 0 and j == 0:\n",
    "                        dp[0][0] = 0\n",
    "                    elif i==0:\n",
    "                        dp[0][j]= dp[0][j-1] + ord(word2[j-1])\n",
    "                    elif j == 0:\n",
    "                        dp[i][0]= dp[i-1][0] + ord(word1[i-1])\n",
    "                    elif word1[i-1] ==  word2[j-1]:\n",
    "                        dp[i][j] = dp[i-1][j-1]\n",
    "                    else:\n",
    "                        dp[i][j] = min(dp[i-1][j] + ord(word1[i-1]), dp[i][j-1] + ord(word2[j-1]))\n",
    "\n",
    "#     print(dp)\n",
    "    return dp[l1][l2]\n",
    "t1 = 'abcde';t2='cdea'\n",
    "t1 = 'delete';t2='leet'\n",
    "t1 = \"igijekdtywibepwonjbwykkqmrgmtybwhwjiqudxmnniskqjfbkpcxukrablqmwjndlhblxflgehddrvwfacarwkcpmcfqnajqfxyqwiugztocqzuikamtvmbjrypfqvzqiwooewpzcpwhdejmuahqtukistxgfafrymoaodtluaexucnndlnpeszdfsvfofdylcicrrevjggasrgdhwdgjwcchyanodmzmuqeupnpnsmdkcfszznklqjhjqaboikughrnxxggbfyjriuvdsusvmhiaszicfa\"\n",
    "t2 = \"ikhuivqorirphlzqgcruwirpewbjgrjtugwpnkbrdfufjsmgzzjespzdcdjcoioaqybciofdzbdieegetnogoibbwfielwungehetanktjqjrddkrnsxvdmehaeyrpzxrxkhlepdgpwhgpnaatkzbxbnopecfkxoekcdntjyrmmvppcxcgquhomcsltiqzqzmkloomvfayxhawlyqxnsbyskjtzxiyrsaobbnjpgzmetpqvscyycutdkpjpzfokvi\"\n",
    "# 41731\n",
    "print(minimumDeleteSum(t1, t2))\n",
    "        \n",
    "        \n",
    "        \n",
    "        "
   ]
  },
  {
   "cell_type": "code",
   "execution_count": 21,
   "metadata": {},
   "outputs": [
    {
     "data": {
      "text/plain": [
       "[[0, 1, 2, 3], [1, 2, 3, 4], [2, 3, 4, 5], [3, 4, 5, 6]]"
      ]
     },
     "execution_count": 21,
     "metadata": {},
     "output_type": "execute_result"
    }
   ],
   "source": [
    "[[(i+j) for i in range(4)] for j in range(4)]"
   ]
  },
  {
   "cell_type": "code",
   "execution_count": 52,
   "metadata": {},
   "outputs": [
    {
     "data": {
      "text/plain": [
       "115"
      ]
     },
     "execution_count": 52,
     "metadata": {},
     "output_type": "execute_result"
    }
   ],
   "source": [
    "t1 = 'abcde';t2='cdea'\n",
    "[[(i+j) for i in range(len(t1))] for j in range(len(t1))]"
   ]
  },
  {
   "cell_type": "code",
   "execution_count": 55,
   "metadata": {},
   "outputs": [
    {
     "data": {
      "text/plain": [
       "108"
      ]
     },
     "execution_count": 55,
     "metadata": {},
     "output_type": "execute_result"
    }
   ],
   "source": [
    "\n",
    "ord('l')"
   ]
  },
  {
   "cell_type": "code",
   "execution_count": null,
   "metadata": {},
   "outputs": [],
   "source": []
  }
 ],
 "metadata": {
  "kernelspec": {
   "display_name": "Python 3",
   "language": "python",
   "name": "python3"
  },
  "language_info": {
   "codemirror_mode": {
    "name": "ipython",
    "version": 3
   },
   "file_extension": ".py",
   "mimetype": "text/x-python",
   "name": "python",
   "nbconvert_exporter": "python",
   "pygments_lexer": "ipython3",
   "version": "3.6.9"
  }
 },
 "nbformat": 4,
 "nbformat_minor": 2
}
